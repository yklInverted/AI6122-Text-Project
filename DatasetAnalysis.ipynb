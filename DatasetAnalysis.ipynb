{
 "cells": [
  {
   "cell_type": "code",
   "execution_count": 39,
   "metadata": {},
   "outputs": [],
   "source": [
    "import nltk\n",
    "import pandas as pd\n",
    "import numpy as np\n",
    "import sys\n",
    "import os\n",
    "\n",
    "from data_loader import DataLoader"
   ]
  },
  {
   "cell_type": "code",
   "execution_count": null,
   "metadata": {},
   "outputs": [],
   "source": [
    "loader = DataLoader(DataLoader.data_path1)\n",
    "table = loader.load_table()\n",
    "table.head()"
   ]
  },
  {
   "cell_type": "code",
   "execution_count": 4,
   "metadata": {},
   "outputs": [
    {
     "data": {
      "text/plain": [
       "['Cat Stevens at his peak with sparse sounds of acoustic guitar and his original band from Tea For The Tillerman.',\n",
       " 'Good stuff.',\n",
       " 'Several hits &#34;Moonshadow&#34;, &#34;Peace Train&#34;, &#34;How Can I Tell You&#34;, &#34;If I Laugh&#34;.']"
      ]
     },
     "execution_count": 4,
     "metadata": {},
     "output_type": "execute_result"
    }
   ],
   "source": [
    "#sentence segmentation\n",
    "chunk = table['reviewText'][3]\n",
    "\n",
    "sentences = nltk.sent_tokenize(chunk)\n",
    "sentences[:3]"
   ]
  },
  {
   "cell_type": "code",
   "execution_count": 5,
   "metadata": {},
   "outputs": [
    {
     "data": {
      "text/plain": [
       "['Cat',\n",
       " 'Stevens',\n",
       " 'at',\n",
       " 'his',\n",
       " 'peak',\n",
       " 'with',\n",
       " 'sparse',\n",
       " 'sounds',\n",
       " 'of',\n",
       " 'acoustic']"
      ]
     },
     "execution_count": 5,
     "metadata": {},
     "output_type": "execute_result"
    }
   ],
   "source": [
    "#tokenize\n",
    "sentence = sentences[0]\n",
    "\n",
    "tokens = nltk.word_tokenize(sentence)\n",
    "tokens[:10]"
   ]
  },
  {
   "cell_type": "code",
   "execution_count": 6,
   "metadata": {},
   "outputs": [
    {
     "data": {
      "text/plain": [
       "[('Cat', 'NNP'),\n",
       " ('Stevens', 'NNP'),\n",
       " ('at', 'IN'),\n",
       " ('his', 'PRP$'),\n",
       " ('peak', 'NN')]"
      ]
     },
     "execution_count": 6,
     "metadata": {},
     "output_type": "execute_result"
    }
   ],
   "source": [
    "#pos tagging\n",
    "tagged = nltk.pos_tag(tokens)\n",
    "tagged[:5]"
   ]
  },
  {
   "cell_type": "code",
   "execution_count": 78,
   "metadata": {},
   "outputs": [],
   "source": [
    "\n",
    "def is_word(str):\n",
    "    for char in str:\n",
    "        if not char.isalpha():\n",
    "            return False\n",
    "    return True \n",
    "\n",
    "def calculate_words(dataset):\n",
    "    word_table = {}\n",
    "    total_words = 0\n",
    "    for sentence in dataset:\n",
    "        tokens = nltk.word_tokenize(sentence)\n",
    "        for word in tokens:\n",
    "            if is_word(word):\n",
    "                total_words += 1\n",
    "                if word in word_table.keys():\n",
    "                    word_table[word] += 1\n",
    "                else:\n",
    "                    word_table[word] = 1\n",
    "\n",
    "    return total_words, word_table\n",
    "\n",
    "def get_prob_list(sum, word_table):\n",
    "    prob_table = {}\n",
    "    for key, val in word_table.items():\n",
    "        prob_table[key] = val/sum\n",
    "\n",
    "    return prob_table\n",
    "\n",
    "def calculate_relative_entropy(prob_table1, prob_table2):\n",
    "\n",
    "    RE_list1 = []\n",
    "    RE_list2 = []\n",
    "    for key, val in prob_table1.items():\n",
    "\n",
    "        if key in prob_table2.keys():\n",
    "\n",
    "            relative_entropy1 = val * np.log(val / prob_table2[key])\n",
    "            RE_list1.append((key, relative_entropy1))\n",
    "\n",
    "            relative_entropy2 = prob_table2[key] * np.log(prob_table2[key] / val)\n",
    "            RE_list2.append((key, relative_entropy2))\n",
    "\n",
    "    RE_list1.sort(key = lambda x:x[1], reverse = True)\n",
    "    RE_list2.sort(key = lambda x:x[1], reverse = True)\n",
    "\n",
    "    return RE_list1, RE_list2"
   ]
  },
  {
   "cell_type": "code",
   "execution_count": null,
   "metadata": {},
   "outputs": [],
   "source": [
    "#Measure Indicative words\n",
    "loader = DataLoader(DataLoader.data_path1)\n",
    "dataset1 = loader.load_review_text()\n",
    "\n",
    "loader = DataLoader(DataLoader.data_path2)\n",
    "dataset2 = loader.load_review_text()"
   ]
  },
  {
   "cell_type": "code",
   "execution_count": 79,
   "metadata": {},
   "outputs": [],
   "source": [
    "sum1, word_table1 = calculate_words(dataset1)\n",
    "sum2, word_table2 = calculate_words(dataset2)\n",
    "prob_list1 = get_prob_list(sum1, word_table1)\n",
    "prob_list2 = get_prob_list(sum2, word_table2)\n",
    "\n",
    "ind_list1, ind_list2 = calculate_relative_entropy(prob_list1, prob_list2)"
   ]
  },
  {
   "cell_type": "code",
   "execution_count": 84,
   "metadata": {},
   "outputs": [
    {
     "data": {
      "text/plain": [
       "[('book', 0.04466063946225474),\n",
       " ('story', 0.02118670124060069),\n",
       " ('read', 0.01931629403493282),\n",
       " ('I', 0.014790792266521843),\n",
       " ('her', 0.011932724944625953),\n",
       " ('to', 0.01184530725887092),\n",
       " ('author', 0.010299360464959396),\n",
       " ('series', 0.009248887366531578),\n",
       " ('books', 0.006240926884376884),\n",
       " ('character', 0.005800458780082896),\n",
       " ('for', 0.005626339939518006),\n",
       " ('was', 0.005066617600304119),\n",
       " ('she', 0.004969438179202577),\n",
       " ('in', 0.004654059640483568),\n",
       " ('love', 0.004474370920164867),\n",
       " ('and', 0.004173016292200291),\n",
       " ('he', 0.003080925092165508),\n",
       " ('so', 0.003031492537429425),\n",
       " ('enjoyed', 0.0029086398786697548),\n",
       " ('plot', 0.002886732524653327)]"
      ]
     },
     "execution_count": 84,
     "metadata": {},
     "output_type": "execute_result"
    }
   ],
   "source": [
    "ind_list1[:20]"
   ]
  }
 ],
 "metadata": {
  "kernelspec": {
   "display_name": "Python 3.10.4 ('torch')",
   "language": "python",
   "name": "python3"
  },
  "language_info": {
   "codemirror_mode": {
    "name": "ipython",
    "version": 3
   },
   "file_extension": ".py",
   "mimetype": "text/x-python",
   "name": "python",
   "nbconvert_exporter": "python",
   "pygments_lexer": "ipython3",
   "version": "3.10.4"
  },
  "orig_nbformat": 4,
  "vscode": {
   "interpreter": {
    "hash": "690c9ea092c8a6fc9517542155c4d05fadb9e10c4733225e6f103cd30826cc12"
   }
  }
 },
 "nbformat": 4,
 "nbformat_minor": 2
}
