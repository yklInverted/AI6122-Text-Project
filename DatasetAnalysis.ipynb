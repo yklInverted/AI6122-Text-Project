{
 "cells": [
  {
   "cell_type": "code",
   "execution_count": 39,
   "metadata": {},
   "outputs": [],
   "source": [
    "import nltk\n",
    "import pandas as pd\n",
    "import numpy as np\n",
    "import sys\n",
    "import os\n",
    "\n",
    "from data_loader import DataLoader"
   ]
  },
  {
   "cell_type": "code",
   "execution_count": 87,
   "metadata": {},
   "outputs": [
    {
     "name": "stderr",
     "output_type": "stream",
     "text": [
      "d:\\study\\NTU_LEARN\\AI6122 TEXT MANAGEMENT & PROCESSING\\project\\data_loader.py:13: FutureWarning: Starting with pandas version 2.0 all arguments of read_json except for the argument 'path_or_buf' will be keyword-only.\n",
      "  self.table = pd.read_json(data_path, 'records', lines = True);\n"
     ]
    },
    {
     "data": {
      "text/html": [
       "<div>\n",
       "<style scoped>\n",
       "    .dataframe tbody tr th:only-of-type {\n",
       "        vertical-align: middle;\n",
       "    }\n",
       "\n",
       "    .dataframe tbody tr th {\n",
       "        vertical-align: top;\n",
       "    }\n",
       "\n",
       "    .dataframe thead th {\n",
       "        text-align: right;\n",
       "    }\n",
       "</style>\n",
       "<table border=\"1\" class=\"dataframe\">\n",
       "  <thead>\n",
       "    <tr style=\"text-align: right;\">\n",
       "      <th></th>\n",
       "      <th>reviewerID</th>\n",
       "      <th>asin</th>\n",
       "      <th>reviewerName</th>\n",
       "      <th>helpful</th>\n",
       "      <th>reviewText</th>\n",
       "      <th>overall</th>\n",
       "      <th>summary</th>\n",
       "      <th>unixReviewTime</th>\n",
       "      <th>reviewTime</th>\n",
       "    </tr>\n",
       "  </thead>\n",
       "  <tbody>\n",
       "    <tr>\n",
       "      <th>0</th>\n",
       "      <td>AT4EF6GQ3T0Q5</td>\n",
       "      <td>B00JRBN26M</td>\n",
       "      <td>Amazon Customer</td>\n",
       "      <td>[0, 0]</td>\n",
       "      <td>This was  a sweet story.  The characters were ...</td>\n",
       "      <td>3</td>\n",
       "      <td>enjoyable read</td>\n",
       "      <td>1398643200</td>\n",
       "      <td>04 28, 2014</td>\n",
       "    </tr>\n",
       "    <tr>\n",
       "      <th>1</th>\n",
       "      <td>A3RFYXX3H7LRR6</td>\n",
       "      <td>B00HHBV6AS</td>\n",
       "      <td>Virginia E. Murdy \"MOTHER OF 8\"</td>\n",
       "      <td>[0, 0]</td>\n",
       "      <td>Always wonder about angels being among usFaith...</td>\n",
       "      <td>5</td>\n",
       "      <td>a very good series</td>\n",
       "      <td>1388361600</td>\n",
       "      <td>12 30, 2013</td>\n",
       "    </tr>\n",
       "    <tr>\n",
       "      <th>2</th>\n",
       "      <td>A2CCJVE96Z6JWX</td>\n",
       "      <td>B00A8QWOOQ</td>\n",
       "      <td>swebb</td>\n",
       "      <td>[0, 0]</td>\n",
       "      <td>The book moved fast, quick interesting read.  ...</td>\n",
       "      <td>4</td>\n",
       "      <td>Fast moving captivating</td>\n",
       "      <td>1370995200</td>\n",
       "      <td>06 12, 2013</td>\n",
       "    </tr>\n",
       "    <tr>\n",
       "      <th>3</th>\n",
       "      <td>A28H2ESL4ZZJEN</td>\n",
       "      <td>B00HZZNBZ4</td>\n",
       "      <td>mandymonkey82</td>\n",
       "      <td>[4, 4]</td>\n",
       "      <td>Marian Tee has thoughtfully put her paranormal...</td>\n",
       "      <td>5</td>\n",
       "      <td>a wonderful intro</td>\n",
       "      <td>1392595200</td>\n",
       "      <td>02 17, 2014</td>\n",
       "    </tr>\n",
       "    <tr>\n",
       "      <th>4</th>\n",
       "      <td>ALPNQV67BWS8L</td>\n",
       "      <td>B00FQTN1BA</td>\n",
       "      <td>Thashmira Hemantha</td>\n",
       "      <td>[0, 0]</td>\n",
       "      <td>Money Flow offers the reader a deadly concocti...</td>\n",
       "      <td>5</td>\n",
       "      <td>money flow</td>\n",
       "      <td>1385164800</td>\n",
       "      <td>11 23, 2013</td>\n",
       "    </tr>\n",
       "  </tbody>\n",
       "</table>\n",
       "</div>"
      ],
      "text/plain": [
       "       reviewerID        asin                     reviewerName helpful  \\\n",
       "0   AT4EF6GQ3T0Q5  B00JRBN26M                  Amazon Customer  [0, 0]   \n",
       "1  A3RFYXX3H7LRR6  B00HHBV6AS  Virginia E. Murdy \"MOTHER OF 8\"  [0, 0]   \n",
       "2  A2CCJVE96Z6JWX  B00A8QWOOQ                            swebb  [0, 0]   \n",
       "3  A28H2ESL4ZZJEN  B00HZZNBZ4                    mandymonkey82  [4, 4]   \n",
       "4   ALPNQV67BWS8L  B00FQTN1BA               Thashmira Hemantha  [0, 0]   \n",
       "\n",
       "                                          reviewText  overall  \\\n",
       "0  This was  a sweet story.  The characters were ...        3   \n",
       "1  Always wonder about angels being among usFaith...        5   \n",
       "2  The book moved fast, quick interesting read.  ...        4   \n",
       "3  Marian Tee has thoughtfully put her paranormal...        5   \n",
       "4  Money Flow offers the reader a deadly concocti...        5   \n",
       "\n",
       "                   summary  unixReviewTime   reviewTime  \n",
       "0           enjoyable read      1398643200  04 28, 2014  \n",
       "1       a very good series      1388361600  12 30, 2013  \n",
       "2  Fast moving captivating      1370995200  06 12, 2013  \n",
       "3        a wonderful intro      1392595200  02 17, 2014  \n",
       "4               money flow      1385164800  11 23, 2013  "
      ]
     },
     "execution_count": 87,
     "metadata": {},
     "output_type": "execute_result"
    }
   ],
   "source": [
    "loader = DataLoader(DataLoader.data_path1)\n",
    "table = loader.load_table()\n",
    "table.head()"
   ]
  },
  {
   "cell_type": "code",
   "execution_count": 4,
   "metadata": {},
   "outputs": [
    {
     "data": {
      "text/plain": [
       "['Cat Stevens at his peak with sparse sounds of acoustic guitar and his original band from Tea For The Tillerman.',\n",
       " 'Good stuff.',\n",
       " 'Several hits &#34;Moonshadow&#34;, &#34;Peace Train&#34;, &#34;How Can I Tell You&#34;, &#34;If I Laugh&#34;.']"
      ]
     },
     "execution_count": 4,
     "metadata": {},
     "output_type": "execute_result"
    }
   ],
   "source": [
    "#sentence segmentation\n",
    "chunk = table['reviewText'][3]\n",
    "\n",
    "sentences = nltk.sent_tokenize(chunk)\n",
    "sentences[:3]"
   ]
  },
  {
   "cell_type": "code",
   "execution_count": 5,
   "metadata": {},
   "outputs": [
    {
     "data": {
      "text/plain": [
       "['Cat',\n",
       " 'Stevens',\n",
       " 'at',\n",
       " 'his',\n",
       " 'peak',\n",
       " 'with',\n",
       " 'sparse',\n",
       " 'sounds',\n",
       " 'of',\n",
       " 'acoustic']"
      ]
     },
     "execution_count": 5,
     "metadata": {},
     "output_type": "execute_result"
    }
   ],
   "source": [
    "#tokenize\n",
    "sentence = sentences[0]\n",
    "\n",
    "tokens = nltk.word_tokenize(sentence)\n",
    "tokens[:10]"
   ]
  },
  {
   "cell_type": "code",
   "execution_count": 6,
   "metadata": {},
   "outputs": [
    {
     "data": {
      "text/plain": [
       "[('Cat', 'NNP'),\n",
       " ('Stevens', 'NNP'),\n",
       " ('at', 'IN'),\n",
       " ('his', 'PRP$'),\n",
       " ('peak', 'NN')]"
      ]
     },
     "execution_count": 6,
     "metadata": {},
     "output_type": "execute_result"
    }
   ],
   "source": [
    "#pos tagging\n",
    "tagged = nltk.pos_tag(tokens)\n",
    "tagged[:5]"
   ]
  },
  {
   "cell_type": "code",
   "execution_count": 95,
   "metadata": {},
   "outputs": [],
   "source": [
    "from nltk.corpus import stopwords\n",
    "\n",
    "def is_word(str):\n",
    "    for char in str:\n",
    "        if not char.isalpha():\n",
    "            return False\n",
    "    return True \n",
    "\n",
    "def calculate_words(dataset):\n",
    "    word_table = {}\n",
    "    total_words = 0\n",
    "    for sentence in dataset:\n",
    "        tokens = nltk.word_tokenize(sentence)\n",
    "        for word in tokens:\n",
    "            if is_word(word):\n",
    "                total_words += 1\n",
    "                if word in word_table.keys() and word not in stopwords.words('english'):\n",
    "                    word_table[word] += 1\n",
    "                else:\n",
    "                    word_table[word] = 1\n",
    "\n",
    "    return total_words, word_table\n",
    "\n",
    "def get_prob_list(sum, word_table):\n",
    "    prob_table = {}\n",
    "    for key, val in word_table.items():\n",
    "        prob_table[key] = val/sum\n",
    "\n",
    "    return prob_table\n",
    "\n",
    "def calculate_relative_entropy(prob_table1, prob_table2):\n",
    "\n",
    "    RE_list1 = []\n",
    "    RE_list2 = []\n",
    "    for key, val in prob_table1.items():\n",
    "\n",
    "        if key in prob_table2.keys():\n",
    "\n",
    "            relative_entropy1 = val * np.log(val / prob_table2[key])\n",
    "            RE_list1.append((key, relative_entropy1))\n",
    "\n",
    "            relative_entropy2 = prob_table2[key] * np.log(prob_table2[key] / val)\n",
    "            RE_list2.append((key, relative_entropy2))\n",
    "\n",
    "    RE_list1.sort(key = lambda x:x[1], reverse = True)\n",
    "    RE_list2.sort(key = lambda x:x[1], reverse = True)\n",
    "\n",
    "    return RE_list1, RE_list2"
   ]
  },
  {
   "cell_type": "code",
   "execution_count": 96,
   "metadata": {},
   "outputs": [
    {
     "name": "stderr",
     "output_type": "stream",
     "text": [
      "d:\\study\\NTU_LEARN\\AI6122 TEXT MANAGEMENT & PROCESSING\\project\\data_loader.py:13: FutureWarning: Starting with pandas version 2.0 all arguments of read_json except for the argument 'path_or_buf' will be keyword-only.\n",
      "  self.table = pd.read_json(data_path, 'records', lines = True);\n",
      "d:\\study\\NTU_LEARN\\AI6122 TEXT MANAGEMENT & PROCESSING\\project\\data_loader.py:13: FutureWarning: Starting with pandas version 2.0 all arguments of read_json except for the argument 'path_or_buf' will be keyword-only.\n",
      "  self.table = pd.read_json(data_path, 'records', lines = True);\n"
     ]
    }
   ],
   "source": [
    "#Measure Indicative words\n",
    "loader = DataLoader(DataLoader.data_path1)\n",
    "dataset1 = loader.load_review_text()\n",
    "\n",
    "loader = DataLoader(DataLoader.data_path2)\n",
    "dataset2 = loader.load_review_text()"
   ]
  },
  {
   "cell_type": "code",
   "execution_count": 97,
   "metadata": {},
   "outputs": [],
   "source": [
    "sum1, word_table1 = calculate_words(dataset1)\n",
    "sum2, word_table2 = calculate_words(dataset2)\n",
    "prob_list1 = get_prob_list(sum1, word_table1)\n",
    "prob_list2 = get_prob_list(sum2, word_table2)\n",
    "\n",
    "ind_list1, ind_list2 = calculate_relative_entropy(prob_list1, prob_list2)"
   ]
  },
  {
   "cell_type": "code",
   "execution_count": 99,
   "metadata": {},
   "outputs": [
    {
     "data": {
      "text/plain": [
       "[('song', 0.014766177546912972),\n",
       " ('music', 0.0071036697697155135),\n",
       " ('The', 0.0055078361602734745),\n",
       " ('single', 0.004060209009021712),\n",
       " ('On', 0.003848763992664141),\n",
       " ('rock', 0.0034322229392648425),\n",
       " ('Me', 0.00312575046375914),\n",
       " ('best', 0.003022551776981975),\n",
       " ('You', 0.002916480127506034),\n",
       " ('voice', 0.002754945225920294)]"
      ]
     },
     "execution_count": 99,
     "metadata": {},
     "output_type": "execute_result"
    }
   ],
   "source": [
    "ind_list2[:10]"
   ]
  },
  {
   "cell_type": "code",
   "execution_count": 93,
   "metadata": {},
   "outputs": [
    {
     "data": {
      "text/plain": [
       "True"
      ]
     },
     "execution_count": 93,
     "metadata": {},
     "output_type": "execute_result"
    }
   ],
   "source": [
    "from nltk.corpus import stopwords\n",
    "\n",
    "nltk_stopwords = stopwords.words('english')\n",
    "'on' in nltk_stopwords"
   ]
  },
  {
   "cell_type": "code",
   "execution_count": null,
   "metadata": {},
   "outputs": [],
   "source": []
  }
 ],
 "metadata": {
  "kernelspec": {
   "display_name": "Python 3.10.4 ('torch')",
   "language": "python",
   "name": "python3"
  },
  "language_info": {
   "codemirror_mode": {
    "name": "ipython",
    "version": 3
   },
   "file_extension": ".py",
   "mimetype": "text/x-python",
   "name": "python",
   "nbconvert_exporter": "python",
   "pygments_lexer": "ipython3",
   "version": "3.10.4"
  },
  "orig_nbformat": 4,
  "vscode": {
   "interpreter": {
    "hash": "690c9ea092c8a6fc9517542155c4d05fadb9e10c4733225e6f103cd30826cc12"
   }
  }
 },
 "nbformat": 4,
 "nbformat_minor": 2
}
