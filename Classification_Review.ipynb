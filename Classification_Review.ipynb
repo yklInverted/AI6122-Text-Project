{
 "cells": [
  {
   "cell_type": "code",
   "execution_count": 1,
   "metadata": {},
   "outputs": [],
   "source": [
    "#install packages\n",
    "import pandas as pd\n",
    "import os"
   ]
  },
  {
   "cell_type": "code",
   "execution_count": 74,
   "metadata": {},
   "outputs": [
    {
     "name": "stderr",
     "output_type": "stream",
     "text": [
      "C:\\Users\\lky\\AppData\\Local\\Temp\\ipykernel_33140\\2885759717.py:2: FutureWarning: Starting with pandas version 2.0 all arguments of read_json except for the argument 'path_or_buf' will be keyword-only.\n",
      "  table = pd.read_json(data_path, 'records', lines = True).reset_index(drop = True, inplace = False)\n"
     ]
    },
    {
     "data": {
      "text/html": [
       "<div>\n",
       "<style scoped>\n",
       "    .dataframe tbody tr th:only-of-type {\n",
       "        vertical-align: middle;\n",
       "    }\n",
       "\n",
       "    .dataframe tbody tr th {\n",
       "        vertical-align: top;\n",
       "    }\n",
       "\n",
       "    .dataframe thead th {\n",
       "        text-align: right;\n",
       "    }\n",
       "</style>\n",
       "<table border=\"1\" class=\"dataframe\">\n",
       "  <thead>\n",
       "    <tr style=\"text-align: right;\">\n",
       "      <th></th>\n",
       "      <th>reviewerID</th>\n",
       "      <th>asin</th>\n",
       "      <th>reviewerName</th>\n",
       "      <th>helpful</th>\n",
       "      <th>reviewText</th>\n",
       "      <th>overall</th>\n",
       "      <th>summary</th>\n",
       "      <th>unixReviewTime</th>\n",
       "      <th>reviewTime</th>\n",
       "    </tr>\n",
       "  </thead>\n",
       "  <tbody>\n",
       "    <tr>\n",
       "      <th>64701</th>\n",
       "      <td>A1PQ1PESSO8CMO</td>\n",
       "      <td>B00KILDVEI</td>\n",
       "      <td>Ginger Christmas</td>\n",
       "      <td>[0, 0]</td>\n",
       "      <td>I like the reggae sound a lot in this song. I ...</td>\n",
       "      <td>4</td>\n",
       "      <td>Cool song</td>\n",
       "      <td>1403568000</td>\n",
       "      <td>06 24, 2014</td>\n",
       "    </tr>\n",
       "    <tr>\n",
       "      <th>64702</th>\n",
       "      <td>A120RH58WVY4W6</td>\n",
       "      <td>B00KILDVEI</td>\n",
       "      <td>Kelly Dunwell \"avid reader\"</td>\n",
       "      <td>[0, 0]</td>\n",
       "      <td>I first heard this on Sirius and had to have i...</td>\n",
       "      <td>5</td>\n",
       "      <td>Great Song</td>\n",
       "      <td>1404864000</td>\n",
       "      <td>07 9, 2014</td>\n",
       "    </tr>\n",
       "    <tr>\n",
       "      <th>64703</th>\n",
       "      <td>A19VJ2IQLO50G0</td>\n",
       "      <td>B00KILDVEI</td>\n",
       "      <td>melinda</td>\n",
       "      <td>[0, 1]</td>\n",
       "      <td>I absolutely love this song, it downloaded fin...</td>\n",
       "      <td>5</td>\n",
       "      <td>Five Stars</td>\n",
       "      <td>1405209600</td>\n",
       "      <td>07 13, 2014</td>\n",
       "    </tr>\n",
       "    <tr>\n",
       "      <th>64704</th>\n",
       "      <td>AUDSM2CTLLW1Q</td>\n",
       "      <td>B00KILDVEI</td>\n",
       "      <td>Patrick L. Randall</td>\n",
       "      <td>[0, 0]</td>\n",
       "      <td>Reggae, island beats aren't really my cup of t...</td>\n",
       "      <td>3</td>\n",
       "      <td>Well-crafted song</td>\n",
       "      <td>1404864000</td>\n",
       "      <td>07 9, 2014</td>\n",
       "    </tr>\n",
       "    <tr>\n",
       "      <th>64705</th>\n",
       "      <td>A1GN8UJIZLCA59</td>\n",
       "      <td>B00KILDVEI</td>\n",
       "      <td>P Magnum</td>\n",
       "      <td>[1, 2]</td>\n",
       "      <td>Magic! is a Canadian band that incorporates re...</td>\n",
       "      <td>1</td>\n",
       "      <td>Souless Reggae</td>\n",
       "      <td>1405641600</td>\n",
       "      <td>07 18, 2014</td>\n",
       "    </tr>\n",
       "  </tbody>\n",
       "</table>\n",
       "</div>"
      ],
      "text/plain": [
       "           reviewerID        asin                 reviewerName helpful  \\\n",
       "64701  A1PQ1PESSO8CMO  B00KILDVEI             Ginger Christmas  [0, 0]   \n",
       "64702  A120RH58WVY4W6  B00KILDVEI  Kelly Dunwell \"avid reader\"  [0, 0]   \n",
       "64703  A19VJ2IQLO50G0  B00KILDVEI                      melinda  [0, 1]   \n",
       "64704   AUDSM2CTLLW1Q  B00KILDVEI           Patrick L. Randall  [0, 0]   \n",
       "64705  A1GN8UJIZLCA59  B00KILDVEI                     P Magnum  [1, 2]   \n",
       "\n",
       "                                              reviewText  overall  \\\n",
       "64701  I like the reggae sound a lot in this song. I ...        4   \n",
       "64702  I first heard this on Sirius and had to have i...        5   \n",
       "64703  I absolutely love this song, it downloaded fin...        5   \n",
       "64704  Reggae, island beats aren't really my cup of t...        3   \n",
       "64705  Magic! is a Canadian band that incorporates re...        1   \n",
       "\n",
       "                 summary  unixReviewTime   reviewTime  \n",
       "64701          Cool song      1403568000  06 24, 2014  \n",
       "64702         Great Song      1404864000   07 9, 2014  \n",
       "64703         Five Stars      1405209600  07 13, 2014  \n",
       "64704  Well-crafted song      1404864000   07 9, 2014  \n",
       "64705     Souless Reggae      1405641600  07 18, 2014  "
      ]
     },
     "execution_count": 74,
     "metadata": {},
     "output_type": "execute_result"
    }
   ],
   "source": [
    "data_path = \"./data/Digital_Music_5.json\"\n",
    "table = pd.read_json(data_path, 'records', lines = True).reset_index(drop = True, inplace = False)\n",
    "table.tail()"
   ]
  },
  {
   "cell_type": "code",
   "execution_count": 75,
   "metadata": {},
   "outputs": [
    {
     "name": "stdout",
     "output_type": "stream",
     "text": [
      "0.0014045238494873047\n"
     ]
    }
   ],
   "source": [
    "import time\n",
    "\n",
    "tic = time.time()\n",
    "for i in range(10000):\n",
    "    a = 1\n",
    "\n",
    "toc = time.time()\n",
    "print(toc - tic)"
   ]
  },
  {
   "cell_type": "code",
   "execution_count": 76,
   "metadata": {},
   "outputs": [
    {
     "data": {
      "text/html": [
       "<div>\n",
       "<style scoped>\n",
       "    .dataframe tbody tr th:only-of-type {\n",
       "        vertical-align: middle;\n",
       "    }\n",
       "\n",
       "    .dataframe tbody tr th {\n",
       "        vertical-align: top;\n",
       "    }\n",
       "\n",
       "    .dataframe thead th {\n",
       "        text-align: right;\n",
       "    }\n",
       "</style>\n",
       "<table border=\"1\" class=\"dataframe\">\n",
       "  <thead>\n",
       "    <tr style=\"text-align: right;\">\n",
       "      <th></th>\n",
       "      <th>reviewerID</th>\n",
       "      <th>asin</th>\n",
       "      <th>reviewerName</th>\n",
       "      <th>helpful</th>\n",
       "      <th>reviewText</th>\n",
       "      <th>overall</th>\n",
       "      <th>summary</th>\n",
       "      <th>unixReviewTime</th>\n",
       "    </tr>\n",
       "  </thead>\n",
       "  <tbody>\n",
       "    <tr>\n",
       "      <th>0</th>\n",
       "      <td>A3EBHHCZO6V2A4</td>\n",
       "      <td>5555991584</td>\n",
       "      <td>Amaranth \"music fan\"</td>\n",
       "      <td>[3, 3]</td>\n",
       "      <td>It's hard to believe \"Memory of Trees\" came ou...</td>\n",
       "      <td>5</td>\n",
       "      <td>Enya's last great album</td>\n",
       "      <td>09-12-2006</td>\n",
       "    </tr>\n",
       "    <tr>\n",
       "      <th>1</th>\n",
       "      <td>AZPWAXJG9OJXV</td>\n",
       "      <td>5555991584</td>\n",
       "      <td>bethtexas</td>\n",
       "      <td>[0, 0]</td>\n",
       "      <td>A clasically-styled and introverted album, Mem...</td>\n",
       "      <td>5</td>\n",
       "      <td>Enya at her most elegant</td>\n",
       "      <td>06-03-2001</td>\n",
       "    </tr>\n",
       "    <tr>\n",
       "      <th>2</th>\n",
       "      <td>A38IRL0X2T4DPF</td>\n",
       "      <td>5555991584</td>\n",
       "      <td>bob turnley</td>\n",
       "      <td>[2, 2]</td>\n",
       "      <td>I never thought Enya would reach the sublime h...</td>\n",
       "      <td>5</td>\n",
       "      <td>The best so far</td>\n",
       "      <td>07-14-2003</td>\n",
       "    </tr>\n",
       "    <tr>\n",
       "      <th>3</th>\n",
       "      <td>A22IK3I6U76GX0</td>\n",
       "      <td>5555991584</td>\n",
       "      <td>Calle</td>\n",
       "      <td>[1, 1]</td>\n",
       "      <td>This is the third review of an irish album I w...</td>\n",
       "      <td>5</td>\n",
       "      <td>Ireland produces good music.</td>\n",
       "      <td>05-03-2000</td>\n",
       "    </tr>\n",
       "    <tr>\n",
       "      <th>4</th>\n",
       "      <td>A1AISPOIIHTHXX</td>\n",
       "      <td>5555991584</td>\n",
       "      <td>Cloud \"...\"</td>\n",
       "      <td>[1, 1]</td>\n",
       "      <td>Enya, despite being a successful recording art...</td>\n",
       "      <td>4</td>\n",
       "      <td>4.5; music to dream to</td>\n",
       "      <td>01-17-2008</td>\n",
       "    </tr>\n",
       "  </tbody>\n",
       "</table>\n",
       "</div>"
      ],
      "text/plain": [
       "       reviewerID        asin          reviewerName helpful  \\\n",
       "0  A3EBHHCZO6V2A4  5555991584  Amaranth \"music fan\"  [3, 3]   \n",
       "1   AZPWAXJG9OJXV  5555991584             bethtexas  [0, 0]   \n",
       "2  A38IRL0X2T4DPF  5555991584           bob turnley  [2, 2]   \n",
       "3  A22IK3I6U76GX0  5555991584                 Calle  [1, 1]   \n",
       "4  A1AISPOIIHTHXX  5555991584           Cloud \"...\"  [1, 1]   \n",
       "\n",
       "                                          reviewText  overall  \\\n",
       "0  It's hard to believe \"Memory of Trees\" came ou...        5   \n",
       "1  A clasically-styled and introverted album, Mem...        5   \n",
       "2  I never thought Enya would reach the sublime h...        5   \n",
       "3  This is the third review of an irish album I w...        5   \n",
       "4  Enya, despite being a successful recording art...        4   \n",
       "\n",
       "                        summary unixReviewTime  \n",
       "0       Enya's last great album     09-12-2006  \n",
       "1      Enya at her most elegant     06-03-2001  \n",
       "2               The best so far     07-14-2003  \n",
       "3  Ireland produces good music.     05-03-2000  \n",
       "4        4.5; music to dream to     01-17-2008  "
      ]
     },
     "metadata": {},
     "output_type": "display_data"
    }
   ],
   "source": [
    "# transform unixReviewTime to datetime\n",
    "from datetime import datetime\n",
    "\n",
    "condition = lambda row: datetime.fromtimestamp(row).strftime(\"%m-%d-%Y\")\n",
    "table[\"unixReviewTime\"] = table[\"unixReviewTime\"].apply(condition)\n",
    "table.drop(labels=\"reviewTime\", axis=1, inplace=True)\n",
    "\n",
    "display(table.head())"
   ]
  },
  {
   "cell_type": "code",
   "execution_count": 47,
   "metadata": {},
   "outputs": [
    {
     "name": "stdout",
     "output_type": "stream",
     "text": [
      "[5 4 3 1 2]\n"
     ]
    }
   ],
   "source": [
    "print(table.overall.unique())"
   ]
  },
  {
   "cell_type": "code",
   "execution_count": 77,
   "metadata": {},
   "outputs": [
    {
     "name": "stdout",
     "output_type": "stream",
     "text": [
      "Its hard to believe Memory of Trees came out 11 years agoit has held up well over the passage of timeIts Enyas last great album before the New Agepop of Amarantine and Day without rain Back in 1995Enya still had her creative sparkher own voiceI agree with the reviewer who said that this is her saddest albumit is melancholybittersweetfrom the opening title songMemory of Trees is elegaicmajesticPax Deorum sounds like it is from a Requiem Massit is a dark threnodyUnlike the reviewer who said that this has a disconcerting blend of spiritualitysensualityI dont find it disconcerting at allAnywhere is is a hopeful songlooking to possibilitiesHope has a place is about lovebut it is up to the listener to decide if it is romanticplatonicetcIve always had a soft spot for this songOn my way home is a triumphant ending about returnThis is truly a masterpiece of New Age musica must for any Enya fan\n"
     ]
    }
   ],
   "source": [
    "#remove all the punctation since it doesn't work in the way we'll perform NLP\n",
    "pattern = '[^\\w\\s]'\n",
    "table['preprocessed'] = table['reviewText'].str.replace(pat=pattern, repl=\"\", regex=True)\n",
    "print(table[\"preprocessed\"].iloc[0])"
   ]
  },
  {
   "cell_type": "code",
   "execution_count": 78,
   "metadata": {},
   "outputs": [
    {
     "name": "stdout",
     "output_type": "stream",
     "text": [
      "its hard to believe memory of trees came out 11 years agoit has held up well over the passage of timeits enyas last great album before the new agepop of amarantine and day without rain back in 1995enya still had her creative sparkher own voicei agree with the reviewer who said that this is her saddest albumit is melancholybittersweetfrom the opening title songmemory of trees is elegaicmajesticpax deorum sounds like it is from a requiem massit is a dark threnodyunlike the reviewer who said that this has a disconcerting blend of spiritualitysensualityi dont find it disconcerting at allanywhere is is a hopeful songlooking to possibilitieshope has a place is about lovebut it is up to the listener to decide if it is romanticplatonicetcive always had a soft spot for this songon my way home is a triumphant ending about returnthis is truly a masterpiece of new age musica must for any enya fan\n"
     ]
    }
   ],
   "source": [
    "#convert to lower case\n",
    "table['preprocessed'] = table['preprocessed'].str.lower()\n",
    "print(table[\"preprocessed\"].iloc[0])"
   ]
  },
  {
   "cell_type": "code",
   "execution_count": 79,
   "metadata": {},
   "outputs": [],
   "source": [
    "import nltk\n",
    "from nltk.corpus import stopwords\n",
    "from nltk import word_tokenize, pos_tag\n",
    "from nltk.stem import WordNetLemmatizer\n",
    "from nltk.stem import SnowballStemmer\n",
    "from nltk.cluster.util import cosine_distance\n",
    "from nltk import sent_tokenize, word_tokenize, PorterStemmer\n",
    "from nltk.corpus import wordnet\n",
    "\n",
    "import spacy\n",
    "from spacy.lang.en.stop_words import STOP_WORDS\n",
    "\n",
    "import re"
   ]
  },
  {
   "cell_type": "code",
   "execution_count": 80,
   "metadata": {},
   "outputs": [
    {
     "name": "stdout",
     "output_type": "stream",
     "text": [
      "12.629493474960327\n",
      "its hard to believe memory of tree come out 11 year agoit have hold up well over the passage of timeits enyas last great album before the new agepop of amarantine and day without rain back in 1995enya still have her creative sparkher own voicei agree with the reviewer who say that this be her saddest albumit be melancholybittersweetfrom the opening title songmemory of tree be elegaicmajesticpax deorum sound like it be from a requiem massit be a dark threnodyunlike the reviewer who say that this have a disconcert blend of spiritualitysensualityi dont find it disconcert at allanywhere be be a hopeful songlooking to possibilitieshope have a place be about lovebut it be up to the listener to decide if it be romanticplatonicetcive always have a soft spot for this songon my way home be a triumphant end about returnthis be truly a masterpiece of new age musica must for any enya fan\n"
     ]
    }
   ],
   "source": [
    "# lemmatize\n",
    "def lemmatize_word(tagged_token):\n",
    "    root = []\n",
    "    lemmatizer = WordNetLemmatizer()\n",
    "    for token in tagged_token:\n",
    "        tag = token[1][0].lower()\n",
    "        tag = tag if tag in ['a', 'r', 'n', 'v'] else None\n",
    "        word = token[0]\n",
    "        if not tag:\n",
    "            root.append(word)\n",
    "        else:\n",
    "            root.append(lemmatizer.lemmatize(word, tag))\n",
    "    return root\n",
    "\n",
    "def lemmatize_doc(row):\n",
    "    lemmatized_list = []\n",
    "    tokenized_sent = sent_tokenize(row)\n",
    "    for sentence in tokenized_sent:\n",
    "        no_punctuation = re.sub(r'[^\\w\\s]', ' ', sentence)\n",
    "        tokenized_word = word_tokenize(no_punctuation)\n",
    "        tagged_token = pos_tag(tokenized_word)\n",
    "        lemmatized = lemmatize_word(tagged_token)\n",
    "        lemmatized_list.extend(lemmatized)\n",
    "    return \" \".join(lemmatized_list)\n",
    "\n",
    "table['lemmatized'] = table['preprocessed'].head(1000).apply(lambda row: lemmatize_doc(row))\n",
    "\n",
    "print(table['lemmatized'].iloc[0])"
   ]
  },
  {
   "cell_type": "code",
   "execution_count": null,
   "metadata": {},
   "outputs": [],
   "source": [
    "table['lemmatized'].apply(lambda x: print(x))"
   ]
  },
  {
   "cell_type": "code",
   "execution_count": null,
   "metadata": {},
   "outputs": [],
   "source": []
  }
 ],
 "metadata": {
  "kernelspec": {
   "display_name": "Python 3.10.4 ('torch')",
   "language": "python",
   "name": "python3"
  },
  "language_info": {
   "codemirror_mode": {
    "name": "ipython",
    "version": 3
   },
   "file_extension": ".py",
   "mimetype": "text/x-python",
   "name": "python",
   "nbconvert_exporter": "python",
   "pygments_lexer": "ipython3",
   "version": "3.10.4"
  },
  "orig_nbformat": 4,
  "vscode": {
   "interpreter": {
    "hash": "690c9ea092c8a6fc9517542155c4d05fadb9e10c4733225e6f103cd30826cc12"
   }
  }
 },
 "nbformat": 4,
 "nbformat_minor": 2
}
