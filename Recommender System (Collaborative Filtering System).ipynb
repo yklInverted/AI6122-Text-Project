{
 "cells": [
  {
   "cell_type": "code",
   "execution_count": 1,
   "id": "b2b6c3da",
   "metadata": {},
   "outputs": [],
   "source": [
    "import numpy as np # linear algebra\n",
    "import pandas as pd # data processing, CSV file I/O (e.g. pd.read_csv)\n",
    "import os\n",
    "from IPython.core.interactiveshell import InteractiveShell\n",
    "InteractiveShell.ast_node_interactivity = \"all\"\n",
    "import math\n",
    "import json\n",
    "import time\n",
    "import matplotlib.pyplot as plt\n",
    "import seaborn as sns\n",
    "from sklearn.metrics.pairwise import cosine_similarity\n",
    "from sklearn.model_selection import train_test_split\n",
    "from sklearn.neighbors import NearestNeighbors\n",
    "import joblib\n",
    "import scipy.sparse\n",
    "from scipy.sparse import csr_matrix\n",
    "from scipy.sparse.linalg import svds\n",
    "import warnings; warnings.simplefilter('ignore')\n",
    "import nltk\n",
    "import sys\n",
    "%matplotlib inline"
   ]
  },
  {
   "cell_type": "code",
   "execution_count": 2,
   "id": "e2c17f5a",
   "metadata": {
    "scrolled": true
   },
   "outputs": [
    {
     "name": "stdout",
     "output_type": "stream",
     "text": [
      "   overall  vote  verified   reviewTime      reviewerID        asin  \\\n",
      "0        5   3.0      True   06 3, 2013  A2TYZ821XXK2YZ  3426958910   \n",
      "1        5   NaN      True  10 11, 2014  A3OFSREZADFUDY  3426958910   \n",
      "2        5   NaN      True  02 11, 2014  A2VAMODP8M77NG  3426958910   \n",
      "3        4   3.0     False   12 7, 2013   AAKSLZ9IDTEH0  3426958910   \n",
      "4        5   NaN      True  06 12, 2016  A3OH43OZJLKI09  5557706259   \n",
      "\n",
      "                      style       reviewerName  \\\n",
      "0  {'Format:': ' Audio CD'}            Garrett   \n",
      "1  {'Format:': ' Audio CD'}                 Ad   \n",
      "2  {'Format:': ' Audio CD'}             JTGabq   \n",
      "3  {'Format:': ' Audio CD'}  john F&#039;n doe   \n",
      "4  {'Format:': ' Audio CD'}  melinda a goodman   \n",
      "\n",
      "                                          reviewText  \\\n",
      "0  This is awesome to listen to, A must-have for ...   \n",
      "1                                               bien   \n",
      "2  It was great to hear the old stuff again and I...   \n",
      "3  well best of's are a bit poison normally but t...   \n",
      "4  What can I say? This is Casting Crowns!!!This ...   \n",
      "\n",
      "                                             summary  unixReviewTime image  \n",
      "0                                      Slayer Rules!      1370217600   NaN  \n",
      "1                                         Five Stars      1412985600   NaN  \n",
      "2                        SLAYER!!!!!!!!!!!!!!!!!!!!!      1392076800   NaN  \n",
      "3  slayer greatest hits! you mean everything righ...      1386374400   NaN  \n",
      "4                    This is a good, blessing filled      1465689600   NaN  \n"
     ]
    }
   ],
   "source": [
    "data_path = \"./data/Digital_Music_5.json\"\n",
    "table = pd.read_json(data_path, 'records', lines = True).reset_index(drop = True, inplace = False)\n",
    "print(table.head())"
   ]
  },
  {
   "cell_type": "code",
   "execution_count": 3,
   "id": "16cfcc87",
   "metadata": {},
   "outputs": [
    {
     "data": {
      "text/plain": [
       "(169781, 12)"
      ]
     },
     "execution_count": 3,
     "metadata": {},
     "output_type": "execute_result"
    }
   ],
   "source": [
    "table.shape"
   ]
  },
  {
   "cell_type": "code",
   "execution_count": 4,
   "id": "558b7438",
   "metadata": {},
   "outputs": [
    {
     "data": {
      "text/plain": [
       "count    169781.000000\n",
       "mean          4.700019\n",
       "std           0.713420\n",
       "min           1.000000\n",
       "25%           5.000000\n",
       "50%           5.000000\n",
       "75%           5.000000\n",
       "max           5.000000\n",
       "Name: overall, dtype: float64"
      ]
     },
     "execution_count": 4,
     "metadata": {},
     "output_type": "execute_result"
    }
   ],
   "source": [
    "table.describe()['overall'].T"
   ]
  },
  {
   "cell_type": "code",
   "execution_count": 5,
   "id": "ce04addb",
   "metadata": {},
   "outputs": [
    {
     "name": "stdout",
     "output_type": "stream",
     "text": [
      "Number of missing values across columns: \n",
      " overall                0\n",
      "vote              162170\n",
      "verified               0\n",
      "reviewTime             0\n",
      "reviewerID             0\n",
      "asin                   0\n",
      "style              11792\n",
      "reviewerName           5\n",
      "reviewText           158\n",
      "summary               36\n",
      "unixReviewTime         0\n",
      "image             169599\n",
      "dtype: int64\n"
     ]
    }
   ],
   "source": [
    "print('Number of missing values across columns: \\n',table.isnull().sum())"
   ]
  },
  {
   "cell_type": "code",
   "execution_count": 6,
   "id": "d1b1e3c7",
   "metadata": {},
   "outputs": [
    {
     "data": {
      "text/plain": [
       "<seaborn.axisgrid.FacetGrid at 0x26dd744af10>"
      ]
     },
     "execution_count": 6,
     "metadata": {},
     "output_type": "execute_result"
    },
    {
     "data": {
      "image/png": "[encoded data removed]",
      "text/plain": [
       "<Figure size 720x360 with 1 Axes>"
      ]
     },
     "metadata": {},
     "output_type": "display_data"
    }
   ],
   "source": [
    "# Check the distribution of the rating\n",
    "with sns.axes_style('white'):\n",
    "    g = sns.factorplot(\"overall\", data=table, aspect=2.0,kind='count')\n",
    "    g.set_ylabels(\"Total number of ratings\")"
   ]
  },
  {
   "cell_type": "code",
   "execution_count": 7,
   "id": "0920fab3",
   "metadata": {},
   "outputs": [
    {
     "name": "stdout",
     "output_type": "stream",
     "text": [
      "Total data \n",
      "--------------------------------------------------\n",
      "\n",
      "Total no of ratings : 169781\n",
      "Total No of Users   : 16566\n",
      "Total No of products  : 11797\n"
     ]
    }
   ],
   "source": [
    "print(\"Total data \")\n",
    "print(\"-\"*50)\n",
    "print(\"\\nTotal no of ratings :\",table.shape[0])\n",
    "print(\"Total No of Users   :\", len(np.unique(table.reviewerID)))\n",
    "print(\"Total No of products  :\", len(np.unique(table.asin)))"
   ]
  },
  {
   "cell_type": "code",
   "execution_count": 8,
   "id": "e661466b",
   "metadata": {},
   "outputs": [],
   "source": [
    "table.drop(['vote'], axis=1,inplace=True)\n",
    "table.drop(['verified'], axis=1,inplace=True)\n",
    "table.drop(['reviewTime'], axis=1,inplace=True)\n",
    "table.drop(['reviewerName'], axis=1,inplace=True)\n",
    "table.drop(['reviewText'], axis=1,inplace=True)\n",
    "table.drop(['style'], axis=1,inplace=True)\n",
    "table.drop(['summary'], axis=1,inplace=True)\n",
    "table.drop(['unixReviewTime'], axis=1,inplace=True)\n",
    "table.drop(['image'], axis=1,inplace=True)"
   ]
  },
  {
   "cell_type": "code",
   "execution_count": 9,
   "id": "c5cef345",
   "metadata": {},
   "outputs": [
    {
     "data": {
      "text/plain": [
       "reviewerID\n",
       "A3W4D8XOGLWUN5    791\n",
       "A2H3JURQZOHVMB    314\n",
       "A36EDWL4F3AASU    223\n",
       "A165P3MOJV3OVZ    219\n",
       "AVKHYC2D7MD56     214\n",
       "Name: overall, dtype: int64"
      ]
     },
     "execution_count": 9,
     "metadata": {},
     "output_type": "execute_result"
    }
   ],
   "source": [
    "#Analysis of rating given by the user \n",
    "\n",
    "no_of_rated_products_per_user = table.groupby(by='reviewerID')['overall'].count().sort_values(ascending=False)\n",
    "\n",
    "no_of_rated_products_per_user.head()"
   ]
  },
  {
   "cell_type": "code",
   "execution_count": 10,
   "id": "68766473",
   "metadata": {},
   "outputs": [
    {
     "data": {
      "text/plain": [
       "count    16566.000000\n",
       "mean        10.248763\n",
       "std         12.376589\n",
       "min          1.000000\n",
       "25%          5.000000\n",
       "50%          7.000000\n",
       "75%         11.000000\n",
       "max        791.000000\n",
       "Name: overall, dtype: float64"
      ]
     },
     "execution_count": 10,
     "metadata": {},
     "output_type": "execute_result"
    }
   ],
   "source": [
    "no_of_rated_products_per_user.describe()"
   ]
  },
  {
   "cell_type": "code",
   "execution_count": 11,
   "id": "1b4f71a8",
   "metadata": {},
   "outputs": [],
   "source": [
    "quantiles = no_of_rated_products_per_user.quantile(np.arange(0,1.01,0.01), interpolation='higher')"
   ]
  },
  {
   "cell_type": "code",
   "execution_count": 12,
   "id": "49046aeb",
   "metadata": {},
   "outputs": [
    {
     "data": {
      "text/plain": [
       "<Figure size 720x720 with 0 Axes>"
      ]
     },
     "execution_count": 12,
     "metadata": {},
     "output_type": "execute_result"
    },
    {
     "data": {
      "text/plain": [
       "Text(0.5, 1.0, 'Quantiles and their Values')"
      ]
     },
     "execution_count": 12,
     "metadata": {},
     "output_type": "execute_result"
    },
    {
     "data": {
      "text/plain": [
       "<AxesSubplot:title={'center':'Quantiles and their Values'}>"
      ]
     },
     "execution_count": 12,
     "metadata": {},
     "output_type": "execute_result"
    },
    {
     "data": {
      "text/plain": [
       "<matplotlib.collections.PathCollection at 0x26da722a910>"
      ]
     },
     "execution_count": 12,
     "metadata": {},
     "output_type": "execute_result"
    },
    {
     "data": {
      "text/plain": [
       "<matplotlib.collections.PathCollection at 0x26da723af40>"
      ]
     },
     "execution_count": 12,
     "metadata": {},
     "output_type": "execute_result"
    },
    {
     "data": {
      "text/plain": [
       "Text(0, 0.5, 'No of ratings by user')"
      ]
     },
     "execution_count": 12,
     "metadata": {},
     "output_type": "execute_result"
    },
    {
     "data": {
      "text/plain": [
       "Text(0.5, 0, 'Value at the quantile')"
      ]
     },
     "execution_count": 12,
     "metadata": {},
     "output_type": "execute_result"
    },
    {
     "data": {
      "text/plain": [
       "<matplotlib.legend.Legend at 0x26da722ae80>"
      ]
     },
     "execution_count": 12,
     "metadata": {},
     "output_type": "execute_result"
    },
    {
     "data": {
      "image/png": "[encoded data removed]",
      "text/plain": [
       "<Figure size 720x720 with 1 Axes>"
      ]
     },
     "metadata": {
      "needs_background": "light"
     },
     "output_type": "display_data"
    }
   ],
   "source": [
    "plt.figure(figsize=(10,10))\n",
    "plt.title(\"Quantiles and their Values\")\n",
    "quantiles.plot()\n",
    "# quantiles with 0.05 difference\n",
    "plt.scatter(x=quantiles.index[::5], y=quantiles.values[::5], c='orange', label=\"quantiles with 0.05 intervals\")\n",
    "# quantiles with 0.25 difference\n",
    "plt.scatter(x=quantiles.index[::25], y=quantiles.values[::25], c='m', label = \"quantiles with 0.25 intervals\")\n",
    "plt.ylabel('No of ratings by user')\n",
    "plt.xlabel('Value at the quantile')\n",
    "plt.legend(loc='best')\n",
    "plt.show()"
   ]
  },
  {
   "cell_type": "code",
   "execution_count": 13,
   "id": "68ccf9e2",
   "metadata": {},
   "outputs": [
    {
     "name": "stdout",
     "output_type": "stream",
     "text": [
      "\n",
      " No of rated product more than 50 per user : 199\n",
      "\n"
     ]
    }
   ],
   "source": [
    "print('\\n No of rated product more than 50 per user : {}\\n'.format(sum(no_of_rated_products_per_user >= 50)) )"
   ]
  },
  {
   "cell_type": "code",
   "execution_count": 14,
   "id": "49d67ada",
   "metadata": {},
   "outputs": [],
   "source": [
    "##Popularity Based Recommendation\n",
    "\n",
    "#Getting the new dataframe which contains users who has given 50 or more ratings\n",
    "new_df=table.groupby(\"asin\").filter(lambda x:x['overall'].count() >=50)"
   ]
  },
  {
   "cell_type": "code",
   "execution_count": 15,
   "id": "e3eb60d5",
   "metadata": {},
   "outputs": [
    {
     "data": {
      "text/plain": [
       "[<matplotlib.lines.Line2D at 0x26da2993400>]"
      ]
     },
     "execution_count": 15,
     "metadata": {},
     "output_type": "execute_result"
    },
    {
     "data": {
      "text/plain": [
       "Text(0.5, 1.0, '# RATINGS per Product')"
      ]
     },
     "execution_count": 15,
     "metadata": {},
     "output_type": "execute_result"
    },
    {
     "data": {
      "text/plain": [
       "Text(0.5, 0, 'Product')"
      ]
     },
     "execution_count": 15,
     "metadata": {},
     "output_type": "execute_result"
    },
    {
     "data": {
      "text/plain": [
       "Text(0, 0.5, 'No of ratings per product')"
      ]
     },
     "execution_count": 15,
     "metadata": {},
     "output_type": "execute_result"
    },
    {
     "data": {
      "text/plain": [
       "[Text(-100.0, 0, ''),\n",
       " Text(0.0, 0, ''),\n",
       " Text(100.0, 0, ''),\n",
       " Text(200.0, 0, ''),\n",
       " Text(300.0, 0, ''),\n",
       " Text(400.0, 0, ''),\n",
       " Text(500.0, 0, '')]"
      ]
     },
     "execution_count": 15,
     "metadata": {},
     "output_type": "execute_result"
    },
    {
     "data": {
      "image/png": "[encoded data removed]",
      "text/plain": [
       "<Figure size 576x288 with 1 Axes>"
      ]
     },
     "metadata": {
      "needs_background": "light"
     },
     "output_type": "display_data"
    }
   ],
   "source": [
    "no_of_ratings_per_product = new_df.groupby(by='asin')['overall'].count().sort_values(ascending=False)\n",
    "\n",
    "fig = plt.figure(figsize=plt.figaspect(.5))\n",
    "ax = plt.gca()\n",
    "plt.plot(no_of_ratings_per_product.values)\n",
    "plt.title('# RATINGS per Product')\n",
    "plt.xlabel('Product')\n",
    "plt.ylabel('No of ratings per product')\n",
    "ax.set_xticklabels([])\n",
    "\n",
    "plt.show()"
   ]
  },
  {
   "cell_type": "code",
   "execution_count": 16,
   "id": "81bcb988",
   "metadata": {},
   "outputs": [
    {
     "data": {
      "text/plain": [
       "asin\n",
       "7799420340    4.784615\n",
       "9714721180    4.829268\n",
       "B000JF21D0    4.491525\n",
       "B000S51XMQ    4.870588\n",
       "B000T006RI    4.887324\n",
       "Name: overall, dtype: float64"
      ]
     },
     "execution_count": 16,
     "metadata": {},
     "output_type": "execute_result"
    }
   ],
   "source": [
    "#Average rating of the product \n",
    "\n",
    "new_df.groupby('asin')['overall'].mean().head()"
   ]
  },
  {
   "cell_type": "code",
   "execution_count": 17,
   "id": "a19515f6",
   "metadata": {},
   "outputs": [
    {
     "data": {
      "text/plain": [
       "asin\n",
       "B000VZYYWY    4.966667\n",
       "B00136PTYW    4.962963\n",
       "B00136LMJ8    4.962963\n",
       "B01DOO46BM    4.962500\n",
       "B00NJT3GKK    4.962264\n",
       "Name: overall, dtype: float64"
      ]
     },
     "execution_count": 17,
     "metadata": {},
     "output_type": "execute_result"
    }
   ],
   "source": [
    "new_df.groupby('asin')['overall'].mean().sort_values(ascending=False).head()"
   ]
  },
  {
   "cell_type": "code",
   "execution_count": 18,
   "id": "3f6db809",
   "metadata": {},
   "outputs": [
    {
     "data": {
      "text/plain": [
       "asin\n",
       "B00CZF8B68    574\n",
       "B00BWGHIHY    316\n",
       "B00136J7ZE    294\n",
       "B00EH49FRE    283\n",
       "B00136NUG6    262\n",
       "Name: overall, dtype: int64"
      ]
     },
     "execution_count": 18,
     "metadata": {},
     "output_type": "execute_result"
    }
   ],
   "source": [
    "#Total no of rating for product\n",
    "\n",
    "new_df.groupby('asin')['overall'].count().sort_values(ascending=False).head()"
   ]
  },
  {
   "cell_type": "code",
   "execution_count": 19,
   "id": "0db478d1",
   "metadata": {},
   "outputs": [],
   "source": [
    "ratings_mean_count = pd.DataFrame(new_df.groupby('asin')['overall'].mean())"
   ]
  },
  {
   "cell_type": "code",
   "execution_count": 20,
   "id": "67aa0ad5",
   "metadata": {},
   "outputs": [],
   "source": [
    "ratings_mean_count['rating_counts'] = pd.DataFrame(new_df.groupby('asin')['overall'].count())"
   ]
  },
  {
   "cell_type": "code",
   "execution_count": 21,
   "id": "8919c967",
   "metadata": {},
   "outputs": [
    {
     "data": {
      "text/html": [
       "<div>\n",
       "<style scoped>\n",
       "    .dataframe tbody tr th:only-of-type {\n",
       "        vertical-align: middle;\n",
       "    }\n",
       "\n",
       "    .dataframe tbody tr th {\n",
       "        vertical-align: top;\n",
       "    }\n",
       "\n",
       "    .dataframe thead th {\n",
       "        text-align: right;\n",
       "    }\n",
       "</style>\n",
       "<table border=\"1\" class=\"dataframe\">\n",
       "  <thead>\n",
       "    <tr style=\"text-align: right;\">\n",
       "      <th></th>\n",
       "      <th>overall</th>\n",
       "      <th>rating_counts</th>\n",
       "    </tr>\n",
       "    <tr>\n",
       "      <th>asin</th>\n",
       "      <th></th>\n",
       "      <th></th>\n",
       "    </tr>\n",
       "  </thead>\n",
       "  <tbody>\n",
       "    <tr>\n",
       "      <th>7799420340</th>\n",
       "      <td>4.784615</td>\n",
       "      <td>65</td>\n",
       "    </tr>\n",
       "    <tr>\n",
       "      <th>9714721180</th>\n",
       "      <td>4.829268</td>\n",
       "      <td>82</td>\n",
       "    </tr>\n",
       "    <tr>\n",
       "      <th>B000JF21D0</th>\n",
       "      <td>4.491525</td>\n",
       "      <td>59</td>\n",
       "    </tr>\n",
       "    <tr>\n",
       "      <th>B000S51XMQ</th>\n",
       "      <td>4.870588</td>\n",
       "      <td>85</td>\n",
       "    </tr>\n",
       "    <tr>\n",
       "      <th>B000T006RI</th>\n",
       "      <td>4.887324</td>\n",
       "      <td>71</td>\n",
       "    </tr>\n",
       "  </tbody>\n",
       "</table>\n",
       "</div>"
      ],
      "text/plain": [
       "             overall  rating_counts\n",
       "asin                               \n",
       "7799420340  4.784615             65\n",
       "9714721180  4.829268             82\n",
       "B000JF21D0  4.491525             59\n",
       "B000S51XMQ  4.870588             85\n",
       "B000T006RI  4.887324             71"
      ]
     },
     "execution_count": 21,
     "metadata": {},
     "output_type": "execute_result"
    }
   ],
   "source": [
    "ratings_mean_count.head()"
   ]
  },
  {
   "cell_type": "code",
   "execution_count": 22,
   "id": "f68a74ac",
   "metadata": {},
   "outputs": [
    {
     "data": {
      "text/plain": [
       "574"
      ]
     },
     "execution_count": 22,
     "metadata": {},
     "output_type": "execute_result"
    }
   ],
   "source": [
    "ratings_mean_count['rating_counts'].max()"
   ]
  },
  {
   "cell_type": "code",
   "execution_count": 23,
   "id": "edfc5444",
   "metadata": {},
   "outputs": [
    {
     "data": {
      "text/plain": [
       "<Figure size 576x432 with 0 Axes>"
      ]
     },
     "execution_count": 23,
     "metadata": {},
     "output_type": "execute_result"
    },
    {
     "data": {
      "text/plain": [
       "<AxesSubplot:>"
      ]
     },
     "execution_count": 23,
     "metadata": {},
     "output_type": "execute_result"
    },
    {
     "data": {
      "image/png": "[encoded data removed]",
      "text/plain": [
       "<Figure size 576x432 with 1 Axes>"
      ]
     },
     "metadata": {
      "needs_background": "light"
     },
     "output_type": "display_data"
    }
   ],
   "source": [
    "plt.figure(figsize=(8,6))\n",
    "plt.rcParams['patch.force_edgecolor'] = True\n",
    "ratings_mean_count['rating_counts'].hist(bins=50)"
   ]
  },
  {
   "cell_type": "code",
   "execution_count": 24,
   "id": "5791a573",
   "metadata": {},
   "outputs": [
    {
     "data": {
      "text/plain": [
       "<Figure size 576x432 with 0 Axes>"
      ]
     },
     "execution_count": 24,
     "metadata": {},
     "output_type": "execute_result"
    },
    {
     "data": {
      "text/plain": [
       "<AxesSubplot:>"
      ]
     },
     "execution_count": 24,
     "metadata": {},
     "output_type": "execute_result"
    },
    {
     "data": {
      "image/png": "[encoded data removed]",
      "text/plain": [
       "<Figure size 576x432 with 1 Axes>"
      ]
     },
     "metadata": {
      "needs_background": "light"
     },
     "output_type": "display_data"
    }
   ],
   "source": [
    "plt.figure(figsize=(8,6))\n",
    "plt.rcParams['patch.force_edgecolor'] = True\n",
    "ratings_mean_count['overall'].hist(bins=50)"
   ]
  },
  {
   "cell_type": "code",
   "execution_count": 25,
   "id": "78d19de7",
   "metadata": {},
   "outputs": [
    {
     "data": {
      "text/plain": [
       "<Figure size 576x432 with 0 Axes>"
      ]
     },
     "execution_count": 25,
     "metadata": {},
     "output_type": "execute_result"
    },
    {
     "data": {
      "text/plain": [
       "<seaborn.axisgrid.JointGrid at 0x26da7ddc790>"
      ]
     },
     "execution_count": 25,
     "metadata": {},
     "output_type": "execute_result"
    },
    {
     "data": {
      "text/plain": [
       "<Figure size 576x432 with 0 Axes>"
      ]
     },
     "metadata": {},
     "output_type": "display_data"
    },
    {
     "data": {
      "image/png": "[encoded data removed]",
      "text/plain": [
       "<Figure size 432x432 with 3 Axes>"
      ]
     },
     "metadata": {
      "needs_background": "light"
     },
     "output_type": "display_data"
    }
   ],
   "source": [
    "plt.figure(figsize=(8,6))\n",
    "plt.rcParams['patch.force_edgecolor'] = True\n",
    "sns.jointplot(x='overall', y='rating_counts', data=ratings_mean_count, alpha=0.4)"
   ]
  },
  {
   "cell_type": "code",
   "execution_count": 26,
   "id": "bd538e28",
   "metadata": {},
   "outputs": [
    {
     "data": {
      "text/plain": [
       "<AxesSubplot:xlabel='asin'>"
      ]
     },
     "execution_count": 26,
     "metadata": {},
     "output_type": "execute_result"
    },
    {
     "data": {
      "image/png": "[encoded data removed]",
      "text/plain": [
       "<Figure size 432x288 with 1 Axes>"
      ]
     },
     "metadata": {
      "needs_background": "light"
     },
     "output_type": "display_data"
    }
   ],
   "source": [
    "popular_products = pd.DataFrame(new_df.groupby('asin')['overall'].count())\n",
    "most_popular = popular_products.sort_values('overall', ascending=False)\n",
    "most_popular.head(30).plot(kind = \"bar\")"
   ]
  },
  {
   "cell_type": "code",
   "execution_count": 27,
   "id": "65065e15",
   "metadata": {},
   "outputs": [],
   "source": [
    "from surprise import KNNWithMeans\n",
    "from surprise import Dataset\n",
    "from surprise import accuracy\n",
    "from surprise import Reader\n",
    "import os\n",
    "from surprise.model_selection import train_test_split"
   ]
  },
  {
   "cell_type": "code",
   "execution_count": 28,
   "id": "6914af46",
   "metadata": {
    "scrolled": true
   },
   "outputs": [
    {
     "name": "stdout",
     "output_type": "stream",
     "text": [
      "            reviewerID        asin  overall\n",
      "23       A9Q28YTLYREO7  7799420340        5\n",
      "24      A3W4D8XOGLWUN5  7799420340        4\n",
      "25      A1KCA1O8SPOE8P  7799420340        4\n",
      "26      A1RY96KKGQ84EE  7799420340        5\n",
      "27      A3HO0XCG4KZ16R  7799420340        5\n",
      "...                ...         ...      ...\n",
      "169734  A2VDTD7VN80C3I  B01H5ZYNM8        5\n",
      "169735  A38ZDXX8YKKYZC  B01H5ZYNM8        5\n",
      "169736  A1PH0SIPRL5J5Z  B01H5ZYNM8        5\n",
      "169737   AJ9INS42ECLQV  B01H5ZYNM8        3\n",
      "169738  A2MHW0LHWRMY12  B01H5ZYNM8        5\n",
      "\n",
      "[37135 rows x 3 columns]\n"
     ]
    }
   ],
   "source": [
    "#Reading the dataset\n",
    "reader = Reader(rating_scale=(1, 5))\n",
    "cols = new_df.columns.tolist()\n",
    "cols = cols[-2:] + cols[:-2]\n",
    "df = new_df[cols] \n",
    "# df = df._convert(numeric=True)\n",
    "print(df)\n",
    "# print(df.dtypes)\n",
    "# df['asin']=df['asin'].astype(np.float64)\n",
    "# print(df.dtypes)\n",
    "\n",
    "data = Dataset.load_from_df(df,reader)"
   ]
  },
  {
   "cell_type": "code",
   "execution_count": 29,
   "id": "e74e6a46",
   "metadata": {},
   "outputs": [],
   "source": [
    "#Splitting the dataset\n",
    "trainset, testset = train_test_split(data, test_size=0.2,random_state=0)"
   ]
  },
  {
   "cell_type": "code",
   "execution_count": 30,
   "id": "6561de57",
   "metadata": {},
   "outputs": [
    {
     "name": "stdout",
     "output_type": "stream",
     "text": [
      "Estimating biases using als...\n",
      "Computing the pearson_baseline similarity matrix...\n",
      "Done computing similarity matrix.\n"
     ]
    },
    {
     "data": {
      "text/plain": [
       "<surprise.prediction_algorithms.knns.KNNWithMeans at 0x26da3fa6940>"
      ]
     },
     "execution_count": 30,
     "metadata": {},
     "output_type": "execute_result"
    }
   ],
   "source": [
    "# Use user_based true/false to switch between user-based or item-based collaborative filtering\n",
    "algo = KNNWithMeans(k=5, sim_options={'name': 'pearson_baseline', 'user_based': False})\n",
    "algo.fit(trainset)"
   ]
  },
  {
   "cell_type": "code",
   "execution_count": 31,
   "id": "4acf999b",
   "metadata": {},
   "outputs": [],
   "source": [
    "# run the trained model against the testset\n",
    "test_pred = algo.test(testset)"
   ]
  },
  {
   "cell_type": "code",
   "execution_count": 32,
   "id": "d92222a9",
   "metadata": {},
   "outputs": [
    {
     "data": {
      "text/plain": [
       "[Prediction(uid='A3CJKFS9JDR2CN', iid='B0011Z74IE', r_ui=5.0, est=5, details={'actual_k': 5, 'was_impossible': False}),\n",
       " Prediction(uid='A202XXHFRZ5ZVX', iid='B0011Z310Y', r_ui=5.0, est=4.989231447347447, details={'actual_k': 2, 'was_impossible': False}),\n",
       " Prediction(uid='A3R33KMESG0XGQ', iid='B00136NEAI', r_ui=5.0, est=4.712972936582739, details={'was_impossible': True, 'reason': 'User and/or item is unknown.'}),\n",
       " Prediction(uid='A20910KKL7O37L', iid='B00BWGHIHY', r_ui=1.0, est=2.007691342443765, details={'actual_k': 2, 'was_impossible': False}),\n",
       " Prediction(uid='A39U8YINLJFQS3', iid='B0011Z0YQI', r_ui=5.0, est=4.511111111111111, details={'actual_k': 0, 'was_impossible': False}),\n",
       " Prediction(uid='A3D9EXY6AW61TX', iid='B00137IJUM', r_ui=5.0, est=5, details={'actual_k': 1, 'was_impossible': False}),\n",
       " Prediction(uid='AZ741XAKITJXJ', iid='B001NSP4TK', r_ui=5.0, est=5, details={'actual_k': 2, 'was_impossible': False}),\n",
       " Prediction(uid='A39HK7B1INNEC0', iid='B007JOM5XA', r_ui=5.0, est=5, details={'actual_k': 4, 'was_impossible': False}),\n",
       " Prediction(uid='A2HB550T5ZDM6X', iid='B017TJY2QC', r_ui=5.0, est=4.613636363636363, details={'actual_k': 0, 'was_impossible': False}),\n",
       " Prediction(uid='A237E0FTADYM58', iid='B000W022JA', r_ui=5.0, est=5, details={'actual_k': 5, 'was_impossible': False}),\n",
       " Prediction(uid='AE9RDPTHJ1XD2', iid='B0092MKTWQ', r_ui=5.0, est=5, details={'actual_k': 2, 'was_impossible': False}),\n",
       " Prediction(uid='A2R631SHJK0E9C', iid='B00IXBOP8G', r_ui=5.0, est=4.712972936582739, details={'was_impossible': True, 'reason': 'User and/or item is unknown.'}),\n",
       " Prediction(uid='A200KNB88Q63FK', iid='B000WLOKKS', r_ui=5.0, est=5, details={'actual_k': 1, 'was_impossible': False}),\n",
       " Prediction(uid='A23HLW79K854H3', iid='B000W1MDPW', r_ui=5.0, est=4.712972936582739, details={'was_impossible': True, 'reason': 'User and/or item is unknown.'}),\n",
       " Prediction(uid='A24IL6Y3A4HIR1', iid='B01018KSJS', r_ui=4.0, est=4.712972936582739, details={'was_impossible': True, 'reason': 'User and/or item is unknown.'}),\n",
       " Prediction(uid='A20O89YXB85DD9', iid='B0013TVZTC', r_ui=5.0, est=4.998783724807006, details={'actual_k': 3, 'was_impossible': False}),\n",
       " Prediction(uid='A2MSZE23MOYURE', iid='B00VU95GNQ', r_ui=5.0, est=4.712972936582739, details={'was_impossible': True, 'reason': 'User and/or item is unknown.'}),\n",
       " Prediction(uid='A1B5L9AG1GB2MT', iid='B001O7SVLI', r_ui=4.0, est=4.712972936582739, details={'was_impossible': True, 'reason': 'User and/or item is unknown.'}),\n",
       " Prediction(uid='A1YBZB3ALCIKIX', iid='B00136NUG6', r_ui=4.0, est=4.712972936582739, details={'was_impossible': True, 'reason': 'User and/or item is unknown.'}),\n",
       " Prediction(uid='A208QEPAI30Z4G', iid='B00F0AIBJC', r_ui=5.0, est=5, details={'actual_k': 4, 'was_impossible': False}),\n",
       " Prediction(uid='AS10X25NKA0XJ', iid='B0011Z0YQI', r_ui=5.0, est=5, details={'actual_k': 1, 'was_impossible': False}),\n",
       " Prediction(uid='AY9A07YT6KRRG', iid='B000VZXDO4', r_ui=5.0, est=4.712972936582739, details={'was_impossible': True, 'reason': 'User and/or item is unknown.'}),\n",
       " Prediction(uid='A1FMBY4N72CLTY', iid='B00O46VJ56', r_ui=5.0, est=4.980835466989182, details={'actual_k': 2, 'was_impossible': False}),\n",
       " Prediction(uid='A2J1TWYZCKMJZB', iid='B009ZAXVGQ', r_ui=5.0, est=4.712972936582739, details={'was_impossible': True, 'reason': 'User and/or item is unknown.'}),\n",
       " Prediction(uid='A9Q28YTLYREO7', iid='B00OIK3SWA', r_ui=2.0, est=2.444179614689078, details={'actual_k': 2, 'was_impossible': False}),\n",
       " Prediction(uid='A34ICOY8XODXQ', iid='B000WZWW7M', r_ui=5.0, est=5, details={'actual_k': 1, 'was_impossible': False}),\n",
       " Prediction(uid='A1SF7FZE2M9KM9', iid='B00150S5HY', r_ui=5.0, est=5, details={'actual_k': 2, 'was_impossible': False}),\n",
       " Prediction(uid='A2E6UZVHUQ2XH', iid='B00B113E0U', r_ui=5.0, est=4.712972936582739, details={'was_impossible': True, 'reason': 'User and/or item is unknown.'}),\n",
       " Prediction(uid='A2BRNTASPJ9870', iid='B00136LVM6', r_ui=5.0, est=4.8617688726978345, details={'actual_k': 2, 'was_impossible': False}),\n",
       " Prediction(uid='A2G548RFY03L2D', iid='B000V68LJ0', r_ui=5.0, est=4.8478260869565215, details={'actual_k': 0, 'was_impossible': False}),\n",
       " Prediction(uid='A1R5KQ5VM500X7', iid='B00V8Z8SJ6', r_ui=5.0, est=4.361111111111111, details={'actual_k': 0, 'was_impossible': False}),\n",
       " Prediction(uid='A10VCPP8YCE1QY', iid='B000VZV9KY', r_ui=5.0, est=5, details={'actual_k': 1, 'was_impossible': False}),\n",
       " Prediction(uid='A3AKE87QW7P0LA', iid='B00TJ67YUK', r_ui=5.0, est=4.878504672897196, details={'actual_k': 0, 'was_impossible': False}),\n",
       " Prediction(uid='A1AHIS29D50G9D', iid='B00AAAKHZ8', r_ui=4.0, est=4.808196924679341, details={'actual_k': 3, 'was_impossible': False}),\n",
       " Prediction(uid='A6IBVPUFANIGX', iid='B0011Z74IE', r_ui=5.0, est=5, details={'actual_k': 3, 'was_impossible': False}),\n",
       " Prediction(uid='A2PUNHCCV06SP9', iid='B00U0MOVDK', r_ui=5.0, est=4.954471113375534, details={'actual_k': 3, 'was_impossible': False}),\n",
       " Prediction(uid='A3GPLPIHL36TPL', iid='B00JHEHLYS', r_ui=5.0, est=4.885292269013199, details={'actual_k': 1, 'was_impossible': False}),\n",
       " Prediction(uid='A2HLY9EPUUH1WH', iid='B006Q77W8Y', r_ui=5.0, est=4.84, details={'actual_k': 0, 'was_impossible': False}),\n",
       " Prediction(uid='A1UEKGDGV0YCYR', iid='B00124BPBG', r_ui=5.0, est=5, details={'actual_k': 1, 'was_impossible': False}),\n",
       " Prediction(uid='A1WJFV8KPELALT', iid='B002HP8EKE', r_ui=1.0, est=3.4345454545454546, details={'actual_k': 1, 'was_impossible': False}),\n",
       " Prediction(uid='AGNUO5Q3CX7O8', iid='B00CZF8B68', r_ui=5.0, est=5, details={'actual_k': 1, 'was_impossible': False}),\n",
       " Prediction(uid='A3LYIPJKAPYMQ4', iid='B00G2IAIVK', r_ui=5.0, est=5, details={'actual_k': 1, 'was_impossible': False}),\n",
       " Prediction(uid='A2QV3QTAXVDUIO', iid='B0011Z4WT8', r_ui=5.0, est=5, details={'actual_k': 1, 'was_impossible': False}),\n",
       " Prediction(uid='AT1BY9S4DM71R', iid='B00137G8OG', r_ui=5.0, est=4.918367346938775, details={'actual_k': 0, 'was_impossible': False}),\n",
       " Prediction(uid='A20OB2O8G4VEW1', iid='B00122UP64', r_ui=5.0, est=4.99797644931436, details={'actual_k': 3, 'was_impossible': False}),\n",
       " Prediction(uid='A1BU53ZLZOWKNT', iid='B00OIK4IBA', r_ui=5.0, est=4.882231671176395, details={'actual_k': 1, 'was_impossible': False}),\n",
       " Prediction(uid='APGLWENL1CH7U', iid='B0011Z8PXC', r_ui=5.0, est=4.998456945191123, details={'actual_k': 5, 'was_impossible': False}),\n",
       " Prediction(uid='A1VE4HGNEBRJPX', iid='B000W1774O', r_ui=5.0, est=5, details={'actual_k': 1, 'was_impossible': False}),\n",
       " Prediction(uid='A150QS4IZB3XJ', iid='B0011Z8OFG', r_ui=5.0, est=5, details={'actual_k': 1, 'was_impossible': False}),\n",
       " Prediction(uid='A1ONUF6LB72IYE', iid='B00136RVG6', r_ui=4.0, est=4.001202257615477, details={'actual_k': 2, 'was_impossible': False}),\n",
       " Prediction(uid='A3JNK8Q3PLRK3W', iid='B00136RVCU', r_ui=5.0, est=5, details={'actual_k': 3, 'was_impossible': False}),\n",
       " Prediction(uid='A1T1BUWPGKIYI8', iid='B0013JWPPU', r_ui=5.0, est=5, details={'actual_k': 1, 'was_impossible': False}),\n",
       " Prediction(uid='AIEILJSYAWK09', iid='B00970FKQ8', r_ui=5.0, est=4.544, details={'actual_k': 0, 'was_impossible': False}),\n",
       " Prediction(uid='A1A3R2SG60TOR0', iid='B001226FHM', r_ui=5.0, est=4.836734693877551, details={'actual_k': 0, 'was_impossible': False}),\n",
       " Prediction(uid='A3LD9MWYUZ3B8L', iid='B01D41ASOE', r_ui=5.0, est=5, details={'actual_k': 1, 'was_impossible': False}),\n",
       " Prediction(uid='A2ITYL2WLHPIYV', iid='B000W18HWU', r_ui=5.0, est=4.977062466740784, details={'actual_k': 3, 'was_impossible': False}),\n",
       " Prediction(uid='A4KVXNCQI8A5Q', iid='B00FAEQ22G', r_ui=5.0, est=5, details={'actual_k': 5, 'was_impossible': False}),\n",
       " Prediction(uid='A2CZK8QQ8R2J2C', iid='B007QNRBRY', r_ui=5.0, est=4.948717948717949, details={'actual_k': 0, 'was_impossible': False}),\n",
       " Prediction(uid='A15PZXBU8JJDZJ', iid='B00123F8Y2', r_ui=4.0, est=4.0, details={'actual_k': 1, 'was_impossible': False}),\n",
       " Prediction(uid='A1280J82MVLUNH', iid='B00JHEHLYS', r_ui=3.0, est=3.33615221987315, details={'actual_k': 1, 'was_impossible': False}),\n",
       " Prediction(uid='A3RGYOLV1R5O1Y', iid='B0012FDNHY', r_ui=5.0, est=4.994190196129459, details={'actual_k': 3, 'was_impossible': False}),\n",
       " Prediction(uid='A34966E1Z1JR2D', iid='B00136NFOI', r_ui=5.0, est=4.711711711711712, details={'actual_k': 0, 'was_impossible': False}),\n",
       " Prediction(uid='A2RUADXOPI1EQB', iid='B005UWEKZE', r_ui=5.0, est=4.961038961038961, details={'actual_k': 0, 'was_impossible': False}),\n",
       " Prediction(uid='A1XJHF8BDHNS4L', iid='B001NSP4TK', r_ui=5.0, est=4.886363636363637, details={'actual_k': 0, 'was_impossible': False}),\n",
       " Prediction(uid='AKYVULF26X0KQ', iid='B00137IDLC', r_ui=5.0, est=5, details={'actual_k': 1, 'was_impossible': False}),\n",
       " Prediction(uid='A2YXQJ9VSOKWBZ', iid='B00LWC6P1S', r_ui=5.0, est=5, details={'actual_k': 3, 'was_impossible': False}),\n",
       " Prediction(uid='A3D2HAESTLGGDW', iid='B00BWGHIHY', r_ui=5.0, est=4.817854968895886, details={'actual_k': 4, 'was_impossible': False}),\n",
       " Prediction(uid='A3UPWQ9K3FIGHD', iid='B006H1ME5A', r_ui=5.0, est=4.962526185737364, details={'actual_k': 4, 'was_impossible': False}),\n",
       " Prediction(uid='A1EFZ2YYFQVSST', iid='B00FY9PGJ2', r_ui=5.0, est=5, details={'actual_k': 2, 'was_impossible': False}),\n",
       " Prediction(uid='A3JPKKZ5KQ7BT1', iid='B00IKS2BHY', r_ui=5.0, est=4.5256410256410255, details={'actual_k': 0, 'was_impossible': False}),\n",
       " Prediction(uid='A6JP9YYJCK3WO', iid='B0099G7KDQ', r_ui=5.0, est=4.712972936582739, details={'was_impossible': True, 'reason': 'User and/or item is unknown.'}),\n",
       " Prediction(uid='A1NG7NU5NO86M1', iid='B009G78GRW', r_ui=5.0, est=5, details={'actual_k': 1, 'was_impossible': False}),\n",
       " Prediction(uid='A1NY305D1WAUGL', iid='B007B6VOII', r_ui=4.0, est=3.7145417595495296, details={'actual_k': 4, 'was_impossible': False}),\n",
       " Prediction(uid='A7REZGLFGL5CA', iid='B00137OD52', r_ui=5.0, est=4.997310907370976, details={'actual_k': 3, 'was_impossible': False}),\n",
       " Prediction(uid='AN9AXUWNL1KNQ', iid='B00IDXXNMS', r_ui=5.0, est=4.995713196008679, details={'actual_k': 3, 'was_impossible': False}),\n",
       " Prediction(uid='A3724WT4N5NTWU', iid='B00136NFOI', r_ui=4.0, est=3.9797868737743403, details={'actual_k': 2, 'was_impossible': False}),\n",
       " Prediction(uid='AQFW7GDBQ0DPE', iid='B000V616DS', r_ui=5.0, est=5, details={'actual_k': 4, 'was_impossible': False}),\n",
       " Prediction(uid='A8EO6A5GV4E7A', iid='B00BWGHIHY', r_ui=5.0, est=4.70752688172043, details={'actual_k': 1, 'was_impossible': False}),\n",
       " Prediction(uid='A3AJX919HRJY10', iid='B0058U21N6', r_ui=5.0, est=4.712972936582739, details={'was_impossible': True, 'reason': 'User and/or item is unknown.'}),\n",
       " Prediction(uid='A3ETA5EYI07GO6', iid='B00TJ67YUK', r_ui=4.0, est=4.878504672897196, details={'actual_k': 0, 'was_impossible': False}),\n",
       " Prediction(uid='A392X0SV97FYXA', iid='B003NJVBPS', r_ui=4.0, est=3.9732350584744767, details={'actual_k': 2, 'was_impossible': False}),\n",
       " Prediction(uid='A3U80Y2MK0G952', iid='B0170K9UTO', r_ui=5.0, est=4.758793969849246, details={'actual_k': 0, 'was_impossible': False}),\n",
       " Prediction(uid='A3EJBR2JOAOU5K', iid='B00E91Q7Z8', r_ui=4.0, est=4.76595744680851, details={'actual_k': 0, 'was_impossible': False}),\n",
       " Prediction(uid='A15RZZ6Y93VJP6', iid='B00150S5HY', r_ui=5.0, est=5, details={'actual_k': 3, 'was_impossible': False}),\n",
       " Prediction(uid='AU13B11E0MO9C', iid='B000W022JA', r_ui=5.0, est=5, details={'actual_k': 1, 'was_impossible': False}),\n",
       " Prediction(uid='A3DG93E8TXMKZF', iid='B001KOWH0G', r_ui=1.0, est=1, details={'actual_k': 5, 'was_impossible': False}),\n",
       " Prediction(uid='AVVXMDSZHUUHW', iid='B00M7LN7SM', r_ui=4.0, est=4.712972936582739, details={'was_impossible': True, 'reason': 'User and/or item is unknown.'}),\n",
       " Prediction(uid='A2KGPSU6FR82V3', iid='B000S51XMQ', r_ui=5.0, est=5, details={'actual_k': 1, 'was_impossible': False}),\n",
       " Prediction(uid='A32GCOTGFJ9XC3', iid='B00M8JCW3E', r_ui=4.0, est=4.712972936582739, details={'was_impossible': True, 'reason': 'User and/or item is unknown.'}),\n",
       " Prediction(uid='ATSFTLSI1YC34', iid='B001NSP4TK', r_ui=5.0, est=4.886363636363637, details={'actual_k': 0, 'was_impossible': False}),\n",
       " Prediction(uid='AR8G6QJ6QD9PQ', iid='B00GLP4DMO', r_ui=5.0, est=4.8108108108108105, details={'actual_k': 0, 'was_impossible': False}),\n",
       " Prediction(uid='A347TCNLYISMEX', iid='B00R4PKGYE', r_ui=5.0, est=4.881818181818182, details={'actual_k': 0, 'was_impossible': False}),\n",
       " Prediction(uid='A1XPTVJC8OMM3I', iid='B00123G5ZI', r_ui=5.0, est=5, details={'actual_k': 3, 'was_impossible': False}),\n",
       " Prediction(uid='AQ2C59OA4D5PM', iid='B00137MTF8', r_ui=4.0, est=3.966042387277092, details={'actual_k': 4, 'was_impossible': False}),\n",
       " Prediction(uid='A26TH3YW0QWPI7', iid='B00LAP3KS8', r_ui=5.0, est=5, details={'actual_k': 2, 'was_impossible': False}),\n",
       " Prediction(uid='AE34NH8ZBQIX1', iid='B00137OHD0', r_ui=3.0, est=3.0086538941003944, details={'actual_k': 3, 'was_impossible': False}),\n",
       " Prediction(uid='A26F8ZESY2X040', iid='B005UWEKZE', r_ui=5.0, est=5, details={'actual_k': 2, 'was_impossible': False}),\n",
       " Prediction(uid='A3J5XVOEZQ4QWY', iid='B00ISAEB5E', r_ui=5.0, est=4.913793103448276, details={'actual_k': 0, 'was_impossible': False}),\n",
       " Prediction(uid='A3FZE80Q37EE2G', iid='B00GDL60JU', r_ui=5.0, est=5, details={'actual_k': 1, 'was_impossible': False}),\n",
       " Prediction(uid='A2BL1FF1SYT4VB', iid='B00122OMC2', r_ui=4.0, est=4.712972936582739, details={'was_impossible': True, 'reason': 'User and/or item is unknown.'}),\n",
       " Prediction(uid='A1EIC1A1KNS9U7', iid='B0011Z1BXS', r_ui=3.0, est=4.712972936582739, details={'was_impossible': True, 'reason': 'User and/or item is unknown.'}),\n",
       " Prediction(uid='A22WY238ZYNOS1', iid='B00CZF8B68', r_ui=5.0, est=4.712972936582739, details={'was_impossible': True, 'reason': 'User and/or item is unknown.'}),\n",
       " Prediction(uid='A3OXDR0DD11552', iid='B00OXE38D0', r_ui=5.0, est=4.634408602150538, details={'actual_k': 0, 'was_impossible': False}),\n",
       " Prediction(uid='AV648VU7JR5D5', iid='B00137IJUM', r_ui=5.0, est=4.992977011033647, details={'actual_k': 3, 'was_impossible': False}),\n",
       " Prediction(uid='A1UF59NFHBRDPU', iid='B00LAP3KS8', r_ui=4.0, est=4.712972936582739, details={'was_impossible': True, 'reason': 'User and/or item is unknown.'}),\n",
       " Prediction(uid='A3KJ6JAZPH382D', iid='B00VF3YXUY', r_ui=4.0, est=4.000527103927242, details={'actual_k': 3, 'was_impossible': False}),\n",
       " Prediction(uid='A3H9Z1C70P4F17', iid='B00137OHD0', r_ui=4.0, est=4.0, details={'actual_k': 1, 'was_impossible': False}),\n",
       " Prediction(uid='A3RDHSSNRB4Q60', iid='B000Z1GR9C', r_ui=5.0, est=4.933366978014776, details={'actual_k': 3, 'was_impossible': False}),\n",
       " Prediction(uid='A55PX2OXN41WM', iid='B00OVKKUW8', r_ui=4.0, est=4.892857142857143, details={'actual_k': 0, 'was_impossible': False}),\n",
       " Prediction(uid='AO7IDK5D75WO6', iid='B00V8Z8SJ6', r_ui=5.0, est=4.657415326148492, details={'actual_k': 2, 'was_impossible': False}),\n",
       " Prediction(uid='A7VJOOJRQ1WDV', iid='B00FP1NNJY', r_ui=5.0, est=3.886262626262626, details={'actual_k': 1, 'was_impossible': False}),\n",
       " Prediction(uid='ASIRGDJLW871F', iid='B007FNN9BW', r_ui=5.0, est=4.619047619047619, details={'actual_k': 0, 'was_impossible': False}),\n",
       " Prediction(uid='A2Q28S6FZVNJWN', iid='B00EOKQBHS', r_ui=5.0, est=4.706877200290109, details={'actual_k': 2, 'was_impossible': False}),\n",
       " Prediction(uid='A2JQ2QAZUV71WZ', iid='B000WOWR00', r_ui=5.0, est=5, details={'actual_k': 4, 'was_impossible': False}),\n",
       " Prediction(uid='A13H6T6UP3JTK', iid='B00122K0OQ', r_ui=5.0, est=4.954401442861701, details={'actual_k': 5, 'was_impossible': False}),\n",
       " Prediction(uid='A191X00EZ9B7X6', iid='B00OIK3WQW', r_ui=5.0, est=5, details={'actual_k': 1, 'was_impossible': False}),\n",
       " Prediction(uid='A22FY6TANJVKDP', iid='B00136NEAI', r_ui=5.0, est=5, details={'actual_k': 4, 'was_impossible': False}),\n",
       " Prediction(uid='A27N1ZDYOHVPVD', iid='B000VZV9KY', r_ui=5.0, est=4.998186706073498, details={'actual_k': 3, 'was_impossible': False}),\n",
       " Prediction(uid='A1UZQ95B8LL61J', iid='B000W174QU', r_ui=5.0, est=5, details={'actual_k': 1, 'was_impossible': False}),\n",
       " Prediction(uid='AUU3MMZYBKQOO', iid='B0170K9UTO', r_ui=5.0, est=4.758793969849246, details={'actual_k': 0, 'was_impossible': False}),\n",
       " Prediction(uid='ARUKNNAOB3ODQ', iid='B0092MKTWQ', r_ui=5.0, est=4.6820643998283344, details={'actual_k': 2, 'was_impossible': False}),\n",
       " Prediction(uid='AAHGICDEAR5AQ', iid='B00137ZQ0I', r_ui=5.0, est=4.9982722263423245, details={'actual_k': 5, 'was_impossible': False}),\n",
       " Prediction(uid='AJJAJWU8VLTUP', iid='B000YKEMZ0', r_ui=5.0, est=5, details={'actual_k': 1, 'was_impossible': False}),\n",
       " Prediction(uid='A1XELII27ALQVA', iid='B0011Z764Q', r_ui=5.0, est=5, details={'actual_k': 2, 'was_impossible': False}),\n",
       " Prediction(uid='A1BVI1R4GJMABC', iid='B00AHXDKO8', r_ui=3.0, est=4.74, details={'actual_k': 0, 'was_impossible': False}),\n",
       " Prediction(uid='A2ZFBH44AT15S0', iid='B00FAEQ22G', r_ui=4.0, est=4.712972936582739, details={'was_impossible': True, 'reason': 'User and/or item is unknown.'}),\n",
       " Prediction(uid='A30QGCSBD37MFR', iid='B00137IDLC', r_ui=5.0, est=5, details={'actual_k': 3, 'was_impossible': False}),\n",
       " Prediction(uid='A8GCXLRZNZILG', iid='B000VZJS20', r_ui=5.0, est=4.984488866672139, details={'actual_k': 5, 'was_impossible': False}),\n",
       " Prediction(uid='AEYDSNDW5LFXY', iid='B0011Z0XSC', r_ui=4.0, est=4.0, details={'actual_k': 1, 'was_impossible': False}),\n",
       " Prediction(uid='A230EQDXU771M9', iid='B00150S5HY', r_ui=4.0, est=4.016016555792572, details={'actual_k': 3, 'was_impossible': False}),\n",
       " Prediction(uid='A347JY96RJ80QG', iid='B0062WV70W', r_ui=3.0, est=2.8548850574712636, details={'actual_k': 1, 'was_impossible': False}),\n",
       " Prediction(uid='A2WHAMNZD94N6A', iid='B001GFKIBE', r_ui=5.0, est=4.7254901960784315, details={'actual_k': 0, 'was_impossible': False}),\n",
       " Prediction(uid='A2RBNPWKANA94', iid='B0011Z3ETW', r_ui=4.0, est=4.0, details={'actual_k': 1, 'was_impossible': False}),\n",
       " Prediction(uid='AT7UTUQ2ECSOB', iid='B000T1EJ0W', r_ui=4.0, est=4.836734693877551, details={'actual_k': 0, 'was_impossible': False}),\n",
       " Prediction(uid='A3ETA5EYI07GO6', iid='B00136RS8C', r_ui=3.0, est=3.0, details={'actual_k': 1, 'was_impossible': False}),\n",
       " Prediction(uid='A5011NVCXD4HN', iid='B001KW5MF0', r_ui=5.0, est=4.712972936582739, details={'was_impossible': True, 'reason': 'User and/or item is unknown.'}),\n",
       " Prediction(uid='A3R5L79B6LHPB6', iid='B008U8I380', r_ui=5.0, est=4.4868421052631575, details={'actual_k': 0, 'was_impossible': False}),\n",
       " Prediction(uid='A1CRM4LBHNP46A', iid='B000S51XMQ', r_ui=5.0, est=4.885714285714286, details={'actual_k': 0, 'was_impossible': False}),\n",
       " Prediction(uid='A32JXG7CMQWX0F', iid='B009KUAOH0', r_ui=5.0, est=4.936085572842998, details={'actual_k': 2, 'was_impossible': False}),\n",
       " Prediction(uid='A2M7Q1AVDS08CG', iid='B001KW5MF0', r_ui=4.0, est=4.690476190476191, details={'actual_k': 0, 'was_impossible': False}),\n",
       " Prediction(uid='A2LTPIQG2RWNJW', iid='B00150S5HY', r_ui=5.0, est=5, details={'actual_k': 5, 'was_impossible': False}),\n",
       " Prediction(uid='ABQ0Q5M06JXHY', iid='B00137WU98', r_ui=5.0, est=4.836662749706228, details={'actual_k': 1, 'was_impossible': False}),\n",
       " Prediction(uid='A3724DSHQAPJQB', iid='B009D9L77Y', r_ui=5.0, est=5, details={'actual_k': 1, 'was_impossible': False}),\n",
       " Prediction(uid='A1UHFH9CTOXABO', iid='B017TJY2QC', r_ui=5.0, est=4.824149139429732, details={'actual_k': 2, 'was_impossible': False}),\n",
       " Prediction(uid='A2NA6VPXNOY5LR', iid='B004NYNGTQ', r_ui=5.0, est=4.712972936582739, details={'was_impossible': True, 'reason': 'User and/or item is unknown.'}),\n",
       " Prediction(uid='A17RR247113I1G', iid='B00BZIOAOS', r_ui=4.0, est=4.014444444444445, details={'actual_k': 1, 'was_impossible': False}),\n",
       " Prediction(uid='A3W4D8XOGLWUN5', iid='B00137KS2O', r_ui=4.0, est=3.9745509087869477, details={'actual_k': 5, 'was_impossible': False}),\n",
       " Prediction(uid='A3MYLQ2YQ5POLF', iid='B000W1VFA6', r_ui=5.0, est=4.998719726875066, details={'actual_k': 3, 'was_impossible': False}),\n",
       " Prediction(uid='A1RJD10TTI568L', iid='B001GH1ZQE', r_ui=4.0, est=4.712972936582739, details={'was_impossible': True, 'reason': 'User and/or item is unknown.'}),\n",
       " Prediction(uid='A142HAT43L5W4W', iid='B006Q77W8Y', r_ui=5.0, est=5, details={'actual_k': 5, 'was_impossible': False}),\n",
       " Prediction(uid='A3LGK02LXYMHCN', iid='B00123M8ZY', r_ui=5.0, est=5, details={'actual_k': 1, 'was_impossible': False}),\n",
       " Prediction(uid='A14CO0565RQIFO', iid='B00CZF8B68', r_ui=5.0, est=5, details={'actual_k': 1, 'was_impossible': False}),\n",
       " Prediction(uid='A2A16X4TM1ZBPV', iid='B005VPSEVG', r_ui=5.0, est=5, details={'actual_k': 2, 'was_impossible': False}),\n",
       " Prediction(uid='A25GH000CFEJAA', iid='B00VF3YXUY', r_ui=5.0, est=4.485714285714286, details={'actual_k': 0, 'was_impossible': False}),\n",
       " Prediction(uid='A1YCHB13QH6DYK', iid='B0011Z0XSC', r_ui=5.0, est=5, details={'actual_k': 1, 'was_impossible': False}),\n",
       " Prediction(uid='A2AAHDM93LC9BI', iid='B0108UP0EC', r_ui=5.0, est=4.898305084745763, details={'actual_k': 0, 'was_impossible': False}),\n",
       " Prediction(uid='A3ED5PM1M4VJML', iid='B001O7SVLI', r_ui=5.0, est=4.767857142857143, details={'actual_k': 0, 'was_impossible': False}),\n",
       " Prediction(uid='A1KYYUZ7CJAP8C', iid='B0013G0PG4', r_ui=5.0, est=4.992535961845594, details={'actual_k': 3, 'was_impossible': False}),\n",
       " Prediction(uid='AIQSL56HOXWBV', iid='B00OIK4IBA', r_ui=5.0, est=4.859775641025641, details={'actual_k': 1, 'was_impossible': False}),\n",
       " Prediction(uid='A1G5XXV19J68WG', iid='B00FX8F6VM', r_ui=5.0, est=4.827749611172814, details={'actual_k': 3, 'was_impossible': False}),\n",
       " Prediction(uid='A12K1E8F4UO91H', iid='B01E7RWTYG', r_ui=5.0, est=4.88918918918919, details={'actual_k': 1, 'was_impossible': False}),\n",
       " Prediction(uid='A2R6RA8FRBS608', iid='B00BWGHIHY', r_ui=5.0, est=4.989578760154694, details={'actual_k': 5, 'was_impossible': False}),\n",
       " Prediction(uid='A3SCVEX4ZMU2X0', iid='B0017DHRJ6', r_ui=5.0, est=5, details={'actual_k': 1, 'was_impossible': False}),\n",
       " Prediction(uid='AMU5MVT8PG0GJ', iid='B0012298LC', r_ui=3.0, est=3.0, details={'actual_k': 1, 'was_impossible': False}),\n",
       " Prediction(uid='A607L4B1X6MVZ', iid='B00NJMNLRK', r_ui=5.0, est=4.712972936582739, details={'was_impossible': True, 'reason': 'User and/or item is unknown.'}),\n",
       " Prediction(uid='A29LD3T5YXYYP6', iid='B008BNARH4', r_ui=5.0, est=5, details={'actual_k': 4, 'was_impossible': False}),\n",
       " Prediction(uid='A1ZRRVDOR23GEU', iid='B00EH49FRE', r_ui=5.0, est=3.8526426202104695, details={'actual_k': 5, 'was_impossible': False}),\n",
       " Prediction(uid='A25VQORE9NAF4Y', iid='B0011Z10UM', r_ui=5.0, est=4.7924528301886795, details={'actual_k': 0, 'was_impossible': False}),\n",
       " Prediction(uid='A1GJSWSAYXKWBH', iid='B00LAP3KS8', r_ui=5.0, est=5, details={'actual_k': 2, 'was_impossible': False}),\n",
       " Prediction(uid='A15JTJXQXO22JJ', iid='B001AAAT7I', r_ui=1.0, est=1.072896281800391, details={'actual_k': 5, 'was_impossible': False}),\n",
       " Prediction(uid='AHDZNRNF068Z', iid='B004NYNGTQ', r_ui=3.0, est=4.871724412584627, details={'actual_k': 1, 'was_impossible': False}),\n",
       " Prediction(uid='A2AMKJZI7YZEWG', iid='B00O2RCFDC', r_ui=5.0, est=4.957115988596821, details={'actual_k': 4, 'was_impossible': False}),\n",
       " Prediction(uid='ARBJN3CA3H34Q', iid='B0011Z1D8Q', r_ui=5.0, est=5, details={'actual_k': 1, 'was_impossible': False}),\n",
       " Prediction(uid='APKQR89QEL8MK', iid='B00M7LN7SM', r_ui=4.0, est=4.285714285714286, details={'actual_k': 0, 'was_impossible': False}),\n",
       " Prediction(uid='A1W2PKCD3OV2OD', iid='B00O2RCFDC', r_ui=5.0, est=4.230911751078086, details={'actual_k': 2, 'was_impossible': False}),\n",
       " Prediction(uid='A27DR337ZXDNYL', iid='B00136JF9M', r_ui=5.0, est=5, details={'actual_k': 1, 'was_impossible': False}),\n",
       " Prediction(uid='AZU1FF60BCYU4', iid='B00V94HFI6', r_ui=5.0, est=4.712972936582739, details={'was_impossible': True, 'reason': 'User and/or item is unknown.'}),\n",
       " Prediction(uid='AJGNNA8B751SW', iid='B00137OHD0', r_ui=5.0, est=4.991309212658489, details={'actual_k': 5, 'was_impossible': False}),\n",
       " Prediction(uid='A2JQ2QAZUV71WZ', iid='B002BPH1F4', r_ui=5.0, est=4.409836065573771, details={'actual_k': 0, 'was_impossible': False}),\n",
       " Prediction(uid='AZRK5W6XSHMBR', iid='B00VF3YXUY', r_ui=5.0, est=4.712972936582739, details={'was_impossible': True, 'reason': 'User and/or item is unknown.'}),\n",
       " Prediction(uid='A1JN8TZDMG8Y2F', iid='B00CZF8B68', r_ui=5.0, est=5, details={'actual_k': 1, 'was_impossible': False}),\n",
       " Prediction(uid='A58NEZYIIR2JF', iid='B00CZF8B68', r_ui=5.0, est=5, details={'actual_k': 2, 'was_impossible': False}),\n",
       " Prediction(uid='A3RPR34IAMF05A', iid='B000WGMYI8', r_ui=5.0, est=5, details={'actual_k': 4, 'was_impossible': False}),\n",
       " Prediction(uid='A1AFYF192BMKLF', iid='B00136J7OA', r_ui=5.0, est=5, details={'actual_k': 1, 'was_impossible': False}),\n",
       " Prediction(uid='A3PX53QADUY8JK', iid='B00EH49FRE', r_ui=4.0, est=4.076082835766521, details={'actual_k': 3, 'was_impossible': False}),\n",
       " Prediction(uid='A1EE4J8RUK4PYC', iid='B0011Z1BHO', r_ui=5.0, est=5, details={'actual_k': 2, 'was_impossible': False}),\n",
       " Prediction(uid='A3BEZFDYU1KM6A', iid='B00122X5VG', r_ui=5.0, est=4.992076688507332, details={'actual_k': 5, 'was_impossible': False}),\n",
       " Prediction(uid='A394BBG9GHE08B', iid='B000WH0UKQ', r_ui=5.0, est=4.999451333736158, details={'actual_k': 3, 'was_impossible': False}),\n",
       " Prediction(uid='A3AOYF3QNXJOAA', iid='B001226FHM', r_ui=5.0, est=5, details={'actual_k': 1, 'was_impossible': False}),\n",
       " Prediction(uid='A264LJ7DXWHJQH', iid='B00920DUI8', r_ui=5.0, est=4.978613272100449, details={'actual_k': 5, 'was_impossible': False}),\n",
       " Prediction(uid='A1B57G1D9KLJLH', iid='B0012CCO0E', r_ui=5.0, est=4.991296602691891, details={'actual_k': 3, 'was_impossible': False}),\n",
       " Prediction(uid='A3SKW58FJR00LJ', iid='B00137T4WE', r_ui=5.0, est=5, details={'actual_k': 1, 'was_impossible': False}),\n",
       " Prediction(uid='A2R6RA8FRBS608', iid='B00137ZQ0I', r_ui=5.0, est=5, details={'actual_k': 5, 'was_impossible': False}),\n",
       " Prediction(uid='A2VELWJR8XIQHN', iid='B00EH49FRE', r_ui=5.0, est=4.712972936582739, details={'was_impossible': True, 'reason': 'User and/or item is unknown.'}),\n",
       " Prediction(uid='A3MQ8TMRY02F3A', iid='B006OITIWS', r_ui=4.0, est=4.048105263157895, details={'actual_k': 1, 'was_impossible': False}),\n",
       " Prediction(uid='A3ASN81QBBMSXY', iid='B00R4PKGYE', r_ui=5.0, est=4.712972936582739, details={'was_impossible': True, 'reason': 'User and/or item is unknown.'}),\n",
       " Prediction(uid='A4IM0ZAMQS34Y', iid='B00AAAKHZ8', r_ui=3.0, est=3.1781420765027315, details={'actual_k': 1, 'was_impossible': False}),\n",
       " Prediction(uid='A2T09VT7R0PA4A', iid='B002TA4MSU', r_ui=5.0, est=4.945081967213115, details={'actual_k': 1, 'was_impossible': False}),\n",
       " Prediction(uid='A2XLYJIQHITC3X', iid='B00136LDKQ', r_ui=5.0, est=4.712972936582739, details={'was_impossible': True, 'reason': 'User and/or item is unknown.'}),\n",
       " Prediction(uid='A1YJIWBQOKBXJQ', iid='B00137MFXY', r_ui=5.0, est=4.99784732893275, details={'actual_k': 5, 'was_impossible': False}),\n",
       " Prediction(uid='A1TVO4AO52Q72M', iid='B00137IJUM', r_ui=5.0, est=5, details={'actual_k': 1, 'was_impossible': False}),\n",
       " Prediction(uid='A120UTHQDQIJGH', iid='B00UMI95DI', r_ui=2.0, est=4.712972936582739, details={'was_impossible': True, 'reason': 'User and/or item is unknown.'}),\n",
       " Prediction(uid='A9HMDCCQZJ6NN', iid='B00137IJUM', r_ui=3.0, est=3.0, details={'actual_k': 1, 'was_impossible': False}),\n",
       " Prediction(uid='A2KSUW9TLQASHC', iid='B00W8DLF7Y', r_ui=5.0, est=4.894736842105263, details={'actual_k': 0, 'was_impossible': False}),\n",
       " Prediction(uid='A245XRTEB2IQKH', iid='B00136NIPO', r_ui=5.0, est=4.98911557446859, details={'actual_k': 2, 'was_impossible': False}),\n",
       " Prediction(uid='A10YHHXK6OKAMA', iid='B00137ZQ0I', r_ui=5.0, est=4.995197693202937, details={'actual_k': 5, 'was_impossible': False}),\n",
       " Prediction(uid='A3TDWR2G5MSTM2', iid='B0012298LC', r_ui=5.0, est=4.816246315099902, details={'actual_k': 1, 'was_impossible': False}),\n",
       " Prediction(uid='A1PWANJ4V0TXCO', iid='B000VZYYWY', r_ui=5.0, est=5, details={'actual_k': 3, 'was_impossible': False}),\n",
       " Prediction(uid='AKG9D4CL5MIS9', iid='B01929H4VM', r_ui=5.0, est=4.712972936582739, details={'was_impossible': True, 'reason': 'User and/or item is unknown.'}),\n",
       " Prediction(uid='AF9NWZ4SJ5ZUU', iid='B000ZDONPU', r_ui=5.0, est=4.809523809523809, details={'actual_k': 0, 'was_impossible': False}),\n",
       " Prediction(uid='A32EZCRICSFPBC', iid='B00OVKKUW8', r_ui=5.0, est=5, details={'actual_k': 4, 'was_impossible': False}),\n",
       " Prediction(uid='A2PI9S4A1V8SLE', iid='B000YNNTWY', r_ui=5.0, est=4.714285714285714, details={'actual_k': 0, 'was_impossible': False}),\n",
       " Prediction(uid='A36GQV2C4O0DXE', iid='B00NPZI1ZS', r_ui=5.0, est=4.712972936582739, details={'was_impossible': True, 'reason': 'User and/or item is unknown.'}),\n",
       " Prediction(uid='A27YXZS8KA3SQT', iid='B00FAEQ22G', r_ui=5.0, est=4.770833333333333, details={'actual_k': 0, 'was_impossible': False}),\n",
       " Prediction(uid='AWMLV7I2E49RM', iid='B0099G7KDQ', r_ui=5.0, est=4.293103448275862, details={'actual_k': 0, 'was_impossible': False}),\n",
       " Prediction(uid='ABH2HJM9MH3QX', iid='B00122WLIE', r_ui=3.0, est=3.0508318626747535, details={'actual_k': 4, 'was_impossible': False}),\n",
       " Prediction(uid='AA3EEURDFTWZD', iid='B0043CJC3C', r_ui=5.0, est=5, details={'actual_k': 1, 'was_impossible': False}),\n",
       " Prediction(uid='A2V5XFNXPUQVLS', iid='B00137MTF8', r_ui=5.0, est=5, details={'actual_k': 4, 'was_impossible': False}),\n",
       " Prediction(uid='A3U8RGCLC5WWBX', iid='B00OQZ4BV4', r_ui=3.0, est=2.9138418079096047, details={'actual_k': 1, 'was_impossible': False}),\n",
       " Prediction(uid='AVWL0QJC0HMTW', iid='B001IXQU3O', r_ui=5.0, est=4.985708831298728, details={'actual_k': 5, 'was_impossible': False}),\n",
       " Prediction(uid='A2X4ZKLENAS628', iid='B00NW3ZFJI', r_ui=5.0, est=4.712972936582739, details={'was_impossible': True, 'reason': 'User and/or item is unknown.'}),\n",
       " Prediction(uid='AIGV58PWNNZSJ', iid='B00A8U014C', r_ui=4.0, est=4.712972936582739, details={'was_impossible': True, 'reason': 'User and/or item is unknown.'}),\n",
       " Prediction(uid='A2I0VU158LGL4J', iid='B00137QS28', r_ui=5.0, est=4.712972936582739, details={'was_impossible': True, 'reason': 'User and/or item is unknown.'}),\n",
       " Prediction(uid='A2ABJ4XM4MJ5CD', iid='B00136NFOI', r_ui=5.0, est=4.974042725034155, details={'actual_k': 5, 'was_impossible': False}),\n",
       " Prediction(uid='A25WA47V0Q5KKF', iid='B00ISAEB5E', r_ui=5.0, est=4.956346294937638, details={'actual_k': 1, 'was_impossible': False}),\n",
       " Prediction(uid='A3JQ7JBTC4M50Z', iid='B0011Z8OFQ', r_ui=5.0, est=5, details={'actual_k': 1, 'was_impossible': False}),\n",
       " Prediction(uid='A1LV6ESMUCGPKJ', iid='B00137KRYS', r_ui=5.0, est=4.986047260513971, details={'actual_k': 3, 'was_impossible': False}),\n",
       " Prediction(uid='A1UHV0T152J92N', iid='B0011Z0YN6', r_ui=5.0, est=5, details={'actual_k': 1, 'was_impossible': False}),\n",
       " Prediction(uid='A14RCZXAW50QR1', iid='B00BWGHIHY', r_ui=5.0, est=4.83477203682309, details={'actual_k': 3, 'was_impossible': False}),\n",
       " Prediction(uid='A1NE2JUSFIODIP', iid='B00GDL60JU', r_ui=5.0, est=5, details={'actual_k': 2, 'was_impossible': False}),\n",
       " Prediction(uid='A2TXKUC8SN53H7', iid='B00137GF6M', r_ui=5.0, est=4.998697269952757, details={'actual_k': 5, 'was_impossible': False}),\n",
       " Prediction(uid='A3JNK8Q3PLRK3W', iid='B0011Z8OFQ', r_ui=5.0, est=4.998601338705044, details={'actual_k': 2, 'was_impossible': False}),\n",
       " Prediction(uid='A15M1ZKE7QTKJO', iid='B00QVZ1VXI', r_ui=5.0, est=4.526315789473684, details={'actual_k': 0, 'was_impossible': False}),\n",
       " Prediction(uid='AJGNNA8B751SW', iid='B00122OUI8', r_ui=5.0, est=5, details={'actual_k': 3, 'was_impossible': False}),\n",
       " Prediction(uid='A1UTRB854JP5ML', iid='B00137KH9S', r_ui=5.0, est=5, details={'actual_k': 1, 'was_impossible': False}),\n",
       " Prediction(uid='A1PREFXIZPJCEG', iid='B008XCJ0KI', r_ui=5.0, est=4.908893175696173, details={'actual_k': 5, 'was_impossible': False}),\n",
       " Prediction(uid='A33VHROP85M6WN', iid='B00136J7ZE', r_ui=5.0, est=5, details={'actual_k': 1, 'was_impossible': False}),\n",
       " Prediction(uid='A3IH5L48F016GF', iid='B00137KMKW', r_ui=3.0, est=3.0599064419062003, details={'actual_k': 3, 'was_impossible': False}),\n",
       " Prediction(uid='A3GTLP6LHYPERO', iid='B0011XCZ1M', r_ui=5.0, est=5, details={'actual_k': 2, 'was_impossible': False}),\n",
       " Prediction(uid='A1MSA79F5J0KXW', iid='B00136LECS', r_ui=5.0, est=5, details={'actual_k': 3, 'was_impossible': False}),\n",
       " Prediction(uid='A1NC5YN34N5VRX', iid='B009KGKF3M', r_ui=5.0, est=5, details={'actual_k': 3, 'was_impossible': False}),\n",
       " Prediction(uid='ASICV7FHJFLZR', iid='B00PN14AKC', r_ui=5.0, est=5, details={'actual_k': 1, 'was_impossible': False}),\n",
       " Prediction(uid='A2VVILVIL5ZG6P', iid='B00137MJI0', r_ui=5.0, est=5, details={'actual_k': 1, 'was_impossible': False}),\n",
       " Prediction(uid='A13W3I1EKG43IA', iid='B00961ZGQC', r_ui=5.0, est=4.617977528089888, details={'actual_k': 0, 'was_impossible': False}),\n",
       " Prediction(uid='A2C4RL7PIY8IF4', iid='B005VPSEVG', r_ui=5.0, est=4.7555555555555555, details={'actual_k': 0, 'was_impossible': False}),\n",
       " Prediction(uid='A2E1J3LGHQN057', iid='B00136NUG6', r_ui=5.0, est=4.99856387273066, details={'actual_k': 3, 'was_impossible': False}),\n",
       " Prediction(uid='A9FAQFMX3S8FP', iid='B00OXE38D0', r_ui=5.0, est=4.634408602150538, details={'actual_k': 0, 'was_impossible': False}),\n",
       " Prediction(uid='A3U8RGCLC5WWBX', iid='B00136JJM0', r_ui=4.0, est=3.087719298245614, details={'actual_k': 1, 'was_impossible': False}),\n",
       " Prediction(uid='AWAFIR8NFIMSQ', iid='B0011Z8OFQ', r_ui=5.0, est=4.712972936582739, details={'was_impossible': True, 'reason': 'User and/or item is unknown.'}),\n",
       " Prediction(uid='AXG287OY16WWL', iid='B0011Z8PXC', r_ui=4.0, est=3.995625799571085, details={'actual_k': 3, 'was_impossible': False}),\n",
       " Prediction(uid='A1G5XXV19J68WG', iid='B00CZF8B68', r_ui=5.0, est=5, details={'actual_k': 4, 'was_impossible': False}),\n",
       " Prediction(uid='A3W4D8XOGLWUN5', iid='B0011Z5IJG', r_ui=4.0, est=4.002370995666519, details={'actual_k': 5, 'was_impossible': False}),\n",
       " Prediction(uid='A2RU9ASRPWBLG3', iid='B0058U21N6', r_ui=5.0, est=4.761904761904762, details={'actual_k': 0, 'was_impossible': False}),\n",
       " Prediction(uid='AJKWF4W7QD4NS', iid='B00158SHD8', r_ui=4.0, est=4.0, details={'actual_k': 1, 'was_impossible': False}),\n",
       " Prediction(uid='A25UECVKS2E2ZF', iid='B005636FKU', r_ui=5.0, est=4.526315789473684, details={'actual_k': 0, 'was_impossible': False}),\n",
       " Prediction(uid='A24AGZ8LUR9WHE', iid='B00K9DAJMC', r_ui=5.0, est=5, details={'actual_k': 1, 'was_impossible': False}),\n",
       " Prediction(uid='A232LQZMNLKZRM', iid='B00F0AIE4E', r_ui=5.0, est=4.4402557644353795, details={'actual_k': 2, 'was_impossible': False}),\n",
       " Prediction(uid='A1EN23MM1N1Q8B', iid='B00136NUG6', r_ui=3.0, est=4.712972936582739, details={'was_impossible': True, 'reason': 'User and/or item is unknown.'}),\n",
       " Prediction(uid='A29SS7GR4SNK2T', iid='B0013JWPPU', r_ui=5.0, est=4.998947192795201, details={'actual_k': 4, 'was_impossible': False}),\n",
       " Prediction(uid='A10FRUJV17R7TG', iid='B00VY4GJM4', r_ui=5.0, est=4.931353135313532, details={'actual_k': 1, 'was_impossible': False}),\n",
       " Prediction(uid='A235SL9JU3D5EK', iid='B0011Z77TA', r_ui=5.0, est=5, details={'actual_k': 3, 'was_impossible': False}),\n",
       " Prediction(uid='A1130B9F6WOF5V', iid='B00124BPBG', r_ui=5.0, est=4.712972936582739, details={'was_impossible': True, 'reason': 'User and/or item is unknown.'}),\n",
       " Prediction(uid='A4OA4UWH4DPG7', iid='B00122ML0W', r_ui=5.0, est=4.9941277178224, details={'actual_k': 3, 'was_impossible': False}),\n",
       " Prediction(uid='A33Y6WFHLVU45T', iid='B00122IPBG', r_ui=5.0, est=5, details={'actual_k': 3, 'was_impossible': False}),\n",
       " Prediction(uid='A25VQORE9NAF4Y', iid='B0011Z10UM', r_ui=5.0, est=4.7924528301886795, details={'actual_k': 0, 'was_impossible': False}),\n",
       " Prediction(uid='A1M1FQQGJYYP3F', iid='B0012EESZG', r_ui=5.0, est=5, details={'actual_k': 4, 'was_impossible': False}),\n",
       " Prediction(uid='A5P7STTZE2MJV', iid='B000ZMUV2K', r_ui=5.0, est=4.989598102484281, details={'actual_k': 4, 'was_impossible': False}),\n",
       " Prediction(uid='A17BKQC4M62W3Y', iid='B000WZWW7M', r_ui=5.0, est=5, details={'actual_k': 5, 'was_impossible': False}),\n",
       " Prediction(uid='AEWQUA5QV4RQL', iid='B001235DTW', r_ui=5.0, est=5, details={'actual_k': 1, 'was_impossible': False}),\n",
       " Prediction(uid='A2BW4GFLW3YSKE', iid='B00970FKQ8', r_ui=5.0, est=5, details={'actual_k': 1, 'was_impossible': False}),\n",
       " Prediction(uid='A15T3Y3BL2AJ9V', iid='B00137IDLC', r_ui=5.0, est=5, details={'actual_k': 5, 'was_impossible': False}),\n",
       " Prediction(uid='A121B1GMDFNLZT', iid='B009G78G2C', r_ui=5.0, est=5, details={'actual_k': 1, 'was_impossible': False}),\n",
       " Prediction(uid='A2IEX7ESCYYD5H', iid='B00136RVG6', r_ui=5.0, est=4.997208404862861, details={'actual_k': 5, 'was_impossible': False}),\n",
       " Prediction(uid='A265HF87T14R7U', iid='B00IKS2BHY', r_ui=5.0, est=4.699834574028122, details={'actual_k': 1, 'was_impossible': False}),\n",
       " Prediction(uid='AUFJRMYL1K9OZ', iid='B00122MLIY', r_ui=4.0, est=4.0, details={'actual_k': 1, 'was_impossible': False}),\n",
       " Prediction(uid='A310KT1UQC5UNU', iid='B00FAEQ65Y', r_ui=5.0, est=5, details={'actual_k': 1, 'was_impossible': False}),\n",
       " Prediction(uid='A3V34YQOWJ4HR4', iid='B01F49DZEO', r_ui=5.0, est=4.712972936582739, details={'was_impossible': True, 'reason': 'User and/or item is unknown.'}),\n",
       " Prediction(uid='A2OBJRNFZDVM7X', iid='B001KQFZWQ', r_ui=5.0, est=4.712972936582739, details={'was_impossible': True, 'reason': 'User and/or item is unknown.'}),\n",
       " Prediction(uid='A2HZGMFXIEYF12', iid='B00136NFOI', r_ui=5.0, est=5, details={'actual_k': 1, 'was_impossible': False}),\n",
       " Prediction(uid='A3IPRWWL1ZOTR4', iid='B00BS4QPDS', r_ui=5.0, est=4.712972936582739, details={'was_impossible': True, 'reason': 'User and/or item is unknown.'}),\n",
       " Prediction(uid='A356GY86LIPUWD', iid='B00GLP4DMO', r_ui=5.0, est=4.712972936582739, details={'was_impossible': True, 'reason': 'User and/or item is unknown.'}),\n",
       " Prediction(uid='A2GSP16DH7LX6J', iid='B00CZF8B68', r_ui=5.0, est=4.825806451612904, details={'actual_k': 0, 'was_impossible': False}),\n",
       " Prediction(uid='A3EHHUDXBDKLFX', iid='B00OXE38D0', r_ui=4.0, est=4.610361915949207, details={'actual_k': 5, 'was_impossible': False}),\n",
       " Prediction(uid='A2AXGC87SOG0Q5', iid='B000W0112Y', r_ui=5.0, est=5, details={'actual_k': 1, 'was_impossible': False}),\n",
       " Prediction(uid='A2V0C5LIV1C9BA', iid='B00GG3OYMK', r_ui=5.0, est=5, details={'actual_k': 1, 'was_impossible': False}),\n",
       " Prediction(uid='A3BDJEW165ZXT6', iid='B00136JF8I', r_ui=5.0, est=5, details={'actual_k': 1, 'was_impossible': False}),\n",
       " Prediction(uid='AUDSM2CTLLW1Q', iid='B00LWC6P1S', r_ui=2.0, est=2.804521370371986, details={'actual_k': 4, 'was_impossible': False}),\n",
       " Prediction(uid='A3GGA163GM7VX7', iid='B0011Z1D8Q', r_ui=4.0, est=4.001144399667333, details={'actual_k': 3, 'was_impossible': False}),\n",
       " Prediction(uid='A1QJ5AX049KOGM', iid='B011DBV2NI', r_ui=5.0, est=5, details={'actual_k': 2, 'was_impossible': False}),\n",
       " Prediction(uid='A2HKQX6AXO5SFF', iid='B00136J7ZE', r_ui=5.0, est=5, details={'actual_k': 1, 'was_impossible': False}),\n",
       " Prediction(uid='AXHSMI8VFE39H', iid='B00C0NFOSI', r_ui=5.0, est=4.664222873900293, details={'actual_k': 1, 'was_impossible': False}),\n",
       " Prediction(uid='A1PE70V1WJIRT5', iid='B00CZF8B68', r_ui=5.0, est=4.712972936582739, details={'was_impossible': True, 'reason': 'User and/or item is unknown.'}),\n",
       " Prediction(uid='AEJAGHLC675A7', iid='B000W174QU', r_ui=5.0, est=4.790322580645161, details={'actual_k': 0, 'was_impossible': False}),\n",
       " Prediction(uid='A2Y15V0XX965CL', iid='B00136NUG6', r_ui=5.0, est=5, details={'actual_k': 1, 'was_impossible': False}),\n",
       " Prediction(uid='A2WEHGEXFP1NDP', iid='B00136LVM6', r_ui=5.0, est=5, details={'actual_k': 1, 'was_impossible': False}),\n",
       " Prediction(uid='A2X2NZPZ5PJGC0', iid='B009VLX8FS', r_ui=1.0, est=4.3625, details={'actual_k': 0, 'was_impossible': False}),\n",
       " Prediction(uid='AFAJTPU988FU8', iid='B00136RO2M', r_ui=4.0, est=4.8125, details={'actual_k': 0, 'was_impossible': False}),\n",
       " Prediction(uid='A25PFM3X21ECQP', iid='B00B6CDOFO', r_ui=5.0, est=4.533333333333333, details={'actual_k': 0, 'was_impossible': False}),\n",
       " Prediction(uid='A1CT5L6TCX0WQT', iid='B0013SELJO', r_ui=4.0, est=4.0, details={'actual_k': 1, 'was_impossible': False}),\n",
       " Prediction(uid='A1JPS356TVJYD7', iid='B0011Z4YB4', r_ui=5.0, est=5, details={'actual_k': 1, 'was_impossible': False}),\n",
       " Prediction(uid='A2U6GBLTMWMACQ', iid='B009KGKF3M', r_ui=5.0, est=5, details={'actual_k': 1, 'was_impossible': False}),\n",
       " Prediction(uid='A3BU92XQ2M0FQV', iid='B00FAEQ22G', r_ui=4.0, est=4.968937902694791, details={'actual_k': 4, 'was_impossible': False}),\n",
       " Prediction(uid='AQGSUW7AZHQ51', iid='B0108UP0EC', r_ui=4.0, est=4.712972936582739, details={'was_impossible': True, 'reason': 'User and/or item is unknown.'}),\n",
       " Prediction(uid='A3Q0Y57BYSUSLZ', iid='B00LPHKKIO', r_ui=5.0, est=4.649572974777719, details={'actual_k': 3, 'was_impossible': False}),\n",
       " Prediction(uid='A24FGTM9ZKNEHP', iid='B0011Z74IE', r_ui=5.0, est=5, details={'actual_k': 5, 'was_impossible': False}),\n",
       " Prediction(uid='A2A1AVOID5WSKV', iid='B001226FHM', r_ui=5.0, est=5, details={'actual_k': 1, 'was_impossible': False}),\n",
       " Prediction(uid='A3W4D8XOGLWUN5', iid='B00137MTF8', r_ui=4.0, est=4.013691956686346, details={'actual_k': 5, 'was_impossible': False}),\n",
       " Prediction(uid='A1OL79US7TQMTF', iid='B000WGMYI8', r_ui=5.0, est=5, details={'actual_k': 1, 'was_impossible': False}),\n",
       " Prediction(uid='A1U9QCLMWU52F6', iid='B01DOO46BM', r_ui=5.0, est=4.956521739130435, details={'actual_k': 0, 'was_impossible': False}),\n",
       " Prediction(uid='ADWSD45P3NZGU', iid='B0011Z762I', r_ui=5.0, est=5, details={'actual_k': 5, 'was_impossible': False}),\n",
       " Prediction(uid='A2DCS39GFBJV24', iid='B000W02O2K', r_ui=5.0, est=4.989524265226094, details={'actual_k': 5, 'was_impossible': False}),\n",
       " Prediction(uid='A5SVUGPL1KDHU', iid='B0170K9UTO', r_ui=5.0, est=4.956813771829444, details={'actual_k': 1, 'was_impossible': False}),\n",
       " Prediction(uid='A1AOUPRA02ZT0M', iid='B00PJIGEQW', r_ui=5.0, est=4.698412698412699, details={'actual_k': 0, 'was_impossible': False}),\n",
       " Prediction(uid='A3RDHSSNRB4Q60', iid='B000Z1GR9C', r_ui=5.0, est=4.933366978014776, details={'actual_k': 3, 'was_impossible': False}),\n",
       " Prediction(uid='A1L1WRO1TQDKSW', iid='B00137T3A2', r_ui=5.0, est=4.712972936582739, details={'was_impossible': True, 'reason': 'User and/or item is unknown.'}),\n",
       " Prediction(uid='A3DB65LT2ENTNQ', iid='B00R4PKGYE', r_ui=5.0, est=4.712972936582739, details={'was_impossible': True, 'reason': 'User and/or item is unknown.'}),\n",
       " Prediction(uid='A31HAFEPOAR7ZS', iid='B00137KOPK', r_ui=5.0, est=5, details={'actual_k': 1, 'was_impossible': False}),\n",
       " Prediction(uid='A22RZG1NQ0WAUX', iid='B00TINQKX6', r_ui=5.0, est=4.921052631578948, details={'actual_k': 0, 'was_impossible': False}),\n",
       " Prediction(uid='A27DFBSDB4YQ66', iid='B01DOO46BM', r_ui=5.0, est=4.712972936582739, details={'was_impossible': True, 'reason': 'User and/or item is unknown.'}),\n",
       " Prediction(uid='A2UBQA85NIGLHA', iid='B000S51XMQ', r_ui=5.0, est=5, details={'actual_k': 1, 'was_impossible': False}),\n",
       " Prediction(uid='A27XUU8ZPM5UUW', iid='B00122IPBG', r_ui=5.0, est=5, details={'actual_k': 1, 'was_impossible': False}),\n",
       " Prediction(uid='A3F6KOXFEYZO0C', iid='B00CZF8B68', r_ui=5.0, est=4.871260997067449, details={'actual_k': 1, 'was_impossible': False}),\n",
       " Prediction(uid='ASFQBB524HVRJ', iid='B000X6TUGQ', r_ui=5.0, est=4.136572482078707, details={'actual_k': 3, 'was_impossible': False}),\n",
       " Prediction(uid='A2K6RT4ET41MQC', iid='B00FP1NNJY', r_ui=5.0, est=4.626262626262626, details={'actual_k': 0, 'was_impossible': False}),\n",
       " Prediction(uid='AW9LBAXZ9VZ5F', iid='B01D41ASOE', r_ui=5.0, est=4.813953488372093, details={'actual_k': 0, 'was_impossible': False}),\n",
       " Prediction(uid='A16JY8KIL0B7T0', iid='B0011Z1D8Q', r_ui=5.0, est=5, details={'actual_k': 1, 'was_impossible': False}),\n",
       " Prediction(uid='A307KRGS93AWUV', iid='B00330WKMA', r_ui=5.0, est=4.960040983606557, details={'actual_k': 1, 'was_impossible': False}),\n",
       " Prediction(uid='A1D3P0DD6121R2', iid='B001BZDDYS', r_ui=5.0, est=5, details={'actual_k': 1, 'was_impossible': False}),\n",
       " Prediction(uid='A3LIOQ6M991VBX', iid='B00A7ZXBE0', r_ui=5.0, est=4.589191983542459, details={'actual_k': 5, 'was_impossible': False}),\n",
       " Prediction(uid='A25WA47V0Q5KKF', iid='B00LAP3KS8', r_ui=5.0, est=4.940298507462686, details={'actual_k': 0, 'was_impossible': False}),\n",
       " Prediction(uid='AEN6Z8ZH80IB5', iid='B00YQQS1PU', r_ui=4.0, est=4.725, details={'actual_k': 0, 'was_impossible': False}),\n",
       " Prediction(uid='A33LBTRTH6XOLE', iid='B002HP8EKE', r_ui=4.0, est=4.2942857142857145, details={'actual_k': 1, 'was_impossible': False}),\n",
       " Prediction(uid='A101RMTZ93J1KH', iid='B00137MFXY', r_ui=5.0, est=4.922328870927002, details={'actual_k': 2, 'was_impossible': False}),\n",
       " Prediction(uid='A2H63285G096KF', iid='B000Z1GR9C', r_ui=5.0, est=5, details={'actual_k': 2, 'was_impossible': False}),\n",
       " Prediction(uid='ANF3BKUMVZEDK', iid='B00FY9PGJ2', r_ui=5.0, est=5, details={'actual_k': 3, 'was_impossible': False}),\n",
       " Prediction(uid='AI1E9YL2YWSI3', iid='B00137GGZC', r_ui=5.0, est=5, details={'actual_k': 1, 'was_impossible': False}),\n",
       " Prediction(uid='A1BX06Z8YC3RLS', iid='B00BWGHIHY', r_ui=5.0, est=4.801848403117567, details={'actual_k': 3, 'was_impossible': False}),\n",
       " Prediction(uid='A12SSZIN555FTL', iid='B00137GB8Y', r_ui=5.0, est=5, details={'actual_k': 1, 'was_impossible': False}),\n",
       " Prediction(uid='A9SXQ36MXY6H7', iid='B004NYNGTQ', r_ui=5.0, est=4.712972936582739, details={'was_impossible': True, 'reason': 'User and/or item is unknown.'}),\n",
       " Prediction(uid='A1GIIPXONCEEHP', iid='B01929H4VM', r_ui=5.0, est=4.879674973045916, details={'actual_k': 3, 'was_impossible': False}),\n",
       " Prediction(uid='A2KSUW9TLQASHC', iid='B00NJMNLRK', r_ui=5.0, est=4.945531948754675, details={'actual_k': 1, 'was_impossible': False}),\n",
       " Prediction(uid='A29B9V1B0EGOYM', iid='B00136NFOI', r_ui=5.0, est=4.854568854568855, details={'actual_k': 2, 'was_impossible': False}),\n",
       " Prediction(uid='A1IQCQUA8Z8K5G', iid='B00137GB8Y', r_ui=4.0, est=4.0, details={'actual_k': 1, 'was_impossible': False}),\n",
       " Prediction(uid='AJJNAHV3PN7WW', iid='B00136NEAI', r_ui=5.0, est=5, details={'actual_k': 1, 'was_impossible': False}),\n",
       " Prediction(uid='A17H0848XMVGBP', iid='B0012298LC', r_ui=5.0, est=4.991142877794691, details={'actual_k': 4, 'was_impossible': False}),\n",
       " Prediction(uid='A1UHV0T152J92N', iid='B00136LFEA', r_ui=5.0, est=5, details={'actual_k': 1, 'was_impossible': False}),\n",
       " Prediction(uid='A1G622IJGI2R3T', iid='B00122OUI8', r_ui=5.0, est=5, details={'actual_k': 2, 'was_impossible': False}),\n",
       " Prediction(uid='AN0DDBQW1I5A3', iid='B0011Z5KBC', r_ui=5.0, est=5, details={'actual_k': 1, 'was_impossible': False}),\n",
       " Prediction(uid='A17PDCKHEDCV3U', iid='B00970FKQ8', r_ui=5.0, est=4.544, details={'actual_k': 0, 'was_impossible': False}),\n",
       " Prediction(uid='A3K5MN5IEC22LO', iid='B00137QMFG', r_ui=5.0, est=4.99327731092437, details={'actual_k': 1, 'was_impossible': False}),\n",
       " Prediction(uid='A3G6QZJBB466TC', iid='B002HP8EKE', r_ui=5.0, est=3.38, details={'actual_k': 0, 'was_impossible': False}),\n",
       " Prediction(uid='A14SGXD8VCKDV4', iid='B004NYNGTQ', r_ui=5.0, est=5, details={'actual_k': 1, 'was_impossible': False}),\n",
       " Prediction(uid='A1ET8SZ6FNUH1F', iid='B00EE0O6HU', r_ui=5.0, est=5, details={'actual_k': 1, 'was_impossible': False}),\n",
       " Prediction(uid='A3HRMELB7XKOT2', iid='B000W174QU', r_ui=5.0, est=5, details={'actual_k': 1, 'was_impossible': False}),\n",
       " Prediction(uid='A1GLCV62HN7J0D', iid='B00CMIUOPE', r_ui=5.0, est=4.910493827160494, details={'actual_k': 1, 'was_impossible': False}),\n",
       " Prediction(uid='A2X8AZWWE8HA2G', iid='B00B113E0U', r_ui=5.0, est=4.916666666666667, details={'actual_k': 0, 'was_impossible': False}),\n",
       " Prediction(uid='A2S6QCNNN8AK91', iid='B001KQFZWQ', r_ui=5.0, est=4.852396878483835, details={'actual_k': 1, 'was_impossible': False}),\n",
       " Prediction(uid='A233G39GPEFJL6', iid='B00UC9F0FO', r_ui=5.0, est=5, details={'actual_k': 1, 'was_impossible': False}),\n",
       " Prediction(uid='A5UUKLEXZMJLQ', iid='B000JF21D0', r_ui=1.0, est=4.58, details={'actual_k': 0, 'was_impossible': False}),\n",
       " Prediction(uid='A2TFRMJG12K3WO', iid='B00137GGZC', r_ui=5.0, est=4.99140040509833, details={'actual_k': 4, 'was_impossible': False}),\n",
       " Prediction(uid='A13DZA3VOGESOL', iid='B00136JD9Y', r_ui=5.0, est=4.999187556923309, details={'actual_k': 2, 'was_impossible': False}),\n",
       " Prediction(uid='A3MP9S24707YOS', iid='B005VPSEVG', r_ui=4.0, est=4.568430066280808, details={'actual_k': 2, 'was_impossible': False}),\n",
       " Prediction(uid='A1FTD9W4MWEAHP', iid='B00OXE38D0', r_ui=5.0, est=5, details={'actual_k': 2, 'was_impossible': False}),\n",
       " Prediction(uid='A3G6F9P47FPCIG', iid='B00CUR29GY', r_ui=5.0, est=4.712972936582739, details={'was_impossible': True, 'reason': 'User and/or item is unknown.'}),\n",
       " Prediction(uid='A3OR537X48OD09', iid='B00UC9F0FO', r_ui=5.0, est=5, details={'actual_k': 1, 'was_impossible': False}),\n",
       " Prediction(uid='AAA6LBA2CLN88', iid='B0011Z4Z3G', r_ui=4.0, est=3.9823480269024794, details={'actual_k': 3, 'was_impossible': False}),\n",
       " Prediction(uid='A1V106YS1KRAMV', iid='B009G3T2T2', r_ui=5.0, est=4.613636363636363, details={'actual_k': 0, 'was_impossible': False}),\n",
       " Prediction(uid='A2PVO45T85NY24', iid='B00136RPYE', r_ui=5.0, est=4.712972936582739, details={'was_impossible': True, 'reason': 'User and/or item is unknown.'}),\n",
       " Prediction(uid='A2I2IVPGTOT3AE', iid='B005UWEKZE', r_ui=5.0, est=4.712972936582739, details={'was_impossible': True, 'reason': 'User and/or item is unknown.'}),\n",
       " Prediction(uid='A28I8BLNA188DU', iid='B00137VCQK', r_ui=2.0, est=4.0, details={'actual_k': 3, 'was_impossible': False}),\n",
       " Prediction(uid='A2AJKTX73X15UH', iid='B00137GF6M', r_ui=5.0, est=4.997855046285843, details={'actual_k': 3, 'was_impossible': False}),\n",
       " Prediction(uid='AHKDPVRV0D3RV', iid='B006OITIWS', r_ui=5.0, est=4.712972936582739, details={'was_impossible': True, 'reason': 'User and/or item is unknown.'}),\n",
       " Prediction(uid='A1HRAYODMCNEHW', iid='B002NQTG5Y', r_ui=5.0, est=4.712972936582739, details={'was_impossible': True, 'reason': 'User and/or item is unknown.'}),\n",
       " Prediction(uid='A3MVKDM4FH48N5', iid='B00CMIUOPE', r_ui=5.0, est=4.372469339133756, details={'actual_k': 3, 'was_impossible': False}),\n",
       " Prediction(uid='A2748AP5BY6NU9', iid='B00ELD1RPY', r_ui=5.0, est=4.968023255813954, details={'actual_k': 1, 'was_impossible': False}),\n",
       " Prediction(uid='A5N3TY1001J1J', iid='B00ELD1RPY', r_ui=5.0, est=4.712972936582739, details={'was_impossible': True, 'reason': 'User and/or item is unknown.'}),\n",
       " Prediction(uid='A3JQLAUQHL3ZG3', iid='B0092MKTWQ', r_ui=5.0, est=4.712972936582739, details={'was_impossible': True, 'reason': 'User and/or item is unknown.'}),\n",
       " Prediction(uid='A2PI9S4A1V8SLE', iid='B000YNNTWY', r_ui=5.0, est=4.714285714285714, details={'actual_k': 0, 'was_impossible': False}),\n",
       " Prediction(uid='AD5S2SJSH1XRT', iid='B00137KL9Y', r_ui=5.0, est=5, details={'actual_k': 3, 'was_impossible': False}),\n",
       " Prediction(uid='A50E172X6VE3W', iid='B006Z1XZFK', r_ui=5.0, est=4.684563758389261, details={'actual_k': 0, 'was_impossible': False}),\n",
       " Prediction(uid='A12KC4IDE1EWA0', iid='B005VPSEVG', r_ui=5.0, est=4.7555555555555555, details={'actual_k': 0, 'was_impossible': False}),\n",
       " Prediction(uid='A1CG75D2Y7WIOI', iid='B00TINQKX6', r_ui=5.0, est=4.921052631578948, details={'actual_k': 0, 'was_impossible': False}),\n",
       " Prediction(uid='A3H8VIAY2WD5P7', iid='B00EE0O6HU', r_ui=5.0, est=5, details={'actual_k': 3, 'was_impossible': False}),\n",
       " Prediction(uid='A1NXIEVN6CQXPY', iid='B007MU87KG', r_ui=5.0, est=5, details={'actual_k': 2, 'was_impossible': False}),\n",
       " Prediction(uid='A1SHFKPOWESGQW', iid='B00NJMNLRK', r_ui=5.0, est=4.712972936582739, details={'was_impossible': True, 'reason': 'User and/or item is unknown.'}),\n",
       " Prediction(uid='A22HN0VTP9TCLJ', iid='B009L5EOCU', r_ui=3.0, est=4.443181818181818, details={'actual_k': 0, 'was_impossible': False}),\n",
       " Prediction(uid='A22ETOPSKD4PL7', iid='B0011Z310Y', r_ui=1.0, est=1.0489280545081088, details={'actual_k': 3, 'was_impossible': False}),\n",
       " Prediction(uid='A4V6BTS8ZIWDO', iid='B001411WRE', r_ui=5.0, est=5, details={'actual_k': 1, 'was_impossible': False}),\n",
       " Prediction(uid='A3ASUV965NSQ6Q', iid='B00122X5VG', r_ui=5.0, est=5, details={'actual_k': 5, 'was_impossible': False}),\n",
       " Prediction(uid='A14UPFLKGT9PPL', iid='B000JF21D0', r_ui=5.0, est=4.58, details={'actual_k': 0, 'was_impossible': False}),\n",
       " Prediction(uid='A196VIT149TLGV', iid='B006Q77W8Y', r_ui=5.0, est=5, details={'actual_k': 2, 'was_impossible': False}),\n",
       " Prediction(uid='A33FKGYG0SWDJM', iid='B000VZJS20', r_ui=5.0, est=4.983983444207428, details={'actual_k': 3, 'was_impossible': False}),\n",
       " Prediction(uid='A10UMIIKKL8WTB', iid='B00136PTYW', r_ui=5.0, est=4.948717948717949, details={'actual_k': 0, 'was_impossible': False}),\n",
       " Prediction(uid='A1W81WBRSGIA8L', iid='B00137T4WE', r_ui=5.0, est=4.9770759869665, details={'actual_k': 5, 'was_impossible': False}),\n",
       " Prediction(uid='A39JZXGQPTFW60', iid='B0011Z5KBC', r_ui=5.0, est=4.6909090909090905, details={'actual_k': 0, 'was_impossible': False}),\n",
       " Prediction(uid='AFXEO0ER6QWBS', iid='B00E91Q7Z8', r_ui=5.0, est=4.76595744680851, details={'actual_k': 0, 'was_impossible': False}),\n",
       " Prediction(uid='ACTDPSHFSWRD1', iid='B00AHXDGBA', r_ui=5.0, est=4.58, details={'actual_k': 0, 'was_impossible': False}),\n",
       " Prediction(uid='A2SIB3R3XTEYZF', iid='B002HP8EKE', r_ui=3.0, est=3.970163934426229, details={'actual_k': 1, 'was_impossible': False}),\n",
       " Prediction(uid='A2C9XUCN6KMB2U', iid='B005IKZ2W8', r_ui=5.0, est=4.716666666666667, details={'actual_k': 0, 'was_impossible': False}),\n",
       " Prediction(uid='A28LZYXYDXDM7G', iid='B002NQTG5Y', r_ui=5.0, est=4.657142857142857, details={'actual_k': 1, 'was_impossible': False}),\n",
       " Prediction(uid='A16T3KMKPG7MGQ', iid='B0013F48FY', r_ui=5.0, est=5, details={'actual_k': 1, 'was_impossible': False}),\n",
       " Prediction(uid='A15YTTEFO06YG2', iid='B006H1ME5A', r_ui=5.0, est=4.96935817805383, details={'actual_k': 1, 'was_impossible': False}),\n",
       " Prediction(uid='A2VOI85H5S0OH6', iid='B00CUR29GY', r_ui=5.0, est=4.927755324717924, details={'actual_k': 2, 'was_impossible': False}),\n",
       " Prediction(uid='A18P38AAU083CS', iid='B0043ZDFEQ', r_ui=3.0, est=4.678571428571429, details={'actual_k': 0, 'was_impossible': False}),\n",
       " Prediction(uid='A2FYO276AQCRYH', iid='B000WOWR00', r_ui=5.0, est=5, details={'actual_k': 1, 'was_impossible': False}),\n",
       " Prediction(uid='AG38O0L15AQCP', iid='B0011Z0YR2', r_ui=4.0, est=3.957041638246787, details={'actual_k': 2, 'was_impossible': False}),\n",
       " Prediction(uid='ATJV21G2AHB72', iid='B0017DHRJ6', r_ui=5.0, est=5, details={'actual_k': 2, 'was_impossible': False}),\n",
       " Prediction(uid='A2LCG00J6EFCHT', iid='B00137GB8Y', r_ui=5.0, est=5, details={'actual_k': 1, 'was_impossible': False}),\n",
       " Prediction(uid='A8FDPXL97J77R', iid='B003NJVBPS', r_ui=3.0, est=4.712972936582739, details={'was_impossible': True, 'reason': 'User and/or item is unknown.'}),\n",
       " Prediction(uid='A1TAA145G9GYUB', iid='B00137MFWK', r_ui=5.0, est=5, details={'actual_k': 1, 'was_impossible': False}),\n",
       " Prediction(uid='A2S6QCNNN8AK91', iid='B00C6MPTT2', r_ui=5.0, est=4.428571428571429, details={'actual_k': 0, 'was_impossible': False}),\n",
       " Prediction(uid='A1IMI4B95YDMV5', iid='B0012298LC', r_ui=5.0, est=5, details={'actual_k': 1, 'was_impossible': False}),\n",
       " Prediction(uid='A3664WDM7LDOX3', iid='B00136J7ZE', r_ui=3.0, est=3.017733291221895, details={'actual_k': 3, 'was_impossible': False}),\n",
       " Prediction(uid='A1PQ1PESSO8CMO', iid='B00FX8F6VM', r_ui=4.0, est=4.43772874439465, details={'actual_k': 2, 'was_impossible': False}),\n",
       " Prediction(uid='A2TSDETXQRK48V', iid='B00O2RCFDC', r_ui=4.0, est=4.712972936582739, details={'was_impossible': True, 'reason': 'User and/or item is unknown.'}),\n",
       " Prediction(uid='A3DWUM6SN3N3NR', iid='B001GH1ZQE', r_ui=4.0, est=4.712972936582739, details={'was_impossible': True, 'reason': 'User and/or item is unknown.'}),\n",
       " Prediction(uid='A1KL4HN6LRM8D5', iid='B01929H4VM', r_ui=5.0, est=4.712972936582739, details={'was_impossible': True, 'reason': 'User and/or item is unknown.'}),\n",
       " Prediction(uid='A3E9J04X1D8VKH', iid='B00XY7SGXY', r_ui=2.0, est=4.8604651162790695, details={'actual_k': 0, 'was_impossible': False}),\n",
       " Prediction(uid='A3ROZZ6GSY2G9W', iid='B00NJMNLRK', r_ui=5.0, est=4.928748964374482, details={'actual_k': 1, 'was_impossible': False}),\n",
       " Prediction(uid='A2RY57LMONMEDL', iid='B002IEW504', r_ui=5.0, est=4.712972936582739, details={'was_impossible': True, 'reason': 'User and/or item is unknown.'}),\n",
       " Prediction(uid='A2Q5RBKSC6KHXG', iid='B009G3T1J8', r_ui=5.0, est=4.712972936582739, details={'was_impossible': True, 'reason': 'User and/or item is unknown.'}),\n",
       " Prediction(uid='A18A3UVA3GXTN4', iid='9714721180', r_ui=5.0, est=4.7894736842105265, details={'actual_k': 0, 'was_impossible': False}),\n",
       " Prediction(uid='A13EX80RTESZAX', iid='B001232BWO', r_ui=5.0, est=5, details={'actual_k': 1, 'was_impossible': False}),\n",
       " Prediction(uid='A3K5MN5IEC22LO', iid='B00137SPH4', r_ui=5.0, est=5, details={'actual_k': 1, 'was_impossible': False}),\n",
       " Prediction(uid='A2LM7QTO3NRBOC', iid='B00137MPOI', r_ui=4.0, est=4.02545667987725, details={'actual_k': 5, 'was_impossible': False}),\n",
       " Prediction(uid='A1LOA4KCVVK6QG', iid='B0058U21N6', r_ui=5.0, est=4.502015818410754, details={'actual_k': 5, 'was_impossible': False}),\n",
       " Prediction(uid='A39CYUXTVGQSCF', iid='B00CZF8B68', r_ui=5.0, est=5, details={'actual_k': 5, 'was_impossible': False}),\n",
       " Prediction(uid='A236G9CMWRTKEQ', iid='B000V66UV6', r_ui=5.0, est=4.874620829120324, details={'actual_k': 1, 'was_impossible': False}),\n",
       " Prediction(uid='A3PKM0YS5UMCH', iid='B00137KL9Y', r_ui=5.0, est=5, details={'actual_k': 1, 'was_impossible': False}),\n",
       " Prediction(uid='AQRVHSZDGCJFZ', iid='B00OQZ4BV4', r_ui=5.0, est=4.712972936582739, details={'was_impossible': True, 'reason': 'User and/or item is unknown.'}),\n",
       " Prediction(uid='A4OJWUX1MKR3B', iid='B00GG3OYMK', r_ui=5.0, est=4.390786671865013, details={'actual_k': 3, 'was_impossible': False}),\n",
       " Prediction(uid='A10ZYNNXE6NVGB', iid='B00FY9PGJ2', r_ui=5.0, est=4.75, details={'actual_k': 0, 'was_impossible': False}),\n",
       " Prediction(uid='AELICR01RXGVF', iid='B015Y73TEW', r_ui=5.0, est=5, details={'actual_k': 1, 'was_impossible': False}),\n",
       " Prediction(uid='AP2F177DOPTR3', iid='B005IKZ2W8', r_ui=5.0, est=5, details={'actual_k': 1, 'was_impossible': False}),\n",
       " Prediction(uid='A3O7GCUU4VEZY3', iid='B008BNARH4', r_ui=4.0, est=4.232692307692307, details={'actual_k': 1, 'was_impossible': False}),\n",
       " Prediction(uid='A1Q7KVHUDSXUVZ', iid='B011DBVGH0', r_ui=5.0, est=5, details={'actual_k': 1, 'was_impossible': False}),\n",
       " Prediction(uid='A39FOO2PPLK50G', iid='B000ZDONPU', r_ui=5.0, est=5, details={'actual_k': 3, 'was_impossible': False}),\n",
       " Prediction(uid='A2MA7C2WLMP5LA', iid='B0011Z4YB4', r_ui=5.0, est=4.979389455110954, details={'actual_k': 4, 'was_impossible': False}),\n",
       " Prediction(uid='A2J2TYZJCPQAP9', iid='B012CAS28M', r_ui=5.0, est=4.712972936582739, details={'was_impossible': True, 'reason': 'User and/or item is unknown.'}),\n",
       " Prediction(uid='A2ZC8NJH3ZFM4H', iid='B0011Z8O2O', r_ui=5.0, est=5, details={'actual_k': 1, 'was_impossible': False}),\n",
       " Prediction(uid='AIGJSN8D0RFYP', iid='B007B6VOII', r_ui=5.0, est=4.712972936582739, details={'was_impossible': True, 'reason': 'User and/or item is unknown.'}),\n",
       " Prediction(uid='A1JEX6OBMK0GKA', iid='B00ERMICY8', r_ui=5.0, est=4.838673365674708, details={'actual_k': 3, 'was_impossible': False}),\n",
       " Prediction(uid='A25BM8PP2LY2EQ', iid='B00UMI95DI', r_ui=4.0, est=4.5, details={'actual_k': 0, 'was_impossible': False}),\n",
       " Prediction(uid='A1V03TLFMDTA7W', iid='B000V66UV6', r_ui=4.0, est=4.712972936582739, details={'was_impossible': True, 'reason': 'User and/or item is unknown.'}),\n",
       " Prediction(uid='A1OQHWNGB5OSGC', iid='B00NPZI1ZS', r_ui=5.0, est=3.888888888888889, details={'actual_k': 0, 'was_impossible': False}),\n",
       " Prediction(uid='AAI0JSTPLNV3H', iid='B00NPZI1ZS', r_ui=5.0, est=4.712972936582739, details={'was_impossible': True, 'reason': 'User and/or item is unknown.'}),\n",
       " Prediction(uid='A1L4FX0E6ET7T2', iid='B001237DT0', r_ui=5.0, est=4.712972936582739, details={'was_impossible': True, 'reason': 'User and/or item is unknown.'}),\n",
       " Prediction(uid='A2N1U3YO4OFDK', iid='B00OXE38D0', r_ui=4.0, est=4.829278644909922, details={'actual_k': 2, 'was_impossible': False}),\n",
       " Prediction(uid='A381IORSE8W4VJ', iid='B005UWEKZE', r_ui=5.0, est=4.961038961038961, details={'actual_k': 0, 'was_impossible': False}),\n",
       " Prediction(uid='A2T35AL8FB6CF1', iid='B000W174QU', r_ui=5.0, est=5, details={'actual_k': 1, 'was_impossible': False}),\n",
       " Prediction(uid='AZFQLN535W4VT', iid='B0012FDNHY', r_ui=5.0, est=4.994190196129459, details={'actual_k': 3, 'was_impossible': False}),\n",
       " Prediction(uid='A3FXA543G1N8BG', iid='B00137MFXY', r_ui=5.0, est=4.712972936582739, details={'was_impossible': True, 'reason': 'User and/or item is unknown.'}),\n",
       " Prediction(uid='A2NZ5UQQP3JCCN', iid='B001AAAT7I', r_ui=5.0, est=4.712972936582739, details={'was_impossible': True, 'reason': 'User and/or item is unknown.'}),\n",
       " Prediction(uid='A1E9QPX0866W00', iid='B0043CJC3C', r_ui=5.0, est=4.652777777777778, details={'actual_k': 0, 'was_impossible': False}),\n",
       " Prediction(uid='A5MC7LP0ZBO4Q', iid='B00BWGHIHY', r_ui=5.0, est=4.879624017536435, details={'actual_k': 5, 'was_impossible': False}),\n",
       " Prediction(uid='A5P25O1Q8GBLL', iid='B00GDL60JU', r_ui=4.0, est=4.039959016393443, details={'actual_k': 1, 'was_impossible': False}),\n",
       " Prediction(uid='A3359P76C0N5B6', iid='B0011Z8OFQ', r_ui=5.0, est=5, details={'actual_k': 1, 'was_impossible': False}),\n",
       " Prediction(uid='A32EF8CKB8RSRT', iid='B000VZV9KY', r_ui=5.0, est=5, details={'actual_k': 1, 'was_impossible': False}),\n",
       " Prediction(uid='A3UAUNRCOWWXLF', iid='B000Z1GR9C', r_ui=5.0, est=4.82089552238806, details={'actual_k': 0, 'was_impossible': False}),\n",
       " Prediction(uid='AUCZN775ACG7V', iid='B003VXHTG6', r_ui=5.0, est=5, details={'actual_k': 1, 'was_impossible': False}),\n",
       " Prediction(uid='A35XOHXGQZDRDN', iid='B009KGKF3M', r_ui=5.0, est=4.978858036179558, details={'actual_k': 1, 'was_impossible': False}),\n",
       " Prediction(uid='A5W2DUJDIY3L2', iid='B00OXE3MO0', r_ui=5.0, est=4.66, details={'actual_k': 0, 'was_impossible': False}),\n",
       " Prediction(uid='A15T3Y3BL2AJ9V', iid='B009KUAOH0', r_ui=5.0, est=4.950352472155519, details={'actual_k': 4, 'was_impossible': False}),\n",
       " Prediction(uid='A18P38AAU083CS', iid='B00124BPBG', r_ui=4.0, est=4.0, details={'actual_k': 1, 'was_impossible': False}),\n",
       " Prediction(uid='AHLOI384PGJNX', iid='B00137GGZC', r_ui=4.0, est=4.001220713985407, details={'actual_k': 2, 'was_impossible': False}),\n",
       " Prediction(uid='A20OB2O8G4VEW1', iid='B00137IJUM', r_ui=5.0, est=5, details={'actual_k': 2, 'was_impossible': False}),\n",
       " Prediction(uid='AJFK4ZLGJSWQ8', iid='B00IXBOP8G', r_ui=5.0, est=5, details={'actual_k': 1, 'was_impossible': False}),\n",
       " Prediction(uid='A1KMSYUCPIE0NS', iid='B00GDL60JU', r_ui=5.0, est=5, details={'actual_k': 1, 'was_impossible': False}),\n",
       " Prediction(uid='A1Z2BK739AXXE3', iid='B000WH0UKQ', r_ui=5.0, est=5, details={'actual_k': 1, 'was_impossible': False}),\n",
       " Prediction(uid='ALHXSDS7ATZ4E', iid='B0012288VS', r_ui=5.0, est=5, details={'actual_k': 1, 'was_impossible': False}),\n",
       " Prediction(uid='A1VWJGRTTZ46R1', iid='B00CZF8B68', r_ui=4.0, est=4.195538117630281, details={'actual_k': 2, 'was_impossible': False}),\n",
       " Prediction(uid='A1VC6419THHIET', iid='B0059H09DC', r_ui=5.0, est=5, details={'actual_k': 2, 'was_impossible': False}),\n",
       " Prediction(uid='A1357F4E3JL6IR', iid='B00137WU98', r_ui=5.0, est=4.996623047699451, details={'actual_k': 3, 'was_impossible': False}),\n",
       " Prediction(uid='A3VWZMMIKPY2XU', iid='B0012298LC', r_ui=5.0, est=4.278908313651014, details={'actual_k': 5, 'was_impossible': False}),\n",
       " Prediction(uid='A1T022MQSJ3R4U', iid='B00136LNOW', r_ui=5.0, est=5, details={'actual_k': 1, 'was_impossible': False}),\n",
       " Prediction(uid='AHMAQXXYIR6DK', iid='B00122KC4E', r_ui=5.0, est=5, details={'actual_k': 1, 'was_impossible': False}),\n",
       " Prediction(uid='ADXNFRR2AI063', iid='B00136NFOI', r_ui=5.0, est=4.988014071525853, details={'actual_k': 4, 'was_impossible': False}),\n",
       " Prediction(uid='AVTY49Z9Q7DED', iid='B0011Z0WQU', r_ui=5.0, est=4.7164179104477615, details={'actual_k': 0, 'was_impossible': False}),\n",
       " Prediction(uid='A1MIYWGVFLVLM3', iid='B00137MMAU', r_ui=4.0, est=4.0, details={'actual_k': 1, 'was_impossible': False}),\n",
       " Prediction(uid='A1NY305D1WAUGL', iid='B001AUEMFS', r_ui=4.0, est=4.414884179184029, details={'actual_k': 2, 'was_impossible': False}),\n",
       " Prediction(uid='A23OLFTIJLNJM4', iid='B00124BPBG', r_ui=5.0, est=5, details={'actual_k': 1, 'was_impossible': False}),\n",
       " Prediction(uid='A983JCUWB08HC', iid='B00AHXDKO8', r_ui=4.0, est=4.086869123259517, details={'actual_k': 3, 'was_impossible': False}),\n",
       " Prediction(uid='AZX4W3CS3CB23', iid='B00JLJ13JI', r_ui=5.0, est=4.712972936582739, details={'was_impossible': True, 'reason': 'User and/or item is unknown.'}),\n",
       " Prediction(uid='AWVM1UHDZIPWB', iid='B00136J7ZE', r_ui=5.0, est=4.942553897180763, details={'actual_k': 2, 'was_impossible': False}),\n",
       " Prediction(uid='A10W1KVOWEGIW9', iid='B0013G0PG4', r_ui=5.0, est=4.97269829456995, details={'actual_k': 5, 'was_impossible': False}),\n",
       " Prediction(uid='A2R819E0C80FXW', iid='B00UC9F0FO', r_ui=5.0, est=5, details={'actual_k': 2, 'was_impossible': False}),\n",
       " Prediction(uid='A11JTCOUI4KA00', iid='B00961ZGQC', r_ui=5.0, est=4.895471237761911, details={'actual_k': 2, 'was_impossible': False}),\n",
       " Prediction(uid='A2HDEN9SPBWC5I', iid='B002HP8EKE', r_ui=5.0, est=4.712972936582739, details={'was_impossible': True, 'reason': 'User and/or item is unknown.'}),\n",
       " Prediction(uid='A2LDEDOQZH3VTP', iid='B0012F6LL4', r_ui=5.0, est=5, details={'actual_k': 5, 'was_impossible': False}),\n",
       " Prediction(uid='A32N2D0EVKZ39M', iid='B00CZF8B68', r_ui=1.0, est=1.1847808105872621, details={'actual_k': 1, 'was_impossible': False}),\n",
       " Prediction(uid='A2DCS39GFBJV24', iid='B00137KRYS', r_ui=5.0, est=4.99313606488811, details={'actual_k': 5, 'was_impossible': False}),\n",
       " Prediction(uid='A3LPZ3KE5TAZMA', iid='B000WLTDIM', r_ui=5.0, est=5, details={'actual_k': 5, 'was_impossible': False}),\n",
       " Prediction(uid='A307SOXS9WP4GI', iid='B00137KRYS', r_ui=5.0, est=4.983220153789177, details={'actual_k': 2, 'was_impossible': False}),\n",
       " Prediction(uid='A21V3SBIUCWI3J', iid='B00TINQKX6', r_ui=5.0, est=4.712972936582739, details={'was_impossible': True, 'reason': 'User and/or item is unknown.'}),\n",
       " Prediction(uid='A33YP41PYX3WDQ', iid='B00137T4WE', r_ui=4.0, est=3.9949022283111306, details={'actual_k': 2, 'was_impossible': False}),\n",
       " Prediction(uid='A18D3YC9NTGU1W', iid='B00137T3ES', r_ui=5.0, est=5, details={'actual_k': 2, 'was_impossible': False}),\n",
       " Prediction(uid='ABXJJ67FMDGD5', iid='B00SZQ487M', r_ui=5.0, est=4.827791986359761, details={'actual_k': 1, 'was_impossible': False}),\n",
       " Prediction(uid='A39J1TZPAHJ1DE', iid='B0012298LC', r_ui=5.0, est=5, details={'actual_k': 1, 'was_impossible': False}),\n",
       " Prediction(uid='A5TAB3MQUFSKN', iid='B014DIAVS0', r_ui=5.0, est=4.712972936582739, details={'was_impossible': True, 'reason': 'User and/or item is unknown.'}),\n",
       " Prediction(uid='A3D4NTNI49XEOV', iid='B00GLP4DMO', r_ui=5.0, est=4.954750204750204, details={'actual_k': 2, 'was_impossible': False}),\n",
       " Prediction(uid='A27G3O5CBRXG3J', iid='B00XTIFEVK', r_ui=5.0, est=4.712972936582739, details={'was_impossible': True, 'reason': 'User and/or item is unknown.'}),\n",
       " Prediction(uid='A39JZXGQPTFW60', iid='B00137MMAU', r_ui=5.0, est=4.890782114387734, details={'actual_k': 3, 'was_impossible': False}),\n",
       " Prediction(uid='A2LDEDOQZH3VTP', iid='B000VRQQRS', r_ui=5.0, est=4.99764377340055, details={'actual_k': 5, 'was_impossible': False}),\n",
       " Prediction(uid='ANSO2ODK8EN5', iid='B00SZQ487M', r_ui=5.0, est=4.916389197188309, details={'actual_k': 1, 'was_impossible': False}),\n",
       " Prediction(uid='A171B3B9Y3SZ3E', iid='B00136LRVG', r_ui=5.0, est=5, details={'actual_k': 3, 'was_impossible': False}),\n",
       " Prediction(uid='AXPNF0F04FDPN', iid='B0092MKTWQ', r_ui=5.0, est=4.790575916230367, details={'actual_k': 0, 'was_impossible': False}),\n",
       " Prediction(uid='A2DWGA365CR8XH', iid='B00137USQ0', r_ui=5.0, est=5, details={'actual_k': 1, 'was_impossible': False}),\n",
       " Prediction(uid='A1YF561LTZ9FU5', iid='B0012FDNHY', r_ui=5.0, est=4.987903225806452, details={'actual_k': 1, 'was_impossible': False}),\n",
       " Prediction(uid='A3NC2WP2E09UMQ', iid='B006Z1XZFK', r_ui=4.0, est=4.587002782779505, details={'actual_k': 1, 'was_impossible': False}),\n",
       " Prediction(uid='A1BX06Z8YC3RLS', iid='B00137G8OG', r_ui=5.0, est=5, details={'actual_k': 5, 'was_impossible': False}),\n",
       " Prediction(uid='A2JE1FQQBSH8N0', iid='B00136RVG6', r_ui=5.0, est=4.936567977610841, details={'actual_k': 2, 'was_impossible': False}),\n",
       " Prediction(uid='ABRHNTJ0IJH7L', iid='B0011Z5IJG', r_ui=5.0, est=4.998599143388962, details={'actual_k': 2, 'was_impossible': False}),\n",
       " Prediction(uid='ALKRE5BA3N1XF', iid='B00B9ZI5PC', r_ui=5.0, est=5, details={'actual_k': 2, 'was_impossible': False}),\n",
       " Prediction(uid='AF6LL36EXQ210', iid='B00970FKQ8', r_ui=5.0, est=4.544, details={'actual_k': 0, 'was_impossible': False}),\n",
       " Prediction(uid='A34C451H7NK6Y', iid='B00136J7ZE', r_ui=5.0, est=5, details={'actual_k': 1, 'was_impossible': False}),\n",
       " Prediction(uid='A21EZ8H4GCYQI8', iid='B00PJIGEQW', r_ui=5.0, est=4.816594516594517, details={'actual_k': 1, 'was_impossible': False}),\n",
       " Prediction(uid='A3T7LJGAQG5C3W', iid='B000V66URU', r_ui=5.0, est=4.994888040727422, details={'actual_k': 3, 'was_impossible': False}),\n",
       " Prediction(uid='A13YFN0HFTZM6I', iid='B0058U21N6', r_ui=5.0, est=5, details={'actual_k': 1, 'was_impossible': False}),\n",
       " Prediction(uid='A3UGRW2WDAPDMT', iid='B000WLTDIM', r_ui=5.0, est=5, details={'actual_k': 1, 'was_impossible': False}),\n",
       " Prediction(uid='AP5UOQ1F010V1', iid='B000W02O2K', r_ui=5.0, est=4.822975517890772, details={'actual_k': 1, 'was_impossible': False}),\n",
       " Prediction(uid='A33H2FCAJE6W8K', iid='B00123JYR4', r_ui=5.0, est=5, details={'actual_k': 5, 'was_impossible': False}),\n",
       " Prediction(uid='A1U3LWEEKCKHGM', iid='B00VU95GNQ', r_ui=5.0, est=5, details={'actual_k': 1, 'was_impossible': False}),\n",
       " Prediction(uid='A1FD0QVM57YWQE', iid='B00122KC4E', r_ui=5.0, est=5, details={'actual_k': 1, 'was_impossible': False}),\n",
       " Prediction(uid='A1MFWFMMPABBSF', iid='B00A7ZXBE0', r_ui=5.0, est=5, details={'actual_k': 1, 'was_impossible': False}),\n",
       " Prediction(uid='A3JWXUR1AUZA7O', iid='B00GJ2N10O', r_ui=5.0, est=4.845387335261974, details={'actual_k': 1, 'was_impossible': False}),\n",
       " Prediction(uid='A1QR9CS347XKFC', iid='B015U2LLIW', r_ui=4.0, est=4.593220338983051, details={'actual_k': 0, 'was_impossible': False}),\n",
       " Prediction(uid='AWDK5ZS6OBZ1J', iid='B000VRQQRS', r_ui=5.0, est=5, details={'actual_k': 1, 'was_impossible': False}),\n",
       " Prediction(uid='A26M1I39ZANUCE', iid='B00137SPH4', r_ui=4.0, est=4.003432191351909, details={'actual_k': 3, 'was_impossible': False}),\n",
       " Prediction(uid='A2SXJZGMY90RZN', iid='B0012EJGRG', r_ui=5.0, est=5, details={'actual_k': 5, 'was_impossible': False}),\n",
       " Prediction(uid='A1P1CZ0Y98P4QS', iid='B00136NUG6', r_ui=5.0, est=4.776785714285714, details={'actual_k': 0, 'was_impossible': False}),\n",
       " Prediction(uid='A3HEFDE1G20YZX', iid='B00LPHKKIO', r_ui=5.0, est=4.712972936582739, details={'was_impossible': True, 'reason': 'User and/or item is unknown.'}),\n",
       " Prediction(uid='A3IP7P59KKM4Y9', iid='B0092MKTL2', r_ui=5.0, est=4.564102564102564, details={'actual_k': 0, 'was_impossible': False}),\n",
       " Prediction(uid='A1DWGDEINCB5BE', iid='B000TGGTIC', r_ui=5.0, est=3.58974358974359, details={'actual_k': 0, 'was_impossible': False}),\n",
       " Prediction(uid='A2KJ74RTEJ3RO0', iid='B000W1774O', r_ui=5.0, est=5, details={'actual_k': 1, 'was_impossible': False}),\n",
       " Prediction(uid='A1BWGJERF0EHBN', iid='B002IEW504', r_ui=4.0, est=4.554744525547445, details={'actual_k': 0, 'was_impossible': False}),\n",
       " Prediction(uid='A3L0YM35AU0X7R', iid='B0011Z76XW', r_ui=5.0, est=5, details={'actual_k': 1, 'was_impossible': False}),\n",
       " Prediction(uid='A12O70V2MD6PA', iid='B00LWC6P1S', r_ui=5.0, est=5, details={'actual_k': 1, 'was_impossible': False}),\n",
       " Prediction(uid='A2TCG2HV1VJP6V', iid='B00136JL8W', r_ui=5.0, est=5, details={'actual_k': 3, 'was_impossible': False}),\n",
       " Prediction(uid='A299RHMH1M9PIW', iid='B000W1774O', r_ui=5.0, est=5, details={'actual_k': 1, 'was_impossible': False}),\n",
       " Prediction(uid='A1XPU9BC9BLGU5', iid='B00136RVCU', r_ui=5.0, est=4.828947368421052, details={'actual_k': 0, 'was_impossible': False}),\n",
       " Prediction(uid='AYWQTPVYAF43L', iid='B0011Z4WT8', r_ui=5.0, est=5, details={'actual_k': 1, 'was_impossible': False}),\n",
       " Prediction(uid='A11JTCOUI4KA00', iid='B00C6MPTT2', r_ui=3.0, est=3.5746328884332006, details={'actual_k': 2, 'was_impossible': False}),\n",
       " Prediction(uid='A2KW2KWKABNYNO', iid='B0011Z310Y', r_ui=3.0, est=3.1823953790560733, details={'actual_k': 5, 'was_impossible': False}),\n",
       " Prediction(uid='A2KR9G6TN7IO05', iid='B00122K0OQ', r_ui=5.0, est=4.712972936582739, details={'was_impossible': True, 'reason': 'User and/or item is unknown.'}),\n",
       " Prediction(uid='A3I86XIBC9E0I1', iid='B00158SHD8', r_ui=3.0, est=3.0, details={'actual_k': 1, 'was_impossible': False}),\n",
       " Prediction(uid='A24YMWBNNH7A6S', iid='B0011Z0YR2', r_ui=5.0, est=4.999095632271116, details={'actual_k': 4, 'was_impossible': False}),\n",
       " Prediction(uid='A3LPZ3KE5TAZMA', iid='B000WLTDIM', r_ui=5.0, est=5, details={'actual_k': 5, 'was_impossible': False}),\n",
       " Prediction(uid='A16S5FX3Z55Q0X', iid='B00136NFOI', r_ui=5.0, est=4.996546045820736, details={'actual_k': 5, 'was_impossible': False}),\n",
       " Prediction(uid='A23T4KVDD5L2FI', iid='B00OQZ4BV4', r_ui=5.0, est=4.75, details={'actual_k': 0, 'was_impossible': False}),\n",
       " Prediction(uid='A13OYPEGL3GLIV', iid='B00JLJ185C', r_ui=5.0, est=5, details={'actual_k': 5, 'was_impossible': False}),\n",
       " Prediction(uid='A125I6OBGX1VI8', iid='B0012EASVO', r_ui=5.0, est=5, details={'actual_k': 1, 'was_impossible': False}),\n",
       " Prediction(uid='AFJFXN42RZ3G2', iid='B002NQTG5Y', r_ui=5.0, est=5, details={'actual_k': 2, 'was_impossible': False}),\n",
       " Prediction(uid='A1OOST2U853BUH', iid='B00JLJ185C', r_ui=5.0, est=4.836158192090395, details={'actual_k': 0, 'was_impossible': False}),\n",
       " Prediction(uid='AGFI819RU842W', iid='B0011Z77TA', r_ui=5.0, est=5, details={'actual_k': 2, 'was_impossible': False}),\n",
       " Prediction(uid='AVDQZPEXCB8X2', iid='B009G8GTFM', r_ui=5.0, est=4.737704918032787, details={'actual_k': 0, 'was_impossible': False}),\n",
       " Prediction(uid='A2XBGW34SC9TM8', iid='B00OXE3MO0', r_ui=3.0, est=4.712972936582739, details={'was_impossible': True, 'reason': 'User and/or item is unknown.'}),\n",
       " Prediction(uid='AE9HSQ5XR80AD', iid='B007BZM30M', r_ui=5.0, est=4.486111111111111, details={'actual_k': 0, 'was_impossible': False}),\n",
       " Prediction(uid='A3RZW11TTP03Y4', iid='B00CZF8B68', r_ui=5.0, est=5, details={'actual_k': 3, 'was_impossible': False}),\n",
       " Prediction(uid='AKSS684TUJQX3', iid='B00GDL60JU', r_ui=5.0, est=5, details={'actual_k': 5, 'was_impossible': False}),\n",
       " Prediction(uid='A141RPYRYU3YB4', iid='B006Q77W8Y', r_ui=5.0, est=4.84, details={'actual_k': 0, 'was_impossible': False}),\n",
       " Prediction(uid='A1BCW0B3C5GNCA', iid='B0012298LC', r_ui=4.0, est=4.0, details={'actual_k': 1, 'was_impossible': False}),\n",
       " Prediction(uid='A38O8ZYXYAL6WF', iid='B001BZDDYS', r_ui=5.0, est=4.852941176470588, details={'actual_k': 0, 'was_impossible': False}),\n",
       " Prediction(uid='A31VH37CWG38JE', iid='B0011Z8OFG', r_ui=3.0, est=3.0616540496705555, details={'actual_k': 2, 'was_impossible': False}),\n",
       " Prediction(uid='A2HUK5IE028P40', iid='B00136J7ZE', r_ui=5.0, est=5, details={'actual_k': 3, 'was_impossible': False}),\n",
       " Prediction(uid='AF65C8QK9NNXP', iid='B001GH1ZQE', r_ui=5.0, est=4.457142857142857, details={'actual_k': 0, 'was_impossible': False}),\n",
       " Prediction(uid='A1WGHU7L4APY3I', iid='B000W05EGI', r_ui=5.0, est=4.775, details={'actual_k': 0, 'was_impossible': False}),\n",
       " Prediction(uid='AS3CYB4PJBQ83', iid='B00NJMNLRK', r_ui=5.0, est=5, details={'actual_k': 2, 'was_impossible': False}),\n",
       " Prediction(uid='AIGLTKLQP6HFN', iid='B00137T4WE', r_ui=5.0, est=4.996800295860819, details={'actual_k': 2, 'was_impossible': False}),\n",
       " Prediction(uid='A3V3U4YXPIUSLY', iid='B0012FDNHY', r_ui=5.0, est=4.994877726121435, details={'actual_k': 4, 'was_impossible': False}),\n",
       " Prediction(uid='A1MGXL78ZWL9P9', iid='B00137QWBK', r_ui=5.0, est=4.9997761896676804, details={'actual_k': 3, 'was_impossible': False}),\n",
       " Prediction(uid='A2QXPCQGFF23Q6', iid='B00137KH9S', r_ui=4.0, est=3.9222426310089267, details={'actual_k': 4, 'was_impossible': False}),\n",
       " Prediction(uid='A2PAR36PNNUUI8', iid='9714721180', r_ui=5.0, est=4.7894736842105265, details={'actual_k': 0, 'was_impossible': False}),\n",
       " Prediction(uid='AUDSM2CTLLW1Q', iid='B0043CJC3C', r_ui=5.0, est=3.7361508445495675, details={'actual_k': 2, 'was_impossible': False}),\n",
       " Prediction(uid='A17EC2VMGJ1VMV', iid='B0011Z1BHO', r_ui=5.0, est=4.941157659098177, details={'actual_k': 2, 'was_impossible': False}),\n",
       " Prediction(uid='A1D10R86M2TY4P', iid='B00UDDW016', r_ui=5.0, est=4.666666666666667, details={'actual_k': 0, 'was_impossible': False}),\n",
       " Prediction(uid='AG3ODP9T1GGEP', iid='B00961ZGQC', r_ui=5.0, est=4.712972936582739, details={'was_impossible': True, 'reason': 'User and/or item is unknown.'}),\n",
       " Prediction(uid='A2UFJ5NIT2RFCM', iid='B0011Z1BHO', r_ui=4.0, est=4.428156213573156, details={'actual_k': 2, 'was_impossible': False}),\n",
       " Prediction(uid='AA8HFTJIAQA4G', iid='B000W176MM', r_ui=3.0, est=3.0, details={'actual_k': 1, 'was_impossible': False}),\n",
       " Prediction(uid='A12LECE952JVMC', iid='B003VXHTG6', r_ui=5.0, est=4.974131274131274, details={'actual_k': 2, 'was_impossible': False}),\n",
       " Prediction(uid='A3DLFHSYRIIXYO', iid='B00O46VJ56', r_ui=5.0, est=4.823529411764706, details={'actual_k': 0, 'was_impossible': False}),\n",
       " Prediction(uid='A3BMOPZE7O8BZ2', iid='B00137OBNQ', r_ui=5.0, est=4.990000731360103, details={'actual_k': 3, 'was_impossible': False}),\n",
       " Prediction(uid='A3POPEY1SDAN6R', iid='B0011Z5IJG', r_ui=5.0, est=4.712972936582739, details={'was_impossible': True, 'reason': 'User and/or item is unknown.'}),\n",
       " Prediction(uid='AWVL02LB27IZJ', iid='B00PJIGEQW', r_ui=3.0, est=4.712972936582739, details={'was_impossible': True, 'reason': 'User and/or item is unknown.'}),\n",
       " Prediction(uid='A1MHR7WZ3BLLC0', iid='B00OXE38D0', r_ui=5.0, est=4.9612592615762745, details={'actual_k': 2, 'was_impossible': False}),\n",
       " Prediction(uid='A15JTJXQXO22JJ', iid='B003Y3ZTKG', r_ui=1.0, est=1, details={'actual_k': 5, 'was_impossible': False}),\n",
       " Prediction(uid='A3CBKTK5QG9ZZ8', iid='B00123F8Y2', r_ui=5.0, est=4.923076923076923, details={'actual_k': 0, 'was_impossible': False}),\n",
       " Prediction(uid='A1E4KF8DHCMNV8', iid='B00HFEC192', r_ui=4.0, est=3.9846064946985513, details={'actual_k': 5, 'was_impossible': False}),\n",
       " Prediction(uid='A2XWKKC8QCCK7K', iid='B0099G7KDQ', r_ui=5.0, est=4.293103448275862, details={'actual_k': 0, 'was_impossible': False}),\n",
       " Prediction(uid='A197SWXFOOF5U5', iid='B005T18DOK', r_ui=5.0, est=4.78125, details={'actual_k': 0, 'was_impossible': False}),\n",
       " Prediction(uid='A3QK0YZD1YKOD8', iid='B0012EASVO', r_ui=5.0, est=5, details={'actual_k': 3, 'was_impossible': False}),\n",
       " Prediction(uid='AYDCJHBISMT8R', iid='B00UMI95DI', r_ui=5.0, est=4.712972936582739, details={'was_impossible': True, 'reason': 'User and/or item is unknown.'}),\n",
       " Prediction(uid='A3J294R1PVVFHD', iid='B00137ILRS', r_ui=5.0, est=5, details={'actual_k': 1, 'was_impossible': False}),\n",
       " Prediction(uid='A127VBECPX56EK', iid='B00122ML0W', r_ui=4.0, est=4.0, details={'actual_k': 1, 'was_impossible': False}),\n",
       " Prediction(uid='A3GGFS4WU3MB1T', iid='B00136JF8I', r_ui=5.0, est=5, details={'actual_k': 1, 'was_impossible': False}),\n",
       " Prediction(uid='A5X8JOC0MUDZ1', iid='B0011Z8O2O', r_ui=5.0, est=4.82089552238806, details={'actual_k': 0, 'was_impossible': False}),\n",
       " Prediction(uid='A3N5AG4ZUBJYJQ', iid='B00122IZXO', r_ui=5.0, est=5, details={'actual_k': 3, 'was_impossible': False}),\n",
       " Prediction(uid='A3W3720ZL310HK', iid='B000W1MDPW', r_ui=5.0, est=4.984445804881277, details={'actual_k': 5, 'was_impossible': False}),\n",
       " Prediction(uid='A3SDCMI9Q0XJOO', iid='B0011Z764Q', r_ui=4.0, est=3.996040943998236, details={'actual_k': 2, 'was_impossible': False}),\n",
       " Prediction(uid='AOACE7JUG7JB0', iid='B00110DT4C', r_ui=3.0, est=3.0, details={'actual_k': 1, 'was_impossible': False}),\n",
       " Prediction(uid='AA62NQO5MWFR1', iid='B000VZYYWY', r_ui=5.0, est=5, details={'actual_k': 2, 'was_impossible': False}),\n",
       " Prediction(uid='AGLRQM3W1BHUX', iid='B0011Z77TA', r_ui=5.0, est=5, details={'actual_k': 1, 'was_impossible': False}),\n",
       " Prediction(uid='A2AFLQHGK4117F', iid='B0170K9UTO', r_ui=5.0, est=3.9473554668596447, details={'actual_k': 4, 'was_impossible': False}),\n",
       " Prediction(uid='A29TL74WEE52V6', iid='B009G8GTFM', r_ui=5.0, est=4.737704918032787, details={'actual_k': 0, 'was_impossible': False}),\n",
       " Prediction(uid='A2PR4VEKXHZ0JU', iid='B00137GGZC', r_ui=5.0, est=5, details={'actual_k': 1, 'was_impossible': False}),\n",
       " Prediction(uid='A12J95I2VZRE7G', iid='B00122IZXO', r_ui=5.0, est=5, details={'actual_k': 2, 'was_impossible': False}),\n",
       " Prediction(uid='A20223E4KX739V', iid='B0012FDNHY', r_ui=5.0, est=4.987903225806452, details={'actual_k': 2, 'was_impossible': False}),\n",
       " Prediction(uid='A1Y59ER6NRWI6T', iid='B001237DT0', r_ui=5.0, est=5, details={'actual_k': 2, 'was_impossible': False}),\n",
       " Prediction(uid='A165P3MOJV3OVZ', iid='B0011Z74IE', r_ui=5.0, est=5, details={'actual_k': 5, 'was_impossible': False}),\n",
       " Prediction(uid='A34RO7EAZ5C5FH', iid='B00136RUWG', r_ui=5.0, est=4.848484848484849, details={'actual_k': 0, 'was_impossible': False}),\n",
       " Prediction(uid='A17UVVC97AZCC3', iid='B00122OUI8', r_ui=5.0, est=5, details={'actual_k': 1, 'was_impossible': False}),\n",
       " Prediction(uid='A5INXL86YXDR8', iid='B0099G7KDQ', r_ui=5.0, est=4.807389162561576, details={'actual_k': 1, 'was_impossible': False}),\n",
       " Prediction(uid='A1KVXEAF421XHB', iid='B003VXHTG6', r_ui=5.0, est=5, details={'actual_k': 1, 'was_impossible': False}),\n",
       " Prediction(uid='A3S9HEXHM2Q5CH', iid='B00122K0OQ', r_ui=4.0, est=4.7272727272727275, details={'actual_k': 0, 'was_impossible': False}),\n",
       " Prediction(uid='ABRHNTJ0IJH7L', iid='B000W1774O', r_ui=5.0, est=5, details={'actual_k': 3, 'was_impossible': False}),\n",
       " Prediction(uid='A7DF2GP948DI1', iid='B00122X5VG', r_ui=5.0, est=5, details={'actual_k': 1, 'was_impossible': False}),\n",
       " Prediction(uid='A3NYN206OCR54B', iid='B00MS42PYA', r_ui=5.0, est=4.778785901244955, details={'actual_k': 2, 'was_impossible': False}),\n",
       " Prediction(uid='A3CFB16J8HWHG', iid='B005T18DOK', r_ui=5.0, est=4.976445576625244, details={'actual_k': 4, 'was_impossible': False}),\n",
       " Prediction(uid='A16OM4JF3BOW4O', iid='B00137GHF6', r_ui=5.0, est=4.993547103550418, details={'actual_k': 5, 'was_impossible': False}),\n",
       " Prediction(uid='A66ST6Q6PP1Q8', iid='B00136J7OA', r_ui=5.0, est=5, details={'actual_k': 1, 'was_impossible': False}),\n",
       " Prediction(uid='A107OPFJV11RKO', iid='B000W05EGI', r_ui=5.0, est=4.775, details={'actual_k': 0, 'was_impossible': False}),\n",
       " Prediction(uid='A38I6IGX1KU8Q', iid='B0011Z4Z3G', r_ui=5.0, est=5, details={'actual_k': 1, 'was_impossible': False}),\n",
       " Prediction(uid='A2MNJ55IKKWUXE', iid='B0011Z764Q', r_ui=5.0, est=4.999813717023786, details={'actual_k': 5, 'was_impossible': False}),\n",
       " Prediction(uid='A14X10E0033VRO', iid='B007B6VOII', r_ui=3.0, est=4.8617647058823525, details={'actual_k': 1, 'was_impossible': False}),\n",
       " Prediction(uid='A6XHF110BC856', iid='B00137WS2C', r_ui=5.0, est=5, details={'actual_k': 5, 'was_impossible': False}),\n",
       " Prediction(uid='A2NEPOLJUWFT2J', iid='B00W8DLF7Y', r_ui=5.0, est=4.712972936582739, details={'was_impossible': True, 'reason': 'User and/or item is unknown.'}),\n",
       " Prediction(uid='A7XDQK9WQLJSU', iid='B00CZF8B68', r_ui=5.0, est=5, details={'actual_k': 1, 'was_impossible': False}),\n",
       " Prediction(uid='AS988I4AC6ZKA', iid='B00137IJUM', r_ui=5.0, est=5, details={'actual_k': 5, 'was_impossible': False}),\n",
       " Prediction(uid='A34CZSRQZHZ6AF', iid='B007B6VOII', r_ui=3.0, est=4.712972936582739, details={'was_impossible': True, 'reason': 'User and/or item is unknown.'}),\n",
       " Prediction(uid='A2L8ZPTNVTQ29F', iid='B00NJMNLRK', r_ui=5.0, est=5, details={'actual_k': 2, 'was_impossible': False}),\n",
       " Prediction(uid='A326WLRY0P9FBV', iid='B008XCJ0KI', r_ui=1.0, est=1.1238140297362182, details={'actual_k': 3, 'was_impossible': False}),\n",
       " Prediction(uid='A1T46TACPSAHVF', iid='B002IEW504', r_ui=5.0, est=5, details={'actual_k': 1, 'was_impossible': False}),\n",
       " Prediction(uid='A39GW5CBWTIWAZ', iid='B01929H4VM', r_ui=5.0, est=4.712972936582739, details={'was_impossible': True, 'reason': 'User and/or item is unknown.'}),\n",
       " Prediction(uid='A2BH6YL4S1MY93', iid='B00JLJ185C', r_ui=5.0, est=5, details={'actual_k': 3, 'was_impossible': False}),\n",
       " Prediction(uid='A1FE6H8WE41BEC', iid='B00136LRVG', r_ui=5.0, est=5, details={'actual_k': 1, 'was_impossible': False}),\n",
       " Prediction(uid='A2R6RA8FRBS608', iid='B009KUAOH0', r_ui=5.0, est=4.986133204404155, details={'actual_k': 5, 'was_impossible': False}),\n",
       " Prediction(uid='AXPNF0F04FDPN', iid='B0170K9UTO', r_ui=5.0, est=4.758793969849246, details={'actual_k': 0, 'was_impossible': False}),\n",
       " Prediction(uid='AVAJJLZ2645P0', iid='B00BS4QPDS', r_ui=5.0, est=4.712972936582739, details={'was_impossible': True, 'reason': 'User and/or item is unknown.'}),\n",
       " Prediction(uid='AWPT20KU9H1DO', iid='B000WLOKKS', r_ui=5.0, est=5, details={'actual_k': 3, 'was_impossible': False}),\n",
       " Prediction(uid='A1BJJIH318FBX5', iid='B0011Z4X9C', r_ui=5.0, est=5, details={'actual_k': 1, 'was_impossible': False}),\n",
       " Prediction(uid='A38A5BJ0UETDRM', iid='B0011Z77TA', r_ui=4.0, est=4.713178294573644, details={'actual_k': 0, 'was_impossible': False}),\n",
       " Prediction(uid='A3AEONRYRHLEWI', iid='B00136J7ZE', r_ui=5.0, est=4.914726930320151, details={'actual_k': 1, 'was_impossible': False}),\n",
       " Prediction(uid='A2PV2QJIIT5C9N', iid='B00BZIOAOS', r_ui=5.0, est=4.712972936582739, details={'was_impossible': True, 'reason': 'User and/or item is unknown.'}),\n",
       " Prediction(uid='A3QYPZXL0OB11S', iid='B005VPSEVG', r_ui=5.0, est=5, details={'actual_k': 2, 'was_impossible': False}),\n",
       " Prediction(uid='A2J1SVKABBMYHI', iid='B00IXBOP8G', r_ui=5.0, est=4.712972936582739, details={'was_impossible': True, 'reason': 'User and/or item is unknown.'}),\n",
       " Prediction(uid='ABE14SVILZLNY', iid='B000W11N6W', r_ui=5.0, est=4.712972936582739, details={'was_impossible': True, 'reason': 'User and/or item is unknown.'}),\n",
       " Prediction(uid='A2T5WC0MZLVXQ5', iid='B00NJMNLRK', r_ui=5.0, est=4.78169014084507, details={'actual_k': 0, 'was_impossible': False}),\n",
       " Prediction(uid='AXPAIEE0732A9', iid='B00FAEQ22G', r_ui=3.0, est=3.0579620462046204, details={'actual_k': 1, 'was_impossible': False}),\n",
       " Prediction(uid='A2A56B1KS23X0Q', iid='B000W25BXM', r_ui=4.0, est=4.0, details={'actual_k': 1, 'was_impossible': False}),\n",
       " Prediction(uid='A21EZ8H4GCYQI8', iid='B0108UP0EC', r_ui=5.0, est=5, details={'actual_k': 1, 'was_impossible': False}),\n",
       " Prediction(uid='A17KVY5ZWRWQ3R', iid='B00137ILRS', r_ui=4.0, est=4.0, details={'actual_k': 1, 'was_impossible': False}),\n",
       " Prediction(uid='A3GL652PKAUL78', iid='B009KUAOH0', r_ui=5.0, est=4.881475938291503, details={'actual_k': 1, 'was_impossible': False}),\n",
       " Prediction(uid='A7TZ1KOGA4A01', iid='B009G8GTFM', r_ui=3.0, est=5, details={'actual_k': 1, 'was_impossible': False}),\n",
       " Prediction(uid='A36EDWL4F3AASU', iid='B0013G0PG4', r_ui=1.0, est=1.1129797982943077, details={'actual_k': 5, 'was_impossible': False}),\n",
       " Prediction(uid='A235SL9JU3D5EK', iid='B00O46VJ56', r_ui=2.0, est=4.823529411764706, details={'actual_k': 0, 'was_impossible': False}),\n",
       " Prediction(uid='A2DS1D2STJOVD7', iid='B00136J7ZE', r_ui=5.0, est=5, details={'actual_k': 1, 'was_impossible': False}),\n",
       " Prediction(uid='A1WB3L9X0DIAZ0', iid='B0012F6LL4', r_ui=5.0, est=5, details={'actual_k': 1, 'was_impossible': False}),\n",
       " Prediction(uid='ANUYTSCN5RXFZ', iid='B00LAP3KS8', r_ui=5.0, est=4.957247660005059, details={'actual_k': 1, 'was_impossible': False}),\n",
       " Prediction(uid='ATN3YQYG9V9EN', iid='B00FAEQ22G', r_ui=4.0, est=4.770833333333333, details={'actual_k': 0, 'was_impossible': False}),\n",
       " Prediction(uid='A1ZMV5QSAR8V2L', iid='B000WH7EAU', r_ui=5.0, est=4.836734693877551, details={'actual_k': 0, 'was_impossible': False}),\n",
       " Prediction(uid='A2O2TK53QQQVPK', iid='B00137QS28', r_ui=5.0, est=5, details={'actual_k': 5, 'was_impossible': False}),\n",
       " Prediction(uid='A2CVWH39T8CTSV', iid='B00137GB8Y', r_ui=1.0, est=4.851351351351352, details={'actual_k': 0, 'was_impossible': False}),\n",
       " Prediction(uid='A33NQYGEJU76Q8', iid='B00137IJUM', r_ui=5.0, est=5, details={'actual_k': 1, 'was_impossible': False}),\n",
       " Prediction(uid='A29KQF3OQZDLF7', iid='B00GG3OYMK', r_ui=3.0, est=4.785046728971962, details={'actual_k': 0, 'was_impossible': False}),\n",
       " Prediction(uid='A27GTBNUF8DUEF', iid='B00122IPBG', r_ui=5.0, est=4.874015748031496, details={'actual_k': 0, 'was_impossible': False}),\n",
       " Prediction(uid='A1BHDYT0JHIIP5', iid='B0011Z764Q', r_ui=5.0, est=5, details={'actual_k': 1, 'was_impossible': False}),\n",
       " Prediction(uid='A225KOTGHS3BRA', iid='B0011Z1D8Q', r_ui=5.0, est=5, details={'actual_k': 5, 'was_impossible': False}),\n",
       " Prediction(uid='AF9AKNFFW0LI4', iid='B002IEW504', r_ui=5.0, est=4.948034022816796, details={'actual_k': 4, 'was_impossible': False}),\n",
       " Prediction(uid='A1M0J6PARZ5O21', iid='B009S6HVHW', r_ui=5.0, est=4.712972936582739, details={'was_impossible': True, 'reason': 'User and/or item is unknown.'}),\n",
       " Prediction(uid='A2BM0A9HJEONRD', iid='B014DIAVS0', r_ui=5.0, est=4.666666666666667, details={'actual_k': 0, 'was_impossible': False}),\n",
       " Prediction(uid='A25U2K34II1BFT', iid='B008BNAOQ8', r_ui=5.0, est=4.967679379444085, details={'actual_k': 1, 'was_impossible': False}),\n",
       " Prediction(uid='AE31M52VLKOG6', iid='B00M8JCW3E', r_ui=5.0, est=5, details={'actual_k': 2, 'was_impossible': False}),\n",
       " Prediction(uid='A3DBPYCCYOSQ1V', iid='B00JLJ185C', r_ui=5.0, est=4.836158192090395, details={'actual_k': 0, 'was_impossible': False}),\n",
       " Prediction(uid='A2FC7VNX3E80HN', iid='B015U2LLIW', r_ui=5.0, est=4.712972936582739, details={'was_impossible': True, 'reason': 'User and/or item is unknown.'}),\n",
       " Prediction(uid='ARHICCDD1N5I1', iid='B00123F8Y2', r_ui=5.0, est=5, details={'actual_k': 1, 'was_impossible': False}),\n",
       " Prediction(uid='A2PASR7U9XRL65', iid='B00137GB8Y', r_ui=5.0, est=4.851351351351352, details={'actual_k': 0, 'was_impossible': False}),\n",
       " Prediction(uid='A1TU1ZW2WXS8QQ', iid='B0012EESZG', r_ui=5.0, est=5, details={'actual_k': 5, 'was_impossible': False}),\n",
       " Prediction(uid='A1DX3FSZXUGF8I', iid='B000W0112Y', r_ui=5.0, est=5, details={'actual_k': 1, 'was_impossible': False}),\n",
       " Prediction(uid='A2MZ6SXUDCSQRG', iid='B00136JF8I', r_ui=5.0, est=5, details={'actual_k': 1, 'was_impossible': False}),\n",
       " Prediction(uid='A2A4D87H90Z5L', iid='B00122OUI8', r_ui=5.0, est=5, details={'actual_k': 1, 'was_impossible': False}),\n",
       " Prediction(uid='A2CLDJ0RWYX9YR', iid='B00EE0O6HU', r_ui=5.0, est=5, details={'actual_k': 1, 'was_impossible': False}),\n",
       " Prediction(uid='A1EDH7TV3JMCM7', iid='B00136J7ZE', r_ui=5.0, est=4.897777777777778, details={'actual_k': 0, 'was_impossible': False}),\n",
       " Prediction(uid='AL1UII1C3SGQX', iid='B008XCJ0KI', r_ui=5.0, est=4.68, details={'actual_k': 0, 'was_impossible': False}),\n",
       " Prediction(uid='A8FKME502E5B0', iid='B00VF3YXUY', r_ui=5.0, est=4.712972936582739, details={'was_impossible': True, 'reason': 'User and/or item is unknown.'}),\n",
       " Prediction(uid='A1RYJ6Z6U6JSCD', iid='B00FP1NNJY', r_ui=4.0, est=4.739422063983316, details={'actual_k': 5, 'was_impossible': False}),\n",
       " Prediction(uid='A3VWZMMIKPY2XU', iid='B0012298LC', r_ui=5.0, est=4.278908313651014, details={'actual_k': 5, 'was_impossible': False}),\n",
       " Prediction(uid='A3KHZRATOBJ2ZH', iid='B009Y4FXT6', r_ui=4.0, est=5, details={'actual_k': 3, 'was_impossible': False}),\n",
       " Prediction(uid='A2URUK1RQY53CJ', iid='B00NJMNLRK', r_ui=5.0, est=4.888832997987927, details={'actual_k': 1, 'was_impossible': False}),\n",
       " Prediction(uid='A2ITYL2WLHPIYV', iid='B00GDL60JU', r_ui=5.0, est=5, details={'actual_k': 3, 'was_impossible': False}),\n",
       " Prediction(uid='A3JR9I7C7VUW6P', iid='B00136JL8W', r_ui=5.0, est=4.965943371616558, details={'actual_k': 4, 'was_impossible': False}),\n",
       " Prediction(uid='A3C0847WXDRWC5', iid='B00JLJ185C', r_ui=5.0, est=5, details={'actual_k': 1, 'was_impossible': False}),\n",
       " Prediction(uid='ABWNSBMXGS2M1', iid='B004NYNGW8', r_ui=5.0, est=4.82258064516129, details={'actual_k': 0, 'was_impossible': False}),\n",
       " Prediction(uid='AWD6SR6I52C5C', iid='B007LE341K', r_ui=5.0, est=5, details={'actual_k': 1, 'was_impossible': False}),\n",
       " Prediction(uid='A2X7A7H3G7E1NS', iid='B009S6HVHW', r_ui=4.0, est=4.712972936582739, details={'was_impossible': True, 'reason': 'User and/or item is unknown.'}),\n",
       " Prediction(uid='A2VSNUK7YLRKRE', iid='B00136JJM0', r_ui=5.0, est=4.999651786471008, details={'actual_k': 5, 'was_impossible': False}),\n",
       " Prediction(uid='AR8G6QJ6QD9PQ', iid='B00137VCQK', r_ui=5.0, est=5, details={'actual_k': 1, 'was_impossible': False}),\n",
       " Prediction(uid='A3FGC1XUNXXREW', iid='B0013F48FY', r_ui=5.0, est=5, details={'actual_k': 1, 'was_impossible': False}),\n",
       " Prediction(uid='A3M86N46CZR3RG', iid='B00136NFOI', r_ui=5.0, est=4.99411083631896, details={'actual_k': 5, 'was_impossible': False}),\n",
       " Prediction(uid='A2C7BOQVFH1HLE', iid='B00136NUG6', r_ui=5.0, est=5, details={'actual_k': 1, 'was_impossible': False}),\n",
       " Prediction(uid='A374WNBWOA9JVQ', iid='B0012FDNHY', r_ui=5.0, est=4.997564447894457, details={'actual_k': 4, 'was_impossible': False}),\n",
       " Prediction(uid='A1ERTZVVPGXEU0', iid='B00137T3ES', r_ui=5.0, est=4.9986807506922855, details={'actual_k': 2, 'was_impossible': False}),\n",
       " Prediction(uid='A3I7J6H0FSZQIW', iid='B002BPH1F4', r_ui=5.0, est=4.5431693989071045, details={'actual_k': 1, 'was_impossible': False}),\n",
       " Prediction(uid='AARHFHP17QFNG', iid='B00R4PKGYE', r_ui=5.0, est=4.881818181818182, details={'actual_k': 0, 'was_impossible': False}),\n",
       " Prediction(uid='AW77N1LUU8I52', iid='B0013F48FY', r_ui=5.0, est=5, details={'actual_k': 1, 'was_impossible': False}),\n",
       " Prediction(uid='A2HH8V0HSEMNHD', iid='B00137OD52', r_ui=5.0, est=4.997529549496175, details={'actual_k': 3, 'was_impossible': False}),\n",
       " Prediction(uid='A39RFWWEKCMG5L', iid='B004NYNGTQ', r_ui=4.0, est=5, details={'actual_k': 1, 'was_impossible': False}),\n",
       " Prediction(uid='A2301NWY7XMHGY', iid='B00F0AIBJC', r_ui=4.0, est=4.970556501471219, details={'actual_k': 3, 'was_impossible': False}),\n",
       " Prediction(uid='A1G4AU6CXBIHZY', iid='B00M8JCW3E', r_ui=2.0, est=4.446746751784046, details={'actual_k': 3, 'was_impossible': False}),\n",
       " Prediction(uid='A101PYPZ8ASKCV', iid='B0092MKTWQ', r_ui=5.0, est=5, details={'actual_k': 3, 'was_impossible': False}),\n",
       " Prediction(uid='A1NQOJEXEAX0PS', iid='B000W0633G', r_ui=5.0, est=4.838175230902562, details={'actual_k': 5, 'was_impossible': False}),\n",
       " Prediction(uid='A39F6C6EHDZ7SV', iid='B00BZIOAOS', r_ui=5.0, est=4.694444444444445, details={'actual_k': 0, 'was_impossible': False}),\n",
       " Prediction(uid='AS0CCKP5ZB0M6', iid='B001232BWO', r_ui=5.0, est=4.795918367346939, details={'actual_k': 0, 'was_impossible': False}),\n",
       " Prediction(uid='A31H1N6RREU2T5', iid='B00SYTTBMC', r_ui=4.0, est=4.712972936582739, details={'was_impossible': True, 'reason': 'User and/or item is unknown.'}),\n",
       " Prediction(uid='A2AIXGPS8ZI5W', iid='B001KW5MF0', r_ui=5.0, est=4.690476190476191, details={'actual_k': 0, 'was_impossible': False}),\n",
       " Prediction(uid='A1VQ15R09NYF2X', iid='B00F0AIE4E', r_ui=5.0, est=5, details={'actual_k': 1, 'was_impossible': False}),\n",
       " Prediction(uid='A3EMTICWWRL6XU', iid='B00137MPOI', r_ui=5.0, est=4.932203389830509, details={'actual_k': 0, 'was_impossible': False}),\n",
       " Prediction(uid='A3P1X94UFR63AI', iid='B00136RS8C', r_ui=5.0, est=5, details={'actual_k': 1, 'was_impossible': False}),\n",
       " Prediction(uid='AC21VEKBPC02P', iid='B00136LNOW', r_ui=5.0, est=5, details={'actual_k': 1, 'was_impossible': False}),\n",
       " Prediction(uid='ALBV5RZNG64MT', iid='B001232BWO', r_ui=5.0, est=4.712972936582739, details={'was_impossible': True, 'reason': 'User and/or item is unknown.'}),\n",
       " Prediction(uid='A265TFNCE8WUR2', iid='B0011Z76XW', r_ui=5.0, est=5, details={'actual_k': 1, 'was_impossible': False}),\n",
       " Prediction(uid='A3P6UBW9N5LE02', iid='B00122MLIY', r_ui=5.0, est=4.991587693020875, details={'actual_k': 5, 'was_impossible': False}),\n",
       " Prediction(uid='A1H2PZGIM80ATF', iid='B007BZM30M', r_ui=5.0, est=4.672157622739018, details={'actual_k': 2, 'was_impossible': False}),\n",
       " Prediction(uid='AGA6B2IDC8WE', iid='B000WH0UKQ', r_ui=4.0, est=4.0, details={'actual_k': 1, 'was_impossible': False}),\n",
       " Prediction(uid='A2PGUM1WO8KVPC', iid='B0092MKTWQ', r_ui=5.0, est=4.2459681159636675, details={'actual_k': 2, 'was_impossible': False}),\n",
       " Prediction(uid='A2QHZ18AESXWX9', iid='B00137MFWK', r_ui=5.0, est=5, details={'actual_k': 2, 'was_impossible': False}),\n",
       " Prediction(uid='AY65VDY2QHUL3', iid='B003Y3ZTKG', r_ui=3.0, est=4.504347826086956, details={'actual_k': 0, 'was_impossible': False}),\n",
       " Prediction(uid='A3CJKFS9JDR2CN', iid='B0012FDNHY', r_ui=5.0, est=4.996260516513117, details={'actual_k': 5, 'was_impossible': False}),\n",
       " Prediction(uid='A2PNAOA52FOI95', iid='B0170K9UTO', r_ui=5.0, est=5, details={'actual_k': 1, 'was_impossible': False}),\n",
       " Prediction(uid='A1AHS6MFLH4ADS', iid='B00FX8F6VM', r_ui=5.0, est=4.903286657198729, details={'actual_k': 2, 'was_impossible': False}),\n",
       " Prediction(uid='AZRK5W6XSHMBR', iid='B00Q7SKT28', r_ui=5.0, est=4.712972936582739, details={'was_impossible': True, 'reason': 'User and/or item is unknown.'}),\n",
       " Prediction(uid='A3FCPK0CP7FAJX', iid='B004L179G2', r_ui=5.0, est=4.712972936582739, details={'was_impossible': True, 'reason': 'User and/or item is unknown.'}),\n",
       " Prediction(uid='A2F5QWRFK6F29L', iid='B000W00IGY', r_ui=5.0, est=5, details={'actual_k': 1, 'was_impossible': False}),\n",
       " Prediction(uid='A1E23YTGHD2RD6', iid='B00137GB8Y', r_ui=4.0, est=4.032093131119667, details={'actual_k': 3, 'was_impossible': False}),\n",
       " Prediction(uid='A2K7GCHDI8PEDQ', iid='B00136J7ZE', r_ui=5.0, est=4.944492772310202, details={'actual_k': 5, 'was_impossible': False}),\n",
       " Prediction(uid='A2M0XMGNVLU34T', iid='B0012EJGRG', r_ui=5.0, est=5, details={'actual_k': 1, 'was_impossible': False}),\n",
       " Prediction(uid='A35CHV6Z75D672', iid='B001KQFZWQ', r_ui=5.0, est=4.6689645621514515, details={'actual_k': 2, 'was_impossible': False}),\n",
       " Prediction(uid='ACPS3LG8Z1JK2', iid='B00E91QBPY', r_ui=5.0, est=4.916470588235295, details={'actual_k': 1, 'was_impossible': False}),\n",
       " Prediction(uid='A3RNC9BGR4J1ZF', iid='B00136RVP2', r_ui=5.0, est=4.377777777777778, details={'actual_k': 0, 'was_impossible': False}),\n",
       " Prediction(uid='A31D7TELF0NO55', iid='B00R4PKGYE', r_ui=5.0, est=4.712972936582739, details={'was_impossible': True, 'reason': 'User and/or item is unknown.'}),\n",
       " Prediction(uid='A25HXZYBETEVW0', iid='B00XY7SGXY', r_ui=5.0, est=4.71609035943746, details={'actual_k': 5, 'was_impossible': False}),\n",
       " Prediction(uid='A246D56KFO5CG', iid='B00OIK3SWA', r_ui=5.0, est=4.712972936582739, details={'was_impossible': True, 'reason': 'User and/or item is unknown.'}),\n",
       " Prediction(uid='A21V3SBIUCWI3J', iid='B00B113E0U', r_ui=5.0, est=4.712972936582739, details={'was_impossible': True, 'reason': 'User and/or item is unknown.'}),\n",
       " Prediction(uid='A2C1X7H3GJCIGK', iid='B00136J7OA', r_ui=5.0, est=5, details={'actual_k': 1, 'was_impossible': False}),\n",
       " Prediction(uid='A31RCLKJW4NAAD', iid='B00A87ERYK', r_ui=3.0, est=4.277777777777778, details={'actual_k': 0, 'was_impossible': False}),\n",
       " Prediction(uid='A1IQCQUA8Z8K5G', iid='B002WQ0TN8', r_ui=4.0, est=4.88, details={'actual_k': 0, 'was_impossible': False}),\n",
       " Prediction(uid='A3DNO6SQ4T23NA', iid='B00124BPBG', r_ui=5.0, est=5, details={'actual_k': 1, 'was_impossible': False}),\n",
       " Prediction(uid='A35JCASWZL0XBH', iid='B00XY7SGXY', r_ui=5.0, est=5, details={'actual_k': 2, 'was_impossible': False}),\n",
       " Prediction(uid='A1YCEOUCEHVARX', iid='B00136NIPO', r_ui=5.0, est=5, details={'actual_k': 1, 'was_impossible': False}),\n",
       " Prediction(uid='AJK5WHV1GW941', iid='B000W11N6W', r_ui=5.0, est=4.966167175394375, details={'actual_k': 2, 'was_impossible': False}),\n",
       " Prediction(uid='A152MUFMEF5D2R', iid='B0012288VS', r_ui=5.0, est=4.9986118301354034, details={'actual_k': 2, 'was_impossible': False}),\n",
       " Prediction(uid='ATWLQB27MLL84', iid='B000WH7EAU', r_ui=5.0, est=5, details={'actual_k': 1, 'was_impossible': False}),\n",
       " Prediction(uid='AQ39ZRPB3DTDC', iid='B00F0AIBJC', r_ui=5.0, est=4.837837837837838, details={'actual_k': 0, 'was_impossible': False}),\n",
       " Prediction(uid='A2W0ZB5G3356ZD', iid='B0108UP0EC', r_ui=5.0, est=4.898305084745763, details={'actual_k': 0, 'was_impossible': False}),\n",
       " Prediction(uid='A2CB0QR0EL7171', iid='B00137KL9Y', r_ui=5.0, est=5, details={'actual_k': 2, 'was_impossible': False}),\n",
       " Prediction(uid='A3L9E0YI7C5G0W', iid='B00QVZ1VXI', r_ui=4.0, est=4.526315789473684, details={'actual_k': 0, 'was_impossible': False}),\n",
       " Prediction(uid='AXG5I4CK8OQ2F', iid='B00E91Q7Z8', r_ui=5.0, est=4.995124113475177, details={'actual_k': 1, 'was_impossible': False}),\n",
       " Prediction(uid='AXYU7X8ZIUTQW', iid='B00O2RCFDC', r_ui=5.0, est=4.801980198019802, details={'actual_k': 0, 'was_impossible': False}),\n",
       " Prediction(uid='A80EV14XWHDUH', iid='B00HFWYA3E', r_ui=5.0, est=4.726666666666667, details={'actual_k': 1, 'was_impossible': False}),\n",
       " Prediction(uid='A37J28Z4FRRGNO', iid='B000WZWW7M', r_ui=5.0, est=4.712972936582739, details={'was_impossible': True, 'reason': 'User and/or item is unknown.'}),\n",
       " Prediction(uid='A2QJEF5L8NS0E', iid='B000WGMYI8', r_ui=5.0, est=5, details={'actual_k': 1, 'was_impossible': False}),\n",
       " Prediction(uid='A2X3E1S9BLQOD5', iid='B00CRMX53S', r_ui=5.0, est=4.728571428571429, details={'actual_k': 0, 'was_impossible': False}),\n",
       " Prediction(uid='A2ML3UZEUYJEC4', iid='B000W1774O', r_ui=5.0, est=5, details={'actual_k': 1, 'was_impossible': False}),\n",
       " Prediction(uid='A170UXQQ56AHO4', iid='B001235DTW', r_ui=4.0, est=4.0, details={'actual_k': 1, 'was_impossible': False}),\n",
       " Prediction(uid='A2EQH64QT03MLU', iid='B00137VCQK', r_ui=5.0, est=4.882352941176471, details={'actual_k': 0, 'was_impossible': False}),\n",
       " Prediction(uid='A33AFLV67SOHH4', iid='B001RN98N4', r_ui=4.0, est=4.712972936582739, details={'was_impossible': True, 'reason': 'User and/or item is unknown.'}),\n",
       " Prediction(uid='AK98BK92X3LYJ', iid='B0013F48FY', r_ui=5.0, est=5, details={'actual_k': 1, 'was_impossible': False}),\n",
       " Prediction(uid='A32EWRWZGMDH1U', iid='B00MS42PYA', r_ui=4.0, est=3.8626373626373622, details={'actual_k': 1, 'was_impossible': False}),\n",
       " Prediction(uid='A2WJ4MZEIPG6XW', iid='B00XTIFEVK', r_ui=5.0, est=4.796296296296297, details={'actual_k': 0, 'was_impossible': False}),\n",
       " Prediction(uid='AAC67P4KTM968', iid='B000W1MDPW', r_ui=5.0, est=4.998716986585495, details={'actual_k': 3, 'was_impossible': False}),\n",
       " Prediction(uid='A2ZYKWGXKU35MT', iid='B0058U21N6', r_ui=5.0, est=5, details={'actual_k': 1, 'was_impossible': False}),\n",
       " Prediction(uid='ASNJJCWIN3C2N', iid='B007JOM5XA', r_ui=5.0, est=4.579710144927536, details={'actual_k': 0, 'was_impossible': False}),\n",
       " Prediction(uid='A1U7PGH7HQ96D5', iid='B00QNAJ06G', r_ui=5.0, est=4.929167306509805, details={'actual_k': 2, 'was_impossible': False}),\n",
       " Prediction(uid='AVPZEBTWAM0P3', iid='B000YKEMZ0', r_ui=4.0, est=3.996202841887497, details={'actual_k': 2, 'was_impossible': False}),\n",
       " Prediction(uid='A1GCE3BM88LFFE', iid='B00137MMAU', r_ui=4.0, est=4.0, details={'actual_k': 1, 'was_impossible': False}),\n",
       " Prediction(uid='A13465BNUF8L5A', iid='B006Z1XZFK', r_ui=5.0, est=4.712972936582739, details={'was_impossible': True, 'reason': 'User and/or item is unknown.'}),\n",
       " Prediction(uid='AM5E53FMI5AKK', iid='B01DOO46BM', r_ui=5.0, est=4.712972936582739, details={'was_impossible': True, 'reason': 'User and/or item is unknown.'}),\n",
       " Prediction(uid='A3BZE98FY9G5F2', iid='B00B6CDOFO', r_ui=5.0, est=4.2775193798449616, details={'actual_k': 1, 'was_impossible': False}),\n",
       " Prediction(uid='A2FACFL7MHLB43', iid='B0011Z762I', r_ui=5.0, est=5, details={'actual_k': 1, 'was_impossible': False}),\n",
       " Prediction(uid='A1Z3YP97OUKMM4', iid='B00CRMX53S', r_ui=5.0, est=4.712972936582739, details={'was_impossible': True, 'reason': 'User and/or item is unknown.'}),\n",
       " Prediction(uid='A3T2VJPV97JDBW', iid='B003Y3ZTKG', r_ui=5.0, est=4.504347826086956, details={'actual_k': 0, 'was_impossible': False}),\n",
       " Prediction(uid='A13OYPEGL3GLIV', iid='B0011Z764Q', r_ui=5.0, est=4.991135744591966, details={'actual_k': 5, 'was_impossible': False}),\n",
       " Prediction(uid='ARVW5GNMO9QU7', iid='B0012EJGRG', r_ui=5.0, est=5, details={'actual_k': 1, 'was_impossible': False}),\n",
       " Prediction(uid='A1OTWKSJ933COE', iid='B00136NFOI', r_ui=5.0, est=4.930461711711712, details={'actual_k': 2, 'was_impossible': False}),\n",
       " Prediction(uid='A1130B9F6WOF5V', iid='B00124BPBG', r_ui=5.0, est=4.712972936582739, details={'was_impossible': True, 'reason': 'User and/or item is unknown.'}),\n",
       " Prediction(uid='A2EQJW154CZZOS', iid='B0043ZDFEQ', r_ui=5.0, est=4.712972936582739, details={'was_impossible': True, 'reason': 'User and/or item is unknown.'}),\n",
       " Prediction(uid='A3NL5K227R3A00', iid='B00136JL8W', r_ui=5.0, est=4.998347771386129, details={'actual_k': 3, 'was_impossible': False}),\n",
       " Prediction(uid='A3I1JWYCQ076FF', iid='B005UWEKZE', r_ui=5.0, est=5, details={'actual_k': 2, 'was_impossible': False}),\n",
       " Prediction(uid='AEF42RE14M3CD', iid='B00137OHD0', r_ui=5.0, est=4.2322814301474025, details={'actual_k': 3, 'was_impossible': False}),\n",
       " Prediction(uid='A2LVOS15HMNA09', iid='B00150S5HY', r_ui=5.0, est=5, details={'actual_k': 3, 'was_impossible': False}),\n",
       " Prediction(uid='A27TT2BJ37T2CS', iid='B00A8U014C', r_ui=5.0, est=2.449927431059506, details={'actual_k': 1, 'was_impossible': False}),\n",
       " Prediction(uid='AHM8MU5I3QS6C', iid='B00137IDLC', r_ui=5.0, est=5, details={'actual_k': 3, 'was_impossible': False}),\n",
       " Prediction(uid='AQ39ZRPB3DTDC', iid='B00FP1NNJY', r_ui=5.0, est=4.8367889420521, details={'actual_k': 1, 'was_impossible': False}),\n",
       " Prediction(uid='ASDGJQJ30X20H', iid='B0011Z8OFG', r_ui=3.0, est=3.0, details={'actual_k': 1, 'was_impossible': False}),\n",
       " Prediction(uid='A37HUQ6I3QNZDW', iid='B000W178XO', r_ui=5.0, est=5, details={'actual_k': 5, 'was_impossible': False}),\n",
       " Prediction(uid='A2E4U8F6DH3YJ2', iid='B00122MLIY', r_ui=5.0, est=4.9021739130434785, details={'actual_k': 0, 'was_impossible': False}),\n",
       " Prediction(uid='AEQR6IWBNOBZO', iid='B00GG3OYMK', r_ui=5.0, est=5, details={'actual_k': 3, 'was_impossible': False}),\n",
       " Prediction(uid='A3QBQX74SD210M', iid='B000W23IE6', r_ui=5.0, est=4.769230769230769, details={'actual_k': 0, 'was_impossible': False}),\n",
       " Prediction(uid='APDEN86B0E7DQ', iid='B00137KRYS', r_ui=4.0, est=3.9844822123628703, details={'actual_k': 3, 'was_impossible': False}),\n",
       " Prediction(uid='A3RATUB6FPDGMB', iid='B000VWMTHE', r_ui=5.0, est=5, details={'actual_k': 3, 'was_impossible': False}),\n",
       " Prediction(uid='A8IVYKSKP8QFY', iid='B0011Z7M2C', r_ui=5.0, est=5, details={'actual_k': 1, 'was_impossible': False}),\n",
       " Prediction(uid='A2SPEDC7WSZCGC', iid='B00BWGHIHY', r_ui=3.0, est=4.797889929258286, details={'actual_k': 3, 'was_impossible': False}),\n",
       " Prediction(uid='A13KHYZU3A8LUO', iid='B00QNAJ06G', r_ui=5.0, est=4.818724083508427, details={'actual_k': 5, 'was_impossible': False}),\n",
       " Prediction(uid='A1ZBIIZLWE8NRE', iid='B0012FDNHY', r_ui=5.0, est=4.995953790792876, details={'actual_k': 5, 'was_impossible': False}),\n",
       " Prediction(uid='A28V8F738Y1AYV', iid='B000YNNTWY', r_ui=5.0, est=5, details={'actual_k': 1, 'was_impossible': False}),\n",
       " Prediction(uid='A368X6QTD8W4QX', iid='B000VZYYWY', r_ui=5.0, est=5, details={'actual_k': 5, 'was_impossible': False}),\n",
       " Prediction(uid='A31ZPG0TJOR989', iid='B0011Z764Q', r_ui=5.0, est=5, details={'actual_k': 1, 'was_impossible': False}),\n",
       " Prediction(uid='A3GSULO9NWMFN9', iid='B00CZF8B68', r_ui=5.0, est=4.724333473913048, details={'actual_k': 4, 'was_impossible': False}),\n",
       " Prediction(uid='A3CQHZQ352LKAL', iid='B00OXE3MO0', r_ui=5.0, est=4.66, details={'actual_k': 0, 'was_impossible': False}),\n",
       " Prediction(uid='A273A3ZSL2P756', iid='B00B113E0U', r_ui=5.0, est=4.712972936582739, details={'was_impossible': True, 'reason': 'User and/or item is unknown.'}),\n",
       " Prediction(uid='A3CFZWOQ7ONYYB', iid='B00136RPYE', r_ui=5.0, est=4.996371040970013, details={'actual_k': 5, 'was_impossible': False}),\n",
       " Prediction(uid='A2ZBV5U1LN2WGO', iid='B006VRG3K2', r_ui=3.0, est=4.712972936582739, details={'was_impossible': True, 'reason': 'User and/or item is unknown.'}),\n",
       " Prediction(uid='A6WSPBL9IY5CB', iid='B00122MLIY', r_ui=5.0, est=5, details={'actual_k': 1, 'was_impossible': False}),\n",
       " Prediction(uid='A2K5111F8DE495', iid='B00R4PKGYE', r_ui=5.0, est=4.881818181818182, details={'actual_k': 0, 'was_impossible': False}),\n",
       " Prediction(uid='A29OI8WYGH7T4E', iid='B002HP8EKE', r_ui=1.0, est=4.712972936582739, details={'was_impossible': True, 'reason': 'User and/or item is unknown.'}),\n",
       " Prediction(uid='A2Z4H7PQHDPUWF', iid='B000V66URU', r_ui=5.0, est=5, details={'actual_k': 4, 'was_impossible': False}),\n",
       " Prediction(uid='A1C20NJ1TUBPFX', iid='B009S6HVHW', r_ui=3.0, est=4.372881355932203, details={'actual_k': 0, 'was_impossible': False}),\n",
       " Prediction(uid='A3BIMAUO4JKCRJ', iid='B0011Z0YR2', r_ui=3.0, est=2.8986195436962623, details={'actual_k': 5, 'was_impossible': False}),\n",
       " Prediction(uid='A2Z0PWAOAM13R0', iid='B0011W7GKS', r_ui=5.0, est=4.992734930592766, details={'actual_k': 3, 'was_impossible': False}),\n",
       " Prediction(uid='A1DUPV5SXIPFWY', iid='B00137QS28', r_ui=5.0, est=4.996321534101188, details={'actual_k': 3, 'was_impossible': False}),\n",
       " Prediction(uid='A3I9Q7TS5FQY0W', iid='B0092MKTL2', r_ui=5.0, est=4.564102564102564, details={'actual_k': 0, 'was_impossible': False}),\n",
       " Prediction(uid='AML8287U73R9V', iid='B00136LEMS', r_ui=5.0, est=4.8431372549019605, details={'actual_k': 0, 'was_impossible': False}),\n",
       " Prediction(uid='AALFVXQAI8C6V', iid='B00C0NFOSI', r_ui=5.0, est=4.454545454545454, details={'actual_k': 0, 'was_impossible': False}),\n",
       " Prediction(uid='A1EDZPB0R394FE', iid='B007MU87KG', r_ui=5.0, est=5, details={'actual_k': 1, 'was_impossible': False}),\n",
       " Prediction(uid='A1X93ES4DITTWK', iid='B001GH1ZQE', r_ui=3.0, est=4.712972936582739, details={'was_impossible': True, 'reason': 'User and/or item is unknown.'}),\n",
       " Prediction(uid='A24XBS8982JPBZ', iid='B00136RUWG', r_ui=5.0, est=5, details={'actual_k': 1, 'was_impossible': False}),\n",
       " Prediction(uid='AQOHS2AGQCJK9', iid='B00O6DWFW8', r_ui=5.0, est=4.754716981132075, details={'actual_k': 0, 'was_impossible': False}),\n",
       " Prediction(uid='A2ANEHT4K0IR2A', iid='B004NYNGTQ', r_ui=5.0, est=5, details={'actual_k': 4, 'was_impossible': False}),\n",
       " Prediction(uid='A1Y0OW8T5SM0TJ', iid='B0011Z0YR2', r_ui=5.0, est=5, details={'actual_k': 2, 'was_impossible': False}),\n",
       " Prediction(uid='A1I3PNNXJ8YHPW', iid='B004L179G2', r_ui=5.0, est=4.667067256821723, details={'actual_k': 3, 'was_impossible': False}),\n",
       " Prediction(uid='A1GHUN5HXMHZ89', iid='B0108UP0EC', r_ui=5.0, est=4.143588103613688, details={'actual_k': 1, 'was_impossible': False}),\n",
       " Prediction(uid='A308B7MDLNVAKW', iid='B000WH0UKQ', r_ui=5.0, est=4.999720393374491, details={'actual_k': 2, 'was_impossible': False}),\n",
       " Prediction(uid='A2ZL49KKJ1DZKF', iid='B00VY4GJM4', r_ui=5.0, est=5, details={'actual_k': 1, 'was_impossible': False}),\n",
       " Prediction(uid='A1XF215BZMR1XM', iid='B00O46VJ56', r_ui=5.0, est=4.823529411764706, details={'actual_k': 0, 'was_impossible': False}),\n",
       " Prediction(uid='A2D578WV1X567E', iid='B000WLTMPQ', r_ui=5.0, est=4.712972936582739, details={'was_impossible': True, 'reason': 'User and/or item is unknown.'}),\n",
       " Prediction(uid='A34RKOWXPYA4DU', iid='B0011Z764Q', r_ui=5.0, est=4.7176470588235295, details={'actual_k': 0, 'was_impossible': False}),\n",
       " Prediction(uid='A1H8OMGPQXB6QA', iid='B0011Z762I', r_ui=5.0, est=5, details={'actual_k': 2, 'was_impossible': False}),\n",
       " Prediction(uid='AWX96NY4MGJX2', iid='B0011Z310Y', r_ui=5.0, est=5, details={'actual_k': 2, 'was_impossible': False}),\n",
       " Prediction(uid='A3NJBQSY4TDYJ2', iid='B008XCJ0KI', r_ui=4.0, est=4.854193548387096, details={'actual_k': 1, 'was_impossible': False}),\n",
       " Prediction(uid='A20SZNEQJU638A', iid='B00137MFXY', r_ui=5.0, est=4.897645144528644, details={'actual_k': 5, 'was_impossible': False}),\n",
       " Prediction(uid='AVKHYC2D7MD56', iid='B007FNN9BW', r_ui=4.0, est=4.912727502090893, details={'actual_k': 2, 'was_impossible': False}),\n",
       " Prediction(uid='A2WJWA1ZPD2UJM', iid='B006H1ME5A', r_ui=5.0, est=4.9608946255615685, details={'actual_k': 2, 'was_impossible': False}),\n",
       " Prediction(uid='A3SEL48F3IR0U9', iid='B000WGMYI8', r_ui=5.0, est=4.992545735563932, details={'actual_k': 5, 'was_impossible': False}),\n",
       " Prediction(uid='A2P6CK5HLXQLY0', iid='B00124BPBG', r_ui=5.0, est=4.794117647058823, details={'actual_k': 0, 'was_impossible': False}),\n",
       " Prediction(uid='A1AXKQ87FXS7IN', iid='B00QVZ1VXI', r_ui=4.0, est=4.96221322537112, details={'actual_k': 1, 'was_impossible': False}),\n",
       " Prediction(uid='A1VGHEI55DU870', iid='B00CUR29GY', r_ui=5.0, est=4.9645161290322575, details={'actual_k': 1, 'was_impossible': False}),\n",
       " Prediction(uid='ATZAA71HTLZS2', iid='B000W02O2K', r_ui=5.0, est=4.822975517890772, details={'actual_k': 1, 'was_impossible': False}),\n",
       " Prediction(uid='A3T13H29NQEJOI', iid='B00GLP4DMO', r_ui=5.0, est=5, details={'actual_k': 2, 'was_impossible': False}),\n",
       " Prediction(uid='A1I2MRYTS60UW8', iid='B011DBV2NI', r_ui=4.0, est=4.37037037037037, details={'actual_k': 0, 'was_impossible': False}),\n",
       " Prediction(uid='A2T266MENR3XLY', iid='B0011Z8PXC', r_ui=4.0, est=4.063463235551552, details={'actual_k': 3, 'was_impossible': False}),\n",
       " Prediction(uid='A1N146DKO9FYAD', iid='B00JLJ185C', r_ui=5.0, est=4.712972936582739, details={'was_impossible': True, 'reason': 'User and/or item is unknown.'}),\n",
       " Prediction(uid='AVREVKY6XL0F1', iid='B00QNAJ06G', r_ui=5.0, est=4.000656244872997, details={'actual_k': 2, 'was_impossible': False}),\n",
       " Prediction(uid='A2V0AHXHTIIPUZ', iid='B000W0633G', r_ui=5.0, est=2.3333333333333335, details={'actual_k': 3, 'was_impossible': False}),\n",
       " Prediction(uid='A3FSTZTVQ8PSU4', iid='B0011Z0WNS', r_ui=5.0, est=5, details={'actual_k': 3, 'was_impossible': False}),\n",
       " Prediction(uid='A3L2ON0NIQ5QDA', iid='B0011Z0XSC', r_ui=5.0, est=5, details={'actual_k': 5, 'was_impossible': False}),\n",
       " Prediction(uid='AE16IFU2Z71W3', iid='B00C6MPTT2', r_ui=5.0, est=4.712972936582739, details={'was_impossible': True, 'reason': 'User and/or item is unknown.'}),\n",
       " Prediction(uid='AKVEQ72PG52LT', iid='B00IXBOHWK', r_ui=5.0, est=4.906976744186046, details={'actual_k': 0, 'was_impossible': False}),\n",
       " Prediction(uid='A2VDGODEA73QTB', iid='B000YKEMZ0', r_ui=5.0, est=4.753711797135595, details={'actual_k': 3, 'was_impossible': False}),\n",
       " Prediction(uid='A301GNC1CMSOAW', iid='B007BZM30M', r_ui=5.0, est=4.486111111111111, details={'actual_k': 0, 'was_impossible': False}),\n",
       " Prediction(uid='A8LX3L2DA0WH', iid='B0011XCZ1M', r_ui=5.0, est=4.887599109138956, details={'actual_k': 4, 'was_impossible': False}),\n",
       " Prediction(uid='A329PQ0WJOIZL5', iid='B00136RVP2', r_ui=5.0, est=5, details={'actual_k': 2, 'was_impossible': False}),\n",
       " Prediction(uid='A7FR5M31FGCV7', iid='B00137KRYS', r_ui=4.0, est=4.0, details={'actual_k': 1, 'was_impossible': False}),\n",
       " Prediction(uid='A3U1XP4WPDE556', iid='B00EH49FRE', r_ui=5.0, est=4.534246575342466, details={'actual_k': 0, 'was_impossible': False}),\n",
       " Prediction(uid='A1S4L8IOEKSPF1', iid='B0013D6QP6', r_ui=5.0, est=5, details={'actual_k': 3, 'was_impossible': False}),\n",
       " Prediction(uid='A3JGY8WYUZBU6D', iid='B009KGKF3M', r_ui=5.0, est=5, details={'actual_k': 3, 'was_impossible': False}),\n",
       " Prediction(uid='A2161LGA3D5RCI', iid='B0108UP0EC', r_ui=5.0, est=4.712972936582739, details={'was_impossible': True, 'reason': 'User and/or item is unknown.'}),\n",
       " Prediction(uid='A3BFJSNCZFPV9Y', iid='B00X5MVZ6I', r_ui=5.0, est=4.547169811320755, details={'actual_k': 0, 'was_impossible': False}),\n",
       " Prediction(uid='A3IJPUGITODKFH', iid='B009D9L77Y', r_ui=5.0, est=4.891304347826087, details={'actual_k': 0, 'was_impossible': False}),\n",
       " Prediction(uid='A1YWQEMFGJRV7', iid='B0058U21N6', r_ui=5.0, est=4.712972936582739, details={'was_impossible': True, 'reason': 'User and/or item is unknown.'}),\n",
       " Prediction(uid='A26SYWPO0N46R', iid='B000W1MCQW', r_ui=4.0, est=4.0, details={'actual_k': 1, 'was_impossible': False}),\n",
       " Prediction(uid='A32M0IK94FKJL6', iid='B0013G0PG4', r_ui=5.0, est=5, details={'actual_k': 1, 'was_impossible': False}),\n",
       " Prediction(uid='A3DCOGGBKMJ8RN', iid='B00IDXXNMS', r_ui=5.0, est=4.38389195786286, details={'actual_k': 5, 'was_impossible': False}),\n",
       " Prediction(uid='A3EV84BKJFL1Z5', iid='B00110DT4C', r_ui=3.0, est=3.0, details={'actual_k': 1, 'was_impossible': False}),\n",
       " Prediction(uid='A1DPKVRQZJU4K4', iid='B00137GHF6', r_ui=5.0, est=5, details={'actual_k': 1, 'was_impossible': False}),\n",
       " Prediction(uid='A1B5B0ROX7CNEU', iid='B008BNAOQ8', r_ui=5.0, est=4.712972936582739, details={'was_impossible': True, 'reason': 'User and/or item is unknown.'}),\n",
       " Prediction(uid='A1IRZWUGJO0OAU', iid='B00136JJM0', r_ui=4.0, est=4.001096931327574, details={'actual_k': 2, 'was_impossible': False}),\n",
       " Prediction(uid='ARKZZXSVSQOO5', iid='B00137QS28', r_ui=4.0, est=4.0, details={'actual_k': 1, 'was_impossible': False}),\n",
       " Prediction(uid='A2D578WV1X567E', iid='B000WLTMPQ', r_ui=5.0, est=4.712972936582739, details={'was_impossible': True, 'reason': 'User and/or item is unknown.'}),\n",
       " Prediction(uid='AL5I3OVMH953O', iid='B00123F8Y2', r_ui=5.0, est=5, details={'actual_k': 3, 'was_impossible': False}),\n",
       " Prediction(uid='AZ1M71UTLQCXB', iid='B00SZQ487M', r_ui=4.0, est=4.712972936582739, details={'was_impossible': True, 'reason': 'User and/or item is unknown.'}),\n",
       " Prediction(uid='A164I8PTUF4F5P', iid='B000YKEMZ0', r_ui=5.0, est=5, details={'actual_k': 1, 'was_impossible': False}),\n",
       " Prediction(uid='A283HYRKHPCZT5', iid='B00137IJUM', r_ui=5.0, est=5, details={'actual_k': 1, 'was_impossible': False}),\n",
       " Prediction(uid='A17ZGZHO81XVC2', iid='B000Z1GR9C', r_ui=5.0, est=5, details={'actual_k': 1, 'was_impossible': False}),\n",
       " Prediction(uid='AWAFSYBKPTZI4', iid='B000VWMTHE', r_ui=5.0, est=5, details={'actual_k': 1, 'was_impossible': False}),\n",
       " Prediction(uid='A2Y222P66EWVOZ', iid='B005UYZ5CO', r_ui=5.0, est=4.917447433873093, details={'actual_k': 3, 'was_impossible': False}),\n",
       " Prediction(uid='A39SZ4B8TRX9E9', iid='B00136JF8I', r_ui=5.0, est=5, details={'actual_k': 1, 'was_impossible': False}),\n",
       " Prediction(uid='A25S1X3LNS9VRI', iid='B00M8JCW3E', r_ui=5.0, est=4.636363636363637, details={'actual_k': 0, 'was_impossible': False}),\n",
       " Prediction(uid='AMP7TQRWAIE84', iid='B0011Z77TA', r_ui=5.0, est=4.998785725566509, details={'actual_k': 5, 'was_impossible': False}),\n",
       " Prediction(uid='ATQGKV88QUKU6', iid='B00137SPH4', r_ui=5.0, est=5, details={'actual_k': 1, 'was_impossible': False}),\n",
       " Prediction(uid='A4HYCGMG9NY7I', iid='B00136RVCU', r_ui=5.0, est=5, details={'actual_k': 2, 'was_impossible': False}),\n",
       " Prediction(uid='A1VL4IHJN57KSK', iid='B00V8Z8SJ6', r_ui=5.0, est=4.917929292929292, details={'actual_k': 1, 'was_impossible': False}),\n",
       " Prediction(uid='A1OKLAQJVFREOQ', iid='B00OVKKUW8', r_ui=5.0, est=5, details={'actual_k': 1, 'was_impossible': False}),\n",
       " Prediction(uid='A3J4DWT67PANGE', iid='B008XCJ0KI', r_ui=5.0, est=4.8949532710280375, details={'actual_k': 1, 'was_impossible': False}),\n",
       " Prediction(uid='A2BXONVM5GCWQ2', iid='B00137MMAU', r_ui=5.0, est=5, details={'actual_k': 1, 'was_impossible': False}),\n",
       " Prediction(uid='APANKO5VLZH45', iid='B00137MPOI', r_ui=5.0, est=5, details={'actual_k': 5, 'was_impossible': False}),\n",
       " Prediction(uid='A3HZEYCYW9EUWM', iid='B00A7ZXBE0', r_ui=5.0, est=4.880155791086707, details={'actual_k': 1, 'was_impossible': False}),\n",
       " Prediction(uid='A1D2KSBEPOSJSW', iid='B0011Z1D8Q', r_ui=5.0, est=5, details={'actual_k': 1, 'was_impossible': False}),\n",
       " Prediction(uid='A1WN3QB96MMJSR', iid='B00AHXDGBA', r_ui=5.0, est=4.712972936582739, details={'was_impossible': True, 'reason': 'User and/or item is unknown.'}),\n",
       " Prediction(uid='A1SDLTS9NX8FU1', iid='B001KQFZWQ', r_ui=1.0, est=4.565217391304348, details={'actual_k': 0, 'was_impossible': False}),\n",
       " Prediction(uid='A3540L4EV0T3BW', iid='B0012F6LL4', r_ui=5.0, est=4.9969069950810665, details={'actual_k': 5, 'was_impossible': False}),\n",
       " Prediction(uid='A28X62CFHD8BZI', iid='B01DOO46BM', r_ui=5.0, est=5, details={'actual_k': 1, 'was_impossible': False}),\n",
       " Prediction(uid='A31F136V684TZK', iid='B00122MLIY', r_ui=5.0, est=5, details={'actual_k': 3, 'was_impossible': False}),\n",
       " Prediction(uid='AE31M52VLKOG6', iid='B0099G7KDQ', r_ui=5.0, est=4.826436539065063, details={'actual_k': 3, 'was_impossible': False}),\n",
       " Prediction(uid='AERUANOZEDXMP', iid='B00B113E0U', r_ui=5.0, est=5, details={'actual_k': 3, 'was_impossible': False}),\n",
       " Prediction(uid='A2J1SVKABBMYHI', iid='B0011Z2Y16', r_ui=5.0, est=4.712972936582739, details={'was_impossible': True, 'reason': 'User and/or item is unknown.'}),\n",
       " Prediction(uid='A2LTPIQG2RWNJW', iid='B00136JJM0', r_ui=5.0, est=4.991736468271902, details={'actual_k': 5, 'was_impossible': False}),\n",
       " Prediction(uid='AQRF2Z8BEWLQ9', iid='B00137MJI0', r_ui=5.0, est=4.712972936582739, details={'was_impossible': True, 'reason': 'User and/or item is unknown.'}),\n",
       " Prediction(uid='ACP4PO8I4YLB4', iid='B00V94HFI6', r_ui=5.0, est=4.879310344827586, details={'actual_k': 0, 'was_impossible': False}),\n",
       " Prediction(uid='A1V24LXYW6BRVY', iid='B009VLX8FS', r_ui=4.0, est=4.3625, details={'actual_k': 0, 'was_impossible': False}),\n",
       " Prediction(uid='A13UQNMCNE8LPG', iid='B00137GHF6', r_ui=5.0, est=5, details={'actual_k': 1, 'was_impossible': False}),\n",
       " Prediction(uid='A218A7MPSZDNCY', iid='B008U8I380', r_ui=5.0, est=4.4868421052631575, details={'actual_k': 0, 'was_impossible': False}),\n",
       " Prediction(uid='A1TMRHDHVE7K97', iid='B0011Z1BHO', r_ui=3.0, est=4.754716981132075, details={'actual_k': 0, 'was_impossible': False}),\n",
       " Prediction(uid='A9PJOPKPUJIBM', iid='B000VZXDO4', r_ui=5.0, est=5, details={'actual_k': 2, 'was_impossible': False}),\n",
       " Prediction(uid='A2P6QTBRBESF5O', iid='B00UDDW016', r_ui=5.0, est=4.666666666666667, details={'actual_k': 0, 'was_impossible': False}),\n",
       " Prediction(uid='A2J4PKWPWQ3TE1', iid='B001NSP4TK', r_ui=5.0, est=4.712972936582739, details={'was_impossible': True, 'reason': 'User and/or item is unknown.'}),\n",
       " Prediction(uid='A30VXZ470KOEG2', iid='B00123G5ZI', r_ui=5.0, est=5, details={'actual_k': 2, 'was_impossible': False}),\n",
       " Prediction(uid='AUZMRE4QFRJ7', iid='B00E91QBPY', r_ui=5.0, est=4.737961138500381, details={'actual_k': 3, 'was_impossible': False}),\n",
       " Prediction(uid='A1JNGYIVHHHH0B', iid='B0011Z8PXC', r_ui=5.0, est=5, details={'actual_k': 1, 'was_impossible': False}),\n",
       " Prediction(uid='A1LPYW5WXUPXKY', iid='B0059H09DC', r_ui=5.0, est=4.257236248412027, details={'actual_k': 5, 'was_impossible': False}),\n",
       " Prediction(uid='A3BGV3LE5ZR19A', iid='B000WGMYI8', r_ui=5.0, est=5, details={'actual_k': 3, 'was_impossible': False}),\n",
       " Prediction(uid='A2QO20Z0TAHKTX', iid='B00TINQKX6', r_ui=5.0, est=4.712972936582739, details={'was_impossible': True, 'reason': 'User and/or item is unknown.'}),\n",
       " Prediction(uid='A8OON06QWYWQT', iid='B000V616DS', r_ui=5.0, est=4.930232558139535, details={'actual_k': 0, 'was_impossible': False}),\n",
       " Prediction(uid='AV648VU7JR5D5', iid='B0011Z1D8Q', r_ui=5.0, est=4.804123711340206, details={'actual_k': 0, 'was_impossible': False}),\n",
       " Prediction(uid='A7KA68ILUFPOV', iid='B000V66URU', r_ui=5.0, est=4.911761637851077, details={'actual_k': 4, 'was_impossible': False}),\n",
       " Prediction(uid='A22PZBENWG6IM0', iid='B00EH49FRE', r_ui=5.0, est=5, details={'actual_k': 5, 'was_impossible': False}),\n",
       " Prediction(uid='A1TU1MUIBUFENR', iid='B007MU87KG', r_ui=5.0, est=4.712972936582739, details={'was_impossible': True, 'reason': 'User and/or item is unknown.'}),\n",
       " Prediction(uid='AVKHYC2D7MD56', iid='B0011Z8PXC', r_ui=5.0, est=4.987781902980272, details={'actual_k': 5, 'was_impossible': False}),\n",
       " Prediction(uid='AQ8BBS3W67UQ3', iid='B00W8DLF7Y', r_ui=5.0, est=4.894736842105263, details={'actual_k': 0, 'was_impossible': False}),\n",
       " Prediction(uid='AU8AC43PV0LXQ', iid='B007QNRBRY', r_ui=5.0, est=4.948717948717949, details={'actual_k': 0, 'was_impossible': False}),\n",
       " Prediction(uid='A26Y3WOLEBRDEF', iid='B00BS4QPDS', r_ui=5.0, est=4.741176470588235, details={'actual_k': 0, 'was_impossible': False}),\n",
       " Prediction(uid='ASGPXFE7JWOD1', iid='B009VLX8FS', r_ui=5.0, est=4.918607358899187, details={'actual_k': 2, 'was_impossible': False}),\n",
       " Prediction(uid='A1KS6P54RU1MMK', iid='B00UB4WTMC', r_ui=5.0, est=4.27906976744186, details={'actual_k': 0, 'was_impossible': False}),\n",
       " Prediction(uid='A3VP6APOW447ZQ', iid='B003Y3ZTKG', r_ui=5.0, est=4.83135062610289, details={'actual_k': 2, 'was_impossible': False}),\n",
       " Prediction(uid='A1SSIL2I5SFGN9', iid='B00SZQ487M', r_ui=5.0, est=4.916389197188309, details={'actual_k': 1, 'was_impossible': False}),\n",
       " Prediction(uid='AQAC82C5NEEJN', iid='B002NQTG5Y', r_ui=4.0, est=4.712972936582739, details={'was_impossible': True, 'reason': 'User and/or item is unknown.'}),\n",
       " Prediction(uid='A3U02GHXXL1TJL', iid='B009KGKF3M', r_ui=5.0, est=4.8847117794486214, details={'actual_k': 1, 'was_impossible': False}),\n",
       " Prediction(uid='AIGH2GH9V4IQ6', iid='B00FY9PGJ2', r_ui=5.0, est=4.712972936582739, details={'was_impossible': True, 'reason': 'User and/or item is unknown.'}),\n",
       " Prediction(uid='A27JQB7JMGFLKR', iid='B000W178XO', r_ui=5.0, est=5, details={'actual_k': 2, 'was_impossible': False}),\n",
       " Prediction(uid='A3MSQ7PTTZYYGK', iid='B00BWGHIHY', r_ui=5.0, est=4.712972936582739, details={'was_impossible': True, 'reason': 'User and/or item is unknown.'}),\n",
       " Prediction(uid='A1DYRDDCUBKX9I', iid='B00137OA0K', r_ui=5.0, est=5, details={'actual_k': 1, 'was_impossible': False}),\n",
       " Prediction(uid='AXA2ZO7Q33VCO', iid='B001NSP4TK', r_ui=5.0, est=5, details={'actual_k': 2, 'was_impossible': False}),\n",
       " Prediction(uid='A3724DSHQAPJQB', iid='B0013D6QP6', r_ui=5.0, est=5, details={'actual_k': 2, 'was_impossible': False}),\n",
       " Prediction(uid='A38A5BJ0UETDRM', iid='B009S6HVHW', r_ui=5.0, est=4.372881355932203, details={'actual_k': 0, 'was_impossible': False}),\n",
       " Prediction(uid='A25QSVB2VE7MSF', iid='B000VZV9Y0', r_ui=5.0, est=5, details={'actual_k': 1, 'was_impossible': False}),\n",
       " Prediction(uid='A1P3SPJ15O5RQ1', iid='B00CZF8B68', r_ui=5.0, est=4.904753820033956, details={'actual_k': 1, 'was_impossible': False}),\n",
       " Prediction(uid='AJNQTSR3IMW8Z', iid='B00YQQS1PU', r_ui=4.0, est=4.725, details={'actual_k': 0, 'was_impossible': False}),\n",
       " Prediction(uid='A3UK5MH8JR22AO', iid='B006VRG3K2', r_ui=5.0, est=4.967206309672063, details={'actual_k': 2, 'was_impossible': False}),\n",
       " Prediction(uid='A7PFQE3ZWLN1J', iid='B00HNEQS3E', r_ui=5.0, est=4.953234133009414, details={'actual_k': 1, 'was_impossible': False}),\n",
       " Prediction(uid='AVG2FYWAXAAAY', iid='B011DBV2NI', r_ui=5.0, est=4.712972936582739, details={'was_impossible': True, 'reason': 'User and/or item is unknown.'}),\n",
       " Prediction(uid='A2PEODRM2OQJ88', iid='B000W0633G', r_ui=4.0, est=3.994314649398141, details={'actual_k': 2, 'was_impossible': False}),\n",
       " Prediction(uid='A33X8R73E8265Y', iid='B006VRGLZY', r_ui=5.0, est=4.712972936582739, details={'was_impossible': True, 'reason': 'User and/or item is unknown.'}),\n",
       " Prediction(uid='A1IU49QJWEKZW4', iid='B0012CCO0E', r_ui=5.0, est=5, details={'actual_k': 2, 'was_impossible': False}),\n",
       " Prediction(uid='A38C12950IM24P', iid='B006VRGLZY', r_ui=4.0, est=5, details={'actual_k': 1, 'was_impossible': False}),\n",
       " Prediction(uid='A3JGYIKK05O68T', iid='B00122OUI8', r_ui=5.0, est=5, details={'actual_k': 1, 'was_impossible': False}),\n",
       " Prediction(uid='A1BFMWEWDIHU1L', iid='B00F94RZV4', r_ui=5.0, est=4.870192307692308, details={'actual_k': 1, 'was_impossible': False}),\n",
       " Prediction(uid='A1IQ7XO43E8ANM', iid='B00114105I', r_ui=4.0, est=3.975728155339806, details={'actual_k': 3, 'was_impossible': False}),\n",
       " Prediction(uid='A3J9YG8IXH56HS', iid='B00136RVP2', r_ui=4.0, est=4.377777777777778, details={'actual_k': 0, 'was_impossible': False}),\n",
       " Prediction(uid='A2D7VDT5001ZU2', iid='B0011Z8PXC', r_ui=5.0, est=5, details={'actual_k': 4, 'was_impossible': False}),\n",
       " Prediction(uid='A1T17BYSWE5QBE', iid='B00137T4WE', r_ui=4.0, est=3.9811335942143846, details={'actual_k': 3, 'was_impossible': False}),\n",
       " Prediction(uid='A3JGY8WYUZBU6D', iid='B000W07FYC', r_ui=5.0, est=4.985521329630239, details={'actual_k': 4, 'was_impossible': False}),\n",
       " Prediction(uid='A2TCVJLRL3JPLN', iid='B0014ETXBI', r_ui=5.0, est=4.712972936582739, details={'was_impossible': True, 'reason': 'User and/or item is unknown.'}),\n",
       " Prediction(uid='A1QMGCJIKQUOFF', iid='B0011XCZ1M', r_ui=5.0, est=4.993282044311344, details={'actual_k': 3, 'was_impossible': False}),\n",
       " Prediction(uid='A2C7H7VGAEG6RG', iid='B000W1VFA6', r_ui=5.0, est=5, details={'actual_k': 5, 'was_impossible': False}),\n",
       " Prediction(uid='AEX7117N6XFMS', iid='B0011Z3GFY', r_ui=5.0, est=5, details={'actual_k': 1, 'was_impossible': False}),\n",
       " Prediction(uid='A28Z5TADF99R2I', iid='B001BZDDYS', r_ui=5.0, est=4.852941176470588, details={'actual_k': 0, 'was_impossible': False}),\n",
       " Prediction(uid='A3W4D8XOGLWUN5', iid='B00136JF8I', r_ui=5.0, est=5, details={'actual_k': 5, 'was_impossible': False}),\n",
       " Prediction(uid='A34QST6WVAB8UR', iid='B014DIAVS0', r_ui=5.0, est=4.712972936582739, details={'was_impossible': True, 'reason': 'User and/or item is unknown.'}),\n",
       " Prediction(uid='A74U90O56RX0S', iid='B0011Z4X9C', r_ui=3.0, est=3.0, details={'actual_k': 1, 'was_impossible': False}),\n",
       " Prediction(uid='A1IJ8A8A4DZT3C', iid='B00EH49FRE', r_ui=1.0, est=1.9214402384610945, details={'actual_k': 2, 'was_impossible': False}),\n",
       " Prediction(uid='A13NRL82GSVEA2', iid='B00CZF8B68', r_ui=5.0, est=4.825806451612904, details={'actual_k': 0, 'was_impossible': False}),\n",
       " Prediction(uid='A1LBIZLET9CW1I', iid='B008E5YZ6S', r_ui=4.0, est=4.4324324324324325, details={'actual_k': 0, 'was_impossible': False}),\n",
       " Prediction(uid='A1FO2ICRB5K8TR', iid='B0108UP0EC', r_ui=5.0, est=4.712972936582739, details={'was_impossible': True, 'reason': 'User and/or item is unknown.'}),\n",
       " Prediction(uid='AL4D87ZLRYTWV', iid='B00C6MPTT2', r_ui=2.0, est=4.712972936582739, details={'was_impossible': True, 'reason': 'User and/or item is unknown.'}),\n",
       " Prediction(uid='A1QN8G5RCBPZBE', iid='B01E7RWTYG', r_ui=5.0, est=4.7, details={'actual_k': 0, 'was_impossible': False}),\n",
       " Prediction(uid='A2WG6VH4A6MIJV', iid='B00GDL60JU', r_ui=5.0, est=5, details={'actual_k': 2, 'was_impossible': False}),\n",
       " Prediction(uid='A30KYW52YGWP2U', iid='B009Y4FXT6', r_ui=5.0, est=4.890188679245282, details={'actual_k': 1, 'was_impossible': False}),\n",
       " Prediction(uid='A3TLMU0R8W48SZ', iid='B00IXBOP8G', r_ui=5.0, est=4.712972936582739, details={'was_impossible': True, 'reason': 'User and/or item is unknown.'}),\n",
       " Prediction(uid='A3FGP7ATZH2I09', iid='B007MU87KG', r_ui=5.0, est=4.7894736842105265, details={'actual_k': 0, 'was_impossible': False}),\n",
       " Prediction(uid='A3ER6ARJ23CIN8', iid='B005UWEKZE', r_ui=5.0, est=4.961038961038961, details={'actual_k': 0, 'was_impossible': False}),\n",
       " Prediction(uid='A1OHN08Q48NC7O', iid='B00136JF8I', r_ui=5.0, est=4.856060606060606, details={'actual_k': 0, 'was_impossible': False}),\n",
       " Prediction(uid='A12PBCOTS54DZY', iid='B00137IDLC', r_ui=5.0, est=4.999348087437282, details={'actual_k': 2, 'was_impossible': False}),\n",
       " Prediction(uid='A3I6JKW89COASA', iid='B00122K0OQ', r_ui=5.0, est=4.954401442861701, details={'actual_k': 5, 'was_impossible': False}),\n",
       " Prediction(uid='A10ZYNNXE6NVGB', iid='B006Z1XZFK', r_ui=4.0, est=4.684563758389261, details={'actual_k': 0, 'was_impossible': False}),\n",
       " Prediction(uid='A2N2XVMC29HJED', iid='B0013SELJO', r_ui=5.0, est=5, details={'actual_k': 3, 'was_impossible': False}),\n",
       " Prediction(uid='ADSTRP97VHZL2', iid='B00OXE38D0', r_ui=5.0, est=4.634408602150538, details={'actual_k': 0, 'was_impossible': False}),\n",
       " Prediction(uid='AQ39ZRPB3DTDC', iid='B01D41ASOE', r_ui=5.0, est=4.813953488372093, details={'actual_k': 0, 'was_impossible': False}),\n",
       " Prediction(uid='A3EMZPA33ZBVHY', iid='B0170K9UTO', r_ui=5.0, est=4.712972936582739, details={'was_impossible': True, 'reason': 'User and/or item is unknown.'}),\n",
       " Prediction(uid='A30M5OGVWABAXD', iid='B002IEW504', r_ui=5.0, est=4.656966747769667, details={'actual_k': 2, 'was_impossible': False}),\n",
       " Prediction(uid='A2YF303LMLMP5L', iid='B00124BPBG', r_ui=5.0, est=5, details={'actual_k': 1, 'was_impossible': False}),\n",
       " Prediction(uid='A2OVAG5BRSLFPS', iid='B00137USQ0', r_ui=5.0, est=5, details={'actual_k': 1, 'was_impossible': False}),\n",
       " Prediction(uid='A3PYQ6EULBFXOL', iid='B000WLOKKS', r_ui=5.0, est=5, details={'actual_k': 5, 'was_impossible': False}),\n",
       " Prediction(uid='A32C4HRTZ6QO3Y', iid='B005T18DOK', r_ui=5.0, est=4.712972936582739, details={'was_impossible': True, 'reason': 'User and/or item is unknown.'}),\n",
       " Prediction(uid='A2UEA5O8BZ4DY4', iid='B006Z1XZFK', r_ui=5.0, est=4.712972936582739, details={'was_impossible': True, 'reason': 'User and/or item is unknown.'}),\n",
       " Prediction(uid='AOJTT268M9FLP', iid='B0011Z762I', r_ui=4.0, est=5, details={'actual_k': 3, 'was_impossible': False}),\n",
       " Prediction(uid='A3Q0OTJCD33XEP', iid='B003VXHTG6', r_ui=5.0, est=4.700092042055316, details={'actual_k': 2, 'was_impossible': False}),\n",
       " Prediction(uid='A1OKMI99CPE5MF', iid='B00PN14AKC', r_ui=5.0, est=5, details={'actual_k': 1, 'was_impossible': False}),\n",
       " Prediction(uid='A351338QZ9X5OW', iid='B00123FMKM', r_ui=5.0, est=5, details={'actual_k': 3, 'was_impossible': False}),\n",
       " Prediction(uid='A24EXRGZ24WZ22', iid='B001GH1ZQE', r_ui=5.0, est=5, details={'actual_k': 1, 'was_impossible': False}),\n",
       " Prediction(uid='A2I7JWJ7L6DBET', iid='B00EH49FRE', r_ui=5.0, est=4.534246575342466, details={'actual_k': 0, 'was_impossible': False}),\n",
       " Prediction(uid='AKXNQ67GCNKND', iid='B00EH49FRE', r_ui=5.0, est=4.534246575342466, details={'actual_k': 0, 'was_impossible': False}),\n",
       " Prediction(uid='A2R3ARA95OS9XJ', iid='B0012EESZG', r_ui=5.0, est=5, details={'actual_k': 2, 'was_impossible': False}),\n",
       " Prediction(uid='A2Q8SB6GUYJVUD', iid='B00136NEAI', r_ui=5.0, est=5, details={'actual_k': 1, 'was_impossible': False}),\n",
       " ...]"
      ]
     },
     "execution_count": 32,
     "metadata": {},
     "output_type": "execute_result"
    }
   ],
   "source": [
    "test_pred"
   ]
  },
  {
   "cell_type": "code",
   "execution_count": 33,
   "id": "3f729fe5",
   "metadata": {},
   "outputs": [
    {
     "name": "stdout",
     "output_type": "stream",
     "text": [
      "Item-based Model : Test Set\n",
      "RMSE: 0.5273\n"
     ]
    },
    {
     "data": {
      "text/plain": [
       "0.5272798277480051"
      ]
     },
     "execution_count": 33,
     "metadata": {},
     "output_type": "execute_result"
    }
   ],
   "source": [
    "# get RMSE\n",
    "print(\"Item-based Model : Test Set\")\n",
    "accuracy.rmse(test_pred, verbose=True)"
   ]
  },
  {
   "cell_type": "code",
   "execution_count": 35,
   "id": "e0ad804b",
   "metadata": {},
   "outputs": [
    {
     "data": {
      "text/html": [
       "<div>\n",
       "<style scoped>\n",
       "    .dataframe tbody tr th:only-of-type {\n",
       "        vertical-align: middle;\n",
       "    }\n",
       "\n",
       "    .dataframe tbody tr th {\n",
       "        vertical-align: top;\n",
       "    }\n",
       "\n",
       "    .dataframe thead th {\n",
       "        text-align: right;\n",
       "    }\n",
       "</style>\n",
       "<table border=\"1\" class=\"dataframe\">\n",
       "  <thead>\n",
       "    <tr style=\"text-align: right;\">\n",
       "      <th>asin</th>\n",
       "      <th>7799420340</th>\n",
       "      <th>9714721180</th>\n",
       "      <th>B000JF21D0</th>\n",
       "      <th>B000S51XMQ</th>\n",
       "      <th>B000T006RI</th>\n",
       "      <th>B000T1EJ0W</th>\n",
       "      <th>B000TGGTIC</th>\n",
       "      <th>B000V616DS</th>\n",
       "      <th>B000V66URU</th>\n",
       "      <th>B000V66UV6</th>\n",
       "      <th>...</th>\n",
       "      <th>B015Y73TEW</th>\n",
       "      <th>B0161BPHKY</th>\n",
       "      <th>B0170K9UTO</th>\n",
       "      <th>B017TJY2QC</th>\n",
       "      <th>B01929H4VM</th>\n",
       "      <th>B01D41ASOE</th>\n",
       "      <th>B01DOO46BM</th>\n",
       "      <th>B01E7RWTYG</th>\n",
       "      <th>B01F49DZEO</th>\n",
       "      <th>B01H5ZYNM8</th>\n",
       "    </tr>\n",
       "    <tr>\n",
       "      <th>reviewerID</th>\n",
       "      <th></th>\n",
       "      <th></th>\n",
       "      <th></th>\n",
       "      <th></th>\n",
       "      <th></th>\n",
       "      <th></th>\n",
       "      <th></th>\n",
       "      <th></th>\n",
       "      <th></th>\n",
       "      <th></th>\n",
       "      <th></th>\n",
       "      <th></th>\n",
       "      <th></th>\n",
       "      <th></th>\n",
       "      <th></th>\n",
       "      <th></th>\n",
       "      <th></th>\n",
       "      <th></th>\n",
       "      <th></th>\n",
       "      <th></th>\n",
       "      <th></th>\n",
       "    </tr>\n",
       "  </thead>\n",
       "  <tbody>\n",
       "    <tr>\n",
       "      <th>A0072041HVZ3465DXUOR</th>\n",
       "      <td>0</td>\n",
       "      <td>0</td>\n",
       "      <td>0</td>\n",
       "      <td>0</td>\n",
       "      <td>0</td>\n",
       "      <td>0</td>\n",
       "      <td>0</td>\n",
       "      <td>0</td>\n",
       "      <td>0</td>\n",
       "      <td>0</td>\n",
       "      <td>...</td>\n",
       "      <td>0</td>\n",
       "      <td>0</td>\n",
       "      <td>0</td>\n",
       "      <td>0</td>\n",
       "      <td>0</td>\n",
       "      <td>0</td>\n",
       "      <td>0</td>\n",
       "      <td>0</td>\n",
       "      <td>0</td>\n",
       "      <td>0</td>\n",
       "    </tr>\n",
       "    <tr>\n",
       "      <th>A0081575F2F9XQSSIYA3</th>\n",
       "      <td>0</td>\n",
       "      <td>0</td>\n",
       "      <td>0</td>\n",
       "      <td>0</td>\n",
       "      <td>0</td>\n",
       "      <td>0</td>\n",
       "      <td>0</td>\n",
       "      <td>0</td>\n",
       "      <td>0</td>\n",
       "      <td>0</td>\n",
       "      <td>...</td>\n",
       "      <td>0</td>\n",
       "      <td>0</td>\n",
       "      <td>0</td>\n",
       "      <td>0</td>\n",
       "      <td>0</td>\n",
       "      <td>0</td>\n",
       "      <td>0</td>\n",
       "      <td>0</td>\n",
       "      <td>0</td>\n",
       "      <td>0</td>\n",
       "    </tr>\n",
       "    <tr>\n",
       "      <th>A1006TXWG76H0N</th>\n",
       "      <td>0</td>\n",
       "      <td>0</td>\n",
       "      <td>0</td>\n",
       "      <td>0</td>\n",
       "      <td>0</td>\n",
       "      <td>0</td>\n",
       "      <td>0</td>\n",
       "      <td>0</td>\n",
       "      <td>0</td>\n",
       "      <td>0</td>\n",
       "      <td>...</td>\n",
       "      <td>0</td>\n",
       "      <td>0</td>\n",
       "      <td>0</td>\n",
       "      <td>0</td>\n",
       "      <td>0</td>\n",
       "      <td>0</td>\n",
       "      <td>0</td>\n",
       "      <td>0</td>\n",
       "      <td>0</td>\n",
       "      <td>0</td>\n",
       "    </tr>\n",
       "    <tr>\n",
       "      <th>A101N4D8PRU6N5</th>\n",
       "      <td>0</td>\n",
       "      <td>0</td>\n",
       "      <td>0</td>\n",
       "      <td>0</td>\n",
       "      <td>0</td>\n",
       "      <td>0</td>\n",
       "      <td>0</td>\n",
       "      <td>0</td>\n",
       "      <td>0</td>\n",
       "      <td>0</td>\n",
       "      <td>...</td>\n",
       "      <td>0</td>\n",
       "      <td>0</td>\n",
       "      <td>0</td>\n",
       "      <td>0</td>\n",
       "      <td>0</td>\n",
       "      <td>0</td>\n",
       "      <td>0</td>\n",
       "      <td>0</td>\n",
       "      <td>0</td>\n",
       "      <td>0</td>\n",
       "    </tr>\n",
       "    <tr>\n",
       "      <th>A101PYPZ8ASKCV</th>\n",
       "      <td>0</td>\n",
       "      <td>0</td>\n",
       "      <td>0</td>\n",
       "      <td>0</td>\n",
       "      <td>0</td>\n",
       "      <td>0</td>\n",
       "      <td>0</td>\n",
       "      <td>0</td>\n",
       "      <td>0</td>\n",
       "      <td>0</td>\n",
       "      <td>...</td>\n",
       "      <td>0</td>\n",
       "      <td>0</td>\n",
       "      <td>0</td>\n",
       "      <td>0</td>\n",
       "      <td>0</td>\n",
       "      <td>0</td>\n",
       "      <td>0</td>\n",
       "      <td>0</td>\n",
       "      <td>0</td>\n",
       "      <td>0</td>\n",
       "    </tr>\n",
       "  </tbody>\n",
       "</table>\n",
       "<p>5 rows × 430 columns</p>\n",
       "</div>"
      ],
      "text/plain": [
       "asin                  7799420340  9714721180  B000JF21D0  B000S51XMQ  \\\n",
       "reviewerID                                                             \n",
       "A0072041HVZ3465DXUOR           0           0           0           0   \n",
       "A0081575F2F9XQSSIYA3           0           0           0           0   \n",
       "A1006TXWG76H0N                 0           0           0           0   \n",
       "A101N4D8PRU6N5                 0           0           0           0   \n",
       "A101PYPZ8ASKCV                 0           0           0           0   \n",
       "\n",
       "asin                  B000T006RI  B000T1EJ0W  B000TGGTIC  B000V616DS  \\\n",
       "reviewerID                                                             \n",
       "A0072041HVZ3465DXUOR           0           0           0           0   \n",
       "A0081575F2F9XQSSIYA3           0           0           0           0   \n",
       "A1006TXWG76H0N                 0           0           0           0   \n",
       "A101N4D8PRU6N5                 0           0           0           0   \n",
       "A101PYPZ8ASKCV                 0           0           0           0   \n",
       "\n",
       "asin                  B000V66URU  B000V66UV6  ...  B015Y73TEW  B0161BPHKY  \\\n",
       "reviewerID                                    ...                           \n",
       "A0072041HVZ3465DXUOR           0           0  ...           0           0   \n",
       "A0081575F2F9XQSSIYA3           0           0  ...           0           0   \n",
       "A1006TXWG76H0N                 0           0  ...           0           0   \n",
       "A101N4D8PRU6N5                 0           0  ...           0           0   \n",
       "A101PYPZ8ASKCV                 0           0  ...           0           0   \n",
       "\n",
       "asin                  B0170K9UTO  B017TJY2QC  B01929H4VM  B01D41ASOE  \\\n",
       "reviewerID                                                             \n",
       "A0072041HVZ3465DXUOR           0           0           0           0   \n",
       "A0081575F2F9XQSSIYA3           0           0           0           0   \n",
       "A1006TXWG76H0N                 0           0           0           0   \n",
       "A101N4D8PRU6N5                 0           0           0           0   \n",
       "A101PYPZ8ASKCV                 0           0           0           0   \n",
       "\n",
       "asin                  B01DOO46BM  B01E7RWTYG  B01F49DZEO  B01H5ZYNM8  \n",
       "reviewerID                                                            \n",
       "A0072041HVZ3465DXUOR           0           0           0           0  \n",
       "A0081575F2F9XQSSIYA3           0           0           0           0  \n",
       "A1006TXWG76H0N                 0           0           0           0  \n",
       "A101N4D8PRU6N5                 0           0           0           0  \n",
       "A101PYPZ8ASKCV                 0           0           0           0  \n",
       "\n",
       "[5 rows x 430 columns]"
      ]
     },
     "execution_count": 35,
     "metadata": {},
     "output_type": "execute_result"
    }
   ],
   "source": [
    "#Model-based collaborative filtering system\n",
    "\n",
    "ratings_matrix = new_df.pivot_table(values='overall', index='reviewerID', columns='asin', fill_value=0)\n",
    "ratings_matrix.head()"
   ]
  },
  {
   "cell_type": "code",
   "execution_count": 36,
   "id": "dcb9c4c9",
   "metadata": {},
   "outputs": [
    {
     "data": {
      "text/plain": [
       "(11521, 430)"
      ]
     },
     "execution_count": 36,
     "metadata": {},
     "output_type": "execute_result"
    }
   ],
   "source": [
    "ratings_matrix.shape"
   ]
  },
  {
   "cell_type": "code",
   "execution_count": 37,
   "id": "892a3674",
   "metadata": {},
   "outputs": [
    {
     "data": {
      "text/html": [
       "<div>\n",
       "<style scoped>\n",
       "    .dataframe tbody tr th:only-of-type {\n",
       "        vertical-align: middle;\n",
       "    }\n",
       "\n",
       "    .dataframe tbody tr th {\n",
       "        vertical-align: top;\n",
       "    }\n",
       "\n",
       "    .dataframe thead th {\n",
       "        text-align: right;\n",
       "    }\n",
       "</style>\n",
       "<table border=\"1\" class=\"dataframe\">\n",
       "  <thead>\n",
       "    <tr style=\"text-align: right;\">\n",
       "      <th>reviewerID</th>\n",
       "      <th>A0072041HVZ3465DXUOR</th>\n",
       "      <th>A0081575F2F9XQSSIYA3</th>\n",
       "      <th>A1006TXWG76H0N</th>\n",
       "      <th>A101N4D8PRU6N5</th>\n",
       "      <th>A101PYPZ8ASKCV</th>\n",
       "      <th>A101RMTZ93J1KH</th>\n",
       "      <th>A102H31T5V0LLN</th>\n",
       "      <th>A102H3QWRBVJ8E</th>\n",
       "      <th>A103DHU1X6VC9T</th>\n",
       "      <th>A103U341AE3HO4</th>\n",
       "      <th>...</th>\n",
       "      <th>AZVNV38G3FHUJ</th>\n",
       "      <th>AZWGNYTKSK9JS</th>\n",
       "      <th>AZWULMAOSR7IR</th>\n",
       "      <th>AZX4W3CS3CB23</th>\n",
       "      <th>AZX7GXLU4FLAI</th>\n",
       "      <th>AZXWUZ9PPSOTL</th>\n",
       "      <th>AZY0M1ANDSEPL</th>\n",
       "      <th>AZYOVGJLQ03ML</th>\n",
       "      <th>AZYPOLLSDVG4K</th>\n",
       "      <th>AZZHILYMITLGM</th>\n",
       "    </tr>\n",
       "    <tr>\n",
       "      <th>asin</th>\n",
       "      <th></th>\n",
       "      <th></th>\n",
       "      <th></th>\n",
       "      <th></th>\n",
       "      <th></th>\n",
       "      <th></th>\n",
       "      <th></th>\n",
       "      <th></th>\n",
       "      <th></th>\n",
       "      <th></th>\n",
       "      <th></th>\n",
       "      <th></th>\n",
       "      <th></th>\n",
       "      <th></th>\n",
       "      <th></th>\n",
       "      <th></th>\n",
       "      <th></th>\n",
       "      <th></th>\n",
       "      <th></th>\n",
       "      <th></th>\n",
       "      <th></th>\n",
       "    </tr>\n",
       "  </thead>\n",
       "  <tbody>\n",
       "    <tr>\n",
       "      <th>7799420340</th>\n",
       "      <td>0.0</td>\n",
       "      <td>0.0</td>\n",
       "      <td>0.0</td>\n",
       "      <td>0.0</td>\n",
       "      <td>0.0</td>\n",
       "      <td>0.0</td>\n",
       "      <td>0.0</td>\n",
       "      <td>0.0</td>\n",
       "      <td>0.0</td>\n",
       "      <td>0.0</td>\n",
       "      <td>...</td>\n",
       "      <td>0.0</td>\n",
       "      <td>0.0</td>\n",
       "      <td>0.0</td>\n",
       "      <td>0.0</td>\n",
       "      <td>0.0</td>\n",
       "      <td>0.0</td>\n",
       "      <td>0.0</td>\n",
       "      <td>0.0</td>\n",
       "      <td>0.0</td>\n",
       "      <td>0.0</td>\n",
       "    </tr>\n",
       "    <tr>\n",
       "      <th>9714721180</th>\n",
       "      <td>0.0</td>\n",
       "      <td>0.0</td>\n",
       "      <td>0.0</td>\n",
       "      <td>0.0</td>\n",
       "      <td>0.0</td>\n",
       "      <td>0.0</td>\n",
       "      <td>0.0</td>\n",
       "      <td>0.0</td>\n",
       "      <td>0.0</td>\n",
       "      <td>0.0</td>\n",
       "      <td>...</td>\n",
       "      <td>0.0</td>\n",
       "      <td>0.0</td>\n",
       "      <td>0.0</td>\n",
       "      <td>0.0</td>\n",
       "      <td>0.0</td>\n",
       "      <td>0.0</td>\n",
       "      <td>0.0</td>\n",
       "      <td>0.0</td>\n",
       "      <td>0.0</td>\n",
       "      <td>0.0</td>\n",
       "    </tr>\n",
       "    <tr>\n",
       "      <th>B000JF21D0</th>\n",
       "      <td>0.0</td>\n",
       "      <td>0.0</td>\n",
       "      <td>0.0</td>\n",
       "      <td>0.0</td>\n",
       "      <td>0.0</td>\n",
       "      <td>0.0</td>\n",
       "      <td>0.0</td>\n",
       "      <td>0.0</td>\n",
       "      <td>0.0</td>\n",
       "      <td>0.0</td>\n",
       "      <td>...</td>\n",
       "      <td>0.0</td>\n",
       "      <td>0.0</td>\n",
       "      <td>0.0</td>\n",
       "      <td>0.0</td>\n",
       "      <td>0.0</td>\n",
       "      <td>0.0</td>\n",
       "      <td>0.0</td>\n",
       "      <td>0.0</td>\n",
       "      <td>0.0</td>\n",
       "      <td>0.0</td>\n",
       "    </tr>\n",
       "    <tr>\n",
       "      <th>B000S51XMQ</th>\n",
       "      <td>0.0</td>\n",
       "      <td>0.0</td>\n",
       "      <td>0.0</td>\n",
       "      <td>0.0</td>\n",
       "      <td>0.0</td>\n",
       "      <td>0.0</td>\n",
       "      <td>0.0</td>\n",
       "      <td>0.0</td>\n",
       "      <td>0.0</td>\n",
       "      <td>0.0</td>\n",
       "      <td>...</td>\n",
       "      <td>0.0</td>\n",
       "      <td>0.0</td>\n",
       "      <td>0.0</td>\n",
       "      <td>0.0</td>\n",
       "      <td>0.0</td>\n",
       "      <td>0.0</td>\n",
       "      <td>0.0</td>\n",
       "      <td>0.0</td>\n",
       "      <td>0.0</td>\n",
       "      <td>0.0</td>\n",
       "    </tr>\n",
       "    <tr>\n",
       "      <th>B000T006RI</th>\n",
       "      <td>0.0</td>\n",
       "      <td>0.0</td>\n",
       "      <td>0.0</td>\n",
       "      <td>0.0</td>\n",
       "      <td>0.0</td>\n",
       "      <td>0.0</td>\n",
       "      <td>0.0</td>\n",
       "      <td>0.0</td>\n",
       "      <td>0.0</td>\n",
       "      <td>0.0</td>\n",
       "      <td>...</td>\n",
       "      <td>0.0</td>\n",
       "      <td>0.0</td>\n",
       "      <td>0.0</td>\n",
       "      <td>0.0</td>\n",
       "      <td>0.0</td>\n",
       "      <td>0.0</td>\n",
       "      <td>0.0</td>\n",
       "      <td>0.0</td>\n",
       "      <td>0.0</td>\n",
       "      <td>0.0</td>\n",
       "    </tr>\n",
       "  </tbody>\n",
       "</table>\n",
       "<p>5 rows × 11521 columns</p>\n",
       "</div>"
      ],
      "text/plain": [
       "reviewerID  A0072041HVZ3465DXUOR  A0081575F2F9XQSSIYA3  A1006TXWG76H0N  \\\n",
       "asin                                                                     \n",
       "7799420340                   0.0                   0.0             0.0   \n",
       "9714721180                   0.0                   0.0             0.0   \n",
       "B000JF21D0                   0.0                   0.0             0.0   \n",
       "B000S51XMQ                   0.0                   0.0             0.0   \n",
       "B000T006RI                   0.0                   0.0             0.0   \n",
       "\n",
       "reviewerID  A101N4D8PRU6N5  A101PYPZ8ASKCV  A101RMTZ93J1KH  A102H31T5V0LLN  \\\n",
       "asin                                                                         \n",
       "7799420340             0.0             0.0             0.0             0.0   \n",
       "9714721180             0.0             0.0             0.0             0.0   \n",
       "B000JF21D0             0.0             0.0             0.0             0.0   \n",
       "B000S51XMQ             0.0             0.0             0.0             0.0   \n",
       "B000T006RI             0.0             0.0             0.0             0.0   \n",
       "\n",
       "reviewerID  A102H3QWRBVJ8E  A103DHU1X6VC9T  A103U341AE3HO4  ...  \\\n",
       "asin                                                        ...   \n",
       "7799420340             0.0             0.0             0.0  ...   \n",
       "9714721180             0.0             0.0             0.0  ...   \n",
       "B000JF21D0             0.0             0.0             0.0  ...   \n",
       "B000S51XMQ             0.0             0.0             0.0  ...   \n",
       "B000T006RI             0.0             0.0             0.0  ...   \n",
       "\n",
       "reviewerID  AZVNV38G3FHUJ  AZWGNYTKSK9JS  AZWULMAOSR7IR  AZX4W3CS3CB23  \\\n",
       "asin                                                                     \n",
       "7799420340            0.0            0.0            0.0            0.0   \n",
       "9714721180            0.0            0.0            0.0            0.0   \n",
       "B000JF21D0            0.0            0.0            0.0            0.0   \n",
       "B000S51XMQ            0.0            0.0            0.0            0.0   \n",
       "B000T006RI            0.0            0.0            0.0            0.0   \n",
       "\n",
       "reviewerID  AZX7GXLU4FLAI  AZXWUZ9PPSOTL  AZY0M1ANDSEPL  AZYOVGJLQ03ML  \\\n",
       "asin                                                                     \n",
       "7799420340            0.0            0.0            0.0            0.0   \n",
       "9714721180            0.0            0.0            0.0            0.0   \n",
       "B000JF21D0            0.0            0.0            0.0            0.0   \n",
       "B000S51XMQ            0.0            0.0            0.0            0.0   \n",
       "B000T006RI            0.0            0.0            0.0            0.0   \n",
       "\n",
       "reviewerID  AZYPOLLSDVG4K  AZZHILYMITLGM  \n",
       "asin                                      \n",
       "7799420340            0.0            0.0  \n",
       "9714721180            0.0            0.0  \n",
       "B000JF21D0            0.0            0.0  \n",
       "B000S51XMQ            0.0            0.0  \n",
       "B000T006RI            0.0            0.0  \n",
       "\n",
       "[5 rows x 11521 columns]"
      ]
     },
     "execution_count": 37,
     "metadata": {},
     "output_type": "execute_result"
    }
   ],
   "source": [
    "X = ratings_matrix.T\n",
    "X.head()"
   ]
  },
  {
   "cell_type": "code",
   "execution_count": 38,
   "id": "afa6dcf4",
   "metadata": {},
   "outputs": [],
   "source": [
    "X1 = X"
   ]
  },
  {
   "cell_type": "code",
   "execution_count": 39,
   "id": "f5fd3d01",
   "metadata": {},
   "outputs": [
    {
     "data": {
      "text/plain": [
       "(430, 10)"
      ]
     },
     "execution_count": 39,
     "metadata": {},
     "output_type": "execute_result"
    }
   ],
   "source": [
    "#Decomposing the Matrix\n",
    "from sklearn.decomposition import TruncatedSVD\n",
    "SVD = TruncatedSVD(n_components=10)\n",
    "decomposed_matrix = SVD.fit_transform(X)\n",
    "decomposed_matrix.shape"
   ]
  },
  {
   "cell_type": "code",
   "execution_count": 40,
   "id": "362c33e1",
   "metadata": {},
   "outputs": [
    {
     "data": {
      "text/plain": [
       "(430, 430)"
      ]
     },
     "execution_count": 40,
     "metadata": {},
     "output_type": "execute_result"
    }
   ],
   "source": [
    "#Correlation Matrix\n",
    "\n",
    "correlation_matrix = np.corrcoef(decomposed_matrix)\n",
    "correlation_matrix.shape"
   ]
  },
  {
   "cell_type": "code",
   "execution_count": 41,
   "id": "f38c1e65",
   "metadata": {},
   "outputs": [
    {
     "data": {
      "text/plain": [
       "'B01H5ZYNM8'"
      ]
     },
     "execution_count": 41,
     "metadata": {},
     "output_type": "execute_result"
    }
   ],
   "source": [
    "X.index[429]"
   ]
  },
  {
   "cell_type": "code",
   "execution_count": 42,
   "id": "ebec9299",
   "metadata": {},
   "outputs": [
    {
     "data": {
      "text/plain": [
       "429"
      ]
     },
     "execution_count": 42,
     "metadata": {},
     "output_type": "execute_result"
    }
   ],
   "source": [
    "i = \"B01H5ZYNM8\"\n",
    "\n",
    "product_names = list(X.index)\n",
    "product_ID = product_names.index(i)\n",
    "product_ID"
   ]
  },
  {
   "cell_type": "code",
   "execution_count": 43,
   "id": "0e547e7c",
   "metadata": {},
   "outputs": [
    {
     "data": {
      "text/plain": [
       "(430,)"
      ]
     },
     "execution_count": 43,
     "metadata": {},
     "output_type": "execute_result"
    }
   ],
   "source": [
    "correlation_product_ID = correlation_matrix[product_ID]\n",
    "correlation_product_ID.shape"
   ]
  },
  {
   "cell_type": "code",
   "execution_count": 44,
   "id": "d649a900",
   "metadata": {},
   "outputs": [
    {
     "data": {
      "text/plain": [
       "['7799420340',\n",
       " 'B000T1EJ0W',\n",
       " 'B000V66URU',\n",
       " 'B000V66UV6',\n",
       " 'B000V68LJ0',\n",
       " 'B000VWKVSI',\n",
       " 'B000VZJS20',\n",
       " 'B000VZV9KY',\n",
       " 'B000VZXDO4',\n",
       " 'B000W0112Y',\n",
       " 'B000W02O2K',\n",
       " 'B000W0633G',\n",
       " 'B000W18HWU',\n",
       " 'B000W1MCQW',\n",
       " 'B000W23IE6',\n",
       " 'B000WGMYI8',\n",
       " 'B000WLOKKS',\n",
       " 'B000WLOMUQ',\n",
       " 'B000WOWR00',\n",
       " 'B000WZWW7M',\n",
       " 'B000X6TUGQ',\n",
       " 'B000YKEMZ0',\n",
       " 'B000Z1GR9C',\n",
       " 'B000ZMUV2K']"
      ]
     },
     "execution_count": 44,
     "metadata": {},
     "output_type": "execute_result"
    }
   ],
   "source": [
    "Recommend = list(X.index[correlation_product_ID > 0.65])\n",
    "\n",
    "# Removes the item already bought by the customer\n",
    "Recommend.remove(i) \n",
    "\n",
    "Recommend[0:24]"
   ]
  },
  {
   "cell_type": "code",
   "execution_count": null,
   "id": "cd19f0b3",
   "metadata": {},
   "outputs": [],
   "source": []
  }
 ],
 "metadata": {
  "kernelspec": {
   "display_name": "Python 3 (ipykernel)",
   "language": "python",
   "name": "python3"
  },
  "language_info": {
   "codemirror_mode": {
    "name": "ipython",
    "version": 3
   },
   "file_extension": ".py",
   "mimetype": "text/x-python",
   "name": "python",
   "nbconvert_exporter": "python",
   "pygments_lexer": "ipython3",
   "version": "3.9.12"
  }
 },
 "nbformat": 4,
 "nbformat_minor": 5
}
