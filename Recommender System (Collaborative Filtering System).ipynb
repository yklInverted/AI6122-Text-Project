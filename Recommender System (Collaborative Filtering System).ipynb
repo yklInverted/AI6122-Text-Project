{
 "cells": [
  {
   "cell_type": "code",
   "execution_count": 1,
   "id": "b2b6c3da",
   "metadata": {},
   "outputs": [],
   "source": [
    "import numpy as np # linear algebra\n",
    "import pandas as pd # data processing, CSV file I/O (e.g. pd.read_csv)\n",
    "import os\n",
    "from IPython.core.interactiveshell import InteractiveShell\n",
    "InteractiveShell.ast_node_interactivity = \"all\"\n",
    "import math\n",
    "import json\n",
    "import time\n",
    "import matplotlib.pyplot as plt\n",
    "import seaborn as sns\n",
    "from sklearn.metrics.pairwise import cosine_similarity\n",
    "from sklearn.model_selection import train_test_split\n",
    "from sklearn.neighbors import NearestNeighbors\n",
    "import joblib\n",
    "import scipy.sparse\n",
    "from scipy.sparse import csr_matrix\n",
    "from scipy.sparse.linalg import svds\n",
    "import warnings; warnings.simplefilter('ignore')\n",
    "import nltk\n",
    "import sys\n",
    "%matplotlib inline"
   ]
  },
  {
   "cell_type": "code",
   "execution_count": 2,
   "id": "e2c17f5a",
   "metadata": {
    "scrolled": true
   },
   "outputs": [
    {
     "name": "stdout",
     "output_type": "stream",
     "text": [
      "       reviewerID        asin          reviewerName helpful  \\\n",
      "0  A3EBHHCZO6V2A4  5555991584  Amaranth \"music fan\"  [3, 3]   \n",
      "1   AZPWAXJG9OJXV  5555991584             bethtexas  [0, 0]   \n",
      "2  A38IRL0X2T4DPF  5555991584           bob turnley  [2, 2]   \n",
      "3  A22IK3I6U76GX0  5555991584                 Calle  [1, 1]   \n",
      "4  A1AISPOIIHTHXX  5555991584           Cloud \"...\"  [1, 1]   \n",
      "\n",
      "                                          reviewText  overall  \\\n",
      "0  It's hard to believe \"Memory of Trees\" came ou...        5   \n",
      "1  A clasically-styled and introverted album, Mem...        5   \n",
      "2  I never thought Enya would reach the sublime h...        5   \n",
      "3  This is the third review of an irish album I w...        5   \n",
      "4  Enya, despite being a successful recording art...        4   \n",
      "\n",
      "                        summary  unixReviewTime   reviewTime  \n",
      "0       Enya's last great album      1158019200  09 12, 2006  \n",
      "1      Enya at her most elegant       991526400   06 3, 2001  \n",
      "2               The best so far      1058140800  07 14, 2003  \n",
      "3  Ireland produces good music.       957312000   05 3, 2000  \n",
      "4        4.5; music to dream to      1200528000  01 17, 2008  \n"
     ]
    }
   ],
   "source": [
    "data_path = \"./data/Digital_Music_5.json\"\n",
    "table = pd.read_json(data_path, 'records', lines = True).reset_index(drop = True, inplace = False)\n",
    "print(table.head())"
   ]
  },
  {
   "cell_type": "code",
   "execution_count": 3,
   "id": "cb0c1f72",
   "metadata": {},
   "outputs": [],
   "source": [
    "from collections import defaultdict\n",
    "from textblob import TextBlob\n",
    "def get_sentiment(table):\n",
    "    polarity = []\n",
    "    subjectivity = []\n",
    "    for idx, row in table.iterrows():\n",
    "        review = TextBlob(row['reviewText'])\n",
    "        sentiment = review.sentiment\n",
    "        polarity.append(sentiment.polarity)\n",
    "        subjectivity.append(sentiment.subjectivity)\n",
    "    new_table = table\n",
    "    new_table.insert(len(table.columns), column='polarity', value=polarity)\n",
    "    new_table.insert(len(table.columns), column='subjectivity', value=subjectivity)\n",
    "    return new_table"
   ]
  },
  {
   "cell_type": "code",
   "execution_count": 4,
   "id": "ef848e63",
   "metadata": {},
   "outputs": [
    {
     "data": {
      "text/html": [
       "<div>\n",
       "<style scoped>\n",
       "    .dataframe tbody tr th:only-of-type {\n",
       "        vertical-align: middle;\n",
       "    }\n",
       "\n",
       "    .dataframe tbody tr th {\n",
       "        vertical-align: top;\n",
       "    }\n",
       "\n",
       "    .dataframe thead th {\n",
       "        text-align: right;\n",
       "    }\n",
       "</style>\n",
       "<table border=\"1\" class=\"dataframe\">\n",
       "  <thead>\n",
       "    <tr style=\"text-align: right;\">\n",
       "      <th></th>\n",
       "      <th>reviewerID</th>\n",
       "      <th>asin</th>\n",
       "      <th>reviewerName</th>\n",
       "      <th>helpful</th>\n",
       "      <th>reviewText</th>\n",
       "      <th>overall</th>\n",
       "      <th>summary</th>\n",
       "      <th>unixReviewTime</th>\n",
       "      <th>reviewTime</th>\n",
       "      <th>polarity</th>\n",
       "      <th>subjectivity</th>\n",
       "    </tr>\n",
       "  </thead>\n",
       "  <tbody>\n",
       "    <tr>\n",
       "      <th>0</th>\n",
       "      <td>A3EBHHCZO6V2A4</td>\n",
       "      <td>5555991584</td>\n",
       "      <td>Amaranth \"music fan\"</td>\n",
       "      <td>[3, 3]</td>\n",
       "      <td>It's hard to believe \"Memory of Trees\" came ou...</td>\n",
       "      <td>5</td>\n",
       "      <td>Enya's last great album</td>\n",
       "      <td>1158019200</td>\n",
       "      <td>09 12, 2006</td>\n",
       "      <td>0.186515</td>\n",
       "      <td>0.501742</td>\n",
       "    </tr>\n",
       "    <tr>\n",
       "      <th>1</th>\n",
       "      <td>AZPWAXJG9OJXV</td>\n",
       "      <td>5555991584</td>\n",
       "      <td>bethtexas</td>\n",
       "      <td>[0, 0]</td>\n",
       "      <td>A clasically-styled and introverted album, Mem...</td>\n",
       "      <td>5</td>\n",
       "      <td>Enya at her most elegant</td>\n",
       "      <td>991526400</td>\n",
       "      <td>06 3, 2001</td>\n",
       "      <td>0.251479</td>\n",
       "      <td>0.507298</td>\n",
       "    </tr>\n",
       "    <tr>\n",
       "      <th>2</th>\n",
       "      <td>A38IRL0X2T4DPF</td>\n",
       "      <td>5555991584</td>\n",
       "      <td>bob turnley</td>\n",
       "      <td>[2, 2]</td>\n",
       "      <td>I never thought Enya would reach the sublime h...</td>\n",
       "      <td>5</td>\n",
       "      <td>The best so far</td>\n",
       "      <td>1058140800</td>\n",
       "      <td>07 14, 2003</td>\n",
       "      <td>0.343074</td>\n",
       "      <td>0.668615</td>\n",
       "    </tr>\n",
       "    <tr>\n",
       "      <th>3</th>\n",
       "      <td>A22IK3I6U76GX0</td>\n",
       "      <td>5555991584</td>\n",
       "      <td>Calle</td>\n",
       "      <td>[1, 1]</td>\n",
       "      <td>This is the third review of an irish album I w...</td>\n",
       "      <td>5</td>\n",
       "      <td>Ireland produces good music.</td>\n",
       "      <td>957312000</td>\n",
       "      <td>05 3, 2000</td>\n",
       "      <td>0.463788</td>\n",
       "      <td>0.459293</td>\n",
       "    </tr>\n",
       "    <tr>\n",
       "      <th>4</th>\n",
       "      <td>A1AISPOIIHTHXX</td>\n",
       "      <td>5555991584</td>\n",
       "      <td>Cloud \"...\"</td>\n",
       "      <td>[1, 1]</td>\n",
       "      <td>Enya, despite being a successful recording art...</td>\n",
       "      <td>4</td>\n",
       "      <td>4.5; music to dream to</td>\n",
       "      <td>1200528000</td>\n",
       "      <td>01 17, 2008</td>\n",
       "      <td>0.342808</td>\n",
       "      <td>0.580449</td>\n",
       "    </tr>\n",
       "  </tbody>\n",
       "</table>\n",
       "</div>"
      ],
      "text/plain": [
       "       reviewerID        asin          reviewerName helpful  \\\n",
       "0  A3EBHHCZO6V2A4  5555991584  Amaranth \"music fan\"  [3, 3]   \n",
       "1   AZPWAXJG9OJXV  5555991584             bethtexas  [0, 0]   \n",
       "2  A38IRL0X2T4DPF  5555991584           bob turnley  [2, 2]   \n",
       "3  A22IK3I6U76GX0  5555991584                 Calle  [1, 1]   \n",
       "4  A1AISPOIIHTHXX  5555991584           Cloud \"...\"  [1, 1]   \n",
       "\n",
       "                                          reviewText  overall  \\\n",
       "0  It's hard to believe \"Memory of Trees\" came ou...        5   \n",
       "1  A clasically-styled and introverted album, Mem...        5   \n",
       "2  I never thought Enya would reach the sublime h...        5   \n",
       "3  This is the third review of an irish album I w...        5   \n",
       "4  Enya, despite being a successful recording art...        4   \n",
       "\n",
       "                        summary  unixReviewTime   reviewTime  polarity  \\\n",
       "0       Enya's last great album      1158019200  09 12, 2006  0.186515   \n",
       "1      Enya at her most elegant       991526400   06 3, 2001  0.251479   \n",
       "2               The best so far      1058140800  07 14, 2003  0.343074   \n",
       "3  Ireland produces good music.       957312000   05 3, 2000  0.463788   \n",
       "4        4.5; music to dream to      1200528000  01 17, 2008  0.342808   \n",
       "\n",
       "   subjectivity  \n",
       "0      0.501742  \n",
       "1      0.507298  \n",
       "2      0.668615  \n",
       "3      0.459293  \n",
       "4      0.580449  "
      ]
     },
     "metadata": {},
     "output_type": "display_data"
    }
   ],
   "source": [
    "table = get_sentiment(table)\n",
    "display(table.head())"
   ]
  },
  {
   "cell_type": "code",
   "execution_count": 5,
   "id": "2ce4bc31",
   "metadata": {},
   "outputs": [
    {
     "data": {
      "image/png": "[encoded data removed]",
      "text/plain": [
       "<Figure size 720x360 with 1 Axes>"
      ]
     },
     "metadata": {
      "needs_background": "light"
     },
     "output_type": "display_data"
    }
   ],
   "source": [
    "import matplotlib.pyplot as plt\n",
    "import seaborn as sns\n",
    "num_bins = 50\n",
    "plt.figure(figsize=(10,5))\n",
    "n, bins, patches = plt.hist(table.polarity, num_bins, facecolor='blue', alpha=0.5)\n",
    "plt.xlabel('Polarity')\n",
    "plt.ylabel('Number of Reviews')\n",
    "plt.title('Histogram of Polarity Score')\n",
    "plt.show();"
   ]
  },
  {
   "cell_type": "code",
   "execution_count": 6,
   "id": "d9f4f106",
   "metadata": {},
   "outputs": [
    {
     "data": {
      "image/png": "[encoded data removed]",
      "text/plain": [
       "<Figure size 720x360 with 1 Axes>"
      ]
     },
     "metadata": {
      "needs_background": "light"
     },
     "output_type": "display_data"
    }
   ],
   "source": [
    "import matplotlib.pyplot as plt\n",
    "import seaborn as sns\n",
    "num_bins = 50\n",
    "plt.figure(figsize=(10,5))\n",
    "n, bins, patches = plt.hist(table.subjectivity, num_bins, facecolor='blue', alpha=0.5)\n",
    "plt.xlabel('Subjectivity')\n",
    "plt.ylabel('Number of Reviews')\n",
    "plt.title('Histogram of Subjectivity Score')\n",
    "plt.show();"
   ]
  },
  {
   "cell_type": "code",
   "execution_count": 7,
   "id": "22e3eee9",
   "metadata": {},
   "outputs": [
    {
     "data": {
      "text/html": [
       "<div>\n",
       "<style scoped>\n",
       "    .dataframe tbody tr th:only-of-type {\n",
       "        vertical-align: middle;\n",
       "    }\n",
       "\n",
       "    .dataframe tbody tr th {\n",
       "        vertical-align: top;\n",
       "    }\n",
       "\n",
       "    .dataframe thead th {\n",
       "        text-align: right;\n",
       "    }\n",
       "</style>\n",
       "<table border=\"1\" class=\"dataframe\">\n",
       "  <thead>\n",
       "    <tr style=\"text-align: right;\">\n",
       "      <th></th>\n",
       "      <th>reviewerID</th>\n",
       "      <th>asin</th>\n",
       "      <th>reviewerName</th>\n",
       "      <th>helpful</th>\n",
       "      <th>reviewText</th>\n",
       "      <th>overall</th>\n",
       "      <th>summary</th>\n",
       "      <th>unixReviewTime</th>\n",
       "      <th>reviewTime</th>\n",
       "      <th>polarity</th>\n",
       "      <th>subjectivity</th>\n",
       "      <th>unbias_overall</th>\n",
       "    </tr>\n",
       "  </thead>\n",
       "  <tbody>\n",
       "    <tr>\n",
       "      <th>0</th>\n",
       "      <td>A3EBHHCZO6V2A4</td>\n",
       "      <td>5555991584</td>\n",
       "      <td>Amaranth \"music fan\"</td>\n",
       "      <td>[3, 3]</td>\n",
       "      <td>It's hard to believe \"Memory of Trees\" came ou...</td>\n",
       "      <td>5</td>\n",
       "      <td>Enya's last great album</td>\n",
       "      <td>1158019200</td>\n",
       "      <td>09 12, 2006</td>\n",
       "      <td>0.186515</td>\n",
       "      <td>0.501742</td>\n",
       "      <td>3.837879</td>\n",
       "    </tr>\n",
       "    <tr>\n",
       "      <th>1</th>\n",
       "      <td>AZPWAXJG9OJXV</td>\n",
       "      <td>5555991584</td>\n",
       "      <td>bethtexas</td>\n",
       "      <td>[0, 0]</td>\n",
       "      <td>A clasically-styled and introverted album, Mem...</td>\n",
       "      <td>5</td>\n",
       "      <td>Enya at her most elegant</td>\n",
       "      <td>991526400</td>\n",
       "      <td>06 3, 2001</td>\n",
       "      <td>0.251479</td>\n",
       "      <td>0.507298</td>\n",
       "      <td>3.930685</td>\n",
       "    </tr>\n",
       "    <tr>\n",
       "      <th>2</th>\n",
       "      <td>A38IRL0X2T4DPF</td>\n",
       "      <td>5555991584</td>\n",
       "      <td>bob turnley</td>\n",
       "      <td>[2, 2]</td>\n",
       "      <td>I never thought Enya would reach the sublime h...</td>\n",
       "      <td>5</td>\n",
       "      <td>The best so far</td>\n",
       "      <td>1058140800</td>\n",
       "      <td>07 14, 2003</td>\n",
       "      <td>0.343074</td>\n",
       "      <td>0.668615</td>\n",
       "      <td>4.061534</td>\n",
       "    </tr>\n",
       "    <tr>\n",
       "      <th>3</th>\n",
       "      <td>A22IK3I6U76GX0</td>\n",
       "      <td>5555991584</td>\n",
       "      <td>Calle</td>\n",
       "      <td>[1, 1]</td>\n",
       "      <td>This is the third review of an irish album I w...</td>\n",
       "      <td>5</td>\n",
       "      <td>Ireland produces good music.</td>\n",
       "      <td>957312000</td>\n",
       "      <td>05 3, 2000</td>\n",
       "      <td>0.463788</td>\n",
       "      <td>0.459293</td>\n",
       "      <td>4.233983</td>\n",
       "    </tr>\n",
       "    <tr>\n",
       "      <th>4</th>\n",
       "      <td>A1AISPOIIHTHXX</td>\n",
       "      <td>5555991584</td>\n",
       "      <td>Cloud \"...\"</td>\n",
       "      <td>[1, 1]</td>\n",
       "      <td>Enya, despite being a successful recording art...</td>\n",
       "      <td>4</td>\n",
       "      <td>4.5; music to dream to</td>\n",
       "      <td>1200528000</td>\n",
       "      <td>01 17, 2008</td>\n",
       "      <td>0.342808</td>\n",
       "      <td>0.580449</td>\n",
       "      <td>3.775439</td>\n",
       "    </tr>\n",
       "  </tbody>\n",
       "</table>\n",
       "</div>"
      ],
      "text/plain": [
       "       reviewerID        asin          reviewerName helpful  \\\n",
       "0  A3EBHHCZO6V2A4  5555991584  Amaranth \"music fan\"  [3, 3]   \n",
       "1   AZPWAXJG9OJXV  5555991584             bethtexas  [0, 0]   \n",
       "2  A38IRL0X2T4DPF  5555991584           bob turnley  [2, 2]   \n",
       "3  A22IK3I6U76GX0  5555991584                 Calle  [1, 1]   \n",
       "4  A1AISPOIIHTHXX  5555991584           Cloud \"...\"  [1, 1]   \n",
       "\n",
       "                                          reviewText  overall  \\\n",
       "0  It's hard to believe \"Memory of Trees\" came ou...        5   \n",
       "1  A clasically-styled and introverted album, Mem...        5   \n",
       "2  I never thought Enya would reach the sublime h...        5   \n",
       "3  This is the third review of an irish album I w...        5   \n",
       "4  Enya, despite being a successful recording art...        4   \n",
       "\n",
       "                        summary  unixReviewTime   reviewTime  polarity  \\\n",
       "0       Enya's last great album      1158019200  09 12, 2006  0.186515   \n",
       "1      Enya at her most elegant       991526400   06 3, 2001  0.251479   \n",
       "2               The best so far      1058140800  07 14, 2003  0.343074   \n",
       "3  Ireland produces good music.       957312000   05 3, 2000  0.463788   \n",
       "4        4.5; music to dream to      1200528000  01 17, 2008  0.342808   \n",
       "\n",
       "   subjectivity  unbias_overall  \n",
       "0      0.501742        3.837879  \n",
       "1      0.507298        3.930685  \n",
       "2      0.668615        4.061534  \n",
       "3      0.459293        4.233983  \n",
       "4      0.580449        3.775439  "
      ]
     },
     "metadata": {},
     "output_type": "display_data"
    }
   ],
   "source": [
    "#deal with the bias and noise of the overall column\n",
    "def unbias(overall, polarity):\n",
    "    return ((overall+5*polarity)+4)*4/14+1\n",
    "table['unbias_overall'] = table.apply(lambda row: unbias(row['overall'], row['polarity']), axis=1)\n",
    "display(table.head())"
   ]
  },
  {
   "cell_type": "code",
   "execution_count": 8,
   "id": "16cfcc87",
   "metadata": {},
   "outputs": [
    {
     "data": {
      "text/plain": [
       "(64706, 12)"
      ]
     },
     "execution_count": 8,
     "metadata": {},
     "output_type": "execute_result"
    }
   ],
   "source": [
    "table.shape"
   ]
  },
  {
   "cell_type": "code",
   "execution_count": 9,
   "id": "558b7438",
   "metadata": {},
   "outputs": [
    {
     "data": {
      "text/plain": [
       "count    64706.000000\n",
       "mean         3.681496\n",
       "std          0.458952\n",
       "min          1.000000\n",
       "25%          3.485545\n",
       "50%          3.769932\n",
       "75%          3.964286\n",
       "max          5.000000\n",
       "Name: unbias_overall, dtype: float64"
      ]
     },
     "execution_count": 9,
     "metadata": {},
     "output_type": "execute_result"
    }
   ],
   "source": [
    "table.describe()['unbias_overall'].T"
   ]
  },
  {
   "cell_type": "code",
   "execution_count": 10,
   "id": "ce04addb",
   "metadata": {},
   "outputs": [
    {
     "name": "stdout",
     "output_type": "stream",
     "text": [
      "Number of missing values across columns: \n",
      " reviewerID          0\n",
      "asin                0\n",
      "reviewerName      177\n",
      "helpful             0\n",
      "reviewText          0\n",
      "overall             0\n",
      "summary             0\n",
      "unixReviewTime      0\n",
      "reviewTime          0\n",
      "polarity            0\n",
      "subjectivity        0\n",
      "unbias_overall      0\n",
      "dtype: int64\n"
     ]
    }
   ],
   "source": [
    "print('Number of missing values across columns: \\n',table.isnull().sum())"
   ]
  },
  {
   "cell_type": "code",
   "execution_count": 11,
   "id": "d1b1e3c7",
   "metadata": {},
   "outputs": [
    {
     "data": {
      "text/plain": [
       "<seaborn.axisgrid.FacetGrid at 0x1d234414bb0>"
      ]
     },
     "execution_count": 11,
     "metadata": {},
     "output_type": "execute_result"
    },
    {
     "data": {
      "image/png": "[encoded data removed]",
      "text/plain": [
       "<Figure size 720x360 with 1 Axes>"
      ]
     },
     "metadata": {},
     "output_type": "display_data"
    }
   ],
   "source": [
    "# Check the distribution of the rating\n",
    "with sns.axes_style('white'):\n",
    "    g = sns.factorplot(\"unbias_overall\", data=table, aspect=2.0,kind='count')\n",
    "    g.set_ylabels(\"Total number of ratings\")"
   ]
  },
  {
   "cell_type": "code",
   "execution_count": 12,
   "id": "0920fab3",
   "metadata": {},
   "outputs": [
    {
     "name": "stdout",
     "output_type": "stream",
     "text": [
      "Total data \n",
      "--------------------------------------------------\n",
      "\n",
      "Total no of ratings : 64706\n",
      "Total No of Users   : 5541\n",
      "Total No of products  : 3568\n"
     ]
    }
   ],
   "source": [
    "print(\"Total data \")\n",
    "print(\"-\"*50)\n",
    "print(\"\\nTotal no of ratings :\",table.shape[0])\n",
    "print(\"Total No of Users   :\", len(np.unique(table.reviewerID)))\n",
    "print(\"Total No of products  :\", len(np.unique(table.asin)))"
   ]
  },
  {
   "cell_type": "code",
   "execution_count": 13,
   "id": "e661466b",
   "metadata": {},
   "outputs": [],
   "source": [
    "table.drop(['reviewerName'], axis=1,inplace=True)\n",
    "table.drop(['helpful'], axis=1,inplace=True)\n",
    "table.drop(['reviewText'], axis=1,inplace=True)\n",
    "table.drop(['summary'], axis=1,inplace=True)\n",
    "table.drop(['unixReviewTime'], axis=1,inplace=True)\n",
    "table.drop(['reviewTime'], axis=1,inplace=True)\n",
    "table.drop(['polarity'], axis=1,inplace=True)\n",
    "table.drop(['overall'], axis=1,inplace=True)\n",
    "table.drop(['subjectivity'], axis=1,inplace=True)"
   ]
  },
  {
   "cell_type": "code",
   "execution_count": 14,
   "id": "c5cef345",
   "metadata": {},
   "outputs": [
    {
     "data": {
      "text/plain": [
       "reviewerID\n",
       "A9Q28YTLYREO7     578\n",
       "A3HU0B9XUEVHIM    375\n",
       "A3KJ6JAZPH382D    301\n",
       "A3C6ZCBUNXUT7V    261\n",
       "A8IFUOL8S9BZC     256\n",
       "Name: unbias_overall, dtype: int64"
      ]
     },
     "execution_count": 14,
     "metadata": {},
     "output_type": "execute_result"
    }
   ],
   "source": [
    "#Analysis of rating given by the user \n",
    "\n",
    "no_of_rated_products_per_user = table.groupby(by='reviewerID')['unbias_overall'].count().sort_values(ascending=False)\n",
    "\n",
    "no_of_rated_products_per_user.head()"
   ]
  },
  {
   "cell_type": "code",
   "execution_count": 15,
   "id": "68766473",
   "metadata": {},
   "outputs": [
    {
     "data": {
      "text/plain": [
       "count    5541.000000\n",
       "mean       11.677676\n",
       "std        18.222800\n",
       "min         5.000000\n",
       "25%         5.000000\n",
       "50%         7.000000\n",
       "75%        11.000000\n",
       "max       578.000000\n",
       "Name: unbias_overall, dtype: float64"
      ]
     },
     "execution_count": 15,
     "metadata": {},
     "output_type": "execute_result"
    }
   ],
   "source": [
    "no_of_rated_products_per_user.describe()"
   ]
  },
  {
   "cell_type": "code",
   "execution_count": 16,
   "id": "1b4f71a8",
   "metadata": {},
   "outputs": [],
   "source": [
    "quantiles = no_of_rated_products_per_user.quantile(np.arange(0,1.01,0.01), interpolation='higher')"
   ]
  },
  {
   "cell_type": "code",
   "execution_count": 17,
   "id": "49046aeb",
   "metadata": {},
   "outputs": [
    {
     "data": {
      "text/plain": [
       "<Figure size 720x720 with 0 Axes>"
      ]
     },
     "execution_count": 17,
     "metadata": {},
     "output_type": "execute_result"
    },
    {
     "data": {
      "text/plain": [
       "Text(0.5, 1.0, 'Quantiles and their Values')"
      ]
     },
     "execution_count": 17,
     "metadata": {},
     "output_type": "execute_result"
    },
    {
     "data": {
      "text/plain": [
       "<AxesSubplot:title={'center':'Quantiles and their Values'}>"
      ]
     },
     "execution_count": 17,
     "metadata": {},
     "output_type": "execute_result"
    },
    {
     "data": {
      "text/plain": [
       "<matplotlib.collections.PathCollection at 0x1d2342aae50>"
      ]
     },
     "execution_count": 17,
     "metadata": {},
     "output_type": "execute_result"
    },
    {
     "data": {
      "text/plain": [
       "<matplotlib.collections.PathCollection at 0x1d2308f39d0>"
      ]
     },
     "execution_count": 17,
     "metadata": {},
     "output_type": "execute_result"
    },
    {
     "data": {
      "text/plain": [
       "Text(0, 0.5, 'No of ratings by user')"
      ]
     },
     "execution_count": 17,
     "metadata": {},
     "output_type": "execute_result"
    },
    {
     "data": {
      "text/plain": [
       "Text(0.5, 0, 'Value at the quantile')"
      ]
     },
     "execution_count": 17,
     "metadata": {},
     "output_type": "execute_result"
    },
    {
     "data": {
      "text/plain": [
       "<matplotlib.legend.Legend at 0x1d2342aa4c0>"
      ]
     },
     "execution_count": 17,
     "metadata": {},
     "output_type": "execute_result"
    },
    {
     "data": {
      "image/png": "[encoded data removed]",
      "text/plain": [
       "<Figure size 720x720 with 1 Axes>"
      ]
     },
     "metadata": {
      "needs_background": "light"
     },
     "output_type": "display_data"
    }
   ],
   "source": [
    "plt.figure(figsize=(10,10))\n",
    "plt.title(\"Quantiles and their Values\")\n",
    "quantiles.plot()\n",
    "# quantiles with 0.05 difference\n",
    "plt.scatter(x=quantiles.index[::5], y=quantiles.values[::5], c='orange', label=\"quantiles with 0.05 intervals\")\n",
    "# quantiles with 0.25 difference\n",
    "plt.scatter(x=quantiles.index[::25], y=quantiles.values[::25], c='m', label = \"quantiles with 0.25 intervals\")\n",
    "plt.ylabel('No of ratings by user')\n",
    "plt.xlabel('Value at the quantile')\n",
    "plt.legend(loc='best')\n",
    "plt.show()"
   ]
  },
  {
   "cell_type": "code",
   "execution_count": 18,
   "id": "68ccf9e2",
   "metadata": {},
   "outputs": [
    {
     "name": "stdout",
     "output_type": "stream",
     "text": [
      "\n",
      " No of rated product more than 50 per user : 126\n",
      "\n"
     ]
    }
   ],
   "source": [
    "print('\\n No of rated product more than 50 per user : {}\\n'.format(sum(no_of_rated_products_per_user >= 50)) )"
   ]
  },
  {
   "cell_type": "code",
   "execution_count": 19,
   "id": "49d67ada",
   "metadata": {},
   "outputs": [],
   "source": [
    "##Popularity Based Recommendation\n",
    "\n",
    "#Getting the new dataframe which contains users who has given 50 or more ratings\n",
    "new_df=table.groupby(\"asin\").filter(lambda x:x['unbias_overall'].count() >=50)"
   ]
  },
  {
   "cell_type": "code",
   "execution_count": 20,
   "id": "e3eb60d5",
   "metadata": {},
   "outputs": [
    {
     "data": {
      "text/plain": [
       "[<matplotlib.lines.Line2D at 0x1d22f2ebb80>]"
      ]
     },
     "execution_count": 20,
     "metadata": {},
     "output_type": "execute_result"
    },
    {
     "data": {
      "text/plain": [
       "Text(0.5, 1.0, '# RATINGS per Product')"
      ]
     },
     "execution_count": 20,
     "metadata": {},
     "output_type": "execute_result"
    },
    {
     "data": {
      "text/plain": [
       "Text(0.5, 0, 'Product')"
      ]
     },
     "execution_count": 20,
     "metadata": {},
     "output_type": "execute_result"
    },
    {
     "data": {
      "text/plain": [
       "Text(0, 0.5, 'No of ratings per product')"
      ]
     },
     "execution_count": 20,
     "metadata": {},
     "output_type": "execute_result"
    },
    {
     "data": {
      "text/plain": [
       "[Text(-50.0, 0, ''),\n",
       " Text(0.0, 0, ''),\n",
       " Text(50.0, 0, ''),\n",
       " Text(100.0, 0, ''),\n",
       " Text(150.0, 0, ''),\n",
       " Text(200.0, 0, ''),\n",
       " Text(250.0, 0, ''),\n",
       " Text(300.0, 0, '')]"
      ]
     },
     "execution_count": 20,
     "metadata": {},
     "output_type": "execute_result"
    },
    {
     "data": {
      "image/png": "[encoded data removed]",
      "text/plain": [
       "<Figure size 576x288 with 1 Axes>"
      ]
     },
     "metadata": {
      "needs_background": "light"
     },
     "output_type": "display_data"
    }
   ],
   "source": [
    "no_of_ratings_per_product = new_df.groupby(by='asin')['unbias_overall'].count().sort_values(ascending=False)\n",
    "\n",
    "fig = plt.figure(figsize=plt.figaspect(.5))\n",
    "ax = plt.gca()\n",
    "plt.plot(no_of_ratings_per_product.values)\n",
    "plt.title('# RATINGS per Product')\n",
    "plt.xlabel('Product')\n",
    "plt.ylabel('No of ratings per product')\n",
    "ax.set_xticklabels([])\n",
    "\n",
    "plt.show()"
   ]
  },
  {
   "cell_type": "code",
   "execution_count": 21,
   "id": "81bcb988",
   "metadata": {},
   "outputs": [
    {
     "data": {
      "text/plain": [
       "asin\n",
       "B00000016W    3.837441\n",
       "B00000064G    3.730589\n",
       "B000000OUJ    3.886597\n",
       "B000000TDH    3.799631\n",
       "B0000013GH    3.861190\n",
       "Name: unbias_overall, dtype: float64"
      ]
     },
     "execution_count": 21,
     "metadata": {},
     "output_type": "execute_result"
    }
   ],
   "source": [
    "#Average rating of the product \n",
    "\n",
    "new_df.groupby('asin')['unbias_overall'].mean().head()"
   ]
  },
  {
   "cell_type": "code",
   "execution_count": 22,
   "id": "a19515f6",
   "metadata": {},
   "outputs": [
    {
     "data": {
      "text/plain": [
       "asin\n",
       "B0001XANAS    4.063417\n",
       "B000002GVS    3.998134\n",
       "B000002AV5    3.993282\n",
       "B000001A6N    3.981373\n",
       "B000003AEK    3.974832\n",
       "Name: unbias_overall, dtype: float64"
      ]
     },
     "execution_count": 22,
     "metadata": {},
     "output_type": "execute_result"
    }
   ],
   "source": [
    "new_df.groupby('asin')['unbias_overall'].mean().sort_values(ascending=False).head()"
   ]
  },
  {
   "cell_type": "code",
   "execution_count": 23,
   "id": "3f6db809",
   "metadata": {},
   "outputs": [
    {
     "data": {
      "text/plain": [
       "asin\n",
       "B0007NFL18    272\n",
       "B000084T18    271\n",
       "B00006690F    204\n",
       "B00004T9UF    202\n",
       "B00005YW4H    190\n",
       "Name: unbias_overall, dtype: int64"
      ]
     },
     "execution_count": 23,
     "metadata": {},
     "output_type": "execute_result"
    }
   ],
   "source": [
    "#Total no of rating for product\n",
    "\n",
    "new_df.groupby('asin')['unbias_overall'].count().sort_values(ascending=False).head()"
   ]
  },
  {
   "cell_type": "code",
   "execution_count": 24,
   "id": "0db478d1",
   "metadata": {},
   "outputs": [],
   "source": [
    "ratings_mean_count = pd.DataFrame(new_df.groupby('asin')['unbias_overall'].mean())"
   ]
  },
  {
   "cell_type": "code",
   "execution_count": 25,
   "id": "67aa0ad5",
   "metadata": {},
   "outputs": [],
   "source": [
    "ratings_mean_count['rating_counts'] = pd.DataFrame(new_df.groupby('asin')['unbias_overall'].count())"
   ]
  },
  {
   "cell_type": "code",
   "execution_count": 26,
   "id": "8919c967",
   "metadata": {},
   "outputs": [
    {
     "data": {
      "text/html": [
       "<div>\n",
       "<style scoped>\n",
       "    .dataframe tbody tr th:only-of-type {\n",
       "        vertical-align: middle;\n",
       "    }\n",
       "\n",
       "    .dataframe tbody tr th {\n",
       "        vertical-align: top;\n",
       "    }\n",
       "\n",
       "    .dataframe thead th {\n",
       "        text-align: right;\n",
       "    }\n",
       "</style>\n",
       "<table border=\"1\" class=\"dataframe\">\n",
       "  <thead>\n",
       "    <tr style=\"text-align: right;\">\n",
       "      <th></th>\n",
       "      <th>unbias_overall</th>\n",
       "      <th>rating_counts</th>\n",
       "    </tr>\n",
       "    <tr>\n",
       "      <th>asin</th>\n",
       "      <th></th>\n",
       "      <th></th>\n",
       "    </tr>\n",
       "  </thead>\n",
       "  <tbody>\n",
       "    <tr>\n",
       "      <th>B00000016W</th>\n",
       "      <td>3.837441</td>\n",
       "      <td>135</td>\n",
       "    </tr>\n",
       "    <tr>\n",
       "      <th>B00000064G</th>\n",
       "      <td>3.730589</td>\n",
       "      <td>79</td>\n",
       "    </tr>\n",
       "    <tr>\n",
       "      <th>B000000OUJ</th>\n",
       "      <td>3.886597</td>\n",
       "      <td>79</td>\n",
       "    </tr>\n",
       "    <tr>\n",
       "      <th>B000000TDH</th>\n",
       "      <td>3.799631</td>\n",
       "      <td>54</td>\n",
       "    </tr>\n",
       "    <tr>\n",
       "      <th>B0000013GH</th>\n",
       "      <td>3.861190</td>\n",
       "      <td>51</td>\n",
       "    </tr>\n",
       "  </tbody>\n",
       "</table>\n",
       "</div>"
      ],
      "text/plain": [
       "            unbias_overall  rating_counts\n",
       "asin                                     \n",
       "B00000016W        3.837441            135\n",
       "B00000064G        3.730589             79\n",
       "B000000OUJ        3.886597             79\n",
       "B000000TDH        3.799631             54\n",
       "B0000013GH        3.861190             51"
      ]
     },
     "execution_count": 26,
     "metadata": {},
     "output_type": "execute_result"
    }
   ],
   "source": [
    "ratings_mean_count.head()"
   ]
  },
  {
   "cell_type": "code",
   "execution_count": 27,
   "id": "f68a74ac",
   "metadata": {},
   "outputs": [
    {
     "data": {
      "text/plain": [
       "272"
      ]
     },
     "execution_count": 27,
     "metadata": {},
     "output_type": "execute_result"
    }
   ],
   "source": [
    "ratings_mean_count['rating_counts'].max()"
   ]
  },
  {
   "cell_type": "code",
   "execution_count": 28,
   "id": "edfc5444",
   "metadata": {},
   "outputs": [
    {
     "data": {
      "text/plain": [
       "<Figure size 576x432 with 0 Axes>"
      ]
     },
     "execution_count": 28,
     "metadata": {},
     "output_type": "execute_result"
    },
    {
     "data": {
      "text/plain": [
       "<AxesSubplot:>"
      ]
     },
     "execution_count": 28,
     "metadata": {},
     "output_type": "execute_result"
    },
    {
     "data": {
      "image/png": "[encoded data removed]",
      "text/plain": [
       "<Figure size 576x432 with 1 Axes>"
      ]
     },
     "metadata": {
      "needs_background": "light"
     },
     "output_type": "display_data"
    }
   ],
   "source": [
    "plt.figure(figsize=(8,6))\n",
    "plt.rcParams['patch.force_edgecolor'] = True\n",
    "ratings_mean_count['rating_counts'].hist(bins=50)"
   ]
  },
  {
   "cell_type": "code",
   "execution_count": 29,
   "id": "5791a573",
   "metadata": {},
   "outputs": [
    {
     "data": {
      "text/plain": [
       "<Figure size 576x432 with 0 Axes>"
      ]
     },
     "execution_count": 29,
     "metadata": {},
     "output_type": "execute_result"
    },
    {
     "data": {
      "text/plain": [
       "<AxesSubplot:>"
      ]
     },
     "execution_count": 29,
     "metadata": {},
     "output_type": "execute_result"
    },
    {
     "data": {
      "image/png": "[encoded data removed]",
      "text/plain": [
       "<Figure size 576x432 with 1 Axes>"
      ]
     },
     "metadata": {
      "needs_background": "light"
     },
     "output_type": "display_data"
    }
   ],
   "source": [
    "plt.figure(figsize=(8,6))\n",
    "plt.rcParams['patch.force_edgecolor'] = True\n",
    "ratings_mean_count['unbias_overall'].hist(bins=50)"
   ]
  },
  {
   "cell_type": "code",
   "execution_count": 30,
   "id": "78d19de7",
   "metadata": {},
   "outputs": [
    {
     "data": {
      "text/plain": [
       "<Figure size 576x432 with 0 Axes>"
      ]
     },
     "execution_count": 30,
     "metadata": {},
     "output_type": "execute_result"
    },
    {
     "data": {
      "text/plain": [
       "<seaborn.axisgrid.JointGrid at 0x1d24fe56130>"
      ]
     },
     "execution_count": 30,
     "metadata": {},
     "output_type": "execute_result"
    },
    {
     "data": {
      "text/plain": [
       "<Figure size 576x432 with 0 Axes>"
      ]
     },
     "metadata": {},
     "output_type": "display_data"
    },
    {
     "data": {
      "image/png": "[encoded data removed]",
      "text/plain": [
       "<Figure size 432x432 with 3 Axes>"
      ]
     },
     "metadata": {
      "needs_background": "light"
     },
     "output_type": "display_data"
    }
   ],
   "source": [
    "plt.figure(figsize=(8,6))\n",
    "plt.rcParams['patch.force_edgecolor'] = True\n",
    "sns.jointplot(x='unbias_overall', y='rating_counts', data=ratings_mean_count, alpha=0.4)"
   ]
  },
  {
   "cell_type": "code",
   "execution_count": 31,
   "id": "bd538e28",
   "metadata": {},
   "outputs": [
    {
     "data": {
      "text/plain": [
       "<AxesSubplot:xlabel='asin'>"
      ]
     },
     "execution_count": 31,
     "metadata": {},
     "output_type": "execute_result"
    },
    {
     "data": {
      "image/png": "[encoded data removed]",
      "text/plain": [
       "<Figure size 432x288 with 1 Axes>"
      ]
     },
     "metadata": {
      "needs_background": "light"
     },
     "output_type": "display_data"
    }
   ],
   "source": [
    "popular_products = pd.DataFrame(new_df.groupby('asin')['unbias_overall'].count())\n",
    "most_popular = popular_products.sort_values('unbias_overall', ascending=False)\n",
    "most_popular.head(30).plot(kind = \"bar\")"
   ]
  },
  {
   "cell_type": "code",
   "execution_count": 32,
   "id": "65065e15",
   "metadata": {},
   "outputs": [],
   "source": [
    "from surprise import KNNWithMeans\n",
    "from surprise import Dataset\n",
    "from surprise import accuracy\n",
    "from surprise import Reader\n",
    "import os\n",
    "from surprise.model_selection import train_test_split"
   ]
  },
  {
   "cell_type": "code",
   "execution_count": 33,
   "id": "6914af46",
   "metadata": {
    "scrolled": true
   },
   "outputs": [
    {
     "name": "stdout",
     "output_type": "stream",
     "text": [
      "           reviewerID        asin  unbias_overall\n",
      "85     A1C0C9IJO2HS03  B00000016W        3.939663\n",
      "86     A22N9H8V0RYQR3  B00000016W        2.619048\n",
      "87     A1E110L9ZKX6FD  B00000016W        3.850057\n",
      "88     A3HU0B9XUEVHIM  B00000016W        3.833282\n",
      "89     A252HNVAZENVNE  B00000016W        3.358418\n",
      "...               ...         ...             ...\n",
      "61354  A2X4WHLXULSKDD  B005QJZ5FA        3.721726\n",
      "61355   AY6A8KPYCE6B0  B005QJZ5FA        3.712819\n",
      "61356  A2U3XA8QL4IPJO  B005QJZ5FA        3.836735\n",
      "61357   AFEN54UGJQOK9  B005QJZ5FA        3.766284\n",
      "61358  A13Y1WNMYX93EL  B005QJZ5FA        3.689360\n",
      "\n",
      "[20271 rows x 3 columns]\n"
     ]
    }
   ],
   "source": [
    "#Reading the dataset\n",
    "reader = Reader(rating_scale=(1, 5))\n",
    "cols = new_df.columns.tolist()\n",
    "df = new_df[cols] \n",
    "# df = df._convert(numeric=True)\n",
    "print(df)\n",
    "# print(df.dtypes)\n",
    "# df['asin']=df['asin'].astype(np.float64)\n",
    "# print(df.dtypes)\n",
    "\n",
    "data = Dataset.load_from_df(df,reader)"
   ]
  },
  {
   "cell_type": "code",
   "execution_count": 34,
   "id": "e74e6a46",
   "metadata": {},
   "outputs": [],
   "source": [
    "#Splitting the dataset\n",
    "trainset, testset = train_test_split(data, test_size=0.2,random_state=0)"
   ]
  },
  {
   "cell_type": "code",
   "execution_count": 35,
   "id": "6561de57",
   "metadata": {},
   "outputs": [
    {
     "name": "stdout",
     "output_type": "stream",
     "text": [
      "Estimating biases using als...\n",
      "Computing the pearson_baseline similarity matrix...\n",
      "Done computing similarity matrix.\n"
     ]
    },
    {
     "data": {
      "text/plain": [
       "<surprise.prediction_algorithms.knns.KNNWithMeans at 0x1d24e652610>"
      ]
     },
     "execution_count": 35,
     "metadata": {},
     "output_type": "execute_result"
    }
   ],
   "source": [
    "# Use user_based true/false to switch between user-based or item-based collaborative filtering\n",
    "algo = KNNWithMeans(k=5, sim_options={'name': 'pearson_baseline', 'user_based': False})\n",
    "algo.fit(trainset)"
   ]
  },
  {
   "cell_type": "code",
   "execution_count": 36,
   "id": "4acf999b",
   "metadata": {},
   "outputs": [],
   "source": [
    "# run the trained model against the testset\n",
    "test_pred = algo.test(testset)"
   ]
  },
  {
   "cell_type": "code",
   "execution_count": 37,
   "id": "d92222a9",
   "metadata": {},
   "outputs": [
    {
     "data": {
      "text/plain": [
       "[Prediction(uid='AJQMDNJRZP6MD', iid='B00005NHJS', r_ui=4.08843537414966, est=3.540003219189379, details={'actual_k': 1, 'was_impossible': False}),\n",
       " Prediction(uid='A2QMBY3CCR2B02', iid='B0006ZQ9BS', r_ui=3.9109977324263037, est=3.3395984604415863, details={'actual_k': 4, 'was_impossible': False}),\n",
       " Prediction(uid='A26XCS3QLDJJWN', iid='B000035X1M', r_ui=3.6464285714285714, est=3.7981188686108944, details={'actual_k': 4, 'was_impossible': False}),\n",
       " Prediction(uid='A1Q6KVOLE0HO3R', iid='B000002KZR', r_ui=3.948179271708683, est=3.9106133216028867, details={'actual_k': 4, 'was_impossible': False}),\n",
       " Prediction(uid='A1S7N1XX196ON7', iid='B0000TAZS8', r_ui=3.8095238095238098, est=2.904992483878782, details={'actual_k': 2, 'was_impossible': False}),\n",
       " Prediction(uid='A1ALPL858XSDE', iid='B0001XANAS', r_ui=4.023399014778326, est=3.652021628679142, details={'was_impossible': True, 'reason': 'User and/or item is unknown.'}),\n",
       " Prediction(uid='AQZE4MMQMDKPB', iid='B0000039QA', r_ui=3.767857142857143, est=3.9464862672799317, details={'actual_k': 5, 'was_impossible': False}),\n",
       " Prediction(uid='A23F0RW1RUBBDF', iid='B000002C2E', r_ui=3.9391156462585033, est=3.6756369445176964, details={'actual_k': 3, 'was_impossible': False}),\n",
       " Prediction(uid='A1WKYTCWH09P0Z', iid='B0002IQHBQ', r_ui=4.248552594866071, est=4.064756420635618, details={'actual_k': 5, 'was_impossible': False}),\n",
       " Prediction(uid='A36J3W0A8OPFC1', iid='B0000039QA', r_ui=3.758684730906953, est=3.881161999868074, details={'actual_k': 1, 'was_impossible': False}),\n",
       " Prediction(uid='A11BC4PIHPZVJP', iid='B0000029DD', r_ui=3.453993055555556, est=3.7827146398469313, details={'actual_k': 0, 'was_impossible': False}),\n",
       " Prediction(uid='A3TSPLFYU2UMW0', iid='B000002LGQ', r_ui=3.764625850340136, est=4.1833459238145085, details={'actual_k': 1, 'was_impossible': False}),\n",
       " Prediction(uid='A2Q8BZMIXLLCNG', iid='B000002J88', r_ui=3.3218537414965987, est=2.9862171497638204, details={'actual_k': 2, 'was_impossible': False}),\n",
       " Prediction(uid='A2P814DGX3QD1A', iid='B00005ICAW', r_ui=3.755634920634921, est=3.453157538939089, details={'actual_k': 0, 'was_impossible': False}),\n",
       " Prediction(uid='A22HN0VTP9TCLJ', iid='B00004T9UF', r_ui=3.673469387755102, est=3.320119475572486, details={'actual_k': 4, 'was_impossible': False}),\n",
       " Prediction(uid='A3N3SN2DDD4HCJ', iid='B000002AP1', r_ui=3.892302489177489, est=3.6150407779355733, details={'actual_k': 0, 'was_impossible': False}),\n",
       " Prediction(uid='A3E8EY24IZZ2EG', iid='B00001QGQI', r_ui=3.869419642857143, est=3.7413567990299392, details={'actual_k': 1, 'was_impossible': False}),\n",
       " Prediction(uid='A1NP9X56O2MNLV', iid='B00000DGUG', r_ui=3.5478391356542613, est=3.480798945652558, details={'actual_k': 2, 'was_impossible': False}),\n",
       " Prediction(uid='A1IKOYZVFHO1XP', iid='B000002GWZ', r_ui=3.771212121212121, est=3.405454400148976, details={'actual_k': 5, 'was_impossible': False}),\n",
       " Prediction(uid='A1KFWSYZIOBI3Y', iid='B00004UARR', r_ui=3.7013534580498866, est=2.9514111573414663, details={'actual_k': 1, 'was_impossible': False}),\n",
       " Prediction(uid='A2H1WNB30JNAWU', iid='B00006690F', r_ui=3.6583694083694085, est=3.6528536709871045, details={'actual_k': 3, 'was_impossible': False}),\n",
       " Prediction(uid='A2FW9R4QP52W5F', iid='B0000025RI', r_ui=4.031746031746032, est=4.335630565511354, details={'actual_k': 1, 'was_impossible': False}),\n",
       " Prediction(uid='A343WUP274JSP3', iid='B000AOENCM', r_ui=4.107142857142858, est=3.724690088261313, details={'actual_k': 1, 'was_impossible': False}),\n",
       " Prediction(uid='A2LNEZD3YBO12O', iid='B0007NFL18', r_ui=3.5594944341372914, est=3.116171237304128, details={'actual_k': 5, 'was_impossible': False}),\n",
       " Prediction(uid='A3O8YT41TDXL0B', iid='B000MTPAGI', r_ui=2.9042685733488085, est=3.392298491301479, details={'actual_k': 5, 'was_impossible': False}),\n",
       " Prediction(uid='A30VQ7PHNAGRML', iid='B000023VR6', r_ui=4.024781341107872, est=3.3940286368485144, details={'actual_k': 2, 'was_impossible': False}),\n",
       " Prediction(uid='AY84BQK3EMJ4S', iid='B000H0MKGK', r_ui=4.097845804988662, est=4.0818452524500355, details={'actual_k': 1, 'was_impossible': False}),\n",
       " Prediction(uid='AAHERVSTDYU17', iid='B004K4AUZW', r_ui=3.1750482562170874, est=3.546424929830364, details={'actual_k': 0, 'was_impossible': False}),\n",
       " Prediction(uid='A1EJ9BMB058DRV', iid='B0000AGWFX', r_ui=3.885023809523809, est=3.6782938391655566, details={'actual_k': 3, 'was_impossible': False}),\n",
       " Prediction(uid='AKFE1P1ZDBPXU', iid='B000002JAI', r_ui=3.502848566527812, est=3.5259844133234304, details={'actual_k': 2, 'was_impossible': False}),\n",
       " Prediction(uid='A1SPYMGDEWKK6I', iid='B0006ZQ9BS', r_ui=3.9678571428571425, est=4.046947937119779, details={'actual_k': 5, 'was_impossible': False}),\n",
       " Prediction(uid='A1JI9C3F1UBLUH', iid='B003WTE886', r_ui=3.977608688277766, est=4.059471064839437, details={'actual_k': 4, 'was_impossible': False}),\n",
       " Prediction(uid='A1AIQJYEPA44F0', iid='B003KUSUG8', r_ui=2.7334325396825396, est=4.4706707632785765, details={'actual_k': 1, 'was_impossible': False}),\n",
       " Prediction(uid='A2HFL26OQJ2T9X', iid='B000002GK1', r_ui=3.887336473050759, est=3.5628537455072222, details={'actual_k': 1, 'was_impossible': False}),\n",
       " Prediction(uid='A3JG72P0KY27HW', iid='B000BTDMDC', r_ui=3.80734481292517, est=3.4665149637040265, details={'actual_k': 0, 'was_impossible': False}),\n",
       " Prediction(uid='A3RC3AK8UN89I9', iid='B00008OWZE', r_ui=3.6183364254792827, est=3.776381807750389, details={'actual_k': 5, 'was_impossible': False}),\n",
       " Prediction(uid='A1D2C0WDCSHUWZ', iid='B004K4AUZW', r_ui=2.7526387027875123, est=3.267479129705346, details={'actual_k': 5, 'was_impossible': False}),\n",
       " Prediction(uid='A19D230U2BGA7B', iid='B0000DD7LC', r_ui=5.0, est=4.777303867975306, details={'actual_k': 1, 'was_impossible': False}),\n",
       " Prediction(uid='A33693RRRFK55Q', iid='B0002A2WAO', r_ui=2.7894491129785246, est=2.8452611442974005, details={'actual_k': 1, 'was_impossible': False}),\n",
       " Prediction(uid='ASK9UDXP1UAUY', iid='B00008H2LB', r_ui=3.4821815089672232, est=3.71434010794657, details={'actual_k': 1, 'was_impossible': False}),\n",
       " Prediction(uid='A16EHWSPVT7F0C', iid='B000FII324', r_ui=5.0, est=4.1748597267172105, details={'actual_k': 1, 'was_impossible': False}),\n",
       " Prediction(uid='ATS4FKFOX9INH', iid='B0000TAZS8', r_ui=4.125417439703154, est=3.4983062365421316, details={'actual_k': 2, 'was_impossible': False}),\n",
       " Prediction(uid='A3T9IX8EDFDX4G', iid='B000001FAO', r_ui=3.984987098287591, est=4.030692132018875, details={'actual_k': 3, 'was_impossible': False}),\n",
       " Prediction(uid='A18S82FC7G65QZ', iid='B00014TQ7S', r_ui=2.947704081632653, est=3.9352574001316007, details={'actual_k': 1, 'was_impossible': False}),\n",
       " Prediction(uid='A27PS2HLB49DYT', iid='B00097A5H2', r_ui=3.530946307094266, est=2.4919314813212528, details={'actual_k': 1, 'was_impossible': False}),\n",
       " Prediction(uid='A3C6ZCBUNXUT7V', iid='B003KUSUG8', r_ui=3.5180725623582765, est=3.8534665238110333, details={'actual_k': 5, 'was_impossible': False}),\n",
       " Prediction(uid='A25P6DY6ARTCGZ', iid='B0000BWVLM', r_ui=3.4540450588837683, est=3.857789657618784, details={'actual_k': 2, 'was_impossible': False}),\n",
       " Prediction(uid='A3HCY89ISEIF0J', iid='B0002A2WAO', r_ui=3.976190476190476, est=3.761005160504864, details={'actual_k': 3, 'was_impossible': False}),\n",
       " Prediction(uid='A1IANEBSMVGHS9', iid='B00000IAU3', r_ui=3.7284742468415937, est=3.57656607202993, details={'actual_k': 5, 'was_impossible': False}),\n",
       " Prediction(uid='A2MAMTF1GXLM5W', iid='B000089CJI', r_ui=4.167138218923933, est=3.789428091341042, details={'actual_k': 1, 'was_impossible': False}),\n",
       " Prediction(uid='AWSYTZ2I2MW0V', iid='B004NSULHM', r_ui=4.181168831168831, est=4.102245894853657, details={'actual_k': 2, 'was_impossible': False}),\n",
       " Prediction(uid='A103KNDW8GN92L', iid='B000002GQE', r_ui=3.7952525929589522, est=3.6317137582398016, details={'actual_k': 3, 'was_impossible': False}),\n",
       " Prediction(uid='A3RMWQY8DW5ISB', iid='B00008VOQM', r_ui=4.021874785267642, est=3.8422326384238477, details={'actual_k': 2, 'was_impossible': False}),\n",
       " Prediction(uid='A68GUAHPBDUN', iid='B000084T18', r_ui=3.2911808364677215, est=3.3956655610523914, details={'actual_k': 3, 'was_impossible': False}),\n",
       " Prediction(uid='AXFI7TAWD6H6X', iid='B000002VN7', r_ui=3.945442124013553, est=3.6343322646068486, details={'actual_k': 5, 'was_impossible': False}),\n",
       " Prediction(uid='A3O8YT41TDXL0B', iid='B003V5PPZG', r_ui=3.2864264455782313, est=3.2510747349159037, details={'actual_k': 4, 'was_impossible': False}),\n",
       " Prediction(uid='A2XZE1TB784HKX', iid='B000084T18', r_ui=3.6548552754435106, est=3.746352039782787, details={'actual_k': 3, 'was_impossible': False}),\n",
       " Prediction(uid='AEDYFC8UGZZGR', iid='B0000028RR', r_ui=4.028344671201814, est=4.252791049525503, details={'actual_k': 2, 'was_impossible': False}),\n",
       " Prediction(uid='A2QMBY3CCR2B02', iid='B00064200S', r_ui=4.471103896103896, est=3.541065345136239, details={'actual_k': 2, 'was_impossible': False}),\n",
       " Prediction(uid='A9Q28YTLYREO7', iid='B0000025RI', r_ui=3.4294532627865957, est=3.433383340515105, details={'actual_k': 5, 'was_impossible': False}),\n",
       " Prediction(uid='AQXBSHEPHNR6H', iid='B00005QDVS', r_ui=3.9752891710096145, est=4.089881238513339, details={'actual_k': 3, 'was_impossible': False}),\n",
       " Prediction(uid='A2QHZPNBXICYGZ', iid='B00000163G', r_ui=3.7361785984234963, est=2.9553157587069334, details={'actual_k': 1, 'was_impossible': False}),\n",
       " Prediction(uid='A1YQHOKBEFHFA5', iid='B000069HKH', r_ui=3.3475796930342385, est=3.5401320277635246, details={'actual_k': 2, 'was_impossible': False}),\n",
       " Prediction(uid='A265JO8DL4J4SS', iid='B000BNTM32', r_ui=3.6594967532467533, est=3.047111077333153, details={'actual_k': 1, 'was_impossible': False}),\n",
       " Prediction(uid='A39476Z41H9VK3', iid='B00005NZDW', r_ui=4.142857142857142, est=4.278365586461428, details={'actual_k': 1, 'was_impossible': False}),\n",
       " Prediction(uid='A3GD9SH111DI9A', iid='B0000029AP', r_ui=3.8407894736842105, est=3.918013020839834, details={'actual_k': 2, 'was_impossible': False}),\n",
       " Prediction(uid='A6MGFSH8CX1HE', iid='B000069HKH', r_ui=3.8871569317382124, est=3.6686052515651455, details={'actual_k': 0, 'was_impossible': False}),\n",
       " Prediction(uid='A18IZ5QX2PRB3C', iid='B00000J7JO', r_ui=3.500051535765821, est=3.555614493447275, details={'actual_k': 5, 'was_impossible': False}),\n",
       " Prediction(uid='A3N3SN2DDD4HCJ', iid='B00008J4P5', r_ui=3.749509211718514, est=3.180042039988043, details={'actual_k': 2, 'was_impossible': False}),\n",
       " Prediction(uid='A33H4BO4S3TA4I', iid='B0009SCVTG', r_ui=2.4625000000000004, est=3.42055438074271, details={'actual_k': 3, 'was_impossible': False}),\n",
       " Prediction(uid='A2R6RA8FRBS608', iid='B0000025RI', r_ui=4.086159079016222, est=4.113370210250013, details={'actual_k': 5, 'was_impossible': False}),\n",
       " Prediction(uid='A1EOEYW5SMC6CV', iid='B0000029AP', r_ui=3.0229213907785337, est=3.652021628679142, details={'was_impossible': True, 'reason': 'User and/or item is unknown.'}),\n",
       " Prediction(uid='A201QRZNUCD6US', iid='B000059MEK', r_ui=4.211904761904762, est=3.753414855425016, details={'actual_k': 0, 'was_impossible': False}),\n",
       " Prediction(uid='APZSWNPMVSZ84', iid='B00004YKUI', r_ui=3.9107142857142856, est=3.7205665244354167, details={'actual_k': 5, 'was_impossible': False}),\n",
       " Prediction(uid='A1AJR4BFQ5AW68', iid='B00000016W', r_ui=4.123626373626373, est=3.790749279774659, details={'actual_k': 2, 'was_impossible': False}),\n",
       " Prediction(uid='A3CGDFZTGL3ENL', iid='B00005QG9J', r_ui=3.988095238095238, est=3.7241339188157054, details={'actual_k': 0, 'was_impossible': False}),\n",
       " Prediction(uid='A1G5LJ8T1IGYC5', iid='B00000FCBH', r_ui=4.020148968678381, est=4.0314811415602385, details={'actual_k': 4, 'was_impossible': False}),\n",
       " Prediction(uid='A3W0POMI33YQXQ', iid='B000084T18', r_ui=3.8030068972033257, est=2.981753628109077, details={'actual_k': 5, 'was_impossible': False}),\n",
       " Prediction(uid='A3T8G3FN3H3948', iid='B00008H2LB', r_ui=3.9572704081632653, est=3.386063551403085, details={'actual_k': 2, 'was_impossible': False}),\n",
       " Prediction(uid='A10LDRKHO99AY6', iid='B00009VRDI', r_ui=3.404220779220779, est=3.61351509990474, details={'actual_k': 1, 'was_impossible': False}),\n",
       " Prediction(uid='A1L1NYH387VKGM', iid='B000001EG2', r_ui=3.904207812157121, est=3.855345941255082, details={'actual_k': 4, 'was_impossible': False}),\n",
       " Prediction(uid='A2SPI5WNZLOJ2U', iid='B00000J7JO', r_ui=3.8089009375955194, est=4.003520654724477, details={'actual_k': 2, 'was_impossible': False}),\n",
       " Prediction(uid='A2I9AQ5FXY26ZX', iid='B000001Y15', r_ui=3.8943452380952377, est=3.652021628679142, details={'was_impossible': True, 'reason': 'User and/or item is unknown.'}),\n",
       " Prediction(uid='ASVNSWIXBV72Q', iid='B000BM6AVA', r_ui=3.5333480305702527, est=3.757185299394451, details={'actual_k': 2, 'was_impossible': False}),\n",
       " Prediction(uid='A2W0CD4OPKF4ID', iid='B0000029AN', r_ui=3.9059586797682035, est=3.736162478018308, details={'actual_k': 4, 'was_impossible': False}),\n",
       " Prediction(uid='A2UPLFKG289O33', iid='B0000CD5FR', r_ui=4.142857142857142, est=3.8677969886011523, details={'actual_k': 0, 'was_impossible': False}),\n",
       " Prediction(uid='A3HU0B9XUEVHIM', iid='B000002PD7', r_ui=3.832683360700602, est=3.9260941598640184, details={'actual_k': 5, 'was_impossible': False}),\n",
       " Prediction(uid='A2J8WWG4W0OFYQ', iid='B000001FZ6', r_ui=3.455808080808081, est=4.138338797941074, details={'actual_k': 1, 'was_impossible': False}),\n",
       " Prediction(uid='AOG4CZNBHFDRF', iid='B00005NZDW', r_ui=3.9116443452380953, est=3.3128754329075676, details={'actual_k': 1, 'was_impossible': False}),\n",
       " Prediction(uid='AN092R6OZE3U0', iid='B00009V7T2', r_ui=4.027472527472527, est=3.9982292334256364, details={'actual_k': 4, 'was_impossible': False}),\n",
       " Prediction(uid='A2AKFJOWF71WGV', iid='B0000TAZS8', r_ui=2.4108854842981824, est=2.811284855221902, details={'actual_k': 5, 'was_impossible': False}),\n",
       " Prediction(uid='AQZE4MMQMDKPB', iid='B00064X2QY', r_ui=2.551086668433607, est=3.2911723865012887, details={'actual_k': 5, 'was_impossible': False}),\n",
       " Prediction(uid='A33HHL8UYCUJJY', iid='B00006ZCFJ', r_ui=2.428571428571429, est=2.9257153597518712, details={'actual_k': 2, 'was_impossible': False}),\n",
       " Prediction(uid='A44L1371VP728', iid='B000002KH3', r_ui=3.654761904761905, est=4.077998109711564, details={'actual_k': 2, 'was_impossible': False}),\n",
       " Prediction(uid='A1W6AMIGHPX3UQ', iid='B000002IRM', r_ui=3.6694689239332097, est=3.619705580844754, details={'actual_k': 0, 'was_impossible': False}),\n",
       " Prediction(uid='A1QEWOSV05RYEO', iid='B000BOH8XW', r_ui=3.6411330782312925, est=3.5094418479320986, details={'actual_k': 5, 'was_impossible': False}),\n",
       " Prediction(uid='A30PCQSV85MSEW', iid='B0000039QA', r_ui=4.055949101403647, est=3.774281344013852, details={'actual_k': 0, 'was_impossible': False}),\n",
       " Prediction(uid='A2ULSA0IRUE09E', iid='B00004YKUI', r_ui=3.685788098230495, est=3.6748128261519613, details={'actual_k': 5, 'was_impossible': False}),\n",
       " Prediction(uid='A3KEZLJ59C1JVH', iid='B0012OVF2U', r_ui=3.9893522626441884, est=3.7400532512942, details={'actual_k': 2, 'was_impossible': False}),\n",
       " Prediction(uid='AWSYTZ2I2MW0V', iid='B000002IOW', r_ui=3.5515873015873014, est=3.943435541067271, details={'actual_k': 5, 'was_impossible': False}),\n",
       " Prediction(uid='A3CY5UH5JR4MJT', iid='B00006ZCFI', r_ui=2.75, est=2.693552034297197, details={'actual_k': 5, 'was_impossible': False}),\n",
       " Prediction(uid='A3SKPJ1KSDWSB3', iid='B00003NHAR', r_ui=3.5714285714285716, est=3.176597457613783, details={'actual_k': 3, 'was_impossible': False}),\n",
       " Prediction(uid='AD6G5M3KL7GTB', iid='B000001DZO', r_ui=3.940986394557823, est=4.04971894362545, details={'actual_k': 5, 'was_impossible': False}),\n",
       " Prediction(uid='AD4CDZK7D31XP', iid='B000069HKH', r_ui=3.8340419501133787, est=2.9824170590298698, details={'actual_k': 1, 'was_impossible': False}),\n",
       " Prediction(uid='AADJXNY9HSKJF', iid='B0000CC6QG', r_ui=3.5754193722943723, est=3.749491590287395, details={'actual_k': 5, 'was_impossible': False}),\n",
       " Prediction(uid='A1J5KCZC8CMW9I', iid='B0000029DD', r_ui=3.970793650793651, est=3.8028220098950216, details={'actual_k': 5, 'was_impossible': False}),\n",
       " Prediction(uid='A34DTBYOTFP4RX', iid='B0000026WD', r_ui=2.9661904761904765, est=3.7415261200562178, details={'actual_k': 1, 'was_impossible': False}),\n",
       " Prediction(uid='A3R2V9HJJ63GBT', iid='B0002PD3HU', r_ui=3.623462465248179, est=3.652021628679142, details={'was_impossible': True, 'reason': 'User and/or item is unknown.'}),\n",
       " Prediction(uid='A200C7YQJ45LRR', iid='B0007NFL18', r_ui=2.7702349458301843, est=2.772957816238911, details={'actual_k': 5, 'was_impossible': False}),\n",
       " Prediction(uid='A1ODJS01LQA9JP', iid='B0002A2WAO', r_ui=3.543650793650794, est=4.176976365992176, details={'actual_k': 3, 'was_impossible': False}),\n",
       " Prediction(uid='AMP7TQRWAIE84', iid='B0002U6GFQ', r_ui=3.777872260015117, est=3.3414738190322857, details={'actual_k': 5, 'was_impossible': False}),\n",
       " Prediction(uid='A1R6DCPZV6NA13', iid='B000001A6N', r_ui=3.8857769423558897, est=3.847582378547098, details={'actual_k': 5, 'was_impossible': False}),\n",
       " Prediction(uid='A2YT3QVPJL7R4G', iid='B000089RVR', r_ui=2.9569847470238098, est=3.7206877583806466, details={'actual_k': 0, 'was_impossible': False}),\n",
       " Prediction(uid='A169WKRX93445F', iid='B00064200S', r_ui=3.5612244897959187, est=3.5783241580138094, details={'actual_k': 0, 'was_impossible': False}),\n",
       " Prediction(uid='A3OUA3K55Y2BV', iid='B000H0MKGK', r_ui=3.921658312447786, est=3.4225465530630226, details={'actual_k': 2, 'was_impossible': False}),\n",
       " Prediction(uid='A9E6BXLCOBL40', iid='B000EMGAOY', r_ui=3.8673469387755097, est=3.47747702585704, details={'actual_k': 1, 'was_impossible': False}),\n",
       " Prediction(uid='A38N0M7J3LQV9V', iid='B004D1GZ2E', r_ui=3.8515998992189466, est=3.652021628679142, details={'was_impossible': True, 'reason': 'User and/or item is unknown.'}),\n",
       " Prediction(uid='A8KW38D8PQ2AV', iid='B0000013GT', r_ui=3.642857142857143, est=3.847642961644773, details={'actual_k': 2, 'was_impossible': False}),\n",
       " Prediction(uid='A3R75H3IPPC2UX', iid='B0000025RI', r_ui=4.086385836385837, est=4.027502083912577, details={'actual_k': 1, 'was_impossible': False}),\n",
       " Prediction(uid='A3OVTXEKA3M23N', iid='B0002X314C', r_ui=4.0625, est=3.9757250507636024, details={'actual_k': 2, 'was_impossible': False}),\n",
       " Prediction(uid='AX356VIHP8XLN', iid='B00064200S', r_ui=3.8615835222978077, est=3.894092404871509, details={'actual_k': 2, 'was_impossible': False}),\n",
       " Prediction(uid='AGRUNN58UZPY1', iid='B0000026WD', r_ui=3.213573308111123, est=3.177464520280332, details={'actual_k': 1, 'was_impossible': False}),\n",
       " Prediction(uid='A3DQDILRL74K37', iid='B000002BE9', r_ui=4.107142857142858, est=3.9931960666800745, details={'actual_k': 1, 'was_impossible': False}),\n",
       " Prediction(uid='A1BQOPKHRU5M8F', iid='B000003B6J', r_ui=3.4785714285714286, est=3.8859673820125713, details={'actual_k': 5, 'was_impossible': False}),\n",
       " Prediction(uid='AYXOKMQ8IJX7M', iid='B0002X314C', r_ui=3.5726190476190474, est=4.087801242588155, details={'actual_k': 1, 'was_impossible': False}),\n",
       " Prediction(uid='A1D2C0WDCSHUWZ', iid='B000FPYNQW', r_ui=3.591600529100529, est=3.4402851238481036, details={'actual_k': 5, 'was_impossible': False}),\n",
       " Prediction(uid='A1EYSN1T55SV7U', iid='B000067CPX', r_ui=3.8285856009070294, est=3.990784118264527, details={'actual_k': 4, 'was_impossible': False}),\n",
       " Prediction(uid='A2TI8XP8GY1RO1', iid='B0006ZQ9BS', r_ui=2.8206349206349204, est=3.00655414755558, details={'actual_k': 5, 'was_impossible': False}),\n",
       " Prediction(uid='A1SUP9J7BNRHGW', iid='B0000029DD', r_ui=3.7142857142857144, est=3.652021628679142, details={'was_impossible': True, 'reason': 'User and/or item is unknown.'}),\n",
       " Prediction(uid='A3BTZBO1380KB1', iid='B00001QGQI', r_ui=4.4, est=3.2889064900230798, details={'actual_k': 1, 'was_impossible': False}),\n",
       " Prediction(uid='A12M96JJHEOYMT', iid='B000001FZ6', r_ui=3.2689774935948406, est=4.057572761446871, details={'actual_k': 1, 'was_impossible': False}),\n",
       " Prediction(uid='AZPWAXJG9OJXV', iid='B000002GXL', r_ui=3.879635416666667, est=3.9341160253601677, details={'actual_k': 1, 'was_impossible': False}),\n",
       " Prediction(uid='A29HQXDK7BSX8H', iid='B0006ZQ9BS', r_ui=2.5526360544217686, est=2.979407990183124, details={'actual_k': 5, 'was_impossible': False}),\n",
       " Prediction(uid='A59H9BL8L9Y4Z', iid='B003KUSUG8', r_ui=4.285714285714286, est=4.649306890246288, details={'actual_k': 3, 'was_impossible': False}),\n",
       " Prediction(uid='A1PEEKEYD1IG5F', iid='B0000DD7LC', r_ui=4.357142857142858, est=3.652021628679142, details={'was_impossible': True, 'reason': 'User and/or item is unknown.'}),\n",
       " Prediction(uid='A1PULJNO1T3YVX', iid='B00007FGLS', r_ui=3.357142857142857, est=3.6999588746462995, details={'actual_k': 4, 'was_impossible': False}),\n",
       " Prediction(uid='A28HEGEYVO3PEZ', iid='B000002GQE', r_ui=3.947042974386725, est=3.851150664758574, details={'actual_k': 0, 'was_impossible': False}),\n",
       " Prediction(uid='A2BH3KB36ISD4F', iid='B00006ZCFH', r_ui=3.7532467532467533, est=3.6267310221059343, details={'actual_k': 1, 'was_impossible': False}),\n",
       " Prediction(uid='AO2AQRPPSTABB', iid='B000001F66', r_ui=3.7754931972789114, est=3.7447583499202794, details={'actual_k': 1, 'was_impossible': False}),\n",
       " Prediction(uid='A1OLTAOD2KVG4M', iid='B005QJZ5FA', r_ui=3.448565587851302, est=3.652021628679142, details={'was_impossible': True, 'reason': 'User and/or item is unknown.'}),\n",
       " Prediction(uid='A1R3J4XK8AN83V', iid='B0000039QA', r_ui=4.057142857142857, est=3.7089179799476835, details={'actual_k': 3, 'was_impossible': False}),\n",
       " Prediction(uid='A33TRNCQK4IUO7', iid='B000N2G3RY', r_ui=3.563108068235619, est=3.636364666060704, details={'actual_k': 5, 'was_impossible': False}),\n",
       " Prediction(uid='A3BOUPGDLG7QPP', iid='B0000C0FKA', r_ui=3.7735714285714286, est=4.0157210643193535, details={'actual_k': 2, 'was_impossible': False}),\n",
       " Prediction(uid='A19CQRD6DIHMQL', iid='B000002WR5', r_ui=4.285714285714286, est=2.7991929731756002, details={'actual_k': 3, 'was_impossible': False}),\n",
       " Prediction(uid='AGTC2459GU7SY', iid='B000001EGE', r_ui=3.934265010351967, est=3.987415961961088, details={'actual_k': 2, 'was_impossible': False}),\n",
       " Prediction(uid='ASOZSOUCZFT14', iid='B0000C421G', r_ui=3.2367956702659613, est=3.5930646319536907, details={'actual_k': 5, 'was_impossible': False}),\n",
       " Prediction(uid='A225BDR5Z17KOQ', iid='B000084T18', r_ui=4.128014842300557, est=3.7006447726874945, details={'actual_k': 4, 'was_impossible': False}),\n",
       " Prediction(uid='A3NNZW2PK7V2BR', iid='B00005ICAW', r_ui=4.166666666666667, est=3.1391143549824623, details={'actual_k': 1, 'was_impossible': False}),\n",
       " Prediction(uid='A1MPEG5S1DNI52', iid='B00018D5CQ', r_ui=3.6493506493506493, est=3.2148528179765856, details={'actual_k': 3, 'was_impossible': False}),\n",
       " Prediction(uid='AK88POC4RCEWE', iid='B004K4AUZW', r_ui=4.112244897959183, est=3.652021628679142, details={'was_impossible': True, 'reason': 'User and/or item is unknown.'}),\n",
       " Prediction(uid='A15OGDJS69EUCP', iid='B000000OUJ', r_ui=4.5625, est=3.394079402428779, details={'actual_k': 1, 'was_impossible': False}),\n",
       " Prediction(uid='A8BIZG3SOG5HV', iid='B00005M987', r_ui=2.6111300979722034, est=3.597545912523216, details={'actual_k': 0, 'was_impossible': False}),\n",
       " Prediction(uid='AAM4PQ0VMEQLL', iid='B00065XJ52', r_ui=2.642857142857143, est=2.6171026528324264, details={'actual_k': 2, 'was_impossible': False}),\n",
       " Prediction(uid='A31NSKGF3K3E52', iid='B00004T9UF', r_ui=3.5789473684210527, est=4.125493561973583, details={'actual_k': 1, 'was_impossible': False}),\n",
       " Prediction(uid='ACU22OOTCPJDF', iid='B000002GQE', r_ui=4.0059523809523805, est=3.865386025986693, details={'actual_k': 1, 'was_impossible': False}),\n",
       " Prediction(uid='AIW5KNFD2114D', iid='B00096S3PY', r_ui=3.9284863945578232, est=4.091491830195363, details={'actual_k': 4, 'was_impossible': False}),\n",
       " Prediction(uid='A1GIIPXONCEEHP', iid='B000001F66', r_ui=3.424268774703557, est=3.613856064776609, details={'actual_k': 3, 'was_impossible': False}),\n",
       " Prediction(uid='A3VHV0NV7NKQPC', iid='B000OYC3J8', r_ui=3.5368985776128636, est=3.7345551584659202, details={'actual_k': 5, 'was_impossible': False}),\n",
       " Prediction(uid='A1EMDSTJDUE6B0', iid='B0000AGWEC', r_ui=4.088235294117647, est=3.088130813166632, details={'actual_k': 2, 'was_impossible': False}),\n",
       " Prediction(uid='A38UBVJEV1LLS7', iid='B000089RVR', r_ui=4.015873015873016, est=3.915764285899234, details={'actual_k': 5, 'was_impossible': False}),\n",
       " Prediction(uid='A19YHEBK099R7U', iid='B00001QGQI', r_ui=2.8154761904761902, est=3.2715521389117863, details={'actual_k': 5, 'was_impossible': False}),\n",
       " Prediction(uid='A1247THN87SOGP', iid='B00192M9FC', r_ui=3.60882979454408, est=3.652021628679142, details={'was_impossible': True, 'reason': 'User and/or item is unknown.'}),\n",
       " Prediction(uid='A3RV0VQKIM2HSW', iid='B00005NHJS', r_ui=3.4015552348885683, est=3.38669562535721, details={'actual_k': 5, 'was_impossible': False}),\n",
       " Prediction(uid='A1HFVQZIDK7UUD', iid='B000003AEK', r_ui=3.7115800865800863, est=3.9244410904034144, details={'actual_k': 5, 'was_impossible': False}),\n",
       " Prediction(uid='A2QMBY3CCR2B02', iid='B0002A2WAO', r_ui=2.7729591836734695, est=3.052046614528, details={'actual_k': 5, 'was_impossible': False}),\n",
       " Prediction(uid='A2X1KFF723P5EW', iid='B00004X0Q0', r_ui=3.6166666666666667, est=3.658145344026443, details={'actual_k': 3, 'was_impossible': False}),\n",
       " Prediction(uid='A1GN8UJIZLCA59', iid='B000001EGC', r_ui=3.979834791059281, est=3.804957617319028, details={'actual_k': 5, 'was_impossible': False}),\n",
       " Prediction(uid='A29TNAVMPYFRDF', iid='B0000013GH', r_ui=3.041450768619136, est=3.7873660228473236, details={'actual_k': 5, 'was_impossible': False}),\n",
       " Prediction(uid='A34ZAYTNP67S83', iid='B000002NJS', r_ui=3.553423543330376, est=3.391311632193727, details={'actual_k': 3, 'was_impossible': False}),\n",
       " Prediction(uid='AWQO371QER642', iid='B000002LQR', r_ui=3.7107654889912953, est=4.163728555208652, details={'actual_k': 1, 'was_impossible': False}),\n",
       " Prediction(uid='AOUKQVZ8O8YTQ', iid='B000050HS9', r_ui=3.875, est=3.775854195897715, details={'actual_k': 5, 'was_impossible': False}),\n",
       " Prediction(uid='AUH5O462EVSM1', iid='B00005O6IR', r_ui=3.8180272108843534, est=3.478873113550655, details={'actual_k': 2, 'was_impossible': False}),\n",
       " Prediction(uid='A2TDK8D4HEMUYW', iid='B00006L7XQ', r_ui=3.919642857142857, est=3.861686322758112, details={'actual_k': 0, 'was_impossible': False}),\n",
       " Prediction(uid='A36RS7KTNOBROF', iid='B000002NJS', r_ui=4.035714285714286, est=3.9321113818278435, details={'actual_k': 4, 'was_impossible': False}),\n",
       " Prediction(uid='A22HN0VTP9TCLJ', iid='B00003NHAR', r_ui=3.5634920634920633, est=3.152130152838542, details={'actual_k': 3, 'was_impossible': False}),\n",
       " Prediction(uid='A1EUYZPLFU211D', iid='B0000025BA', r_ui=4.199999999999999, est=3.652021628679142, details={'was_impossible': True, 'reason': 'User and/or item is unknown.'}),\n",
       " Prediction(uid='A1RD2PFXDLXA2S', iid='B0007NFL18', r_ui=3.9632549989692842, est=3.3783452880859293, details={'actual_k': 5, 'was_impossible': False}),\n",
       " Prediction(uid='A25I6X7JUC2JXB', iid='B000N2G3RY', r_ui=4.010582010582011, est=3.625801966461407, details={'actual_k': 0, 'was_impossible': False}),\n",
       " Prediction(uid='A25GQD0VCUU16V', iid='B00065BYAY', r_ui=3.5999450285164576, est=3.6243879823958562, details={'actual_k': 2, 'was_impossible': False}),\n",
       " Prediction(uid='A1VWRH8ALP6VF2', iid='B00005ICAW', r_ui=2.983552455774678, est=3.2728606512778535, details={'actual_k': 1, 'was_impossible': False}),\n",
       " Prediction(uid='A26TWY9AD935HC', iid='B0000AGWFX', r_ui=3.3937799926172016, est=3.6692196097240335, details={'actual_k': 1, 'was_impossible': False}),\n",
       " Prediction(uid='A3BNGG8LDBJZBC', iid='B0000025RI', r_ui=4.222222222222222, est=4.562849515709435, details={'actual_k': 3, 'was_impossible': False}),\n",
       " Prediction(uid='A1S5FZ2DIVVQOT', iid='B00006L7XQ', r_ui=4.3076923076923075, est=3.861686322758112, details={'actual_k': 0, 'was_impossible': False}),\n",
       " Prediction(uid='A97B72F4UI8FA', iid='B0000029DD', r_ui=3.764455782312925, est=3.834031902059155, details={'actual_k': 5, 'was_impossible': False}),\n",
       " Prediction(uid='A3L54KTGHUC1MJ', iid='B0002IQHBQ', r_ui=3.4387755102040813, est=3.0429766311077877, details={'actual_k': 2, 'was_impossible': False}),\n",
       " Prediction(uid='A1H9SWNKX6N260', iid='B00004XOWM', r_ui=4.12928084808142, est=2.152485773809262, details={'actual_k': 1, 'was_impossible': False}),\n",
       " Prediction(uid='A2WETFLJM0D6R0', iid='B000002C2E', r_ui=3.709081194302869, est=3.5741459962180286, details={'actual_k': 3, 'was_impossible': False}),\n",
       " Prediction(uid='A3GHQ2D2Q1DGQC', iid='B00000016W', r_ui=3.8863651229722658, est=3.908058922176142, details={'actual_k': 1, 'was_impossible': False}),\n",
       " Prediction(uid='A13EHGWL2EFJOD', iid='B0002PD3HU', r_ui=3.332108260591867, est=3.7070572906756984, details={'actual_k': 1, 'was_impossible': False}),\n",
       " Prediction(uid='A12WON27MLDXNI', iid='B00006ZCFI', r_ui=3.8760504201680672, est=3.6164057159175695, details={'actual_k': 1, 'was_impossible': False}),\n",
       " Prediction(uid='A3TTC70GZ9SH3S', iid='B000002MUW', r_ui=2.763373531230674, est=3.9094316525882458, details={'actual_k': 2, 'was_impossible': False}),\n",
       " Prediction(uid='A3KKPVZ2EQQLAB', iid='B0000AGWFX', r_ui=3.1180213464696225, est=3.9705917655660823, details={'actual_k': 2, 'was_impossible': False}),\n",
       " Prediction(uid='A3GSJO0R2RSU3Z', iid='B0009VJWQS', r_ui=3.0773809523809526, est=3.1994398990381763, details={'actual_k': 1, 'was_impossible': False}),\n",
       " Prediction(uid='A12CC4FTM92QQY', iid='B00005AKBN', r_ui=3.914285714285714, est=3.9310911489691094, details={'actual_k': 1, 'was_impossible': False}),\n",
       " Prediction(uid='A3ICDLUQ3V2QY2', iid='B00000064G', r_ui=3.766554401032423, est=3.652021628679142, details={'was_impossible': True, 'reason': 'User and/or item is unknown.'}),\n",
       " Prediction(uid='A3ASUTW2OG0P6K', iid='B000003AEK', r_ui=4.2138447971781305, est=4.183798936760872, details={'actual_k': 2, 'was_impossible': False}),\n",
       " Prediction(uid='A2FVL5781WZDOE', iid='B00000253N', r_ui=4.188311688311689, est=3.806610281746254, details={'actual_k': 0, 'was_impossible': False}),\n",
       " Prediction(uid='A38NQGQW63IQJJ', iid='B000002J2S', r_ui=3.9736481772196055, est=3.652021628679142, details={'was_impossible': True, 'reason': 'User and/or item is unknown.'}),\n",
       " Prediction(uid='A200C7YQJ45LRR', iid='B00005QG9J', r_ui=3.631693529684601, est=3.343130164428352, details={'actual_k': 5, 'was_impossible': False}),\n",
       " Prediction(uid='A37Y9UJBF3C32C', iid='B000002IT2', r_ui=3.729645354645355, est=3.7874015723683674, details={'actual_k': 2, 'was_impossible': False}),\n",
       " Prediction(uid='A2C7BOQVFH1HLE', iid='B000002L7G', r_ui=3.9552847064751826, est=3.9163870224103263, details={'actual_k': 5, 'was_impossible': False}),\n",
       " Prediction(uid='A37OYVXR88JWQH', iid='B00000269M', r_ui=4.151049843014128, est=3.7122412570597745, details={'actual_k': 0, 'was_impossible': False}),\n",
       " Prediction(uid='A1WQNQAK4XJZL4', iid='B000006045', r_ui=3.7672268907563025, est=3.652021628679142, details={'was_impossible': True, 'reason': 'User and/or item is unknown.'}),\n",
       " Prediction(uid='A3SMV35531YME', iid='B000002GWZ', r_ui=3.8285714285714283, est=3.652021628679142, details={'was_impossible': True, 'reason': 'User and/or item is unknown.'}),\n",
       " Prediction(uid='A1ILBKPRXHOO8P', iid='B000069HKH', r_ui=3.7000166985589726, est=3.652021628679142, details={'was_impossible': True, 'reason': 'User and/or item is unknown.'}),\n",
       " Prediction(uid='A4OSXRZR2BMX8', iid='B000AU1NZQ', r_ui=3.560195896540434, est=3.6593672562330513, details={'actual_k': 2, 'was_impossible': False}),\n",
       " Prediction(uid='AKS4FTO63XVSC', iid='B0002A2WAO', r_ui=4.571428571428571, est=4.438308269405971, details={'actual_k': 5, 'was_impossible': False}),\n",
       " Prediction(uid='A2NLP8TW1TCKN3', iid='B000023VR6', r_ui=4.288355851599899, est=4.0133576082925115, details={'actual_k': 5, 'was_impossible': False}),\n",
       " Prediction(uid='A111K82VQPY91M', iid='B0001XANAS', r_ui=3.8333333333333335, est=4.050592156727242, details={'actual_k': 0, 'was_impossible': False}),\n",
       " Prediction(uid='A2T90CCCPWJN6R', iid='B000067CPX', r_ui=3.8934953934953933, est=3.631846439576492, details={'actual_k': 2, 'was_impossible': False}),\n",
       " Prediction(uid='A2UETHZQD3QWKY', iid='B000BOH8XW', r_ui=4.046594278737135, est=4.268525720383529, details={'actual_k': 1, 'was_impossible': False}),\n",
       " Prediction(uid='A3VXBO4QQX3ZG8', iid='B003V5PPZG', r_ui=4.136904761904762, est=3.445814840304904, details={'actual_k': 3, 'was_impossible': False}),\n",
       " Prediction(uid='AZ39SOZT3NZQU', iid='B0000028RR', r_ui=3.712121212121212, est=3.7179730761234935, details={'actual_k': 0, 'was_impossible': False}),\n",
       " Prediction(uid='A1SJ1GPWF60GU0', iid='B000197KVW', r_ui=3.3742301221563897, est=3.3987540923739394, details={'actual_k': 5, 'was_impossible': False}),\n",
       " Prediction(uid='A1P4J7OWPC305Z', iid='B0000039Q3', r_ui=3.0, est=3.9042457532704162, details={'actual_k': 2, 'was_impossible': False}),\n",
       " Prediction(uid='A1VWOF8RRU5QAA', iid='B00003NHAR', r_ui=3.645691609977324, est=3.737847325407663, details={'actual_k': 5, 'was_impossible': False}),\n",
       " Prediction(uid='ASSCA9IS0GWF5', iid='B00000253N', r_ui=3.785034013605442, est=3.457157090538474, details={'actual_k': 5, 'was_impossible': False}),\n",
       " Prediction(uid='A329U9CDUPKXAC', iid='B0000AGWEC', r_ui=3.896103896103896, est=3.5166591771210314, details={'actual_k': 2, 'was_impossible': False}),\n",
       " Prediction(uid='A2UXKWVHJ0JSHN', iid='B000AA303Y', r_ui=4.088095238095239, est=3.7819235389447154, details={'actual_k': 4, 'was_impossible': False}),\n",
       " Prediction(uid='AMP7TQRWAIE84', iid='B000AOENCM', r_ui=3.7371219483464384, est=3.5726171088635215, details={'actual_k': 5, 'was_impossible': False}),\n",
       " Prediction(uid='A1OBVBZ7BG6AS7', iid='B00064200S', r_ui=3.9104395604395603, est=3.5783241580138094, details={'actual_k': 0, 'was_impossible': False}),\n",
       " Prediction(uid='A5KJVGJ43ZDC9', iid='B000002AP1', r_ui=3.4682539682539684, est=3.4743823740217326, details={'actual_k': 2, 'was_impossible': False}),\n",
       " Prediction(uid='A1AMVA4R3G58TV', iid='B0000C6E4D', r_ui=3.7393939393939393, est=4.192248043338484, details={'actual_k': 5, 'was_impossible': False}),\n",
       " Prediction(uid='A13BP4NJEBZGEY', iid='B000000TDH', r_ui=4.057539682539683, est=3.9401305485986757, details={'actual_k': 1, 'was_impossible': False}),\n",
       " Prediction(uid='AVTZOXU568VNT', iid='B000002OVJ', r_ui=3.910543186971758, est=3.692450984979447, details={'actual_k': 1, 'was_impossible': False}),\n",
       " Prediction(uid='A36ONZ3LB9V7FO', iid='B00000064G', r_ui=3.612026862026862, est=3.7760010649854707, details={'actual_k': 2, 'was_impossible': False}),\n",
       " Prediction(uid='A35XFZN4MWNKK4', iid='B000002NJS', r_ui=3.928799270904534, est=4.006582873632362, details={'actual_k': 3, 'was_impossible': False}),\n",
       " Prediction(uid='AC51D84J636F', iid='B000003C3V', r_ui=3.602891156462585, est=3.652021628679142, details={'was_impossible': True, 'reason': 'User and/or item is unknown.'}),\n",
       " Prediction(uid='A31IHSADIIBY1T', iid='B00006M183', r_ui=3.9744543650793647, est=3.8512730785260416, details={'actual_k': 1, 'was_impossible': False}),\n",
       " Prediction(uid='A30RS83H5PAPP9', iid='B00006690F', r_ui=3.776455026455026, est=4.544085068515522, details={'actual_k': 3, 'was_impossible': False}),\n",
       " Prediction(uid='A3VSX2TJM78WMT', iid='B00005S7UE', r_ui=3.5714285714285716, est=3.6962596395148477, details={'actual_k': 1, 'was_impossible': False}),\n",
       " Prediction(uid='AWRGM17GTMND8', iid='B00006690F', r_ui=3.553751803751804, est=4.103586036318523, details={'actual_k': 3, 'was_impossible': False}),\n",
       " Prediction(uid='A1SNKXK0IGFS9E', iid='B004K4AUZW', r_ui=3.8366284013605445, est=3.546424929830364, details={'actual_k': 0, 'was_impossible': False}),\n",
       " Prediction(uid='A1Q1FK7FKS40WU', iid='B0002PD3HU', r_ui=3.911111111111111, est=3.3614155931611673, details={'actual_k': 2, 'was_impossible': False}),\n",
       " Prediction(uid='A19YHEBK099R7U', iid='B000OYC3J8', r_ui=4.128139717425432, est=3.2353989563147345, details={'actual_k': 4, 'was_impossible': False}),\n",
       " Prediction(uid='AVN00ASBFTMN6', iid='B000002P5W', r_ui=3.8987949662839205, est=3.9865382312246362, details={'actual_k': 0, 'was_impossible': False}),\n",
       " Prediction(uid='A32ABOAE37PVGI', iid='B000002KHB', r_ui=3.6365646258503403, est=3.794999702966526, details={'actual_k': 0, 'was_impossible': False}),\n",
       " Prediction(uid='AA83QXB39NF8B', iid='B004D1GZ2E', r_ui=4.3428571428571425, est=3.840575080966503, details={'actual_k': 0, 'was_impossible': False}),\n",
       " Prediction(uid='A2ULSA0IRUE09E', iid='B000H0MKGK', r_ui=2.4741940254362618, est=3.824941050881331, details={'actual_k': 5, 'was_impossible': False}),\n",
       " Prediction(uid='A1YQ6QB2127AJ4', iid='B00005YW4H', r_ui=4.138373531230673, est=3.919967727607886, details={'actual_k': 5, 'was_impossible': False}),\n",
       " Prediction(uid='A1BVCH82W0M2W2', iid='B00000D9TQ', r_ui=3.5843886961899387, est=3.76830830977681, details={'actual_k': 0, 'was_impossible': False}),\n",
       " Prediction(uid='A2RXC61UJQQSWZ', iid='B0000AGWFA', r_ui=3.5808823529411766, est=3.7106170639333387, details={'actual_k': 1, 'was_impossible': False}),\n",
       " Prediction(uid='A3ANEC5F6DK16S', iid='B0000C6E4D', r_ui=3.4519489025383616, est=3.652021628679142, details={'was_impossible': True, 'reason': 'User and/or item is unknown.'}),\n",
       " Prediction(uid='A3KJ6JAZPH382D', iid='B000002GWZ', r_ui=3.0592020592020592, est=3.2444892116522865, details={'actual_k': 5, 'was_impossible': False}),\n",
       " Prediction(uid='AGQEUU21DLZBH', iid='B0007TX894', r_ui=3.932557280118256, est=4.0575835761170005, details={'actual_k': 1, 'was_impossible': False}),\n",
       " Prediction(uid='A3HU0B9XUEVHIM', iid='B00000ADG2', r_ui=3.793027010095656, est=3.8563806427807608, details={'actual_k': 5, 'was_impossible': False}),\n",
       " Prediction(uid='A2XH04EO8WUYWM', iid='B00003IE26', r_ui=4.285714285714286, est=4.154748672257672, details={'actual_k': 4, 'was_impossible': False}),\n",
       " Prediction(uid='A3HTPZWRCB3OI1', iid='B00006690F', r_ui=2.7142857142857144, est=3.247619168112534, details={'actual_k': 5, 'was_impossible': False}),\n",
       " Prediction(uid='A23IOPI0D1OG7V', iid='B000002NJS', r_ui=3.943673469387755, est=3.5902228258475715, details={'actual_k': 5, 'was_impossible': False}),\n",
       " Prediction(uid='A1VFBYDCGS4OFK', iid='B000002L7G', r_ui=3.312743764172336, est=3.652021628679142, details={'was_impossible': True, 'reason': 'User and/or item is unknown.'}),\n",
       " Prediction(uid='A3A9HRF6U850GL', iid='B0000C421G', r_ui=3.6122448979591835, est=3.6886526625991944, details={'actual_k': 4, 'was_impossible': False}),\n",
       " Prediction(uid='A1FHZZ28OHTGR9', iid='B00006L7XQ', r_ui=4.021725417439703, est=3.9614133365603394, details={'actual_k': 1, 'was_impossible': False}),\n",
       " Prediction(uid='ATSULHQXHRGOV', iid='B00004UARR', r_ui=3.898448773448773, est=3.891377204128193, details={'actual_k': 0, 'was_impossible': False}),\n",
       " Prediction(uid='A20MFNB26O1T24', iid='B000021YQV', r_ui=3.8985367063492062, est=4.011250131222941, details={'actual_k': 2, 'was_impossible': False}),\n",
       " Prediction(uid='AAVT5R0F3J9XG', iid='B0006ZQ9BS', r_ui=3.495827008489346, est=3.3633046912300895, details={'actual_k': 2, 'was_impossible': False}),\n",
       " Prediction(uid='A1Z4C6XDXIZPZV', iid='B00002MZ4W', r_ui=4.087463556851311, est=4.090297875167121, details={'actual_k': 3, 'was_impossible': False}),\n",
       " Prediction(uid='A34JA73FX0Q7N5', iid='B00027JYOE', r_ui=3.8299319727891157, est=3.650876474160659, details={'actual_k': 5, 'was_impossible': False}),\n",
       " Prediction(uid='A1UH3S1GVFSMFH', iid='B00004Z41Q', r_ui=3.670881003916718, est=3.7991890140592335, details={'actual_k': 5, 'was_impossible': False}),\n",
       " Prediction(uid='A33TRNCQK4IUO7', iid='B000197KVW', r_ui=3.6086896197040255, est=3.5318256008993494, details={'actual_k': 5, 'was_impossible': False}),\n",
       " Prediction(uid='AGAMDS21PJZPK', iid='B000E0OEQC', r_ui=3.856223887694892, est=3.942472772035951, details={'actual_k': 5, 'was_impossible': False}),\n",
       " Prediction(uid='A3MISB22HHN0D2', iid='B000031XCY', r_ui=3.9506802721088436, est=2.7597769427901024, details={'actual_k': 4, 'was_impossible': False}),\n",
       " Prediction(uid='A25NMMI7AH30W2', iid='B00018D44U', r_ui=4.23191094619666, est=3.786532664998454, details={'actual_k': 4, 'was_impossible': False}),\n",
       " Prediction(uid='A12OSNCDUGRZMQ', iid='B00004X0Q0', r_ui=3.782621082621083, est=2.619670225943133, details={'actual_k': 1, 'was_impossible': False}),\n",
       " Prediction(uid='A24N1BAS3CU27H', iid='B0002U6GFQ', r_ui=3.7799916457811196, est=3.7819233937445667, details={'actual_k': 5, 'was_impossible': False}),\n",
       " Prediction(uid='APOGXH3A74CM3', iid='B000001EGC', r_ui=3.7261904761904767, est=3.6907071887139073, details={'actual_k': 2, 'was_impossible': False}),\n",
       " Prediction(uid='A3HTX1NOTTWERP', iid='B00000IAU3', r_ui=3.9777219324454345, est=4.0408661222692075, details={'actual_k': 5, 'was_impossible': False}),\n",
       " Prediction(uid='A2NG313A8LTHS9', iid='B000E0OEQC', r_ui=2.5858451072736788, est=2.925324535881169, details={'actual_k': 1, 'was_impossible': False}),\n",
       " Prediction(uid='A2FHTYO7IVH8C6', iid='B0000025F7', r_ui=3.7776785714285714, est=3.652021628679142, details={'was_impossible': True, 'reason': 'User and/or item is unknown.'}),\n",
       " Prediction(uid='A1RJJ56MBJMX87', iid='B000002KHB', r_ui=3.818824063142245, est=3.898094022448579, details={'actual_k': 1, 'was_impossible': False}),\n",
       " Prediction(uid='A2HRVVDJMY5M4Z', iid='B00009VRDI', r_ui=3.9547464440321582, est=3.474027071198778, details={'actual_k': 1, 'was_impossible': False}),\n",
       " Prediction(uid='A1OBVBZ7BG6AS7', iid='B0002A2WAO', r_ui=3.7018759018759018, est=3.708273425928729, details={'actual_k': 1, 'was_impossible': False}),\n",
       " Prediction(uid='A3PGGPL7FM9F81', iid='B000002GWZ', r_ui=3.0649221809936096, est=3.4863939486150706, details={'actual_k': 5, 'was_impossible': False}),\n",
       " Prediction(uid='A2UR38SZPVA07I', iid='B0000029AP', r_ui=3.7123420796890185, est=3.7386865418790434, details={'actual_k': 5, 'was_impossible': False}),\n",
       " Prediction(uid='AADJXNY9HSKJF', iid='B000000TDH', r_ui=3.793730158730159, est=3.8381574246087893, details={'actual_k': 5, 'was_impossible': False}),\n",
       " Prediction(uid='AE9GUE3HHOX3U', iid='B000FII324', r_ui=3.9013605442176873, est=3.805461953816312, details={'actual_k': 5, 'was_impossible': False}),\n",
       " Prediction(uid='A32JKNQ6BABMQ2', iid='B000002OPL', r_ui=3.8820346320346317, est=3.6718671531935034, details={'actual_k': 1, 'was_impossible': False}),\n",
       " Prediction(uid='A3RPXKTIUWREKD', iid='B0009VJWQS', r_ui=2.347113204256061, est=3.841837334247211, details={'actual_k': 4, 'was_impossible': False}),\n",
       " Prediction(uid='A2LTTAVX8XIGCQ', iid='B000001EW3', r_ui=2.670238095238095, est=3.718799902514395, details={'actual_k': 0, 'was_impossible': False}),\n",
       " Prediction(uid='A1SLDAO1VC9UTU', iid='B00000163G', r_ui=2.642857142857143, est=2.4702317180558144, details={'actual_k': 1, 'was_impossible': False}),\n",
       " Prediction(uid='A34Y1FT0MTD7C9', iid='B00000016W', r_ui=3.3684452947845807, est=3.969428377052727, details={'actual_k': 5, 'was_impossible': False}),\n",
       " Prediction(uid='A2WGCHELE4HFCA', iid='B0000646TK', r_ui=3.630952380952381, est=3.800855224364735, details={'actual_k': 5, 'was_impossible': False}),\n",
       " Prediction(uid='A1PN2U0AWXGVML', iid='B000002MUW', r_ui=3.2755102040816326, est=3.758094589294895, details={'actual_k': 3, 'was_impossible': False}),\n",
       " Prediction(uid='A12224Y2TZG4BY', iid='B00005YW4H', r_ui=3.788126159554731, est=2.643421190834201, details={'actual_k': 1, 'was_impossible': False}),\n",
       " Prediction(uid='A1OC3D2LGBFDJ4', iid='B0000DD7LC', r_ui=3.932312902045045, est=3.7473318130984743, details={'actual_k': 5, 'was_impossible': False}),\n",
       " Prediction(uid='AK1IRCJ6VRS8P', iid='B0000DD7LC', r_ui=3.928949357520786, est=3.3680603786145307, details={'actual_k': 4, 'was_impossible': False}),\n",
       " Prediction(uid='A1YQ6QB2127AJ4', iid='B0000646TK', r_ui=3.7172810033104153, est=3.8950293498785955, details={'actual_k': 5, 'was_impossible': False}),\n",
       " Prediction(uid='AR65QBP053S9L', iid='B0007TX894', r_ui=3.8153988868274586, est=3.9056607968880326, details={'actual_k': 1, 'was_impossible': False}),\n",
       " Prediction(uid='A152HV6669BVV6', iid='B00000J7JO', r_ui=3.6050505050505053, est=3.7694982419428427, details={'actual_k': 0, 'was_impossible': False}),\n",
       " Prediction(uid='A2PY7334HX7RJV', iid='B0012OVF2U', r_ui=3.7833333333333337, est=3.6004794950831793, details={'actual_k': 0, 'was_impossible': False}),\n",
       " Prediction(uid='A2X0B2YJ50W7HU', iid='B0000AGWFX', r_ui=3.6304918890633178, est=3.767040554413569, details={'actual_k': 5, 'was_impossible': False}),\n",
       " Prediction(uid='A2MMIZ653FBNPT', iid='B00005AAFJ', r_ui=2.775804204660588, est=3.4706144295618833, details={'actual_k': 1, 'was_impossible': False}),\n",
       " Prediction(uid='A12ZF9TZLGYG8X', iid='B00005O54Q', r_ui=4.135714285714286, est=4.177322472636192, details={'actual_k': 1, 'was_impossible': False}),\n",
       " Prediction(uid='A2WV1BVPR5YKFZ', iid='B000002KHB', r_ui=4.107142857142858, est=3.597081102058252, details={'actual_k': 1, 'was_impossible': False}),\n",
       " Prediction(uid='AJI80WO9V8V6S', iid='B0000025RI', r_ui=4.523809523809524, est=3.9546306369589894, details={'actual_k': 1, 'was_impossible': False}),\n",
       " Prediction(uid='A1QXDGCVJACNTD', iid='B00005K9KP', r_ui=3.683728036669213, est=3.4970751436480825, details={'actual_k': 3, 'was_impossible': False}),\n",
       " Prediction(uid='AMP7TQRWAIE84', iid='B000E0OEQC', r_ui=3.801541950113379, est=3.576838517701688, details={'actual_k': 5, 'was_impossible': False}),\n",
       " Prediction(uid='A7JRDNX3WOMTR', iid='B000069HKH', r_ui=3.8413394145537003, est=3.6431665243595996, details={'actual_k': 5, 'was_impossible': False}),\n",
       " Prediction(uid='A1Z6ZC5YJ52AF9', iid='B00008J4P5', r_ui=2.7545787545787546, est=3.027734534291455, details={'actual_k': 1, 'was_impossible': False}),\n",
       " Prediction(uid='AGEJE3WH26UBR', iid='B000001FZ6', r_ui=2.4236111111111107, est=3.652021628679142, details={'was_impossible': True, 'reason': 'User and/or item is unknown.'}),\n",
       " Prediction(uid='A14TAVG028YD6M', iid='B000002NJS', r_ui=4.0970388155262105, est=3.9194473471649456, details={'actual_k': 2, 'was_impossible': False}),\n",
       " Prediction(uid='A1Q7329LOIJG6M', iid='B000002KNO', r_ui=3.346320346320346, est=3.335381981438022, details={'actual_k': 2, 'was_impossible': False}),\n",
       " Prediction(uid='AMGGZCWY3VNZC', iid='B00006IU73', r_ui=3.605085780393662, est=3.652021628679142, details={'was_impossible': True, 'reason': 'User and/or item is unknown.'}),\n",
       " Prediction(uid='AJWIIPPWXH4U3', iid='B000002KH3', r_ui=4.06984126984127, est=3.8925091192243904, details={'actual_k': 0, 'was_impossible': False}),\n",
       " Prediction(uid='A59H9BL8L9Y4Z', iid='B000002UCL', r_ui=4.642857142857142, est=3.8910624488103136, details={'actual_k': 2, 'was_impossible': False}),\n",
       " Prediction(uid='A5WDJI6VT51TK', iid='B000002JAI', r_ui=3.1892857142857145, est=2.907645388960915, details={'actual_k': 2, 'was_impossible': False}),\n",
       " Prediction(uid='A3DWUM6SN3N3NR', iid='B00004Z41Q', r_ui=3.7723214285714284, est=3.683809764062073, details={'actual_k': 2, 'was_impossible': False}),\n",
       " Prediction(uid='A15Z2947ZA5TJF', iid='B003V5PPZG', r_ui=2.1607142857142856, est=2.24108361729032, details={'actual_k': 1, 'was_impossible': False}),\n",
       " Prediction(uid='A1V06100S71YU8', iid='B000084T18', r_ui=4.0166396103896105, est=3.504108829179237, details={'actual_k': 2, 'was_impossible': False}),\n",
       " Prediction(uid='A13FBTZ8SO8T3D', iid='B00006IU73', r_ui=3.9738713667285097, est=3.917947180464399, details={'actual_k': 1, 'was_impossible': False}),\n",
       " Prediction(uid='A2XLYYVLHE3LKW', iid='B0009SCVTG', r_ui=3.3850127551020406, est=3.566589987383012, details={'actual_k': 1, 'was_impossible': False}),\n",
       " Prediction(uid='A3R8PXSFGY9MC2', iid='B00000DGUG', r_ui=3.1417513645774515, est=3.686380636615819, details={'actual_k': 5, 'was_impossible': False}),\n",
       " Prediction(uid='A39RJX5CACOOIY', iid='B00000J7JO', r_ui=3.1362749948464232, est=4.013229351554171, details={'actual_k': 3, 'was_impossible': False}),\n",
       " Prediction(uid='A26R1W3MKYULOX', iid='B000002UCL', r_ui=3.9687035733833764, est=3.9957163443999564, details={'actual_k': 1, 'was_impossible': False}),\n",
       " Prediction(uid='A12W8NRSYR593I', iid='B000001A5X', r_ui=4.1, est=3.882348320758374, details={'actual_k': 0, 'was_impossible': False}),\n",
       " Prediction(uid='A26E0QSGICNIK8', iid='B0000029DD', r_ui=3.942517006802721, est=3.320316988849702, details={'actual_k': 2, 'was_impossible': False}),\n",
       " Prediction(uid='A467QR5AKOIW3', iid='B00008H2LB', r_ui=3.5837912087912085, est=3.3325991790134744, details={'actual_k': 2, 'was_impossible': False}),\n",
       " Prediction(uid='AB2AQMK9PCWWX', iid='B00000DFRS', r_ui=3.8371985157699444, est=3.4219851200159876, details={'actual_k': 5, 'was_impossible': False}),\n",
       " Prediction(uid='A1ZFWU0DQCPKIJ', iid='B0000029AN', r_ui=3.6190476190476195, est=3.3669184673820762, details={'actual_k': 1, 'was_impossible': False}),\n",
       " Prediction(uid='A3DWUM6SN3N3NR', iid='B0000AGWFX', r_ui=4.289285714285715, est=3.855116865261759, details={'actual_k': 5, 'was_impossible': False}),\n",
       " Prediction(uid='A2DOC3GGT230O6', iid='B000001F66', r_ui=3.8542857142857145, est=3.8171211358909747, details={'actual_k': 0, 'was_impossible': False}),\n",
       " Prediction(uid='A3NLQ41U1Z5IQ2', iid='B00016XMOE', r_ui=3.7959183673469385, est=3.362446525800352, details={'actual_k': 3, 'was_impossible': False}),\n",
       " Prediction(uid='A3CRB8AHFDKWP4', iid='B0000TAZS8', r_ui=3.6869769119769122, est=3.378360955211596, details={'actual_k': 4, 'was_impossible': False}),\n",
       " Prediction(uid='A8M4WE1MT4R4O', iid='B00004R7SN', r_ui=3.25, est=3.128272108997072, details={'actual_k': 2, 'was_impossible': False}),\n",
       " Prediction(uid='A30JGXL2O6C64S', iid='B00006690F', r_ui=3.381868131868132, est=2.915745363974841, details={'actual_k': 2, 'was_impossible': False}),\n",
       " Prediction(uid='A39KOJG83K8F1U', iid='B000002KNO', r_ui=3.8244897959183675, est=3.443742465223163, details={'actual_k': 0, 'was_impossible': False}),\n",
       " Prediction(uid='A1YQ6QB2127AJ4', iid='B00005QDVS', r_ui=3.962244897959184, est=4.027577956152898, details={'actual_k': 5, 'was_impossible': False}),\n",
       " Prediction(uid='A2ID4IRSPV8ONE', iid='B00008OWZE', r_ui=2.3320105820105823, est=3.0819757075065066, details={'actual_k': 2, 'was_impossible': False}),\n",
       " Prediction(uid='A4PPZNQF1X2IY', iid='B00000253N', r_ui=4.107142857142858, est=3.806610281746254, details={'actual_k': 0, 'was_impossible': False}),\n",
       " Prediction(uid='A3K6ZF5EEO9QCD', iid='B00006ZCFI', r_ui=2.417989417989418, est=3.593291550668271, details={'actual_k': 2, 'was_impossible': False}),\n",
       " Prediction(uid='ABS3C0BMVW7RK', iid='B000197KVW', r_ui=4.105654761904763, est=2.770863195396488, details={'actual_k': 3, 'was_impossible': False}),\n",
       " Prediction(uid='A14NPAF8OQOSSL', iid='B00065XJ52', r_ui=2.8361626468769323, est=2.8736615588698973, details={'actual_k': 1, 'was_impossible': False}),\n",
       " Prediction(uid='A3G08SM0NRGQ8I', iid='B0000029AN', r_ui=3.3809523809523805, est=3.888686627484435, details={'actual_k': 2, 'was_impossible': False}),\n",
       " Prediction(uid='A97B72F4UI8FA', iid='B00008VOQM', r_ui=3.690251307134424, est=3.5064752158502794, details={'actual_k': 5, 'was_impossible': False}),\n",
       " Prediction(uid='A1BJJVV2B5VLUQ', iid='B000002KNO', r_ui=3.113071008593397, est=3.4611483984658107, details={'actual_k': 5, 'was_impossible': False}),\n",
       " Prediction(uid='A3UI85DYGMDA15', iid='B000002C2E', r_ui=3.7562129228795897, est=3.619398199316749, details={'actual_k': 3, 'was_impossible': False}),\n",
       " Prediction(uid='A59H9BL8L9Y4Z', iid='B0002X314C', r_ui=4.571428571428571, est=4.260120783324992, details={'actual_k': 1, 'was_impossible': False}),\n",
       " Prediction(uid='AA83QXB39NF8B', iid='B000001EG2', r_ui=3.9047619047619047, est=4.439732306829169, details={'actual_k': 2, 'was_impossible': False}),\n",
       " Prediction(uid='A1GN8UJIZLCA59', iid='B00000016W', r_ui=4.115922437351009, est=3.9516607370919297, details={'actual_k': 5, 'was_impossible': False}),\n",
       " Prediction(uid='A1BJJVV2B5VLUQ', iid='B00000272N', r_ui=3.357738095238095, est=3.8652760739691745, details={'actual_k': 5, 'was_impossible': False}),\n",
       " Prediction(uid='A7JRDNX3WOMTR', iid='B000002OPL', r_ui=3.9838835534213684, est=3.671587457805679, details={'actual_k': 5, 'was_impossible': False}),\n",
       " Prediction(uid='A2CHV3M1UR42KJ', iid='B00007KK7V', r_ui=3.5125434618291758, est=3.5508884469653923, details={'actual_k': 1, 'was_impossible': False}),\n",
       " Prediction(uid='A1OI92E32SOMBJ', iid='B003KUSUG8', r_ui=4.214285714285714, est=4.240601689893039, details={'actual_k': 2, 'was_impossible': False}),\n",
       " Prediction(uid='A2RQQPP34JDWPR', iid='B0009G3BWE', r_ui=2.9404761904761902, est=2.520694119736449, details={'actual_k': 3, 'was_impossible': False}),\n",
       " Prediction(uid='A1N7CICSBMIQXK', iid='B0009SCVTG', r_ui=3.4367112054612052, est=3.650506970696327, details={'actual_k': 3, 'was_impossible': False}),\n",
       " Prediction(uid='A22VNXHU6IZ5MT', iid='B000002OPL', r_ui=4.484848484848484, est=4.306903341280091, details={'actual_k': 5, 'was_impossible': False}),\n",
       " Prediction(uid='A6P1YY7PJVO3K', iid='B000002OPL', r_ui=3.9943977591036415, est=3.889191720654043, details={'actual_k': 0, 'was_impossible': False}),\n",
       " Prediction(uid='A2PV6GK1HV54Y9', iid='B00002MZ4W', r_ui=3.110235003092146, est=3.6857150958282183, details={'actual_k': 5, 'was_impossible': False}),\n",
       " Prediction(uid='A2CEIVPX763WBQ', iid='B000UMQDHC', r_ui=3.859447004608295, est=3.9211425319214954, details={'actual_k': 2, 'was_impossible': False}),\n",
       " Prediction(uid='A21HJFSY4LT8KP', iid='B00018D44U', r_ui=3.528613000755858, est=4.245348393729447, details={'actual_k': 4, 'was_impossible': False}),\n",
       " Prediction(uid='A2E5SIA2VXQ9TU', iid='B00000DGUG', r_ui=4.244047619047619, est=4.11172296876379, details={'actual_k': 2, 'was_impossible': False}),\n",
       " Prediction(uid='AQZE4MMQMDKPB', iid='B0009SCVTG', r_ui=3.447089947089947, est=2.8753602947920043, details={'actual_k': 5, 'was_impossible': False}),\n",
       " Prediction(uid='A1RDO6YKNX3RB8', iid='B000N2G3RY', r_ui=4.047920781215712, est=3.625801966461407, details={'actual_k': 0, 'was_impossible': False}),\n",
       " Prediction(uid='A37JDICAXMZ2AZ', iid='B0002U6GFQ', r_ui=3.7569573283859, est=3.585230097804793, details={'actual_k': 1, 'was_impossible': False}),\n",
       " Prediction(uid='A2JV4Z6US6BA4O', iid='B00008J4P5', r_ui=3.7431988894042467, est=3.652021628679142, details={'was_impossible': True, 'reason': 'User and/or item is unknown.'}),\n",
       " Prediction(uid='A2KF6R00AI5QYU', iid='B00005O54Q', r_ui=3.6228805916305915, est=3.9018193192165294, details={'actual_k': 3, 'was_impossible': False}),\n",
       " Prediction(uid='A3HCY89ISEIF0J', iid='B0002IQHBQ', r_ui=3.978794642857143, est=3.8142791622393073, details={'actual_k': 2, 'was_impossible': False}),\n",
       " Prediction(uid='A8U8JSMH2IA2T', iid='B0000DFZZA', r_ui=3.96231884057971, est=4.187756238924299, details={'actual_k': 3, 'was_impossible': False}),\n",
       " Prediction(uid='AGM907X0URUZZ', iid='B000001FZ6', r_ui=3.9098639455782314, est=3.881461096852083, details={'actual_k': 2, 'was_impossible': False}),\n",
       " Prediction(uid='A2LSWBBCLW87LW', iid='B004NSULHM', r_ui=2.983843537414966, est=3.17608892909285, details={'actual_k': 1, 'was_impossible': False}),\n",
       " Prediction(uid='ALQ90GSQXWB68', iid='B00008OWZE', r_ui=3.49781179138322, est=3.428168453069919, details={'actual_k': 0, 'was_impossible': False}),\n",
       " Prediction(uid='A20DZX38KRBIT8', iid='B0000CD5FR', r_ui=2.428571428571429, est=2.539767249589584, details={'actual_k': 3, 'was_impossible': False}),\n",
       " Prediction(uid='A2QS7KCOAR5W3', iid='B0000029AP', r_ui=4.678571428571429, est=4.154676567174198, details={'actual_k': 1, 'was_impossible': False}),\n",
       " Prediction(uid='A265PUDS1OGQYB', iid='B000023VR6', r_ui=3.959750566893424, est=4.045107897220785, details={'actual_k': 2, 'was_impossible': False}),\n",
       " Prediction(uid='ADXP05MY5KQC7', iid='B00097A5H2', r_ui=3.6285714285714286, est=3.791638929566496, details={'actual_k': 1, 'was_impossible': False}),\n",
       " Prediction(uid='A36GOF4OEH4I1Y', iid='B000084T18', r_ui=3.866728939050368, est=4.045450728342985, details={'actual_k': 3, 'was_impossible': False}),\n",
       " Prediction(uid='A3DREKLCS81MNT', iid='B000001A5X', r_ui=4.476190476190476, est=3.882348320758374, details={'actual_k': 0, 'was_impossible': False}),\n",
       " Prediction(uid='A14GK0E64J0WAS', iid='B0002PD3HU', r_ui=3.751027724401449, est=3.674346804188013, details={'actual_k': 5, 'was_impossible': False}),\n",
       " Prediction(uid='A2KOUUPW3MB2W3', iid='B003V5PPZG', r_ui=2.959199584199584, est=3.652021628679142, details={'was_impossible': True, 'reason': 'User and/or item is unknown.'}),\n",
       " Prediction(uid='A10CBLMJD1OQL7', iid='B000002JAI', r_ui=3.2083333333333335, est=3.969127926471456, details={'actual_k': 2, 'was_impossible': False}),\n",
       " Prediction(uid='ARFRYHIVP6VPP', iid='B00006690F', r_ui=2.615079365079365, est=3.722049795043882, details={'actual_k': 1, 'was_impossible': False}),\n",
       " Prediction(uid='A25LSMOXW6PEX0', iid='B00008J4P5', r_ui=2.2201914098972924, est=3.8652123435366827, details={'actual_k': 1, 'was_impossible': False}),\n",
       " Prediction(uid='A23F0RW1RUBBDF', iid='B000EMGAOY', r_ui=3.740376916316766, est=3.6824813841650346, details={'actual_k': 0, 'was_impossible': False}),\n",
       " Prediction(uid='A2K150EBPF8LT7', iid='B000003B6J', r_ui=3.9559044130472705, est=3.906714285529783, details={'actual_k': 5, 'was_impossible': False}),\n",
       " Prediction(uid='A97B72F4UI8FA', iid='B000002VT6', r_ui=3.754599567099567, est=3.6079050577206795, details={'actual_k': 4, 'was_impossible': False}),\n",
       " Prediction(uid='A3C6ZCBUNXUT7V', iid='B000001Y15', r_ui=3.659758965314521, est=3.8736396335048764, details={'actual_k': 5, 'was_impossible': False}),\n",
       " Prediction(uid='A233VBFKZZIEDD', iid='B00027JYOE', r_ui=3.005342136854742, est=2.9454965207201247, details={'actual_k': 1, 'was_impossible': False}),\n",
       " Prediction(uid='A32JZ9XNHMNWOO', iid='B00001IVJS', r_ui=3.77637987012987, est=3.4135418465878846, details={'actual_k': 1, 'was_impossible': False}),\n",
       " Prediction(uid='A3FSK82Z5ZI4PK', iid='B003WTE886', r_ui=4.146428571428571, est=4.178391686697822, details={'actual_k': 2, 'was_impossible': False}),\n",
       " Prediction(uid='A12OSNCDUGRZMQ', iid='B00005ICAW', r_ui=2.4958814333814336, est=3.453157538939089, details={'actual_k': 0, 'was_impossible': False}),\n",
       " Prediction(uid='AFTN9ZLB22PSZ', iid='B000084T18', r_ui=3.540585387957356, est=3.5886576219047654, details={'actual_k': 4, 'was_impossible': False}),\n",
       " Prediction(uid='A17GMVWZ29KJIO', iid='B00000FCBH', r_ui=4.233819241982507, est=4.41031573561766, details={'actual_k': 2, 'was_impossible': False}),\n",
       " Prediction(uid='A3K51Z8GYTWAEE', iid='B00004R7SN', r_ui=3.6959622558700898, est=3.652021628679142, details={'was_impossible': True, 'reason': 'User and/or item is unknown.'}),\n",
       " Prediction(uid='A2HWD9PTM7RBXN', iid='B00004S36A', r_ui=4.090419501133787, est=3.755667368347421, details={'actual_k': 5, 'was_impossible': False}),\n",
       " Prediction(uid='A2MGMBB5F9NED', iid='B0000TAZS8', r_ui=2.038657770800628, est=2.11290476383179, details={'actual_k': 5, 'was_impossible': False}),\n",
       " Prediction(uid='A2J92C3H4XRER9', iid='B000002LQR', r_ui=3.238095238095238, est=3.652021628679142, details={'was_impossible': True, 'reason': 'User and/or item is unknown.'}),\n",
       " Prediction(uid='ANTOY11LF35W5', iid='B00006JO3X', r_ui=4.354910714285714, est=4.0238738081499665, details={'actual_k': 1, 'was_impossible': False}),\n",
       " Prediction(uid='ARPRJZSXOZO2V', iid='B00002MZ4W', r_ui=3.9818376068376073, est=3.909797704045924, details={'actual_k': 2, 'was_impossible': False}),\n",
       " Prediction(uid='A23KAWGZ4RE1RI', iid='B00002MZ4W', r_ui=3.9536951144094, est=3.813254264330416, details={'actual_k': 5, 'was_impossible': False}),\n",
       " Prediction(uid='AQI2CW6UKF1ES', iid='B00005O6IR', r_ui=3.449079631852741, est=3.2010258119228365, details={'actual_k': 5, 'was_impossible': False}),\n",
       " Prediction(uid='A1E3N1GKATTQ0', iid='B000001Y15', r_ui=4.107142857142858, est=4.1877655313642075, details={'actual_k': 1, 'was_impossible': False}),\n",
       " Prediction(uid='AGOIS4LC6AY9I', iid='B000EU1KRS', r_ui=3.577922077922078, est=3.655214405641665, details={'actual_k': 5, 'was_impossible': False}),\n",
       " Prediction(uid='A3HZ1R0V1XYN47', iid='B000031XCY', r_ui=3.749971929779622, est=3.652021628679142, details={'was_impossible': True, 'reason': 'User and/or item is unknown.'}),\n",
       " Prediction(uid='AYOO12C9Y2T95', iid='B00000D9TQ', r_ui=3.2664718970137687, est=3.728513197775639, details={'actual_k': 5, 'was_impossible': False}),\n",
       " Prediction(uid='AO5KYW6F08NB0', iid='B000002MFN', r_ui=3.9247448979591835, est=3.8887686058527073, details={'actual_k': 2, 'was_impossible': False}),\n",
       " Prediction(uid='AEMZRE6QYVQBS', iid='B000002J2S', r_ui=3.4853896103896105, est=3.7607394506237797, details={'actual_k': 2, 'was_impossible': False}),\n",
       " Prediction(uid='A3RSO2MXIZA9EB', iid='B004NSULHM', r_ui=2.777551020408163, est=3.509873936049455, details={'actual_k': 2, 'was_impossible': False}),\n",
       " Prediction(uid='ADSARUF1MIGA0', iid='B000035X1M', r_ui=4.141774891774892, est=3.652021628679142, details={'was_impossible': True, 'reason': 'User and/or item is unknown.'}),\n",
       " Prediction(uid='A3TZV5SXQ8F6ST', iid='B000002PD8', r_ui=3.516369047619048, est=3.852173420664488, details={'actual_k': 2, 'was_impossible': False}),\n",
       " Prediction(uid='A38ZTXT2TNQ02C', iid='B000003AEK', r_ui=3.953311239025525, est=3.6897697142836337, details={'actual_k': 1, 'was_impossible': False}),\n",
       " Prediction(uid='A14GK0E64J0WAS', iid='B000002UCL', r_ui=4.002827104867921, est=3.8313823967091913, details={'actual_k': 5, 'was_impossible': False}),\n",
       " Prediction(uid='A17QYYGT3C1EPT', iid='B00005NHJS', r_ui=3.5, est=3.652021628679142, details={'was_impossible': True, 'reason': 'User and/or item is unknown.'}),\n",
       " Prediction(uid='A13FKUDRI0R54U', iid='B000FII324', r_ui=3.506654514467015, est=3.7907030212896187, details={'actual_k': 4, 'was_impossible': False}),\n",
       " Prediction(uid='A29ZCVZWIWZBCH', iid='B000001A5X', r_ui=4.074073169937832, est=4.016558885877827, details={'actual_k': 5, 'was_impossible': False}),\n",
       " Prediction(uid='A2PVGYO5Q57CIE', iid='B000050HS9', r_ui=3.287277537277537, est=3.9686259361848446, details={'actual_k': 4, 'was_impossible': False}),\n",
       " Prediction(uid='A26CFXF9STXT8P', iid='B00005K9KP', r_ui=3.4554473304473308, est=3.399308915719024, details={'actual_k': 1, 'was_impossible': False}),\n",
       " Prediction(uid='AIQ9OJCQA3TOC', iid='B000001Y15', r_ui=3.715831043956044, est=3.9372764497402124, details={'actual_k': 4, 'was_impossible': False}),\n",
       " Prediction(uid='A240NZFGUFSUUZ', iid='B000084T18', r_ui=2.410296846011132, est=2.6372188085384014, details={'actual_k': 3, 'was_impossible': False}),\n",
       " Prediction(uid='A4PTUEVFE13K6', iid='B000002LGQ', r_ui=3.7655829773769973, est=3.8825424753936915, details={'actual_k': 0, 'was_impossible': False}),\n",
       " Prediction(uid='A23GFTVIETX7DS', iid='B0000025BA', r_ui=3.8880151234047338, est=4.048843464954963, details={'actual_k': 1, 'was_impossible': False}),\n",
       " Prediction(uid='A13Q6DZC1WZ9K6', iid='B0002X314C', r_ui=3.5654714850367024, est=3.93434488904057, details={'actual_k': 1, 'was_impossible': False}),\n",
       " Prediction(uid='A2U61SOPY6RLPV', iid='B0007NFL18', r_ui=2.787414965986395, est=3.5949339236960784, details={'actual_k': 3, 'was_impossible': False}),\n",
       " Prediction(uid='A1WWDFQ8HSKT0', iid='B000002MUW', r_ui=4.067458874458875, est=3.833828628375073, details={'actual_k': 1, 'was_impossible': False}),\n",
       " Prediction(uid='A37AG6MLKV3V0Q', iid='B000084T18', r_ui=2.829901960784314, est=2.6184224163421232, details={'actual_k': 5, 'was_impossible': False}),\n",
       " Prediction(uid='A3W4D8XOGLWUN5', iid='B000H7JDVI', r_ui=3.770222832722833, est=3.192544022641996, details={'actual_k': 3, 'was_impossible': False}),\n",
       " Prediction(uid='A3REFBIIQDAH8N', iid='B00006690F', r_ui=2.457875457875458, est=3.4748715242167294, details={'actual_k': 0, 'was_impossible': False}),\n",
       " Prediction(uid='A3R75H3IPPC2UX', iid='B0000013GH', r_ui=4.23968253968254, est=3.825811992277979, details={'actual_k': 0, 'was_impossible': False}),\n",
       " Prediction(uid='A23F0RW1RUBBDF', iid='B000002LBM', r_ui=3.8223356009070293, est=3.9638308973613823, details={'actual_k': 2, 'was_impossible': False}),\n",
       " Prediction(uid='A17LSEN4UY4XZQ', iid='B00009LI14', r_ui=3.3968104785773963, est=3.6283928893836492, details={'actual_k': 0, 'was_impossible': False}),\n",
       " Prediction(uid='A3SFEMQR7HHP1T', iid='B00006ZCFI', r_ui=2.8313492063492065, est=3.499485037327676, details={'actual_k': 2, 'was_impossible': False}),\n",
       " Prediction(uid='A1X93ES4DITTWK', iid='B000FII324', r_ui=2.368378684807256, est=3.3949841164549164, details={'actual_k': 5, 'was_impossible': False}),\n",
       " Prediction(uid='A8SCX6VUTE05H', iid='B00027JYOE', r_ui=3.4599159108087676, est=2.8395577101127745, details={'actual_k': 5, 'was_impossible': False}),\n",
       " Prediction(uid='A4BK54P0D1GOS', iid='B00065JTAQ', r_ui=3.3157666894509, est=3.44513994446392, details={'actual_k': 0, 'was_impossible': False}),\n",
       " Prediction(uid='A181XX482ANOFM', iid='B0000CD5FR', r_ui=4.002991471430009, est=3.652021628679142, details={'was_impossible': True, 'reason': 'User and/or item is unknown.'}),\n",
       " Prediction(uid='A2S7XWDFR9GSPZ', iid='B000NVIXFK', r_ui=3.955952380952381, est=3.6234951345288833, details={'actual_k': 1, 'was_impossible': False}),\n",
       " Prediction(uid='A1IO3LVYV5ZMK8', iid='B00005YW4H', r_ui=3.5519179894179893, est=3.609241376409245, details={'actual_k': 3, 'was_impossible': False}),\n",
       " Prediction(uid='A30Z8BPNZV7OZ1', iid='B000BNTM32', r_ui=3.7341597796143255, est=3.3162036172153044, details={'actual_k': 1, 'was_impossible': False}),\n",
       " Prediction(uid='AB2ZW5W2HT0EY', iid='B000AGTQKY', r_ui=3.580686377114948, est=4.071142732381997, details={'actual_k': 2, 'was_impossible': False}),\n",
       " Prediction(uid='A17ZLPBIOB6GB8', iid='B000NVIXFK', r_ui=2.818538743622449, est=3.6927159255277635, details={'actual_k': 0, 'was_impossible': False}),\n",
       " Prediction(uid='A307SG5H71W726', iid='B004NSULHM', r_ui=3.8323412698412698, est=3.4662373617530133, details={'actual_k': 0, 'was_impossible': False}),\n",
       " Prediction(uid='A34JA73FX0Q7N5', iid='B0002IQHBQ', r_ui=3.597402597402597, est=3.630285084303881, details={'actual_k': 3, 'was_impossible': False}),\n",
       " Prediction(uid='A2D4ILAR89US41', iid='B000003C3V', r_ui=3.631746031746032, est=3.725957479276033, details={'actual_k': 5, 'was_impossible': False}),\n",
       " Prediction(uid='A33R34S1ZYG9XE', iid='B000001EW3', r_ui=4.002186588921283, est=4.025119615998179, details={'actual_k': 2, 'was_impossible': False}),\n",
       " Prediction(uid='A1VABWDOUQLULZ', iid='B0000CC6QG', r_ui=3.7420634920634916, est=3.262370259985354, details={'actual_k': 4, 'was_impossible': False}),\n",
       " Prediction(uid='A3075RVSKC27HU', iid='B000002AP1', r_ui=3.090767784846732, est=3.693729848900098, details={'actual_k': 5, 'was_impossible': False}),\n",
       " Prediction(uid='AZ4VKFF136FKR', iid='B000002GK1', r_ui=4.357142857142858, est=3.8227692589761713, details={'actual_k': 0, 'was_impossible': False}),\n",
       " Prediction(uid='A32DTCFBBB9WIV', iid='B000069HKH', r_ui=3.6446912736386423, est=2.6630901599860786, details={'actual_k': 1, 'was_impossible': False}),\n",
       " Prediction(uid='A2IUOJVG32WJOR', iid='B000FPYNQW', r_ui=3.461038961038961, est=3.5121046837820145, details={'actual_k': 0, 'was_impossible': False}),\n",
       " Prediction(uid='A3OM5A0I7K13G9', iid='B000002KH3', r_ui=4.583333333333334, est=3.1681406938561687, details={'actual_k': 3, 'was_impossible': False}),\n",
       " Prediction(uid='A2BO41VARYGTAC', iid='B00000269M', r_ui=3.4489795918367347, est=3.803067846548116, details={'actual_k': 5, 'was_impossible': False}),\n",
       " Prediction(uid='A5DIAZ5GT3MC', iid='B0006ZQ9BS', r_ui=3.1941428196623, est=3.2599793934219994, details={'actual_k': 5, 'was_impossible': False}),\n",
       " Prediction(uid='A2ASIT0JYIGHTA', iid='B000001A6N', r_ui=3.761904761904762, est=3.658017284771825, details={'actual_k': 3, 'was_impossible': False}),\n",
       " Prediction(uid='A2LFLKFE3B0PSA', iid='B000BLI4UG', r_ui=4.277777777777778, est=3.5875628029783106, details={'actual_k': 5, 'was_impossible': False}),\n",
       " Prediction(uid='AL7LEBKKW8XCC', iid='B000002GK1', r_ui=4.0, est=3.9803822186132285, details={'actual_k': 5, 'was_impossible': False}),\n",
       " Prediction(uid='A23IOPI0D1OG7V', iid='B000001A5X', r_ui=3.784989648033126, est=3.936471434897159, details={'actual_k': 5, 'was_impossible': False}),\n",
       " Prediction(uid='A36489F4G8T4E7', iid='B00003NHAR', r_ui=2.445887445887446, est=2.3494255825757886, details={'actual_k': 5, 'was_impossible': False}),\n",
       " Prediction(uid='AFTN9ZLB22PSZ', iid='B000002WR5', r_ui=3.7690314850178797, est=3.9239510523750343, details={'actual_k': 5, 'was_impossible': False}),\n",
       " Prediction(uid='A3W4D8XOGLWUN5', iid='B0012OVF2U', r_ui=3.6716453247965855, est=3.915504518639703, details={'actual_k': 1, 'was_impossible': False}),\n",
       " Prediction(uid='A37HCSGGRH8UO6', iid='B0000BWVLM', r_ui=2.458767361111111, est=3.978070699101323, details={'actual_k': 5, 'was_impossible': False}),\n",
       " Prediction(uid='A3RQ0VN4KUKH8G', iid='B000NVIXFK', r_ui=4.571428571428571, est=4.080705753151332, details={'actual_k': 1, 'was_impossible': False}),\n",
       " Prediction(uid='A3W4D8XOGLWUN5', iid='B000002AV5', r_ui=4.068295739348371, est=3.6082516164979253, details={'actual_k': 4, 'was_impossible': False}),\n",
       " Prediction(uid='A3O1N2A3CZS772', iid='B0001Z53AQ', r_ui=3.454203109815355, est=3.309519424559309, details={'actual_k': 3, 'was_impossible': False}),\n",
       " Prediction(uid='AD0FOYVI4UZVP', iid='B000001EW3', r_ui=4.102763122294372, est=3.923290457103484, details={'actual_k': 1, 'was_impossible': False}),\n",
       " Prediction(uid='AF349JR6MDNWA', iid='B00005K9KP', r_ui=3.3612471956068015, est=3.652021628679142, details={'was_impossible': True, 'reason': 'User and/or item is unknown.'}),\n",
       " Prediction(uid='A14HCEU8BBAJ7I', iid='B000002OPL', r_ui=4.063079777365491, est=3.8232838401923894, details={'actual_k': 3, 'was_impossible': False}),\n",
       " Prediction(uid='AW7CV7F94ULDU', iid='B0000025F7', r_ui=3.6761904761904765, est=3.964404783390124, details={'actual_k': 3, 'was_impossible': False}),\n",
       " Prediction(uid='ADFXJSLJGN6EN', iid='B000002OPL', r_ui=3.6267006802721085, est=3.5307933178993434, details={'actual_k': 2, 'was_impossible': False}),\n",
       " Prediction(uid='A2HW6URUDFZ0Z9', iid='B00005YW4H', r_ui=3.91156462585034, est=3.116134850112285, details={'actual_k': 2, 'was_impossible': False}),\n",
       " Prediction(uid='A2KYS0JR501ECX', iid='B00005K9KP', r_ui=3.3453389830508473, est=3.6812873917835263, details={'actual_k': 1, 'was_impossible': False}),\n",
       " Prediction(uid='A3HQ07XPJJZQGN', iid='B0000039QA', r_ui=3.291801948051948, est=3.4903570946374254, details={'actual_k': 5, 'was_impossible': False}),\n",
       " Prediction(uid='A25CQTB313XDWO', iid='B000002LFZ', r_ui=3.7542562479537267, est=3.7366788620008937, details={'actual_k': 5, 'was_impossible': False}),\n",
       " Prediction(uid='A288SXRFQA42XE', iid='B000001EW3', r_ui=3.8956511175898934, est=4.252614203749043, details={'actual_k': 2, 'was_impossible': False}),\n",
       " Prediction(uid='A280KHZO2L7GKA', iid='B004K4AUZW', r_ui=2.75, est=3.4796853484553787, details={'actual_k': 1, 'was_impossible': False}),\n",
       " Prediction(uid='A2P6BG1S90W5F5', iid='B00006690F', r_ui=3.8127572016460904, est=3.550294270144601, details={'actual_k': 3, 'was_impossible': False}),\n",
       " Prediction(uid='A1GN8UJIZLCA59', iid='B000028U0Y', r_ui=3.8523809523809525, est=3.8341493617711855, details={'actual_k': 5, 'was_impossible': False}),\n",
       " Prediction(uid='A1JRHL29A1ABOT', iid='B002DSM8UC', r_ui=4.065696649029983, est=3.5383963409480153, details={'actual_k': 5, 'was_impossible': False}),\n",
       " Prediction(uid='A31RP6XY9IESQ5', iid='B00014TQ7S', r_ui=4.053113553113553, est=4.074258001327303, details={'actual_k': 3, 'was_impossible': False}),\n",
       " Prediction(uid='A28OGM5C71B1XD', iid='B000001EGA', r_ui=3.4754464285714284, est=3.8359872719120585, details={'actual_k': 0, 'was_impossible': False}),\n",
       " Prediction(uid='A99FG0FGT85V9', iid='B0000CC6QG', r_ui=3.9616402116402116, est=3.5539933188234136, details={'actual_k': 4, 'was_impossible': False}),\n",
       " Prediction(uid='A28FNKCGFS03VL', iid='B0000013GH', r_ui=3.4457482993197277, est=3.9424601349852177, details={'actual_k': 3, 'was_impossible': False}),\n",
       " Prediction(uid='A31H7O4QPP9CHO', iid='B000BLI4UG', r_ui=4.28917638483965, est=3.0802817383247434, details={'actual_k': 2, 'was_impossible': False}),\n",
       " Prediction(uid='A38T0YN4VC4ZIE', iid='B000002IOW', r_ui=3.4665532879818595, est=3.965402061360084, details={'actual_k': 3, 'was_impossible': False}),\n",
       " Prediction(uid='A3T5ES5LR4DIVM', iid='B000OQF6N6', r_ui=3.85545671259957, est=3.574750835727889, details={'actual_k': 1, 'was_impossible': False}),\n",
       " Prediction(uid='A1UH3S1GVFSMFH', iid='B00005S7UE', r_ui=3.2731292517006803, est=3.812923298824328, details={'actual_k': 5, 'was_impossible': False}),\n",
       " Prediction(uid='A1Y1IKTDRQPCYF', iid='B000006O62', r_ui=3.8915816326530615, est=3.6872544867120913, details={'actual_k': 1, 'was_impossible': False}),\n",
       " Prediction(uid='A2RW5GR3B9KC9S', iid='B004NSULHM', r_ui=3.310382177346463, est=3.591074792978644, details={'actual_k': 1, 'was_impossible': False}),\n",
       " Prediction(uid='A37Y9UJBF3C32C', iid='B0000026WD', r_ui=4.149603174603175, est=3.294025854749762, details={'actual_k': 2, 'was_impossible': False}),\n",
       " Prediction(uid='AQZE4MMQMDKPB', iid='B000AA303Y', r_ui=3.5541383219954645, est=3.5950171202544037, details={'actual_k': 5, 'was_impossible': False}),\n",
       " Prediction(uid='A1JIW8GOSSGUQR', iid='B00005AAFJ', r_ui=3.4398809523809524, est=3.2287244778034156, details={'actual_k': 5, 'was_impossible': False}),\n",
       " Prediction(uid='A1VABWDOUQLULZ', iid='B00005NKYQ', r_ui=3.4912698412698413, est=3.6282234151763797, details={'actual_k': 5, 'was_impossible': False}),\n",
       " Prediction(uid='A2YARCE69AJTVB', iid='B000067CPX', r_ui=3.9112088628217663, est=3.6794046832279386, details={'actual_k': 2, 'was_impossible': False}),\n",
       " Prediction(uid='A6OUWU2TYT8UR', iid='B000002GK1', r_ui=3.4914965986394555, est=3.8227692589761713, details={'actual_k': 0, 'was_impossible': False}),\n",
       " Prediction(uid='A1MPEG5S1DNI52', iid='B000067CPX', r_ui=3.8644616617453638, est=3.517228711461907, details={'actual_k': 2, 'was_impossible': False}),\n",
       " Prediction(uid='ACUJU5D2GOWDB', iid='B0006ZQ9BS', r_ui=2.699096880131363, est=3.673942217448116, details={'actual_k': 1, 'was_impossible': False}),\n",
       " Prediction(uid='AC32305TO79HL', iid='B00000J7JO', r_ui=3.416666666666667, est=3.1140674111744975, details={'actual_k': 3, 'was_impossible': False}),\n",
       " Prediction(uid='A170T1ULRVT6FL', iid='B00000064G', r_ui=3.8375803489439853, est=3.652021628679142, details={'was_impossible': True, 'reason': 'User and/or item is unknown.'}),\n",
       " Prediction(uid='A31LQKTOW47O62', iid='B0001Z53AQ', r_ui=4.1000000000000005, est=3.771594154958711, details={'actual_k': 1, 'was_impossible': False}),\n",
       " Prediction(uid='A1HY4CVW8K1QFQ', iid='B0000026WD', r_ui=3.7633086430164355, est=3.958683758502458, details={'actual_k': 5, 'was_impossible': False}),\n",
       " Prediction(uid='A1XX5797TIZT5Q', iid='B00004Z41Q', r_ui=3.788775510204082, est=3.5870092495766785, details={'actual_k': 5, 'was_impossible': False}),\n",
       " Prediction(uid='A1HUX7WN8E65R3', iid='B000002LRX', r_ui=4.214285714285714, est=3.722459067475918, details={'actual_k': 0, 'was_impossible': False}),\n",
       " Prediction(uid='A2BO41VARYGTAC', iid='B000002C2E', r_ui=3.6244113029827316, est=3.9895517522361477, details={'actual_k': 5, 'was_impossible': False}),\n",
       " Prediction(uid='A2AKFJOWF71WGV', iid='B000003AEK', r_ui=3.7614177489177485, est=3.980124375138988, details={'actual_k': 5, 'was_impossible': False}),\n",
       " Prediction(uid='A281NPSIMI1C2R', iid='B00005YW4H', r_ui=3.7574817048031335, est=3.858915691983159, details={'actual_k': 2, 'was_impossible': False}),\n",
       " Prediction(uid='A1241U6QCSX5YJ', iid='B00004UARR', r_ui=3.813988095238095, est=3.7447820857267065, details={'actual_k': 2, 'was_impossible': False}),\n",
       " Prediction(uid='A2CUVMQR3ECVB4', iid='B00008J4P5', r_ui=3.595648604269294, est=3.740873309726771, details={'actual_k': 1, 'was_impossible': False}),\n",
       " Prediction(uid='A3HEM1WWXXLOUL', iid='B000001A5X', r_ui=3.85259308024285, est=3.652021628679142, details={'was_impossible': True, 'reason': 'User and/or item is unknown.'}),\n",
       " Prediction(uid='A3B8MI055LTPSD', iid='B000QUCPUC', r_ui=4.119047619047619, est=3.633668956357631, details={'actual_k': 2, 'was_impossible': False}),\n",
       " Prediction(uid='A1IKOYZVFHO1XP', iid='B00005NZDW', r_ui=3.832828282828283, est=3.787752898157525, details={'actual_k': 5, 'was_impossible': False}),\n",
       " Prediction(uid='A2T33U7BJ2517Z', iid='B0000062S6', r_ui=3.9732142857142856, est=3.9684836734971323, details={'actual_k': 1, 'was_impossible': False}),\n",
       " Prediction(uid='A25SKLRDDMIRAH', iid='B00065BYAY', r_ui=3.7857142857142856, est=3.5285370875655326, details={'actual_k': 1, 'was_impossible': False}),\n",
       " Prediction(uid='AM4ETI24CFO6D', iid='B00005O54Q', r_ui=4.05952380952381, est=4.019928290498639, details={'actual_k': 4, 'was_impossible': False}),\n",
       " Prediction(uid='A1AYEI2SNFPYES', iid='B000EU1KRS', r_ui=3.9050453514739227, est=3.8121835662503525, details={'actual_k': 5, 'was_impossible': False}),\n",
       " Prediction(uid='A1AMVA4R3G58TV', iid='B00005NKYQ', r_ui=3.357142857142857, est=4.024576634904983, details={'actual_k': 5, 'was_impossible': False}),\n",
       " Prediction(uid='A3AL8GQ69QE7WN', iid='B000AOENCM', r_ui=3.2481626900231553, est=3.4342374026429012, details={'actual_k': 5, 'was_impossible': False}),\n",
       " Prediction(uid='AX3LZO32C0JFA', iid='B00003IE26', r_ui=2.7142857142857144, est=2.877498371881418, details={'actual_k': 2, 'was_impossible': False}),\n",
       " Prediction(uid='A3FWPWK8FIDZKO', iid='B00000064G', r_ui=3.8331541218637994, est=3.652021628679142, details={'was_impossible': True, 'reason': 'User and/or item is unknown.'}),\n",
       " Prediction(uid='A1GN8UJIZLCA59', iid='B000001A6N', r_ui=3.900473232771369, est=3.9725653475326324, details={'actual_k': 5, 'was_impossible': False}),\n",
       " Prediction(uid='A2582KMXLK2P06', iid='B000002L7G', r_ui=3.9177626606198035, est=3.993616360404172, details={'actual_k': 5, 'was_impossible': False}),\n",
       " Prediction(uid='A1DAFWS98LQD2R', iid='B0000024JN', r_ui=3.6095238095238096, est=3.932806218023524, details={'actual_k': 3, 'was_impossible': False}),\n",
       " Prediction(uid='A2D4ILAR89US41', iid='B000023VR6', r_ui=3.431558710440698, est=3.4308961389561983, details={'actual_k': 4, 'was_impossible': False}),\n",
       " Prediction(uid='A1T4U9YC4BPK1G', iid='B004D1GZ2E', r_ui=4.484126984126984, est=4.0095101454257165, details={'actual_k': 1, 'was_impossible': False}),\n",
       " Prediction(uid='AZY3MDFJJFI91', iid='B000023VR6', r_ui=3.607142857142857, est=4.763126689938747, details={'actual_k': 2, 'was_impossible': False}),\n",
       " Prediction(uid='A35GNQK1DC7WXU', iid='B000002L7G', r_ui=4.240012194113756, est=3.859677199834233, details={'actual_k': 5, 'was_impossible': False}),\n",
       " Prediction(uid='A34EC8OVUG6743', iid='B00005O6IR', r_ui=3.564484126984127, est=4.197945328718258, details={'actual_k': 1, 'was_impossible': False}),\n",
       " Prediction(uid='A2A6OXZPN0Y98Y', iid='B00004XOWM', r_ui=2.8727040816326532, est=3.1372724118155473, details={'actual_k': 1, 'was_impossible': False}),\n",
       " Prediction(uid='A3EJYJC25OJVKK', iid='B0000634ID', r_ui=2.436813186813187, est=2.9594763911742286, details={'actual_k': 3, 'was_impossible': False}),\n",
       " Prediction(uid='A3C6ZCBUNXUT7V', iid='B000AGTQKY', r_ui=3.7336734693877554, est=4.058354531634929, details={'actual_k': 5, 'was_impossible': False}),\n",
       " Prediction(uid='A3KGYTO6CF8MGF', iid='B000002BE9', r_ui=3.8540935672514616, est=3.520013561940366, details={'actual_k': 5, 'was_impossible': False}),\n",
       " Prediction(uid='A3G10NPD661EQD', iid='B000000OUJ', r_ui=4.18, est=3.9368459583070194, details={'actual_k': 5, 'was_impossible': False}),\n",
       " Prediction(uid='AK1OBVI54SY73', iid='B0000C6E4D', r_ui=3.2560750057598797, est=3.978367523092553, details={'actual_k': 2, 'was_impossible': False}),\n",
       " Prediction(uid='A3SV72ZAHH2IDH', iid='B000006O62', r_ui=3.5097421256904013, est=3.76676749895534, details={'actual_k': 5, 'was_impossible': False}),\n",
       " Prediction(uid='A1H32IQLHDZWUI', iid='B00003NHAR', r_ui=3.816770186335404, est=2.480543543566283, details={'actual_k': 1, 'was_impossible': False}),\n",
       " Prediction(uid='A3U86BP7Y64RSQ', iid='B0000025F7', r_ui=4.285714285714286, est=3.652021628679142, details={'was_impossible': True, 'reason': 'User and/or item is unknown.'}),\n",
       " Prediction(uid='A3VZVYWCTGIEV0', iid='B000NVIXFK', r_ui=3.5754701028138527, est=3.667485364754833, details={'actual_k': 3, 'was_impossible': False}),\n",
       " Prediction(uid='A2VMEYIEZE9UXD', iid='B0000C6E4D', r_ui=3.4413318618983646, est=3.6758249867998765, details={'actual_k': 0, 'was_impossible': False}),\n",
       " Prediction(uid='A16XRPF40679KG', iid='B0000029AS', r_ui=3.963203463203463, est=3.910686986997, details={'actual_k': 3, 'was_impossible': False}),\n",
       " Prediction(uid='A1W3MBU3V858G9', iid='B000AL730O', r_ui=3.923737373737374, est=3.652021628679142, details={'was_impossible': True, 'reason': 'User and/or item is unknown.'}),\n",
       " Prediction(uid='A2P49WD75WHAG5', iid='B00008J4P5', r_ui=3.443516385048643, est=3.65224207848758, details={'actual_k': 5, 'was_impossible': False}),\n",
       " Prediction(uid='AYSLSU7966FWE', iid='B0029LHW4U', r_ui=3.563888168496464, est=3.8047060049455443, details={'actual_k': 1, 'was_impossible': False}),\n",
       " Prediction(uid='ANGNKTK2J7JFF', iid='B004D1GZ2E', r_ui=3.8954844006568146, est=3.8541437996651298, details={'actual_k': 1, 'was_impossible': False}),\n",
       " Prediction(uid='A1J73BBTNZIMD7', iid='B000AU1NZQ', r_ui=3.856358461752048, est=4.05190544184274, details={'actual_k': 1, 'was_impossible': False}),\n",
       " Prediction(uid='A2ULSA0IRUE09E', iid='B0000DD7LC', r_ui=3.833615491651206, est=3.787099727394081, details={'actual_k': 5, 'was_impossible': False}),\n",
       " Prediction(uid='A1FML9FCUPV6TI', iid='B00008OWZE', r_ui=3.694302721088435, est=3.463943419675512, details={'actual_k': 5, 'was_impossible': False}),\n",
       " Prediction(uid='A13M2OZU0IWFY8', iid='B0000646TK', r_ui=3.6400742115027827, est=3.91231419995561, details={'actual_k': 4, 'was_impossible': False}),\n",
       " Prediction(uid='A5ZPFOTZAB1ID', iid='B0007NFL18', r_ui=3.270694583194583, est=2.9148850737895633, details={'actual_k': 4, 'was_impossible': False}),\n",
       " Prediction(uid='A2V6RMJXMKFKEV', iid='B0000039QA', r_ui=3.7713744588744587, est=3.6809444540269003, details={'actual_k': 1, 'was_impossible': False}),\n",
       " Prediction(uid='A2ETZ7GF5B1712', iid='B000075A20', r_ui=3.457142857142857, est=3.4264883529236814, details={'actual_k': 5, 'was_impossible': False}),\n",
       " Prediction(uid='A61V9CDWK2RQN', iid='B00064X2QY', r_ui=3.6942700156985873, est=3.526126899761075, details={'actual_k': 3, 'was_impossible': False}),\n",
       " Prediction(uid='AIIR8E34EDKCQ', iid='B000089RVR', r_ui=4.027472527472527, est=3.652021628679142, details={'was_impossible': True, 'reason': 'User and/or item is unknown.'}),\n",
       " Prediction(uid='AGZ28CC1MLUAD', iid='B0000024JN', r_ui=3.5297619047619047, est=3.4338081749408276, details={'actual_k': 1, 'was_impossible': False}),\n",
       " Prediction(uid='A2YTTO9F4G6T6X', iid='B00005YW4H', r_ui=2.2472527472527473, est=3.691245839922192, details={'actual_k': 3, 'was_impossible': False}),\n",
       " Prediction(uid='A11H85UYL2R4KX', iid='B0000AKOMI', r_ui=4.129502108134921, est=3.5961113002347953, details={'actual_k': 5, 'was_impossible': False}),\n",
       " Prediction(uid='A29V1MP4PX5ABN', iid='B000002LRX', r_ui=3.892507002801121, est=3.7430130868499982, details={'actual_k': 4, 'was_impossible': False}),\n",
       " Prediction(uid='A3KMTOFTUUNFHG', iid='B000AOENCM', r_ui=3.6172902494331067, est=3.6407687053844233, details={'actual_k': 0, 'was_impossible': False}),\n",
       " Prediction(uid='A34Q2RG2PS2OL', iid='B000001FZ6', r_ui=3.913607804232804, est=3.652021628679142, details={'was_impossible': True, 'reason': 'User and/or item is unknown.'}),\n",
       " Prediction(uid='A3BFJFJRXMWXAX', iid='B00000064G', r_ui=3.9991181657848327, est=3.4084436533192184, details={'actual_k': 2, 'was_impossible': False}),\n",
       " Prediction(uid='A33JB9SHMTH9E5', iid='B00007FGLS', r_ui=3.782297178130512, est=3.753080078587108, details={'actual_k': 2, 'was_impossible': False}),\n",
       " Prediction(uid='A1LDGKFKXM32LC', iid='B000002P5W', r_ui=3.8392290249433105, est=3.8110419667466195, details={'actual_k': 1, 'was_impossible': False}),\n",
       " Prediction(uid='A1SFRUEEWK1AZU', iid='B00000016W', r_ui=4.0158220793602855, est=3.669297997215808, details={'actual_k': 2, 'was_impossible': False}),\n",
       " Prediction(uid='A34HYQ9BQZPE78', iid='B00000J7JO', r_ui=3.9552131963896673, est=4.135824812491939, details={'actual_k': 3, 'was_impossible': False}),\n",
       " Prediction(uid='A2PCNX59G2GLIM', iid='B000001A5X', r_ui=3.953823953823954, est=3.882348320758374, details={'actual_k': 0, 'was_impossible': False}),\n",
       " Prediction(uid='A3PMEJAYKF3VUC', iid='B00016XMOE', r_ui=3.579081632653061, est=3.5744151199722887, details={'actual_k': 1, 'was_impossible': False}),\n",
       " Prediction(uid='AIKDYQA4NKI7A', iid='B005QJZ5FA', r_ui=3.8642857142857143, est=4.099937832987932, details={'actual_k': 1, 'was_impossible': False}),\n",
       " Prediction(uid='ATDXQ6MMAK205', iid='B000001FZ6', r_ui=3.939484126984127, est=4.2944076908500275, details={'actual_k': 1, 'was_impossible': False}),\n",
       " Prediction(uid='A3FWPWK8FIDZKO', iid='B00005K9KP', r_ui=3.566433809145179, est=3.652021628679142, details={'was_impossible': True, 'reason': 'User and/or item is unknown.'}),\n",
       " Prediction(uid='A12A6ZP3S3W2P6', iid='B0007NFL18', r_ui=3.947668650793651, est=3.483230421731504, details={'actual_k': 5, 'was_impossible': False}),\n",
       " Prediction(uid='AYZXJ9FOTOSY4', iid='B00004T9UF', r_ui=3.7877943485086343, est=3.871268349838556, details={'actual_k': 5, 'was_impossible': False}),\n",
       " Prediction(uid='A29HQXDK7BSX8H', iid='B0006IGGLS', r_ui=2.7182539682539684, est=2.8884414962953078, details={'actual_k': 5, 'was_impossible': False}),\n",
       " Prediction(uid='A33D1LPCYUANWE', iid='B00008VOQM', r_ui=3.9701835758226736, est=3.2660111803631624, details={'actual_k': 3, 'was_impossible': False}),\n",
       " Prediction(uid='A1SCJWCMQ3W3KK', iid='B0000C6E4D', r_ui=3.598710317460317, est=4.075809946417459, details={'actual_k': 1, 'was_impossible': False}),\n",
       " Prediction(uid='A2Q8BZMIXLLCNG', iid='B00001IVJS', r_ui=2.8496361708792133, est=3.036408078870349, details={'actual_k': 3, 'was_impossible': False}),\n",
       " Prediction(uid='A1GRPBJ38IVX54', iid='B00016XMOE', r_ui=2.930357142857143, est=3.6216922121596076, details={'actual_k': 5, 'was_impossible': False}),\n",
       " Prediction(uid='AKGF27HN0OF19', iid='B000002IRM', r_ui=3.495216836734694, est=3.269558010496403, details={'actual_k': 5, 'was_impossible': False}),\n",
       " Prediction(uid='ABMGCDNA0C9ZQ', iid='B00007FGLS', r_ui=3.399816233687258, est=3.2616885337401693, details={'actual_k': 2, 'was_impossible': False}),\n",
       " Prediction(uid='A334CIVYO3MMXZ', iid='B000002GQE', r_ui=3.8503401360544216, est=3.7984115764634296, details={'actual_k': 2, 'was_impossible': False}),\n",
       " Prediction(uid='A37GLKVQJQP1WZ', iid='B00008H2LB', r_ui=2.553571428571429, est=2.5712944114070844, details={'actual_k': 1, 'was_impossible': False}),\n",
       " Prediction(uid='A3SG2M19I4F9WQ', iid='B00006RAKP', r_ui=3.343915343915344, est=3.7030982120725433, details={'actual_k': 2, 'was_impossible': False}),\n",
       " Prediction(uid='A2F8A91OCBP4BM', iid='B000002OPL', r_ui=3.828954081632653, est=3.861836495824977, details={'actual_k': 2, 'was_impossible': False}),\n",
       " Prediction(uid='A2J57EQ9KPGXR9', iid='B0000AGWEC', r_ui=2.375, est=3.3030247251392746, details={'actual_k': 0, 'was_impossible': False}),\n",
       " Prediction(uid='A1EJ9BMB058DRV', iid='B000OQF6N6', r_ui=3.291027154663518, est=3.433419390998299, details={'actual_k': 1, 'was_impossible': False}),\n",
       " Prediction(uid='A3U3PA6J2XOVFK', iid='B0000029DD', r_ui=3.489177489177489, est=3.94653160784279, details={'actual_k': 2, 'was_impossible': False}),\n",
       " Prediction(uid='A265PUDS1OGQYB', iid='B0000024JN', r_ui=4.163036368393511, est=3.4334263248763865, details={'actual_k': 1, 'was_impossible': False}),\n",
       " Prediction(uid='A1ODZ7SDUPEGNK', iid='B000002OPL', r_ui=4.044083694083694, est=3.6557926320491516, details={'actual_k': 5, 'was_impossible': False}),\n",
       " Prediction(uid='A31FNEBGVMJ1OD', iid='B000002NJS', r_ui=3.9521239950525664, est=3.6705896084840433, details={'actual_k': 5, 'was_impossible': False}),\n",
       " Prediction(uid='A5331QMLNRKZH', iid='B0000029AS', r_ui=2.6714285714285713, est=3.1208184174227087, details={'actual_k': 2, 'was_impossible': False}),\n",
       " Prediction(uid='A31K5W6NWK68OA', iid='B0029LHW4U', r_ui=3.9434523809523805, est=3.6155945660864566, details={'actual_k': 0, 'was_impossible': False}),\n",
       " Prediction(uid='A1JRHL29A1ABOT', iid='B000FII324', r_ui=3.9626373626373628, est=3.8363729218477975, details={'actual_k': 5, 'was_impossible': False}),\n",
       " Prediction(uid='A3AL8GQ69QE7WN', iid='B000KCHZK6', r_ui=3.161589635854342, est=3.322895198488336, details={'actual_k': 5, 'was_impossible': False}),\n",
       " Prediction(uid='A38OAQMIS8ENZR', iid='B00000JC6C', r_ui=4.0095238095238095, est=3.791643460264883, details={'actual_k': 0, 'was_impossible': False}),\n",
       " Prediction(uid='ATLO3YXU2BC16', iid='B000001A5X', r_ui=3.748299319727891, est=3.652021628679142, details={'was_impossible': True, 'reason': 'User and/or item is unknown.'}),\n",
       " Prediction(uid='A1NS9WO1VACAUN', iid='B000002MFN', r_ui=3.4330357142857144, est=3.815005031527015, details={'actual_k': 1, 'was_impossible': False}),\n",
       " Prediction(uid='A3T8G3FN3H3948', iid='B00006690F', r_ui=3.8152719075796, est=3.5322838789460302, details={'actual_k': 3, 'was_impossible': False}),\n",
       " Prediction(uid='A4COPHXKAFGVS', iid='B00004Z41Q', r_ui=3.8035714285714284, est=3.648212626661834, details={'actual_k': 1, 'was_impossible': False}),\n",
       " Prediction(uid='A3MLPZI029CJ8N', iid='B000021YQV', r_ui=3.5714285714285716, est=3.652021628679142, details={'was_impossible': True, 'reason': 'User and/or item is unknown.'}),\n",
       " Prediction(uid='A9Q28YTLYREO7', iid='B000BTDMDC', r_ui=3.1485260770975056, est=2.9556558825353716, details={'actual_k': 5, 'was_impossible': False}),\n",
       " Prediction(uid='A3VXBO4QQX3ZG8', iid='B0012OVF2U', r_ui=3.780928559976179, est=3.7432323441172404, details={'actual_k': 3, 'was_impossible': False}),\n",
       " Prediction(uid='A2ISWCERAHX20O', iid='B0000028RR', r_ui=4.007142857142857, est=3.465707946034823, details={'actual_k': 1, 'was_impossible': False}),\n",
       " Prediction(uid='A2QS7KCOAR5W3', iid='B0000029AN', r_ui=3.75, est=4.200166463127703, details={'actual_k': 1, 'was_impossible': False}),\n",
       " Prediction(uid='A329PQ0WJOIZL5', iid='B0001XANAS', r_ui=3.8717540464461644, est=4.050592156727242, details={'actual_k': 0, 'was_impossible': False}),\n",
       " Prediction(uid='A28FNKCGFS03VL', iid='B002DSM8UC', r_ui=3.4905582922824303, est=3.286430161980742, details={'actual_k': 3, 'was_impossible': False}),\n",
       " Prediction(uid='A11D1KHM7DVOQK', iid='B0002A2WAO', r_ui=3.271695084960391, est=3.048451220173936, details={'actual_k': 4, 'was_impossible': False}),\n",
       " Prediction(uid='AWNKEM8DAG8PY', iid='B00005K9KP', r_ui=3.597142857142857, est=3.5887722061530396, details={'actual_k': 1, 'was_impossible': False}),\n",
       " Prediction(uid='A2WIFKAM4QIOR4', iid='B000002H72', r_ui=3.5269841269841273, est=3.946596439314285, details={'actual_k': 2, 'was_impossible': False}),\n",
       " Prediction(uid='A1IEIWUCTWZ59M', iid='B00005QG9J', r_ui=2.877551020408163, est=4.365069915424196, details={'actual_k': 1, 'was_impossible': False}),\n",
       " Prediction(uid='A25DYNK7Z6I8YQ', iid='B000002JAI', r_ui=4.012499999999999, est=4.002146403101567, details={'actual_k': 1, 'was_impossible': False}),\n",
       " Prediction(uid='AAF8RFWLK6AZD', iid='B00005R8EL', r_ui=1.9484126984126986, est=1.9522650030475812, details={'actual_k': 2, 'was_impossible': False}),\n",
       " Prediction(uid='A9Q28YTLYREO7', iid='B00005R8EL', r_ui=2.573469387755102, est=2.540462263688158, details={'actual_k': 5, 'was_impossible': False}),\n",
       " Prediction(uid='A24QC50BP3Q4YS', iid='B000069HKH', r_ui=3.3764172335600904, est=3.619284795602434, details={'actual_k': 1, 'was_impossible': False}),\n",
       " Prediction(uid='A9Q28YTLYREO7', iid='B000002P5W', r_ui=4.06547619047619, est=3.804100268119498, details={'actual_k': 5, 'was_impossible': False}),\n",
       " Prediction(uid='ASK9WKJAD7XO', iid='B00006690F', r_ui=2.4486607142857144, est=4.662666321905911, details={'actual_k': 1, 'was_impossible': False}),\n",
       " Prediction(uid='A2RZUFRYRHTRS8', iid='B0000C0FKA', r_ui=3.913358525228273, est=3.652021628679142, details={'was_impossible': True, 'reason': 'User and/or item is unknown.'}),\n",
       " Prediction(uid='A2E0RW04ZJVR0A', iid='B000002PD8', r_ui=4.785714285714286, est=3.859327229086532, details={'actual_k': 2, 'was_impossible': False}),\n",
       " Prediction(uid='A2D8FQ2FJOVQPI', iid='B00005O54Q', r_ui=3.5067432567432566, est=3.651147148284065, details={'actual_k': 1, 'was_impossible': False}),\n",
       " Prediction(uid='A36CHPMHHD1IO5', iid='B0000CD5FR', r_ui=3.5462040284863945, est=3.916858200610725, details={'actual_k': 2, 'was_impossible': False}),\n",
       " Prediction(uid='ADAGO3ZTBIS7H', iid='B00004UARR', r_ui=4.030612244897959, est=4.142529074996564, details={'actual_k': 1, 'was_impossible': False}),\n",
       " Prediction(uid='AUDSM2CTLLW1Q', iid='B000001EW3', r_ui=2.5773809523809526, est=3.718799902514395, details={'actual_k': 0, 'was_impossible': False}),\n",
       " Prediction(uid='ABQ954EU93JRX', iid='B0002X314C', r_ui=3.8621759193187764, est=3.652021628679142, details={'was_impossible': True, 'reason': 'User and/or item is unknown.'}),\n",
       " Prediction(uid='A2P814DGX3QD1A', iid='B000021YQV', r_ui=3.8420710426524383, est=2.9570620124254834, details={'actual_k': 2, 'was_impossible': False}),\n",
       " Prediction(uid='A2CA36LT9SXGNI', iid='B00000163G', r_ui=4.207964409722223, est=4.084093154433821, details={'actual_k': 5, 'was_impossible': False}),\n",
       " Prediction(uid='A5DIAZ5GT3MC', iid='B0000C421G', r_ui=3.151082548403977, est=3.349302375624321, details={'actual_k': 5, 'was_impossible': False}),\n",
       " Prediction(uid='A1C4GK96OO5RB9', iid='B0002PD3HU', r_ui=4.032828282828283, est=3.4637129724431794, details={'actual_k': 0, 'was_impossible': False}),\n",
       " Prediction(uid='A2CT2SA6KFE8GC', iid='B000002KBB', r_ui=3.767660910518053, est=3.652021628679142, details={'was_impossible': True, 'reason': 'User and/or item is unknown.'}),\n",
       " Prediction(uid='A3CSQB7Q90KMAD', iid='B0000DD7LC', r_ui=3.6643217893217894, est=3.8275202096549505, details={'actual_k': 5, 'was_impossible': False}),\n",
       " Prediction(uid='A1EZHHHUFALJUQ', iid='B000002KHB', r_ui=3.7790116046418567, est=3.794999702966526, details={'actual_k': 0, 'was_impossible': False}),\n",
       " Prediction(uid='A2SFZIE5JOX8F7', iid='B00005O54Q', r_ui=2.8979001804803555, est=3.33406210862636, details={'actual_k': 4, 'was_impossible': False}),\n",
       " Prediction(uid='AT1J4MGWHVZEG', iid='B00018D5CQ', r_ui=3.622429653679654, est=3.429664183837981, details={'actual_k': 0, 'was_impossible': False}),\n",
       " Prediction(uid='A1BM7TP9L9WDXR', iid='B000N2G3RY', r_ui=3.4974573935944195, est=3.625801966461407, details={'actual_k': 0, 'was_impossible': False}),\n",
       " Prediction(uid='A1CQ2HLYNVE7TB', iid='B00005K9KP', r_ui=1.7857142857142856, est=2.956170511051497, details={'actual_k': 2, 'was_impossible': False}),\n",
       " Prediction(uid='A39WL61420S1T6', iid='B000EU1KRS', r_ui=3.758925388337153, est=3.8153409598009675, details={'actual_k': 2, 'was_impossible': False}),\n",
       " Prediction(uid='A1FML9FCUPV6TI', iid='B000BNTM32', r_ui=3.957187736205593, est=3.928296017208279, details={'actual_k': 5, 'was_impossible': False}),\n",
       " Prediction(uid='A3HOMQCJ2SFZ2', iid='B000075A20', r_ui=3.635363520408163, est=3.40841719713303, details={'actual_k': 4, 'was_impossible': False}),\n",
       " Prediction(uid='A3RNW03XLUD5UI', iid='B00005QDVS', r_ui=4.226234169557151, est=3.9784418687670007, details={'actual_k': 2, 'was_impossible': False}),\n",
       " Prediction(uid='A2KUYFHOO69XUT', iid='B000084T18', r_ui=4.328571428571429, est=3.652021628679142, details={'was_impossible': True, 'reason': 'User and/or item is unknown.'}),\n",
       " Prediction(uid='AL8IDHJPCE00K', iid='B000H0MKGK', r_ui=3.7730458574614416, est=4.217566255960879, details={'actual_k': 3, 'was_impossible': False}),\n",
       " Prediction(uid='A2EONRA9TLDADW', iid='B00005O54Q', r_ui=3.693181818181818, est=3.6074395959495407, details={'actual_k': 3, 'was_impossible': False}),\n",
       " Prediction(uid='A34Y1FT0MTD7C9', iid='B000001EGE', r_ui=3.629967776584318, est=3.7425863566552877, details={'actual_k': 5, 'was_impossible': False}),\n",
       " Prediction(uid='ATLZNVLYKP9AZ', iid='B004K4AUZW', r_ui=3.2698863636363638, est=3.610435440774132, details={'actual_k': 1, 'was_impossible': False}),\n",
       " Prediction(uid='A35GNQK1DC7WXU', iid='B00004XOWM', r_ui=2.854761904761905, est=3.0686312725675715, details={'actual_k': 3, 'was_impossible': False}),\n",
       " Prediction(uid='A3KKPVZ2EQQLAB', iid='B00014TQ7S', r_ui=3.402014652014652, est=3.991866590218698, details={'actual_k': 2, 'was_impossible': False}),\n",
       " Prediction(uid='A1BGCOJQPGZTIW', iid='B000001EGE', r_ui=3.542988559059988, est=3.3857862705498607, details={'actual_k': 2, 'was_impossible': False}),\n",
       " Prediction(uid='A39NS429FYXAD1', iid='B00005YW4H', r_ui=4.395238095238096, est=3.846334313887805, details={'actual_k': 2, 'was_impossible': False}),\n",
       " Prediction(uid='A15AAI0BLM17CZ', iid='B0007NFL18', r_ui=2.826530612244898, est=3.616454492035868, details={'actual_k': 2, 'was_impossible': False}),\n",
       " Prediction(uid='A61V9CDWK2RQN', iid='B0000C421G', r_ui=3.719490826633684, est=3.4182470354316523, details={'actual_k': 3, 'was_impossible': False}),\n",
       " Prediction(uid='A31HTN51QNSQ3F', iid='B000001A5X', r_ui=3.78879612451041, est=3.977846865509024, details={'actual_k': 5, 'was_impossible': False}),\n",
       " Prediction(uid='A1BQOPKHRU5M8F', iid='B0000039Q3', r_ui=4.122448979591837, est=4.054922922323651, details={'actual_k': 3, 'was_impossible': False}),\n",
       " Prediction(uid='A1U2T71CDVKFRH', iid='B00005YW4H', r_ui=4.095238095238095, est=3.7156891446750397, details={'actual_k': 2, 'was_impossible': False}),\n",
       " Prediction(uid='A92F571Y9MTW6', iid='B0012OVF2U', r_ui=3.43731778425656, est=3.6566101866199268, details={'actual_k': 1, 'was_impossible': False}),\n",
       " Prediction(uid='AJJYB8VYH43PB', iid='B0000AQS1A', r_ui=3.2723214285714284, est=3.11419460935625, details={'actual_k': 1, 'was_impossible': False}),\n",
       " Prediction(uid='A1FPFWDC1ASYNJ', iid='B000002LFZ', r_ui=3.8217740221088436, est=3.904284097862179, details={'actual_k': 0, 'was_impossible': False}),\n",
       " Prediction(uid='A1ZDDLHFSUGILJ', iid='B000001FAO', r_ui=2.7936507936507935, est=3.330145649931276, details={'actual_k': 1, 'was_impossible': False}),\n",
       " Prediction(uid='A8IFUOL8S9BZC', iid='B0007TX894', r_ui=3.2345238095238096, est=3.2618941699042243, details={'actual_k': 5, 'was_impossible': False}),\n",
       " Prediction(uid='A19FAQLQEKN54F', iid='B000MTPAGI', r_ui=3.7459183673469387, est=3.250699557116401, details={'actual_k': 4, 'was_impossible': False}),\n",
       " Prediction(uid='AIWPVV1HQKIX5', iid='B000H0MKGK', r_ui=4.059552556818182, est=4.465470325680186, details={'actual_k': 1, 'was_impossible': False}),\n",
       " Prediction(uid='A9Q28YTLYREO7', iid='B0000DD7LC', r_ui=3.0520833333333335, est=3.0798873054888536, details={'actual_k': 5, 'was_impossible': False}),\n",
       " Prediction(uid='A35IG09XMSZRNM', iid='B0009SCVTG', r_ui=2.5223460857697315, est=3.084236445297606, details={'actual_k': 5, 'was_impossible': False}),\n",
       " Prediction(uid='A3GS5WAQVO4CFB', iid='B000001FAO', r_ui=3.6843112244897958, est=3.893680530195274, details={'actual_k': 4, 'was_impossible': False}),\n",
       " Prediction(uid='APTE2PQ5P8FK4', iid='B0000013GT', r_ui=3.689761904761905, est=3.9535615663727377, details={'actual_k': 2, 'was_impossible': False}),\n",
       " Prediction(uid='A14XWAHMBDAC7N', iid='B000023VR6', r_ui=3.96, est=4.173309597786789, details={'actual_k': 4, 'was_impossible': False}),\n",
       " Prediction(uid='A200C7YQJ45LRR', iid='B000E0OEQC', r_ui=3.1259248143701925, est=3.7954727281994582, details={'actual_k': 5, 'was_impossible': False}),\n",
       " Prediction(uid='ABS3C0BMVW7RK', iid='B00005YW4H', r_ui=2.463365800865801, est=3.0407031496696257, details={'actual_k': 5, 'was_impossible': False}),\n",
       " Prediction(uid='A38U2M9OAEJAXJ', iid='B00006JO3X', r_ui=3.5749999999999997, est=3.532385557087806, details={'actual_k': 5, 'was_impossible': False}),\n",
       " Prediction(uid='AY84BQK3EMJ4S', iid='B0000025BA', r_ui=3.9848967996289426, est=3.855489013570839, details={'actual_k': 1, 'was_impossible': False}),\n",
       " Prediction(uid='A1AXGJVCJNI9BX', iid='B000MTPAGI', r_ui=4.116161616161616, est=3.4413480567661545, details={'actual_k': 0, 'was_impossible': False}),\n",
       " Prediction(uid='A3CTDY0RAU6Q7R', iid='B0009SCVTG', r_ui=4.19047619047619, est=3.7511870959285805, details={'actual_k': 3, 'was_impossible': False}),\n",
       " Prediction(uid='A2J57EQ9KPGXR9', iid='B00000IAU3', r_ui=3.142857142857143, est=2.9050432774350017, details={'actual_k': 1, 'was_impossible': False}),\n",
       " Prediction(uid='A1S7XY5QNDOZXB', iid='B00005QG9J', r_ui=3.682440476190476, est=3.7241339188157054, details={'actual_k': 0, 'was_impossible': False}),\n",
       " Prediction(uid='AWME8X11GSDM', iid='B00004T9UF', r_ui=3.9719387755102042, est=4.337956821889245, details={'actual_k': 4, 'was_impossible': False}),\n",
       " Prediction(uid='A27950GV5XJ1T5', iid='B00003002C', r_ui=3.6865079365079367, est=3.900422053955241, details={'actual_k': 5, 'was_impossible': False}),\n",
       " Prediction(uid='AJAF1T6Q7XM94', iid='B00000253N', r_ui=3.840659340659341, est=3.816386559774842, details={'actual_k': 1, 'was_impossible': False}),\n",
       " Prediction(uid='A1SX8V30IP3NFP', iid='B000023VR6', r_ui=4.19264652014652, est=4.04915419011066, details={'actual_k': 4, 'was_impossible': False}),\n",
       " Prediction(uid='A25KDGSE2EVYXY', iid='B000003TAW', r_ui=3.5473792080934934, est=3.7682865687777225, details={'actual_k': 1, 'was_impossible': False}),\n",
       " Prediction(uid='A1A4EH7P1UI0RZ', iid='B00005AAFJ', r_ui=3.482460152789823, est=3.131512107311022, details={'actual_k': 5, 'was_impossible': False}),\n",
       " Prediction(uid='A46QAWODGERF3', iid='B000001FAO', r_ui=4.057894736842105, est=3.5046165494021757, details={'actual_k': 1, 'was_impossible': False}),\n",
       " Prediction(uid='A16N6KIMCAP5LM', iid='B00065XJ52', r_ui=2.7142857142857144, est=3.615171962038394, details={'actual_k': 5, 'was_impossible': False}),\n",
       " Prediction(uid='AAHSKX20RK4Y2', iid='B000FVQYYK', r_ui=3.5504836309523813, est=2.8389045017862635, details={'actual_k': 1, 'was_impossible': False}),\n",
       " Prediction(uid='ABEJ92E69HCIN', iid='B00000163G', r_ui=4.205357142857142, est=2.685123591060696, details={'actual_k': 1, 'was_impossible': False}),\n",
       " Prediction(uid='A2SII0KRYFSOT0', iid='B00009V7T2', r_ui=4.0853859441620965, est=3.677112137698245, details={'actual_k': 0, 'was_impossible': False}),\n",
       " Prediction(uid='A3QAV7LALVG1F7', iid='B00000272N', r_ui=3.9433673469387753, est=4.224076633341838, details={'actual_k': 1, 'was_impossible': False}),\n",
       " Prediction(uid='AZKXH0J59TK11', iid='B00097A5H2', r_ui=3.4840453130404705, est=3.5438886516715358, details={'actual_k': 3, 'was_impossible': False}),\n",
       " Prediction(uid='AK9BXHEXOOM6Z', iid='B003V5PPZG', r_ui=4.042269635126778, est=3.652021628679142, details={'was_impossible': True, 'reason': 'User and/or item is unknown.'}),\n",
       " Prediction(uid='A3O90G1D7I5EGG', iid='B000001FAO', r_ui=3.5860347985347985, est=3.8308109045321057, details={'actual_k': 2, 'was_impossible': False}),\n",
       " Prediction(uid='A34Y1FT0MTD7C9', iid='B00000J7JO', r_ui=4.006988817612304, est=4.0688236612771815, details={'actual_k': 5, 'was_impossible': False}),\n",
       " Prediction(uid='A1XY7JL7CM85UU', iid='B00000016W', r_ui=4.12536443148688, est=3.846815149286654, details={'actual_k': 0, 'was_impossible': False}),\n",
       " Prediction(uid='A368DRBN6ZJUA3', iid='B0000AGWFA', r_ui=3.3674102418745275, est=3.3721913104922496, details={'actual_k': 4, 'was_impossible': False}),\n",
       " Prediction(uid='AG0GA77A5VDZ1', iid='B000001F60', r_ui=3.4021164021164023, est=3.652021628679142, details={'was_impossible': True, 'reason': 'User and/or item is unknown.'}),\n",
       " Prediction(uid='A173EIKGFCYD2A', iid='B000BLI4UG', r_ui=3.25, est=3.403717308754593, details={'actual_k': 4, 'was_impossible': False}),\n",
       " Prediction(uid='A1KBQK0AHXY9PE', iid='B000AU1NZQ', r_ui=3.2543154761904765, est=3.652021628679142, details={'was_impossible': True, 'reason': 'User and/or item is unknown.'}),\n",
       " Prediction(uid='A1YPM4GCO8I1W1', iid='B00006690F', r_ui=4.029761904761905, est=3.8321010453154076, details={'actual_k': 2, 'was_impossible': False}),\n",
       " Prediction(uid='A15TNUM2PBS6F0', iid='B00004Z41Q', r_ui=2.734044312169312, est=3.451540249504773, details={'actual_k': 1, 'was_impossible': False}),\n",
       " Prediction(uid='A2S9PZCNEJEF3Y', iid='B00018D44U', r_ui=3.9462785114045618, est=3.557224576059362, details={'actual_k': 0, 'was_impossible': False}),\n",
       " Prediction(uid='A2NQUGGYM0DBM1', iid='B000001DZO', r_ui=3.973809523809524, est=3.851408877654618, details={'actual_k': 2, 'was_impossible': False}),\n",
       " Prediction(uid='A2TAPL67U2A5HM', iid='B00005NZDW', r_ui=3.8785714285714286, est=4.018461242013692, details={'actual_k': 5, 'was_impossible': False}),\n",
       " Prediction(uid='A28OGM5C71B1XD', iid='B000001EGC', r_ui=3.2207792207792205, est=4.301285138555632, details={'actual_k': 1, 'was_impossible': False}),\n",
       " Prediction(uid='A3DO6JL97Y6DRY', iid='B00002MZ4W', r_ui=3.7190476190476187, est=3.256368835098877, details={'actual_k': 1, 'was_impossible': False}),\n",
       " Prediction(uid='AY12DBB0U420B', iid='B000002L7G', r_ui=4.090367965367966, est=3.9648801557993307, details={'actual_k': 1, 'was_impossible': False}),\n",
       " Prediction(uid='A3H9YKO0XTLOJA', iid='B00005O54Q', r_ui=3.5482804232804233, est=3.7995375825182265, details={'actual_k': 1, 'was_impossible': False}),\n",
       " Prediction(uid='A7JRDNX3WOMTR', iid='B000002JAI', r_ui=4.036679986679987, est=3.7278174357223097, details={'actual_k': 3, 'was_impossible': False}),\n",
       " Prediction(uid='A2T63WOOW6XV6U', iid='B000002IOW', r_ui=4.0400793650793645, est=3.8019749646560634, details={'actual_k': 5, 'was_impossible': False}),\n",
       " Prediction(uid='A1GY0FJOL6I37K', iid='B0001Z53AQ', r_ui=3.3214285714285716, est=3.402318945561252, details={'actual_k': 3, 'was_impossible': False}),\n",
       " Prediction(uid='A3L367ULSWBF0T', iid='B00008J4P5', r_ui=3.7959183673469385, est=4.190709810299152, details={'actual_k': 1, 'was_impossible': False}),\n",
       " Prediction(uid='A3LZBOBV9H1HDV', iid='B0029LHW4U', r_ui=4.038095238095238, est=5, details={'actual_k': 1, 'was_impossible': False}),\n",
       " Prediction(uid='A1SCJWCMQ3W3KK', iid='B00005YW4H', r_ui=3.524084381227238, est=3.9409520467342096, details={'actual_k': 2, 'was_impossible': False}),\n",
       " Prediction(uid='A1YR4OM2QLQ1LY', iid='B0000AGWFX', r_ui=3.361309523809524, est=2.735449966110634, details={'actual_k': 2, 'was_impossible': False}),\n",
       " Prediction(uid='ARQFTZQ8Q6HU1', iid='B000075A20', r_ui=3.4659863945578233, est=3.957266838498034, details={'actual_k': 1, 'was_impossible': False}),\n",
       " Prediction(uid='A13B2GPGMPM9YW', iid='B00004YKUI', r_ui=4.154920634920635, est=3.4823027181804833, details={'actual_k': 1, 'was_impossible': False}),\n",
       " Prediction(uid='A4622J2IA15MN', iid='B00006JO3X', r_ui=4.089285714285714, est=4.254925000255392, details={'actual_k': 1, 'was_impossible': False}),\n",
       " Prediction(uid='AASC4QCTCFSU', iid='B000001FZ6', r_ui=3.3035714285714284, est=3.652021628679142, details={'was_impossible': True, 'reason': 'User and/or item is unknown.'}),\n",
       " Prediction(uid='A1B1MM0QO766OL', iid='B00064X2QY', r_ui=3.8968253968253967, est=3.4133680550377754, details={'actual_k': 2, 'was_impossible': False}),\n",
       " Prediction(uid='A3G1ATNDU80KAE', iid='B000002J88', r_ui=4.229591836734694, est=3.9166297245926573, details={'actual_k': 4, 'was_impossible': False}),\n",
       " Prediction(uid='A2CA36LT9SXGNI', iid='B0002IQHBQ', r_ui=3.680782836335292, est=4.107989248605058, details={'actual_k': 5, 'was_impossible': False}),\n",
       " Prediction(uid='A2ENSVE94K8BW4', iid='B000003B6J', r_ui=4.158163265306122, est=3.6004816531836616, details={'actual_k': 2, 'was_impossible': False}),\n",
       " Prediction(uid='A1X1S1TUPEYVL', iid='B000KCHZK6', r_ui=3.144967367991684, est=3.01046277660468, details={'actual_k': 1, 'was_impossible': False}),\n",
       " Prediction(uid='A1C00UIP3SL7L3', iid='B00000163G', r_ui=4.112204405571752, est=3.7529049781963, details={'actual_k': 1, 'was_impossible': False}),\n",
       " Prediction(uid='A3JMA8TT506H5I', iid='B005QJZ5FA', r_ui=3.8694805194805193, est=3.6547986282401492, details={'actual_k': 0, 'was_impossible': False}),\n",
       " Prediction(uid='A3DYC9OZPN0JO7', iid='B000003AEK', r_ui=3.9313852813852814, est=4.0382602631576905, details={'actual_k': 1, 'was_impossible': False}),\n",
       " Prediction(uid='A13A4JYA8PEVGH', iid='B0000BWVLM', r_ui=3.422619047619048, est=3.9759601637015427, details={'actual_k': 4, 'was_impossible': False}),\n",
       " Prediction(uid='A1UBI33V4MVNKN', iid='B00096S3PY', r_ui=3.4653483992467042, est=3.739336233955966, details={'actual_k': 1, 'was_impossible': False}),\n",
       " Prediction(uid='A16HWG8TOURTGN', iid='B00097A5H2', r_ui=4.0476190476190474, est=3.166337131697244, details={'actual_k': 2, 'was_impossible': False}),\n",
       " Prediction(uid='ANO3SFVMNVNRV', iid='B00064X2QY', r_ui=3.7829539012574727, est=2.864853028848189, details={'actual_k': 1, 'was_impossible': False}),\n",
       " Prediction(uid='A2ID4IRSPV8ONE', iid='B000084T18', r_ui=2.606434207327064, est=2.4591113724574343, details={'actual_k': 1, 'was_impossible': False}),\n",
       " Prediction(uid='A3R8PXSFGY9MC2', iid='B000067CPX', r_ui=4.0332341269841265, est=3.8940836780693706, details={'actual_k': 5, 'was_impossible': False}),\n",
       " Prediction(uid='A2AOZQ3WTNVVOK', iid='B0000CD5FR', r_ui=4.046367934665807, est=3.889638159164842, details={'actual_k': 5, 'was_impossible': False}),\n",
       " Prediction(uid='A3NHJ4F4W1HLFX', iid='B00000269M', r_ui=3.685267857142857, est=2.7797033118875, details={'actual_k': 1, 'was_impossible': False}),\n",
       " Prediction(uid='A103W7ZPKGOCC9', iid='B00000ADG2', r_ui=3.5714285714285716, est=4.422811462276547, details={'actual_k': 2, 'was_impossible': False}),\n",
       " Prediction(uid='A2L3WEVFOCA7OY', iid='B00000FCBH', r_ui=3.982003182003182, est=3.9807684111296187, details={'actual_k': 5, 'was_impossible': False}),\n",
       " Prediction(uid='A3KG9S1Y2NH6X3', iid='B000084T18', r_ui=3.4972873577040247, est=3.7126941847486195, details={'actual_k': 1, 'was_impossible': False}),\n",
       " Prediction(uid='A3C6CZC2JP67VK', iid='B00003IE26', r_ui=3.907900432900433, est=3.6127604760772782, details={'actual_k': 5, 'was_impossible': False}),\n",
       " Prediction(uid='AZ4VKFF136FKR', iid='B00003002C', r_ui=3.697450980392157, est=3.061453796679072, details={'actual_k': 1, 'was_impossible': False}),\n",
       " Prediction(uid='A25NMMI7AH30W2', iid='B0000634ID', r_ui=3.854203229203229, est=3.9907245423974818, details={'actual_k': 2, 'was_impossible': False}),\n",
       " Prediction(uid='A1VWRH8ALP6VF2', iid='B00000JC6C', r_ui=2.900096525096525, est=3.6113465726036478, details={'actual_k': 1, 'was_impossible': False}),\n",
       " Prediction(uid='A1T7FLJIWFU243', iid='B000001EGA', r_ui=4.0, est=4.163894563629571, details={'actual_k': 2, 'was_impossible': False}),\n",
       " Prediction(uid='A1TU5537LJ9MNA', iid='B0000AGWFX', r_ui=4.139212827988338, est=3.602542252090019, details={'actual_k': 0, 'was_impossible': False}),\n",
       " Prediction(uid='A2IE6O20UDTA8W', iid='B00000163G', r_ui=3.2485119047619047, est=3.8737447674555883, details={'actual_k': 3, 'was_impossible': False}),\n",
       " Prediction(uid='A3DRRO1I5MO0MZ', iid='B00006690F', r_ui=2.7490188383045524, est=2.6667820087143808, details={'actual_k': 2, 'was_impossible': False}),\n",
       " Prediction(uid='A2DH36M3SS3ZNX', iid='B000002IRM', r_ui=3.25530131244417, est=3.6161454699219444, details={'actual_k': 5, 'was_impossible': False}),\n",
       " Prediction(uid='AXPYGNIC5ZIXS', iid='B000035X1M', r_ui=3.613544973544973, est=3.562947649747477, details={'actual_k': 4, 'was_impossible': False}),\n",
       " Prediction(uid='A12R54MKO17TW0', iid='B00000ADG2', r_ui=3.849206349206349, est=3.899450618583863, details={'actual_k': 2, 'was_impossible': False}),\n",
       " Prediction(uid='AVSIE8TU2GG2D', iid='B0000013GH', r_ui=3.749302455357143, est=3.825811992277979, details={'actual_k': 0, 'was_impossible': False}),\n",
       " Prediction(uid='A2LFLKFE3B0PSA', iid='B00006ZCFJ', r_ui=2.1607142857142856, est=3.049985279251533, details={'actual_k': 2, 'was_impossible': False}),\n",
       " Prediction(uid='A5CNA6W82FJTP', iid='B00003IE26', r_ui=4.428571428571429, est=3.652021628679142, details={'was_impossible': True, 'reason': 'User and/or item is unknown.'}),\n",
       " Prediction(uid='A2U74MULH75E3K', iid='B0000C421G', r_ui=3.3809523809523805, est=3.5062105130989734, details={'actual_k': 0, 'was_impossible': False}),\n",
       " Prediction(uid='A1AMVA4R3G58TV', iid='B000002BE9', r_ui=4.366071428571429, est=4.182328525824181, details={'actual_k': 3, 'was_impossible': False}),\n",
       " Prediction(uid='AJK5WHV1GW941', iid='B00192M9FC', r_ui=3.300204634699408, est=3.2049304941699166, details={'actual_k': 5, 'was_impossible': False}),\n",
       " Prediction(uid='A29ZCVZWIWZBCH', iid='B000H7JDVI', r_ui=4.016594793668526, est=3.6829405518880582, details={'actual_k': 3, 'was_impossible': False}),\n",
       " Prediction(uid='A1BJJVV2B5VLUQ', iid='B0000029AN', r_ui=3.429710046897547, est=3.6830305055598425, details={'actual_k': 5, 'was_impossible': False}),\n",
       " Prediction(uid='A280XKGM4KT0KN', iid='B000002UCL', r_ui=4.083951762523191, est=4.082752566475187, details={'actual_k': 2, 'was_impossible': False}),\n",
       " Prediction(uid='A17QYYGT3C1EPT', iid='B00004T9UF', r_ui=3.090659340659341, est=3.652021628679142, details={'was_impossible': True, 'reason': 'User and/or item is unknown.'}),\n",
       " Prediction(uid='A2J1ZM6TLE80ZE', iid='B0009SCVTG', r_ui=2.5103911564625854, est=2.0752479960410204, details={'actual_k': 1, 'was_impossible': False}),\n",
       " Prediction(uid='A1OJQAJ16T36VJ', iid='B0007NFL18', r_ui=2.5331362703811684, est=2.6922971487676275, details={'actual_k': 5, 'was_impossible': False}),\n",
       " Prediction(uid='A1SPKFZ3BBCS6J', iid='B000084T18', r_ui=4.031263122532963, est=3.94506022416763, details={'actual_k': 1, 'was_impossible': False}),\n",
       " Prediction(uid='A33CKO3B7NZFGP', iid='B000002KNO', r_ui=2.6545386904761905, est=3.9656169080916, details={'actual_k': 2, 'was_impossible': False}),\n",
       " Prediction(uid='A14F106N1M9AAQ', iid='B00004XOWM', r_ui=2.815134766027623, est=2.6248710884280895, details={'actual_k': 1, 'was_impossible': False}),\n",
       " Prediction(uid='A24P8BEJ26FU01', iid='B0000646TK', r_ui=3.6333341911796246, est=3.3389585394878267, details={'actual_k': 2, 'was_impossible': False}),\n",
       " Prediction(uid='A2UX5ABICURKL5', iid='B000002KZR', r_ui=3.5, est=3.871820986369524, details={'actual_k': 2, 'was_impossible': False}),\n",
       " Prediction(uid='A22HN0VTP9TCLJ', iid='B000E0OEQC', r_ui=3.7749577845322526, est=3.703636778138596, details={'actual_k': 1, 'was_impossible': False}),\n",
       " Prediction(uid='A2HJT5T0TCMH66', iid='B000002IT2', r_ui=3.8256235827664398, est=3.06553856047207, details={'actual_k': 2, 'was_impossible': False}),\n",
       " Prediction(uid='ASQYKF06G1DRX', iid='B00000163G', r_ui=3.6339285714285716, est=3.930114415741172, details={'actual_k': 0, 'was_impossible': False}),\n",
       " Prediction(uid='A11ZPFSJAY25AZ', iid='B00097A5H2', r_ui=3.6630036630036633, est=3.3659255752517563, details={'actual_k': 2, 'was_impossible': False}),\n",
       " Prediction(uid='A276M3NSIY9B82', iid='B000002UCL', r_ui=3.8878290446613426, est=3.9182986874284254, details={'actual_k': 4, 'was_impossible': False}),\n",
       " Prediction(uid='A31U2QT7SAL7K', iid='B004D1GZ2E', r_ui=3.647578611864326, est=3.8521897675143006, details={'actual_k': 3, 'was_impossible': False}),\n",
       " Prediction(uid='AE42JLYPXUI45', iid='B000197KVW', r_ui=4.011566834526018, est=3.76987756340591, details={'actual_k': 1, 'was_impossible': False}),\n",
       " Prediction(uid='ADCFUY7WTZA6A', iid='B000E97HB2', r_ui=4.035714285714286, est=4.020593579740038, details={'actual_k': 5, 'was_impossible': False}),\n",
       " Prediction(uid='A1NF2Y5WSC4KM8', iid='B00000253N', r_ui=4.13630612244898, est=3.806610281746254, details={'actual_k': 0, 'was_impossible': False}),\n",
       " Prediction(uid='A2NM7XHKWUZ1RH', iid='B000003B7W', r_ui=3.6773809523809526, est=3.7678980440402827, details={'actual_k': 1, 'was_impossible': False}),\n",
       " Prediction(uid='A3M3NKD8W44H5J', iid='B00005K9KP', r_ui=3.2771164021164023, est=4.158537201968873, details={'actual_k': 2, 'was_impossible': False}),\n",
       " Prediction(uid='A35JEQUI9O2G82', iid='B0009SCVTG', r_ui=2.7656282209853638, est=2.788105457422311, details={'actual_k': 4, 'was_impossible': False}),\n",
       " Prediction(uid='A3TSPLFYU2UMW0', iid='B000001FAO', r_ui=4.07010582010582, est=3.833623084871033, details={'actual_k': 0, 'was_impossible': False}),\n",
       " Prediction(uid='A30Z0RCM2PV86I', iid='B0002X314C', r_ui=3.4223356009070294, est=3.3606472768141082, details={'actual_k': 2, 'was_impossible': False}),\n",
       " Prediction(uid='A2R1HAXRNU0QX7', iid='B000002IWQ', r_ui=3.428918650793651, est=3.7923824368496586, details={'actual_k': 2, 'was_impossible': False}),\n",
       " Prediction(uid='A39XGSL1OGDVDE', iid='B00006690F', r_ui=3.973032714412025, est=3.637099802917878, details={'actual_k': 5, 'was_impossible': False}),\n",
       " Prediction(uid='AXSHUZ5PVL8QW', iid='B000002GQE', r_ui=2.5307539682539684, est=3.652021628679142, details={'was_impossible': True, 'reason': 'User and/or item is unknown.'}),\n",
       " Prediction(uid='A1LM8CT7J2JX1J', iid='B000002J88', r_ui=3.878777472527472, est=3.4691259509671104, details={'actual_k': 4, 'was_impossible': False}),\n",
       " Prediction(uid='A3JLOIXFM75QNV', iid='B004K4AUZW', r_ui=3.6472350230414747, est=3.5789259469599215, details={'actual_k': 1, 'was_impossible': False}),\n",
       " Prediction(uid='AMU5Q7KBXFTHF', iid='B000059MEK', r_ui=3.952233372687918, est=3.652021628679142, details={'was_impossible': True, 'reason': 'User and/or item is unknown.'}),\n",
       " Prediction(uid='A1VL282XIRMEEQ', iid='B003WTE886', r_ui=3.731292517006803, est=3.7592111940441884, details={'actual_k': 0, 'was_impossible': False}),\n",
       " Prediction(uid='A8KW38D8PQ2AV', iid='B000003B6J', r_ui=3.4642857142857144, est=3.8407521802919566, details={'actual_k': 2, 'was_impossible': False}),\n",
       " Prediction(uid='A2U1NZ6AM5RULE', iid='B00004X0Q0', r_ui=3.963956333521551, est=3.6766619191579406, details={'actual_k': 0, 'was_impossible': False}),\n",
       " Prediction(uid='A28QMIV3V0NJYL', iid='B000067CPX', r_ui=4.0, est=3.651554064618305, details={'actual_k': 0, 'was_impossible': False}),\n",
       " Prediction(uid='A1IDNJ1Y42GMLS', iid='B00000IAU3', r_ui=3.6546799628942486, est=4.315462029815779, details={'actual_k': 1, 'was_impossible': False}),\n",
       " Prediction(uid='A1H01RWBDCBAI7', iid='B000067CPX', r_ui=4.004474281875759, est=4.028856023739119, details={'actual_k': 2, 'was_impossible': False}),\n",
       " Prediction(uid='A2Y1SCM930PZI7', iid='B00005R8EL', r_ui=2.4847711811997524, est=3.599591052729989, details={'actual_k': 0, 'was_impossible': False}),\n",
       " Prediction(uid='A3TTVG02EPNELJ', iid='B0001Z53AQ', r_ui=3.317857142857143, est=2.907556121082308, details={'actual_k': 4, 'was_impossible': False}),\n",
       " Prediction(uid='A37T9RGKM9RF37', iid='B0000646TK', r_ui=3.4820722755505362, est=3.478753062441382, details={'actual_k': 4, 'was_impossible': False}),\n",
       " Prediction(uid='A3LPQAPU2ILDD0', iid='B000002GQE', r_ui=3.8722943722943723, est=3.851150664758574, details={'actual_k': 0, 'was_impossible': False}),\n",
       " Prediction(uid='A1QGB9XTR7KCZU', iid='B000001F66', r_ui=3.736533131771227, est=3.652021628679142, details={'was_impossible': True, 'reason': 'User and/or item is unknown.'}),\n",
       " Prediction(uid='A2AOZQ3WTNVVOK', iid='B000AL730O', r_ui=3.8583047904476473, est=3.8026882628974503, details={'actual_k': 3, 'was_impossible': False}),\n",
       " Prediction(uid='A2M5NJCO91XRP1', iid='B000001F66', r_ui=4.111607142857142, est=3.7612085663704957, details={'actual_k': 1, 'was_impossible': False}),\n",
       " Prediction(uid='A3HU0B9XUEVHIM', iid='B000002PD8', r_ui=3.888965201465201, est=3.9407371542652325, details={'actual_k': 5, 'was_impossible': False}),\n",
       " Prediction(uid='ACQT14ZN20YQY', iid='B00000D9TQ', r_ui=4.428571428571429, est=3.652021628679142, details={'was_impossible': True, 'reason': 'User and/or item is unknown.'}),\n",
       " Prediction(uid='A186TO26DHOCH6', iid='B000023VR6', r_ui=2.581845238095238, est=3.0973728818512427, details={'actual_k': 5, 'was_impossible': False}),\n",
       " Prediction(uid='A3DI391K4GAI7Q', iid='B00002MZ4W', r_ui=3.833971088435374, est=3.7180375340846417, details={'actual_k': 1, 'was_impossible': False}),\n",
       " Prediction(uid='A3GKOMCQTTWPUI', iid='B000031XCY', r_ui=3.4485798535487975, est=3.181418534947097, details={'actual_k': 5, 'was_impossible': False}),\n",
       " Prediction(uid='A2Z83T6WL8EHHA', iid='B000BGR18W', r_ui=3.980867346938776, est=4.241371394147537, details={'actual_k': 2, 'was_impossible': False}),\n",
       " Prediction(uid='A3FBGZ4E6KGIW2', iid='B00008J4P5', r_ui=2.0348794063079776, est=3.4927046312564496, details={'actual_k': 5, 'was_impossible': False}),\n",
       " Prediction(uid='A1EYSN1T55SV7U', iid='B000002LQR', r_ui=4.004057921245421, est=4.229410467578503, details={'actual_k': 3, 'was_impossible': False}),\n",
       " Prediction(uid='A1M8AYAL3L8ACP', iid='B000002VT6', r_ui=2.634920634920635, est=3.3433585154018353, details={'actual_k': 5, 'was_impossible': False}),\n",
       " Prediction(uid='A103KNDW8GN92L', iid='B000001EGC', r_ui=3.831022859594288, est=3.7127205515715587, details={'actual_k': 5, 'was_impossible': False}),\n",
       " Prediction(uid='A2GJDOQL63SDM7', iid='B00018D5CQ', r_ui=3.312301587301587, est=3.530083097279934, details={'actual_k': 2, 'was_impossible': False}),\n",
       " Prediction(uid='A1BBT9XLKQDV81', iid='B000BGR18W', r_ui=3.6284461152882206, est=3.7484063894847117, details={'actual_k': 2, 'was_impossible': False}),\n",
       " Prediction(uid='A1AISPOIIHTHXX', iid='B00008VOQM', r_ui=3.572074496465252, est=3.3907283319144903, details={'actual_k': 0, 'was_impossible': False}),\n",
       " Prediction(uid='A3G10NPD661EQD', iid='B000002KH3', r_ui=3.8308441558441557, est=4.077614422844462, details={'actual_k': 4, 'was_impossible': False}),\n",
       " Prediction(uid='A38P3F25AA6VDX', iid='B0000025RI', r_ui=3.7142857142857144, est=3.652021628679142, details={'was_impossible': True, 'reason': 'User and/or item is unknown.'}),\n",
       " Prediction(uid='A1GY0FJOL6I37K', iid='B0000BWVLM', r_ui=3.6603896103896107, est=4.1061894740887634, details={'actual_k': 4, 'was_impossible': False}),\n",
       " Prediction(uid='A1HY4CVW8K1QFQ', iid='B00004T9UF', r_ui=3.538095238095238, est=3.5578083040919877, details={'actual_k': 5, 'was_impossible': False}),\n",
       " Prediction(uid='A2UXKWVHJ0JSHN', iid='B000BLI4UG', r_ui=4.318783068783069, est=3.834720333294547, details={'actual_k': 5, 'was_impossible': False}),\n",
       " Prediction(uid='AAB5UJPDLDL8Y', iid='B000002UCL', r_ui=3.9844962180676466, est=3.652021628679142, details={'was_impossible': True, 'reason': 'User and/or item is unknown.'}),\n",
       " Prediction(uid='A33TRNCQK4IUO7', iid='B0000AKOMI', r_ui=3.604251020019214, est=3.591212307895565, details={'actual_k': 5, 'was_impossible': False}),\n",
       " Prediction(uid='A13EHGWL2EFJOD', iid='B000003AEK', r_ui=3.8473008820753187, est=4.042645722019837, details={'actual_k': 2, 'was_impossible': False}),\n",
       " Prediction(uid='A3NY5JFGYCD6JB', iid='B000UMQDHC', r_ui=4.196553884711779, est=2.7471974415633253, details={'actual_k': 1, 'was_impossible': False}),\n",
       " Prediction(uid='A1H5E7O5BW2J13', iid='B004K4AUZW', r_ui=2.477348823051948, est=4.166238119851578, details={'actual_k': 2, 'was_impossible': False}),\n",
       " Prediction(uid='A1ZFWU0DQCPKIJ', iid='B000002LGQ', r_ui=4.01984126984127, est=3.8825424753936915, details={'actual_k': 0, 'was_impossible': False}),\n",
       " Prediction(uid='A1NP9X56O2MNLV', iid='B00016XMOE', r_ui=3.9136297376093294, est=3.690526404634142, details={'actual_k': 3, 'was_impossible': False}),\n",
       " Prediction(uid='A3HJSPGJGVC1QK', iid='B0000646TK', r_ui=3.2444897959183674, est=3.8619656028182012, details={'actual_k': 2, 'was_impossible': False}),\n",
       " Prediction(uid='A1IANEBSMVGHS9', iid='B000006045', r_ui=3.751369992441421, est=3.812737920594118, details={'actual_k': 5, 'was_impossible': False}),\n",
       " Prediction(uid='AE5H0OUVCPOGR', iid='B00003002C', r_ui=3.5846153846153848, est=3.8581013147289496, details={'actual_k': 2, 'was_impossible': False}),\n",
       " Prediction(uid='A2QQ5O2TFZPTIH', iid='B0000AQS1A', r_ui=3.820910973084886, est=3.589579334713923, details={'actual_k': 5, 'was_impossible': False}),\n",
       " Prediction(uid='A3DL686B8JEM8A', iid='B0000029AP', r_ui=3.7686056998557, est=3.8031152749509975, details={'actual_k': 0, 'was_impossible': False}),\n",
       " Prediction(uid='A1XJ2XSG4W96K8', iid='B00008J4P5', r_ui=3.232142857142857, est=2.753523896499883, details={'actual_k': 5, 'was_impossible': False}),\n",
       " Prediction(uid='A33ADGP37RNHO0', iid='B00005YW4H', r_ui=3.373015873015873, est=3.2204288306557314, details={'actual_k': 3, 'was_impossible': False}),\n",
       " Prediction(uid='A2LR32KJUKWW4N', iid='B000OYC3J8', r_ui=2.8701298701298703, est=2.730010651538379, details={'actual_k': 3, 'was_impossible': False}),\n",
       " Prediction(uid='A3CYQJWZ2FBTAP', iid='B00004YKUI', r_ui=3.7966315558481463, est=3.882863587468874, details={'actual_k': 1, 'was_impossible': False}),\n",
       " Prediction(uid='A2ZVERVFM25MJT', iid='B000002NJS', r_ui=3.926384839650146, est=3.976267443863197, details={'actual_k': 1, 'was_impossible': False}),\n",
       " Prediction(uid='A11H85UYL2R4KX', iid='B00005R8EL', r_ui=3.786940586419753, est=3.4355864977276536, details={'actual_k': 4, 'was_impossible': False}),\n",
       " Prediction(uid='AV0OBG2SS1I1R', iid='B000006045', r_ui=3.8047619047619046, est=3.8286740459314883, details={'actual_k': 0, 'was_impossible': False}),\n",
       " Prediction(uid='A3S4EAEXYDG7SB', iid='B000002AP1', r_ui=3.862798912051404, est=3.6150407779355733, details={'actual_k': 0, 'was_impossible': False}),\n",
       " Prediction(uid='AGZ28CC1MLUAD', iid='B0006ZQ9BS', r_ui=3.307142857142857, est=3.160305080118458, details={'actual_k': 5, 'was_impossible': False}),\n",
       " Prediction(uid='A3RQ0VN4KUKH8G', iid='B000002OPL', r_ui=4.353246753246753, est=4.277181548277612, details={'actual_k': 1, 'was_impossible': False}),\n",
       " Prediction(uid='A1KNYQPZ1JQD62', iid='B0000026WD', r_ui=3.778780743066457, est=3.6666617003672775, details={'actual_k': 2, 'was_impossible': False}),\n",
       " Prediction(uid='AQQLWCMRNDFGI', iid='B00000253N', r_ui=3.803174603174603, est=3.9414068303898637, details={'actual_k': 1, 'was_impossible': False}),\n",
       " Prediction(uid='AWSYTZ2I2MW0V', iid='B000EMGAOY', r_ui=4.270727040816326, est=3.7426627230657865, details={'actual_k': 5, 'was_impossible': False}),\n",
       " Prediction(uid='A1U11PS71ML0YJ', iid='B00096S3PY', r_ui=3.607142857142857, est=3.899360751349293, details={'actual_k': 5, 'was_impossible': False}),\n",
       " Prediction(uid='A9Q28YTLYREO7', iid='B0001Z53AQ', r_ui=2.5892857142857144, est=2.6642134140037257, details={'actual_k': 5, 'was_impossible': False}),\n",
       " Prediction(uid='AK1OBVI54SY73', iid='B000002BE9', r_ui=3.667777777777778, est=3.307067415940052, details={'actual_k': 2, 'was_impossible': False}),\n",
       " Prediction(uid='A3IQNSSFHW4UI9', iid='B00005ICAW', r_ui=3.358630952380952, est=3.652021628679142, details={'was_impossible': True, 'reason': 'User and/or item is unknown.'}),\n",
       " Prediction(uid='A36WY9KM0NZSH7', iid='B00005YW4H', r_ui=3.1082251082251084, est=3.612896971284871, details={'actual_k': 0, 'was_impossible': False}),\n",
       " Prediction(uid='AOQMI9EFSEH5O', iid='B000002VN7', r_ui=2.665168165168165, est=3.921771341019031, details={'actual_k': 0, 'was_impossible': False}),\n",
       " Prediction(uid='A1T8N18XKDLJO4', iid='B000EMGAOY', r_ui=3.663582251082251, est=3.9528285092299837, details={'actual_k': 1, 'was_impossible': False}),\n",
       " Prediction(uid='A31I25HVVN8Z2B', iid='B000AL730O', r_ui=3.8851190476190474, est=3.652021628679142, details={'was_impossible': True, 'reason': 'User and/or item is unknown.'}),\n",
       " Prediction(uid='A3AL8GQ69QE7WN', iid='B00005TPKC', r_ui=3.3566943051070033, est=3.5806435060140216, details={'actual_k': 5, 'was_impossible': False}),\n",
       " Prediction(uid='A36ONZ3LB9V7FO', iid='B00006L7XQ', r_ui=3.6471861471861473, est=3.861686322758112, details={'actual_k': 0, 'was_impossible': False}),\n",
       " Prediction(uid='ARM0LDPXZSPNL', iid='B000BNTM32', r_ui=3.1275804988662133, est=3.859395239371694, details={'actual_k': 5, 'was_impossible': False}),\n",
       " Prediction(uid='A27TC5T7DUWTP', iid='B000002IXU', r_ui=3.5914523809523806, est=4.067612734054045, details={'actual_k': 3, 'was_impossible': False}),\n",
       " Prediction(uid='A1IGV7R562WB69', iid='B0000AGWFX', r_ui=3.335807050092764, est=3.466171881092297, details={'actual_k': 1, 'was_impossible': False}),\n",
       " Prediction(uid='A3GP5YP52BD4EX', iid='B00000J7JO', r_ui=3.886904761904762, est=3.7694982419428427, details={'actual_k': 0, 'was_impossible': False}),\n",
       " Prediction(uid='A250BI36M1IR26', iid='B00097A5H2', r_ui=4.035714285714286, est=3.3622836087760204, details={'actual_k': 5, 'was_impossible': False}),\n",
       " Prediction(uid='A25NMMI7AH30W2', iid='B0000013GH', r_ui=3.7904761904761903, est=3.96305399177291, details={'actual_k': 3, 'was_impossible': False}),\n",
       " Prediction(uid='A3VSX2TJM78WMT', iid='B000EMGAOY', r_ui=3.5714285714285716, est=3.6824813841650346, details={'actual_k': 0, 'was_impossible': False}),\n",
       " Prediction(uid='A66GZ501LMBQV', iid='B000002L7G', r_ui=3.8391895141895143, est=3.852061666999273, details={'actual_k': 0, 'was_impossible': False}),\n",
       " Prediction(uid='A2UXQM067E6VAX', iid='B00065JTAQ', r_ui=3.3770841670001337, est=3.8627712927994953, details={'actual_k': 5, 'was_impossible': False}),\n",
       " Prediction(uid='A1K5XO3NSAYTK1', iid='B0000AQS1A', r_ui=3.1124338624338628, est=2.8685907083309923, details={'actual_k': 4, 'was_impossible': False}),\n",
       " Prediction(uid='A1F2EYORWOZ3G1', iid='B0000CD5FR', r_ui=4.053446553446554, est=3.652021628679142, details={'was_impossible': True, 'reason': 'User and/or item is unknown.'}),\n",
       " Prediction(uid='A2POZM26QJ8FJ1', iid='B000003B7W', r_ui=3.643118785975929, est=3.9112857367011635, details={'actual_k': 5, 'was_impossible': False}),\n",
       " Prediction(uid='A2RFR3QSF0VOVG', iid='B00003002C', r_ui=3.900793650793651, est=3.9058222954059874, details={'actual_k': 1, 'was_impossible': False}),\n",
       " Prediction(uid='A3IABMFIXCW4KB', iid='B0000C0FKA', r_ui=2.5899859943977592, est=3.652021628679142, details={'was_impossible': True, 'reason': 'User and/or item is unknown.'}),\n",
       " Prediction(uid='A1X93ES4DITTWK', iid='B0007NFL18', r_ui=2.138392857142857, est=2.4539466687605893, details={'actual_k': 5, 'was_impossible': False}),\n",
       " Prediction(uid='A289XSD9FQ7XSB', iid='B000AY9OGW', r_ui=3.5838589981447124, est=3.8721951709064752, details={'actual_k': 1, 'was_impossible': False}),\n",
       " Prediction(uid='A2PTL3QI1NIYGS', iid='B000069HKH', r_ui=3.1919720064881356, est=3.6362690938709914, details={'actual_k': 1, 'was_impossible': False}),\n",
       " Prediction(uid='A3T23SHY3PASZ3', iid='B00006JO3X', r_ui=4.0511131725417435, est=3.7742988179501125, details={'actual_k': 3, 'was_impossible': False}),\n",
       " Prediction(uid='A22VNXHU6IZ5MT', iid='B000001FZ6', r_ui=4.227251325334821, est=4.267491779974599, details={'actual_k': 4, 'was_impossible': False}),\n",
       " Prediction(uid='A2KPVBROV25H5B', iid='B0007NFL18', r_ui=3.8392857142857144, est=3.611612299640589, details={'actual_k': 3, 'was_impossible': False}),\n",
       " Prediction(uid='A1N7IGT6JAM0E', iid='B00006RAKP', r_ui=2.9947620738636362, est=3.652021628679142, details={'was_impossible': True, 'reason': 'User and/or item is unknown.'}),\n",
       " Prediction(uid='A2FTSEVRW1KIXX', iid='B0000029AP', r_ui=3.5986394557823127, est=3.8031152749509975, details={'actual_k': 0, 'was_impossible': False}),\n",
       " Prediction(uid='A3QAV7LALVG1F7', iid='B0000029AN', r_ui=4.028911564625851, est=3.998693154968132, details={'actual_k': 1, 'was_impossible': False}),\n",
       " Prediction(uid='A2RIY8RC2ZH3NX', iid='B0009VJWQS', r_ui=3.3343554593554594, est=3.4531945945863596, details={'actual_k': 1, 'was_impossible': False}),\n",
       " Prediction(uid='A1DMDLU9AE7L20', iid='B000001FAO', r_ui=3.964985994397759, est=3.833623084871033, details={'actual_k': 0, 'was_impossible': False}),\n",
       " Prediction(uid='A5Y2KX0J3KZ2I', iid='B00006M183', r_ui=3.6285714285714286, est=3.574136037072288, details={'actual_k': 0, 'was_impossible': False}),\n",
       " Prediction(uid='A1GN8UJIZLCA59', iid='B000AOENCM', r_ui=3.8448393711551607, est=3.561064003643654, details={'actual_k': 5, 'was_impossible': False}),\n",
       " Prediction(uid='A3S98L5B1SR9P1', iid='B00000064G', r_ui=3.457142857142857, est=3.94633312468686, details={'actual_k': 4, 'was_impossible': False}),\n",
       " Prediction(uid='A7JRDNX3WOMTR', iid='B0000024JN', r_ui=3.0918149311006453, est=3.5253219571422525, details={'actual_k': 5, 'was_impossible': False}),\n",
       " Prediction(uid='A1S2IY37JU93XS', iid='B00006ZCFH', r_ui=3.2086049883061545, est=3.764329690617229, details={'actual_k': 5, 'was_impossible': False}),\n",
       " Prediction(uid='A9Q28YTLYREO7', iid='B0000646TK', r_ui=3.1417044595616024, est=2.936123644768931, details={'actual_k': 5, 'was_impossible': False}),\n",
       " Prediction(uid='A3KENOAUKTWZJL', iid='B0000634ID', r_ui=4.383116883116883, est=2.7805657637371235, details={'actual_k': 1, 'was_impossible': False}),\n",
       " Prediction(uid='A26NLSTT75FMJM', iid='B000001EGA', r_ui=3.0255102040816326, est=3.578849300209849, details={'actual_k': 5, 'was_impossible': False}),\n",
       " Prediction(uid='A1P2XB9U35BJQX', iid='B000021YQV', r_ui=3.881912919906841, est=3.7105821020316974, details={'actual_k': 0, 'was_impossible': False}),\n",
       " Prediction(uid='AEH71A815NRJ3', iid='B00018D44U', r_ui=4.2457142857142856, est=3.557224576059362, details={'actual_k': 0, 'was_impossible': False}),\n",
       " Prediction(uid='A2C5VLIJMDPWHI', iid='B000QUCPUC', r_ui=2.9069398343591892, est=2.9871258986171836, details={'actual_k': 5, 'was_impossible': False}),\n",
       " Prediction(uid='A11H85UYL2R4KX', iid='B00000163G', r_ui=3.6487322201607917, est=4.099862325486068, details={'actual_k': 5, 'was_impossible': False}),\n",
       " Prediction(uid='A3FVFJ8D95E9KY', iid='B000002IOW', r_ui=2.7072704081632653, est=3.4698245896149618, details={'actual_k': 5, 'was_impossible': False}),\n",
       " Prediction(uid='A2EENLV6OQ3DYM', iid='B000002G7G', r_ui=3.3918650793650795, est=3.970450879337729, details={'actual_k': 4, 'was_impossible': False}),\n",
       " Prediction(uid='A3TPW6TEDC5MO5', iid='B0002X314C', r_ui=3.853762448489011, est=2.871630084492223, details={'actual_k': 1, 'was_impossible': False}),\n",
       " Prediction(uid='A1QJHZUUMKZYZG', iid='B00004Z41Q', r_ui=4.01530612244898, est=3.621612938362824, details={'actual_k': 5, 'was_impossible': False}),\n",
       " Prediction(uid='A2Q9LCP54NYFUJ', iid='B000001A6X', r_ui=3.7129329004329006, est=3.7703783474614667, details={'actual_k': 2, 'was_impossible': False}),\n",
       " Prediction(uid='A37HCSGGRH8UO6', iid='B00064X2QY', r_ui=2.5992430922986482, est=3.3761941497693972, details={'actual_k': 4, 'was_impossible': False}),\n",
       " Prediction(uid='A3464G00K8ZYD1', iid='B000002PD7', r_ui=4.192857142857143, est=4.005659530680106, details={'actual_k': 5, 'was_impossible': False}),\n",
       " Prediction(uid='A3GGKVDQM7E4VJ', iid='B004K4AUZW', r_ui=3.7145992772108842, est=3.652021628679142, details={'was_impossible': True, 'reason': 'User and/or item is unknown.'}),\n",
       " Prediction(uid='A3AL8GQ69QE7WN', iid='B0002PD3HU', r_ui=3.2827767470624614, est=3.42265652424997, details={'actual_k': 4, 'was_impossible': False}),\n",
       " Prediction(uid='A32UBKPBS1JEMP', iid='B0002X314C', r_ui=2.4179894179894177, est=3.8040077426208003, details={'actual_k': 1, 'was_impossible': False}),\n",
       " Prediction(uid='A1AYEI2SNFPYES', iid='B000197KVW', r_ui=3.562755102040817, est=3.4546203875708077, details={'actual_k': 5, 'was_impossible': False}),\n",
       " Prediction(uid='A2B4IFORHECQ8Y', iid='B000084T18', r_ui=2.5792265769944343, est=3.3750259805743905, details={'actual_k': 0, 'was_impossible': False}),\n",
       " Prediction(uid='A2NLP8TW1TCKN3', iid='B0007NFL18', r_ui=3.7672643089974085, est=3.3477971519593535, details={'actual_k': 5, 'was_impossible': False}),\n",
       " Prediction(uid='A1VH6QWC6JZRAC', iid='B000002P5W', r_ui=4.101692090977806, est=4.026502133598164, details={'actual_k': 2, 'was_impossible': False}),\n",
       " Prediction(uid='A3HTX1NOTTWERP', iid='B000002GXL', r_ui=3.9466773986948467, est=3.941292240570525, details={'actual_k': 4, 'was_impossible': False}),\n",
       " Prediction(uid='A20DZX38KRBIT8', iid='B00005TPKC', r_ui=3.4285714285714284, est=3.9865535064778577, details={'actual_k': 2, 'was_impossible': False}),\n",
       " Prediction(uid='A2774M0U939V58', iid='B00006RAKP', r_ui=2.878826530612245, est=4.590413345987533, details={'actual_k': 1, 'was_impossible': False}),\n",
       " Prediction(uid='A3OLZXHFGUAMWW', iid='B00005ONMT', r_ui=3.6571428571428575, est=3.375389769337673, details={'actual_k': 5, 'was_impossible': False}),\n",
       " Prediction(uid='AZYZA8FDL48GD', iid='B00096S3PY', r_ui=3.7251846193022664, est=3.8508888252025706, details={'actual_k': 2, 'was_impossible': False}),\n",
       " Prediction(uid='A2LZJ5J9H862SN', iid='B00000D9TQ', r_ui=4.142857142857142, est=3.8437981374003787, details={'actual_k': 1, 'was_impossible': False}),\n",
       " Prediction(uid='AM2PV53UX1JEQ', iid='B000002LGQ', r_ui=3.9647495361781075, est=4.075974048371648, details={'actual_k': 3, 'was_impossible': False}),\n",
       " Prediction(uid='AAM4PQ0VMEQLL', iid='B00000AFF9', r_ui=2.146825396825397, est=3.353390072563302, details={'actual_k': 3, 'was_impossible': False}),\n",
       " Prediction(uid='A2WV1BVPR5YKFZ', iid='B000001A5X', r_ui=3.4489795918367347, est=3.6844297198500997, details={'actual_k': 1, 'was_impossible': False}),\n",
       " Prediction(uid='A1LEMO6BI9LTPF', iid='B00006ZCFI', r_ui=3.3125, est=3.652021628679142, details={'was_impossible': True, 'reason': 'User and/or item is unknown.'}),\n",
       " Prediction(uid='ADJXL0W0RJ7VV', iid='B000002IT2', r_ui=3.843934240362812, est=3.9137330774293093, details={'actual_k': 3, 'was_impossible': False}),\n",
       " Prediction(uid='A27FR2C67JPDRS', iid='B000001DZO', r_ui=4.174174783549784, est=4.085296264756744, details={'actual_k': 3, 'was_impossible': False}),\n",
       " Prediction(uid='A1V2NDE49E2TLQ', iid='B0000062S6', r_ui=2.6723356009070294, est=3.652021628679142, details={'was_impossible': True, 'reason': 'User and/or item is unknown.'}),\n",
       " Prediction(uid='AZ6A2VCRPFRSE', iid='B00003NHAR', r_ui=5.0, est=2.4446579061436093, details={'actual_k': 1, 'was_impossible': False}),\n",
       " Prediction(uid='A20EQCMAGDU0J0', iid='B000050HS9', r_ui=3.4786049268192127, est=3.2727163020771592, details={'actual_k': 3, 'was_impossible': False}),\n",
       " Prediction(uid='AKS4FTO63XVSC', iid='B00006690F', r_ui=4.190476190476191, est=4.485021589516982, details={'actual_k': 5, 'was_impossible': False}),\n",
       " Prediction(uid='A2YB3GKMN76KJK', iid='B000035X1M', r_ui=4.714285714285714, est=4.369100095749388, details={'actual_k': 2, 'was_impossible': False}),\n",
       " Prediction(uid='A2D7LL1KMNT040', iid='B0009G3BWE', r_ui=3.8554421768707483, est=3.2632783608968396, details={'actual_k': 0, 'was_impossible': False}),\n",
       " Prediction(uid='A1NLD7JAQBLEML', iid='B000FVQYYK', r_ui=3.886243386243386, est=3.6547361295570147, details={'actual_k': 1, 'was_impossible': False}),\n",
       " Prediction(uid='A1LHPS1PADD9FM', iid='B000EU1KRS', r_ui=3.4250000000000003, est=3.9339840540758706, details={'actual_k': 2, 'was_impossible': False}),\n",
       " Prediction(uid='AFASPSS3MUJUT', iid='B0002X314C', r_ui=4.228571428571429, est=3.4385996962924663, details={'actual_k': 1, 'was_impossible': False}),\n",
       " Prediction(uid='A1XX5797TIZT5Q', iid='B000002LRX', r_ui=3.520050125313283, est=3.7251711845347777, details={'actual_k': 5, 'was_impossible': False}),\n",
       " Prediction(uid='A8E7BX37NMF87', iid='B000002IT2', r_ui=4.13489010989011, est=3.326815790473717, details={'actual_k': 2, 'was_impossible': False}),\n",
       " Prediction(uid='A3MISB22HHN0D2', iid='B00004T9UF', r_ui=4.1269841269841265, est=3.4248278198340874, details={'actual_k': 4, 'was_impossible': False}),\n",
       " Prediction(uid='ACMAVHGOYSSR4', iid='B00005O54Q', r_ui=3.9193817878028403, est=3.7140288765824274, details={'actual_k': 0, 'was_impossible': False}),\n",
       " Prediction(uid='A1Q1FK7FKS40WU', iid='B0000024JN', r_ui=3.697802197802198, est=3.288537922624917, details={'actual_k': 1, 'was_impossible': False}),\n",
       " Prediction(uid='AGAMDS21PJZPK', iid='B00004UARR', r_ui=4.037105751391466, est=3.9846774056354777, details={'actual_k': 5, 'was_impossible': False}),\n",
       " Prediction(uid='A3FF936V6MPPDI', iid='B00000HZG9', r_ui=3.990046465014577, est=4.242723541150754, details={'actual_k': 2, 'was_impossible': False}),\n",
       " Prediction(uid='A13OD50LTDL2CQ', iid='B00000016W', r_ui=3.878779289493575, est=3.7821038761819503, details={'actual_k': 1, 'was_impossible': False}),\n",
       " Prediction(uid='AJMO5NI0FNMDQ', iid='B000003B6J', r_ui=3.742091836734694, est=3.911429076010054, details={'actual_k': 5, 'was_impossible': False}),\n",
       " Prediction(uid='A3T4JO848Y08UC', iid='B000N2G3RY', r_ui=3.867857142857143, est=3.809057603978816, details={'actual_k': 1, 'was_impossible': False}),\n",
       " Prediction(uid='AE42JLYPXUI45', iid='B000002MFN', r_ui=3.7923742336440753, est=3.8381068107014995, details={'actual_k': 2, 'was_impossible': False}),\n",
       " Prediction(uid='A37PBGUFQ387XE', iid='B00006JO3X', r_ui=3.586967418546366, est=3.949572333016339, details={'actual_k': 3, 'was_impossible': False}),\n",
       " Prediction(uid='A2JAKHFYI88ZX0', iid='B00005TPKC', r_ui=3.785936113575865, est=3.8653486235212875, details={'actual_k': 5, 'was_impossible': False}),\n",
       " Prediction(uid='A28J4AFUNW545I', iid='B005QJZ5FA', r_ui=4.5, est=3.652021628679142, details={'was_impossible': True, 'reason': 'User and/or item is unknown.'}),\n",
       " Prediction(uid='A2EENLV6OQ3DYM', iid='B00005K9KP', r_ui=3.32523566840337, est=3.5936422613307792, details={'actual_k': 3, 'was_impossible': False}),\n",
       " Prediction(uid='A3LZBOBV9H1HDV', iid='B000IY04RC', r_ui=4.642857142857142, est=3.5514406723636056, details={'actual_k': 0, 'was_impossible': False}),\n",
       " Prediction(uid='A2QLSXEFSG2VM3', iid='B00002MZ4W', r_ui=3.8297875754075212, est=3.7535466357515674, details={'actual_k': 0, 'was_impossible': False}),\n",
       " Prediction(uid='ARPRJZSXOZO2V', iid='B00000DGUG', r_ui=3.7838345864661656, est=3.513047113297266, details={'actual_k': 0, 'was_impossible': False}),\n",
       " Prediction(uid='A461VTLW9G9YB', iid='B0000AKOMI', r_ui=4.364285714285714, est=3.6091334029913043, details={'actual_k': 5, 'was_impossible': False}),\n",
       " Prediction(uid='AH96V4I4XE9H1', iid='B00000IAU3', r_ui=4.416666666666667, est=4.339845016480517, details={'actual_k': 1, 'was_impossible': False}),\n",
       " Prediction(uid='A9Q28YTLYREO7', iid='B0006ZQ9BS', r_ui=2.3076923076923075, est=2.9939676635789074, details={'actual_k': 5, 'was_impossible': False}),\n",
       " Prediction(uid='A1CS70DT7ZPCJJ', iid='B0000025WQ', r_ui=3.5059523809523805, est=3.30946448478016, details={'actual_k': 1, 'was_impossible': False}),\n",
       " Prediction(uid='A1SPYMGDEWKK6I', iid='B0002IQHBQ', r_ui=4.039285714285715, est=4.29155413658752, details={'actual_k': 5, 'was_impossible': False}),\n",
       " Prediction(uid='A1JIW8GOSSGUQR', iid='B00008H2LB', r_ui=3.458085317460317, est=2.9647839088102197, details={'actual_k': 5, 'was_impossible': False}),\n",
       " Prediction(uid='A35JR4D6FLXYRQ', iid='B00065BYAY', r_ui=3.817857142857143, est=3.5146035861507814, details={'actual_k': 5, 'was_impossible': False}),\n",
       " Prediction(uid='A1O4HXAZ7YZ67H', iid='B000084T18', r_ui=3.7099125364431487, est=3.309470304187302, details={'actual_k': 1, 'was_impossible': False}),\n",
       " Prediction(uid='A35XFZN4MWNKK4', iid='B00005NHJS', r_ui=3.8628435900472375, est=3.622175729816821, details={'actual_k': 4, 'was_impossible': False}),\n",
       " Prediction(uid='A2L9XGCHUP7NPS', iid='B00004UARR', r_ui=3.7714285714285714, est=3.8009012939704965, details={'actual_k': 1, 'was_impossible': False}),\n",
       " Prediction(uid='A1NV8HZTGKIPXQ', iid='B0000CD5FR', r_ui=4.028476223025095, est=3.9888764754873574, details={'actual_k': 3, 'was_impossible': False}),\n",
       " Prediction(uid='A1I2UJI3NCR93N', iid='B0000025BA', r_ui=4.285714285714286, est=3.8864987341097113, details={'actual_k': 5, 'was_impossible': False}),\n",
       " Prediction(uid='A3RC3AK8UN89I9', iid='B00005NHJS', r_ui=3.9071789321789323, est=3.8725813002592147, details={'actual_k': 5, 'was_impossible': False}),\n",
       " Prediction(uid='A1E3N1GKATTQ0', iid='B0000013GT', r_ui=3.9155844155844157, est=4.222975085460771, details={'actual_k': 1, 'was_impossible': False}),\n",
       " Prediction(uid='A2WDZH6FQL7HO8', iid='B00005M987', r_ui=3.9474489795918366, est=2.875002348602074, details={'actual_k': 1, 'was_impossible': False}),\n",
       " Prediction(uid='A8TM0MI3D9T29', iid='B003KUSUG8', r_ui=3.764963886789284, est=4.17552357520945, details={'actual_k': 1, 'was_impossible': False}),\n",
       " Prediction(uid='A170QM825KM60W', iid='B0002S94RK', r_ui=3.554738562091503, est=3.9915429396500013, details={'actual_k': 3, 'was_impossible': False}),\n",
       " Prediction(uid='A1NUNET0L0BFR4', iid='B00065BYAY', r_ui=3.678231292517007, est=3.8220502707567547, details={'actual_k': 4, 'was_impossible': False}),\n",
       " Prediction(uid='A38QJ7JUUTVLKX', iid='B00005AAFJ', r_ui=2.4852380952380955, est=3.652021628679142, details={'was_impossible': True, 'reason': 'User and/or item is unknown.'}),\n",
       " Prediction(uid='A3RV0VQKIM2HSW', iid='B0002X314C', r_ui=3.689868804664723, est=3.550548664141481, details={'actual_k': 5, 'was_impossible': False}),\n",
       " Prediction(uid='A39XGSL1OGDVDE', iid='B000BLI4UG', r_ui=3.7704735740450026, est=3.7307023158672727, details={'actual_k': 4, 'was_impossible': False}),\n",
       " Prediction(uid='A3CY6819GDT75H', iid='B000002KH3', r_ui=3.991341991341991, est=3.2836417157991393, details={'actual_k': 3, 'was_impossible': False}),\n",
       " Prediction(uid='A3C6ZCBUNXUT7V', iid='B00005O6IR', r_ui=3.5796348812477845, est=3.9709454213675435, details={'actual_k': 5, 'was_impossible': False}),\n",
       " Prediction(uid='AWSYTZ2I2MW0V', iid='B00000J7JO', r_ui=4.082908163265306, est=4.03657687357091, details={'actual_k': 5, 'was_impossible': False}),\n",
       " Prediction(uid='A918P6KPDBN0Q', iid='B000N2G3RY', r_ui=3.6703109815354713, est=4.230526559295157, details={'actual_k': 2, 'was_impossible': False}),\n",
       " Prediction(uid='ARQQ97F68VTO6', iid='B003WTE886', r_ui=4.714285714285714, est=4.204350398791971, details={'actual_k': 1, 'was_impossible': False}),\n",
       " Prediction(uid='A2IIEAHI6BCWYA', iid='B00001QGQI', r_ui=3.2787212787212785, est=3.939966533498853, details={'actual_k': 1, 'was_impossible': False}),\n",
       " Prediction(uid='A1HIOSHOIZ03XP', iid='B004D1GZ2E', r_ui=3.3059922533606745, est=3.840575080966503, details={'actual_k': 0, 'was_impossible': False}),\n",
       " Prediction(uid='A1BPFV0N4C12AI', iid='B0007TX894', r_ui=3.9471490414347556, est=3.7598997678085264, details={'actual_k': 0, 'was_impossible': False}),\n",
       " Prediction(uid='AHOP98V8UUXZB', iid='B0000025F7', r_ui=4.357142857142858, est=3.8078063740498163, details={'actual_k': 3, 'was_impossible': False}),\n",
       " Prediction(uid='A1L1NYH387VKGM', iid='B000001EGA', r_ui=3.838961038961039, est=3.7469087938757344, details={'actual_k': 4, 'was_impossible': False}),\n",
       " Prediction(uid='A234IZP4U2Y0OQ', iid='B000EMGAOY', r_ui=3.9514896867838045, est=3.652021628679142, details={'was_impossible': True, 'reason': 'User and/or item is unknown.'}),\n",
       " Prediction(uid='A117RJ6J5CO53D', iid='B00000163G', r_ui=3.836060606060606, est=3.930114415741172, details={'actual_k': 0, 'was_impossible': False}),\n",
       " Prediction(uid='A3K4JD25FZG9UU', iid='B0002IQHBQ', r_ui=4.44047619047619, est=3.652021628679142, details={'was_impossible': True, 'reason': 'User and/or item is unknown.'}),\n",
       " Prediction(uid='A3O4564U0PDCMP', iid='B00004X0Q0', r_ui=3.8782670963122094, est=3.6766619191579406, details={'actual_k': 0, 'was_impossible': False}),\n",
       " Prediction(uid='A2O8K7L29RLY54', iid='B004K4AUZW', r_ui=3.7115929705215422, est=3.97828223040934, details={'actual_k': 1, 'was_impossible': False}),\n",
       " Prediction(uid='A1TC5EBGPW13UJ', iid='B00005O6IR', r_ui=3.851615646258504, est=3.936187934907573, details={'actual_k': 3, 'was_impossible': False}),\n",
       " Prediction(uid='ATS4FKFOX9INH', iid='B0002A2WAO', r_ui=3.984063290275564, est=3.4830990998163407, details={'actual_k': 4, 'was_impossible': False}),\n",
       " Prediction(uid='A12WON27MLDXNI', iid='B0000029DD', r_ui=1.9285714285714286, est=4.075375105668133, details={'actual_k': 1, 'was_impossible': False}),\n",
       " Prediction(uid='ANBSW3BALFRR2', iid='B00009V7T2', r_ui=2.766956241956242, est=3.8744849811351907, details={'actual_k': 3, 'was_impossible': False}),\n",
       " Prediction(uid='A1Q0UFY6YKH3V', iid='B000UMQDHC', r_ui=3.9435606060606063, est=3.7061266754198443, details={'actual_k': 0, 'was_impossible': False}),\n",
       " Prediction(uid='A97B72F4UI8FA', iid='B0000CC6QG', r_ui=4.148388648388648, est=3.4098654165457445, details={'actual_k': 3, 'was_impossible': False}),\n",
       " Prediction(uid='A26NLSTT75FMJM', iid='B0000028RR', r_ui=3.7848133300939426, est=3.6807900027359146, details={'actual_k': 5, 'was_impossible': False}),\n",
       " Prediction(uid='A10CBLMJD1OQL7', iid='B000002IWQ', r_ui=3.442559523809524, est=3.989045496857886, details={'actual_k': 2, 'was_impossible': False}),\n",
       " Prediction(uid='A2UXKWVHJ0JSHN', iid='B00000HZG9', r_ui=4.119528619528619, est=4.064427040309676, details={'actual_k': 5, 'was_impossible': False}),\n",
       " Prediction(uid='A2F3XZ0Q7VS10P', iid='B000H0MKGK', r_ui=3.8891369047619047, est=3.4948131521489207, details={'actual_k': 1, 'was_impossible': False}),\n",
       " Prediction(uid='AG0XVH9H4QL95', iid='B004K4AUZW', r_ui=2.354541816726691, est=2.4427736836603047, details={'actual_k': 1, 'was_impossible': False}),\n",
       " Prediction(uid='A2GC1JN5F0ZVH8', iid='B0000AGWFX', r_ui=3.5793650793650795, est=3.5999097915307057, details={'actual_k': 5, 'was_impossible': False}),\n",
       " Prediction(uid='ACVFTS9X2MKJ8', iid='B000002KBB', r_ui=3.594253490870032, est=3.661951070693442, details={'actual_k': 2, 'was_impossible': False}),\n",
       " Prediction(uid='A3RQWGYU848KYV', iid='B00001QGQI', r_ui=3.8392171717171713, est=3.4367335853046055, details={'actual_k': 1, 'was_impossible': False}),\n",
       " Prediction(uid='A5WDJI6VT51TK', iid='B000002IOW', r_ui=3.6539682539682543, est=3.0051274680954956, details={'actual_k': 2, 'was_impossible': False}),\n",
       " Prediction(uid='AD0FOYVI4UZVP', iid='B00009LI14', r_ui=3.9280560709132137, est=3.9151112088690265, details={'actual_k': 1, 'was_impossible': False}),\n",
       " Prediction(uid='A8LVAO2H29WII', iid='B0009VJWQS', r_ui=4.6499999999999995, est=3.652021628679142, details={'was_impossible': True, 'reason': 'User and/or item is unknown.'}),\n",
       " Prediction(uid='A33M07VZBYRMPY', iid='B000002KH3', r_ui=4.017857142857142, est=4.432646883948881, details={'actual_k': 2, 'was_impossible': False}),\n",
       " Prediction(uid='A33B5M5CE7ZX7C', iid='B000000OUJ', r_ui=3.816666666666667, est=3.8153057046473187, details={'actual_k': 5, 'was_impossible': False}),\n",
       " Prediction(uid='AJMU8VVFKMZI4', iid='B000H0MKGK', r_ui=3.6904761904761907, est=3.9242619109508707, details={'actual_k': 3, 'was_impossible': False}),\n",
       " Prediction(uid='A1LHAXBM5GBJS2', iid='B000EMGAOY', r_ui=3.3214134542705973, est=3.464087184578447, details={'actual_k': 5, 'was_impossible': False}),\n",
       " Prediction(uid='A5QRODDMNQINQ', iid='B00065JTAQ', r_ui=3.144074675324675, est=3.8190287501859785, details={'actual_k': 5, 'was_impossible': False}),\n",
       " Prediction(uid='A25NN196JT60LS', iid='B000001F60', r_ui=2.6092857142857144, est=3.821782488854878, details={'actual_k': 2, 'was_impossible': False}),\n",
       " Prediction(uid='A3KG9S1Y2NH6X3', iid='B0000AGWFX', r_ui=3.074170274170274, est=3.3968314755847895, details={'actual_k': 1, 'was_impossible': False}),\n",
       " Prediction(uid='A3BTFDNUFPZWIL', iid='B00006690F', r_ui=2.501763668430335, est=2.2769427881479554, details={'actual_k': 2, 'was_impossible': False}),\n",
       " Prediction(uid='A2H1WNB30JNAWU', iid='B004D1GZ2E', r_ui=4.133928571428571, est=3.9888060672333783, details={'actual_k': 1, 'was_impossible': False}),\n",
       " Prediction(uid='A9DG42O0DBLFJ', iid='B00018D44U', r_ui=3.856632653061225, est=3.8837808250148282, details={'actual_k': 2, 'was_impossible': False}),\n",
       " Prediction(uid='A22HN0VTP9TCLJ', iid='B000002MFN', r_ui=2.969155844155844, est=3.5678885748921125, details={'actual_k': 2, 'was_impossible': False}),\n",
       " Prediction(uid='A3KMN9ZQ7RZXFR', iid='B00096S3PY', r_ui=4.410714285714286, est=3.652021628679142, details={'was_impossible': True, 'reason': 'User and/or item is unknown.'}),\n",
       " Prediction(uid='A26DOHWKRZPN8H', iid='B00008H2LB', r_ui=3.549614448051948, est=3.652021628679142, details={'was_impossible': True, 'reason': 'User and/or item is unknown.'}),\n",
       " Prediction(uid='A2OF0Z2L9STEQF', iid='B000002IOW', r_ui=3.9921887359594996, est=3.294499213841996, details={'actual_k': 4, 'was_impossible': False}),\n",
       " Prediction(uid='A1HFVQZIDK7UUD', iid='B00000163G', r_ui=3.564218249283184, est=3.6014297817080987, details={'actual_k': 5, 'was_impossible': False}),\n",
       " Prediction(uid='A3KG9S1Y2NH6X3', iid='B00007FGLS', r_ui=3.7513094396553046, est=3.6210088403069873, details={'actual_k': 0, 'was_impossible': False}),\n",
       " Prediction(uid='A21YRP0KJOLXNK', iid='B00006690F', r_ui=3.869360902255639, est=3.718587512652165, details={'actual_k': 1, 'was_impossible': False}),\n",
       " Prediction(uid='A3HOMQCJ2SFZ2', iid='B0000039Q3', r_ui=3.4342382154882154, est=4.128566291150709, details={'actual_k': 5, 'was_impossible': False}),\n",
       " Prediction(uid='ATQAR58FF4EX5', iid='B00065JTAQ', r_ui=3.875, est=3.44513994446392, details={'actual_k': 0, 'was_impossible': False}),\n",
       " Prediction(uid='A1MY1Y1Q1A1CLX', iid='B000002WR5', r_ui=4.261904761904762, est=3.0708864812206764, details={'actual_k': 1, 'was_impossible': False}),\n",
       " Prediction(uid='A2QCXAU1DR1QV', iid='B00006BTC7', r_ui=4.23, est=4.277166523322682, details={'actual_k': 1, 'was_impossible': False}),\n",
       " Prediction(uid='A22DKBJRTMY7UK', iid='B000BTDMDC', r_ui=3.813181101922022, est=2.685814053168222, details={'actual_k': 1, 'was_impossible': False}),\n",
       " Prediction(uid='A1YXCRFDXSXQOE', iid='B0000AKOMI', r_ui=3.960034013605442, est=3.2329427195469074, details={'actual_k': 1, 'was_impossible': False}),\n",
       " Prediction(uid='ADIDQRLLR4KBQ', iid='B00005QG9J', r_ui=2.292207792207792, est=3.706747818312253, details={'actual_k': 3, 'was_impossible': False}),\n",
       " Prediction(uid='A3AYA634I1IHI1', iid='B000001Y15', r_ui=2.9610389610389607, est=3.288722993408385, details={'actual_k': 1, 'was_impossible': False}),\n",
       " Prediction(uid='AVDIV5F95V6A2', iid='B0000TAZS8', r_ui=3.0111212572150072, est=3.4785549068276533, details={'actual_k': 5, 'was_impossible': False}),\n",
       " Prediction(uid='AKM95PATVGMAZ', iid='B00004T9UF', r_ui=3.5865027829313543, est=3.8526008368131457, details={'actual_k': 1, 'was_impossible': False}),\n",
       " Prediction(uid='A257KXBOBFRLCN', iid='B0000AGWFX', r_ui=3.576785259558369, est=3.981710684099836, details={'actual_k': 3, 'was_impossible': False}),\n",
       " ...]"
      ]
     },
     "execution_count": 37,
     "metadata": {},
     "output_type": "execute_result"
    }
   ],
   "source": [
    "test_pred"
   ]
  },
  {
   "cell_type": "code",
   "execution_count": 38,
   "id": "3f729fe5",
   "metadata": {},
   "outputs": [
    {
     "name": "stdout",
     "output_type": "stream",
     "text": [
      "Item-based Model : Test Set\n",
      "RMSE: 0.4725\n"
     ]
    },
    {
     "data": {
      "text/plain": [
       "0.47253758091529907"
      ]
     },
     "execution_count": 38,
     "metadata": {},
     "output_type": "execute_result"
    }
   ],
   "source": [
    "# get RMSE\n",
    "print(\"Item-based Model : Test Set\")\n",
    "accuracy.rmse(test_pred, verbose=True)"
   ]
  },
  {
   "cell_type": "code",
   "execution_count": 39,
   "id": "e0ad804b",
   "metadata": {},
   "outputs": [
    {
     "data": {
      "text/html": [
       "<div>\n",
       "<style scoped>\n",
       "    .dataframe tbody tr th:only-of-type {\n",
       "        vertical-align: middle;\n",
       "    }\n",
       "\n",
       "    .dataframe tbody tr th {\n",
       "        vertical-align: top;\n",
       "    }\n",
       "\n",
       "    .dataframe thead th {\n",
       "        text-align: right;\n",
       "    }\n",
       "</style>\n",
       "<table border=\"1\" class=\"dataframe\">\n",
       "  <thead>\n",
       "    <tr style=\"text-align: right;\">\n",
       "      <th>asin</th>\n",
       "      <th>B00000016W</th>\n",
       "      <th>B00000064G</th>\n",
       "      <th>B000000OUJ</th>\n",
       "      <th>B000000TDH</th>\n",
       "      <th>B0000013GH</th>\n",
       "      <th>B0000013GT</th>\n",
       "      <th>B00000163G</th>\n",
       "      <th>B000001A5X</th>\n",
       "      <th>B000001A6N</th>\n",
       "      <th>B000001A6X</th>\n",
       "      <th>...</th>\n",
       "      <th>B0029LHW4U</th>\n",
       "      <th>B002DSM8UC</th>\n",
       "      <th>B002GZQYMA</th>\n",
       "      <th>B003KUSUG8</th>\n",
       "      <th>B003V5PPZG</th>\n",
       "      <th>B003WTE886</th>\n",
       "      <th>B004D1GZ2E</th>\n",
       "      <th>B004K4AUZW</th>\n",
       "      <th>B004NSULHM</th>\n",
       "      <th>B005QJZ5FA</th>\n",
       "    </tr>\n",
       "    <tr>\n",
       "      <th>reviewerID</th>\n",
       "      <th></th>\n",
       "      <th></th>\n",
       "      <th></th>\n",
       "      <th></th>\n",
       "      <th></th>\n",
       "      <th></th>\n",
       "      <th></th>\n",
       "      <th></th>\n",
       "      <th></th>\n",
       "      <th></th>\n",
       "      <th></th>\n",
       "      <th></th>\n",
       "      <th></th>\n",
       "      <th></th>\n",
       "      <th></th>\n",
       "      <th></th>\n",
       "      <th></th>\n",
       "      <th></th>\n",
       "      <th></th>\n",
       "      <th></th>\n",
       "      <th></th>\n",
       "    </tr>\n",
       "  </thead>\n",
       "  <tbody>\n",
       "    <tr>\n",
       "      <th>A1020L7BWW9RAX</th>\n",
       "      <td>0.0</td>\n",
       "      <td>0.0</td>\n",
       "      <td>0.0</td>\n",
       "      <td>0.0</td>\n",
       "      <td>0.0</td>\n",
       "      <td>0.000000</td>\n",
       "      <td>0.0</td>\n",
       "      <td>0.000000</td>\n",
       "      <td>0.0</td>\n",
       "      <td>0.000000</td>\n",
       "      <td>...</td>\n",
       "      <td>0.0</td>\n",
       "      <td>0.0</td>\n",
       "      <td>0.0</td>\n",
       "      <td>0.0</td>\n",
       "      <td>0.0</td>\n",
       "      <td>0.0</td>\n",
       "      <td>0.0</td>\n",
       "      <td>0.0</td>\n",
       "      <td>0.0</td>\n",
       "      <td>0.0</td>\n",
       "    </tr>\n",
       "    <tr>\n",
       "      <th>A10323WWTFPSGP</th>\n",
       "      <td>0.0</td>\n",
       "      <td>0.0</td>\n",
       "      <td>0.0</td>\n",
       "      <td>0.0</td>\n",
       "      <td>0.0</td>\n",
       "      <td>0.000000</td>\n",
       "      <td>0.0</td>\n",
       "      <td>0.000000</td>\n",
       "      <td>0.0</td>\n",
       "      <td>0.000000</td>\n",
       "      <td>...</td>\n",
       "      <td>0.0</td>\n",
       "      <td>0.0</td>\n",
       "      <td>0.0</td>\n",
       "      <td>0.0</td>\n",
       "      <td>0.0</td>\n",
       "      <td>0.0</td>\n",
       "      <td>0.0</td>\n",
       "      <td>0.0</td>\n",
       "      <td>0.0</td>\n",
       "      <td>0.0</td>\n",
       "    </tr>\n",
       "    <tr>\n",
       "      <th>A103KNDW8GN92L</th>\n",
       "      <td>0.0</td>\n",
       "      <td>0.0</td>\n",
       "      <td>0.0</td>\n",
       "      <td>0.0</td>\n",
       "      <td>0.0</td>\n",
       "      <td>0.000000</td>\n",
       "      <td>0.0</td>\n",
       "      <td>0.000000</td>\n",
       "      <td>0.0</td>\n",
       "      <td>0.000000</td>\n",
       "      <td>...</td>\n",
       "      <td>0.0</td>\n",
       "      <td>0.0</td>\n",
       "      <td>0.0</td>\n",
       "      <td>0.0</td>\n",
       "      <td>0.0</td>\n",
       "      <td>0.0</td>\n",
       "      <td>0.0</td>\n",
       "      <td>0.0</td>\n",
       "      <td>0.0</td>\n",
       "      <td>0.0</td>\n",
       "    </tr>\n",
       "    <tr>\n",
       "      <th>A103W7ZPKGOCC9</th>\n",
       "      <td>0.0</td>\n",
       "      <td>0.0</td>\n",
       "      <td>0.0</td>\n",
       "      <td>0.0</td>\n",
       "      <td>0.0</td>\n",
       "      <td>0.000000</td>\n",
       "      <td>0.0</td>\n",
       "      <td>3.867143</td>\n",
       "      <td>0.0</td>\n",
       "      <td>4.002232</td>\n",
       "      <td>...</td>\n",
       "      <td>0.0</td>\n",
       "      <td>0.0</td>\n",
       "      <td>0.0</td>\n",
       "      <td>0.0</td>\n",
       "      <td>0.0</td>\n",
       "      <td>0.0</td>\n",
       "      <td>0.0</td>\n",
       "      <td>0.0</td>\n",
       "      <td>0.0</td>\n",
       "      <td>0.0</td>\n",
       "    </tr>\n",
       "    <tr>\n",
       "      <th>A105S56ODHGJEK</th>\n",
       "      <td>0.0</td>\n",
       "      <td>0.0</td>\n",
       "      <td>0.0</td>\n",
       "      <td>0.0</td>\n",
       "      <td>0.0</td>\n",
       "      <td>3.679894</td>\n",
       "      <td>0.0</td>\n",
       "      <td>0.000000</td>\n",
       "      <td>0.0</td>\n",
       "      <td>0.000000</td>\n",
       "      <td>...</td>\n",
       "      <td>0.0</td>\n",
       "      <td>0.0</td>\n",
       "      <td>0.0</td>\n",
       "      <td>0.0</td>\n",
       "      <td>0.0</td>\n",
       "      <td>0.0</td>\n",
       "      <td>0.0</td>\n",
       "      <td>0.0</td>\n",
       "      <td>0.0</td>\n",
       "      <td>0.0</td>\n",
       "    </tr>\n",
       "  </tbody>\n",
       "</table>\n",
       "<p>5 rows × 254 columns</p>\n",
       "</div>"
      ],
      "text/plain": [
       "asin            B00000016W  B00000064G  B000000OUJ  B000000TDH  B0000013GH  \\\n",
       "reviewerID                                                                   \n",
       "A1020L7BWW9RAX         0.0         0.0         0.0         0.0         0.0   \n",
       "A10323WWTFPSGP         0.0         0.0         0.0         0.0         0.0   \n",
       "A103KNDW8GN92L         0.0         0.0         0.0         0.0         0.0   \n",
       "A103W7ZPKGOCC9         0.0         0.0         0.0         0.0         0.0   \n",
       "A105S56ODHGJEK         0.0         0.0         0.0         0.0         0.0   \n",
       "\n",
       "asin            B0000013GT  B00000163G  B000001A5X  B000001A6N  B000001A6X  \\\n",
       "reviewerID                                                                   \n",
       "A1020L7BWW9RAX    0.000000         0.0    0.000000         0.0    0.000000   \n",
       "A10323WWTFPSGP    0.000000         0.0    0.000000         0.0    0.000000   \n",
       "A103KNDW8GN92L    0.000000         0.0    0.000000         0.0    0.000000   \n",
       "A103W7ZPKGOCC9    0.000000         0.0    3.867143         0.0    4.002232   \n",
       "A105S56ODHGJEK    3.679894         0.0    0.000000         0.0    0.000000   \n",
       "\n",
       "asin            ...  B0029LHW4U  B002DSM8UC  B002GZQYMA  B003KUSUG8  \\\n",
       "reviewerID      ...                                                   \n",
       "A1020L7BWW9RAX  ...         0.0         0.0         0.0         0.0   \n",
       "A10323WWTFPSGP  ...         0.0         0.0         0.0         0.0   \n",
       "A103KNDW8GN92L  ...         0.0         0.0         0.0         0.0   \n",
       "A103W7ZPKGOCC9  ...         0.0         0.0         0.0         0.0   \n",
       "A105S56ODHGJEK  ...         0.0         0.0         0.0         0.0   \n",
       "\n",
       "asin            B003V5PPZG  B003WTE886  B004D1GZ2E  B004K4AUZW  B004NSULHM  \\\n",
       "reviewerID                                                                   \n",
       "A1020L7BWW9RAX         0.0         0.0         0.0         0.0         0.0   \n",
       "A10323WWTFPSGP         0.0         0.0         0.0         0.0         0.0   \n",
       "A103KNDW8GN92L         0.0         0.0         0.0         0.0         0.0   \n",
       "A103W7ZPKGOCC9         0.0         0.0         0.0         0.0         0.0   \n",
       "A105S56ODHGJEK         0.0         0.0         0.0         0.0         0.0   \n",
       "\n",
       "asin            B005QJZ5FA  \n",
       "reviewerID                  \n",
       "A1020L7BWW9RAX         0.0  \n",
       "A10323WWTFPSGP         0.0  \n",
       "A103KNDW8GN92L         0.0  \n",
       "A103W7ZPKGOCC9         0.0  \n",
       "A105S56ODHGJEK         0.0  \n",
       "\n",
       "[5 rows x 254 columns]"
      ]
     },
     "execution_count": 39,
     "metadata": {},
     "output_type": "execute_result"
    }
   ],
   "source": [
    "#Model-based collaborative filtering system\n",
    "\n",
    "ratings_matrix = new_df.pivot_table(values='unbias_overall', index='reviewerID', columns='asin', fill_value=0)\n",
    "ratings_matrix.head()"
   ]
  },
  {
   "cell_type": "code",
   "execution_count": 40,
   "id": "dcb9c4c9",
   "metadata": {},
   "outputs": [
    {
     "data": {
      "text/plain": [
       "(4509, 254)"
      ]
     },
     "execution_count": 40,
     "metadata": {},
     "output_type": "execute_result"
    }
   ],
   "source": [
    "ratings_matrix.shape"
   ]
  },
  {
   "cell_type": "code",
   "execution_count": 41,
   "id": "892a3674",
   "metadata": {},
   "outputs": [
    {
     "data": {
      "text/html": [
       "<div>\n",
       "<style scoped>\n",
       "    .dataframe tbody tr th:only-of-type {\n",
       "        vertical-align: middle;\n",
       "    }\n",
       "\n",
       "    .dataframe tbody tr th {\n",
       "        vertical-align: top;\n",
       "    }\n",
       "\n",
       "    .dataframe thead th {\n",
       "        text-align: right;\n",
       "    }\n",
       "</style>\n",
       "<table border=\"1\" class=\"dataframe\">\n",
       "  <thead>\n",
       "    <tr style=\"text-align: right;\">\n",
       "      <th>reviewerID</th>\n",
       "      <th>A1020L7BWW9RAX</th>\n",
       "      <th>A10323WWTFPSGP</th>\n",
       "      <th>A103KNDW8GN92L</th>\n",
       "      <th>A103W7ZPKGOCC9</th>\n",
       "      <th>A105S56ODHGJEK</th>\n",
       "      <th>A1065Q31DNPRAN</th>\n",
       "      <th>A106BECWWKQIC9</th>\n",
       "      <th>A107R79K63CE30</th>\n",
       "      <th>A10872FHIJAKKD</th>\n",
       "      <th>A109WIE49N0GV</th>\n",
       "      <th>...</th>\n",
       "      <th>AZPWAXJG9OJXV</th>\n",
       "      <th>AZSN1TO0JI87B</th>\n",
       "      <th>AZT9OGZODW8VW</th>\n",
       "      <th>AZTVHB938DIG5</th>\n",
       "      <th>AZTZ61W23JET0</th>\n",
       "      <th>AZVA13Q19KURR</th>\n",
       "      <th>AZVH70JMJ2IHX</th>\n",
       "      <th>AZWCAUCNLGL4H</th>\n",
       "      <th>AZY3MDFJJFI91</th>\n",
       "      <th>AZYZA8FDL48GD</th>\n",
       "    </tr>\n",
       "    <tr>\n",
       "      <th>asin</th>\n",
       "      <th></th>\n",
       "      <th></th>\n",
       "      <th></th>\n",
       "      <th></th>\n",
       "      <th></th>\n",
       "      <th></th>\n",
       "      <th></th>\n",
       "      <th></th>\n",
       "      <th></th>\n",
       "      <th></th>\n",
       "      <th></th>\n",
       "      <th></th>\n",
       "      <th></th>\n",
       "      <th></th>\n",
       "      <th></th>\n",
       "      <th></th>\n",
       "      <th></th>\n",
       "      <th></th>\n",
       "      <th></th>\n",
       "      <th></th>\n",
       "      <th></th>\n",
       "    </tr>\n",
       "  </thead>\n",
       "  <tbody>\n",
       "    <tr>\n",
       "      <th>B00000016W</th>\n",
       "      <td>0.0</td>\n",
       "      <td>0.0</td>\n",
       "      <td>0.0</td>\n",
       "      <td>0.0</td>\n",
       "      <td>0.0</td>\n",
       "      <td>0.0</td>\n",
       "      <td>0.0</td>\n",
       "      <td>0.0</td>\n",
       "      <td>0.0</td>\n",
       "      <td>0.0</td>\n",
       "      <td>...</td>\n",
       "      <td>0.0</td>\n",
       "      <td>0.0</td>\n",
       "      <td>0.0</td>\n",
       "      <td>0.0</td>\n",
       "      <td>0.0</td>\n",
       "      <td>0.0</td>\n",
       "      <td>0.0</td>\n",
       "      <td>0.0</td>\n",
       "      <td>0.0</td>\n",
       "      <td>0.0</td>\n",
       "    </tr>\n",
       "    <tr>\n",
       "      <th>B00000064G</th>\n",
       "      <td>0.0</td>\n",
       "      <td>0.0</td>\n",
       "      <td>0.0</td>\n",
       "      <td>0.0</td>\n",
       "      <td>0.0</td>\n",
       "      <td>0.0</td>\n",
       "      <td>0.0</td>\n",
       "      <td>0.0</td>\n",
       "      <td>0.0</td>\n",
       "      <td>0.0</td>\n",
       "      <td>...</td>\n",
       "      <td>0.0</td>\n",
       "      <td>0.0</td>\n",
       "      <td>0.0</td>\n",
       "      <td>0.0</td>\n",
       "      <td>0.0</td>\n",
       "      <td>0.0</td>\n",
       "      <td>0.0</td>\n",
       "      <td>0.0</td>\n",
       "      <td>0.0</td>\n",
       "      <td>0.0</td>\n",
       "    </tr>\n",
       "    <tr>\n",
       "      <th>B000000OUJ</th>\n",
       "      <td>0.0</td>\n",
       "      <td>0.0</td>\n",
       "      <td>0.0</td>\n",
       "      <td>0.0</td>\n",
       "      <td>0.0</td>\n",
       "      <td>0.0</td>\n",
       "      <td>0.0</td>\n",
       "      <td>0.0</td>\n",
       "      <td>0.0</td>\n",
       "      <td>0.0</td>\n",
       "      <td>...</td>\n",
       "      <td>0.0</td>\n",
       "      <td>0.0</td>\n",
       "      <td>0.0</td>\n",
       "      <td>0.0</td>\n",
       "      <td>0.0</td>\n",
       "      <td>0.0</td>\n",
       "      <td>0.0</td>\n",
       "      <td>0.0</td>\n",
       "      <td>0.0</td>\n",
       "      <td>0.0</td>\n",
       "    </tr>\n",
       "    <tr>\n",
       "      <th>B000000TDH</th>\n",
       "      <td>0.0</td>\n",
       "      <td>0.0</td>\n",
       "      <td>0.0</td>\n",
       "      <td>0.0</td>\n",
       "      <td>0.0</td>\n",
       "      <td>0.0</td>\n",
       "      <td>0.0</td>\n",
       "      <td>0.0</td>\n",
       "      <td>0.0</td>\n",
       "      <td>0.0</td>\n",
       "      <td>...</td>\n",
       "      <td>0.0</td>\n",
       "      <td>0.0</td>\n",
       "      <td>0.0</td>\n",
       "      <td>0.0</td>\n",
       "      <td>0.0</td>\n",
       "      <td>0.0</td>\n",
       "      <td>0.0</td>\n",
       "      <td>0.0</td>\n",
       "      <td>0.0</td>\n",
       "      <td>0.0</td>\n",
       "    </tr>\n",
       "    <tr>\n",
       "      <th>B0000013GH</th>\n",
       "      <td>0.0</td>\n",
       "      <td>0.0</td>\n",
       "      <td>0.0</td>\n",
       "      <td>0.0</td>\n",
       "      <td>0.0</td>\n",
       "      <td>0.0</td>\n",
       "      <td>0.0</td>\n",
       "      <td>0.0</td>\n",
       "      <td>0.0</td>\n",
       "      <td>0.0</td>\n",
       "      <td>...</td>\n",
       "      <td>0.0</td>\n",
       "      <td>0.0</td>\n",
       "      <td>0.0</td>\n",
       "      <td>0.0</td>\n",
       "      <td>0.0</td>\n",
       "      <td>0.0</td>\n",
       "      <td>0.0</td>\n",
       "      <td>0.0</td>\n",
       "      <td>0.0</td>\n",
       "      <td>0.0</td>\n",
       "    </tr>\n",
       "  </tbody>\n",
       "</table>\n",
       "<p>5 rows × 4509 columns</p>\n",
       "</div>"
      ],
      "text/plain": [
       "reviewerID  A1020L7BWW9RAX  A10323WWTFPSGP  A103KNDW8GN92L  A103W7ZPKGOCC9  \\\n",
       "asin                                                                         \n",
       "B00000016W             0.0             0.0             0.0             0.0   \n",
       "B00000064G             0.0             0.0             0.0             0.0   \n",
       "B000000OUJ             0.0             0.0             0.0             0.0   \n",
       "B000000TDH             0.0             0.0             0.0             0.0   \n",
       "B0000013GH             0.0             0.0             0.0             0.0   \n",
       "\n",
       "reviewerID  A105S56ODHGJEK  A1065Q31DNPRAN  A106BECWWKQIC9  A107R79K63CE30  \\\n",
       "asin                                                                         \n",
       "B00000016W             0.0             0.0             0.0             0.0   \n",
       "B00000064G             0.0             0.0             0.0             0.0   \n",
       "B000000OUJ             0.0             0.0             0.0             0.0   \n",
       "B000000TDH             0.0             0.0             0.0             0.0   \n",
       "B0000013GH             0.0             0.0             0.0             0.0   \n",
       "\n",
       "reviewerID  A10872FHIJAKKD  A109WIE49N0GV  ...  AZPWAXJG9OJXV  AZSN1TO0JI87B  \\\n",
       "asin                                       ...                                 \n",
       "B00000016W             0.0            0.0  ...            0.0            0.0   \n",
       "B00000064G             0.0            0.0  ...            0.0            0.0   \n",
       "B000000OUJ             0.0            0.0  ...            0.0            0.0   \n",
       "B000000TDH             0.0            0.0  ...            0.0            0.0   \n",
       "B0000013GH             0.0            0.0  ...            0.0            0.0   \n",
       "\n",
       "reviewerID  AZT9OGZODW8VW  AZTVHB938DIG5  AZTZ61W23JET0  AZVA13Q19KURR  \\\n",
       "asin                                                                     \n",
       "B00000016W            0.0            0.0            0.0            0.0   \n",
       "B00000064G            0.0            0.0            0.0            0.0   \n",
       "B000000OUJ            0.0            0.0            0.0            0.0   \n",
       "B000000TDH            0.0            0.0            0.0            0.0   \n",
       "B0000013GH            0.0            0.0            0.0            0.0   \n",
       "\n",
       "reviewerID  AZVH70JMJ2IHX  AZWCAUCNLGL4H  AZY3MDFJJFI91  AZYZA8FDL48GD  \n",
       "asin                                                                    \n",
       "B00000016W            0.0            0.0            0.0            0.0  \n",
       "B00000064G            0.0            0.0            0.0            0.0  \n",
       "B000000OUJ            0.0            0.0            0.0            0.0  \n",
       "B000000TDH            0.0            0.0            0.0            0.0  \n",
       "B0000013GH            0.0            0.0            0.0            0.0  \n",
       "\n",
       "[5 rows x 4509 columns]"
      ]
     },
     "execution_count": 41,
     "metadata": {},
     "output_type": "execute_result"
    }
   ],
   "source": [
    "X = ratings_matrix.T\n",
    "X.head()"
   ]
  },
  {
   "cell_type": "code",
   "execution_count": 42,
   "id": "afa6dcf4",
   "metadata": {},
   "outputs": [],
   "source": [
    "X1 = X"
   ]
  },
  {
   "cell_type": "code",
   "execution_count": 43,
   "id": "f5fd3d01",
   "metadata": {},
   "outputs": [
    {
     "data": {
      "text/plain": [
       "(254, 10)"
      ]
     },
     "execution_count": 43,
     "metadata": {},
     "output_type": "execute_result"
    }
   ],
   "source": [
    "#Decomposing the Matrix\n",
    "from sklearn.decomposition import TruncatedSVD\n",
    "SVD = TruncatedSVD(n_components=10)\n",
    "decomposed_matrix = SVD.fit_transform(X)\n",
    "decomposed_matrix.shape"
   ]
  },
  {
   "cell_type": "code",
   "execution_count": 44,
   "id": "362c33e1",
   "metadata": {},
   "outputs": [
    {
     "data": {
      "text/plain": [
       "(254, 254)"
      ]
     },
     "execution_count": 44,
     "metadata": {},
     "output_type": "execute_result"
    }
   ],
   "source": [
    "#Correlation Matrix\n",
    "\n",
    "correlation_matrix = np.corrcoef(decomposed_matrix)\n",
    "correlation_matrix.shape"
   ]
  },
  {
   "cell_type": "code",
   "execution_count": 45,
   "id": "f38c1e65",
   "metadata": {},
   "outputs": [
    {
     "data": {
      "text/plain": [
       "'B005QJZ5FA'"
      ]
     },
     "execution_count": 45,
     "metadata": {},
     "output_type": "execute_result"
    }
   ],
   "source": [
    "X.index[253]"
   ]
  },
  {
   "cell_type": "code",
   "execution_count": 46,
   "id": "ebec9299",
   "metadata": {},
   "outputs": [
    {
     "data": {
      "text/plain": [
       "253"
      ]
     },
     "execution_count": 46,
     "metadata": {},
     "output_type": "execute_result"
    }
   ],
   "source": [
    "i = \"B005QJZ5FA\"\n",
    "\n",
    "product_names = list(X.index)\n",
    "product_ID = product_names.index(i)\n",
    "product_ID"
   ]
  },
  {
   "cell_type": "code",
   "execution_count": 47,
   "id": "0e547e7c",
   "metadata": {},
   "outputs": [
    {
     "data": {
      "text/plain": [
       "(254,)"
      ]
     },
     "execution_count": 47,
     "metadata": {},
     "output_type": "execute_result"
    }
   ],
   "source": [
    "correlation_product_ID = correlation_matrix[product_ID]\n",
    "correlation_product_ID.shape"
   ]
  },
  {
   "cell_type": "code",
   "execution_count": 48,
   "id": "d649a900",
   "metadata": {},
   "outputs": [
    {
     "data": {
      "text/plain": [
       "['B000000TDH',\n",
       " 'B000001DZO',\n",
       " 'B0000025WQ',\n",
       " 'B000002J2S',\n",
       " 'B000002VN7',\n",
       " 'B000002VT6',\n",
       " 'B00000DGUG',\n",
       " 'B00000IAU3',\n",
       " 'B00001QGQI',\n",
       " 'B00004Z41Q',\n",
       " 'B00005K9KP',\n",
       " 'B00005M987',\n",
       " 'B00005NZDW',\n",
       " 'B00005QDVS',\n",
       " 'B00005TPKC',\n",
       " 'B00005YW4H',\n",
       " 'B0000646TK',\n",
       " 'B00006L7XQ',\n",
       " 'B000089CJI',\n",
       " 'B000089RVR',\n",
       " 'B00008J4P5',\n",
       " 'B00008OWZE',\n",
       " 'B00009LI14',\n",
       " 'B0000AGWEC']"
      ]
     },
     "execution_count": 48,
     "metadata": {},
     "output_type": "execute_result"
    }
   ],
   "source": [
    "Recommend = list(X.index[correlation_product_ID > 0.65])\n",
    "\n",
    "# Removes the item already bought by the customer\n",
    "Recommend.remove(i) \n",
    "\n",
    "Recommend[0:24]"
   ]
  },
  {
   "cell_type": "code",
   "execution_count": null,
   "id": "cd19f0b3",
   "metadata": {},
   "outputs": [],
   "source": []
  }
 ],
 "metadata": {
  "kernelspec": {
   "display_name": "Python 3 (ipykernel)",
   "language": "python",
   "name": "python3"
  },
  "language_info": {
   "codemirror_mode": {
    "name": "ipython",
    "version": 3
   },
   "file_extension": ".py",
   "mimetype": "text/x-python",
   "name": "python",
   "nbconvert_exporter": "python",
   "pygments_lexer": "ipython3",
   "version": "3.9.12"
  },
  "vscode": {
   "interpreter": {
    "hash": "f31b5846fe4d0e510ff280a80fa1fd1567c5c662c3b99a86eb737e0309da4a2e"
   }
  }
 },
 "nbformat": 4,
 "nbformat_minor": 5
}
