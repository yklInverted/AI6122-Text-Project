{
 "cells": [
  {
   "cell_type": "code",
   "execution_count": 1,
   "id": "b2b6c3da",
   "metadata": {},
   "outputs": [],
   "source": [
    "# Cite: https://www.kaggle.com/code/saurav9786/recommender-system-using-amazon-reviews#Collaberative-filtering-(Item-Item-recommedation)\n",
    "import numpy as np # linear algebra\n",
    "import pandas as pd # data processing, CSV file I/O (e.g. pd.read_csv)\n",
    "import os\n",
    "from IPython.core.interactiveshell import InteractiveShell\n",
    "InteractiveShell.ast_node_interactivity = \"all\"\n",
    "import math\n",
    "import json\n",
    "import time\n",
    "import matplotlib.pyplot as plt\n",
    "import seaborn as sns\n",
    "from sklearn.metrics.pairwise import cosine_similarity\n",
    "from sklearn.model_selection import train_test_split\n",
    "from sklearn.neighbors import NearestNeighbors\n",
    "import joblib\n",
    "import scipy.sparse\n",
    "from scipy.sparse import csr_matrix\n",
    "from scipy.sparse.linalg import svds\n",
    "import warnings; warnings.simplefilter('ignore')\n",
    "import nltk\n",
    "import sys\n",
    "from sklearn.decomposition import TruncatedSVD\n",
    "%matplotlib inline"
   ]
  },
  {
   "cell_type": "code",
   "execution_count": 2,
   "id": "e2c17f5a",
   "metadata": {
    "scrolled": true
   },
   "outputs": [],
   "source": [
    "data_path = \"./data/Digital_Music_5.json\"\n",
    "table = pd.read_json(data_path, 'records', lines = True).reset_index(drop = True, inplace = False)"
   ]
  },
  {
   "cell_type": "code",
   "execution_count": 3,
   "id": "cb0c1f72",
   "metadata": {},
   "outputs": [],
   "source": [
    "from collections import defaultdict\n",
    "from textblob import TextBlob\n",
    "def get_sentiment(table):\n",
    "    polarity = []\n",
    "    subjectivity = []\n",
    "    for idx, row in table.iterrows():\n",
    "        review = TextBlob(row['reviewText'])\n",
    "        sentiment = review.sentiment\n",
    "        polarity.append(sentiment.polarity)\n",
    "        subjectivity.append(sentiment.subjectivity)\n",
    "    new_table = table\n",
    "    new_table.insert(len(table.columns), column='polarity', value=polarity)\n",
    "    new_table.insert(len(table.columns), column='subjectivity', value=subjectivity)\n",
    "    return new_table"
   ]
  },
  {
   "cell_type": "code",
   "execution_count": 4,
   "id": "ef848e63",
   "metadata": {},
   "outputs": [],
   "source": [
    "table = get_sentiment(table)"
   ]
  },
  {
   "cell_type": "code",
   "execution_count": 5,
   "id": "2ce4bc31",
   "metadata": {},
   "outputs": [
    {
     "data": {
      "image/png": "[encoded data removed]",
      "text/plain": [
       "<Figure size 720x360 with 1 Axes>"
      ]
     },
     "metadata": {
      "needs_background": "light"
     },
     "output_type": "display_data"
    }
   ],
   "source": [
    "import matplotlib.pyplot as plt\n",
    "import seaborn as sns\n",
    "num_bins = 50\n",
    "plt.figure(figsize=(10,5))\n",
    "n, bins, patches = plt.hist(table.polarity, num_bins, facecolor='blue', alpha=0.5)\n",
    "plt.xlabel('Polarity')\n",
    "plt.ylabel('Number of Reviews')\n",
    "plt.title('Histogram of Polarity Score')\n",
    "plt.show();"
   ]
  },
  {
   "cell_type": "code",
   "execution_count": 6,
   "id": "d9f4f106",
   "metadata": {},
   "outputs": [
    {
     "data": {
      "image/png": "[encoded data removed]",
      "text/plain": [
       "<Figure size 720x360 with 1 Axes>"
      ]
     },
     "metadata": {
      "needs_background": "light"
     },
     "output_type": "display_data"
    }
   ],
   "source": [
    "import matplotlib.pyplot as plt\n",
    "import seaborn as sns\n",
    "num_bins = 50\n",
    "plt.figure(figsize=(10,5))\n",
    "n, bins, patches = plt.hist(table.subjectivity, num_bins, facecolor='blue', alpha=0.5)\n",
    "plt.xlabel('Subjectivity')\n",
    "plt.ylabel('Number of Reviews')\n",
    "plt.title('Histogram of Subjectivity Score')\n",
    "plt.show();"
   ]
  },
  {
   "cell_type": "code",
   "execution_count": 7,
   "id": "22e3eee9",
   "metadata": {},
   "outputs": [
    {
     "data": {
      "text/html": [
       "<div>\n",
       "<style scoped>\n",
       "    .dataframe tbody tr th:only-of-type {\n",
       "        vertical-align: middle;\n",
       "    }\n",
       "\n",
       "    .dataframe tbody tr th {\n",
       "        vertical-align: top;\n",
       "    }\n",
       "\n",
       "    .dataframe thead th {\n",
       "        text-align: right;\n",
       "    }\n",
       "</style>\n",
       "<table border=\"1\" class=\"dataframe\">\n",
       "  <thead>\n",
       "    <tr style=\"text-align: right;\">\n",
       "      <th></th>\n",
       "      <th>reviewerID</th>\n",
       "      <th>asin</th>\n",
       "      <th>reviewerName</th>\n",
       "      <th>helpful</th>\n",
       "      <th>reviewText</th>\n",
       "      <th>overall</th>\n",
       "      <th>summary</th>\n",
       "      <th>unixReviewTime</th>\n",
       "      <th>reviewTime</th>\n",
       "      <th>polarity</th>\n",
       "      <th>subjectivity</th>\n",
       "      <th>unbias_overall</th>\n",
       "    </tr>\n",
       "  </thead>\n",
       "  <tbody>\n",
       "    <tr>\n",
       "      <th>0</th>\n",
       "      <td>A3EBHHCZO6V2A4</td>\n",
       "      <td>5555991584</td>\n",
       "      <td>Amaranth \"music fan\"</td>\n",
       "      <td>[3, 3]</td>\n",
       "      <td>It's hard to believe \"Memory of Trees\" came ou...</td>\n",
       "      <td>5</td>\n",
       "      <td>Enya's last great album</td>\n",
       "      <td>1158019200</td>\n",
       "      <td>09 12, 2006</td>\n",
       "      <td>0.186515</td>\n",
       "      <td>0.501742</td>\n",
       "      <td>3.836950</td>\n",
       "    </tr>\n",
       "    <tr>\n",
       "      <th>1</th>\n",
       "      <td>AZPWAXJG9OJXV</td>\n",
       "      <td>5555991584</td>\n",
       "      <td>bethtexas</td>\n",
       "      <td>[0, 0]</td>\n",
       "      <td>A clasically-styled and introverted album, Mem...</td>\n",
       "      <td>5</td>\n",
       "      <td>Enya at her most elegant</td>\n",
       "      <td>991526400</td>\n",
       "      <td>06 3, 2001</td>\n",
       "      <td>0.251479</td>\n",
       "      <td>0.507298</td>\n",
       "      <td>3.925441</td>\n",
       "    </tr>\n",
       "    <tr>\n",
       "      <th>2</th>\n",
       "      <td>A38IRL0X2T4DPF</td>\n",
       "      <td>5555991584</td>\n",
       "      <td>bob turnley</td>\n",
       "      <td>[2, 2]</td>\n",
       "      <td>I never thought Enya would reach the sublime h...</td>\n",
       "      <td>5</td>\n",
       "      <td>The best so far</td>\n",
       "      <td>1058140800</td>\n",
       "      <td>07 14, 2003</td>\n",
       "      <td>0.343074</td>\n",
       "      <td>0.668615</td>\n",
       "      <td>3.896256</td>\n",
       "    </tr>\n",
       "    <tr>\n",
       "      <th>3</th>\n",
       "      <td>A22IK3I6U76GX0</td>\n",
       "      <td>5555991584</td>\n",
       "      <td>Calle</td>\n",
       "      <td>[1, 1]</td>\n",
       "      <td>This is the third review of an irish album I w...</td>\n",
       "      <td>5</td>\n",
       "      <td>Ireland produces good music.</td>\n",
       "      <td>957312000</td>\n",
       "      <td>05 3, 2000</td>\n",
       "      <td>0.463788</td>\n",
       "      <td>0.459293</td>\n",
       "      <td>4.180041</td>\n",
       "    </tr>\n",
       "    <tr>\n",
       "      <th>4</th>\n",
       "      <td>A1AISPOIIHTHXX</td>\n",
       "      <td>5555991584</td>\n",
       "      <td>Cloud \"...\"</td>\n",
       "      <td>[1, 1]</td>\n",
       "      <td>Enya, despite being a successful recording art...</td>\n",
       "      <td>4</td>\n",
       "      <td>4.5; music to dream to</td>\n",
       "      <td>1200528000</td>\n",
       "      <td>01 17, 2008</td>\n",
       "      <td>0.342808</td>\n",
       "      <td>0.580449</td>\n",
       "      <td>3.696643</td>\n",
       "    </tr>\n",
       "  </tbody>\n",
       "</table>\n",
       "</div>"
      ],
      "text/plain": [
       "       reviewerID        asin          reviewerName helpful  \\\n",
       "0  A3EBHHCZO6V2A4  5555991584  Amaranth \"music fan\"  [3, 3]   \n",
       "1   AZPWAXJG9OJXV  5555991584             bethtexas  [0, 0]   \n",
       "2  A38IRL0X2T4DPF  5555991584           bob turnley  [2, 2]   \n",
       "3  A22IK3I6U76GX0  5555991584                 Calle  [1, 1]   \n",
       "4  A1AISPOIIHTHXX  5555991584           Cloud \"...\"  [1, 1]   \n",
       "\n",
       "                                          reviewText  overall  \\\n",
       "0  It's hard to believe \"Memory of Trees\" came ou...        5   \n",
       "1  A clasically-styled and introverted album, Mem...        5   \n",
       "2  I never thought Enya would reach the sublime h...        5   \n",
       "3  This is the third review of an irish album I w...        5   \n",
       "4  Enya, despite being a successful recording art...        4   \n",
       "\n",
       "                        summary  unixReviewTime   reviewTime  polarity  \\\n",
       "0       Enya's last great album      1158019200  09 12, 2006  0.186515   \n",
       "1      Enya at her most elegant       991526400   06 3, 2001  0.251479   \n",
       "2               The best so far      1058140800  07 14, 2003  0.343074   \n",
       "3  Ireland produces good music.       957312000   05 3, 2000  0.463788   \n",
       "4        4.5; music to dream to      1200528000  01 17, 2008  0.342808   \n",
       "\n",
       "   subjectivity  unbias_overall  \n",
       "0      0.501742        3.836950  \n",
       "1      0.507298        3.925441  \n",
       "2      0.668615        3.896256  \n",
       "3      0.459293        4.180041  \n",
       "4      0.580449        3.696643  "
      ]
     },
     "metadata": {},
     "output_type": "display_data"
    }
   ],
   "source": [
    "#deal with the bias and noise of the overall column\n",
    "def unbias(overall, polarity, subjectivity):\n",
    "    if subjectivity > 0.5:\n",
    "        return ((overall+5*polarity*(2-subjectivity*2))+4)*4/14+1\n",
    "    else:\n",
    "        return ((overall+5*polarity*subjectivity*2)+4)*4/14+1\n",
    "table['unbias_overall'] = table.apply(lambda row: unbias(row['overall'], row['polarity'], row['subjectivity']), axis=1)\n",
    "display(table.head())"
   ]
  },
  {
   "cell_type": "code",
   "execution_count": 8,
   "id": "16cfcc87",
   "metadata": {},
   "outputs": [
    {
     "data": {
      "text/plain": [
       "(64706, 12)"
      ]
     },
     "execution_count": 8,
     "metadata": {},
     "output_type": "execute_result"
    }
   ],
   "source": [
    "table.shape"
   ]
  },
  {
   "cell_type": "code",
   "execution_count": 9,
   "id": "558b7438",
   "metadata": {},
   "outputs": [
    {
     "data": {
      "text/plain": [
       "count    64706.000000\n",
       "mean         3.620390\n",
       "std          0.411975\n",
       "min          1.285714\n",
       "25%          3.454510\n",
       "50%          3.719636\n",
       "75%          3.893764\n",
       "max          5.000000\n",
       "Name: unbias_overall, dtype: float64"
      ]
     },
     "execution_count": 9,
     "metadata": {},
     "output_type": "execute_result"
    }
   ],
   "source": [
    "table.describe()['unbias_overall'].T"
   ]
  },
  {
   "cell_type": "code",
   "execution_count": 10,
   "id": "ce04addb",
   "metadata": {},
   "outputs": [
    {
     "name": "stdout",
     "output_type": "stream",
     "text": [
      "Number of missing values across columns: \n",
      " reviewerID          0\n",
      "asin                0\n",
      "reviewerName      177\n",
      "helpful             0\n",
      "reviewText          0\n",
      "overall             0\n",
      "summary             0\n",
      "unixReviewTime      0\n",
      "reviewTime          0\n",
      "polarity            0\n",
      "subjectivity        0\n",
      "unbias_overall      0\n",
      "dtype: int64\n"
     ]
    }
   ],
   "source": [
    "print('Number of missing values across columns: \\n',table.isnull().sum())"
   ]
  },
  {
   "cell_type": "code",
   "execution_count": 11,
   "id": "0920fab3",
   "metadata": {},
   "outputs": [
    {
     "name": "stdout",
     "output_type": "stream",
     "text": [
      "Total data \n",
      "--------------------------------------------------\n",
      "\n",
      "Total no of ratings : 64706\n",
      "Total No of Users   : 5541\n",
      "Total No of products  : 3568\n"
     ]
    }
   ],
   "source": [
    "print(\"Total data \")\n",
    "print(\"-\"*50)\n",
    "print(\"\\nTotal no of ratings :\",table.shape[0])\n",
    "print(\"Total No of Users   :\", len(np.unique(table.reviewerID)))\n",
    "print(\"Total No of products  :\", len(np.unique(table.asin)))"
   ]
  },
  {
   "cell_type": "code",
   "execution_count": 12,
   "id": "e661466b",
   "metadata": {},
   "outputs": [],
   "source": [
    "table.drop(['reviewerName'], axis=1,inplace=True)\n",
    "table.drop(['helpful'], axis=1,inplace=True)\n",
    "table.drop(['reviewText'], axis=1,inplace=True)\n",
    "table.drop(['summary'], axis=1,inplace=True)\n",
    "table.drop(['unixReviewTime'], axis=1,inplace=True)\n",
    "table.drop(['reviewTime'], axis=1,inplace=True)\n",
    "table.drop(['polarity'], axis=1,inplace=True)\n",
    "table.drop(['overall'], axis=1,inplace=True)\n",
    "table.drop(['subjectivity'], axis=1,inplace=True)"
   ]
  },
  {
   "cell_type": "code",
   "execution_count": 13,
   "id": "c5cef345",
   "metadata": {},
   "outputs": [
    {
     "data": {
      "text/plain": [
       "reviewerID\n",
       "A9Q28YTLYREO7     578\n",
       "A3HU0B9XUEVHIM    375\n",
       "A3KJ6JAZPH382D    301\n",
       "A3C6ZCBUNXUT7V    261\n",
       "A8IFUOL8S9BZC     256\n",
       "Name: unbias_overall, dtype: int64"
      ]
     },
     "execution_count": 13,
     "metadata": {},
     "output_type": "execute_result"
    }
   ],
   "source": [
    "no_of_rated_products_per_user = table.groupby(by='reviewerID')['unbias_overall'].count().sort_values(ascending=False)\n",
    "\n",
    "no_of_rated_products_per_user.head()"
   ]
  },
  {
   "cell_type": "code",
   "execution_count": 14,
   "id": "68766473",
   "metadata": {},
   "outputs": [
    {
     "data": {
      "text/plain": [
       "count    5541.000000\n",
       "mean       11.677676\n",
       "std        18.222800\n",
       "min         5.000000\n",
       "25%         5.000000\n",
       "50%         7.000000\n",
       "75%        11.000000\n",
       "max       578.000000\n",
       "Name: unbias_overall, dtype: float64"
      ]
     },
     "execution_count": 14,
     "metadata": {},
     "output_type": "execute_result"
    }
   ],
   "source": [
    "no_of_rated_products_per_user.describe()"
   ]
  },
  {
   "cell_type": "code",
   "execution_count": 15,
   "id": "68ccf9e2",
   "metadata": {},
   "outputs": [
    {
     "name": "stdout",
     "output_type": "stream",
     "text": [
      "\n",
      " No of rated product more than 50 per user : 126\n",
      "\n"
     ]
    }
   ],
   "source": [
    "print('\\n No of rated product more than 50 per user : {}\\n'.format(sum(no_of_rated_products_per_user >= 50)) )"
   ]
  },
  {
   "cell_type": "code",
   "execution_count": 16,
   "id": "65065e15",
   "metadata": {},
   "outputs": [],
   "source": [
    "from surprise import SVD\n",
    "from surprise import Dataset\n",
    "from surprise import accuracy\n",
    "from surprise import Reader\n",
    "import os\n",
    "from surprise.model_selection import train_test_split,cross_validate"
   ]
  },
  {
   "cell_type": "code",
   "execution_count": 17,
   "id": "6914af46",
   "metadata": {
    "scrolled": true
   },
   "outputs": [],
   "source": [
    "#Reading the dataset\n",
    "new_df=table.groupby(\"asin\").filter(lambda x:x['unbias_overall'].count() >=50)\n",
    "reader = Reader(rating_scale=(1, 5))\n",
    "cols = new_df.columns.tolist()\n",
    "df = new_df[cols] \n",
    "data = Dataset.load_from_df(df,reader)"
   ]
  },
  {
   "cell_type": "code",
   "execution_count": 18,
   "id": "5943512c",
   "metadata": {},
   "outputs": [
    {
     "name": "stdout",
     "output_type": "stream",
     "text": [
      "test_rmse    0.385831\n",
      "fit_time     0.112400\n",
      "test_time    0.007900\n",
      "dtype: float64\n"
     ]
    }
   ],
   "source": [
    "results = cross_validate(SVD(), data, measures=['RMSE'], cv=10, verbose=False)\n",
    "tmp = pd.DataFrame.from_dict(results).mean(axis=0)\n",
    "print(tmp)"
   ]
  },
  {
   "cell_type": "code",
   "execution_count": 19,
   "id": "9a064ca6",
   "metadata": {},
   "outputs": [
    {
     "data": {
      "text/plain": [
       "[Prediction(uid='A2TAPL67U2A5HM', iid='B000OQF6N6', r_ui=3.2196481481481483, est=3.3976803879509356, details={'was_impossible': False}),\n",
       " Prediction(uid='AUCJ0EMRPHV3C', iid='B00014TQ7S', r_ui=3.7936130952380958, est=3.5611642443191043, details={'was_impossible': False}),\n",
       " Prediction(uid='A3TXWIDMKRYG3J', iid='B000KCHZK6', r_ui=3.7192460317460316, est=3.4234357399636144, details={'was_impossible': False}),\n",
       " Prediction(uid='A2BEU7GPGNIG44', iid='B000AA303Y', r_ui=3.811395746579417, est=3.659620514110046, details={'was_impossible': False}),\n",
       " Prediction(uid='A11NKZ57YSELZC', iid='B0000029DD', r_ui=3.808366962629172, est=3.7571620477866534, details={'was_impossible': False})]"
      ]
     },
     "execution_count": 19,
     "metadata": {},
     "output_type": "execute_result"
    },
    {
     "name": "stdout",
     "output_type": "stream",
     "text": [
      "RMSE: 0.3818\n"
     ]
    },
    {
     "data": {
      "text/plain": [
       "0.3818328871463287"
      ]
     },
     "execution_count": 19,
     "metadata": {},
     "output_type": "execute_result"
    }
   ],
   "source": [
    "trainset, testset = train_test_split(data, test_size=0.2)\n",
    "algo = SVD()\n",
    "predictions = algo.fit(trainset).test(testset)\n",
    "predictions[:5]\n",
    "accuracy.rmse(predictions)"
   ]
  },
  {
   "cell_type": "code",
   "execution_count": 20,
   "id": "e0ad804b",
   "metadata": {},
   "outputs": [],
   "source": [
    "ratings_matrix = new_df.pivot_table(values='unbias_overall',\n",
    "        index='reviewerID', columns='asin', fill_value=0)\n",
    "X = ratings_matrix.T\n",
    "SVD = TruncatedSVD(n_components=10)\n",
    "decomposed_matrix = SVD.fit_transform(X)\n",
    "correlation_matrix = np.corrcoef(decomposed_matrix)"
   ]
  },
  {
   "cell_type": "code",
   "execution_count": 21,
   "id": "f38c1e65",
   "metadata": {},
   "outputs": [
    {
     "data": {
      "text/plain": [
       "'B005QJZ5FA'"
      ]
     },
     "execution_count": 21,
     "metadata": {},
     "output_type": "execute_result"
    }
   ],
   "source": [
    "X.index[253]"
   ]
  },
  {
   "cell_type": "code",
   "execution_count": 22,
   "id": "ebec9299",
   "metadata": {},
   "outputs": [
    {
     "data": {
      "text/plain": [
       "253"
      ]
     },
     "execution_count": 22,
     "metadata": {},
     "output_type": "execute_result"
    }
   ],
   "source": [
    "i = \"B005QJZ5FA\"\n",
    "\n",
    "product_names = list(X.index)\n",
    "product_ID = product_names.index(i)\n",
    "product_ID"
   ]
  },
  {
   "cell_type": "code",
   "execution_count": 23,
   "id": "0e547e7c",
   "metadata": {},
   "outputs": [
    {
     "data": {
      "text/plain": [
       "(254,)"
      ]
     },
     "execution_count": 23,
     "metadata": {},
     "output_type": "execute_result"
    }
   ],
   "source": [
    "correlation_product_ID = correlation_matrix[product_ID]\n",
    "correlation_product_ID.shape"
   ]
  },
  {
   "cell_type": "code",
   "execution_count": 24,
   "id": "d649a900",
   "metadata": {},
   "outputs": [
    {
     "data": {
      "text/plain": [
       "['B000000TDH',\n",
       " 'B000001DZO',\n",
       " 'B0000025WQ',\n",
       " 'B000002J2S',\n",
       " 'B000002VN7',\n",
       " 'B000002VT6',\n",
       " 'B00000DGUG',\n",
       " 'B00000IAU3',\n",
       " 'B00001QGQI',\n",
       " 'B00004Z41Q']"
      ]
     },
     "execution_count": 24,
     "metadata": {},
     "output_type": "execute_result"
    }
   ],
   "source": [
    "Recommend = list(X.index[correlation_product_ID > 0.65])\n",
    "\n",
    "Recommend.remove(i) \n",
    "\n",
    "Recommend[0:10]"
   ]
  },
  {
   "cell_type": "code",
   "execution_count": null,
   "id": "cd19f0b3",
   "metadata": {},
   "outputs": [],
   "source": []
  }
 ],
 "metadata": {
  "kernelspec": {
   "display_name": "Python 3 (ipykernel)",
   "language": "python",
   "name": "python3"
  },
  "language_info": {
   "codemirror_mode": {
    "name": "ipython",
    "version": 3
   },
   "file_extension": ".py",
   "mimetype": "text/x-python",
   "name": "python",
   "nbconvert_exporter": "python",
   "pygments_lexer": "ipython3",
   "version": "3.9.12"
  },
  "vscode": {
   "interpreter": {
    "hash": "f31b5846fe4d0e510ff280a80fa1fd1567c5c662c3b99a86eb737e0309da4a2e"
   }
  }
 },
 "nbformat": 4,
 "nbformat_minor": 5
}
