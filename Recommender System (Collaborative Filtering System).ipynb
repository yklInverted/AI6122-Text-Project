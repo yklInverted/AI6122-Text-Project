{
 "cells": [
  {
   "cell_type": "code",
   "execution_count": 1,
   "id": "b2b6c3da",
   "metadata": {},
   "outputs": [],
   "source": [
    "import numpy as np # linear algebra\n",
    "import pandas as pd # data processing, CSV file I/O (e.g. pd.read_csv)\n",
    "import os\n",
    "from IPython.core.interactiveshell import InteractiveShell\n",
    "InteractiveShell.ast_node_interactivity = \"all\"\n",
    "import math\n",
    "import json\n",
    "import time\n",
    "import matplotlib.pyplot as plt\n",
    "import seaborn as sns\n",
    "from sklearn.metrics.pairwise import cosine_similarity\n",
    "from sklearn.model_selection import train_test_split\n",
    "from sklearn.neighbors import NearestNeighbors\n",
    "import joblib\n",
    "import scipy.sparse\n",
    "from scipy.sparse import csr_matrix\n",
    "from scipy.sparse.linalg import svds\n",
    "import warnings; warnings.simplefilter('ignore')\n",
    "import nltk\n",
    "import sys\n",
    "%matplotlib inline"
   ]
  },
  {
   "cell_type": "code",
   "execution_count": 2,
   "id": "e2c17f5a",
   "metadata": {
    "scrolled": true
   },
   "outputs": [
    {
     "name": "stdout",
     "output_type": "stream",
     "text": [
      "       reviewerID        asin          reviewerName helpful  \\\n",
      "0  A3EBHHCZO6V2A4  5555991584  Amaranth \"music fan\"  [3, 3]   \n",
      "1   AZPWAXJG9OJXV  5555991584             bethtexas  [0, 0]   \n",
      "2  A38IRL0X2T4DPF  5555991584           bob turnley  [2, 2]   \n",
      "3  A22IK3I6U76GX0  5555991584                 Calle  [1, 1]   \n",
      "4  A1AISPOIIHTHXX  5555991584           Cloud \"...\"  [1, 1]   \n",
      "\n",
      "                                          reviewText  overall  \\\n",
      "0  It's hard to believe \"Memory of Trees\" came ou...        5   \n",
      "1  A clasically-styled and introverted album, Mem...        5   \n",
      "2  I never thought Enya would reach the sublime h...        5   \n",
      "3  This is the third review of an irish album I w...        5   \n",
      "4  Enya, despite being a successful recording art...        4   \n",
      "\n",
      "                        summary  unixReviewTime   reviewTime  \n",
      "0       Enya's last great album      1158019200  09 12, 2006  \n",
      "1      Enya at her most elegant       991526400   06 3, 2001  \n",
      "2               The best so far      1058140800  07 14, 2003  \n",
      "3  Ireland produces good music.       957312000   05 3, 2000  \n",
      "4        4.5; music to dream to      1200528000  01 17, 2008  \n"
     ]
    }
   ],
   "source": [
    "data_path = \"./data/Digital_Music_5.json\"\n",
    "table = pd.read_json(data_path, 'records', lines = True).reset_index(drop = True, inplace = False)\n",
    "print(table.head())"
   ]
  },
  {
   "cell_type": "code",
   "execution_count": 3,
   "id": "cb0c1f72",
   "metadata": {},
   "outputs": [],
   "source": [
    "from collections import defaultdict\n",
    "from textblob import TextBlob\n",
    "def get_sentiment(table):\n",
    "    polarity = []\n",
    "    subjectivity = []\n",
    "    for idx, row in table.iterrows():\n",
    "        review = TextBlob(row['reviewText'])\n",
    "        sentiment = review.sentiment\n",
    "        polarity.append(sentiment.polarity)\n",
    "        subjectivity.append(sentiment.subjectivity)\n",
    "    new_table = table\n",
    "    new_table.insert(len(table.columns), column='polarity', value=polarity)\n",
    "    new_table.insert(len(table.columns), column='subjectivity', value=subjectivity)\n",
    "    return new_table"
   ]
  },
  {
   "cell_type": "code",
   "execution_count": null,
   "id": "ef848e63",
   "metadata": {},
   "outputs": [],
   "source": [
    "table = get_sentiment(table)\n",
    "display(table.head())"
   ]
  },
  {
   "cell_type": "code",
   "execution_count": null,
   "id": "2ce4bc31",
   "metadata": {},
   "outputs": [],
   "source": [
    "import matplotlib.pyplot as plt\n",
    "import seaborn as sns\n",
    "num_bins = 50\n",
    "plt.figure(figsize=(10,5))\n",
    "n, bins, patches = plt.hist(table.polarity, num_bins, facecolor='blue', alpha=0.5)\n",
    "plt.xlabel('Polarity')\n",
    "plt.ylabel('Number of Reviews')\n",
    "plt.title('Histogram of Polarity Score')\n",
    "plt.show();"
   ]
  },
  {
   "cell_type": "code",
   "execution_count": null,
   "id": "d9f4f106",
   "metadata": {},
   "outputs": [],
   "source": [
    "import matplotlib.pyplot as plt\n",
    "import seaborn as sns\n",
    "num_bins = 50\n",
    "plt.figure(figsize=(10,5))\n",
    "n, bins, patches = plt.hist(table.subjectivity, num_bins, facecolor='blue', alpha=0.5)\n",
    "plt.xlabel('Subjectivity')\n",
    "plt.ylabel('Number of Reviews')\n",
    "plt.title('Histogram of Subjectivity Score')\n",
    "plt.show();"
   ]
  },
  {
   "cell_type": "code",
   "execution_count": null,
   "id": "22e3eee9",
   "metadata": {},
   "outputs": [],
   "source": [
    "#deal with the bias and noise of the overall column\n",
    "def unbias(overall, polarity, subjectivity):\n",
    "    if subjectivity > 0.5:\n",
    "        return ((overall+5*polarity*(2-subjectivity*2))+4)*4/14+1\n",
    "    else:\n",
    "        return ((overall+5*polarity*subjectivity*2)+4)*4/14+1\n",
    "table['unbias_overall'] = table.apply(lambda row: unbias(row['overall'], row['polarity'], row['subjectivity']), axis=1)\n",
    "display(table.head())"
   ]
  },
  {
   "cell_type": "code",
   "execution_count": null,
   "id": "16cfcc87",
   "metadata": {},
   "outputs": [],
   "source": [
    "table.shape"
   ]
  },
  {
   "cell_type": "code",
   "execution_count": null,
   "id": "558b7438",
   "metadata": {},
   "outputs": [],
   "source": [
    "table.describe()['unbias_overall'].T"
   ]
  },
  {
   "cell_type": "code",
   "execution_count": null,
   "id": "ce04addb",
   "metadata": {},
   "outputs": [],
   "source": [
    "print('Number of missing values across columns: \\n',table.isnull().sum())"
   ]
  },
  {
   "cell_type": "code",
   "execution_count": null,
   "id": "0920fab3",
   "metadata": {},
   "outputs": [],
   "source": [
    "print(\"Total data \")\n",
    "print(\"-\"*50)\n",
    "print(\"\\nTotal no of ratings :\",table.shape[0])\n",
    "print(\"Total No of Users   :\", len(np.unique(table.reviewerID)))\n",
    "print(\"Total No of products  :\", len(np.unique(table.asin)))"
   ]
  },
  {
   "cell_type": "code",
   "execution_count": null,
   "id": "e661466b",
   "metadata": {},
   "outputs": [],
   "source": [
    "table.drop(['reviewerName'], axis=1,inplace=True)\n",
    "table.drop(['helpful'], axis=1,inplace=True)\n",
    "table.drop(['reviewText'], axis=1,inplace=True)\n",
    "table.drop(['summary'], axis=1,inplace=True)\n",
    "table.drop(['unixReviewTime'], axis=1,inplace=True)\n",
    "table.drop(['reviewTime'], axis=1,inplace=True)\n",
    "table.drop(['polarity'], axis=1,inplace=True)\n",
    "table.drop(['overall'], axis=1,inplace=True)\n",
    "table.drop(['subjectivity'], axis=1,inplace=True)"
   ]
  },
  {
   "cell_type": "code",
   "execution_count": null,
   "id": "c5cef345",
   "metadata": {},
   "outputs": [],
   "source": [
    "#Analysis of rating given by the user \n",
    "\n",
    "no_of_rated_products_per_user = table.groupby(by='reviewerID')['unbias_overall'].count().sort_values(ascending=False)\n",
    "\n",
    "no_of_rated_products_per_user.head()"
   ]
  },
  {
   "cell_type": "code",
   "execution_count": null,
   "id": "68766473",
   "metadata": {},
   "outputs": [],
   "source": [
    "no_of_rated_products_per_user.describe()"
   ]
  },
  {
   "cell_type": "code",
   "execution_count": null,
   "id": "1b4f71a8",
   "metadata": {},
   "outputs": [],
   "source": [
    "quantiles = no_of_rated_products_per_user.quantile(np.arange(0,1.01,0.01), interpolation='higher')"
   ]
  },
  {
   "cell_type": "code",
   "execution_count": null,
   "id": "49046aeb",
   "metadata": {},
   "outputs": [],
   "source": [
    "plt.figure(figsize=(10,10))\n",
    "plt.title(\"Quantiles and their Values\")\n",
    "quantiles.plot()\n",
    "# quantiles with 0.05 difference\n",
    "plt.scatter(x=quantiles.index[::5], y=quantiles.values[::5], c='orange', label=\"quantiles with 0.05 intervals\")\n",
    "# quantiles with 0.25 difference\n",
    "plt.scatter(x=quantiles.index[::25], y=quantiles.values[::25], c='m', label = \"quantiles with 0.25 intervals\")\n",
    "plt.ylabel('No of ratings by user')\n",
    "plt.xlabel('Value at the quantile')\n",
    "plt.legend(loc='best')\n",
    "plt.show()"
   ]
  },
  {
   "cell_type": "code",
   "execution_count": null,
   "id": "68ccf9e2",
   "metadata": {},
   "outputs": [],
   "source": [
    "print('\\n No of rated product more than 50 per user : {}\\n'.format(sum(no_of_rated_products_per_user >= 50)) )"
   ]
  },
  {
   "cell_type": "code",
   "execution_count": null,
   "id": "49d67ada",
   "metadata": {},
   "outputs": [],
   "source": [
    "##Popularity Based Recommendation\n",
    "\n",
    "#Getting the new dataframe which contains users who has given 50 or more ratings\n",
    "new_df=table.groupby(\"asin\").filter(lambda x:x['unbias_overall'].count() >=50)"
   ]
  },
  {
   "cell_type": "code",
   "execution_count": null,
   "id": "e3eb60d5",
   "metadata": {},
   "outputs": [],
   "source": [
    "no_of_ratings_per_product = new_df.groupby(by='asin')['unbias_overall'].count().sort_values(ascending=False)\n",
    "\n",
    "fig = plt.figure(figsize=plt.figaspect(.5))\n",
    "ax = plt.gca()\n",
    "plt.plot(no_of_ratings_per_product.values)\n",
    "plt.title('# RATINGS per Product')\n",
    "plt.xlabel('Product')\n",
    "plt.ylabel('No of ratings per product')\n",
    "ax.set_xticklabels([])\n",
    "\n",
    "plt.show()"
   ]
  },
  {
   "cell_type": "code",
   "execution_count": null,
   "id": "81bcb988",
   "metadata": {},
   "outputs": [],
   "source": [
    "#Average rating of the product \n",
    "\n",
    "new_df.groupby('asin')['unbias_overall'].mean().head()"
   ]
  },
  {
   "cell_type": "code",
   "execution_count": null,
   "id": "a19515f6",
   "metadata": {},
   "outputs": [],
   "source": [
    "new_df.groupby('asin')['unbias_overall'].mean().sort_values(ascending=False).head()"
   ]
  },
  {
   "cell_type": "code",
   "execution_count": null,
   "id": "3f6db809",
   "metadata": {},
   "outputs": [],
   "source": [
    "#Total no of rating for product\n",
    "\n",
    "new_df.groupby('asin')['unbias_overall'].count().sort_values(ascending=False).head()"
   ]
  },
  {
   "cell_type": "code",
   "execution_count": null,
   "id": "0db478d1",
   "metadata": {},
   "outputs": [],
   "source": [
    "ratings_mean_count = pd.DataFrame(new_df.groupby('asin')['unbias_overall'].mean())"
   ]
  },
  {
   "cell_type": "code",
   "execution_count": null,
   "id": "67aa0ad5",
   "metadata": {},
   "outputs": [],
   "source": [
    "ratings_mean_count['rating_counts'] = pd.DataFrame(new_df.groupby('asin')['unbias_overall'].count())"
   ]
  },
  {
   "cell_type": "code",
   "execution_count": null,
   "id": "8919c967",
   "metadata": {},
   "outputs": [],
   "source": [
    "ratings_mean_count.head()"
   ]
  },
  {
   "cell_type": "code",
   "execution_count": null,
   "id": "f68a74ac",
   "metadata": {},
   "outputs": [],
   "source": [
    "ratings_mean_count['rating_counts'].max()"
   ]
  },
  {
   "cell_type": "code",
   "execution_count": null,
   "id": "edfc5444",
   "metadata": {},
   "outputs": [],
   "source": [
    "plt.figure(figsize=(8,6))\n",
    "plt.rcParams['patch.force_edgecolor'] = True\n",
    "ratings_mean_count['rating_counts'].hist(bins=50)"
   ]
  },
  {
   "cell_type": "code",
   "execution_count": null,
   "id": "5791a573",
   "metadata": {},
   "outputs": [],
   "source": [
    "plt.figure(figsize=(8,6))\n",
    "plt.rcParams['patch.force_edgecolor'] = True\n",
    "ratings_mean_count['unbias_overall'].hist(bins=50)"
   ]
  },
  {
   "cell_type": "code",
   "execution_count": null,
   "id": "78d19de7",
   "metadata": {},
   "outputs": [],
   "source": [
    "plt.figure(figsize=(8,6))\n",
    "plt.rcParams['patch.force_edgecolor'] = True\n",
    "sns.jointplot(x='unbias_overall', y='rating_counts', data=ratings_mean_count, alpha=0.4)"
   ]
  },
  {
   "cell_type": "code",
   "execution_count": null,
   "id": "bd538e28",
   "metadata": {},
   "outputs": [],
   "source": [
    "popular_products = pd.DataFrame(new_df.groupby('asin')['unbias_overall'].count())\n",
    "most_popular = popular_products.sort_values('unbias_overall', ascending=False)\n",
    "most_popular.head(30).plot(kind = \"bar\")"
   ]
  },
  {
   "cell_type": "code",
   "execution_count": null,
   "id": "65065e15",
   "metadata": {},
   "outputs": [],
   "source": [
    "from surprise import KNNWithMeans\n",
    "from surprise import Dataset\n",
    "from surprise import accuracy\n",
    "from surprise import Reader\n",
    "import os\n",
    "from surprise.model_selection import train_test_split"
   ]
  },
  {
   "cell_type": "code",
   "execution_count": null,
   "id": "6914af46",
   "metadata": {
    "scrolled": true
   },
   "outputs": [],
   "source": [
    "#Reading the dataset\n",
    "reader = Reader(rating_scale=(1, 5))\n",
    "cols = new_df.columns.tolist()\n",
    "df = new_df[cols] \n",
    "# df = df._convert(numeric=True)\n",
    "print(df)\n",
    "# print(df.dtypes)\n",
    "# df['asin']=df['asin'].astype(np.float64)\n",
    "# print(df.dtypes)\n",
    "\n",
    "data = Dataset.load_from_df(df,reader)"
   ]
  },
  {
   "cell_type": "code",
   "execution_count": null,
   "id": "e74e6a46",
   "metadata": {},
   "outputs": [],
   "source": [
    "#Splitting the dataset\n",
    "trainset, testset = train_test_split(data, test_size=0.2,random_state=0)"
   ]
  },
  {
   "cell_type": "code",
   "execution_count": null,
   "id": "6561de57",
   "metadata": {},
   "outputs": [],
   "source": [
    "# Use user_based true/false to switch between user-based or item-based collaborative filtering\n",
    "algo = KNNWithMeans(k=5, sim_options={'name': 'pearson_baseline', 'user_based': False})\n",
    "algo.fit(trainset)"
   ]
  },
  {
   "cell_type": "code",
   "execution_count": null,
   "id": "4acf999b",
   "metadata": {},
   "outputs": [],
   "source": [
    "# run the trained model against the testset\n",
    "test_pred = algo.test(testset)"
   ]
  },
  {
   "cell_type": "code",
   "execution_count": null,
   "id": "d92222a9",
   "metadata": {},
   "outputs": [],
   "source": [
    "test_pred"
   ]
  },
  {
   "cell_type": "code",
   "execution_count": null,
   "id": "3f729fe5",
   "metadata": {},
   "outputs": [],
   "source": [
    "# get RMSE\n",
    "print(\"Item-based Model : Test Set\")\n",
    "accuracy.rmse(test_pred, verbose=True)"
   ]
  },
  {
   "cell_type": "code",
   "execution_count": null,
   "id": "e0ad804b",
   "metadata": {},
   "outputs": [],
   "source": [
    "#Model-based collaborative filtering system\n",
    "\n",
    "ratings_matrix = new_df.pivot_table(values='unbias_overall', index='reviewerID', columns='asin', fill_value=0)\n",
    "ratings_matrix.head()"
   ]
  },
  {
   "cell_type": "code",
   "execution_count": null,
   "id": "dcb9c4c9",
   "metadata": {},
   "outputs": [],
   "source": [
    "ratings_matrix.shape"
   ]
  },
  {
   "cell_type": "code",
   "execution_count": null,
   "id": "892a3674",
   "metadata": {},
   "outputs": [],
   "source": [
    "X = ratings_matrix.T\n",
    "X.head()"
   ]
  },
  {
   "cell_type": "code",
   "execution_count": null,
   "id": "afa6dcf4",
   "metadata": {},
   "outputs": [],
   "source": [
    "X1 = X"
   ]
  },
  {
   "cell_type": "code",
   "execution_count": null,
   "id": "f5fd3d01",
   "metadata": {},
   "outputs": [],
   "source": [
    "#Decomposing the Matrix\n",
    "from sklearn.decomposition import TruncatedSVD\n",
    "SVD = TruncatedSVD(n_components=10)\n",
    "decomposed_matrix = SVD.fit_transform(X)\n",
    "decomposed_matrix.shape"
   ]
  },
  {
   "cell_type": "code",
   "execution_count": null,
   "id": "362c33e1",
   "metadata": {},
   "outputs": [],
   "source": [
    "#Correlation Matrix\n",
    "\n",
    "correlation_matrix = np.corrcoef(decomposed_matrix)\n",
    "correlation_matrix.shape"
   ]
  },
  {
   "cell_type": "code",
   "execution_count": null,
   "id": "f38c1e65",
   "metadata": {},
   "outputs": [],
   "source": [
    "X.index[253]"
   ]
  },
  {
   "cell_type": "code",
   "execution_count": null,
   "id": "ebec9299",
   "metadata": {},
   "outputs": [],
   "source": [
    "i = \"B005QJZ5FA\"\n",
    "\n",
    "product_names = list(X.index)\n",
    "product_ID = product_names.index(i)\n",
    "product_ID"
   ]
  },
  {
   "cell_type": "code",
   "execution_count": null,
   "id": "0e547e7c",
   "metadata": {},
   "outputs": [],
   "source": [
    "correlation_product_ID = correlation_matrix[product_ID]\n",
    "correlation_product_ID.shape"
   ]
  },
  {
   "cell_type": "code",
   "execution_count": null,
   "id": "d649a900",
   "metadata": {},
   "outputs": [],
   "source": [
    "Recommend = list(X.index[correlation_product_ID > 0.65])\n",
    "\n",
    "# Removes the item already bought by the customer\n",
    "Recommend.remove(i) \n",
    "\n",
    "Recommend[0:24]"
   ]
  },
  {
   "cell_type": "code",
   "execution_count": null,
   "id": "cd19f0b3",
   "metadata": {},
   "outputs": [],
   "source": []
  }
 ],
 "metadata": {
  "kernelspec": {
   "display_name": "Python 3 (ipykernel)",
   "language": "python",
   "name": "python3"
  },
  "language_info": {
   "codemirror_mode": {
    "name": "ipython",
    "version": 3
   },
   "file_extension": ".py",
   "mimetype": "text/x-python",
   "name": "python",
   "nbconvert_exporter": "python",
   "pygments_lexer": "ipython3",
   "version": "3.9.12"
  },
  "vscode": {
   "interpreter": {
    "hash": "f31b5846fe4d0e510ff280a80fa1fd1567c5c662c3b99a86eb737e0309da4a2e"
   }
  }
 },
 "nbformat": 4,
 "nbformat_minor": 5
}
