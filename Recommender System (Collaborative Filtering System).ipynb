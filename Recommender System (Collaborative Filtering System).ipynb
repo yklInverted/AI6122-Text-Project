{
 "cells": [
  {
   "cell_type": "code",
   "execution_count": 1,
   "id": "b2b6c3da",
   "metadata": {},
   "outputs": [],
   "source": [
    "import numpy as np # linear algebra\n",
    "import pandas as pd # data processing, CSV file I/O (e.g. pd.read_csv)\n",
    "import os\n",
    "from IPython.core.interactiveshell import InteractiveShell\n",
    "InteractiveShell.ast_node_interactivity = \"all\"\n",
    "import math\n",
    "import json\n",
    "import time\n",
    "import matplotlib.pyplot as plt\n",
    "import seaborn as sns\n",
    "from sklearn.metrics.pairwise import cosine_similarity\n",
    "from sklearn.model_selection import train_test_split\n",
    "from sklearn.neighbors import NearestNeighbors\n",
    "import joblib\n",
    "import scipy.sparse\n",
    "from scipy.sparse import csr_matrix\n",
    "from scipy.sparse.linalg import svds\n",
    "import warnings; warnings.simplefilter('ignore')\n",
    "import nltk\n",
    "import sys\n",
    "%matplotlib inline"
   ]
  },
  {
   "cell_type": "code",
   "execution_count": 2,
   "id": "e2c17f5a",
   "metadata": {
    "scrolled": true
   },
   "outputs": [
    {
     "name": "stdout",
     "output_type": "stream",
     "text": [
      "       reviewerID        asin          reviewerName helpful  \\\n",
      "0  A3EBHHCZO6V2A4  5555991584  Amaranth \"music fan\"  [3, 3]   \n",
      "1   AZPWAXJG9OJXV  5555991584             bethtexas  [0, 0]   \n",
      "2  A38IRL0X2T4DPF  5555991584           bob turnley  [2, 2]   \n",
      "3  A22IK3I6U76GX0  5555991584                 Calle  [1, 1]   \n",
      "4  A1AISPOIIHTHXX  5555991584           Cloud \"...\"  [1, 1]   \n",
      "\n",
      "                                          reviewText  overall  \\\n",
      "0  It's hard to believe \"Memory of Trees\" came ou...        5   \n",
      "1  A clasically-styled and introverted album, Mem...        5   \n",
      "2  I never thought Enya would reach the sublime h...        5   \n",
      "3  This is the third review of an irish album I w...        5   \n",
      "4  Enya, despite being a successful recording art...        4   \n",
      "\n",
      "                        summary  unixReviewTime   reviewTime  \n",
      "0       Enya's last great album      1158019200  09 12, 2006  \n",
      "1      Enya at her most elegant       991526400   06 3, 2001  \n",
      "2               The best so far      1058140800  07 14, 2003  \n",
      "3  Ireland produces good music.       957312000   05 3, 2000  \n",
      "4        4.5; music to dream to      1200528000  01 17, 2008  \n"
     ]
    }
   ],
   "source": [
    "data_path = \"./data/Digital_Music_5.json\"\n",
    "table = pd.read_json(data_path, 'records', lines = True).reset_index(drop = True, inplace = False)\n",
    "print(table.head())"
   ]
  },
  {
   "cell_type": "code",
   "execution_count": 3,
   "id": "16cfcc87",
   "metadata": {},
   "outputs": [
    {
     "data": {
      "text/plain": [
       "(64706, 9)"
      ]
     },
     "execution_count": 3,
     "metadata": {},
     "output_type": "execute_result"
    }
   ],
   "source": [
    "table.shape"
   ]
  },
  {
   "cell_type": "code",
   "execution_count": 4,
   "id": "558b7438",
   "metadata": {},
   "outputs": [
    {
     "data": {
      "text/plain": [
       "count    64706.000000\n",
       "mean         4.222514\n",
       "std          1.086081\n",
       "min          1.000000\n",
       "25%          4.000000\n",
       "50%          5.000000\n",
       "75%          5.000000\n",
       "max          5.000000\n",
       "Name: overall, dtype: float64"
      ]
     },
     "execution_count": 4,
     "metadata": {},
     "output_type": "execute_result"
    }
   ],
   "source": [
    "table.describe()['overall'].T"
   ]
  },
  {
   "cell_type": "code",
   "execution_count": 5,
   "id": "ce04addb",
   "metadata": {},
   "outputs": [
    {
     "name": "stdout",
     "output_type": "stream",
     "text": [
      "Number of missing values across columns: \n",
      " reviewerID          0\n",
      "asin                0\n",
      "reviewerName      177\n",
      "helpful             0\n",
      "reviewText          0\n",
      "overall             0\n",
      "summary             0\n",
      "unixReviewTime      0\n",
      "reviewTime          0\n",
      "dtype: int64\n"
     ]
    }
   ],
   "source": [
    "print('Number of missing values across columns: \\n',table.isnull().sum())"
   ]
  },
  {
   "cell_type": "code",
   "execution_count": 6,
   "id": "d1b1e3c7",
   "metadata": {},
   "outputs": [
    {
     "data": {
      "text/plain": [
       "<seaborn.axisgrid.FacetGrid at 0x22f1b5977c0>"
      ]
     },
     "execution_count": 6,
     "metadata": {},
     "output_type": "execute_result"
    },
    {
     "data": {
      "image/png": "[encoded data removed]",
      "text/plain": [
       "<Figure size 720x360 with 1 Axes>"
      ]
     },
     "metadata": {},
     "output_type": "display_data"
    }
   ],
   "source": [
    "# Check the distribution of the rating\n",
    "with sns.axes_style('white'):\n",
    "    g = sns.factorplot(\"overall\", data=table, aspect=2.0,kind='count')\n",
    "    g.set_ylabels(\"Total number of ratings\")"
   ]
  },
  {
   "cell_type": "code",
   "execution_count": 7,
   "id": "0920fab3",
   "metadata": {},
   "outputs": [
    {
     "name": "stdout",
     "output_type": "stream",
     "text": [
      "Total data \n",
      "--------------------------------------------------\n",
      "\n",
      "Total no of ratings : 64706\n",
      "Total No of Users   : 5541\n",
      "Total No of products  : 3568\n"
     ]
    }
   ],
   "source": [
    "print(\"Total data \")\n",
    "print(\"-\"*50)\n",
    "print(\"\\nTotal no of ratings :\",table.shape[0])\n",
    "print(\"Total No of Users   :\", len(np.unique(table.reviewerID)))\n",
    "print(\"Total No of products  :\", len(np.unique(table.asin)))"
   ]
  },
  {
   "cell_type": "code",
   "execution_count": 8,
   "id": "e661466b",
   "metadata": {},
   "outputs": [],
   "source": [
    "table.drop(['reviewerName'], axis=1,inplace=True)\n",
    "table.drop(['helpful'], axis=1,inplace=True)\n",
    "table.drop(['reviewText'], axis=1,inplace=True)\n",
    "table.drop(['summary'], axis=1,inplace=True)\n",
    "table.drop(['unixReviewTime'], axis=1,inplace=True)\n",
    "table.drop(['reviewTime'], axis=1,inplace=True)"
   ]
  },
  {
   "cell_type": "code",
   "execution_count": 9,
   "id": "c5cef345",
   "metadata": {},
   "outputs": [
    {
     "data": {
      "text/plain": [
       "reviewerID\n",
       "A9Q28YTLYREO7     578\n",
       "A3HU0B9XUEVHIM    375\n",
       "A3KJ6JAZPH382D    301\n",
       "A3C6ZCBUNXUT7V    261\n",
       "A8IFUOL8S9BZC     256\n",
       "Name: overall, dtype: int64"
      ]
     },
     "execution_count": 9,
     "metadata": {},
     "output_type": "execute_result"
    }
   ],
   "source": [
    "#Analysis of rating given by the user \n",
    "\n",
    "no_of_rated_products_per_user = table.groupby(by='reviewerID')['overall'].count().sort_values(ascending=False)\n",
    "\n",
    "no_of_rated_products_per_user.head()"
   ]
  },
  {
   "cell_type": "code",
   "execution_count": 10,
   "id": "68766473",
   "metadata": {},
   "outputs": [
    {
     "data": {
      "text/plain": [
       "count    5541.000000\n",
       "mean       11.677676\n",
       "std        18.222800\n",
       "min         5.000000\n",
       "25%         5.000000\n",
       "50%         7.000000\n",
       "75%        11.000000\n",
       "max       578.000000\n",
       "Name: overall, dtype: float64"
      ]
     },
     "execution_count": 10,
     "metadata": {},
     "output_type": "execute_result"
    }
   ],
   "source": [
    "no_of_rated_products_per_user.describe()"
   ]
  },
  {
   "cell_type": "code",
   "execution_count": 11,
   "id": "1b4f71a8",
   "metadata": {},
   "outputs": [],
   "source": [
    "quantiles = no_of_rated_products_per_user.quantile(np.arange(0,1.01,0.01), interpolation='higher')"
   ]
  },
  {
   "cell_type": "code",
   "execution_count": 12,
   "id": "49046aeb",
   "metadata": {},
   "outputs": [
    {
     "data": {
      "text/plain": [
       "<Figure size 720x720 with 0 Axes>"
      ]
     },
     "execution_count": 12,
     "metadata": {},
     "output_type": "execute_result"
    },
    {
     "data": {
      "text/plain": [
       "Text(0.5, 1.0, 'Quantiles and their Values')"
      ]
     },
     "execution_count": 12,
     "metadata": {},
     "output_type": "execute_result"
    },
    {
     "data": {
      "text/plain": [
       "<AxesSubplot:title={'center':'Quantiles and their Values'}>"
      ]
     },
     "execution_count": 12,
     "metadata": {},
     "output_type": "execute_result"
    },
    {
     "data": {
      "text/plain": [
       "<matplotlib.collections.PathCollection at 0x22f7a4b5880>"
      ]
     },
     "execution_count": 12,
     "metadata": {},
     "output_type": "execute_result"
    },
    {
     "data": {
      "text/plain": [
       "<matplotlib.collections.PathCollection at 0x22f7a4b5fa0>"
      ]
     },
     "execution_count": 12,
     "metadata": {},
     "output_type": "execute_result"
    },
    {
     "data": {
      "text/plain": [
       "Text(0, 0.5, 'No of ratings by user')"
      ]
     },
     "execution_count": 12,
     "metadata": {},
     "output_type": "execute_result"
    },
    {
     "data": {
      "text/plain": [
       "Text(0.5, 0, 'Value at the quantile')"
      ]
     },
     "execution_count": 12,
     "metadata": {},
     "output_type": "execute_result"
    },
    {
     "data": {
      "text/plain": [
       "<matplotlib.legend.Legend at 0x22f7a4b5c70>"
      ]
     },
     "execution_count": 12,
     "metadata": {},
     "output_type": "execute_result"
    },
    {
     "data": {
      "image/png": "[encoded data removed]",
      "text/plain": [
       "<Figure size 720x720 with 1 Axes>"
      ]
     },
     "metadata": {
      "needs_background": "light"
     },
     "output_type": "display_data"
    }
   ],
   "source": [
    "plt.figure(figsize=(10,10))\n",
    "plt.title(\"Quantiles and their Values\")\n",
    "quantiles.plot()\n",
    "# quantiles with 0.05 difference\n",
    "plt.scatter(x=quantiles.index[::5], y=quantiles.values[::5], c='orange', label=\"quantiles with 0.05 intervals\")\n",
    "# quantiles with 0.25 difference\n",
    "plt.scatter(x=quantiles.index[::25], y=quantiles.values[::25], c='m', label = \"quantiles with 0.25 intervals\")\n",
    "plt.ylabel('No of ratings by user')\n",
    "plt.xlabel('Value at the quantile')\n",
    "plt.legend(loc='best')\n",
    "plt.show()"
   ]
  },
  {
   "cell_type": "code",
   "execution_count": 13,
   "id": "68ccf9e2",
   "metadata": {},
   "outputs": [
    {
     "name": "stdout",
     "output_type": "stream",
     "text": [
      "\n",
      " No of rated product more than 50 per user : 126\n",
      "\n"
     ]
    }
   ],
   "source": [
    "print('\\n No of rated product more than 50 per user : {}\\n'.format(sum(no_of_rated_products_per_user >= 50)) )"
   ]
  },
  {
   "cell_type": "code",
   "execution_count": 14,
   "id": "49d67ada",
   "metadata": {},
   "outputs": [],
   "source": [
    "##Popularity Based Recommendation\n",
    "\n",
    "#Getting the new dataframe which contains users who has given 50 or more ratings\n",
    "new_df=table.groupby(\"asin\").filter(lambda x:x['overall'].count() >=50)"
   ]
  },
  {
   "cell_type": "code",
   "execution_count": 15,
   "id": "e3eb60d5",
   "metadata": {},
   "outputs": [
    {
     "data": {
      "text/plain": [
       "[<matplotlib.lines.Line2D at 0x22f6d661730>]"
      ]
     },
     "execution_count": 15,
     "metadata": {},
     "output_type": "execute_result"
    },
    {
     "data": {
      "text/plain": [
       "Text(0.5, 1.0, '# RATINGS per Product')"
      ]
     },
     "execution_count": 15,
     "metadata": {},
     "output_type": "execute_result"
    },
    {
     "data": {
      "text/plain": [
       "Text(0.5, 0, 'Product')"
      ]
     },
     "execution_count": 15,
     "metadata": {},
     "output_type": "execute_result"
    },
    {
     "data": {
      "text/plain": [
       "Text(0, 0.5, 'No of ratings per product')"
      ]
     },
     "execution_count": 15,
     "metadata": {},
     "output_type": "execute_result"
    },
    {
     "data": {
      "text/plain": [
       "[Text(-50.0, 0, ''),\n",
       " Text(0.0, 0, ''),\n",
       " Text(50.0, 0, ''),\n",
       " Text(100.0, 0, ''),\n",
       " Text(150.0, 0, ''),\n",
       " Text(200.0, 0, ''),\n",
       " Text(250.0, 0, ''),\n",
       " Text(300.0, 0, '')]"
      ]
     },
     "execution_count": 15,
     "metadata": {},
     "output_type": "execute_result"
    },
    {
     "data": {
      "image/png": "[encoded data removed]",
      "text/plain": [
       "<Figure size 576x288 with 1 Axes>"
      ]
     },
     "metadata": {
      "needs_background": "light"
     },
     "output_type": "display_data"
    }
   ],
   "source": [
    "no_of_ratings_per_product = new_df.groupby(by='asin')['overall'].count().sort_values(ascending=False)\n",
    "\n",
    "fig = plt.figure(figsize=plt.figaspect(.5))\n",
    "ax = plt.gca()\n",
    "plt.plot(no_of_ratings_per_product.values)\n",
    "plt.title('# RATINGS per Product')\n",
    "plt.xlabel('Product')\n",
    "plt.ylabel('No of ratings per product')\n",
    "ax.set_xticklabels([])\n",
    "\n",
    "plt.show()"
   ]
  },
  {
   "cell_type": "code",
   "execution_count": 16,
   "id": "81bcb988",
   "metadata": {},
   "outputs": [
    {
     "data": {
      "text/plain": [
       "asin\n",
       "B00000016W    4.629630\n",
       "B00000064G    4.734177\n",
       "B000000OUJ    4.835443\n",
       "B000000TDH    4.518519\n",
       "B0000013GH    4.450980\n",
       "Name: overall, dtype: float64"
      ]
     },
     "execution_count": 16,
     "metadata": {},
     "output_type": "execute_result"
    }
   ],
   "source": [
    "#Average rating of the product \n",
    "\n",
    "new_df.groupby('asin')['overall'].mean().head()"
   ]
  },
  {
   "cell_type": "code",
   "execution_count": 17,
   "id": "a19515f6",
   "metadata": {},
   "outputs": [
    {
     "data": {
      "text/plain": [
       "asin\n",
       "B000002WR5    4.924242\n",
       "B000028U0Y    4.920000\n",
       "B00003002C    4.890110\n",
       "B000001A6N    4.884615\n",
       "B000003AEK    4.882353\n",
       "Name: overall, dtype: float64"
      ]
     },
     "execution_count": 17,
     "metadata": {},
     "output_type": "execute_result"
    }
   ],
   "source": [
    "new_df.groupby('asin')['overall'].mean().sort_values(ascending=False).head()"
   ]
  },
  {
   "cell_type": "code",
   "execution_count": 18,
   "id": "3f6db809",
   "metadata": {},
   "outputs": [
    {
     "data": {
      "text/plain": [
       "asin\n",
       "B0007NFL18    272\n",
       "B000084T18    271\n",
       "B00006690F    204\n",
       "B00004T9UF    202\n",
       "B00005YW4H    190\n",
       "Name: overall, dtype: int64"
      ]
     },
     "execution_count": 18,
     "metadata": {},
     "output_type": "execute_result"
    }
   ],
   "source": [
    "#Total no of rating for product\n",
    "\n",
    "new_df.groupby('asin')['overall'].count().sort_values(ascending=False).head()"
   ]
  },
  {
   "cell_type": "code",
   "execution_count": 19,
   "id": "0db478d1",
   "metadata": {},
   "outputs": [],
   "source": [
    "ratings_mean_count = pd.DataFrame(new_df.groupby('asin')['overall'].mean())"
   ]
  },
  {
   "cell_type": "code",
   "execution_count": 20,
   "id": "67aa0ad5",
   "metadata": {},
   "outputs": [],
   "source": [
    "ratings_mean_count['rating_counts'] = pd.DataFrame(new_df.groupby('asin')['overall'].count())"
   ]
  },
  {
   "cell_type": "code",
   "execution_count": 21,
   "id": "8919c967",
   "metadata": {},
   "outputs": [
    {
     "data": {
      "text/html": [
       "<div>\n",
       "<style scoped>\n",
       "    .dataframe tbody tr th:only-of-type {\n",
       "        vertical-align: middle;\n",
       "    }\n",
       "\n",
       "    .dataframe tbody tr th {\n",
       "        vertical-align: top;\n",
       "    }\n",
       "\n",
       "    .dataframe thead th {\n",
       "        text-align: right;\n",
       "    }\n",
       "</style>\n",
       "<table border=\"1\" class=\"dataframe\">\n",
       "  <thead>\n",
       "    <tr style=\"text-align: right;\">\n",
       "      <th></th>\n",
       "      <th>overall</th>\n",
       "      <th>rating_counts</th>\n",
       "    </tr>\n",
       "    <tr>\n",
       "      <th>asin</th>\n",
       "      <th></th>\n",
       "      <th></th>\n",
       "    </tr>\n",
       "  </thead>\n",
       "  <tbody>\n",
       "    <tr>\n",
       "      <th>B00000016W</th>\n",
       "      <td>4.629630</td>\n",
       "      <td>135</td>\n",
       "    </tr>\n",
       "    <tr>\n",
       "      <th>B00000064G</th>\n",
       "      <td>4.734177</td>\n",
       "      <td>79</td>\n",
       "    </tr>\n",
       "    <tr>\n",
       "      <th>B000000OUJ</th>\n",
       "      <td>4.835443</td>\n",
       "      <td>79</td>\n",
       "    </tr>\n",
       "    <tr>\n",
       "      <th>B000000TDH</th>\n",
       "      <td>4.518519</td>\n",
       "      <td>54</td>\n",
       "    </tr>\n",
       "    <tr>\n",
       "      <th>B0000013GH</th>\n",
       "      <td>4.450980</td>\n",
       "      <td>51</td>\n",
       "    </tr>\n",
       "  </tbody>\n",
       "</table>\n",
       "</div>"
      ],
      "text/plain": [
       "             overall  rating_counts\n",
       "asin                               \n",
       "B00000016W  4.629630            135\n",
       "B00000064G  4.734177             79\n",
       "B000000OUJ  4.835443             79\n",
       "B000000TDH  4.518519             54\n",
       "B0000013GH  4.450980             51"
      ]
     },
     "execution_count": 21,
     "metadata": {},
     "output_type": "execute_result"
    }
   ],
   "source": [
    "ratings_mean_count.head()"
   ]
  },
  {
   "cell_type": "code",
   "execution_count": 22,
   "id": "f68a74ac",
   "metadata": {},
   "outputs": [
    {
     "data": {
      "text/plain": [
       "272"
      ]
     },
     "execution_count": 22,
     "metadata": {},
     "output_type": "execute_result"
    }
   ],
   "source": [
    "ratings_mean_count['rating_counts'].max()"
   ]
  },
  {
   "cell_type": "code",
   "execution_count": 23,
   "id": "edfc5444",
   "metadata": {},
   "outputs": [
    {
     "data": {
      "text/plain": [
       "<Figure size 576x432 with 0 Axes>"
      ]
     },
     "execution_count": 23,
     "metadata": {},
     "output_type": "execute_result"
    },
    {
     "data": {
      "text/plain": [
       "<AxesSubplot:>"
      ]
     },
     "execution_count": 23,
     "metadata": {},
     "output_type": "execute_result"
    },
    {
     "data": {
      "image/png": "[encoded data removed]",
      "text/plain": [
       "<Figure size 576x432 with 1 Axes>"
      ]
     },
     "metadata": {
      "needs_background": "light"
     },
     "output_type": "display_data"
    }
   ],
   "source": [
    "plt.figure(figsize=(8,6))\n",
    "plt.rcParams['patch.force_edgecolor'] = True\n",
    "ratings_mean_count['rating_counts'].hist(bins=50)"
   ]
  },
  {
   "cell_type": "code",
   "execution_count": 24,
   "id": "5791a573",
   "metadata": {},
   "outputs": [
    {
     "data": {
      "text/plain": [
       "<Figure size 576x432 with 0 Axes>"
      ]
     },
     "execution_count": 24,
     "metadata": {},
     "output_type": "execute_result"
    },
    {
     "data": {
      "text/plain": [
       "<AxesSubplot:>"
      ]
     },
     "execution_count": 24,
     "metadata": {},
     "output_type": "execute_result"
    },
    {
     "data": {
      "image/png": "[encoded data removed]",
      "text/plain": [
       "<Figure size 576x432 with 1 Axes>"
      ]
     },
     "metadata": {
      "needs_background": "light"
     },
     "output_type": "display_data"
    }
   ],
   "source": [
    "plt.figure(figsize=(8,6))\n",
    "plt.rcParams['patch.force_edgecolor'] = True\n",
    "ratings_mean_count['overall'].hist(bins=50)"
   ]
  },
  {
   "cell_type": "code",
   "execution_count": 25,
   "id": "78d19de7",
   "metadata": {},
   "outputs": [
    {
     "data": {
      "text/plain": [
       "<Figure size 576x432 with 0 Axes>"
      ]
     },
     "execution_count": 25,
     "metadata": {},
     "output_type": "execute_result"
    },
    {
     "data": {
      "text/plain": [
       "<seaborn.axisgrid.JointGrid at 0x22f6a56a160>"
      ]
     },
     "execution_count": 25,
     "metadata": {},
     "output_type": "execute_result"
    },
    {
     "data": {
      "text/plain": [
       "<Figure size 576x432 with 0 Axes>"
      ]
     },
     "metadata": {},
     "output_type": "display_data"
    },
    {
     "data": {
      "image/png": "[encoded data removed]",
      "text/plain": [
       "<Figure size 432x432 with 3 Axes>"
      ]
     },
     "metadata": {
      "needs_background": "light"
     },
     "output_type": "display_data"
    }
   ],
   "source": [
    "plt.figure(figsize=(8,6))\n",
    "plt.rcParams['patch.force_edgecolor'] = True\n",
    "sns.jointplot(x='overall', y='rating_counts', data=ratings_mean_count, alpha=0.4)"
   ]
  },
  {
   "cell_type": "code",
   "execution_count": 26,
   "id": "bd538e28",
   "metadata": {},
   "outputs": [
    {
     "data": {
      "text/plain": [
       "<AxesSubplot:xlabel='asin'>"
      ]
     },
     "execution_count": 26,
     "metadata": {},
     "output_type": "execute_result"
    },
    {
     "data": {
      "image/png": "[encoded data removed]",
      "text/plain": [
       "<Figure size 432x288 with 1 Axes>"
      ]
     },
     "metadata": {
      "needs_background": "light"
     },
     "output_type": "display_data"
    }
   ],
   "source": [
    "popular_products = pd.DataFrame(new_df.groupby('asin')['overall'].count())\n",
    "most_popular = popular_products.sort_values('overall', ascending=False)\n",
    "most_popular.head(30).plot(kind = \"bar\")"
   ]
  },
  {
   "cell_type": "code",
   "execution_count": 27,
   "id": "65065e15",
   "metadata": {},
   "outputs": [],
   "source": [
    "from surprise import KNNWithMeans\n",
    "from surprise import Dataset\n",
    "from surprise import accuracy\n",
    "from surprise import Reader\n",
    "import os\n",
    "from surprise.model_selection import train_test_split"
   ]
  },
  {
   "cell_type": "code",
   "execution_count": 28,
   "id": "6914af46",
   "metadata": {
    "scrolled": true
   },
   "outputs": [
    {
     "name": "stdout",
     "output_type": "stream",
     "text": [
      "           reviewerID        asin  overall\n",
      "85     A1C0C9IJO2HS03  B00000016W        5\n",
      "86     A22N9H8V0RYQR3  B00000016W        1\n",
      "87     A1E110L9ZKX6FD  B00000016W        5\n",
      "88     A3HU0B9XUEVHIM  B00000016W        5\n",
      "89     A252HNVAZENVNE  B00000016W        5\n",
      "...               ...         ...      ...\n",
      "61354  A2X4WHLXULSKDD  B005QJZ5FA        5\n",
      "61355   AY6A8KPYCE6B0  B005QJZ5FA        4\n",
      "61356  A2U3XA8QL4IPJO  B005QJZ5FA        5\n",
      "61357   AFEN54UGJQOK9  B005QJZ5FA        5\n",
      "61358  A13Y1WNMYX93EL  B005QJZ5FA        5\n",
      "\n",
      "[20271 rows x 3 columns]\n"
     ]
    }
   ],
   "source": [
    "#Reading the dataset\n",
    "reader = Reader(rating_scale=(1, 5))\n",
    "cols = new_df.columns.tolist()\n",
    "df = new_df[cols] \n",
    "# df = df._convert(numeric=True)\n",
    "print(df)\n",
    "# print(df.dtypes)\n",
    "# df['asin']=df['asin'].astype(np.float64)\n",
    "# print(df.dtypes)\n",
    "\n",
    "data = Dataset.load_from_df(df,reader)"
   ]
  },
  {
   "cell_type": "code",
   "execution_count": 29,
   "id": "e74e6a46",
   "metadata": {},
   "outputs": [],
   "source": [
    "#Splitting the dataset\n",
    "trainset, testset = train_test_split(data, test_size=0.2,random_state=0)"
   ]
  },
  {
   "cell_type": "code",
   "execution_count": 30,
   "id": "6561de57",
   "metadata": {},
   "outputs": [
    {
     "name": "stdout",
     "output_type": "stream",
     "text": [
      "Estimating biases using als...\n",
      "Computing the pearson_baseline similarity matrix...\n",
      "Done computing similarity matrix.\n"
     ]
    },
    {
     "data": {
      "text/plain": [
       "<surprise.prediction_algorithms.knns.KNNWithMeans at 0x22f6e4d67c0>"
      ]
     },
     "execution_count": 30,
     "metadata": {},
     "output_type": "execute_result"
    }
   ],
   "source": [
    "# Use user_based true/false to switch between user-based or item-based collaborative filtering\n",
    "algo = KNNWithMeans(k=5, sim_options={'name': 'pearson_baseline', 'user_based': False})\n",
    "algo.fit(trainset)"
   ]
  },
  {
   "cell_type": "code",
   "execution_count": 31,
   "id": "4acf999b",
   "metadata": {},
   "outputs": [],
   "source": [
    "# run the trained model against the testset\n",
    "test_pred = algo.test(testset)"
   ]
  },
  {
   "cell_type": "code",
   "execution_count": 32,
   "id": "d92222a9",
   "metadata": {},
   "outputs": [
    {
     "data": {
      "text/plain": [
       "[Prediction(uid='AJQMDNJRZP6MD', iid='B00005NHJS', r_ui=5.0, est=4.188888888888888, details={'actual_k': 1, 'was_impossible': False}),\n",
       " Prediction(uid='A2QMBY3CCR2B02', iid='B0006ZQ9BS', r_ui=5.0, est=3.526872775014084, details={'actual_k': 4, 'was_impossible': False}),\n",
       " Prediction(uid='A26XCS3QLDJJWN', iid='B000035X1M', r_ui=4.0, est=4.495448363046333, details={'actual_k': 5, 'was_impossible': False}),\n",
       " Prediction(uid='A1Q6KVOLE0HO3R', iid='B000002KZR', r_ui=5.0, est=4.966816330920197, details={'actual_k': 4, 'was_impossible': False}),\n",
       " Prediction(uid='A1S7N1XX196ON7', iid='B0000TAZS8', r_ui=4.0, est=1.3634967355708156, details={'actual_k': 2, 'was_impossible': False}),\n",
       " Prediction(uid='A1ALPL858XSDE', iid='B0001XANAS', r_ui=5.0, est=4.168413912185496, details={'was_impossible': True, 'reason': 'User and/or item is unknown.'}),\n",
       " Prediction(uid='AQZE4MMQMDKPB', iid='B0000039QA', r_ui=5.0, est=4.794003657440352, details={'actual_k': 5, 'was_impossible': False}),\n",
       " Prediction(uid='A23F0RW1RUBBDF', iid='B000002C2E', r_ui=5.0, est=4.703959773727215, details={'actual_k': 1, 'was_impossible': False}),\n",
       " Prediction(uid='A1WKYTCWH09P0Z', iid='B0002IQHBQ', r_ui=5.0, est=5, details={'actual_k': 5, 'was_impossible': False}),\n",
       " Prediction(uid='A36J3W0A8OPFC1', iid='B0000039QA', r_ui=5.0, est=4.534246575342466, details={'actual_k': 0, 'was_impossible': False}),\n",
       " Prediction(uid='A11BC4PIHPZVJP', iid='B0000029DD', r_ui=4.0, est=5, details={'actual_k': 1, 'was_impossible': False}),\n",
       " Prediction(uid='A3TSPLFYU2UMW0', iid='B000002LGQ', r_ui=5.0, est=4.810939112487101, details={'actual_k': 1, 'was_impossible': False}),\n",
       " Prediction(uid='A2Q8BZMIXLLCNG', iid='B000002J88', r_ui=4.0, est=2.3355346395569967, details={'actual_k': 2, 'was_impossible': False}),\n",
       " Prediction(uid='A2P814DGX3QD1A', iid='B00005ICAW', r_ui=5.0, est=2.165574746873138, details={'actual_k': 1, 'was_impossible': False}),\n",
       " Prediction(uid='A22HN0VTP9TCLJ', iid='B00004T9UF', r_ui=4.0, est=4.130805061664957, details={'actual_k': 4, 'was_impossible': False}),\n",
       " Prediction(uid='A3N3SN2DDD4HCJ', iid='B000002AP1', r_ui=5.0, est=3.5762237762237765, details={'actual_k': 1, 'was_impossible': False}),\n",
       " Prediction(uid='A3E8EY24IZZ2EG', iid='B00001QGQI', r_ui=5.0, est=4.130443804627413, details={'actual_k': 2, 'was_impossible': False}),\n",
       " Prediction(uid='A1NP9X56O2MNLV', iid='B00000DGUG', r_ui=4.0, est=3.862950284957446, details={'actual_k': 3, 'was_impossible': False}),\n",
       " Prediction(uid='A1IKOYZVFHO1XP', iid='B000002GWZ', r_ui=5.0, est=4.343737938841546, details={'actual_k': 5, 'was_impossible': False}),\n",
       " Prediction(uid='A1KFWSYZIOBI3Y', iid='B00004UARR', r_ui=5.0, est=2.5292929292929296, details={'actual_k': 1, 'was_impossible': False}),\n",
       " Prediction(uid='A2H1WNB30JNAWU', iid='B00006690F', r_ui=5.0, est=4.1213351050995, details={'actual_k': 3, 'was_impossible': False}),\n",
       " Prediction(uid='A2FW9R4QP52W5F', iid='B0000025RI', r_ui=5.0, est=4.816793893129771, details={'actual_k': 0, 'was_impossible': False}),\n",
       " Prediction(uid='A343WUP274JSP3', iid='B000AOENCM', r_ui=5.0, est=4.2655819774718395, details={'actual_k': 1, 'was_impossible': False}),\n",
       " Prediction(uid='A2LNEZD3YBO12O', iid='B0007NFL18', r_ui=4.0, est=2.6038984041205455, details={'actual_k': 5, 'was_impossible': False}),\n",
       " Prediction(uid='A3O8YT41TDXL0B', iid='B000MTPAGI', r_ui=2.0, est=3.6540564597759277, details={'actual_k': 5, 'was_impossible': False}),\n",
       " Prediction(uid='A30VQ7PHNAGRML', iid='B000023VR6', r_ui=4.0, est=4.738571640522542, details={'actual_k': 2, 'was_impossible': False}),\n",
       " Prediction(uid='AY84BQK3EMJ4S', iid='B000H0MKGK', r_ui=5.0, est=4.333549640291709, details={'actual_k': 3, 'was_impossible': False}),\n",
       " Prediction(uid='AAHERVSTDYU17', iid='B004K4AUZW', r_ui=3.0, est=3.9411764705882355, details={'actual_k': 0, 'was_impossible': False}),\n",
       " Prediction(uid='A1EJ9BMB058DRV', iid='B0000AGWFX', r_ui=5.0, est=4.588938091999722, details={'actual_k': 2, 'was_impossible': False}),\n",
       " Prediction(uid='AKFE1P1ZDBPXU', iid='B000002JAI', r_ui=4.0, est=3.7392589405689107, details={'actual_k': 2, 'was_impossible': False}),\n",
       " Prediction(uid='A1SPYMGDEWKK6I', iid='B0006ZQ9BS', r_ui=4.0, est=5, details={'actual_k': 5, 'was_impossible': False}),\n",
       " Prediction(uid='A1JI9C3F1UBLUH', iid='B003WTE886', r_ui=5.0, est=5, details={'actual_k': 3, 'was_impossible': False}),\n",
       " Prediction(uid='A1AIQJYEPA44F0', iid='B003KUSUG8', r_ui=2.0, est=4.111912954849309, details={'actual_k': 2, 'was_impossible': False}),\n",
       " Prediction(uid='A2HFL26OQJ2T9X', iid='B000002GK1', r_ui=5.0, est=4.037037037037037, details={'actual_k': 1, 'was_impossible': False}),\n",
       " Prediction(uid='A3JG72P0KY27HW', iid='B000BTDMDC', r_ui=5.0, est=4.146428571428571, details={'actual_k': 1, 'was_impossible': False}),\n",
       " Prediction(uid='A3RC3AK8UN89I9', iid='B00008OWZE', r_ui=4.0, est=4.029041049199536, details={'actual_k': 5, 'was_impossible': False}),\n",
       " Prediction(uid='A1D2C0WDCSHUWZ', iid='B004K4AUZW', r_ui=2.0, est=3.845756507086447, details={'actual_k': 3, 'was_impossible': False}),\n",
       " Prediction(uid='A19D230U2BGA7B', iid='B0000DD7LC', r_ui=5.0, est=4.972727272727273, details={'actual_k': 1, 'was_impossible': False}),\n",
       " Prediction(uid='A33693RRRFK55Q', iid='B0002A2WAO', r_ui=2.0, est=2.052247366774429, details={'actual_k': 1, 'was_impossible': False}),\n",
       " Prediction(uid='ASK9UDXP1UAUY', iid='B00008H2LB', r_ui=4.0, est=4.006302521008403, details={'actual_k': 1, 'was_impossible': False}),\n",
       " Prediction(uid='A16EHWSPVT7F0C', iid='B000FII324', r_ui=5.0, est=4.87972972972973, details={'actual_k': 1, 'was_impossible': False}),\n",
       " Prediction(uid='ATS4FKFOX9INH', iid='B0000TAZS8', r_ui=5.0, est=4.095937438404886, details={'actual_k': 3, 'was_impossible': False}),\n",
       " Prediction(uid='A3T9IX8EDFDX4G', iid='B000001FAO', r_ui=5.0, est=4.727525518489661, details={'actual_k': 5, 'was_impossible': False}),\n",
       " Prediction(uid='A18S82FC7G65QZ', iid='B00014TQ7S', r_ui=2.0, est=4.631754789981308, details={'actual_k': 2, 'was_impossible': False}),\n",
       " Prediction(uid='A27PS2HLB49DYT', iid='B00097A5H2', r_ui=4.0, est=4.634962512982342, details={'actual_k': 2, 'was_impossible': False}),\n",
       " Prediction(uid='A3C6ZCBUNXUT7V', iid='B003KUSUG8', r_ui=4.0, est=4.875177425566278, details={'actual_k': 5, 'was_impossible': False}),\n",
       " Prediction(uid='A25P6DY6ARTCGZ', iid='B0000BWVLM', r_ui=4.0, est=5, details={'actual_k': 1, 'was_impossible': False}),\n",
       " Prediction(uid='A3HCY89ISEIF0J', iid='B0002A2WAO', r_ui=5.0, est=4.4807981775074, details={'actual_k': 2, 'was_impossible': False}),\n",
       " Prediction(uid='A1IANEBSMVGHS9', iid='B00000IAU3', r_ui=4.0, est=4.360256938289262, details={'actual_k': 5, 'was_impossible': False}),\n",
       " Prediction(uid='A2MAMTF1GXLM5W', iid='B000089CJI', r_ui=5.0, est=4.376532047418124, details={'actual_k': 1, 'was_impossible': False}),\n",
       " Prediction(uid='AWSYTZ2I2MW0V', iid='B004NSULHM', r_ui=5.0, est=5, details={'actual_k': 3, 'was_impossible': False}),\n",
       " Prediction(uid='A103KNDW8GN92L', iid='B000002GQE', r_ui=5.0, est=4.522774751520648, details={'actual_k': 3, 'was_impossible': False}),\n",
       " Prediction(uid='A3RMWQY8DW5ISB', iid='B00008VOQM', r_ui=5.0, est=4.853458870730088, details={'actual_k': 3, 'was_impossible': False}),\n",
       " Prediction(uid='A68GUAHPBDUN', iid='B000084T18', r_ui=3.0, est=2.938000495497605, details={'actual_k': 3, 'was_impossible': False}),\n",
       " Prediction(uid='AXFI7TAWD6H6X', iid='B000002VN7', r_ui=5.0, est=3.85825343137125, details={'actual_k': 5, 'was_impossible': False}),\n",
       " Prediction(uid='A3O8YT41TDXL0B', iid='B003V5PPZG', r_ui=3.0, est=3.320908677680584, details={'actual_k': 3, 'was_impossible': False}),\n",
       " Prediction(uid='A2XZE1TB784HKX', iid='B000084T18', r_ui=4.0, est=4.556505477575931, details={'actual_k': 3, 'was_impossible': False}),\n",
       " Prediction(uid='AEDYFC8UGZZGR', iid='B0000028RR', r_ui=5.0, est=5, details={'actual_k': 2, 'was_impossible': False}),\n",
       " Prediction(uid='A2QMBY3CCR2B02', iid='B00064200S', r_ui=5.0, est=4.10082349237647, details={'actual_k': 2, 'was_impossible': False}),\n",
       " Prediction(uid='A9Q28YTLYREO7', iid='B0000025RI', r_ui=4.0, est=4.462355432579599, details={'actual_k': 5, 'was_impossible': False}),\n",
       " Prediction(uid='AQXBSHEPHNR6H', iid='B00005QDVS', r_ui=5.0, est=5, details={'actual_k': 2, 'was_impossible': False}),\n",
       " Prediction(uid='A2QHZPNBXICYGZ', iid='B00000163G', r_ui=5.0, est=2.337452224064651, details={'actual_k': 2, 'was_impossible': False}),\n",
       " Prediction(uid='A1YQHOKBEFHFA5', iid='B000069HKH', r_ui=3.0, est=3.0226659108378273, details={'actual_k': 4, 'was_impossible': False}),\n",
       " Prediction(uid='A265JO8DL4J4SS', iid='B000BNTM32', r_ui=4.0, est=3.6090393983006974, details={'actual_k': 2, 'was_impossible': False}),\n",
       " Prediction(uid='A39476Z41H9VK3', iid='B00005NZDW', r_ui=5.0, est=4.3, details={'actual_k': 0, 'was_impossible': False}),\n",
       " Prediction(uid='A3GD9SH111DI9A', iid='B0000029AP', r_ui=5.0, est=4.465643571695022, details={'actual_k': 2, 'was_impossible': False}),\n",
       " Prediction(uid='A6MGFSH8CX1HE', iid='B000069HKH', r_ui=5.0, est=4.80048426150121, details={'actual_k': 1, 'was_impossible': False}),\n",
       " Prediction(uid='A18IZ5QX2PRB3C', iid='B00000J7JO', r_ui=4.0, est=3.953478161830688, details={'actual_k': 5, 'was_impossible': False}),\n",
       " Prediction(uid='A3N3SN2DDD4HCJ', iid='B00008J4P5', r_ui=5.0, est=3.831000757912892, details={'actual_k': 4, 'was_impossible': False}),\n",
       " Prediction(uid='A33H4BO4S3TA4I', iid='B0009SCVTG', r_ui=2.0, est=4.177446632158491, details={'actual_k': 3, 'was_impossible': False}),\n",
       " Prediction(uid='A2R6RA8FRBS608', iid='B0000025RI', r_ui=5.0, est=5, details={'actual_k': 5, 'was_impossible': False}),\n",
       " Prediction(uid='A1EOEYW5SMC6CV', iid='B0000029AP', r_ui=4.0, est=4.168413912185496, details={'was_impossible': True, 'reason': 'User and/or item is unknown.'}),\n",
       " Prediction(uid='A201QRZNUCD6US', iid='B000059MEK', r_ui=5.0, est=4.3584905660377355, details={'actual_k': 0, 'was_impossible': False}),\n",
       " Prediction(uid='APZSWNPMVSZ84', iid='B00004YKUI', r_ui=5.0, est=4.786353924801111, details={'actual_k': 5, 'was_impossible': False}),\n",
       " Prediction(uid='A1AJR4BFQ5AW68', iid='B00000016W', r_ui=5.0, est=4.99164127605967, details={'actual_k': 2, 'was_impossible': False}),\n",
       " Prediction(uid='A3CGDFZTGL3ENL', iid='B00005QG9J', r_ui=5.0, est=4.242424242424242, details={'actual_k': 0, 'was_impossible': False}),\n",
       " Prediction(uid='A1G5LJ8T1IGYC5', iid='B00000FCBH', r_ui=5.0, est=4.72, details={'actual_k': 0, 'was_impossible': False}),\n",
       " Prediction(uid='A3W0POMI33YQXQ', iid='B000084T18', r_ui=5.0, est=3.372860340678211, details={'actual_k': 5, 'was_impossible': False}),\n",
       " Prediction(uid='A3T8G3FN3H3948', iid='B00008H2LB', r_ui=5.0, est=3.65220278039204, details={'actual_k': 2, 'was_impossible': False}),\n",
       " Prediction(uid='A10LDRKHO99AY6', iid='B00009VRDI', r_ui=4.0, est=3.990673056807493, details={'actual_k': 2, 'was_impossible': False}),\n",
       " Prediction(uid='A1L1NYH387VKGM', iid='B000001EG2', r_ui=5.0, est=4.994343891402715, details={'actual_k': 1, 'was_impossible': False}),\n",
       " Prediction(uid='A2SPI5WNZLOJ2U', iid='B00000J7JO', r_ui=5.0, est=4.254000817896964, details={'actual_k': 3, 'was_impossible': False}),\n",
       " Prediction(uid='A2I9AQ5FXY26ZX', iid='B000001Y15', r_ui=5.0, est=4.168413912185496, details={'was_impossible': True, 'reason': 'User and/or item is unknown.'}),\n",
       " Prediction(uid='ASVNSWIXBV72Q', iid='B000BM6AVA', r_ui=4.0, est=4.578288235322225, details={'actual_k': 2, 'was_impossible': False}),\n",
       " Prediction(uid='A2W0CD4OPKF4ID', iid='B0000029AN', r_ui=5.0, est=4.887546384650674, details={'actual_k': 4, 'was_impossible': False}),\n",
       " Prediction(uid='A2UPLFKG289O33', iid='B0000CD5FR', r_ui=5.0, est=4.449275362318841, details={'actual_k': 0, 'was_impossible': False}),\n",
       " Prediction(uid='A3HU0B9XUEVHIM', iid='B000002PD7', r_ui=5.0, est=5, details={'actual_k': 5, 'was_impossible': False}),\n",
       " Prediction(uid='A2J8WWG4W0OFYQ', iid='B000001FZ6', r_ui=4.0, est=4.6875, details={'actual_k': 0, 'was_impossible': False}),\n",
       " Prediction(uid='AOG4CZNBHFDRF', iid='B00005NZDW', r_ui=5.0, est=3.5871631248202864, details={'actual_k': 2, 'was_impossible': False}),\n",
       " Prediction(uid='AN092R6OZE3U0', iid='B00009V7T2', r_ui=5.0, est=5, details={'actual_k': 4, 'was_impossible': False}),\n",
       " Prediction(uid='A2AKFJOWF71WGV', iid='B0000TAZS8', r_ui=1.0, est=1.944465448522633, details={'actual_k': 5, 'was_impossible': False}),\n",
       " Prediction(uid='AQZE4MMQMDKPB', iid='B00064X2QY', r_ui=1.0, est=3.1934597831956513, details={'actual_k': 5, 'was_impossible': False}),\n",
       " Prediction(uid='A33HHL8UYCUJJY', iid='B00006ZCFJ', r_ui=1.0, est=2.2281850956774556, details={'actual_k': 3, 'was_impossible': False}),\n",
       " Prediction(uid='A44L1371VP728', iid='B000002KH3', r_ui=5.0, est=4.696174717099206, details={'actual_k': 2, 'was_impossible': False}),\n",
       " Prediction(uid='A1W6AMIGHPX3UQ', iid='B000002IRM', r_ui=4.0, est=4.046511627906977, details={'actual_k': 0, 'was_impossible': False}),\n",
       " Prediction(uid='A1QEWOSV05RYEO', iid='B000BOH8XW', r_ui=4.0, est=3.896794457003115, details={'actual_k': 5, 'was_impossible': False}),\n",
       " Prediction(uid='A30PCQSV85MSEW', iid='B0000039QA', r_ui=5.0, est=4.534246575342466, details={'actual_k': 0, 'was_impossible': False}),\n",
       " Prediction(uid='A2ULSA0IRUE09E', iid='B00004YKUI', r_ui=4.0, est=4.059458967008646, details={'actual_k': 5, 'was_impossible': False}),\n",
       " Prediction(uid='A3KEZLJ59C1JVH', iid='B0012OVF2U', r_ui=5.0, est=4.655900196520206, details={'actual_k': 2, 'was_impossible': False}),\n",
       " Prediction(uid='AWSYTZ2I2MW0V', iid='B000002IOW', r_ui=4.0, est=4.258681884574505, details={'actual_k': 5, 'was_impossible': False}),\n",
       " Prediction(uid='A3CY5UH5JR4MJT', iid='B00006ZCFI', r_ui=1.0, est=2.0623852351363006, details={'actual_k': 5, 'was_impossible': False}),\n",
       " Prediction(uid='A3SKPJ1KSDWSB3', iid='B00003NHAR', r_ui=5.0, est=3.743393949146511, details={'actual_k': 5, 'was_impossible': False}),\n",
       " Prediction(uid='AD6G5M3KL7GTB', iid='B000001DZO', r_ui=5.0, est=5, details={'actual_k': 4, 'was_impossible': False}),\n",
       " Prediction(uid='AD4CDZK7D31XP', iid='B000069HKH', r_ui=5.0, est=2.4364510789503004, details={'actual_k': 2, 'was_impossible': False}),\n",
       " Prediction(uid='AADJXNY9HSKJF', iid='B0000CC6QG', r_ui=4.0, est=4.197060296316585, details={'actual_k': 5, 'was_impossible': False}),\n",
       " Prediction(uid='A1J5KCZC8CMW9I', iid='B0000029DD', r_ui=5.0, est=4.065520104514411, details={'actual_k': 5, 'was_impossible': False}),\n",
       " Prediction(uid='A34DTBYOTFP4RX', iid='B0000026WD', r_ui=3.0, est=4.896690247184686, details={'actual_k': 3, 'was_impossible': False}),\n",
       " Prediction(uid='A3R2V9HJJ63GBT', iid='B0002PD3HU', r_ui=4.0, est=4.168413912185496, details={'was_impossible': True, 'reason': 'User and/or item is unknown.'}),\n",
       " Prediction(uid='A200C7YQJ45LRR', iid='B0007NFL18', r_ui=2.0, est=1.7261424438122321, details={'actual_k': 5, 'was_impossible': False}),\n",
       " Prediction(uid='A1ODJS01LQA9JP', iid='B0002A2WAO', r_ui=4.0, est=4.393924162810605, details={'actual_k': 4, 'was_impossible': False}),\n",
       " Prediction(uid='AMP7TQRWAIE84', iid='B0002U6GFQ', r_ui=4.0, est=3.383668381197212, details={'actual_k': 5, 'was_impossible': False}),\n",
       " Prediction(uid='A1R6DCPZV6NA13', iid='B000001A6N', r_ui=5.0, est=4.832317895191576, details={'actual_k': 5, 'was_impossible': False}),\n",
       " Prediction(uid='A2YT3QVPJL7R4G', iid='B000089RVR', r_ui=2.0, est=4.205128205128205, details={'actual_k': 0, 'was_impossible': False}),\n",
       " Prediction(uid='A169WKRX93445F', iid='B00064200S', r_ui=3.0, est=4.068965517241379, details={'actual_k': 0, 'was_impossible': False}),\n",
       " Prediction(uid='A3OUA3K55Y2BV', iid='B000H0MKGK', r_ui=5.0, est=4.729117619809564, details={'actual_k': 3, 'was_impossible': False}),\n",
       " Prediction(uid='A9E6BXLCOBL40', iid='B000EMGAOY', r_ui=5.0, est=3.9702702702702704, details={'actual_k': 1, 'was_impossible': False}),\n",
       " Prediction(uid='A38N0M7J3LQV9V', iid='B004D1GZ2E', r_ui=5.0, est=4.168413912185496, details={'was_impossible': True, 'reason': 'User and/or item is unknown.'}),\n",
       " Prediction(uid='A8KW38D8PQ2AV', iid='B0000013GT', r_ui=4.0, est=5, details={'actual_k': 1, 'was_impossible': False}),\n",
       " Prediction(uid='A3R75H3IPPC2UX', iid='B0000025RI', r_ui=5.0, est=4.691793893129771, details={'actual_k': 1, 'was_impossible': False}),\n",
       " Prediction(uid='A3OVTXEKA3M23N', iid='B0002X314C', r_ui=5.0, est=5, details={'actual_k': 2, 'was_impossible': False}),\n",
       " Prediction(uid='AX356VIHP8XLN', iid='B00064200S', r_ui=5.0, est=4.573518199065362, details={'actual_k': 3, 'was_impossible': False}),\n",
       " Prediction(uid='AGRUNN58UZPY1', iid='B0000026WD', r_ui=4.0, est=4.142894489793795, details={'actual_k': 3, 'was_impossible': False}),\n",
       " Prediction(uid='A3DQDILRL74K37', iid='B000002BE9', r_ui=5.0, est=4.982950819672132, details={'actual_k': 1, 'was_impossible': False}),\n",
       " Prediction(uid='A1BQOPKHRU5M8F', iid='B000003B6J', r_ui=5.0, est=5, details={'actual_k': 5, 'was_impossible': False}),\n",
       " Prediction(uid='AYXOKMQ8IJX7M', iid='B0002X314C', r_ui=5.0, est=3.7250849838857607, details={'actual_k': 2, 'was_impossible': False}),\n",
       " Prediction(uid='A1D2C0WDCSHUWZ', iid='B000FPYNQW', r_ui=5.0, est=4.298089107924101, details={'actual_k': 5, 'was_impossible': False}),\n",
       " Prediction(uid='A1EYSN1T55SV7U', iid='B000067CPX', r_ui=5.0, est=4.749547589662664, details={'actual_k': 3, 'was_impossible': False}),\n",
       " Prediction(uid='A2TI8XP8GY1RO1', iid='B0006ZQ9BS', r_ui=1.0, est=2.5516366948713127, details={'actual_k': 4, 'was_impossible': False}),\n",
       " Prediction(uid='A1SUP9J7BNRHGW', iid='B0000029DD', r_ui=5.0, est=4.168413912185496, details={'was_impossible': True, 'reason': 'User and/or item is unknown.'}),\n",
       " Prediction(uid='A3BTZBO1380KB1', iid='B00001QGQI', r_ui=5.0, est=4.447802197802198, details={'actual_k': 1, 'was_impossible': False}),\n",
       " Prediction(uid='A12M96JJHEOYMT', iid='B000001FZ6', r_ui=3.0, est=5, details={'actual_k': 1, 'was_impossible': False}),\n",
       " Prediction(uid='AZPWAXJG9OJXV', iid='B000002GXL', r_ui=5.0, est=5, details={'actual_k': 1, 'was_impossible': False}),\n",
       " Prediction(uid='A29HQXDK7BSX8H', iid='B0006ZQ9BS', r_ui=1.0, est=2.732178169289962, details={'actual_k': 4, 'was_impossible': False}),\n",
       " Prediction(uid='A59H9BL8L9Y4Z', iid='B003KUSUG8', r_ui=5.0, est=4.892093023255813, details={'actual_k': 1, 'was_impossible': False}),\n",
       " Prediction(uid='A1PEEKEYD1IG5F', iid='B0000DD7LC', r_ui=5.0, est=4.168413912185496, details={'was_impossible': True, 'reason': 'User and/or item is unknown.'}),\n",
       " Prediction(uid='A1PULJNO1T3YVX', iid='B00007FGLS', r_ui=3.0, est=4.038184041531665, details={'actual_k': 2, 'was_impossible': False}),\n",
       " Prediction(uid='A28HEGEYVO3PEZ', iid='B000002GQE', r_ui=5.0, est=4.645833333333333, details={'actual_k': 0, 'was_impossible': False}),\n",
       " Prediction(uid='A2BH3KB36ISD4F', iid='B00006ZCFH', r_ui=5.0, est=4.459797033567526, details={'actual_k': 1, 'was_impossible': False}),\n",
       " Prediction(uid='AO2AQRPPSTABB', iid='B000001F66', r_ui=5.0, est=4.947279975472416, details={'actual_k': 2, 'was_impossible': False}),\n",
       " Prediction(uid='A1OLTAOD2KVG4M', iid='B005QJZ5FA', r_ui=4.0, est=4.168413912185496, details={'was_impossible': True, 'reason': 'User and/or item is unknown.'}),\n",
       " Prediction(uid='A1R3J4XK8AN83V', iid='B0000039QA', r_ui=5.0, est=4.764027952025666, details={'actual_k': 2, 'was_impossible': False}),\n",
       " Prediction(uid='A33TRNCQK4IUO7', iid='B000N2G3RY', r_ui=4.0, est=4.130126820045371, details={'actual_k': 4, 'was_impossible': False}),\n",
       " Prediction(uid='A3BOUPGDLG7QPP', iid='B0000C0FKA', r_ui=4.0, est=5, details={'actual_k': 2, 'was_impossible': False}),\n",
       " Prediction(uid='A19CQRD6DIHMQL', iid='B000002WR5', r_ui=5.0, est=5, details={'actual_k': 3, 'was_impossible': False}),\n",
       " Prediction(uid='AGTC2459GU7SY', iid='B000001EGE', r_ui=5.0, est=4.33008658008658, details={'actual_k': 1, 'was_impossible': False}),\n",
       " Prediction(uid='ASOZSOUCZFT14', iid='B0000C421G', r_ui=3.0, est=4.583966260865963, details={'actual_k': 3, 'was_impossible': False}),\n",
       " Prediction(uid='A225BDR5Z17KOQ', iid='B000084T18', r_ui=5.0, est=4.190209751265616, details={'actual_k': 3, 'was_impossible': False}),\n",
       " Prediction(uid='A3NNZW2PK7V2BR', iid='B00005ICAW', r_ui=5.0, est=3.643835616438356, details={'actual_k': 0, 'was_impossible': False}),\n",
       " Prediction(uid='A1MPEG5S1DNI52', iid='B00018D5CQ', r_ui=5.0, est=3.448730796705365, details={'actual_k': 4, 'was_impossible': False}),\n",
       " Prediction(uid='AK88POC4RCEWE', iid='B004K4AUZW', r_ui=5.0, est=4.168413912185496, details={'was_impossible': True, 'reason': 'User and/or item is unknown.'}),\n",
       " Prediction(uid='A15OGDJS69EUCP', iid='B000000OUJ', r_ui=5.0, est=4.63903279299356, details={'actual_k': 2, 'was_impossible': False}),\n",
       " Prediction(uid='A8BIZG3SOG5HV', iid='B00005M987', r_ui=2.0, est=3.8421052631578947, details={'actual_k': 0, 'was_impossible': False}),\n",
       " Prediction(uid='AAM4PQ0VMEQLL', iid='B00065XJ52', r_ui=1.0, est=1, details={'actual_k': 2, 'was_impossible': False}),\n",
       " Prediction(uid='A31NSKGF3K3E52', iid='B00004T9UF', r_ui=4.0, est=5, details={'actual_k': 1, 'was_impossible': False}),\n",
       " Prediction(uid='ACU22OOTCPJDF', iid='B000002GQE', r_ui=5.0, est=5, details={'actual_k': 1, 'was_impossible': False}),\n",
       " Prediction(uid='AIW5KNFD2114D', iid='B00096S3PY', r_ui=5.0, est=4.897254160893132, details={'actual_k': 5, 'was_impossible': False}),\n",
       " Prediction(uid='A1GIIPXONCEEHP', iid='B000001F66', r_ui=4.0, est=4.103833637772803, details={'actual_k': 2, 'was_impossible': False}),\n",
       " Prediction(uid='A3VHV0NV7NKQPC', iid='B000OYC3J8', r_ui=4.0, est=4.405981730006977, details={'actual_k': 4, 'was_impossible': False}),\n",
       " Prediction(uid='A1EMDSTJDUE6B0', iid='B0000AGWEC', r_ui=5.0, est=3.3553388857735187, details={'actual_k': 2, 'was_impossible': False}),\n",
       " Prediction(uid='A38UBVJEV1LLS7', iid='B000089RVR', r_ui=5.0, est=4.835743633679516, details={'actual_k': 5, 'was_impossible': False}),\n",
       " Prediction(uid='A19YHEBK099R7U', iid='B00001QGQI', r_ui=2.0, est=2.310659532417742, details={'actual_k': 5, 'was_impossible': False}),\n",
       " Prediction(uid='A1247THN87SOGP', iid='B00192M9FC', r_ui=5.0, est=4.168413912185496, details={'was_impossible': True, 'reason': 'User and/or item is unknown.'}),\n",
       " Prediction(uid='A3RV0VQKIM2HSW', iid='B00005NHJS', r_ui=4.0, est=3.975060586199464, details={'actual_k': 5, 'was_impossible': False}),\n",
       " Prediction(uid='A1HFVQZIDK7UUD', iid='B000003AEK', r_ui=5.0, est=4.585748118272452, details={'actual_k': 5, 'was_impossible': False}),\n",
       " Prediction(uid='A2QMBY3CCR2B02', iid='B0002A2WAO', r_ui=2.0, est=2.5717387544301857, details={'actual_k': 5, 'was_impossible': False}),\n",
       " Prediction(uid='A2X1KFF723P5EW', iid='B00004X0Q0', r_ui=5.0, est=4.619298056132475, details={'actual_k': 3, 'was_impossible': False}),\n",
       " Prediction(uid='A1GN8UJIZLCA59', iid='B000001EGC', r_ui=5.0, est=4.658490250735116, details={'actual_k': 5, 'was_impossible': False}),\n",
       " Prediction(uid='A29TNAVMPYFRDF', iid='B0000013GH', r_ui=3.0, est=3.1130286868079753, details={'actual_k': 4, 'was_impossible': False}),\n",
       " Prediction(uid='A34ZAYTNP67S83', iid='B000002NJS', r_ui=4.0, est=2.948163221763549, details={'actual_k': 3, 'was_impossible': False}),\n",
       " Prediction(uid='AWQO371QER642', iid='B000002LQR', r_ui=4.0, est=5, details={'actual_k': 1, 'was_impossible': False}),\n",
       " Prediction(uid='AOUKQVZ8O8YTQ', iid='B000050HS9', r_ui=4.0, est=4.531406834694984, details={'actual_k': 5, 'was_impossible': False}),\n",
       " Prediction(uid='AUH5O462EVSM1', iid='B00005O6IR', r_ui=5.0, est=4.395791531507973, details={'actual_k': 2, 'was_impossible': False}),\n",
       " Prediction(uid='A2TDK8D4HEMUYW', iid='B00006L7XQ', r_ui=5.0, est=4.810344827586207, details={'actual_k': 0, 'was_impossible': False}),\n",
       " Prediction(uid='A36RS7KTNOBROF', iid='B000002NJS', r_ui=5.0, est=5, details={'actual_k': 4, 'was_impossible': False}),\n",
       " Prediction(uid='A22HN0VTP9TCLJ', iid='B00003NHAR', r_ui=4.0, est=3.26313106688956, details={'actual_k': 2, 'was_impossible': False}),\n",
       " Prediction(uid='A1EUYZPLFU211D', iid='B0000025BA', r_ui=5.0, est=4.168413912185496, details={'was_impossible': True, 'reason': 'User and/or item is unknown.'}),\n",
       " Prediction(uid='A1RD2PFXDLXA2S', iid='B0007NFL18', r_ui=5.0, est=3.5535112092222407, details={'actual_k': 5, 'was_impossible': False}),\n",
       " Prediction(uid='A25I6X7JUC2JXB', iid='B000N2G3RY', r_ui=5.0, est=5, details={'actual_k': 1, 'was_impossible': False}),\n",
       " Prediction(uid='A25GQD0VCUU16V', iid='B00065BYAY', r_ui=4.0, est=3.5958520179372195, details={'actual_k': 1, 'was_impossible': False}),\n",
       " Prediction(uid='A1VWRH8ALP6VF2', iid='B00005ICAW', r_ui=2.0, est=3.9261885576148265, details={'actual_k': 1, 'was_impossible': False}),\n",
       " Prediction(uid='A26TWY9AD935HC', iid='B0000AGWFX', r_ui=4.0, est=4.25639039170589, details={'actual_k': 2, 'was_impossible': False}),\n",
       " Prediction(uid='A3BNGG8LDBJZBC', iid='B0000025RI', r_ui=5.0, est=5, details={'actual_k': 2, 'was_impossible': False}),\n",
       " Prediction(uid='A1S5FZ2DIVVQOT', iid='B00006L7XQ', r_ui=5.0, est=5, details={'actual_k': 1, 'was_impossible': False}),\n",
       " Prediction(uid='A97B72F4UI8FA', iid='B0000029DD', r_ui=5.0, est=4.383370609212043, details={'actual_k': 5, 'was_impossible': False}),\n",
       " Prediction(uid='A3L54KTGHUC1MJ', iid='B0002IQHBQ', r_ui=3.0, est=3.1250386016982032, details={'actual_k': 2, 'was_impossible': False}),\n",
       " Prediction(uid='A1H9SWNKX6N260', iid='B00004XOWM', r_ui=5.0, est=2.369565217391304, details={'actual_k': 0, 'was_impossible': False}),\n",
       " Prediction(uid='A2WETFLJM0D6R0', iid='B000002C2E', r_ui=5.0, est=4.620257561830443, details={'actual_k': 3, 'was_impossible': False}),\n",
       " Prediction(uid='A3GHQ2D2Q1DGQC', iid='B00000016W', r_ui=5.0, est=5, details={'actual_k': 2, 'was_impossible': False}),\n",
       " Prediction(uid='A13EHGWL2EFJOD', iid='B0002PD3HU', r_ui=4.0, est=4.621521335807051, details={'actual_k': 1, 'was_impossible': False}),\n",
       " Prediction(uid='A12WON27MLDXNI', iid='B00006ZCFI', r_ui=5.0, est=3.8897243107769426, details={'actual_k': 1, 'was_impossible': False}),\n",
       " Prediction(uid='A3TTC70GZ9SH3S', iid='B000002MUW', r_ui=2.0, est=3.2314086485510862, details={'actual_k': 2, 'was_impossible': False}),\n",
       " Prediction(uid='A3KKPVZ2EQQLAB', iid='B0000AGWFX', r_ui=2.0, est=4.779127693192022, details={'actual_k': 3, 'was_impossible': False}),\n",
       " Prediction(uid='A3GSJO0R2RSU3Z', iid='B0009VJWQS', r_ui=2.0, est=3.676878764074365, details={'actual_k': 1, 'was_impossible': False}),\n",
       " Prediction(uid='A12CC4FTM92QQY', iid='B00005AKBN', r_ui=5.0, est=5, details={'actual_k': 1, 'was_impossible': False}),\n",
       " Prediction(uid='A3ICDLUQ3V2QY2', iid='B00000064G', r_ui=5.0, est=4.168413912185496, details={'was_impossible': True, 'reason': 'User and/or item is unknown.'}),\n",
       " Prediction(uid='A3ASUTW2OG0P6K', iid='B000003AEK', r_ui=5.0, est=5, details={'actual_k': 1, 'was_impossible': False}),\n",
       " Prediction(uid='A2FVL5781WZDOE', iid='B00000253N', r_ui=5.0, est=4.674418604651163, details={'actual_k': 0, 'was_impossible': False}),\n",
       " Prediction(uid='A38NQGQW63IQJJ', iid='B000002J2S', r_ui=5.0, est=4.168413912185496, details={'was_impossible': True, 'reason': 'User and/or item is unknown.'}),\n",
       " Prediction(uid='A200C7YQJ45LRR', iid='B00005QG9J', r_ui=4.0, est=3.168753048051075, details={'actual_k': 5, 'was_impossible': False}),\n",
       " Prediction(uid='A37Y9UJBF3C32C', iid='B000002IT2', r_ui=4.0, est=3.081324544537382, details={'actual_k': 4, 'was_impossible': False}),\n",
       " Prediction(uid='A2C7BOQVFH1HLE', iid='B000002L7G', r_ui=5.0, est=4.200990512996953, details={'actual_k': 5, 'was_impossible': False}),\n",
       " Prediction(uid='A37OYVXR88JWQH', iid='B00000269M', r_ui=5.0, est=4.5476190476190474, details={'actual_k': 0, 'was_impossible': False}),\n",
       " Prediction(uid='A1WQNQAK4XJZL4', iid='B000006045', r_ui=4.0, est=4.168413912185496, details={'was_impossible': True, 'reason': 'User and/or item is unknown.'}),\n",
       " Prediction(uid='A3SMV35531YME', iid='B000002GWZ', r_ui=4.0, est=4.168413912185496, details={'was_impossible': True, 'reason': 'User and/or item is unknown.'}),\n",
       " Prediction(uid='A1ILBKPRXHOO8P', iid='B000069HKH', r_ui=5.0, est=4.168413912185496, details={'was_impossible': True, 'reason': 'User and/or item is unknown.'}),\n",
       " Prediction(uid='A4OSXRZR2BMX8', iid='B000AU1NZQ', r_ui=4.0, est=4.172907810491457, details={'actual_k': 3, 'was_impossible': False}),\n",
       " Prediction(uid='AKS4FTO63XVSC', iid='B0002A2WAO', r_ui=5.0, est=5, details={'actual_k': 4, 'was_impossible': False}),\n",
       " Prediction(uid='A2NLP8TW1TCKN3', iid='B000023VR6', r_ui=5.0, est=4.695466778093688, details={'actual_k': 5, 'was_impossible': False}),\n",
       " Prediction(uid='A111K82VQPY91M', iid='B0001XANAS', r_ui=5.0, est=5, details={'actual_k': 1, 'was_impossible': False}),\n",
       " Prediction(uid='A2T90CCCPWJN6R', iid='B000067CPX', r_ui=5.0, est=3.903275035112703, details={'actual_k': 3, 'was_impossible': False}),\n",
       " Prediction(uid='A2UETHZQD3QWKY', iid='B000BOH8XW', r_ui=5.0, est=5, details={'actual_k': 1, 'was_impossible': False}),\n",
       " Prediction(uid='A3VXBO4QQX3ZG8', iid='B003V5PPZG', r_ui=5.0, est=4.287273206264032, details={'actual_k': 2, 'was_impossible': False}),\n",
       " Prediction(uid='AZ39SOZT3NZQU', iid='B0000028RR', r_ui=5.0, est=4.48, details={'actual_k': 0, 'was_impossible': False}),\n",
       " Prediction(uid='A1SJ1GPWF60GU0', iid='B000197KVW', r_ui=3.0, est=3.4766622148891164, details={'actual_k': 4, 'was_impossible': False}),\n",
       " Prediction(uid='A1P4J7OWPC305Z', iid='B0000039Q3', r_ui=5.0, est=5, details={'actual_k': 2, 'was_impossible': False}),\n",
       " Prediction(uid='A1VWOF8RRU5QAA', iid='B00003NHAR', r_ui=4.0, est=4.12526381605073, details={'actual_k': 5, 'was_impossible': False}),\n",
       " Prediction(uid='ASSCA9IS0GWF5', iid='B00000253N', r_ui=5.0, est=4.395890732097295, details={'actual_k': 5, 'was_impossible': False}),\n",
       " Prediction(uid='A329U9CDUPKXAC', iid='B0000AGWEC', r_ui=5.0, est=3.04693746334155, details={'actual_k': 2, 'was_impossible': False}),\n",
       " Prediction(uid='A2UXKWVHJ0JSHN', iid='B000AA303Y', r_ui=5.0, est=3.4115680452852795, details={'actual_k': 5, 'was_impossible': False}),\n",
       " Prediction(uid='AMP7TQRWAIE84', iid='B000AOENCM', r_ui=4.0, est=3.659513892510476, details={'actual_k': 5, 'was_impossible': False}),\n",
       " Prediction(uid='A1OBVBZ7BG6AS7', iid='B00064200S', r_ui=4.0, est=4.068965517241379, details={'actual_k': 0, 'was_impossible': False}),\n",
       " Prediction(uid='A5KJVGJ43ZDC9', iid='B000002AP1', r_ui=5.0, est=3.6817413748893535, details={'actual_k': 2, 'was_impossible': False}),\n",
       " Prediction(uid='A1AMVA4R3G58TV', iid='B0000C6E4D', r_ui=4.0, est=4.602433053240381, details={'actual_k': 4, 'was_impossible': False}),\n",
       " Prediction(uid='A13BP4NJEBZGEY', iid='B000000TDH', r_ui=5.0, est=5, details={'actual_k': 1, 'was_impossible': False}),\n",
       " Prediction(uid='AVTZOXU568VNT', iid='B000002OVJ', r_ui=5.0, est=4.372412132883967, details={'actual_k': 1, 'was_impossible': False}),\n",
       " Prediction(uid='A36ONZ3LB9V7FO', iid='B00000064G', r_ui=5.0, est=5, details={'actual_k': 2, 'was_impossible': False}),\n",
       " Prediction(uid='A35XFZN4MWNKK4', iid='B000002NJS', r_ui=5.0, est=4.9080356079251715, details={'actual_k': 3, 'was_impossible': False}),\n",
       " Prediction(uid='AC51D84J636F', iid='B000003C3V', r_ui=5.0, est=4.168413912185496, details={'was_impossible': True, 'reason': 'User and/or item is unknown.'}),\n",
       " Prediction(uid='A31IHSADIIBY1T', iid='B00006M183', r_ui=5.0, est=4.681186727269777, details={'actual_k': 2, 'was_impossible': False}),\n",
       " Prediction(uid='A30RS83H5PAPP9', iid='B00006690F', r_ui=5.0, est=5, details={'actual_k': 5, 'was_impossible': False}),\n",
       " Prediction(uid='A3VSX2TJM78WMT', iid='B00005S7UE', r_ui=5.0, est=4.4, details={'actual_k': 0, 'was_impossible': False}),\n",
       " Prediction(uid='AWRGM17GTMND8', iid='B00006690F', r_ui=4.0, est=5, details={'actual_k': 2, 'was_impossible': False}),\n",
       " Prediction(uid='A1SNKXK0IGFS9E', iid='B004K4AUZW', r_ui=5.0, est=3.9411764705882355, details={'actual_k': 0, 'was_impossible': False}),\n",
       " Prediction(uid='A1Q1FK7FKS40WU', iid='B0002PD3HU', r_ui=4.0, est=3.229946892418083, details={'actual_k': 2, 'was_impossible': False}),\n",
       " Prediction(uid='A19YHEBK099R7U', iid='B000OYC3J8', r_ui=5.0, est=3.24530999802013, details={'actual_k': 5, 'was_impossible': False}),\n",
       " Prediction(uid='AVN00ASBFTMN6', iid='B000002P5W', r_ui=5.0, est=4.873015873015873, details={'actual_k': 0, 'was_impossible': False}),\n",
       " Prediction(uid='A32ABOAE37PVGI', iid='B000002KHB', r_ui=4.0, est=4.626666666666667, details={'actual_k': 0, 'was_impossible': False}),\n",
       " Prediction(uid='AA83QXB39NF8B', iid='B004D1GZ2E', r_ui=5.0, est=4.899560117302053, details={'actual_k': 1, 'was_impossible': False}),\n",
       " Prediction(uid='A2ULSA0IRUE09E', iid='B000H0MKGK', r_ui=1.0, est=3.0319948617674433, details={'actual_k': 5, 'was_impossible': False}),\n",
       " Prediction(uid='A1YQ6QB2127AJ4', iid='B00005YW4H', r_ui=5.0, est=4.991174851971729, details={'actual_k': 5, 'was_impossible': False}),\n",
       " Prediction(uid='A1BVCH82W0M2W2', iid='B00000D9TQ', r_ui=4.0, est=4.287878787878788, details={'actual_k': 0, 'was_impossible': False}),\n",
       " Prediction(uid='A2RXC61UJQQSWZ', iid='B0000AGWFA', r_ui=3.0, est=3.852380952380953, details={'actual_k': 1, 'was_impossible': False}),\n",
       " Prediction(uid='A3ANEC5F6DK16S', iid='B0000C6E4D', r_ui=4.0, est=4.168413912185496, details={'was_impossible': True, 'reason': 'User and/or item is unknown.'}),\n",
       " Prediction(uid='A3KJ6JAZPH382D', iid='B000002GWZ', r_ui=3.0, est=3.975382193122259, details={'actual_k': 5, 'was_impossible': False}),\n",
       " Prediction(uid='AGQEUU21DLZBH', iid='B0007TX894', r_ui=5.0, est=5, details={'actual_k': 1, 'was_impossible': False}),\n",
       " Prediction(uid='A3HU0B9XUEVHIM', iid='B00000ADG2', r_ui=5.0, est=4.934632589645751, details={'actual_k': 5, 'was_impossible': False}),\n",
       " Prediction(uid='A2XH04EO8WUYWM', iid='B00003IE26', r_ui=5.0, est=4.620880855222622, details={'actual_k': 5, 'was_impossible': False}),\n",
       " Prediction(uid='A3HTPZWRCB3OI1', iid='B00006690F', r_ui=2.0, est=3.06243709240474, details={'actual_k': 5, 'was_impossible': False}),\n",
       " Prediction(uid='A23IOPI0D1OG7V', iid='B000002NJS', r_ui=5.0, est=4.006038392777258, details={'actual_k': 5, 'was_impossible': False}),\n",
       " Prediction(uid='A1VFBYDCGS4OFK', iid='B000002L7G', r_ui=4.0, est=4.168413912185496, details={'was_impossible': True, 'reason': 'User and/or item is unknown.'}),\n",
       " Prediction(uid='A3A9HRF6U850GL', iid='B0000C421G', r_ui=4.0, est=4.52906949750635, details={'actual_k': 3, 'was_impossible': False}),\n",
       " Prediction(uid='A1FHZZ28OHTGR9', iid='B00006L7XQ', r_ui=5.0, est=5, details={'actual_k': 1, 'was_impossible': False}),\n",
       " Prediction(uid='ATSULHQXHRGOV', iid='B00004UARR', r_ui=5.0, est=4.023611111111111, details={'actual_k': 1, 'was_impossible': False}),\n",
       " Prediction(uid='A20MFNB26O1T24', iid='B000021YQV', r_ui=5.0, est=5, details={'actual_k': 2, 'was_impossible': False}),\n",
       " Prediction(uid='AAVT5R0F3J9XG', iid='B0006ZQ9BS', r_ui=4.0, est=3.272801292305184, details={'actual_k': 2, 'was_impossible': False}),\n",
       " Prediction(uid='A1Z4C6XDXIZPZV', iid='B00002MZ4W', r_ui=5.0, est=4.792657032410925, details={'actual_k': 4, 'was_impossible': False}),\n",
       " Prediction(uid='A34JA73FX0Q7N5', iid='B00027JYOE', r_ui=4.0, est=4.2984000518418375, details={'actual_k': 3, 'was_impossible': False}),\n",
       " Prediction(uid='A1UH3S1GVFSMFH', iid='B00004Z41Q', r_ui=4.0, est=4.344460696991051, details={'actual_k': 5, 'was_impossible': False}),\n",
       " Prediction(uid='A33TRNCQK4IUO7', iid='B000197KVW', r_ui=4.0, est=3.5446587276205683, details={'actual_k': 4, 'was_impossible': False}),\n",
       " Prediction(uid='AGAMDS21PJZPK', iid='B000E0OEQC', r_ui=5.0, est=4.936568970290559, details={'actual_k': 5, 'was_impossible': False}),\n",
       " Prediction(uid='A3MISB22HHN0D2', iid='B000031XCY', r_ui=5.0, est=1.5816956503463195, details={'actual_k': 5, 'was_impossible': False}),\n",
       " Prediction(uid='A25NMMI7AH30W2', iid='B00018D44U', r_ui=5.0, est=4.484968747766406, details={'actual_k': 2, 'was_impossible': False}),\n",
       " Prediction(uid='A12OSNCDUGRZMQ', iid='B00004X0Q0', r_ui=5.0, est=1.048726467331119, details={'actual_k': 1, 'was_impossible': False}),\n",
       " Prediction(uid='A24N1BAS3CU27H', iid='B0002U6GFQ', r_ui=5.0, est=4.522791787594129, details={'actual_k': 5, 'was_impossible': False}),\n",
       " Prediction(uid='APOGXH3A74CM3', iid='B000001EGC', r_ui=4.0, est=4.721130882108623, details={'actual_k': 2, 'was_impossible': False}),\n",
       " Prediction(uid='A3HTX1NOTTWERP', iid='B00000IAU3', r_ui=5.0, est=4.870208535348537, details={'actual_k': 5, 'was_impossible': False}),\n",
       " Prediction(uid='A2NG313A8LTHS9', iid='B000E0OEQC', r_ui=1.0, est=1.397619047619047, details={'actual_k': 1, 'was_impossible': False}),\n",
       " Prediction(uid='A2FHTYO7IVH8C6', iid='B0000025F7', r_ui=5.0, est=4.168413912185496, details={'was_impossible': True, 'reason': 'User and/or item is unknown.'}),\n",
       " Prediction(uid='A1RJJ56MBJMX87', iid='B000002KHB', r_ui=5.0, est=3.8031382783111196, details={'actual_k': 2, 'was_impossible': False}),\n",
       " Prediction(uid='A2HRVVDJMY5M4Z', iid='B00009VRDI', r_ui=5.0, est=2.7580645161290325, details={'actual_k': 0, 'was_impossible': False}),\n",
       " Prediction(uid='A1OBVBZ7BG6AS7', iid='B0002A2WAO', r_ui=4.0, est=4.001983875070439, details={'actual_k': 2, 'was_impossible': False}),\n",
       " Prediction(uid='A3PGGPL7FM9F81', iid='B000002GWZ', r_ui=3.0, est=4.045133957060305, details={'actual_k': 5, 'was_impossible': False}),\n",
       " Prediction(uid='A2UR38SZPVA07I', iid='B0000029AP', r_ui=5.0, est=4.799497002255051, details={'actual_k': 5, 'was_impossible': False}),\n",
       " Prediction(uid='AADJXNY9HSKJF', iid='B000000TDH', r_ui=5.0, est=4.4910772415981715, details={'actual_k': 5, 'was_impossible': False}),\n",
       " Prediction(uid='AE9GUE3HHOX3U', iid='B000FII324', r_ui=5.0, est=4.405392548908343, details={'actual_k': 5, 'was_impossible': False}),\n",
       " Prediction(uid='A32JKNQ6BABMQ2', iid='B000002OPL', r_ui=5.0, est=4.059452363090772, details={'actual_k': 1, 'was_impossible': False}),\n",
       " Prediction(uid='A3RPXKTIUWREKD', iid='B0009VJWQS', r_ui=1.0, est=4.047944185323104, details={'actual_k': 4, 'was_impossible': False}),\n",
       " Prediction(uid='A2LTTAVX8XIGCQ', iid='B000001EW3', r_ui=2.0, est=4.145161290322581, details={'actual_k': 0, 'was_impossible': False}),\n",
       " Prediction(uid='A1SLDAO1VC9UTU', iid='B00000163G', r_ui=1.0, est=1.0148484848484847, details={'actual_k': 1, 'was_impossible': False}),\n",
       " Prediction(uid='A34Y1FT0MTD7C9', iid='B00000016W', r_ui=3.0, est=5, details={'actual_k': 5, 'was_impossible': False}),\n",
       " Prediction(uid='A2WGCHELE4HFCA', iid='B0000646TK', r_ui=4.0, est=4.29654401268237, details={'actual_k': 5, 'was_impossible': False}),\n",
       " Prediction(uid='A1PN2U0AWXGVML', iid='B000002MUW', r_ui=2.0, est=3.9526108899801793, details={'actual_k': 2, 'was_impossible': False}),\n",
       " Prediction(uid='A12224Y2TZG4BY', iid='B00005YW4H', r_ui=5.0, est=3.980392156862745, details={'actual_k': 0, 'was_impossible': False}),\n",
       " Prediction(uid='A1OC3D2LGBFDJ4', iid='B0000DD7LC', r_ui=5.0, est=4.475117385488943, details={'actual_k': 5, 'was_impossible': False}),\n",
       " Prediction(uid='AK1IRCJ6VRS8P', iid='B0000DD7LC', r_ui=5.0, est=4.017045454545454, details={'actual_k': 1, 'was_impossible': False}),\n",
       " Prediction(uid='A1YQ6QB2127AJ4', iid='B0000646TK', r_ui=4.0, est=4.587510969880054, details={'actual_k': 5, 'was_impossible': False}),\n",
       " Prediction(uid='AR65QBP053S9L', iid='B0007TX894', r_ui=5.0, est=5, details={'actual_k': 1, 'was_impossible': False}),\n",
       " Prediction(uid='A152HV6669BVV6', iid='B00000J7JO', r_ui=4.0, est=4.325581395348837, details={'actual_k': 0, 'was_impossible': False}),\n",
       " Prediction(uid='A2PY7334HX7RJV', iid='B0012OVF2U', r_ui=5.0, est=4.027027027027027, details={'actual_k': 0, 'was_impossible': False}),\n",
       " Prediction(uid='A2X0B2YJ50W7HU', iid='B0000AGWFX', r_ui=4.0, est=4.403143935966147, details={'actual_k': 5, 'was_impossible': False}),\n",
       " Prediction(uid='A2MMIZ653FBNPT', iid='B00005AAFJ', r_ui=2.0, est=3.82183908045977, details={'actual_k': 1, 'was_impossible': False}),\n",
       " Prediction(uid='A12ZF9TZLGYG8X', iid='B00005O54Q', r_ui=5.0, est=4.443609022556391, details={'actual_k': 0, 'was_impossible': False}),\n",
       " Prediction(uid='A2WV1BVPR5YKFZ', iid='B000002KHB', r_ui=5.0, est=4.939166666666667, details={'actual_k': 1, 'was_impossible': False}),\n",
       " Prediction(uid='AJI80WO9V8V6S', iid='B0000025RI', r_ui=5.0, est=5, details={'actual_k': 1, 'was_impossible': False}),\n",
       " Prediction(uid='A1QXDGCVJACNTD', iid='B00005K9KP', r_ui=4.0, est=4.275755647176663, details={'actual_k': 4, 'was_impossible': False}),\n",
       " Prediction(uid='AMP7TQRWAIE84', iid='B000E0OEQC', r_ui=5.0, est=4.144452051915412, details={'actual_k': 5, 'was_impossible': False}),\n",
       " Prediction(uid='A7JRDNX3WOMTR', iid='B000069HKH', r_ui=5.0, est=4.104853256357112, details={'actual_k': 5, 'was_impossible': False}),\n",
       " Prediction(uid='A1Z6ZC5YJ52AF9', iid='B00008J4P5', r_ui=2.0, est=4.177083333333333, details={'actual_k': 0, 'was_impossible': False}),\n",
       " Prediction(uid='AGEJE3WH26UBR', iid='B000001FZ6', r_ui=1.0, est=4.168413912185496, details={'was_impossible': True, 'reason': 'User and/or item is unknown.'}),\n",
       " Prediction(uid='A14TAVG028YD6M', iid='B000002NJS', r_ui=5.0, est=4.275551413482448, details={'actual_k': 1, 'was_impossible': False}),\n",
       " Prediction(uid='A1Q7329LOIJG6M', iid='B000002KNO', r_ui=3.0, est=3.3170863041544645, details={'actual_k': 2, 'was_impossible': False}),\n",
       " Prediction(uid='AMGGZCWY3VNZC', iid='B00006IU73', r_ui=4.0, est=4.168413912185496, details={'was_impossible': True, 'reason': 'User and/or item is unknown.'}),\n",
       " Prediction(uid='AJWIIPPWXH4U3', iid='B000002KH3', r_ui=5.0, est=4.825242718446602, details={'actual_k': 0, 'was_impossible': False}),\n",
       " Prediction(uid='A59H9BL8L9Y4Z', iid='B000002UCL', r_ui=5.0, est=4.6459712357193865, details={'actual_k': 2, 'was_impossible': False}),\n",
       " Prediction(uid='A5WDJI6VT51TK', iid='B000002JAI', r_ui=2.0, est=2.0209598299546663, details={'actual_k': 2, 'was_impossible': False}),\n",
       " Prediction(uid='A3DWUM6SN3N3NR', iid='B00004Z41Q', r_ui=5.0, est=3.4761278260304103, details={'actual_k': 3, 'was_impossible': False}),\n",
       " Prediction(uid='A15Z2947ZA5TJF', iid='B003V5PPZG', r_ui=1.0, est=1, details={'actual_k': 1, 'was_impossible': False}),\n",
       " Prediction(uid='A1V06100S71YU8', iid='B000084T18', r_ui=5.0, est=4.14781950636714, details={'actual_k': 2, 'was_impossible': False}),\n",
       " Prediction(uid='A13FBTZ8SO8T3D', iid='B00006IU73', r_ui=5.0, est=4.9639376218323585, details={'actual_k': 1, 'was_impossible': False}),\n",
       " Prediction(uid='A2XLYYVLHE3LKW', iid='B0009SCVTG', r_ui=3.0, est=2.8465471835474685, details={'actual_k': 2, 'was_impossible': False}),\n",
       " Prediction(uid='A3R8PXSFGY9MC2', iid='B00000DGUG', r_ui=3.0, est=4.155383995067336, details={'actual_k': 2, 'was_impossible': False}),\n",
       " Prediction(uid='A39RJX5CACOOIY', iid='B00000J7JO', r_ui=4.0, est=5, details={'actual_k': 1, 'was_impossible': False}),\n",
       " Prediction(uid='A26R1W3MKYULOX', iid='B000002UCL', r_ui=5.0, est=4.717613927291347, details={'actual_k': 1, 'was_impossible': False}),\n",
       " Prediction(uid='A12W8NRSYR593I', iid='B000001A5X', r_ui=5.0, est=4.797752808988764, details={'actual_k': 0, 'was_impossible': False}),\n",
       " Prediction(uid='A26E0QSGICNIK8', iid='B0000029DD', r_ui=5.0, est=3.565177639766558, details={'actual_k': 2, 'was_impossible': False}),\n",
       " Prediction(uid='A467QR5AKOIW3', iid='B00008H2LB', r_ui=4.0, est=3.750588235294118, details={'actual_k': 1, 'was_impossible': False}),\n",
       " Prediction(uid='AB2AQMK9PCWWX', iid='B00000DFRS', r_ui=5.0, est=3.9070999852017043, details={'actual_k': 5, 'was_impossible': False}),\n",
       " Prediction(uid='A1ZFWU0DQCPKIJ', iid='B0000029AN', r_ui=3.0, est=3.141543382646941, details={'actual_k': 1, 'was_impossible': False}),\n",
       " Prediction(uid='A3DWUM6SN3N3NR', iid='B0000AGWFX', r_ui=5.0, est=4.51821376742057, details={'actual_k': 5, 'was_impossible': False}),\n",
       " Prediction(uid='A2DOC3GGT230O6', iid='B000001F66', r_ui=4.0, est=4.589743589743589, details={'actual_k': 0, 'was_impossible': False}),\n",
       " Prediction(uid='A3NLQ41U1Z5IQ2', iid='B00016XMOE', r_ui=4.0, est=4.224129540799914, details={'actual_k': 3, 'was_impossible': False}),\n",
       " Prediction(uid='A3CRB8AHFDKWP4', iid='B0000TAZS8', r_ui=4.0, est=3.6522688354703527, details={'actual_k': 4, 'was_impossible': False}),\n",
       " Prediction(uid='A8M4WE1MT4R4O', iid='B00004R7SN', r_ui=4.0, est=2.8091356038813333, details={'actual_k': 3, 'was_impossible': False}),\n",
       " Prediction(uid='A30JGXL2O6C64S', iid='B00006690F', r_ui=4.0, est=3.321584202388538, details={'actual_k': 3, 'was_impossible': False}),\n",
       " Prediction(uid='A39KOJG83K8F1U', iid='B000002KNO', r_ui=5.0, est=3.5833333333333335, details={'actual_k': 0, 'was_impossible': False}),\n",
       " Prediction(uid='A1YQ6QB2127AJ4', iid='B00005QDVS', r_ui=5.0, est=5, details={'actual_k': 5, 'was_impossible': False}),\n",
       " Prediction(uid='A2ID4IRSPV8ONE', iid='B00008OWZE', r_ui=1.0, est=2.1223228021648204, details={'actual_k': 2, 'was_impossible': False}),\n",
       " Prediction(uid='A4PPZNQF1X2IY', iid='B00000253N', r_ui=5.0, est=4.674418604651163, details={'actual_k': 0, 'was_impossible': False}),\n",
       " Prediction(uid='A3K6ZF5EEO9QCD', iid='B00006ZCFI', r_ui=2.0, est=3.765072358708213, details={'actual_k': 2, 'was_impossible': False}),\n",
       " Prediction(uid='ABS3C0BMVW7RK', iid='B000197KVW', r_ui=5.0, est=1.8022334340976767, details={'actual_k': 3, 'was_impossible': False}),\n",
       " Prediction(uid='A14NPAF8OQOSSL', iid='B00065XJ52', r_ui=2.0, est=2.0182051711621156, details={'actual_k': 1, 'was_impossible': False}),\n",
       " Prediction(uid='A3G08SM0NRGQ8I', iid='B0000029AN', r_ui=3.0, est=5, details={'actual_k': 2, 'was_impossible': False}),\n",
       " Prediction(uid='A97B72F4UI8FA', iid='B00008VOQM', r_ui=4.0, est=4.095619324502757, details={'actual_k': 5, 'was_impossible': False}),\n",
       " Prediction(uid='A1BJJVV2B5VLUQ', iid='B000002KNO', r_ui=3.0, est=3.8834256742327335, details={'actual_k': 5, 'was_impossible': False}),\n",
       " Prediction(uid='A3UI85DYGMDA15', iid='B000002C2E', r_ui=5.0, est=4.604304782227644, details={'actual_k': 2, 'was_impossible': False}),\n",
       " Prediction(uid='A59H9BL8L9Y4Z', iid='B0002X314C', r_ui=5.0, est=4.2718537301481385, details={'actual_k': 1, 'was_impossible': False}),\n",
       " Prediction(uid='AA83QXB39NF8B', iid='B000001EG2', r_ui=5.0, est=4.538461538461538, details={'actual_k': 0, 'was_impossible': False}),\n",
       " Prediction(uid='A1GN8UJIZLCA59', iid='B00000016W', r_ui=5.0, est=5, details={'actual_k': 5, 'was_impossible': False}),\n",
       " Prediction(uid='A1BJJVV2B5VLUQ', iid='B00000272N', r_ui=4.0, est=5, details={'actual_k': 5, 'was_impossible': False}),\n",
       " Prediction(uid='A7JRDNX3WOMTR', iid='B000002OPL', r_ui=5.0, est=4.012532352887924, details={'actual_k': 5, 'was_impossible': False}),\n",
       " Prediction(uid='A2CHV3M1UR42KJ', iid='B00007KK7V', r_ui=4.0, est=4.107070707070706, details={'actual_k': 1, 'was_impossible': False}),\n",
       " Prediction(uid='A1OI92E32SOMBJ', iid='B003KUSUG8', r_ui=5.0, est=4.9819604498773575, details={'actual_k': 2, 'was_impossible': False}),\n",
       " Prediction(uid='A2RQQPP34JDWPR', iid='B0009G3BWE', r_ui=3.0, est=1.264475211887853, details={'actual_k': 3, 'was_impossible': False}),\n",
       " Prediction(uid='A1N7CICSBMIQXK', iid='B0009SCVTG', r_ui=4.0, est=4.737235030886697, details={'actual_k': 3, 'was_impossible': False}),\n",
       " Prediction(uid='A22VNXHU6IZ5MT', iid='B000002OPL', r_ui=5.0, est=5, details={'actual_k': 4, 'was_impossible': False}),\n",
       " Prediction(uid='A6P1YY7PJVO3K', iid='B000002OPL', r_ui=5.0, est=4.758490014041596, details={'actual_k': 2, 'was_impossible': False}),\n",
       " Prediction(uid='A2PV6GK1HV54Y9', iid='B00002MZ4W', r_ui=3.0, est=4.203369446384527, details={'actual_k': 5, 'was_impossible': False}),\n",
       " Prediction(uid='A2CEIVPX763WBQ', iid='B000UMQDHC', r_ui=5.0, est=4.694914944199278, details={'actual_k': 2, 'was_impossible': False}),\n",
       " Prediction(uid='A21HJFSY4LT8KP', iid='B00018D44U', r_ui=4.0, est=4.832760648612618, details={'actual_k': 3, 'was_impossible': False}),\n",
       " Prediction(uid='A2E5SIA2VXQ9TU', iid='B00000DGUG', r_ui=5.0, est=4.852703298311974, details={'actual_k': 2, 'was_impossible': False}),\n",
       " Prediction(uid='AQZE4MMQMDKPB', iid='B0009SCVTG', r_ui=4.0, est=2.4596911079183976, details={'actual_k': 5, 'was_impossible': False}),\n",
       " Prediction(uid='A1RDO6YKNX3RB8', iid='B000N2G3RY', r_ui=5.0, est=4.316831683168317, details={'actual_k': 0, 'was_impossible': False}),\n",
       " Prediction(uid='A37JDICAXMZ2AZ', iid='B0002U6GFQ', r_ui=4.0, est=4.307823451026341, details={'actual_k': 2, 'was_impossible': False}),\n",
       " Prediction(uid='A2JV4Z6US6BA4O', iid='B00008J4P5', r_ui=5.0, est=4.168413912185496, details={'was_impossible': True, 'reason': 'User and/or item is unknown.'}),\n",
       " Prediction(uid='A2KF6R00AI5QYU', iid='B00005O54Q', r_ui=5.0, est=5, details={'actual_k': 3, 'was_impossible': False}),\n",
       " Prediction(uid='A3HCY89ISEIF0J', iid='B0002IQHBQ', r_ui=4.0, est=4.484497137535465, details={'actual_k': 3, 'was_impossible': False}),\n",
       " Prediction(uid='A8U8JSMH2IA2T', iid='B0000DFZZA', r_ui=4.0, est=5, details={'actual_k': 3, 'was_impossible': False}),\n",
       " Prediction(uid='AGM907X0URUZZ', iid='B000001FZ6', r_ui=5.0, est=5, details={'actual_k': 1, 'was_impossible': False}),\n",
       " Prediction(uid='A2LSWBBCLW87LW', iid='B004NSULHM', r_ui=2.0, est=2.574404761904762, details={'actual_k': 1, 'was_impossible': False}),\n",
       " Prediction(uid='ALQ90GSQXWB68', iid='B00008OWZE', r_ui=5.0, est=3.453333333333333, details={'actual_k': 0, 'was_impossible': False}),\n",
       " Prediction(uid='A20DZX38KRBIT8', iid='B0000CD5FR', r_ui=1.0, est=4.449275362318841, details={'actual_k': 0, 'was_impossible': False}),\n",
       " Prediction(uid='A2QS7KCOAR5W3', iid='B0000029AP', r_ui=5.0, est=4.759975255180946, details={'actual_k': 1, 'was_impossible': False}),\n",
       " Prediction(uid='A265PUDS1OGQYB', iid='B000023VR6', r_ui=5.0, est=5, details={'actual_k': 2, 'was_impossible': False}),\n",
       " Prediction(uid='ADXP05MY5KQC7', iid='B00097A5H2', r_ui=4.0, est=4.013698630136986, details={'actual_k': 0, 'was_impossible': False}),\n",
       " Prediction(uid='A36GOF4OEH4I1Y', iid='B000084T18', r_ui=5.0, est=4.917295992398044, details={'actual_k': 3, 'was_impossible': False}),\n",
       " Prediction(uid='A3DREKLCS81MNT', iid='B000001A5X', r_ui=4.0, est=4.797752808988764, details={'actual_k': 0, 'was_impossible': False}),\n",
       " Prediction(uid='A14GK0E64J0WAS', iid='B0002PD3HU', r_ui=4.0, est=3.5230278697795114, details={'actual_k': 5, 'was_impossible': False}),\n",
       " Prediction(uid='A2KOUUPW3MB2W3', iid='B003V5PPZG', r_ui=2.0, est=4.168413912185496, details={'was_impossible': True, 'reason': 'User and/or item is unknown.'}),\n",
       " Prediction(uid='A10CBLMJD1OQL7', iid='B000002JAI', r_ui=3.0, est=4.733877884901325, details={'actual_k': 2, 'was_impossible': False}),\n",
       " Prediction(uid='ARFRYHIVP6VPP', iid='B00006690F', r_ui=1.0, est=4.5576923076923075, details={'actual_k': 1, 'was_impossible': False}),\n",
       " Prediction(uid='A25LSMOXW6PEX0', iid='B00008J4P5', r_ui=1.0, est=4.797238372093023, details={'actual_k': 1, 'was_impossible': False}),\n",
       " Prediction(uid='A23F0RW1RUBBDF', iid='B000EMGAOY', r_ui=5.0, est=4.667454138391875, details={'actual_k': 2, 'was_impossible': False}),\n",
       " Prediction(uid='A2K150EBPF8LT7', iid='B000003B6J', r_ui=5.0, est=4.542424765354332, details={'actual_k': 5, 'was_impossible': False}),\n",
       " Prediction(uid='A97B72F4UI8FA', iid='B000002VT6', r_ui=4.0, est=3.839791846536656, details={'actual_k': 5, 'was_impossible': False}),\n",
       " Prediction(uid='A3C6ZCBUNXUT7V', iid='B000001Y15', r_ui=5.0, est=4.9782027325215035, details={'actual_k': 5, 'was_impossible': False}),\n",
       " Prediction(uid='A233VBFKZZIEDD', iid='B00027JYOE', r_ui=3.0, est=3.7586206896551726, details={'actual_k': 0, 'was_impossible': False}),\n",
       " Prediction(uid='A32JZ9XNHMNWOO', iid='B00001IVJS', r_ui=5.0, est=4.884300126103405, details={'actual_k': 1, 'was_impossible': False}),\n",
       " Prediction(uid='A3FSK82Z5ZI4PK', iid='B003WTE886', r_ui=5.0, est=4.405616074224044, details={'actual_k': 2, 'was_impossible': False}),\n",
       " Prediction(uid='A12OSNCDUGRZMQ', iid='B00005ICAW', r_ui=1.0, est=3.643835616438356, details={'actual_k': 0, 'was_impossible': False}),\n",
       " Prediction(uid='AFTN9ZLB22PSZ', iid='B000084T18', r_ui=4.0, est=3.6552394486575386, details={'actual_k': 5, 'was_impossible': False}),\n",
       " Prediction(uid='A17GMVWZ29KJIO', iid='B00000FCBH', r_ui=5.0, est=5, details={'actual_k': 3, 'was_impossible': False}),\n",
       " Prediction(uid='A3K51Z8GYTWAEE', iid='B00004R7SN', r_ui=4.0, est=4.168413912185496, details={'was_impossible': True, 'reason': 'User and/or item is unknown.'}),\n",
       " Prediction(uid='A2HWD9PTM7RBXN', iid='B00004S36A', r_ui=5.0, est=4.387184246915427, details={'actual_k': 5, 'was_impossible': False}),\n",
       " Prediction(uid='A2MGMBB5F9NED', iid='B0000TAZS8', r_ui=1.0, est=1, details={'actual_k': 4, 'was_impossible': False}),\n",
       " Prediction(uid='A2J92C3H4XRER9', iid='B000002LQR', r_ui=3.0, est=4.168413912185496, details={'was_impossible': True, 'reason': 'User and/or item is unknown.'}),\n",
       " Prediction(uid='ANTOY11LF35W5', iid='B00006JO3X', r_ui=5.0, est=5, details={'actual_k': 1, 'was_impossible': False}),\n",
       " Prediction(uid='ARPRJZSXOZO2V', iid='B00002MZ4W', r_ui=5.0, est=4.6984552065958365, details={'actual_k': 2, 'was_impossible': False}),\n",
       " Prediction(uid='A23KAWGZ4RE1RI', iid='B00002MZ4W', r_ui=5.0, est=4.8451131087576425, details={'actual_k': 5, 'was_impossible': False}),\n",
       " Prediction(uid='AQI2CW6UKF1ES', iid='B00005O6IR', r_ui=4.0, est=3.092344501148852, details={'actual_k': 5, 'was_impossible': False}),\n",
       " Prediction(uid='A1E3N1GKATTQ0', iid='B000001Y15', r_ui=5.0, est=4.976723525230987, details={'actual_k': 1, 'was_impossible': False}),\n",
       " Prediction(uid='AGOIS4LC6AY9I', iid='B000EU1KRS', r_ui=5.0, est=5, details={'actual_k': 5, 'was_impossible': False}),\n",
       " Prediction(uid='A3HZ1R0V1XYN47', iid='B000031XCY', r_ui=5.0, est=4.168413912185496, details={'was_impossible': True, 'reason': 'User and/or item is unknown.'}),\n",
       " Prediction(uid='AYOO12C9Y2T95', iid='B00000D9TQ', r_ui=3.0, est=3.9014767263188936, details={'actual_k': 5, 'was_impossible': False}),\n",
       " Prediction(uid='AO5KYW6F08NB0', iid='B000002MFN', r_ui=5.0, est=4.704060345802525, details={'actual_k': 3, 'was_impossible': False}),\n",
       " Prediction(uid='AEMZRE6QYVQBS', iid='B000002J2S', r_ui=4.0, est=5, details={'actual_k': 2, 'was_impossible': False}),\n",
       " Prediction(uid='A3RSO2MXIZA9EB', iid='B004NSULHM', r_ui=1.0, est=3.447311001432452, details={'actual_k': 2, 'was_impossible': False}),\n",
       " Prediction(uid='ADSARUF1MIGA0', iid='B000035X1M', r_ui=5.0, est=4.168413912185496, details={'was_impossible': True, 'reason': 'User and/or item is unknown.'}),\n",
       " Prediction(uid='A3TZV5SXQ8F6ST', iid='B000002PD8', r_ui=5.0, est=4.867553932035957, details={'actual_k': 2, 'was_impossible': False}),\n",
       " Prediction(uid='A38ZTXT2TNQ02C', iid='B000003AEK', r_ui=5.0, est=5, details={'actual_k': 1, 'was_impossible': False}),\n",
       " Prediction(uid='A14GK0E64J0WAS', iid='B000002UCL', r_ui=5.0, est=4.551354044362101, details={'actual_k': 5, 'was_impossible': False}),\n",
       " Prediction(uid='A17QYYGT3C1EPT', iid='B00005NHJS', r_ui=4.0, est=4.168413912185496, details={'was_impossible': True, 'reason': 'User and/or item is unknown.'}),\n",
       " Prediction(uid='A13FKUDRI0R54U', iid='B000FII324', r_ui=4.0, est=4.863385068275154, details={'actual_k': 4, 'was_impossible': False}),\n",
       " Prediction(uid='A29ZCVZWIWZBCH', iid='B000001A5X', r_ui=5.0, est=5, details={'actual_k': 4, 'was_impossible': False}),\n",
       " Prediction(uid='A2PVGYO5Q57CIE', iid='B000050HS9', r_ui=3.0, est=3.8815622508840044, details={'actual_k': 5, 'was_impossible': False}),\n",
       " Prediction(uid='A26CFXF9STXT8P', iid='B00005K9KP', r_ui=4.0, est=4.667744252873563, details={'actual_k': 1, 'was_impossible': False}),\n",
       " Prediction(uid='AIQ9OJCQA3TOC', iid='B000001Y15', r_ui=5.0, est=5, details={'actual_k': 4, 'was_impossible': False}),\n",
       " Prediction(uid='A240NZFGUFSUUZ', iid='B000084T18', r_ui=1.0, est=1.5493283116211365, details={'actual_k': 2, 'was_impossible': False}),\n",
       " Prediction(uid='A4PTUEVFE13K6', iid='B000002LGQ', r_ui=5.0, est=4.643561208267091, details={'actual_k': 1, 'was_impossible': False}),\n",
       " Prediction(uid='A23GFTVIETX7DS', iid='B0000025BA', r_ui=5.0, est=5, details={'actual_k': 1, 'was_impossible': False}),\n",
       " Prediction(uid='A13Q6DZC1WZ9K6', iid='B0002X314C', r_ui=4.0, est=4.78060263653484, details={'actual_k': 1, 'was_impossible': False}),\n",
       " Prediction(uid='A2U61SOPY6RLPV', iid='B0007NFL18', r_ui=1.0, est=3.3195992583140628, details={'actual_k': 3, 'was_impossible': False}),\n",
       " Prediction(uid='A1WWDFQ8HSKT0', iid='B000002MUW', r_ui=5.0, est=4.430769230769231, details={'actual_k': 0, 'was_impossible': False}),\n",
       " Prediction(uid='A37AG6MLKV3V0Q', iid='B000084T18', r_ui=2.0, est=2.9394569255194183, details={'actual_k': 5, 'was_impossible': False}),\n",
       " Prediction(uid='A3W4D8XOGLWUN5', iid='B000H7JDVI', r_ui=5.0, est=2.96570064162544, details={'actual_k': 4, 'was_impossible': False}),\n",
       " Prediction(uid='A3REFBIIQDAH8N', iid='B00006690F', r_ui=1.0, est=4.83907758907759, details={'actual_k': 1, 'was_impossible': False}),\n",
       " Prediction(uid='A3R75H3IPPC2UX', iid='B0000013GH', r_ui=5.0, est=4.211111111111111, details={'actual_k': 1, 'was_impossible': False}),\n",
       " Prediction(uid='A23F0RW1RUBBDF', iid='B000002LBM', r_ui=5.0, est=5, details={'actual_k': 4, 'was_impossible': False}),\n",
       " Prediction(uid='A17LSEN4UY4XZQ', iid='B00009LI14', r_ui=4.0, est=2.7298701298701293, details={'actual_k': 1, 'was_impossible': False}),\n",
       " Prediction(uid='A3SFEMQR7HHP1T', iid='B00006ZCFI', r_ui=2.0, est=3.7041532235816548, details={'actual_k': 2, 'was_impossible': False}),\n",
       " Prediction(uid='A1X93ES4DITTWK', iid='B000FII324', r_ui=1.0, est=3.851168545891941, details={'actual_k': 5, 'was_impossible': False}),\n",
       " Prediction(uid='A8SCX6VUTE05H', iid='B00027JYOE', r_ui=4.0, est=2.984492108565848, details={'actual_k': 5, 'was_impossible': False}),\n",
       " Prediction(uid='A4BK54P0D1GOS', iid='B00065JTAQ', r_ui=3.0, est=3.6721311475409837, details={'actual_k': 0, 'was_impossible': False}),\n",
       " Prediction(uid='A181XX482ANOFM', iid='B0000CD5FR', r_ui=5.0, est=4.168413912185496, details={'was_impossible': True, 'reason': 'User and/or item is unknown.'}),\n",
       " Prediction(uid='A2S7XWDFR9GSPZ', iid='B000NVIXFK', r_ui=5.0, est=4.233333333333333, details={'actual_k': 0, 'was_impossible': False}),\n",
       " Prediction(uid='A1IO3LVYV5ZMK8', iid='B00005YW4H', r_ui=4.0, est=4.070625086254828, details={'actual_k': 2, 'was_impossible': False}),\n",
       " Prediction(uid='A30Z8BPNZV7OZ1', iid='B000BNTM32', r_ui=5.0, est=4.393939393939394, details={'actual_k': 0, 'was_impossible': False}),\n",
       " Prediction(uid='AB2ZW5W2HT0EY', iid='B000AGTQKY', r_ui=4.0, est=5, details={'actual_k': 1, 'was_impossible': False}),\n",
       " Prediction(uid='A17ZLPBIOB6GB8', iid='B000NVIXFK', r_ui=2.0, est=4.233333333333333, details={'actual_k': 0, 'was_impossible': False}),\n",
       " Prediction(uid='A307SG5H71W726', iid='B004NSULHM', r_ui=4.0, est=3.8125, details={'actual_k': 0, 'was_impossible': False}),\n",
       " Prediction(uid='A34JA73FX0Q7N5', iid='B0002IQHBQ', r_ui=4.0, est=4.351284282814442, details={'actual_k': 2, 'was_impossible': False}),\n",
       " Prediction(uid='A2D4ILAR89US41', iid='B000003C3V', r_ui=5.0, est=5, details={'actual_k': 3, 'was_impossible': False}),\n",
       " Prediction(uid='A33R34S1ZYG9XE', iid='B000001EW3', r_ui=5.0, est=4.609167841778128, details={'actual_k': 4, 'was_impossible': False}),\n",
       " Prediction(uid='A1VABWDOUQLULZ', iid='B0000CC6QG', r_ui=4.0, est=2.848856308540923, details={'actual_k': 5, 'was_impossible': False}),\n",
       " Prediction(uid='A3075RVSKC27HU', iid='B000002AP1', r_ui=3.0, est=4.515405527984089, details={'actual_k': 5, 'was_impossible': False}),\n",
       " Prediction(uid='AZ4VKFF136FKR', iid='B000002GK1', r_ui=4.0, est=2.04, details={'actual_k': 1, 'was_impossible': False}),\n",
       " Prediction(uid='A32DTCFBBB9WIV', iid='B000069HKH', r_ui=4.0, est=4.3428571428571425, details={'actual_k': 0, 'was_impossible': False}),\n",
       " Prediction(uid='A2IUOJVG32WJOR', iid='B000FPYNQW', r_ui=4.0, est=3.933333333333333, details={'actual_k': 0, 'was_impossible': False}),\n",
       " Prediction(uid='A3OM5A0I7K13G9', iid='B000002KH3', r_ui=5.0, est=1.6945409064825334, details={'actual_k': 5, 'was_impossible': False}),\n",
       " Prediction(uid='A2BO41VARYGTAC', iid='B00000269M', r_ui=4.0, est=3.923771843937093, details={'actual_k': 5, 'was_impossible': False}),\n",
       " Prediction(uid='A5DIAZ5GT3MC', iid='B0006ZQ9BS', r_ui=4.0, est=3.5102860028528218, details={'actual_k': 5, 'was_impossible': False}),\n",
       " Prediction(uid='A2ASIT0JYIGHTA', iid='B000001A6N', r_ui=4.0, est=3.6451671408595034, details={'actual_k': 2, 'was_impossible': False}),\n",
       " Prediction(uid='A2LFLKFE3B0PSA', iid='B000BLI4UG', r_ui=5.0, est=4.209524991838262, details={'actual_k': 3, 'was_impossible': False}),\n",
       " Prediction(uid='AL7LEBKKW8XCC', iid='B000002GK1', r_ui=5.0, est=5, details={'actual_k': 5, 'was_impossible': False}),\n",
       " Prediction(uid='A23IOPI0D1OG7V', iid='B000001A5X', r_ui=5.0, est=5, details={'actual_k': 5, 'was_impossible': False}),\n",
       " Prediction(uid='A36489F4G8T4E7', iid='B00003NHAR', r_ui=1.0, est=1, details={'actual_k': 5, 'was_impossible': False}),\n",
       " Prediction(uid='AFTN9ZLB22PSZ', iid='B000002WR5', r_ui=5.0, est=5, details={'actual_k': 5, 'was_impossible': False}),\n",
       " Prediction(uid='A3W4D8XOGLWUN5', iid='B0012OVF2U', r_ui=4.0, est=4.296532337220265, details={'actual_k': 2, 'was_impossible': False}),\n",
       " Prediction(uid='A37HCSGGRH8UO6', iid='B0000BWVLM', r_ui=1.0, est=4.666660399422703, details={'actual_k': 5, 'was_impossible': False}),\n",
       " Prediction(uid='A3RQ0VN4KUKH8G', iid='B000NVIXFK', r_ui=5.0, est=4.233333333333333, details={'actual_k': 0, 'was_impossible': False}),\n",
       " Prediction(uid='A3W4D8XOGLWUN5', iid='B000002AV5', r_ui=4.0, est=3.6437069229747907, details={'actual_k': 4, 'was_impossible': False}),\n",
       " Prediction(uid='A3O1N2A3CZS772', iid='B0001Z53AQ', r_ui=4.0, est=3.1804872047244093, details={'actual_k': 1, 'was_impossible': False}),\n",
       " Prediction(uid='AD0FOYVI4UZVP', iid='B000001EW3', r_ui=5.0, est=4.145161290322581, details={'actual_k': 0, 'was_impossible': False}),\n",
       " Prediction(uid='AF349JR6MDNWA', iid='B00005K9KP', r_ui=4.0, est=4.168413912185496, details={'was_impossible': True, 'reason': 'User and/or item is unknown.'}),\n",
       " Prediction(uid='A14HCEU8BBAJ7I', iid='B000002OPL', r_ui=5.0, est=4.631020892614567, details={'actual_k': 3, 'was_impossible': False}),\n",
       " Prediction(uid='AW7CV7F94ULDU', iid='B0000025F7', r_ui=4.0, est=4.359010416646225, details={'actual_k': 5, 'was_impossible': False}),\n",
       " Prediction(uid='ADFXJSLJGN6EN', iid='B000002OPL', r_ui=5.0, est=4.119199536592158, details={'actual_k': 3, 'was_impossible': False}),\n",
       " Prediction(uid='A2HW6URUDFZ0Z9', iid='B00005YW4H', r_ui=5.0, est=3.4507259977058227, details={'actual_k': 2, 'was_impossible': False}),\n",
       " Prediction(uid='A2KYS0JR501ECX', iid='B00005K9KP', r_ui=4.0, est=4.20099196976854, details={'actual_k': 1, 'was_impossible': False}),\n",
       " Prediction(uid='A3HQ07XPJJZQGN', iid='B0000039QA', r_ui=3.0, est=4.162563716248359, details={'actual_k': 3, 'was_impossible': False}),\n",
       " Prediction(uid='A25CQTB313XDWO', iid='B000002LFZ', r_ui=4.0, est=4.527174950832832, details={'actual_k': 5, 'was_impossible': False}),\n",
       " Prediction(uid='A288SXRFQA42XE', iid='B000001EW3', r_ui=5.0, est=4.788899105814254, details={'actual_k': 3, 'was_impossible': False}),\n",
       " Prediction(uid='A280KHZO2L7GKA', iid='B004K4AUZW', r_ui=2.0, est=4.145605692630193, details={'actual_k': 2, 'was_impossible': False}),\n",
       " Prediction(uid='A2P6BG1S90W5F5', iid='B00006690F', r_ui=5.0, est=4.4853389747789265, details={'actual_k': 3, 'was_impossible': False}),\n",
       " Prediction(uid='A1GN8UJIZLCA59', iid='B000028U0Y', r_ui=5.0, est=4.920595939911076, details={'actual_k': 5, 'was_impossible': False}),\n",
       " Prediction(uid='A1JRHL29A1ABOT', iid='B002DSM8UC', r_ui=5.0, est=4.105160892505246, details={'actual_k': 5, 'was_impossible': False}),\n",
       " Prediction(uid='A31RP6XY9IESQ5', iid='B00014TQ7S', r_ui=5.0, est=4.472780680960963, details={'actual_k': 3, 'was_impossible': False}),\n",
       " Prediction(uid='A28OGM5C71B1XD', iid='B000001EGA', r_ui=3.0, est=4.608695652173913, details={'actual_k': 0, 'was_impossible': False}),\n",
       " Prediction(uid='A99FG0FGT85V9', iid='B0000CC6QG', r_ui=5.0, est=4.1779226504637945, details={'actual_k': 5, 'was_impossible': False}),\n",
       " Prediction(uid='A28FNKCGFS03VL', iid='B0000013GH', r_ui=4.0, est=4.212246507550192, details={'actual_k': 2, 'was_impossible': False}),\n",
       " Prediction(uid='A31H7O4QPP9CHO', iid='B000BLI4UG', r_ui=5.0, est=3.9322793346440026, details={'actual_k': 2, 'was_impossible': False}),\n",
       " Prediction(uid='A38T0YN4VC4ZIE', iid='B000002IOW', r_ui=4.0, est=4.643384193464076, details={'actual_k': 2, 'was_impossible': False}),\n",
       " Prediction(uid='A3T5ES5LR4DIVM', iid='B000OQF6N6', r_ui=5.0, est=4.3455149501661126, details={'actual_k': 1, 'was_impossible': False}),\n",
       " Prediction(uid='A1UH3S1GVFSMFH', iid='B00005S7UE', r_ui=3.0, est=4.741019153935231, details={'actual_k': 5, 'was_impossible': False}),\n",
       " Prediction(uid='A1Y1IKTDRQPCYF', iid='B000006O62', r_ui=5.0, est=4.120806801942238, details={'actual_k': 2, 'was_impossible': False}),\n",
       " Prediction(uid='A2RW5GR3B9KC9S', iid='B004NSULHM', r_ui=3.0, est=4.324127906976744, details={'actual_k': 1, 'was_impossible': False}),\n",
       " Prediction(uid='A37Y9UJBF3C32C', iid='B0000026WD', r_ui=5.0, est=4.7313654984103435, details={'actual_k': 3, 'was_impossible': False}),\n",
       " Prediction(uid='AQZE4MMQMDKPB', iid='B000AA303Y', r_ui=4.0, est=4.0275833571690685, details={'actual_k': 5, 'was_impossible': False}),\n",
       " Prediction(uid='A1JIW8GOSSGUQR', iid='B00005AAFJ', r_ui=4.0, est=3.40872198191165, details={'actual_k': 5, 'was_impossible': False}),\n",
       " Prediction(uid='A1VABWDOUQLULZ', iid='B00005NKYQ', r_ui=3.0, est=3.7391062884673034, details={'actual_k': 3, 'was_impossible': False}),\n",
       " Prediction(uid='A2YARCE69AJTVB', iid='B000067CPX', r_ui=5.0, est=4.761392178781946, details={'actual_k': 2, 'was_impossible': False}),\n",
       " Prediction(uid='A6OUWU2TYT8UR', iid='B000002GK1', r_ui=4.0, est=4.98974358974359, details={'actual_k': 1, 'was_impossible': False}),\n",
       " Prediction(uid='A1MPEG5S1DNI52', iid='B000067CPX', r_ui=5.0, est=4.250833333333333, details={'actual_k': 1, 'was_impossible': False}),\n",
       " Prediction(uid='ACUJU5D2GOWDB', iid='B0006ZQ9BS', r_ui=2.0, est=4.810467106872096, details={'actual_k': 1, 'was_impossible': False}),\n",
       " Prediction(uid='AC32305TO79HL', iid='B00000J7JO', r_ui=3.0, est=1.7871882781044013, details={'actual_k': 3, 'was_impossible': False}),\n",
       " Prediction(uid='A170T1ULRVT6FL', iid='B00000064G', r_ui=5.0, est=4.168413912185496, details={'was_impossible': True, 'reason': 'User and/or item is unknown.'}),\n",
       " Prediction(uid='A31LQKTOW47O62', iid='B0001Z53AQ', r_ui=4.0, est=4.5489770179372195, details={'actual_k': 1, 'was_impossible': False}),\n",
       " Prediction(uid='A1HY4CVW8K1QFQ', iid='B0000026WD', r_ui=5.0, est=4.7701428822303304, details={'actual_k': 5, 'was_impossible': False}),\n",
       " Prediction(uid='A1XX5797TIZT5Q', iid='B00004Z41Q', r_ui=5.0, est=3.4966878990892605, details={'actual_k': 5, 'was_impossible': False}),\n",
       " Prediction(uid='A1HUX7WN8E65R3', iid='B000002LRX', r_ui=5.0, est=2.8670051992843937, details={'actual_k': 2, 'was_impossible': False}),\n",
       " Prediction(uid='A2BO41VARYGTAC', iid='B000002C2E', r_ui=5.0, est=4.831112096712664, details={'actual_k': 3, 'was_impossible': False}),\n",
       " Prediction(uid='A2AKFJOWF71WGV', iid='B000003AEK', r_ui=5.0, est=5, details={'actual_k': 5, 'was_impossible': False}),\n",
       " Prediction(uid='A281NPSIMI1C2R', iid='B00005YW4H', r_ui=5.0, est=5, details={'actual_k': 2, 'was_impossible': False}),\n",
       " Prediction(uid='A1241U6QCSX5YJ', iid='B00004UARR', r_ui=5.0, est=3.5659498207885303, details={'actual_k': 1, 'was_impossible': False}),\n",
       " Prediction(uid='A2CUVMQR3ECVB4', iid='B00008J4P5', r_ui=4.0, est=3.8965829589822008, details={'actual_k': 2, 'was_impossible': False}),\n",
       " Prediction(uid='A3HEM1WWXXLOUL', iid='B000001A5X', r_ui=5.0, est=4.168413912185496, details={'was_impossible': True, 'reason': 'User and/or item is unknown.'}),\n",
       " Prediction(uid='A3B8MI055LTPSD', iid='B000QUCPUC', r_ui=5.0, est=4.143638223737738, details={'actual_k': 2, 'was_impossible': False}),\n",
       " Prediction(uid='A1IKOYZVFHO1XP', iid='B00005NZDW', r_ui=5.0, est=4.862647978814394, details={'actual_k': 5, 'was_impossible': False}),\n",
       " Prediction(uid='A2T33U7BJ2517Z', iid='B0000062S6', r_ui=5.0, est=5, details={'actual_k': 1, 'was_impossible': False}),\n",
       " Prediction(uid='A25SKLRDDMIRAH', iid='B00065BYAY', r_ui=5.0, est=4.958333333333333, details={'actual_k': 1, 'was_impossible': False}),\n",
       " Prediction(uid='AM4ETI24CFO6D', iid='B00005O54Q', r_ui=5.0, est=5, details={'actual_k': 4, 'was_impossible': False}),\n",
       " Prediction(uid='A1AYEI2SNFPYES', iid='B000EU1KRS', r_ui=5.0, est=4.821003747899416, details={'actual_k': 5, 'was_impossible': False}),\n",
       " Prediction(uid='A1AMVA4R3G58TV', iid='B00005NKYQ', r_ui=4.0, est=4.416772169051641, details={'actual_k': 3, 'was_impossible': False}),\n",
       " Prediction(uid='A3AL8GQ69QE7WN', iid='B000AOENCM', r_ui=3.0, est=3.845203829834621, details={'actual_k': 5, 'was_impossible': False}),\n",
       " Prediction(uid='AX3LZO32C0JFA', iid='B00003IE26', r_ui=4.0, est=3.3425511614691388, details={'actual_k': 2, 'was_impossible': False}),\n",
       " Prediction(uid='A3FWPWK8FIDZKO', iid='B00000064G', r_ui=5.0, est=4.168413912185496, details={'was_impossible': True, 'reason': 'User and/or item is unknown.'}),\n",
       " Prediction(uid='A1GN8UJIZLCA59', iid='B000001A6N', r_ui=5.0, est=5, details={'actual_k': 5, 'was_impossible': False}),\n",
       " Prediction(uid='A2582KMXLK2P06', iid='B000002L7G', r_ui=5.0, est=4.827700277353951, details={'actual_k': 5, 'was_impossible': False}),\n",
       " Prediction(uid='A1DAFWS98LQD2R', iid='B0000024JN', r_ui=5.0, est=4.769923327155122, details={'actual_k': 2, 'was_impossible': False}),\n",
       " Prediction(uid='A2D4ILAR89US41', iid='B000023VR6', r_ui=4.0, est=3.40534487803224, details={'actual_k': 4, 'was_impossible': False}),\n",
       " Prediction(uid='A1T4U9YC4BPK1G', iid='B004D1GZ2E', r_ui=5.0, est=5, details={'actual_k': 1, 'was_impossible': False}),\n",
       " Prediction(uid='AZY3MDFJJFI91', iid='B000023VR6', r_ui=5.0, est=5, details={'actual_k': 2, 'was_impossible': False}),\n",
       " Prediction(uid='A35GNQK1DC7WXU', iid='B000002L7G', r_ui=5.0, est=5, details={'actual_k': 5, 'was_impossible': False}),\n",
       " Prediction(uid='A34EC8OVUG6743', iid='B00005O6IR', r_ui=4.0, est=5, details={'actual_k': 1, 'was_impossible': False}),\n",
       " Prediction(uid='A2A6OXZPN0Y98Y', iid='B00004XOWM', r_ui=2.0, est=2.6519181585677747, details={'actual_k': 1, 'was_impossible': False}),\n",
       " Prediction(uid='A3EJYJC25OJVKK', iid='B0000634ID', r_ui=2.0, est=2.627173031836758, details={'actual_k': 2, 'was_impossible': False}),\n",
       " Prediction(uid='A3C6ZCBUNXUT7V', iid='B000AGTQKY', r_ui=5.0, est=4.815330875388049, details={'actual_k': 5, 'was_impossible': False}),\n",
       " Prediction(uid='A3KGYTO6CF8MGF', iid='B000002BE9', r_ui=5.0, est=4.043197396157722, details={'actual_k': 5, 'was_impossible': False}),\n",
       " Prediction(uid='A3G10NPD661EQD', iid='B000000OUJ', r_ui=5.0, est=5, details={'actual_k': 5, 'was_impossible': False}),\n",
       " Prediction(uid='AK1OBVI54SY73', iid='B0000C6E4D', r_ui=3.0, est=5, details={'actual_k': 2, 'was_impossible': False}),\n",
       " Prediction(uid='A3SV72ZAHH2IDH', iid='B000006O62', r_ui=4.0, est=4.5179885587297575, details={'actual_k': 5, 'was_impossible': False}),\n",
       " Prediction(uid='A1H32IQLHDZWUI', iid='B00003NHAR', r_ui=4.0, est=1.743942624539639, details={'actual_k': 1, 'was_impossible': False}),\n",
       " Prediction(uid='A3U86BP7Y64RSQ', iid='B0000025F7', r_ui=5.0, est=4.168413912185496, details={'was_impossible': True, 'reason': 'User and/or item is unknown.'}),\n",
       " Prediction(uid='A3VZVYWCTGIEV0', iid='B000NVIXFK', r_ui=4.0, est=4.551926006397087, details={'actual_k': 2, 'was_impossible': False}),\n",
       " Prediction(uid='A2VMEYIEZE9UXD', iid='B0000C6E4D', r_ui=4.0, est=4.183908045977011, details={'actual_k': 0, 'was_impossible': False}),\n",
       " Prediction(uid='A16XRPF40679KG', iid='B0000029AS', r_ui=5.0, est=5, details={'actual_k': 5, 'was_impossible': False}),\n",
       " Prediction(uid='A1W3MBU3V858G9', iid='B000AL730O', r_ui=5.0, est=4.168413912185496, details={'was_impossible': True, 'reason': 'User and/or item is unknown.'}),\n",
       " Prediction(uid='A2P49WD75WHAG5', iid='B00008J4P5', r_ui=4.0, est=5, details={'actual_k': 5, 'was_impossible': False}),\n",
       " Prediction(uid='AYSLSU7966FWE', iid='B0029LHW4U', r_ui=4.0, est=4.7064375404517556, details={'actual_k': 2, 'was_impossible': False}),\n",
       " Prediction(uid='ANGNKTK2J7JFF', iid='B004D1GZ2E', r_ui=5.0, est=4.202435813034891, details={'actual_k': 1, 'was_impossible': False}),\n",
       " Prediction(uid='A1J73BBTNZIMD7', iid='B000AU1NZQ', r_ui=5.0, est=5, details={'actual_k': 1, 'was_impossible': False}),\n",
       " Prediction(uid='A2ULSA0IRUE09E', iid='B0000DD7LC', r_ui=5.0, est=4.146214182382398, details={'actual_k': 5, 'was_impossible': False}),\n",
       " Prediction(uid='A1FML9FCUPV6TI', iid='B00008OWZE', r_ui=4.0, est=3.342598828243459, details={'actual_k': 5, 'was_impossible': False}),\n",
       " Prediction(uid='A13M2OZU0IWFY8', iid='B0000646TK', r_ui=3.0, est=4.478463734836312, details={'actual_k': 4, 'was_impossible': False}),\n",
       " Prediction(uid='A5ZPFOTZAB1ID', iid='B0007NFL18', r_ui=3.0, est=2.149041321605661, details={'actual_k': 5, 'was_impossible': False}),\n",
       " Prediction(uid='A2V6RMJXMKFKEV', iid='B0000039QA', r_ui=5.0, est=4.816599516518936, details={'actual_k': 1, 'was_impossible': False}),\n",
       " Prediction(uid='A2ETZ7GF5B1712', iid='B000075A20', r_ui=4.0, est=3.424802291670142, details={'actual_k': 5, 'was_impossible': False}),\n",
       " Prediction(uid='A61V9CDWK2RQN', iid='B00064X2QY', r_ui=5.0, est=3.603233469970157, details={'actual_k': 3, 'was_impossible': False}),\n",
       " Prediction(uid='AIIR8E34EDKCQ', iid='B000089RVR', r_ui=5.0, est=4.168413912185496, details={'was_impossible': True, 'reason': 'User and/or item is unknown.'}),\n",
       " Prediction(uid='AGZ28CC1MLUAD', iid='B0000024JN', r_ui=4.0, est=4.645658263305322, details={'actual_k': 1, 'was_impossible': False}),\n",
       " Prediction(uid='A2YTTO9F4G6T6X', iid='B00005YW4H', r_ui=1.0, est=4.501280776439543, details={'actual_k': 3, 'was_impossible': False}),\n",
       " Prediction(uid='A11H85UYL2R4KX', iid='B0000AKOMI', r_ui=5.0, est=4.447590657606042, details={'actual_k': 5, 'was_impossible': False}),\n",
       " Prediction(uid='A29V1MP4PX5ABN', iid='B000002LRX', r_ui=5.0, est=4.375241619277908, details={'actual_k': 2, 'was_impossible': False}),\n",
       " Prediction(uid='A3KMTOFTUUNFHG', iid='B000AOENCM', r_ui=4.0, est=5, details={'actual_k': 1, 'was_impossible': False}),\n",
       " Prediction(uid='A34Q2RG2PS2OL', iid='B000001FZ6', r_ui=5.0, est=4.168413912185496, details={'was_impossible': True, 'reason': 'User and/or item is unknown.'}),\n",
       " Prediction(uid='A3BFJFJRXMWXAX', iid='B00000064G', r_ui=5.0, est=3.4698118297732172, details={'actual_k': 2, 'was_impossible': False}),\n",
       " Prediction(uid='A33JB9SHMTH9E5', iid='B00007FGLS', r_ui=5.0, est=5, details={'actual_k': 2, 'was_impossible': False}),\n",
       " Prediction(uid='A1LDGKFKXM32LC', iid='B000002P5W', r_ui=5.0, est=4.527561327561327, details={'actual_k': 1, 'was_impossible': False}),\n",
       " Prediction(uid='A1SFRUEEWK1AZU', iid='B00000016W', r_ui=5.0, est=4.818437719915552, details={'actual_k': 1, 'was_impossible': False}),\n",
       " Prediction(uid='A34HYQ9BQZPE78', iid='B00000J7JO', r_ui=5.0, est=4.816300705802045, details={'actual_k': 4, 'was_impossible': False}),\n",
       " Prediction(uid='A2PCNX59G2GLIM', iid='B000001A5X', r_ui=5.0, est=4.881086142322097, details={'actual_k': 1, 'was_impossible': False}),\n",
       " Prediction(uid='A3PMEJAYKF3VUC', iid='B00016XMOE', r_ui=4.0, est=3.9899999999999993, details={'actual_k': 1, 'was_impossible': False}),\n",
       " Prediction(uid='AIKDYQA4NKI7A', iid='B005QJZ5FA', r_ui=4.0, est=4.797564186965109, details={'actual_k': 1, 'was_impossible': False}),\n",
       " Prediction(uid='ATDXQ6MMAK205', iid='B000001FZ6', r_ui=5.0, est=5, details={'actual_k': 1, 'was_impossible': False}),\n",
       " Prediction(uid='A3FWPWK8FIDZKO', iid='B00005K9KP', r_ui=4.0, est=4.168413912185496, details={'was_impossible': True, 'reason': 'User and/or item is unknown.'}),\n",
       " Prediction(uid='A12A6ZP3S3W2P6', iid='B0007NFL18', r_ui=5.0, est=3.7274082115658604, details={'actual_k': 5, 'was_impossible': False}),\n",
       " Prediction(uid='AYZXJ9FOTOSY4', iid='B00004T9UF', r_ui=5.0, est=4.670852851011607, details={'actual_k': 5, 'was_impossible': False}),\n",
       " Prediction(uid='A29HQXDK7BSX8H', iid='B0006IGGLS', r_ui=1.0, est=2.24678013446747, details={'actual_k': 5, 'was_impossible': False}),\n",
       " Prediction(uid='A33D1LPCYUANWE', iid='B00008VOQM', r_ui=5.0, est=4.036141611482146, details={'actual_k': 3, 'was_impossible': False}),\n",
       " Prediction(uid='A1SCJWCMQ3W3KK', iid='B0000C6E4D', r_ui=4.0, est=5, details={'actual_k': 1, 'was_impossible': False}),\n",
       " Prediction(uid='A2Q8BZMIXLLCNG', iid='B00001IVJS', r_ui=2.0, est=2.9901193981342633, details={'actual_k': 4, 'was_impossible': False}),\n",
       " Prediction(uid='A1GRPBJ38IVX54', iid='B00016XMOE', r_ui=2.0, est=4.097313906622035, details={'actual_k': 5, 'was_impossible': False}),\n",
       " Prediction(uid='AKGF27HN0OF19', iid='B000002IRM', r_ui=4.0, est=3.570930461645057, details={'actual_k': 5, 'was_impossible': False}),\n",
       " Prediction(uid='ABMGCDNA0C9ZQ', iid='B00007FGLS', r_ui=4.0, est=5, details={'actual_k': 1, 'was_impossible': False}),\n",
       " Prediction(uid='A334CIVYO3MMXZ', iid='B000002GQE', r_ui=5.0, est=3.740272575401782, details={'actual_k': 4, 'was_impossible': False}),\n",
       " Prediction(uid='A37GLKVQJQP1WZ', iid='B00008H2LB', r_ui=1.0, est=1.0063025210084033, details={'actual_k': 1, 'was_impossible': False}),\n",
       " Prediction(uid='A3SG2M19I4F9WQ', iid='B00006RAKP', r_ui=3.0, est=4.317460317460317, details={'actual_k': 0, 'was_impossible': False}),\n",
       " Prediction(uid='A2F8A91OCBP4BM', iid='B000002OPL', r_ui=5.0, est=4.876939487017301, details={'actual_k': 2, 'was_impossible': False}),\n",
       " Prediction(uid='A2J57EQ9KPGXR9', iid='B0000AGWEC', r_ui=1.0, est=3.183333333333333, details={'actual_k': 0, 'was_impossible': False}),\n",
       " Prediction(uid='A1EJ9BMB058DRV', iid='B000OQF6N6', r_ui=3.0, est=3.675872093023256, details={'actual_k': 1, 'was_impossible': False}),\n",
       " Prediction(uid='A3U3PA6J2XOVFK', iid='B0000029DD', r_ui=3.0, est=4.726138557191393, details={'actual_k': 2, 'was_impossible': False}),\n",
       " Prediction(uid='A265PUDS1OGQYB', iid='B0000024JN', r_ui=5.0, est=4.5476190476190474, details={'actual_k': 0, 'was_impossible': False}),\n",
       " Prediction(uid='A1ODZ7SDUPEGNK', iid='B000002OPL', r_ui=5.0, est=4.113422842591197, details={'actual_k': 5, 'was_impossible': False}),\n",
       " Prediction(uid='A31FNEBGVMJ1OD', iid='B000002NJS', r_ui=5.0, est=4.118620311750131, details={'actual_k': 5, 'was_impossible': False}),\n",
       " Prediction(uid='A5331QMLNRKZH', iid='B0000029AS', r_ui=1.0, est=3.004348557150713, details={'actual_k': 2, 'was_impossible': False}),\n",
       " Prediction(uid='A31K5W6NWK68OA', iid='B0029LHW4U', r_ui=5.0, est=4.142857142857143, details={'actual_k': 0, 'was_impossible': False}),\n",
       " Prediction(uid='A1JRHL29A1ABOT', iid='B000FII324', r_ui=5.0, est=4.808617134121644, details={'actual_k': 5, 'was_impossible': False}),\n",
       " Prediction(uid='A3AL8GQ69QE7WN', iid='B000KCHZK6', r_ui=3.0, est=3.156011432190433, details={'actual_k': 5, 'was_impossible': False}),\n",
       " Prediction(uid='A38OAQMIS8ENZR', iid='B00000JC6C', r_ui=5.0, est=4.620689655172414, details={'actual_k': 0, 'was_impossible': False}),\n",
       " Prediction(uid='ATLO3YXU2BC16', iid='B000001A5X', r_ui=5.0, est=4.168413912185496, details={'was_impossible': True, 'reason': 'User and/or item is unknown.'}),\n",
       " Prediction(uid='A1NS9WO1VACAUN', iid='B000002MFN', r_ui=4.0, est=5, details={'actual_k': 1, 'was_impossible': False}),\n",
       " Prediction(uid='A3T8G3FN3H3948', iid='B00006690F', r_ui=5.0, est=4.167800737434839, details={'actual_k': 3, 'was_impossible': False}),\n",
       " Prediction(uid='A4COPHXKAFGVS', iid='B00004Z41Q', r_ui=4.0, est=4.640909090909091, details={'actual_k': 1, 'was_impossible': False}),\n",
       " Prediction(uid='A3MLPZI029CJ8N', iid='B000021YQV', r_ui=5.0, est=4.168413912185496, details={'was_impossible': True, 'reason': 'User and/or item is unknown.'}),\n",
       " Prediction(uid='A9Q28YTLYREO7', iid='B000BTDMDC', r_ui=2.0, est=2.0889975597773756, details={'actual_k': 5, 'was_impossible': False}),\n",
       " Prediction(uid='A3VXBO4QQX3ZG8', iid='B0012OVF2U', r_ui=5.0, est=4.639729321025188, details={'actual_k': 5, 'was_impossible': False}),\n",
       " Prediction(uid='A2ISWCERAHX20O', iid='B0000028RR', r_ui=5.0, est=4.6534405789411055, details={'actual_k': 2, 'was_impossible': False}),\n",
       " Prediction(uid='A2QS7KCOAR5W3', iid='B0000029AN', r_ui=4.0, est=4.901518637827888, details={'actual_k': 1, 'was_impossible': False}),\n",
       " Prediction(uid='A329PQ0WJOIZL5', iid='B0001XANAS', r_ui=5.0, est=5, details={'actual_k': 1, 'was_impossible': False}),\n",
       " Prediction(uid='A28FNKCGFS03VL', iid='B002DSM8UC', r_ui=4.0, est=3.4593665182948707, details={'actual_k': 3, 'was_impossible': False}),\n",
       " Prediction(uid='A11D1KHM7DVOQK', iid='B0002A2WAO', r_ui=3.0, est=2.523740373036551, details={'actual_k': 4, 'was_impossible': False}),\n",
       " Prediction(uid='AWNKEM8DAG8PY', iid='B00005K9KP', r_ui=4.0, est=4.237232649498036, details={'actual_k': 1, 'was_impossible': False}),\n",
       " Prediction(uid='A2WIFKAM4QIOR4', iid='B000002H72', r_ui=4.0, est=4.854824038090445, details={'actual_k': 3, 'was_impossible': False}),\n",
       " Prediction(uid='A1IEIWUCTWZ59M', iid='B00005QG9J', r_ui=2.0, est=5, details={'actual_k': 2, 'was_impossible': False}),\n",
       " Prediction(uid='A25DYNK7Z6I8YQ', iid='B000002JAI', r_ui=5.0, est=4.135660158509519, details={'actual_k': 2, 'was_impossible': False}),\n",
       " Prediction(uid='AAF8RFWLK6AZD', iid='B00005R8EL', r_ui=1.0, est=1.1802568215677067, details={'actual_k': 2, 'was_impossible': False}),\n",
       " Prediction(uid='A9Q28YTLYREO7', iid='B00005R8EL', r_ui=1.0, est=1.1370328691925158, details={'actual_k': 5, 'was_impossible': False}),\n",
       " Prediction(uid='A24QC50BP3Q4YS', iid='B000069HKH', r_ui=4.0, est=4.469439421338155, details={'actual_k': 1, 'was_impossible': False}),\n",
       " Prediction(uid='A9Q28YTLYREO7', iid='B000002P5W', r_ui=5.0, est=4.988542963787223, details={'actual_k': 5, 'was_impossible': False}),\n",
       " Prediction(uid='ASK9WKJAD7XO', iid='B00006690F', r_ui=1.0, est=4.8910256410256405, details={'actual_k': 1, 'was_impossible': False}),\n",
       " Prediction(uid='A2RZUFRYRHTRS8', iid='B0000C0FKA', r_ui=5.0, est=4.168413912185496, details={'was_impossible': True, 'reason': 'User and/or item is unknown.'}),\n",
       " Prediction(uid='A2E0RW04ZJVR0A', iid='B000002PD8', r_ui=5.0, est=4.825201808417649, details={'actual_k': 2, 'was_impossible': False}),\n",
       " Prediction(uid='A2D8FQ2FJOVQPI', iid='B00005O54Q', r_ui=4.0, est=4.55258338153075, details={'actual_k': 1, 'was_impossible': False}),\n",
       " Prediction(uid='A36CHPMHHD1IO5', iid='B0000CD5FR', r_ui=4.0, est=4.177486099133304, details={'actual_k': 2, 'was_impossible': False}),\n",
       " Prediction(uid='ADAGO3ZTBIS7H', iid='B00004UARR', r_ui=5.0, est=5, details={'actual_k': 1, 'was_impossible': False}),\n",
       " Prediction(uid='AUDSM2CTLLW1Q', iid='B000001EW3', r_ui=1.0, est=4.4178885630498534, details={'actual_k': 1, 'was_impossible': False}),\n",
       " Prediction(uid='ABQ954EU93JRX', iid='B0002X314C', r_ui=5.0, est=4.168413912185496, details={'was_impossible': True, 'reason': 'User and/or item is unknown.'}),\n",
       " Prediction(uid='A2P814DGX3QD1A', iid='B000021YQV', r_ui=5.0, est=2.295433876223733, details={'actual_k': 2, 'was_impossible': False}),\n",
       " Prediction(uid='A2CA36LT9SXGNI', iid='B00000163G', r_ui=5.0, est=5, details={'actual_k': 5, 'was_impossible': False}),\n",
       " Prediction(uid='A5DIAZ5GT3MC', iid='B0000C421G', r_ui=3.0, est=3.6273491970653935, details={'actual_k': 5, 'was_impossible': False}),\n",
       " Prediction(uid='A1C4GK96OO5RB9', iid='B0002PD3HU', r_ui=5.0, est=3.673469387755102, details={'actual_k': 0, 'was_impossible': False}),\n",
       " Prediction(uid='A2CT2SA6KFE8GC', iid='B000002KBB', r_ui=5.0, est=4.168413912185496, details={'was_impossible': True, 'reason': 'User and/or item is unknown.'}),\n",
       " Prediction(uid='A3CSQB7Q90KMAD', iid='B0000DD7LC', r_ui=4.0, est=4.757624337563617, details={'actual_k': 4, 'was_impossible': False}),\n",
       " Prediction(uid='A1EZHHHUFALJUQ', iid='B000002KHB', r_ui=5.0, est=4.801423948220065, details={'actual_k': 1, 'was_impossible': False}),\n",
       " Prediction(uid='A2SFZIE5JOX8F7', iid='B00005O54Q', r_ui=2.0, est=2.830676824803775, details={'actual_k': 3, 'was_impossible': False}),\n",
       " Prediction(uid='AT1J4MGWHVZEG', iid='B00018D5CQ', r_ui=4.0, est=3.6666666666666665, details={'actual_k': 0, 'was_impossible': False}),\n",
       " Prediction(uid='A1BM7TP9L9WDXR', iid='B000N2G3RY', r_ui=4.0, est=4.316831683168317, details={'actual_k': 0, 'was_impossible': False}),\n",
       " Prediction(uid='A1CQ2HLYNVE7TB', iid='B00005K9KP', r_ui=2.0, est=1.6190571158016183, details={'actual_k': 2, 'was_impossible': False}),\n",
       " Prediction(uid='A39WL61420S1T6', iid='B000EU1KRS', r_ui=5.0, est=4.828748181015492, details={'actual_k': 4, 'was_impossible': False}),\n",
       " Prediction(uid='A1FML9FCUPV6TI', iid='B000BNTM32', r_ui=5.0, est=4.4018162783748425, details={'actual_k': 5, 'was_impossible': False}),\n",
       " Prediction(uid='A3HOMQCJ2SFZ2', iid='B000075A20', r_ui=3.0, est=3.448712850837168, details={'actual_k': 5, 'was_impossible': False}),\n",
       " Prediction(uid='A3RNW03XLUD5UI', iid='B00005QDVS', r_ui=5.0, est=3.4398268807367205, details={'actual_k': 2, 'was_impossible': False}),\n",
       " Prediction(uid='A2KUYFHOO69XUT', iid='B000084T18', r_ui=5.0, est=4.168413912185496, details={'was_impossible': True, 'reason': 'User and/or item is unknown.'}),\n",
       " Prediction(uid='AL8IDHJPCE00K', iid='B000H0MKGK', r_ui=5.0, est=5, details={'actual_k': 4, 'was_impossible': False}),\n",
       " Prediction(uid='A2EONRA9TLDADW', iid='B00005O54Q', r_ui=5.0, est=4.363919453869977, details={'actual_k': 3, 'was_impossible': False}),\n",
       " Prediction(uid='A34Y1FT0MTD7C9', iid='B000001EGE', r_ui=4.0, est=4.779066729128945, details={'actual_k': 5, 'was_impossible': False}),\n",
       " Prediction(uid='ATLZNVLYKP9AZ', iid='B004K4AUZW', r_ui=3.0, est=4.277911164465786, details={'actual_k': 1, 'was_impossible': False}),\n",
       " Prediction(uid='A35GNQK1DC7WXU', iid='B00004XOWM', r_ui=2.0, est=2.8787736950687854, details={'actual_k': 3, 'was_impossible': False}),\n",
       " Prediction(uid='A3KKPVZ2EQQLAB', iid='B00014TQ7S', r_ui=4.0, est=4.8748647186147185, details={'actual_k': 1, 'was_impossible': False}),\n",
       " Prediction(uid='A1BGCOJQPGZTIW', iid='B000001EGE', r_ui=4.0, est=3.2681818181818185, details={'actual_k': 1, 'was_impossible': False}),\n",
       " Prediction(uid='A39NS429FYXAD1', iid='B00005YW4H', r_ui=5.0, est=4.737463747113716, details={'actual_k': 2, 'was_impossible': False}),\n",
       " Prediction(uid='A15AAI0BLM17CZ', iid='B0007NFL18', r_ui=3.0, est=1.4931784170139977, details={'actual_k': 2, 'was_impossible': False}),\n",
       " Prediction(uid='A61V9CDWK2RQN', iid='B0000C421G', r_ui=5.0, est=4.192502575942713, details={'actual_k': 3, 'was_impossible': False}),\n",
       " Prediction(uid='A31HTN51QNSQ3F', iid='B000001A5X', r_ui=5.0, est=5, details={'actual_k': 5, 'was_impossible': False}),\n",
       " Prediction(uid='A1BQOPKHRU5M8F', iid='B0000039Q3', r_ui=5.0, est=5, details={'actual_k': 4, 'was_impossible': False}),\n",
       " Prediction(uid='A1U2T71CDVKFRH', iid='B00005YW4H', r_ui=5.0, est=3.744601140249909, details={'actual_k': 3, 'was_impossible': False}),\n",
       " Prediction(uid='A92F571Y9MTW6', iid='B0012OVF2U', r_ui=4.0, est=4.538654934003771, details={'actual_k': 1, 'was_impossible': False}),\n",
       " Prediction(uid='AJJYB8VYH43PB', iid='B0000AQS1A', r_ui=4.0, est=3.492684340141967, details={'actual_k': 1, 'was_impossible': False}),\n",
       " Prediction(uid='A1FPFWDC1ASYNJ', iid='B000002LFZ', r_ui=4.0, est=4.4523809523809526, details={'actual_k': 0, 'was_impossible': False}),\n",
       " Prediction(uid='A1ZDDLHFSUGILJ', iid='B000001FAO', r_ui=1.0, est=2.5048949427478804, details={'actual_k': 2, 'was_impossible': False}),\n",
       " Prediction(uid='A8IFUOL8S9BZC', iid='B0007TX894', r_ui=3.0, est=3.537698034822185, details={'actual_k': 5, 'was_impossible': False}),\n",
       " Prediction(uid='A19FAQLQEKN54F', iid='B000MTPAGI', r_ui=4.0, est=3.3603311407791785, details={'actual_k': 4, 'was_impossible': False}),\n",
       " Prediction(uid='AIWPVV1HQKIX5', iid='B000H0MKGK', r_ui=5.0, est=5, details={'actual_k': 2, 'was_impossible': False}),\n",
       " Prediction(uid='A9Q28YTLYREO7', iid='B0000DD7LC', r_ui=2.0, est=2.037478099745425, details={'actual_k': 5, 'was_impossible': False}),\n",
       " Prediction(uid='A35IG09XMSZRNM', iid='B0009SCVTG', r_ui=1.0, est=2.8474106654811675, details={'actual_k': 5, 'was_impossible': False}),\n",
       " Prediction(uid='A3GS5WAQVO4CFB', iid='B000001FAO', r_ui=5.0, est=4.886472484728671, details={'actual_k': 4, 'was_impossible': False}),\n",
       " Prediction(uid='APTE2PQ5P8FK4', iid='B0000013GT', r_ui=5.0, est=5, details={'actual_k': 1, 'was_impossible': False}),\n",
       " Prediction(uid='A14XWAHMBDAC7N', iid='B000023VR6', r_ui=5.0, est=4.517842307819925, details={'actual_k': 3, 'was_impossible': False}),\n",
       " Prediction(uid='A200C7YQJ45LRR', iid='B000E0OEQC', r_ui=3.0, est=4.218679345833235, details={'actual_k': 5, 'was_impossible': False}),\n",
       " Prediction(uid='ABS3C0BMVW7RK', iid='B00005YW4H', r_ui=1.0, est=3.754060417554725, details={'actual_k': 5, 'was_impossible': False}),\n",
       " Prediction(uid='A38U2M9OAEJAXJ', iid='B00006JO3X', r_ui=4.0, est=3.4575872882474306, details={'actual_k': 5, 'was_impossible': False}),\n",
       " Prediction(uid='AY84BQK3EMJ4S', iid='B0000025BA', r_ui=5.0, est=5, details={'actual_k': 2, 'was_impossible': False}),\n",
       " Prediction(uid='A1AXGJVCJNI9BX', iid='B000MTPAGI', r_ui=5.0, est=4.326025459688825, details={'actual_k': 1, 'was_impossible': False}),\n",
       " Prediction(uid='A3CTDY0RAU6Q7R', iid='B0009SCVTG', r_ui=4.0, est=4.153605255438936, details={'actual_k': 3, 'was_impossible': False}),\n",
       " Prediction(uid='A2J57EQ9KPGXR9', iid='B00000IAU3', r_ui=4.0, est=1.3388235294117647, details={'actual_k': 1, 'was_impossible': False}),\n",
       " Prediction(uid='A1S7XY5QNDOZXB', iid='B00005QG9J', r_ui=4.0, est=3.872859025032938, details={'actual_k': 1, 'was_impossible': False}),\n",
       " Prediction(uid='AWME8X11GSDM', iid='B00004T9UF', r_ui=5.0, est=4.725268065514858, details={'actual_k': 5, 'was_impossible': False}),\n",
       " Prediction(uid='A27950GV5XJ1T5', iid='B00003002C', r_ui=5.0, est=4.961657751765681, details={'actual_k': 5, 'was_impossible': False}),\n",
       " Prediction(uid='AJAF1T6Q7XM94', iid='B00000253N', r_ui=5.0, est=3.8667262969588556, details={'actual_k': 1, 'was_impossible': False}),\n",
       " Prediction(uid='A1SX8V30IP3NFP', iid='B000023VR6', r_ui=5.0, est=4.958963162236157, details={'actual_k': 5, 'was_impossible': False}),\n",
       " Prediction(uid='A25KDGSE2EVYXY', iid='B000003TAW', r_ui=4.0, est=4.073811442385173, details={'actual_k': 1, 'was_impossible': False}),\n",
       " Prediction(uid='A1A4EH7P1UI0RZ', iid='B00005AAFJ', r_ui=4.0, est=2.7978079422151927, details={'actual_k': 5, 'was_impossible': False}),\n",
       " Prediction(uid='A46QAWODGERF3', iid='B000001FAO', r_ui=5.0, est=4.89656381486676, details={'actual_k': 1, 'was_impossible': False}),\n",
       " Prediction(uid='A16N6KIMCAP5LM', iid='B00065XJ52', r_ui=2.0, est=3.2248176516634532, details={'actual_k': 5, 'was_impossible': False}),\n",
       " Prediction(uid='AAHSKX20RK4Y2', iid='B000FVQYYK', r_ui=4.0, est=2.125, details={'actual_k': 1, 'was_impossible': False}),\n",
       " Prediction(uid='ABEJ92E69HCIN', iid='B00000163G', r_ui=5.0, est=1.6658829676071054, details={'actual_k': 1, 'was_impossible': False}),\n",
       " Prediction(uid='A2SII0KRYFSOT0', iid='B00009V7T2', r_ui=5.0, est=4.464285714285714, details={'actual_k': 0, 'was_impossible': False}),\n",
       " Prediction(uid='A3QAV7LALVG1F7', iid='B00000272N', r_ui=5.0, est=4.895882352941177, details={'actual_k': 1, 'was_impossible': False}),\n",
       " Prediction(uid='AZKXH0J59TK11', iid='B00097A5H2', r_ui=4.0, est=3.702155186447107, details={'actual_k': 2, 'was_impossible': False}),\n",
       " Prediction(uid='AK9BXHEXOOM6Z', iid='B003V5PPZG', r_ui=5.0, est=4.168413912185496, details={'was_impossible': True, 'reason': 'User and/or item is unknown.'}),\n",
       " Prediction(uid='A3O90G1D7I5EGG', iid='B000001FAO', r_ui=4.0, est=4.928260089177806, details={'actual_k': 2, 'was_impossible': False}),\n",
       " Prediction(uid='A34Y1FT0MTD7C9', iid='B00000J7JO', r_ui=5.0, est=4.88541843984254, details={'actual_k': 5, 'was_impossible': False}),\n",
       " Prediction(uid='A1XY7JL7CM85UU', iid='B00000016W', r_ui=5.0, est=4.663265306122449, details={'actual_k': 0, 'was_impossible': False}),\n",
       " Prediction(uid='A368DRBN6ZJUA3', iid='B0000AGWFA', r_ui=4.0, est=4.003808222961064, details={'actual_k': 4, 'was_impossible': False}),\n",
       " Prediction(uid='AG0GA77A5VDZ1', iid='B000001F60', r_ui=4.0, est=4.168413912185496, details={'was_impossible': True, 'reason': 'User and/or item is unknown.'}),\n",
       " Prediction(uid='A173EIKGFCYD2A', iid='B000BLI4UG', r_ui=2.0, est=4.056550298929844, details={'actual_k': 4, 'was_impossible': False}),\n",
       " Prediction(uid='A1KBQK0AHXY9PE', iid='B000AU1NZQ', r_ui=3.0, est=4.168413912185496, details={'was_impossible': True, 'reason': 'User and/or item is unknown.'}),\n",
       " Prediction(uid='A1YPM4GCO8I1W1', iid='B00006690F', r_ui=5.0, est=4.929110418576699, details={'actual_k': 2, 'was_impossible': False}),\n",
       " Prediction(uid='A15TNUM2PBS6F0', iid='B00004Z41Q', r_ui=1.0, est=3.2394977168949772, details={'actual_k': 1, 'was_impossible': False}),\n",
       " Prediction(uid='A2S9PZCNEJEF3Y', iid='B00018D44U', r_ui=5.0, est=3.84375, details={'actual_k': 0, 'was_impossible': False}),\n",
       " Prediction(uid='A2NQUGGYM0DBM1', iid='B000001DZO', r_ui=4.0, est=4.689750215670515, details={'actual_k': 3, 'was_impossible': False}),\n",
       " Prediction(uid='A2TAPL67U2A5HM', iid='B00005NZDW', r_ui=4.0, est=4.52374839256827, details={'actual_k': 5, 'was_impossible': False}),\n",
       " Prediction(uid='A28OGM5C71B1XD', iid='B000001EGC', r_ui=4.0, est=4.72875531537726, details={'actual_k': 2, 'was_impossible': False}),\n",
       " Prediction(uid='A3DO6JL97Y6DRY', iid='B00002MZ4W', r_ui=5.0, est=4.377049180327869, details={'actual_k': 0, 'was_impossible': False}),\n",
       " Prediction(uid='AY12DBB0U420B', iid='B000002L7G', r_ui=5.0, est=4.942372881355933, details={'actual_k': 1, 'was_impossible': False}),\n",
       " Prediction(uid='A3H9YKO0XTLOJA', iid='B00005O54Q', r_ui=5.0, est=4.443609022556391, details={'actual_k': 0, 'was_impossible': False}),\n",
       " Prediction(uid='A7JRDNX3WOMTR', iid='B000002JAI', r_ui=5.0, est=3.70914192754164, details={'actual_k': 3, 'was_impossible': False}),\n",
       " Prediction(uid='A2T63WOOW6XV6U', iid='B000002IOW', r_ui=5.0, est=4.277087929963729, details={'actual_k': 5, 'was_impossible': False}),\n",
       " Prediction(uid='A1GY0FJOL6I37K', iid='B0001Z53AQ', r_ui=5.0, est=4.7925606877667395, details={'actual_k': 2, 'was_impossible': False}),\n",
       " Prediction(uid='A3L367ULSWBF0T', iid='B00008J4P5', r_ui=5.0, est=5, details={'actual_k': 1, 'was_impossible': False}),\n",
       " Prediction(uid='A3LZBOBV9H1HDV', iid='B0029LHW4U', r_ui=5.0, est=4.142857142857143, details={'actual_k': 0, 'was_impossible': False}),\n",
       " Prediction(uid='A1SCJWCMQ3W3KK', iid='B00005YW4H', r_ui=4.0, est=5, details={'actual_k': 2, 'was_impossible': False}),\n",
       " Prediction(uid='A1YR4OM2QLQ1LY', iid='B0000AGWFX', r_ui=3.0, est=4.582512916327616, details={'actual_k': 3, 'was_impossible': False}),\n",
       " Prediction(uid='ARQFTZQ8Q6HU1', iid='B000075A20', r_ui=4.0, est=4.607241857241857, details={'actual_k': 1, 'was_impossible': False}),\n",
       " Prediction(uid='A13B2GPGMPM9YW', iid='B00004YKUI', r_ui=5.0, est=4.037567123477509, details={'actual_k': 2, 'was_impossible': False}),\n",
       " Prediction(uid='A4622J2IA15MN', iid='B00006JO3X', r_ui=5.0, est=4.2682926829268295, details={'actual_k': 0, 'was_impossible': False}),\n",
       " Prediction(uid='AASC4QCTCFSU', iid='B000001FZ6', r_ui=4.0, est=4.168413912185496, details={'was_impossible': True, 'reason': 'User and/or item is unknown.'}),\n",
       " Prediction(uid='A1B1MM0QO766OL', iid='B00064X2QY', r_ui=4.0, est=3.6545396148945204, details={'actual_k': 2, 'was_impossible': False}),\n",
       " Prediction(uid='A3G1ATNDU80KAE', iid='B000002J88', r_ui=5.0, est=5, details={'actual_k': 4, 'was_impossible': False}),\n",
       " Prediction(uid='A2CA36LT9SXGNI', iid='B0002IQHBQ', r_ui=5.0, est=5, details={'actual_k': 5, 'was_impossible': False}),\n",
       " Prediction(uid='A2ENSVE94K8BW4', iid='B000003B6J', r_ui=5.0, est=4.295179233202955, details={'actual_k': 2, 'was_impossible': False}),\n",
       " Prediction(uid='A1X1S1TUPEYVL', iid='B000KCHZK6', r_ui=3.0, est=2.6348254273506666, details={'actual_k': 2, 'was_impossible': False}),\n",
       " Prediction(uid='A1C00UIP3SL7L3', iid='B00000163G', r_ui=5.0, est=4.734848484848484, details={'actual_k': 0, 'was_impossible': False}),\n",
       " Prediction(uid='A3JMA8TT506H5I', iid='B005QJZ5FA', r_ui=5.0, est=4.26530612244898, details={'actual_k': 0, 'was_impossible': False}),\n",
       " Prediction(uid='A3DYC9OZPN0JO7', iid='B000003AEK', r_ui=5.0, est=5, details={'actual_k': 1, 'was_impossible': False}),\n",
       " Prediction(uid='A13A4JYA8PEVGH', iid='B0000BWVLM', r_ui=3.0, est=4.276205528691334, details={'actual_k': 3, 'was_impossible': False}),\n",
       " Prediction(uid='A1UBI33V4MVNKN', iid='B00096S3PY', r_ui=4.0, est=4.005797149089185, details={'actual_k': 2, 'was_impossible': False}),\n",
       " Prediction(uid='A16HWG8TOURTGN', iid='B00097A5H2', r_ui=5.0, est=2.794453968776415, details={'actual_k': 2, 'was_impossible': False}),\n",
       " Prediction(uid='ANO3SFVMNVNRV', iid='B00064X2QY', r_ui=5.0, est=1.3511246664125047, details={'actual_k': 1, 'was_impossible': False}),\n",
       " Prediction(uid='A2ID4IRSPV8ONE', iid='B000084T18', r_ui=1.0, est=1, details={'actual_k': 1, 'was_impossible': False}),\n",
       " Prediction(uid='A3R8PXSFGY9MC2', iid='B000067CPX', r_ui=5.0, est=4.740047497897311, details={'actual_k': 5, 'was_impossible': False}),\n",
       " Prediction(uid='A2AOZQ3WTNVVOK', iid='B0000CD5FR', r_ui=5.0, est=4.943513774093797, details={'actual_k': 5, 'was_impossible': False}),\n",
       " Prediction(uid='A3NHJ4F4W1HLFX', iid='B00000269M', r_ui=5.0, est=2.067619047619047, details={'actual_k': 1, 'was_impossible': False}),\n",
       " Prediction(uid='A103W7ZPKGOCC9', iid='B00000ADG2', r_ui=5.0, est=5, details={'actual_k': 2, 'was_impossible': False}),\n",
       " Prediction(uid='A2L3WEVFOCA7OY', iid='B00000FCBH', r_ui=5.0, est=5, details={'actual_k': 5, 'was_impossible': False}),\n",
       " Prediction(uid='A3KG9S1Y2NH6X3', iid='B000084T18', r_ui=4.0, est=4.129682275960156, details={'actual_k': 2, 'was_impossible': False}),\n",
       " Prediction(uid='A3C6CZC2JP67VK', iid='B00003IE26', r_ui=5.0, est=4.256833530320373, details={'actual_k': 5, 'was_impossible': False}),\n",
       " Prediction(uid='AZ4VKFF136FKR', iid='B00003002C', r_ui=5.0, est=2.256450216450216, details={'actual_k': 1, 'was_impossible': False}),\n",
       " Prediction(uid='A25NMMI7AH30W2', iid='B0000634ID', r_ui=5.0, est=4.348847127944766, details={'actual_k': 2, 'was_impossible': False}),\n",
       " Prediction(uid='A1VWRH8ALP6VF2', iid='B00000JC6C', r_ui=2.0, est=4.903042596348884, details={'actual_k': 1, 'was_impossible': False}),\n",
       " Prediction(uid='A1T7FLJIWFU243', iid='B000001EGA', r_ui=5.0, est=5, details={'actual_k': 3, 'was_impossible': False}),\n",
       " Prediction(uid='A1TU5537LJ9MNA', iid='B0000AGWFX', r_ui=5.0, est=4.033783783783784, details={'actual_k': 0, 'was_impossible': False}),\n",
       " Prediction(uid='A2IE6O20UDTA8W', iid='B00000163G', r_ui=3.0, est=5, details={'actual_k': 2, 'was_impossible': False}),\n",
       " Prediction(uid='A3DRRO1I5MO0MZ', iid='B00006690F', r_ui=1.0, est=1.6252744538431965, details={'actual_k': 2, 'was_impossible': False}),\n",
       " Prediction(uid='A2DH36M3SS3ZNX', iid='B000002IRM', r_ui=3.0, est=4.459519090761244, details={'actual_k': 5, 'was_impossible': False}),\n",
       " Prediction(uid='AXPYGNIC5ZIXS', iid='B000035X1M', r_ui=4.0, est=4.55254447087661, details={'actual_k': 3, 'was_impossible': False}),\n",
       " Prediction(uid='A12R54MKO17TW0', iid='B00000ADG2', r_ui=5.0, est=4.9309375924282755, details={'actual_k': 1, 'was_impossible': False}),\n",
       " Prediction(uid='AVSIE8TU2GG2D', iid='B0000013GH', r_ui=5.0, est=4.388888888888889, details={'actual_k': 0, 'was_impossible': False}),\n",
       " Prediction(uid='A2LFLKFE3B0PSA', iid='B00006ZCFJ', r_ui=1.0, est=2.3210143885459664, details={'actual_k': 2, 'was_impossible': False}),\n",
       " Prediction(uid='A5CNA6W82FJTP', iid='B00003IE26', r_ui=5.0, est=4.168413912185496, details={'was_impossible': True, 'reason': 'User and/or item is unknown.'}),\n",
       " Prediction(uid='A2U74MULH75E3K', iid='B0000C421G', r_ui=4.0, est=3.74, details={'actual_k': 0, 'was_impossible': False}),\n",
       " Prediction(uid='A1AMVA4R3G58TV', iid='B000002BE9', r_ui=5.0, est=5, details={'actual_k': 5, 'was_impossible': False}),\n",
       " Prediction(uid='AJK5WHV1GW941', iid='B00192M9FC', r_ui=3.0, est=2.914853323863114, details={'actual_k': 5, 'was_impossible': False}),\n",
       " Prediction(uid='A29ZCVZWIWZBCH', iid='B000H7JDVI', r_ui=5.0, est=4.431700558657414, details={'actual_k': 4, 'was_impossible': False}),\n",
       " Prediction(uid='A1BJJVV2B5VLUQ', iid='B0000029AN', r_ui=4.0, est=5, details={'actual_k': 5, 'was_impossible': False}),\n",
       " Prediction(uid='A280XKGM4KT0KN', iid='B000002UCL', r_ui=5.0, est=4.782280340379441, details={'actual_k': 2, 'was_impossible': False}),\n",
       " Prediction(uid='A17QYYGT3C1EPT', iid='B00004T9UF', r_ui=3.0, est=4.168413912185496, details={'was_impossible': True, 'reason': 'User and/or item is unknown.'}),\n",
       " Prediction(uid='A2J1ZM6TLE80ZE', iid='B0009SCVTG', r_ui=1.0, est=1, details={'actual_k': 1, 'was_impossible': False}),\n",
       " Prediction(uid='A1OJQAJ16T36VJ', iid='B0007NFL18', r_ui=1.0, est=1.5363551581142456, details={'actual_k': 5, 'was_impossible': False}),\n",
       " Prediction(uid='A1SPKFZ3BBCS6J', iid='B000084T18', r_ui=5.0, est=4.35787037037037, details={'actual_k': 1, 'was_impossible': False}),\n",
       " Prediction(uid='A33CKO3B7NZFGP', iid='B000002KNO', r_ui=2.0, est=4.2490517945840525, details={'actual_k': 2, 'was_impossible': False}),\n",
       " Prediction(uid='A14F106N1M9AAQ', iid='B00004XOWM', r_ui=2.0, est=1.7028985507246377, details={'actual_k': 1, 'was_impossible': False}),\n",
       " Prediction(uid='A24P8BEJ26FU01', iid='B0000646TK', r_ui=4.0, est=3.2143170964518095, details={'actual_k': 3, 'was_impossible': False}),\n",
       " Prediction(uid='A2UX5ABICURKL5', iid='B000002KZR', r_ui=5.0, est=5, details={'actual_k': 3, 'was_impossible': False}),\n",
       " Prediction(uid='A22HN0VTP9TCLJ', iid='B000E0OEQC', r_ui=5.0, est=4.953416149068323, details={'actual_k': 1, 'was_impossible': False}),\n",
       " Prediction(uid='A2HJT5T0TCMH66', iid='B000002IT2', r_ui=5.0, est=3.400707338638373, details={'actual_k': 1, 'was_impossible': False}),\n",
       " Prediction(uid='ASQYKF06G1DRX', iid='B00000163G', r_ui=5.0, est=4.734848484848484, details={'actual_k': 0, 'was_impossible': False}),\n",
       " Prediction(uid='A11ZPFSJAY25AZ', iid='B00097A5H2', r_ui=4.0, est=4.033440905056718, details={'actual_k': 2, 'was_impossible': False}),\n",
       " Prediction(uid='A276M3NSIY9B82', iid='B000002UCL', r_ui=5.0, est=4.498664617011068, details={'actual_k': 5, 'was_impossible': False}),\n",
       " Prediction(uid='A31U2QT7SAL7K', iid='B004D1GZ2E', r_ui=5.0, est=4.977671904975486, details={'actual_k': 4, 'was_impossible': False}),\n",
       " Prediction(uid='AE42JLYPXUI45', iid='B000197KVW', r_ui=5.0, est=4.42942942942943, details={'actual_k': 1, 'was_impossible': False}),\n",
       " Prediction(uid='ADCFUY7WTZA6A', iid='B000E97HB2', r_ui=5.0, est=4.4478795639644275, details={'actual_k': 5, 'was_impossible': False}),\n",
       " Prediction(uid='A1NF2Y5WSC4KM8', iid='B00000253N', r_ui=5.0, est=4.674418604651163, details={'actual_k': 0, 'was_impossible': False}),\n",
       " Prediction(uid='A2NM7XHKWUZ1RH', iid='B000003B7W', r_ui=5.0, est=4.7976190476190474, details={'actual_k': 1, 'was_impossible': False}),\n",
       " Prediction(uid='A3M3NKD8W44H5J', iid='B00005K9KP', r_ui=3.0, est=4.852293396707068, details={'actual_k': 2, 'was_impossible': False}),\n",
       " Prediction(uid='A35JEQUI9O2G82', iid='B0009SCVTG', r_ui=2.0, est=1.6370852907375864, details={'actual_k': 4, 'was_impossible': False}),\n",
       " Prediction(uid='A3TSPLFYU2UMW0', iid='B000001FAO', r_ui=5.0, est=4.770785659801678, details={'actual_k': 1, 'was_impossible': False}),\n",
       " Prediction(uid='A30Z0RCM2PV86I', iid='B0002X314C', r_ui=4.0, est=2.815642363277784, details={'actual_k': 2, 'was_impossible': False}),\n",
       " Prediction(uid='A2R1HAXRNU0QX7', iid='B000002IWQ', r_ui=4.0, est=4.950652403171496, details={'actual_k': 2, 'was_impossible': False}),\n",
       " Prediction(uid='A39XGSL1OGDVDE', iid='B00006690F', r_ui=5.0, est=4.244708614975621, details={'actual_k': 4, 'was_impossible': False}),\n",
       " Prediction(uid='AXSHUZ5PVL8QW', iid='B000002GQE', r_ui=1.0, est=4.168413912185496, details={'was_impossible': True, 'reason': 'User and/or item is unknown.'}),\n",
       " Prediction(uid='A1LM8CT7J2JX1J', iid='B000002J88', r_ui=5.0, est=4.200341584840495, details={'actual_k': 4, 'was_impossible': False}),\n",
       " Prediction(uid='A3JLOIXFM75QNV', iid='B004K4AUZW', r_ui=4.0, est=3.9411764705882355, details={'actual_k': 0, 'was_impossible': False}),\n",
       " Prediction(uid='AMU5Q7KBXFTHF', iid='B000059MEK', r_ui=5.0, est=4.168413912185496, details={'was_impossible': True, 'reason': 'User and/or item is unknown.'}),\n",
       " Prediction(uid='A1VL282XIRMEEQ', iid='B003WTE886', r_ui=3.0, est=4.25, details={'actual_k': 0, 'was_impossible': False}),\n",
       " Prediction(uid='A8KW38D8PQ2AV', iid='B000003B6J', r_ui=5.0, est=4.811224489795919, details={'actual_k': 1, 'was_impossible': False}),\n",
       " Prediction(uid='A2U1NZ6AM5RULE', iid='B00004X0Q0', r_ui=5.0, est=3.7619047619047623, details={'actual_k': 1, 'was_impossible': False}),\n",
       " Prediction(uid='A28QMIV3V0NJYL', iid='B000067CPX', r_ui=4.0, est=4.1466666666666665, details={'actual_k': 0, 'was_impossible': False}),\n",
       " Prediction(uid='A1IDNJ1Y42GMLS', iid='B00000IAU3', r_ui=4.0, est=5, details={'actual_k': 1, 'was_impossible': False}),\n",
       " Prediction(uid='A1H01RWBDCBAI7', iid='B000067CPX', r_ui=5.0, est=5, details={'actual_k': 1, 'was_impossible': False}),\n",
       " Prediction(uid='A2Y1SCM930PZI7', iid='B00005R8EL', r_ui=2.0, est=3.981132075471698, details={'actual_k': 0, 'was_impossible': False}),\n",
       " Prediction(uid='A3TTVG02EPNELJ', iid='B0001Z53AQ', r_ui=3.0, est=2.6800541574451056, details={'actual_k': 4, 'was_impossible': False}),\n",
       " Prediction(uid='A37T9RGKM9RF37', iid='B0000646TK', r_ui=3.0, est=3.1518215707808515, details={'actual_k': 4, 'was_impossible': False}),\n",
       " Prediction(uid='A3LPQAPU2ILDD0', iid='B000002GQE', r_ui=5.0, est=4.645833333333333, details={'actual_k': 0, 'was_impossible': False}),\n",
       " Prediction(uid='A1QGB9XTR7KCZU', iid='B000001F66', r_ui=4.0, est=4.168413912185496, details={'was_impossible': True, 'reason': 'User and/or item is unknown.'}),\n",
       " Prediction(uid='A2AOZQ3WTNVVOK', iid='B000AL730O', r_ui=5.0, est=4.391304347826087, details={'actual_k': 1, 'was_impossible': False}),\n",
       " Prediction(uid='A2M5NJCO91XRP1', iid='B000001F66', r_ui=5.0, est=4.943910256410256, details={'actual_k': 1, 'was_impossible': False}),\n",
       " Prediction(uid='A3HU0B9XUEVHIM', iid='B000002PD8', r_ui=5.0, est=4.620910356101043, details={'actual_k': 5, 'was_impossible': False}),\n",
       " Prediction(uid='ACQT14ZN20YQY', iid='B00000D9TQ', r_ui=5.0, est=4.168413912185496, details={'was_impossible': True, 'reason': 'User and/or item is unknown.'}),\n",
       " Prediction(uid='A186TO26DHOCH6', iid='B000023VR6', r_ui=1.0, est=2.1021138552354843, details={'actual_k': 5, 'was_impossible': False}),\n",
       " Prediction(uid='A3DI391K4GAI7Q', iid='B00002MZ4W', r_ui=5.0, est=4.843715846994535, details={'actual_k': 1, 'was_impossible': False}),\n",
       " Prediction(uid='A3GKOMCQTTWPUI', iid='B000031XCY', r_ui=4.0, est=3.8189890526187336, details={'actual_k': 5, 'was_impossible': False}),\n",
       " Prediction(uid='A2Z83T6WL8EHHA', iid='B000BGR18W', r_ui=5.0, est=4.855331210066134, details={'actual_k': 2, 'was_impossible': False}),\n",
       " Prediction(uid='A3FBGZ4E6KGIW2', iid='B00008J4P5', r_ui=1.0, est=3.8361872487267092, details={'actual_k': 5, 'was_impossible': False}),\n",
       " Prediction(uid='A1EYSN1T55SV7U', iid='B000002LQR', r_ui=5.0, est=5, details={'actual_k': 3, 'was_impossible': False}),\n",
       " Prediction(uid='A1M8AYAL3L8ACP', iid='B000002VT6', r_ui=2.0, est=2.4611167857317726, details={'actual_k': 4, 'was_impossible': False}),\n",
       " Prediction(uid='A103KNDW8GN92L', iid='B000001EGC', r_ui=5.0, est=4.75508541106052, details={'actual_k': 2, 'was_impossible': False}),\n",
       " Prediction(uid='A2GJDOQL63SDM7', iid='B00018D5CQ', r_ui=3.0, est=4.327498680280352, details={'actual_k': 4, 'was_impossible': False}),\n",
       " Prediction(uid='A1BBT9XLKQDV81', iid='B000BGR18W', r_ui=4.0, est=4.1353564855648965, details={'actual_k': 2, 'was_impossible': False}),\n",
       " Prediction(uid='A1AISPOIIHTHXX', iid='B00008VOQM', r_ui=4.0, est=3.5531914893617023, details={'actual_k': 0, 'was_impossible': False}),\n",
       " Prediction(uid='A3G10NPD661EQD', iid='B000002KH3', r_ui=5.0, est=5, details={'actual_k': 3, 'was_impossible': False}),\n",
       " Prediction(uid='A38P3F25AA6VDX', iid='B0000025RI', r_ui=5.0, est=4.168413912185496, details={'was_impossible': True, 'reason': 'User and/or item is unknown.'}),\n",
       " Prediction(uid='A1GY0FJOL6I37K', iid='B0000BWVLM', r_ui=5.0, est=4.5939284752961775, details={'actual_k': 2, 'was_impossible': False}),\n",
       " Prediction(uid='A1HY4CVW8K1QFQ', iid='B00004T9UF', r_ui=5.0, est=4.592508901837765, details={'actual_k': 5, 'was_impossible': False}),\n",
       " Prediction(uid='A2UXKWVHJ0JSHN', iid='B000BLI4UG', r_ui=5.0, est=4.505068534880044, details={'actual_k': 5, 'was_impossible': False}),\n",
       " Prediction(uid='AAB5UJPDLDL8Y', iid='B000002UCL', r_ui=5.0, est=4.168413912185496, details={'was_impossible': True, 'reason': 'User and/or item is unknown.'}),\n",
       " Prediction(uid='A33TRNCQK4IUO7', iid='B0000AKOMI', r_ui=4.0, est=4.429947867892976, details={'actual_k': 3, 'was_impossible': False}),\n",
       " Prediction(uid='A13EHGWL2EFJOD', iid='B000003AEK', r_ui=5.0, est=4.898463871578481, details={'actual_k': 2, 'was_impossible': False}),\n",
       " Prediction(uid='A3NY5JFGYCD6JB', iid='B000UMQDHC', r_ui=5.0, est=2.127272727272727, details={'actual_k': 1, 'was_impossible': False}),\n",
       " Prediction(uid='A1H5E7O5BW2J13', iid='B004K4AUZW', r_ui=1.0, est=4.463424257075805, details={'actual_k': 2, 'was_impossible': False}),\n",
       " Prediction(uid='A1ZFWU0DQCPKIJ', iid='B000002LGQ', r_ui=4.0, est=4.670588235294118, details={'actual_k': 0, 'was_impossible': False}),\n",
       " Prediction(uid='A1NP9X56O2MNLV', iid='B00016XMOE', r_ui=5.0, est=4.228218004398495, details={'actual_k': 5, 'was_impossible': False}),\n",
       " Prediction(uid='A3HJSPGJGVC1QK', iid='B0000646TK', r_ui=3.0, est=4.421479066396916, details={'actual_k': 2, 'was_impossible': False}),\n",
       " Prediction(uid='A1IANEBSMVGHS9', iid='B000006045', r_ui=5.0, est=5, details={'actual_k': 5, 'was_impossible': False}),\n",
       " Prediction(uid='AE5H0OUVCPOGR', iid='B00003002C', r_ui=4.0, est=4.569013556690713, details={'actual_k': 2, 'was_impossible': False}),\n",
       " Prediction(uid='A2QQ5O2TFZPTIH', iid='B0000AQS1A', r_ui=4.0, est=3.69397388099101, details={'actual_k': 5, 'was_impossible': False}),\n",
       " Prediction(uid='A3DL686B8JEM8A', iid='B0000029AP', r_ui=5.0, est=4.799841353781068, details={'actual_k': 1, 'was_impossible': False}),\n",
       " Prediction(uid='A1XJ2XSG4W96K8', iid='B00008J4P5', r_ui=4.0, est=2.23967920330172, details={'actual_k': 5, 'was_impossible': False}),\n",
       " Prediction(uid='A33ADGP37RNHO0', iid='B00005YW4H', r_ui=3.0, est=1, details={'actual_k': 1, 'was_impossible': False}),\n",
       " Prediction(uid='A2LR32KJUKWW4N', iid='B000OYC3J8', r_ui=1.0, est=1.1925676155278824, details={'actual_k': 3, 'was_impossible': False}),\n",
       " Prediction(uid='A3CYQJWZ2FBTAP', iid='B00004YKUI', r_ui=5.0, est=5, details={'actual_k': 1, 'was_impossible': False}),\n",
       " Prediction(uid='A2ZVERVFM25MJT', iid='B000002NJS', r_ui=5.0, est=5, details={'actual_k': 1, 'was_impossible': False}),\n",
       " Prediction(uid='A11H85UYL2R4KX', iid='B00005R8EL', r_ui=5.0, est=3.5185710880445553, details={'actual_k': 5, 'was_impossible': False}),\n",
       " Prediction(uid='AV0OBG2SS1I1R', iid='B000006045', r_ui=5.0, est=5, details={'actual_k': 1, 'was_impossible': False}),\n",
       " Prediction(uid='A3S4EAEXYDG7SB', iid='B000002AP1', r_ui=5.0, est=4.345454545454546, details={'actual_k': 0, 'was_impossible': False}),\n",
       " Prediction(uid='AGZ28CC1MLUAD', iid='B0006ZQ9BS', r_ui=4.0, est=4.288796460814402, details={'actual_k': 5, 'was_impossible': False}),\n",
       " Prediction(uid='A3RQ0VN4KUKH8G', iid='B000002OPL', r_ui=5.0, est=5, details={'actual_k': 1, 'was_impossible': False}),\n",
       " Prediction(uid='A1KNYQPZ1JQD62', iid='B0000026WD', r_ui=5.0, est=4.979301364780058, details={'actual_k': 4, 'was_impossible': False}),\n",
       " Prediction(uid='AQQLWCMRNDFGI', iid='B00000253N', r_ui=5.0, est=4.986918604651163, details={'actual_k': 1, 'was_impossible': False}),\n",
       " Prediction(uid='AWSYTZ2I2MW0V', iid='B000EMGAOY', r_ui=5.0, est=4.083095721215043, details={'actual_k': 5, 'was_impossible': False}),\n",
       " Prediction(uid='A1U11PS71ML0YJ', iid='B00096S3PY', r_ui=5.0, est=5, details={'actual_k': 5, 'was_impossible': False}),\n",
       " Prediction(uid='A9Q28YTLYREO7', iid='B0001Z53AQ', r_ui=1.0, est=1, details={'actual_k': 5, 'was_impossible': False}),\n",
       " Prediction(uid='AK1OBVI54SY73', iid='B000002BE9', r_ui=4.0, est=2.8642102994193595, details={'actual_k': 2, 'was_impossible': False}),\n",
       " Prediction(uid='A3IQNSSFHW4UI9', iid='B00005ICAW', r_ui=4.0, est=4.168413912185496, details={'was_impossible': True, 'reason': 'User and/or item is unknown.'}),\n",
       " Prediction(uid='A36WY9KM0NZSH7', iid='B00005YW4H', r_ui=3.0, est=3.980392156862745, details={'actual_k': 0, 'was_impossible': False}),\n",
       " Prediction(uid='AOQMI9EFSEH5O', iid='B000002VN7', r_ui=1.0, est=4.8076923076923075, details={'actual_k': 0, 'was_impossible': False}),\n",
       " Prediction(uid='A1T8N18XKDLJO4', iid='B000EMGAOY', r_ui=5.0, est=4.27027027027027, details={'actual_k': 0, 'was_impossible': False}),\n",
       " Prediction(uid='A31I25HVVN8Z2B', iid='B000AL730O', r_ui=5.0, est=4.168413912185496, details={'was_impossible': True, 'reason': 'User and/or item is unknown.'}),\n",
       " Prediction(uid='A3AL8GQ69QE7WN', iid='B00005TPKC', r_ui=4.0, est=3.952437532689875, details={'actual_k': 5, 'was_impossible': False}),\n",
       " Prediction(uid='A36ONZ3LB9V7FO', iid='B00006L7XQ', r_ui=4.0, est=4.810344827586207, details={'actual_k': 0, 'was_impossible': False}),\n",
       " Prediction(uid='ARM0LDPXZSPNL', iid='B000BNTM32', r_ui=3.0, est=4.665433558658419, details={'actual_k': 5, 'was_impossible': False}),\n",
       " Prediction(uid='A27TC5T7DUWTP', iid='B000002IXU', r_ui=4.0, est=5, details={'actual_k': 2, 'was_impossible': False}),\n",
       " Prediction(uid='A1IGV7R562WB69', iid='B0000AGWFX', r_ui=3.0, est=3.5631955484896665, details={'actual_k': 1, 'was_impossible': False}),\n",
       " Prediction(uid='A3GP5YP52BD4EX', iid='B00000J7JO', r_ui=4.0, est=4.325581395348837, details={'actual_k': 0, 'was_impossible': False}),\n",
       " Prediction(uid='A250BI36M1IR26', iid='B00097A5H2', r_ui=5.0, est=2.674966613764834, details={'actual_k': 5, 'was_impossible': False}),\n",
       " Prediction(uid='A25NMMI7AH30W2', iid='B0000013GH', r_ui=5.0, est=4.874826302642084, details={'actual_k': 5, 'was_impossible': False}),\n",
       " Prediction(uid='A3VSX2TJM78WMT', iid='B000EMGAOY', r_ui=5.0, est=4.27027027027027, details={'actual_k': 0, 'was_impossible': False}),\n",
       " Prediction(uid='A66GZ501LMBQV', iid='B000002L7G', r_ui=5.0, est=4.5423728813559325, details={'actual_k': 0, 'was_impossible': False}),\n",
       " Prediction(uid='A2UXQM067E6VAX', iid='B00065JTAQ', r_ui=4.0, est=4.770473446353689, details={'actual_k': 5, 'was_impossible': False}),\n",
       " Prediction(uid='A1K5XO3NSAYTK1', iid='B0000AQS1A', r_ui=3.0, est=2.6024342785467236, details={'actual_k': 4, 'was_impossible': False}),\n",
       " Prediction(uid='A1F2EYORWOZ3G1', iid='B0000CD5FR', r_ui=5.0, est=4.168413912185496, details={'was_impossible': True, 'reason': 'User and/or item is unknown.'}),\n",
       " Prediction(uid='A2POZM26QJ8FJ1', iid='B000003B7W', r_ui=5.0, est=3.924886136440183, details={'actual_k': 5, 'was_impossible': False}),\n",
       " Prediction(uid='A2RFR3QSF0VOVG', iid='B00003002C', r_ui=5.0, est=5, details={'actual_k': 3, 'was_impossible': False}),\n",
       " Prediction(uid='A3IABMFIXCW4KB', iid='B0000C0FKA', r_ui=1.0, est=4.168413912185496, details={'was_impossible': True, 'reason': 'User and/or item is unknown.'}),\n",
       " Prediction(uid='A1X93ES4DITTWK', iid='B0007NFL18', r_ui=1.0, est=1.2168652737036214, details={'actual_k': 5, 'was_impossible': False}),\n",
       " Prediction(uid='A289XSD9FQ7XSB', iid='B000AY9OGW', r_ui=4.0, est=4.7574750830564785, details={'actual_k': 1, 'was_impossible': False}),\n",
       " Prediction(uid='A2PTL3QI1NIYGS', iid='B000069HKH', r_ui=3.0, est=4.45974025974026, details={'actual_k': 1, 'was_impossible': False}),\n",
       " Prediction(uid='A3T23SHY3PASZ3', iid='B00006JO3X', r_ui=5.0, est=4.5919261526485595, details={'actual_k': 2, 'was_impossible': False}),\n",
       " Prediction(uid='A22VNXHU6IZ5MT', iid='B000001FZ6', r_ui=5.0, est=5, details={'actual_k': 3, 'was_impossible': False}),\n",
       " Prediction(uid='A2KPVBROV25H5B', iid='B0007NFL18', r_ui=5.0, est=3.938796582603345, details={'actual_k': 3, 'was_impossible': False}),\n",
       " Prediction(uid='A1N7IGT6JAM0E', iid='B00006RAKP', r_ui=2.0, est=4.168413912185496, details={'was_impossible': True, 'reason': 'User and/or item is unknown.'}),\n",
       " Prediction(uid='A2FTSEVRW1KIXX', iid='B0000029AP', r_ui=4.0, est=4.590163934426229, details={'actual_k': 0, 'was_impossible': False}),\n",
       " Prediction(uid='A3QAV7LALVG1F7', iid='B0000029AN', r_ui=5.0, est=5, details={'actual_k': 2, 'was_impossible': False}),\n",
       " Prediction(uid='A2RIY8RC2ZH3NX', iid='B0009VJWQS', r_ui=4.0, est=3.9696598972351356, details={'actual_k': 1, 'was_impossible': False}),\n",
       " Prediction(uid='A1DMDLU9AE7L20', iid='B000001FAO', r_ui=5.0, est=5, details={'actual_k': 2, 'was_impossible': False}),\n",
       " Prediction(uid='A5Y2KX0J3KZ2I', iid='B00006M183', r_ui=4.0, est=3.8958333333333335, details={'actual_k': 0, 'was_impossible': False}),\n",
       " Prediction(uid='A1GN8UJIZLCA59', iid='B000AOENCM', r_ui=4.0, est=3.604199431364744, details={'actual_k': 5, 'was_impossible': False}),\n",
       " Prediction(uid='A3S98L5B1SR9P1', iid='B00000064G', r_ui=5.0, est=5, details={'actual_k': 3, 'was_impossible': False}),\n",
       " Prediction(uid='A7JRDNX3WOMTR', iid='B0000024JN', r_ui=3.0, est=4.928928943779167, details={'actual_k': 3, 'was_impossible': False}),\n",
       " Prediction(uid='A1S2IY37JU93XS', iid='B00006ZCFH', r_ui=3.0, est=4.008042071830922, details={'actual_k': 5, 'was_impossible': False}),\n",
       " Prediction(uid='A9Q28YTLYREO7', iid='B0000646TK', r_ui=3.0, est=2.3572965099548497, details={'actual_k': 5, 'was_impossible': False}),\n",
       " Prediction(uid='A3KENOAUKTWZJL', iid='B0000634ID', r_ui=5.0, est=4.781518882654669, details={'actual_k': 2, 'was_impossible': False}),\n",
       " Prediction(uid='A26NLSTT75FMJM', iid='B000001EGA', r_ui=3.0, est=3.3251476511507585, details={'actual_k': 5, 'was_impossible': False}),\n",
       " Prediction(uid='A1P2XB9U35BJQX', iid='B000021YQV', r_ui=5.0, est=4.37984496124031, details={'actual_k': 0, 'was_impossible': False}),\n",
       " Prediction(uid='AEH71A815NRJ3', iid='B00018D44U', r_ui=5.0, est=3.84375, details={'actual_k': 0, 'was_impossible': False}),\n",
       " Prediction(uid='A2C5VLIJMDPWHI', iid='B000QUCPUC', r_ui=2.0, est=2.435217781677014, details={'actual_k': 5, 'was_impossible': False}),\n",
       " Prediction(uid='A11H85UYL2R4KX', iid='B00000163G', r_ui=5.0, est=5, details={'actual_k': 4, 'was_impossible': False}),\n",
       " Prediction(uid='A3FVFJ8D95E9KY', iid='B000002IOW', r_ui=2.0, est=3.7956811273049103, details={'actual_k': 5, 'was_impossible': False}),\n",
       " Prediction(uid='A2EENLV6OQ3DYM', iid='B000002G7G', r_ui=4.0, est=5, details={'actual_k': 3, 'was_impossible': False}),\n",
       " Prediction(uid='A3TPW6TEDC5MO5', iid='B0002X314C', r_ui=5.0, est=2.306243662175866, details={'actual_k': 1, 'was_impossible': False}),\n",
       " Prediction(uid='A1QJHZUUMKZYZG', iid='B00004Z41Q', r_ui=5.0, est=4.059277712060015, details={'actual_k': 5, 'was_impossible': False}),\n",
       " Prediction(uid='A2Q9LCP54NYFUJ', iid='B000001A6X', r_ui=5.0, est=4.87643530920802, details={'actual_k': 2, 'was_impossible': False}),\n",
       " Prediction(uid='A37HCSGGRH8UO6', iid='B00064X2QY', r_ui=2.0, est=3.2796720079041157, details={'actual_k': 5, 'was_impossible': False}),\n",
       " Prediction(uid='A3464G00K8ZYD1', iid='B000002PD7', r_ui=5.0, est=5, details={'actual_k': 5, 'was_impossible': False}),\n",
       " Prediction(uid='A3GGKVDQM7E4VJ', iid='B004K4AUZW', r_ui=4.0, est=4.168413912185496, details={'was_impossible': True, 'reason': 'User and/or item is unknown.'}),\n",
       " Prediction(uid='A3AL8GQ69QE7WN', iid='B0002PD3HU', r_ui=4.0, est=3.6734375400961237, details={'actual_k': 5, 'was_impossible': False}),\n",
       " Prediction(uid='A32UBKPBS1JEMP', iid='B0002X314C', r_ui=1.0, est=4.6997945557267595, details={'actual_k': 1, 'was_impossible': False}),\n",
       " Prediction(uid='A1AYEI2SNFPYES', iid='B000197KVW', r_ui=4.0, est=3.467219956898404, details={'actual_k': 5, 'was_impossible': False}),\n",
       " Prediction(uid='A2B4IFORHECQ8Y', iid='B000084T18', r_ui=1.0, est=3.4953703703703702, details={'actual_k': 0, 'was_impossible': False}),\n",
       " Prediction(uid='A2NLP8TW1TCKN3', iid='B0007NFL18', r_ui=4.0, est=2.803442201608607, details={'actual_k': 5, 'was_impossible': False}),\n",
       " Prediction(uid='A1VH6QWC6JZRAC', iid='B000002P5W', r_ui=5.0, est=5, details={'actual_k': 3, 'was_impossible': False}),\n",
       " Prediction(uid='A3HTX1NOTTWERP', iid='B000002GXL', r_ui=5.0, est=5, details={'actual_k': 5, 'was_impossible': False}),\n",
       " Prediction(uid='A20DZX38KRBIT8', iid='B00005TPKC', r_ui=1.0, est=4.507365813698663, details={'actual_k': 4, 'was_impossible': False}),\n",
       " Prediction(uid='A2774M0U939V58', iid='B00006RAKP', r_ui=2.0, est=5, details={'actual_k': 1, 'was_impossible': False}),\n",
       " Prediction(uid='A3OLZXHFGUAMWW', iid='B00005ONMT', r_ui=4.0, est=3.389120117815933, details={'actual_k': 5, 'was_impossible': False}),\n",
       " Prediction(uid='AZYZA8FDL48GD', iid='B00096S3PY', r_ui=4.0, est=4.577698753739365, details={'actual_k': 3, 'was_impossible': False}),\n",
       " Prediction(uid='A2LZJ5J9H862SN', iid='B00000D9TQ', r_ui=5.0, est=4.77994227994228, details={'actual_k': 1, 'was_impossible': False}),\n",
       " Prediction(uid='AM2PV53UX1JEQ', iid='B000002LGQ', r_ui=5.0, est=4.9993241048951065, details={'actual_k': 4, 'was_impossible': False}),\n",
       " Prediction(uid='AAM4PQ0VMEQLL', iid='B00000AFF9', r_ui=1.0, est=3.2266650019907286, details={'actual_k': 2, 'was_impossible': False}),\n",
       " Prediction(uid='A2WV1BVPR5YKFZ', iid='B000001A5X', r_ui=4.0, est=5, details={'actual_k': 1, 'was_impossible': False}),\n",
       " Prediction(uid='A1LEMO6BI9LTPF', iid='B00006ZCFI', r_ui=3.0, est=4.168413912185496, details={'was_impossible': True, 'reason': 'User and/or item is unknown.'}),\n",
       " Prediction(uid='ADJXL0W0RJ7VV', iid='B000002IT2', r_ui=5.0, est=5, details={'actual_k': 2, 'was_impossible': False}),\n",
       " Prediction(uid='A27FR2C67JPDRS', iid='B000001DZO', r_ui=5.0, est=5, details={'actual_k': 3, 'was_impossible': False}),\n",
       " Prediction(uid='A1V2NDE49E2TLQ', iid='B0000062S6', r_ui=1.0, est=4.168413912185496, details={'was_impossible': True, 'reason': 'User and/or item is unknown.'}),\n",
       " Prediction(uid='AZ6A2VCRPFRSE', iid='B00003NHAR', r_ui=5.0, est=1.8864364335216353, details={'actual_k': 1, 'was_impossible': False}),\n",
       " Prediction(uid='A20EQCMAGDU0J0', iid='B000050HS9', r_ui=4.0, est=3.31675625059335, details={'actual_k': 3, 'was_impossible': False}),\n",
       " Prediction(uid='AKS4FTO63XVSC', iid='B00006690F', r_ui=5.0, est=5, details={'actual_k': 4, 'was_impossible': False}),\n",
       " Prediction(uid='A2YB3GKMN76KJK', iid='B000035X1M', r_ui=4.0, est=5, details={'actual_k': 3, 'was_impossible': False}),\n",
       " Prediction(uid='A2D7LL1KMNT040', iid='B0009G3BWE', r_ui=5.0, est=3.325, details={'actual_k': 0, 'was_impossible': False}),\n",
       " Prediction(uid='A1NLD7JAQBLEML', iid='B000FVQYYK', r_ui=5.0, est=4.125, details={'actual_k': 0, 'was_impossible': False}),\n",
       " Prediction(uid='A1LHPS1PADD9FM', iid='B000EU1KRS', r_ui=4.0, est=5, details={'actual_k': 3, 'was_impossible': False}),\n",
       " Prediction(uid='AFASPSS3MUJUT', iid='B0002X314C', r_ui=5.0, est=3.4563234273246, details={'actual_k': 2, 'was_impossible': False}),\n",
       " Prediction(uid='A1XX5797TIZT5Q', iid='B000002LRX', r_ui=5.0, est=4.803116091635973, details={'actual_k': 5, 'was_impossible': False}),\n",
       " Prediction(uid='A8E7BX37NMF87', iid='B000002IT2', r_ui=5.0, est=1.4390427736951201, details={'actual_k': 1, 'was_impossible': False}),\n",
       " Prediction(uid='A3MISB22HHN0D2', iid='B00004T9UF', r_ui=5.0, est=3.7316784964780387, details={'actual_k': 5, 'was_impossible': False}),\n",
       " Prediction(uid='ACMAVHGOYSSR4', iid='B00005O54Q', r_ui=5.0, est=4.443609022556391, details={'actual_k': 0, 'was_impossible': False}),\n",
       " Prediction(uid='A1Q1FK7FKS40WU', iid='B0000024JN', r_ui=5.0, est=3.829971988795518, details={'actual_k': 1, 'was_impossible': False}),\n",
       " Prediction(uid='AGAMDS21PJZPK', iid='B00004UARR', r_ui=5.0, est=5, details={'actual_k': 5, 'was_impossible': False}),\n",
       " Prediction(uid='A3FF936V6MPPDI', iid='B00000HZG9', r_ui=5.0, est=4.422432949774624, details={'actual_k': 3, 'was_impossible': False}),\n",
       " Prediction(uid='A13OD50LTDL2CQ', iid='B00000016W', r_ui=5.0, est=5, details={'actual_k': 1, 'was_impossible': False}),\n",
       " Prediction(uid='AJMO5NI0FNMDQ', iid='B000003B6J', r_ui=5.0, est=4.839230246441132, details={'actual_k': 5, 'was_impossible': False}),\n",
       " Prediction(uid='A3T4JO848Y08UC', iid='B000N2G3RY', r_ui=5.0, est=4.316831683168317, details={'actual_k': 0, 'was_impossible': False}),\n",
       " Prediction(uid='AE42JLYPXUI45', iid='B000002MFN', r_ui=5.0, est=4.8680494454033685, details={'actual_k': 3, 'was_impossible': False}),\n",
       " Prediction(uid='A37PBGUFQ387XE', iid='B00006JO3X', r_ui=4.0, est=4.663799199126638, details={'actual_k': 3, 'was_impossible': False}),\n",
       " Prediction(uid='A2JAKHFYI88ZX0', iid='B00005TPKC', r_ui=4.0, est=4.628564884248575, details={'actual_k': 5, 'was_impossible': False}),\n",
       " Prediction(uid='A28J4AFUNW545I', iid='B005QJZ5FA', r_ui=5.0, est=4.168413912185496, details={'was_impossible': True, 'reason': 'User and/or item is unknown.'}),\n",
       " Prediction(uid='A2EENLV6OQ3DYM', iid='B00005K9KP', r_ui=4.0, est=4.578992284520221, details={'actual_k': 3, 'was_impossible': False}),\n",
       " Prediction(uid='A3LZBOBV9H1HDV', iid='B000IY04RC', r_ui=5.0, est=5, details={'actual_k': 1, 'was_impossible': False}),\n",
       " Prediction(uid='A2QLSXEFSG2VM3', iid='B00002MZ4W', r_ui=5.0, est=4.377049180327869, details={'actual_k': 0, 'was_impossible': False}),\n",
       " Prediction(uid='ARPRJZSXOZO2V', iid='B00000DGUG', r_ui=5.0, est=3.901639344262295, details={'actual_k': 0, 'was_impossible': False}),\n",
       " Prediction(uid='A461VTLW9G9YB', iid='B0000AKOMI', r_ui=5.0, est=3.46971582441865, details={'actual_k': 5, 'was_impossible': False}),\n",
       " Prediction(uid='AH96V4I4XE9H1', iid='B00000IAU3', r_ui=5.0, est=4.958571428571429, details={'actual_k': 1, 'was_impossible': False}),\n",
       " Prediction(uid='A9Q28YTLYREO7', iid='B0006ZQ9BS', r_ui=1.0, est=1.9392591870706637, details={'actual_k': 5, 'was_impossible': False}),\n",
       " Prediction(uid='A1CS70DT7ZPCJJ', iid='B0000025WQ', r_ui=4.0, est=3.6110390391141705, details={'actual_k': 2, 'was_impossible': False}),\n",
       " Prediction(uid='A1SPYMGDEWKK6I', iid='B0002IQHBQ', r_ui=5.0, est=5, details={'actual_k': 5, 'was_impossible': False}),\n",
       " Prediction(uid='A1JIW8GOSSGUQR', iid='B00008H2LB', r_ui=4.0, est=1.83717612325898, details={'actual_k': 5, 'was_impossible': False}),\n",
       " Prediction(uid='A35JR4D6FLXYRQ', iid='B00065BYAY', r_ui=4.0, est=3.997114679143411, details={'actual_k': 5, 'was_impossible': False}),\n",
       " Prediction(uid='A1O4HXAZ7YZ67H', iid='B000084T18', r_ui=4.0, est=3.4953703703703702, details={'actual_k': 0, 'was_impossible': False}),\n",
       " Prediction(uid='A35XFZN4MWNKK4', iid='B00005NHJS', r_ui=5.0, est=3.9789094579480735, details={'actual_k': 4, 'was_impossible': False}),\n",
       " Prediction(uid='A2L9XGCHUP7NPS', iid='B00004UARR', r_ui=4.0, est=3.3171717171717177, details={'actual_k': 1, 'was_impossible': False}),\n",
       " Prediction(uid='A1NV8HZTGKIPXQ', iid='B0000CD5FR', r_ui=5.0, est=5, details={'actual_k': 4, 'was_impossible': False}),\n",
       " Prediction(uid='A1I2UJI3NCR93N', iid='B0000025BA', r_ui=4.0, est=4.674904075412812, details={'actual_k': 5, 'was_impossible': False}),\n",
       " Prediction(uid='A3RC3AK8UN89I9', iid='B00005NHJS', r_ui=5.0, est=4.574664962232725, details={'actual_k': 5, 'was_impossible': False}),\n",
       " Prediction(uid='A1E3N1GKATTQ0', iid='B0000013GT', r_ui=5.0, est=5, details={'actual_k': 1, 'was_impossible': False}),\n",
       " Prediction(uid='A2WDZH6FQL7HO8', iid='B00005M987', r_ui=5.0, est=3.810927362351017, details={'actual_k': 2, 'was_impossible': False}),\n",
       " Prediction(uid='A8TM0MI3D9T29', iid='B003KUSUG8', r_ui=5.0, est=5, details={'actual_k': 2, 'was_impossible': False}),\n",
       " Prediction(uid='A170QM825KM60W', iid='B0002S94RK', r_ui=4.0, est=5, details={'actual_k': 5, 'was_impossible': False}),\n",
       " Prediction(uid='A1NUNET0L0BFR4', iid='B00065BYAY', r_ui=4.0, est=4.604312723292687, details={'actual_k': 5, 'was_impossible': False}),\n",
       " Prediction(uid='A38QJ7JUUTVLKX', iid='B00005AAFJ', r_ui=1.0, est=4.168413912185496, details={'was_impossible': True, 'reason': 'User and/or item is unknown.'}),\n",
       " Prediction(uid='A3RV0VQKIM2HSW', iid='B0002X314C', r_ui=4.0, est=3.9797800033318604, details={'actual_k': 5, 'was_impossible': False}),\n",
       " Prediction(uid='A39XGSL1OGDVDE', iid='B000BLI4UG', r_ui=5.0, est=4.151698732948396, details={'actual_k': 4, 'was_impossible': False}),\n",
       " Prediction(uid='A3CY6819GDT75H', iid='B000002KH3', r_ui=5.0, est=3.399034198579459, details={'actual_k': 3, 'was_impossible': False}),\n",
       " Prediction(uid='A3C6ZCBUNXUT7V', iid='B00005O6IR', r_ui=4.0, est=4.321392770627379, details={'actual_k': 5, 'was_impossible': False}),\n",
       " Prediction(uid='AWSYTZ2I2MW0V', iid='B00000J7JO', r_ui=5.0, est=4.401771936114984, details={'actual_k': 5, 'was_impossible': False}),\n",
       " Prediction(uid='A918P6KPDBN0Q', iid='B000N2G3RY', r_ui=5.0, est=4.664410968497165, details={'actual_k': 2, 'was_impossible': False}),\n",
       " Prediction(uid='ARQQ97F68VTO6', iid='B003WTE886', r_ui=5.0, est=3.782258064516129, details={'actual_k': 1, 'was_impossible': False}),\n",
       " Prediction(uid='A2IIEAHI6BCWYA', iid='B00001QGQI', r_ui=3.0, est=3.769230769230769, details={'actual_k': 0, 'was_impossible': False}),\n",
       " Prediction(uid='A1HIOSHOIZ03XP', iid='B004D1GZ2E', r_ui=3.0, est=4.467741935483871, details={'actual_k': 0, 'was_impossible': False}),\n",
       " Prediction(uid='A1BPFV0N4C12AI', iid='B0007TX894', r_ui=5.0, est=4.684210526315789, details={'actual_k': 0, 'was_impossible': False}),\n",
       " Prediction(uid='AHOP98V8UUXZB', iid='B0000025F7', r_ui=5.0, est=4.72258731072189, details={'actual_k': 3, 'was_impossible': False}),\n",
       " Prediction(uid='A1L1NYH387VKGM', iid='B000001EGA', r_ui=5.0, est=5, details={'actual_k': 2, 'was_impossible': False}),\n",
       " Prediction(uid='A234IZP4U2Y0OQ', iid='B000EMGAOY', r_ui=5.0, est=4.168413912185496, details={'was_impossible': True, 'reason': 'User and/or item is unknown.'}),\n",
       " Prediction(uid='A117RJ6J5CO53D', iid='B00000163G', r_ui=5.0, est=4.734848484848484, details={'actual_k': 0, 'was_impossible': False}),\n",
       " Prediction(uid='A3K4JD25FZG9UU', iid='B0002IQHBQ', r_ui=5.0, est=4.168413912185496, details={'was_impossible': True, 'reason': 'User and/or item is unknown.'}),\n",
       " Prediction(uid='A3O4564U0PDCMP', iid='B00004X0Q0', r_ui=5.0, est=4.428571428571429, details={'actual_k': 0, 'was_impossible': False}),\n",
       " Prediction(uid='A2O8K7L29RLY54', iid='B004K4AUZW', r_ui=5.0, est=4.8486598845663265, details={'actual_k': 2, 'was_impossible': False}),\n",
       " Prediction(uid='A1TC5EBGPW13UJ', iid='B00005O6IR', r_ui=5.0, est=4.784527945954892, details={'actual_k': 3, 'was_impossible': False}),\n",
       " Prediction(uid='ATS4FKFOX9INH', iid='B0002A2WAO', r_ui=5.0, est=4.565004916730461, details={'actual_k': 2, 'was_impossible': False}),\n",
       " Prediction(uid='A12WON27MLDXNI', iid='B0000029DD', r_ui=1.0, est=5, details={'actual_k': 1, 'was_impossible': False}),\n",
       " Prediction(uid='ANBSW3BALFRR2', iid='B00009V7T2', r_ui=2.0, est=4.018444433546561, details={'actual_k': 4, 'was_impossible': False}),\n",
       " Prediction(uid='A1Q0UFY6YKH3V', iid='B000UMQDHC', r_ui=5.0, est=4.127272727272727, details={'actual_k': 0, 'was_impossible': False}),\n",
       " Prediction(uid='A97B72F4UI8FA', iid='B0000CC6QG', r_ui=5.0, est=3.6993300382043346, details={'actual_k': 4, 'was_impossible': False}),\n",
       " Prediction(uid='A26NLSTT75FMJM', iid='B0000028RR', r_ui=5.0, est=4.314634067987305, details={'actual_k': 5, 'was_impossible': False}),\n",
       " Prediction(uid='A10CBLMJD1OQL7', iid='B000002IWQ', r_ui=4.0, est=4.894664842681259, details={'actual_k': 1, 'was_impossible': False}),\n",
       " Prediction(uid='A2UXKWVHJ0JSHN', iid='B00000HZG9', r_ui=5.0, est=5, details={'actual_k': 5, 'was_impossible': False}),\n",
       " Prediction(uid='A2F3XZ0Q7VS10P', iid='B000H0MKGK', r_ui=4.0, est=3.5028541774779454, details={'actual_k': 1, 'was_impossible': False}),\n",
       " Prediction(uid='AG0XVH9H4QL95', iid='B004K4AUZW', r_ui=1.0, est=3.9411764705882355, details={'actual_k': 0, 'was_impossible': False}),\n",
       " Prediction(uid='A2GC1JN5F0ZVH8', iid='B0000AGWFX', r_ui=4.0, est=4.18204198763431, details={'actual_k': 3, 'was_impossible': False}),\n",
       " Prediction(uid='ACVFTS9X2MKJ8', iid='B000002KBB', r_ui=4.0, est=3.932971014492754, details={'actual_k': 1, 'was_impossible': False}),\n",
       " Prediction(uid='A3RQWGYU848KYV', iid='B00001QGQI', r_ui=5.0, est=2.788838612368024, details={'actual_k': 1, 'was_impossible': False}),\n",
       " Prediction(uid='A5WDJI6VT51TK', iid='B000002IOW', r_ui=4.0, est=1.9534883720930232, details={'actual_k': 1, 'was_impossible': False}),\n",
       " Prediction(uid='AD0FOYVI4UZVP', iid='B00009LI14', r_ui=5.0, est=5, details={'actual_k': 1, 'was_impossible': False}),\n",
       " Prediction(uid='A8LVAO2H29WII', iid='B0009VJWQS', r_ui=4.0, est=4.168413912185496, details={'was_impossible': True, 'reason': 'User and/or item is unknown.'}),\n",
       " Prediction(uid='A33M07VZBYRMPY', iid='B000002KH3', r_ui=5.0, est=5, details={'actual_k': 2, 'was_impossible': False}),\n",
       " Prediction(uid='A33B5M5CE7ZX7C', iid='B000000OUJ', r_ui=5.0, est=4.524212864998249, details={'actual_k': 5, 'was_impossible': False}),\n",
       " Prediction(uid='AJMU8VVFKMZI4', iid='B000H0MKGK', r_ui=4.0, est=4.877297163987561, details={'actual_k': 2, 'was_impossible': False}),\n",
       " Prediction(uid='A1LHAXBM5GBJS2', iid='B000EMGAOY', r_ui=4.0, est=3.6110203488285713, details={'actual_k': 5, 'was_impossible': False}),\n",
       " Prediction(uid='A5QRODDMNQINQ', iid='B00065JTAQ', r_ui=3.0, est=5, details={'actual_k': 5, 'was_impossible': False}),\n",
       " Prediction(uid='A25NN196JT60LS', iid='B000001F60', r_ui=1.0, est=4.415062476440546, details={'actual_k': 4, 'was_impossible': False}),\n",
       " Prediction(uid='A3KG9S1Y2NH6X3', iid='B0000AGWFX', r_ui=2.0, est=3.480592294422082, details={'actual_k': 1, 'was_impossible': False}),\n",
       " Prediction(uid='A3BTFDNUFPZWIL', iid='B00006690F', r_ui=1.0, est=1.0834149114433025, details={'actual_k': 2, 'was_impossible': False}),\n",
       " Prediction(uid='A2H1WNB30JNAWU', iid='B004D1GZ2E', r_ui=4.0, est=5, details={'actual_k': 2, 'was_impossible': False}),\n",
       " Prediction(uid='A9DG42O0DBLFJ', iid='B00018D44U', r_ui=5.0, est=4.847360935511037, details={'actual_k': 2, 'was_impossible': False}),\n",
       " Prediction(uid='A22HN0VTP9TCLJ', iid='B000002MFN', r_ui=2.0, est=4.775027870680044, details={'actual_k': 1, 'was_impossible': False}),\n",
       " Prediction(uid='A3KMN9ZQ7RZXFR', iid='B00096S3PY', r_ui=5.0, est=4.168413912185496, details={'was_impossible': True, 'reason': 'User and/or item is unknown.'}),\n",
       " Prediction(uid='A26DOHWKRZPN8H', iid='B00008H2LB', r_ui=4.0, est=4.168413912185496, details={'was_impossible': True, 'reason': 'User and/or item is unknown.'}),\n",
       " Prediction(uid='A2OF0Z2L9STEQF', iid='B000002IOW', r_ui=5.0, est=2.6714857792447675, details={'actual_k': 3, 'was_impossible': False}),\n",
       " Prediction(uid='A1HFVQZIDK7UUD', iid='B00000163G', r_ui=4.0, est=3.531686329415516, details={'actual_k': 5, 'was_impossible': False}),\n",
       " Prediction(uid='A3KG9S1Y2NH6X3', iid='B00007FGLS', r_ui=5.0, est=4.1375, details={'actual_k': 0, 'was_impossible': False}),\n",
       " Prediction(uid='A21YRP0KJOLXNK', iid='B00006690F', r_ui=5.0, est=5, details={'actual_k': 1, 'was_impossible': False}),\n",
       " Prediction(uid='A3HOMQCJ2SFZ2', iid='B0000039Q3', r_ui=3.0, est=5, details={'actual_k': 5, 'was_impossible': False}),\n",
       " Prediction(uid='ATQAR58FF4EX5', iid='B00065JTAQ', r_ui=5.0, est=4.350702576112413, details={'actual_k': 1, 'was_impossible': False}),\n",
       " Prediction(uid='A1MY1Y1Q1A1CLX', iid='B000002WR5', r_ui=5.0, est=2.431372549019608, details={'actual_k': 1, 'was_impossible': False}),\n",
       " Prediction(uid='A2QCXAU1DR1QV', iid='B00006BTC7', r_ui=5.0, est=5, details={'actual_k': 1, 'was_impossible': False}),\n",
       " Prediction(uid='A22DKBJRTMY7UK', iid='B000BTDMDC', r_ui=5.0, est=1.2321428571428577, details={'actual_k': 1, 'was_impossible': False}),\n",
       " Prediction(uid='A1YXCRFDXSXQOE', iid='B0000AKOMI', r_ui=4.0, est=4.852757078986587, details={'actual_k': 1, 'was_impossible': False}),\n",
       " Prediction(uid='ADIDQRLLR4KBQ', iid='B00005QG9J', r_ui=1.0, est=4.999832857754134, details={'actual_k': 5, 'was_impossible': False}),\n",
       " Prediction(uid='A3AYA634I1IHI1', iid='B000001Y15', r_ui=2.0, est=4.062770562770563, details={'actual_k': 1, 'was_impossible': False}),\n",
       " Prediction(uid='AVDIV5F95V6A2', iid='B0000TAZS8', r_ui=2.0, est=4.12238539469822, details={'actual_k': 5, 'was_impossible': False}),\n",
       " Prediction(uid='AKM95PATVGMAZ', iid='B00004T9UF', r_ui=4.0, est=4.461779448621554, details={'actual_k': 1, 'was_impossible': False}),\n",
       " Prediction(uid='A257KXBOBFRLCN', iid='B0000AGWFX', r_ui=4.0, est=5, details={'actual_k': 2, 'was_impossible': False}),\n",
       " ...]"
      ]
     },
     "execution_count": 32,
     "metadata": {},
     "output_type": "execute_result"
    }
   ],
   "source": [
    "test_pred"
   ]
  },
  {
   "cell_type": "code",
   "execution_count": 33,
   "id": "3f729fe5",
   "metadata": {},
   "outputs": [
    {
     "name": "stdout",
     "output_type": "stream",
     "text": [
      "Item-based Model : Test Set\n",
      "RMSE: 1.0726\n"
     ]
    },
    {
     "data": {
      "text/plain": [
       "1.0725899236541012"
      ]
     },
     "execution_count": 33,
     "metadata": {},
     "output_type": "execute_result"
    }
   ],
   "source": [
    "# get RMSE\n",
    "print(\"Item-based Model : Test Set\")\n",
    "accuracy.rmse(test_pred, verbose=True)"
   ]
  },
  {
   "cell_type": "code",
   "execution_count": 34,
   "id": "e0ad804b",
   "metadata": {},
   "outputs": [
    {
     "data": {
      "text/html": [
       "<div>\n",
       "<style scoped>\n",
       "    .dataframe tbody tr th:only-of-type {\n",
       "        vertical-align: middle;\n",
       "    }\n",
       "\n",
       "    .dataframe tbody tr th {\n",
       "        vertical-align: top;\n",
       "    }\n",
       "\n",
       "    .dataframe thead th {\n",
       "        text-align: right;\n",
       "    }\n",
       "</style>\n",
       "<table border=\"1\" class=\"dataframe\">\n",
       "  <thead>\n",
       "    <tr style=\"text-align: right;\">\n",
       "      <th>asin</th>\n",
       "      <th>B00000016W</th>\n",
       "      <th>B00000064G</th>\n",
       "      <th>B000000OUJ</th>\n",
       "      <th>B000000TDH</th>\n",
       "      <th>B0000013GH</th>\n",
       "      <th>B0000013GT</th>\n",
       "      <th>B00000163G</th>\n",
       "      <th>B000001A5X</th>\n",
       "      <th>B000001A6N</th>\n",
       "      <th>B000001A6X</th>\n",
       "      <th>...</th>\n",
       "      <th>B0029LHW4U</th>\n",
       "      <th>B002DSM8UC</th>\n",
       "      <th>B002GZQYMA</th>\n",
       "      <th>B003KUSUG8</th>\n",
       "      <th>B003V5PPZG</th>\n",
       "      <th>B003WTE886</th>\n",
       "      <th>B004D1GZ2E</th>\n",
       "      <th>B004K4AUZW</th>\n",
       "      <th>B004NSULHM</th>\n",
       "      <th>B005QJZ5FA</th>\n",
       "    </tr>\n",
       "    <tr>\n",
       "      <th>reviewerID</th>\n",
       "      <th></th>\n",
       "      <th></th>\n",
       "      <th></th>\n",
       "      <th></th>\n",
       "      <th></th>\n",
       "      <th></th>\n",
       "      <th></th>\n",
       "      <th></th>\n",
       "      <th></th>\n",
       "      <th></th>\n",
       "      <th></th>\n",
       "      <th></th>\n",
       "      <th></th>\n",
       "      <th></th>\n",
       "      <th></th>\n",
       "      <th></th>\n",
       "      <th></th>\n",
       "      <th></th>\n",
       "      <th></th>\n",
       "      <th></th>\n",
       "      <th></th>\n",
       "    </tr>\n",
       "  </thead>\n",
       "  <tbody>\n",
       "    <tr>\n",
       "      <th>A1020L7BWW9RAX</th>\n",
       "      <td>0</td>\n",
       "      <td>0</td>\n",
       "      <td>0</td>\n",
       "      <td>0</td>\n",
       "      <td>0</td>\n",
       "      <td>0</td>\n",
       "      <td>0</td>\n",
       "      <td>0</td>\n",
       "      <td>0</td>\n",
       "      <td>0</td>\n",
       "      <td>...</td>\n",
       "      <td>0</td>\n",
       "      <td>0</td>\n",
       "      <td>0</td>\n",
       "      <td>0</td>\n",
       "      <td>0</td>\n",
       "      <td>0</td>\n",
       "      <td>0</td>\n",
       "      <td>0</td>\n",
       "      <td>0</td>\n",
       "      <td>0</td>\n",
       "    </tr>\n",
       "    <tr>\n",
       "      <th>A10323WWTFPSGP</th>\n",
       "      <td>0</td>\n",
       "      <td>0</td>\n",
       "      <td>0</td>\n",
       "      <td>0</td>\n",
       "      <td>0</td>\n",
       "      <td>0</td>\n",
       "      <td>0</td>\n",
       "      <td>0</td>\n",
       "      <td>0</td>\n",
       "      <td>0</td>\n",
       "      <td>...</td>\n",
       "      <td>0</td>\n",
       "      <td>0</td>\n",
       "      <td>0</td>\n",
       "      <td>0</td>\n",
       "      <td>0</td>\n",
       "      <td>0</td>\n",
       "      <td>0</td>\n",
       "      <td>0</td>\n",
       "      <td>0</td>\n",
       "      <td>0</td>\n",
       "    </tr>\n",
       "    <tr>\n",
       "      <th>A103KNDW8GN92L</th>\n",
       "      <td>0</td>\n",
       "      <td>0</td>\n",
       "      <td>0</td>\n",
       "      <td>0</td>\n",
       "      <td>0</td>\n",
       "      <td>0</td>\n",
       "      <td>0</td>\n",
       "      <td>0</td>\n",
       "      <td>0</td>\n",
       "      <td>0</td>\n",
       "      <td>...</td>\n",
       "      <td>0</td>\n",
       "      <td>0</td>\n",
       "      <td>0</td>\n",
       "      <td>0</td>\n",
       "      <td>0</td>\n",
       "      <td>0</td>\n",
       "      <td>0</td>\n",
       "      <td>0</td>\n",
       "      <td>0</td>\n",
       "      <td>0</td>\n",
       "    </tr>\n",
       "    <tr>\n",
       "      <th>A103W7ZPKGOCC9</th>\n",
       "      <td>0</td>\n",
       "      <td>0</td>\n",
       "      <td>0</td>\n",
       "      <td>0</td>\n",
       "      <td>0</td>\n",
       "      <td>0</td>\n",
       "      <td>0</td>\n",
       "      <td>5</td>\n",
       "      <td>0</td>\n",
       "      <td>5</td>\n",
       "      <td>...</td>\n",
       "      <td>0</td>\n",
       "      <td>0</td>\n",
       "      <td>0</td>\n",
       "      <td>0</td>\n",
       "      <td>0</td>\n",
       "      <td>0</td>\n",
       "      <td>0</td>\n",
       "      <td>0</td>\n",
       "      <td>0</td>\n",
       "      <td>0</td>\n",
       "    </tr>\n",
       "    <tr>\n",
       "      <th>A105S56ODHGJEK</th>\n",
       "      <td>0</td>\n",
       "      <td>0</td>\n",
       "      <td>0</td>\n",
       "      <td>0</td>\n",
       "      <td>0</td>\n",
       "      <td>5</td>\n",
       "      <td>0</td>\n",
       "      <td>0</td>\n",
       "      <td>0</td>\n",
       "      <td>0</td>\n",
       "      <td>...</td>\n",
       "      <td>0</td>\n",
       "      <td>0</td>\n",
       "      <td>0</td>\n",
       "      <td>0</td>\n",
       "      <td>0</td>\n",
       "      <td>0</td>\n",
       "      <td>0</td>\n",
       "      <td>0</td>\n",
       "      <td>0</td>\n",
       "      <td>0</td>\n",
       "    </tr>\n",
       "  </tbody>\n",
       "</table>\n",
       "<p>5 rows × 254 columns</p>\n",
       "</div>"
      ],
      "text/plain": [
       "asin            B00000016W  B00000064G  B000000OUJ  B000000TDH  B0000013GH  \\\n",
       "reviewerID                                                                   \n",
       "A1020L7BWW9RAX           0           0           0           0           0   \n",
       "A10323WWTFPSGP           0           0           0           0           0   \n",
       "A103KNDW8GN92L           0           0           0           0           0   \n",
       "A103W7ZPKGOCC9           0           0           0           0           0   \n",
       "A105S56ODHGJEK           0           0           0           0           0   \n",
       "\n",
       "asin            B0000013GT  B00000163G  B000001A5X  B000001A6N  B000001A6X  \\\n",
       "reviewerID                                                                   \n",
       "A1020L7BWW9RAX           0           0           0           0           0   \n",
       "A10323WWTFPSGP           0           0           0           0           0   \n",
       "A103KNDW8GN92L           0           0           0           0           0   \n",
       "A103W7ZPKGOCC9           0           0           5           0           5   \n",
       "A105S56ODHGJEK           5           0           0           0           0   \n",
       "\n",
       "asin            ...  B0029LHW4U  B002DSM8UC  B002GZQYMA  B003KUSUG8  \\\n",
       "reviewerID      ...                                                   \n",
       "A1020L7BWW9RAX  ...           0           0           0           0   \n",
       "A10323WWTFPSGP  ...           0           0           0           0   \n",
       "A103KNDW8GN92L  ...           0           0           0           0   \n",
       "A103W7ZPKGOCC9  ...           0           0           0           0   \n",
       "A105S56ODHGJEK  ...           0           0           0           0   \n",
       "\n",
       "asin            B003V5PPZG  B003WTE886  B004D1GZ2E  B004K4AUZW  B004NSULHM  \\\n",
       "reviewerID                                                                   \n",
       "A1020L7BWW9RAX           0           0           0           0           0   \n",
       "A10323WWTFPSGP           0           0           0           0           0   \n",
       "A103KNDW8GN92L           0           0           0           0           0   \n",
       "A103W7ZPKGOCC9           0           0           0           0           0   \n",
       "A105S56ODHGJEK           0           0           0           0           0   \n",
       "\n",
       "asin            B005QJZ5FA  \n",
       "reviewerID                  \n",
       "A1020L7BWW9RAX           0  \n",
       "A10323WWTFPSGP           0  \n",
       "A103KNDW8GN92L           0  \n",
       "A103W7ZPKGOCC9           0  \n",
       "A105S56ODHGJEK           0  \n",
       "\n",
       "[5 rows x 254 columns]"
      ]
     },
     "execution_count": 34,
     "metadata": {},
     "output_type": "execute_result"
    }
   ],
   "source": [
    "#Model-based collaborative filtering system\n",
    "\n",
    "ratings_matrix = new_df.pivot_table(values='overall', index='reviewerID', columns='asin', fill_value=0)\n",
    "ratings_matrix.head()"
   ]
  },
  {
   "cell_type": "code",
   "execution_count": 35,
   "id": "dcb9c4c9",
   "metadata": {},
   "outputs": [
    {
     "data": {
      "text/plain": [
       "(4509, 254)"
      ]
     },
     "execution_count": 35,
     "metadata": {},
     "output_type": "execute_result"
    }
   ],
   "source": [
    "ratings_matrix.shape"
   ]
  },
  {
   "cell_type": "code",
   "execution_count": 36,
   "id": "892a3674",
   "metadata": {},
   "outputs": [
    {
     "data": {
      "text/html": [
       "<div>\n",
       "<style scoped>\n",
       "    .dataframe tbody tr th:only-of-type {\n",
       "        vertical-align: middle;\n",
       "    }\n",
       "\n",
       "    .dataframe tbody tr th {\n",
       "        vertical-align: top;\n",
       "    }\n",
       "\n",
       "    .dataframe thead th {\n",
       "        text-align: right;\n",
       "    }\n",
       "</style>\n",
       "<table border=\"1\" class=\"dataframe\">\n",
       "  <thead>\n",
       "    <tr style=\"text-align: right;\">\n",
       "      <th>reviewerID</th>\n",
       "      <th>A1020L7BWW9RAX</th>\n",
       "      <th>A10323WWTFPSGP</th>\n",
       "      <th>A103KNDW8GN92L</th>\n",
       "      <th>A103W7ZPKGOCC9</th>\n",
       "      <th>A105S56ODHGJEK</th>\n",
       "      <th>A1065Q31DNPRAN</th>\n",
       "      <th>A106BECWWKQIC9</th>\n",
       "      <th>A107R79K63CE30</th>\n",
       "      <th>A10872FHIJAKKD</th>\n",
       "      <th>A109WIE49N0GV</th>\n",
       "      <th>...</th>\n",
       "      <th>AZPWAXJG9OJXV</th>\n",
       "      <th>AZSN1TO0JI87B</th>\n",
       "      <th>AZT9OGZODW8VW</th>\n",
       "      <th>AZTVHB938DIG5</th>\n",
       "      <th>AZTZ61W23JET0</th>\n",
       "      <th>AZVA13Q19KURR</th>\n",
       "      <th>AZVH70JMJ2IHX</th>\n",
       "      <th>AZWCAUCNLGL4H</th>\n",
       "      <th>AZY3MDFJJFI91</th>\n",
       "      <th>AZYZA8FDL48GD</th>\n",
       "    </tr>\n",
       "    <tr>\n",
       "      <th>asin</th>\n",
       "      <th></th>\n",
       "      <th></th>\n",
       "      <th></th>\n",
       "      <th></th>\n",
       "      <th></th>\n",
       "      <th></th>\n",
       "      <th></th>\n",
       "      <th></th>\n",
       "      <th></th>\n",
       "      <th></th>\n",
       "      <th></th>\n",
       "      <th></th>\n",
       "      <th></th>\n",
       "      <th></th>\n",
       "      <th></th>\n",
       "      <th></th>\n",
       "      <th></th>\n",
       "      <th></th>\n",
       "      <th></th>\n",
       "      <th></th>\n",
       "      <th></th>\n",
       "    </tr>\n",
       "  </thead>\n",
       "  <tbody>\n",
       "    <tr>\n",
       "      <th>B00000016W</th>\n",
       "      <td>0</td>\n",
       "      <td>0</td>\n",
       "      <td>0</td>\n",
       "      <td>0</td>\n",
       "      <td>0</td>\n",
       "      <td>0</td>\n",
       "      <td>0</td>\n",
       "      <td>0</td>\n",
       "      <td>0</td>\n",
       "      <td>0</td>\n",
       "      <td>...</td>\n",
       "      <td>0</td>\n",
       "      <td>0</td>\n",
       "      <td>0</td>\n",
       "      <td>0</td>\n",
       "      <td>0</td>\n",
       "      <td>0</td>\n",
       "      <td>0</td>\n",
       "      <td>0</td>\n",
       "      <td>0</td>\n",
       "      <td>0</td>\n",
       "    </tr>\n",
       "    <tr>\n",
       "      <th>B00000064G</th>\n",
       "      <td>0</td>\n",
       "      <td>0</td>\n",
       "      <td>0</td>\n",
       "      <td>0</td>\n",
       "      <td>0</td>\n",
       "      <td>0</td>\n",
       "      <td>0</td>\n",
       "      <td>0</td>\n",
       "      <td>0</td>\n",
       "      <td>0</td>\n",
       "      <td>...</td>\n",
       "      <td>0</td>\n",
       "      <td>0</td>\n",
       "      <td>0</td>\n",
       "      <td>0</td>\n",
       "      <td>0</td>\n",
       "      <td>0</td>\n",
       "      <td>0</td>\n",
       "      <td>0</td>\n",
       "      <td>0</td>\n",
       "      <td>0</td>\n",
       "    </tr>\n",
       "    <tr>\n",
       "      <th>B000000OUJ</th>\n",
       "      <td>0</td>\n",
       "      <td>0</td>\n",
       "      <td>0</td>\n",
       "      <td>0</td>\n",
       "      <td>0</td>\n",
       "      <td>0</td>\n",
       "      <td>0</td>\n",
       "      <td>0</td>\n",
       "      <td>0</td>\n",
       "      <td>0</td>\n",
       "      <td>...</td>\n",
       "      <td>0</td>\n",
       "      <td>0</td>\n",
       "      <td>0</td>\n",
       "      <td>0</td>\n",
       "      <td>0</td>\n",
       "      <td>0</td>\n",
       "      <td>0</td>\n",
       "      <td>0</td>\n",
       "      <td>0</td>\n",
       "      <td>0</td>\n",
       "    </tr>\n",
       "    <tr>\n",
       "      <th>B000000TDH</th>\n",
       "      <td>0</td>\n",
       "      <td>0</td>\n",
       "      <td>0</td>\n",
       "      <td>0</td>\n",
       "      <td>0</td>\n",
       "      <td>0</td>\n",
       "      <td>0</td>\n",
       "      <td>0</td>\n",
       "      <td>0</td>\n",
       "      <td>0</td>\n",
       "      <td>...</td>\n",
       "      <td>0</td>\n",
       "      <td>0</td>\n",
       "      <td>0</td>\n",
       "      <td>0</td>\n",
       "      <td>0</td>\n",
       "      <td>0</td>\n",
       "      <td>0</td>\n",
       "      <td>0</td>\n",
       "      <td>0</td>\n",
       "      <td>0</td>\n",
       "    </tr>\n",
       "    <tr>\n",
       "      <th>B0000013GH</th>\n",
       "      <td>0</td>\n",
       "      <td>0</td>\n",
       "      <td>0</td>\n",
       "      <td>0</td>\n",
       "      <td>0</td>\n",
       "      <td>0</td>\n",
       "      <td>0</td>\n",
       "      <td>0</td>\n",
       "      <td>0</td>\n",
       "      <td>0</td>\n",
       "      <td>...</td>\n",
       "      <td>0</td>\n",
       "      <td>0</td>\n",
       "      <td>0</td>\n",
       "      <td>0</td>\n",
       "      <td>0</td>\n",
       "      <td>0</td>\n",
       "      <td>0</td>\n",
       "      <td>0</td>\n",
       "      <td>0</td>\n",
       "      <td>0</td>\n",
       "    </tr>\n",
       "  </tbody>\n",
       "</table>\n",
       "<p>5 rows × 4509 columns</p>\n",
       "</div>"
      ],
      "text/plain": [
       "reviewerID  A1020L7BWW9RAX  A10323WWTFPSGP  A103KNDW8GN92L  A103W7ZPKGOCC9  \\\n",
       "asin                                                                         \n",
       "B00000016W               0               0               0               0   \n",
       "B00000064G               0               0               0               0   \n",
       "B000000OUJ               0               0               0               0   \n",
       "B000000TDH               0               0               0               0   \n",
       "B0000013GH               0               0               0               0   \n",
       "\n",
       "reviewerID  A105S56ODHGJEK  A1065Q31DNPRAN  A106BECWWKQIC9  A107R79K63CE30  \\\n",
       "asin                                                                         \n",
       "B00000016W               0               0               0               0   \n",
       "B00000064G               0               0               0               0   \n",
       "B000000OUJ               0               0               0               0   \n",
       "B000000TDH               0               0               0               0   \n",
       "B0000013GH               0               0               0               0   \n",
       "\n",
       "reviewerID  A10872FHIJAKKD  A109WIE49N0GV  ...  AZPWAXJG9OJXV  AZSN1TO0JI87B  \\\n",
       "asin                                       ...                                 \n",
       "B00000016W               0              0  ...              0              0   \n",
       "B00000064G               0              0  ...              0              0   \n",
       "B000000OUJ               0              0  ...              0              0   \n",
       "B000000TDH               0              0  ...              0              0   \n",
       "B0000013GH               0              0  ...              0              0   \n",
       "\n",
       "reviewerID  AZT9OGZODW8VW  AZTVHB938DIG5  AZTZ61W23JET0  AZVA13Q19KURR  \\\n",
       "asin                                                                     \n",
       "B00000016W              0              0              0              0   \n",
       "B00000064G              0              0              0              0   \n",
       "B000000OUJ              0              0              0              0   \n",
       "B000000TDH              0              0              0              0   \n",
       "B0000013GH              0              0              0              0   \n",
       "\n",
       "reviewerID  AZVH70JMJ2IHX  AZWCAUCNLGL4H  AZY3MDFJJFI91  AZYZA8FDL48GD  \n",
       "asin                                                                    \n",
       "B00000016W              0              0              0              0  \n",
       "B00000064G              0              0              0              0  \n",
       "B000000OUJ              0              0              0              0  \n",
       "B000000TDH              0              0              0              0  \n",
       "B0000013GH              0              0              0              0  \n",
       "\n",
       "[5 rows x 4509 columns]"
      ]
     },
     "execution_count": 36,
     "metadata": {},
     "output_type": "execute_result"
    }
   ],
   "source": [
    "X = ratings_matrix.T\n",
    "X.head()"
   ]
  },
  {
   "cell_type": "code",
   "execution_count": 37,
   "id": "afa6dcf4",
   "metadata": {},
   "outputs": [],
   "source": [
    "X1 = X"
   ]
  },
  {
   "cell_type": "code",
   "execution_count": 38,
   "id": "f5fd3d01",
   "metadata": {},
   "outputs": [
    {
     "data": {
      "text/plain": [
       "(254, 10)"
      ]
     },
     "execution_count": 38,
     "metadata": {},
     "output_type": "execute_result"
    }
   ],
   "source": [
    "#Decomposing the Matrix\n",
    "from sklearn.decomposition import TruncatedSVD\n",
    "SVD = TruncatedSVD(n_components=10)\n",
    "decomposed_matrix = SVD.fit_transform(X)\n",
    "decomposed_matrix.shape"
   ]
  },
  {
   "cell_type": "code",
   "execution_count": 39,
   "id": "362c33e1",
   "metadata": {},
   "outputs": [
    {
     "data": {
      "text/plain": [
       "(254, 254)"
      ]
     },
     "execution_count": 39,
     "metadata": {},
     "output_type": "execute_result"
    }
   ],
   "source": [
    "#Correlation Matrix\n",
    "\n",
    "correlation_matrix = np.corrcoef(decomposed_matrix)\n",
    "correlation_matrix.shape"
   ]
  },
  {
   "cell_type": "code",
   "execution_count": 40,
   "id": "f38c1e65",
   "metadata": {},
   "outputs": [
    {
     "data": {
      "text/plain": [
       "'B005QJZ5FA'"
      ]
     },
     "execution_count": 40,
     "metadata": {},
     "output_type": "execute_result"
    }
   ],
   "source": [
    "X.index[253]"
   ]
  },
  {
   "cell_type": "code",
   "execution_count": 41,
   "id": "ebec9299",
   "metadata": {},
   "outputs": [
    {
     "data": {
      "text/plain": [
       "253"
      ]
     },
     "execution_count": 41,
     "metadata": {},
     "output_type": "execute_result"
    }
   ],
   "source": [
    "i = \"B005QJZ5FA\"\n",
    "\n",
    "product_names = list(X.index)\n",
    "product_ID = product_names.index(i)\n",
    "product_ID"
   ]
  },
  {
   "cell_type": "code",
   "execution_count": 42,
   "id": "0e547e7c",
   "metadata": {},
   "outputs": [
    {
     "data": {
      "text/plain": [
       "(254,)"
      ]
     },
     "execution_count": 42,
     "metadata": {},
     "output_type": "execute_result"
    }
   ],
   "source": [
    "correlation_product_ID = correlation_matrix[product_ID]\n",
    "correlation_product_ID.shape"
   ]
  },
  {
   "cell_type": "code",
   "execution_count": 43,
   "id": "d649a900",
   "metadata": {},
   "outputs": [
    {
     "data": {
      "text/plain": [
       "['B000000TDH',\n",
       " 'B000001DZO',\n",
       " 'B0000025WQ',\n",
       " 'B0000029DD',\n",
       " 'B000002J2S',\n",
       " 'B000002VN7',\n",
       " 'B000002VT6',\n",
       " 'B000006045',\n",
       " 'B00000D9TQ',\n",
       " 'B00000IAU3',\n",
       " 'B00001QGQI',\n",
       " 'B00004Z41Q',\n",
       " 'B000059MEK',\n",
       " 'B00005K9KP',\n",
       " 'B00005M987',\n",
       " 'B00005NZDW',\n",
       " 'B00005QDVS',\n",
       " 'B00005TPKC',\n",
       " 'B00005YW4H',\n",
       " 'B0000646TK',\n",
       " 'B00006L7XQ',\n",
       " 'B00007KK7V',\n",
       " 'B000089CJI',\n",
       " 'B000089RVR']"
      ]
     },
     "execution_count": 43,
     "metadata": {},
     "output_type": "execute_result"
    }
   ],
   "source": [
    "Recommend = list(X.index[correlation_product_ID > 0.65])\n",
    "\n",
    "# Removes the item already bought by the customer\n",
    "Recommend.remove(i) \n",
    "\n",
    "Recommend[0:24]"
   ]
  },
  {
   "cell_type": "code",
   "execution_count": null,
   "id": "cd19f0b3",
   "metadata": {},
   "outputs": [],
   "source": []
  }
 ],
 "metadata": {
  "kernelspec": {
   "display_name": "Python 3.10.4 ('torch')",
   "language": "python",
   "name": "python3"
  },
  "language_info": {
   "codemirror_mode": {
    "name": "ipython",
    "version": 3
   },
   "file_extension": ".py",
   "mimetype": "text/x-python",
   "name": "python",
   "nbconvert_exporter": "python",
   "pygments_lexer": "ipython3",
   "version": "3.10.4"
  },
  "vscode": {
   "interpreter": {
    "hash": "690c9ea092c8a6fc9517542155c4d05fadb9e10c4733225e6f103cd30826cc12"
   }
  }
 },
 "nbformat": 4,
 "nbformat_minor": 5
}
