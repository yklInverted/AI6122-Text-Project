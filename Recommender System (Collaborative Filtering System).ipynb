{
 "cells": [
  {
   "cell_type": "code",
   "execution_count": 1,
   "id": "b2b6c3da",
   "metadata": {},
   "outputs": [],
   "source": [
    "# Cite: https://www.kaggle.com/code/saurav9786/recommender-system-using-amazon-reviews#Collaberative-filtering-(Item-Item-recommedation)\n",
    "import numpy as np # linear algebra\n",
    "import pandas as pd # data processing, CSV file I/O (e.g. pd.read_csv)\n",
    "import os\n",
    "from IPython.core.interactiveshell import InteractiveShell\n",
    "InteractiveShell.ast_node_interactivity = \"all\"\n",
    "import math\n",
    "import json\n",
    "import time\n",
    "import matplotlib.pyplot as plt\n",
    "import seaborn as sns\n",
    "from sklearn.metrics.pairwise import cosine_similarity\n",
    "from sklearn.model_selection import train_test_split\n",
    "from sklearn.neighbors import NearestNeighbors\n",
    "import joblib\n",
    "import scipy.sparse\n",
    "from scipy.sparse import csr_matrix\n",
    "from scipy.sparse.linalg import svds\n",
    "import warnings; warnings.simplefilter('ignore')\n",
    "import nltk\n",
    "import sys\n",
    "%matplotlib inline"
   ]
  },
  {
   "cell_type": "code",
   "execution_count": 2,
   "id": "e2c17f5a",
   "metadata": {
    "scrolled": true
   },
   "outputs": [
    {
     "name": "stdout",
     "output_type": "stream",
     "text": [
      "       reviewerID        asin          reviewerName helpful  \\\n",
      "0  A3EBHHCZO6V2A4  5555991584  Amaranth \"music fan\"  [3, 3]   \n",
      "1   AZPWAXJG9OJXV  5555991584             bethtexas  [0, 0]   \n",
      "2  A38IRL0X2T4DPF  5555991584           bob turnley  [2, 2]   \n",
      "3  A22IK3I6U76GX0  5555991584                 Calle  [1, 1]   \n",
      "4  A1AISPOIIHTHXX  5555991584           Cloud \"...\"  [1, 1]   \n",
      "\n",
      "                                          reviewText  overall  \\\n",
      "0  It's hard to believe \"Memory of Trees\" came ou...        5   \n",
      "1  A clasically-styled and introverted album, Mem...        5   \n",
      "2  I never thought Enya would reach the sublime h...        5   \n",
      "3  This is the third review of an irish album I w...        5   \n",
      "4  Enya, despite being a successful recording art...        4   \n",
      "\n",
      "                        summary  unixReviewTime   reviewTime  \n",
      "0       Enya's last great album      1158019200  09 12, 2006  \n",
      "1      Enya at her most elegant       991526400   06 3, 2001  \n",
      "2               The best so far      1058140800  07 14, 2003  \n",
      "3  Ireland produces good music.       957312000   05 3, 2000  \n",
      "4        4.5; music to dream to      1200528000  01 17, 2008  \n"
     ]
    }
   ],
   "source": [
    "data_path = \"./data/Digital_Music_5.json\"\n",
    "table = pd.read_json(data_path, 'records', lines = True).reset_index(drop = True, inplace = False)\n",
    "print(table.head())"
   ]
  },
  {
   "cell_type": "code",
   "execution_count": 3,
   "id": "cb0c1f72",
   "metadata": {},
   "outputs": [],
   "source": [
    "from collections import defaultdict\n",
    "from textblob import TextBlob\n",
    "def get_sentiment(table):\n",
    "    polarity = []\n",
    "    subjectivity = []\n",
    "    for idx, row in table.iterrows():\n",
    "        review = TextBlob(row['reviewText'])\n",
    "        sentiment = review.sentiment\n",
    "        polarity.append(sentiment.polarity)\n",
    "        subjectivity.append(sentiment.subjectivity)\n",
    "    new_table = table\n",
    "    new_table.insert(len(table.columns), column='polarity', value=polarity)\n",
    "    new_table.insert(len(table.columns), column='subjectivity', value=subjectivity)\n",
    "    return new_table"
   ]
  },
  {
   "cell_type": "code",
   "execution_count": 4,
   "id": "ef848e63",
   "metadata": {},
   "outputs": [
    {
     "data": {
      "text/html": [
       "<div>\n",
       "<style scoped>\n",
       "    .dataframe tbody tr th:only-of-type {\n",
       "        vertical-align: middle;\n",
       "    }\n",
       "\n",
       "    .dataframe tbody tr th {\n",
       "        vertical-align: top;\n",
       "    }\n",
       "\n",
       "    .dataframe thead th {\n",
       "        text-align: right;\n",
       "    }\n",
       "</style>\n",
       "<table border=\"1\" class=\"dataframe\">\n",
       "  <thead>\n",
       "    <tr style=\"text-align: right;\">\n",
       "      <th></th>\n",
       "      <th>reviewerID</th>\n",
       "      <th>asin</th>\n",
       "      <th>reviewerName</th>\n",
       "      <th>helpful</th>\n",
       "      <th>reviewText</th>\n",
       "      <th>overall</th>\n",
       "      <th>summary</th>\n",
       "      <th>unixReviewTime</th>\n",
       "      <th>reviewTime</th>\n",
       "      <th>polarity</th>\n",
       "      <th>subjectivity</th>\n",
       "    </tr>\n",
       "  </thead>\n",
       "  <tbody>\n",
       "    <tr>\n",
       "      <th>0</th>\n",
       "      <td>A3EBHHCZO6V2A4</td>\n",
       "      <td>5555991584</td>\n",
       "      <td>Amaranth \"music fan\"</td>\n",
       "      <td>[3, 3]</td>\n",
       "      <td>It's hard to believe \"Memory of Trees\" came ou...</td>\n",
       "      <td>5</td>\n",
       "      <td>Enya's last great album</td>\n",
       "      <td>1158019200</td>\n",
       "      <td>09 12, 2006</td>\n",
       "      <td>0.186515</td>\n",
       "      <td>0.501742</td>\n",
       "    </tr>\n",
       "    <tr>\n",
       "      <th>1</th>\n",
       "      <td>AZPWAXJG9OJXV</td>\n",
       "      <td>5555991584</td>\n",
       "      <td>bethtexas</td>\n",
       "      <td>[0, 0]</td>\n",
       "      <td>A clasically-styled and introverted album, Mem...</td>\n",
       "      <td>5</td>\n",
       "      <td>Enya at her most elegant</td>\n",
       "      <td>991526400</td>\n",
       "      <td>06 3, 2001</td>\n",
       "      <td>0.251479</td>\n",
       "      <td>0.507298</td>\n",
       "    </tr>\n",
       "    <tr>\n",
       "      <th>2</th>\n",
       "      <td>A38IRL0X2T4DPF</td>\n",
       "      <td>5555991584</td>\n",
       "      <td>bob turnley</td>\n",
       "      <td>[2, 2]</td>\n",
       "      <td>I never thought Enya would reach the sublime h...</td>\n",
       "      <td>5</td>\n",
       "      <td>The best so far</td>\n",
       "      <td>1058140800</td>\n",
       "      <td>07 14, 2003</td>\n",
       "      <td>0.343074</td>\n",
       "      <td>0.668615</td>\n",
       "    </tr>\n",
       "    <tr>\n",
       "      <th>3</th>\n",
       "      <td>A22IK3I6U76GX0</td>\n",
       "      <td>5555991584</td>\n",
       "      <td>Calle</td>\n",
       "      <td>[1, 1]</td>\n",
       "      <td>This is the third review of an irish album I w...</td>\n",
       "      <td>5</td>\n",
       "      <td>Ireland produces good music.</td>\n",
       "      <td>957312000</td>\n",
       "      <td>05 3, 2000</td>\n",
       "      <td>0.463788</td>\n",
       "      <td>0.459293</td>\n",
       "    </tr>\n",
       "    <tr>\n",
       "      <th>4</th>\n",
       "      <td>A1AISPOIIHTHXX</td>\n",
       "      <td>5555991584</td>\n",
       "      <td>Cloud \"...\"</td>\n",
       "      <td>[1, 1]</td>\n",
       "      <td>Enya, despite being a successful recording art...</td>\n",
       "      <td>4</td>\n",
       "      <td>4.5; music to dream to</td>\n",
       "      <td>1200528000</td>\n",
       "      <td>01 17, 2008</td>\n",
       "      <td>0.342808</td>\n",
       "      <td>0.580449</td>\n",
       "    </tr>\n",
       "  </tbody>\n",
       "</table>\n",
       "</div>"
      ],
      "text/plain": [
       "       reviewerID        asin          reviewerName helpful  \\\n",
       "0  A3EBHHCZO6V2A4  5555991584  Amaranth \"music fan\"  [3, 3]   \n",
       "1   AZPWAXJG9OJXV  5555991584             bethtexas  [0, 0]   \n",
       "2  A38IRL0X2T4DPF  5555991584           bob turnley  [2, 2]   \n",
       "3  A22IK3I6U76GX0  5555991584                 Calle  [1, 1]   \n",
       "4  A1AISPOIIHTHXX  5555991584           Cloud \"...\"  [1, 1]   \n",
       "\n",
       "                                          reviewText  overall  \\\n",
       "0  It's hard to believe \"Memory of Trees\" came ou...        5   \n",
       "1  A clasically-styled and introverted album, Mem...        5   \n",
       "2  I never thought Enya would reach the sublime h...        5   \n",
       "3  This is the third review of an irish album I w...        5   \n",
       "4  Enya, despite being a successful recording art...        4   \n",
       "\n",
       "                        summary  unixReviewTime   reviewTime  polarity  \\\n",
       "0       Enya's last great album      1158019200  09 12, 2006  0.186515   \n",
       "1      Enya at her most elegant       991526400   06 3, 2001  0.251479   \n",
       "2               The best so far      1058140800  07 14, 2003  0.343074   \n",
       "3  Ireland produces good music.       957312000   05 3, 2000  0.463788   \n",
       "4        4.5; music to dream to      1200528000  01 17, 2008  0.342808   \n",
       "\n",
       "   subjectivity  \n",
       "0      0.501742  \n",
       "1      0.507298  \n",
       "2      0.668615  \n",
       "3      0.459293  \n",
       "4      0.580449  "
      ]
     },
     "metadata": {},
     "output_type": "display_data"
    }
   ],
   "source": [
    "table = get_sentiment(table)\n",
    "display(table.head())"
   ]
  },
  {
   "cell_type": "code",
   "execution_count": 5,
   "id": "2ce4bc31",
   "metadata": {},
   "outputs": [
    {
     "data": {
      "image/png": "[encoded data removed]",
      "text/plain": [
       "<Figure size 720x360 with 1 Axes>"
      ]
     },
     "metadata": {
      "needs_background": "light"
     },
     "output_type": "display_data"
    }
   ],
   "source": [
    "import matplotlib.pyplot as plt\n",
    "import seaborn as sns\n",
    "num_bins = 50\n",
    "plt.figure(figsize=(10,5))\n",
    "n, bins, patches = plt.hist(table.polarity, num_bins, facecolor='blue', alpha=0.5)\n",
    "plt.xlabel('Polarity')\n",
    "plt.ylabel('Number of Reviews')\n",
    "plt.title('Histogram of Polarity Score')\n",
    "plt.show();"
   ]
  },
  {
   "cell_type": "code",
   "execution_count": 6,
   "id": "d9f4f106",
   "metadata": {},
   "outputs": [
    {
     "data": {
      "image/png": "[encoded data removed]",
      "text/plain": [
       "<Figure size 720x360 with 1 Axes>"
      ]
     },
     "metadata": {
      "needs_background": "light"
     },
     "output_type": "display_data"
    }
   ],
   "source": [
    "import matplotlib.pyplot as plt\n",
    "import seaborn as sns\n",
    "num_bins = 50\n",
    "plt.figure(figsize=(10,5))\n",
    "n, bins, patches = plt.hist(table.subjectivity, num_bins, facecolor='blue', alpha=0.5)\n",
    "plt.xlabel('Subjectivity')\n",
    "plt.ylabel('Number of Reviews')\n",
    "plt.title('Histogram of Subjectivity Score')\n",
    "plt.show();"
   ]
  },
  {
   "cell_type": "code",
   "execution_count": 7,
   "id": "22e3eee9",
   "metadata": {},
   "outputs": [
    {
     "data": {
      "text/html": [
       "<div>\n",
       "<style scoped>\n",
       "    .dataframe tbody tr th:only-of-type {\n",
       "        vertical-align: middle;\n",
       "    }\n",
       "\n",
       "    .dataframe tbody tr th {\n",
       "        vertical-align: top;\n",
       "    }\n",
       "\n",
       "    .dataframe thead th {\n",
       "        text-align: right;\n",
       "    }\n",
       "</style>\n",
       "<table border=\"1\" class=\"dataframe\">\n",
       "  <thead>\n",
       "    <tr style=\"text-align: right;\">\n",
       "      <th></th>\n",
       "      <th>reviewerID</th>\n",
       "      <th>asin</th>\n",
       "      <th>reviewerName</th>\n",
       "      <th>helpful</th>\n",
       "      <th>reviewText</th>\n",
       "      <th>overall</th>\n",
       "      <th>summary</th>\n",
       "      <th>unixReviewTime</th>\n",
       "      <th>reviewTime</th>\n",
       "      <th>polarity</th>\n",
       "      <th>subjectivity</th>\n",
       "      <th>unbias_overall</th>\n",
       "    </tr>\n",
       "  </thead>\n",
       "  <tbody>\n",
       "    <tr>\n",
       "      <th>0</th>\n",
       "      <td>A3EBHHCZO6V2A4</td>\n",
       "      <td>5555991584</td>\n",
       "      <td>Amaranth \"music fan\"</td>\n",
       "      <td>[3, 3]</td>\n",
       "      <td>It's hard to believe \"Memory of Trees\" came ou...</td>\n",
       "      <td>5</td>\n",
       "      <td>Enya's last great album</td>\n",
       "      <td>1158019200</td>\n",
       "      <td>09 12, 2006</td>\n",
       "      <td>0.186515</td>\n",
       "      <td>0.501742</td>\n",
       "      <td>3.836950</td>\n",
       "    </tr>\n",
       "    <tr>\n",
       "      <th>1</th>\n",
       "      <td>AZPWAXJG9OJXV</td>\n",
       "      <td>5555991584</td>\n",
       "      <td>bethtexas</td>\n",
       "      <td>[0, 0]</td>\n",
       "      <td>A clasically-styled and introverted album, Mem...</td>\n",
       "      <td>5</td>\n",
       "      <td>Enya at her most elegant</td>\n",
       "      <td>991526400</td>\n",
       "      <td>06 3, 2001</td>\n",
       "      <td>0.251479</td>\n",
       "      <td>0.507298</td>\n",
       "      <td>3.925441</td>\n",
       "    </tr>\n",
       "    <tr>\n",
       "      <th>2</th>\n",
       "      <td>A38IRL0X2T4DPF</td>\n",
       "      <td>5555991584</td>\n",
       "      <td>bob turnley</td>\n",
       "      <td>[2, 2]</td>\n",
       "      <td>I never thought Enya would reach the sublime h...</td>\n",
       "      <td>5</td>\n",
       "      <td>The best so far</td>\n",
       "      <td>1058140800</td>\n",
       "      <td>07 14, 2003</td>\n",
       "      <td>0.343074</td>\n",
       "      <td>0.668615</td>\n",
       "      <td>3.896256</td>\n",
       "    </tr>\n",
       "    <tr>\n",
       "      <th>3</th>\n",
       "      <td>A22IK3I6U76GX0</td>\n",
       "      <td>5555991584</td>\n",
       "      <td>Calle</td>\n",
       "      <td>[1, 1]</td>\n",
       "      <td>This is the third review of an irish album I w...</td>\n",
       "      <td>5</td>\n",
       "      <td>Ireland produces good music.</td>\n",
       "      <td>957312000</td>\n",
       "      <td>05 3, 2000</td>\n",
       "      <td>0.463788</td>\n",
       "      <td>0.459293</td>\n",
       "      <td>4.180041</td>\n",
       "    </tr>\n",
       "    <tr>\n",
       "      <th>4</th>\n",
       "      <td>A1AISPOIIHTHXX</td>\n",
       "      <td>5555991584</td>\n",
       "      <td>Cloud \"...\"</td>\n",
       "      <td>[1, 1]</td>\n",
       "      <td>Enya, despite being a successful recording art...</td>\n",
       "      <td>4</td>\n",
       "      <td>4.5; music to dream to</td>\n",
       "      <td>1200528000</td>\n",
       "      <td>01 17, 2008</td>\n",
       "      <td>0.342808</td>\n",
       "      <td>0.580449</td>\n",
       "      <td>3.696643</td>\n",
       "    </tr>\n",
       "  </tbody>\n",
       "</table>\n",
       "</div>"
      ],
      "text/plain": [
       "       reviewerID        asin          reviewerName helpful  \\\n",
       "0  A3EBHHCZO6V2A4  5555991584  Amaranth \"music fan\"  [3, 3]   \n",
       "1   AZPWAXJG9OJXV  5555991584             bethtexas  [0, 0]   \n",
       "2  A38IRL0X2T4DPF  5555991584           bob turnley  [2, 2]   \n",
       "3  A22IK3I6U76GX0  5555991584                 Calle  [1, 1]   \n",
       "4  A1AISPOIIHTHXX  5555991584           Cloud \"...\"  [1, 1]   \n",
       "\n",
       "                                          reviewText  overall  \\\n",
       "0  It's hard to believe \"Memory of Trees\" came ou...        5   \n",
       "1  A clasically-styled and introverted album, Mem...        5   \n",
       "2  I never thought Enya would reach the sublime h...        5   \n",
       "3  This is the third review of an irish album I w...        5   \n",
       "4  Enya, despite being a successful recording art...        4   \n",
       "\n",
       "                        summary  unixReviewTime   reviewTime  polarity  \\\n",
       "0       Enya's last great album      1158019200  09 12, 2006  0.186515   \n",
       "1      Enya at her most elegant       991526400   06 3, 2001  0.251479   \n",
       "2               The best so far      1058140800  07 14, 2003  0.343074   \n",
       "3  Ireland produces good music.       957312000   05 3, 2000  0.463788   \n",
       "4        4.5; music to dream to      1200528000  01 17, 2008  0.342808   \n",
       "\n",
       "   subjectivity  unbias_overall  \n",
       "0      0.501742        3.836950  \n",
       "1      0.507298        3.925441  \n",
       "2      0.668615        3.896256  \n",
       "3      0.459293        4.180041  \n",
       "4      0.580449        3.696643  "
      ]
     },
     "metadata": {},
     "output_type": "display_data"
    }
   ],
   "source": [
    "#deal with the bias and noise of the overall column\n",
    "def unbias(overall, polarity, subjectivity):\n",
    "    if subjectivity > 0.5:\n",
    "        return ((overall+5*polarity*(2-subjectivity*2))+4)*4/14+1\n",
    "    else:\n",
    "        return ((overall+5*polarity*subjectivity*2)+4)*4/14+1\n",
    "table['unbias_overall'] = table.apply(lambda row: unbias(row['overall'], row['polarity'], row['subjectivity']), axis=1)\n",
    "display(table.head())"
   ]
  },
  {
   "cell_type": "code",
   "execution_count": 8,
   "id": "16cfcc87",
   "metadata": {},
   "outputs": [
    {
     "data": {
      "text/plain": [
       "(64706, 12)"
      ]
     },
     "execution_count": 8,
     "metadata": {},
     "output_type": "execute_result"
    }
   ],
   "source": [
    "table.shape"
   ]
  },
  {
   "cell_type": "code",
   "execution_count": 9,
   "id": "558b7438",
   "metadata": {},
   "outputs": [
    {
     "data": {
      "text/plain": [
       "count    64706.000000\n",
       "mean         3.620390\n",
       "std          0.411975\n",
       "min          1.285714\n",
       "25%          3.454510\n",
       "50%          3.719636\n",
       "75%          3.893764\n",
       "max          5.000000\n",
       "Name: unbias_overall, dtype: float64"
      ]
     },
     "execution_count": 9,
     "metadata": {},
     "output_type": "execute_result"
    }
   ],
   "source": [
    "table.describe()['unbias_overall'].T"
   ]
  },
  {
   "cell_type": "code",
   "execution_count": 10,
   "id": "ce04addb",
   "metadata": {},
   "outputs": [
    {
     "name": "stdout",
     "output_type": "stream",
     "text": [
      "Number of missing values across columns: \n",
      " reviewerID          0\n",
      "asin                0\n",
      "reviewerName      177\n",
      "helpful             0\n",
      "reviewText          0\n",
      "overall             0\n",
      "summary             0\n",
      "unixReviewTime      0\n",
      "reviewTime          0\n",
      "polarity            0\n",
      "subjectivity        0\n",
      "unbias_overall      0\n",
      "dtype: int64\n"
     ]
    }
   ],
   "source": [
    "print('Number of missing values across columns: \\n',table.isnull().sum())"
   ]
  },
  {
   "cell_type": "code",
   "execution_count": 11,
   "id": "0920fab3",
   "metadata": {},
   "outputs": [
    {
     "name": "stdout",
     "output_type": "stream",
     "text": [
      "Total data \n",
      "--------------------------------------------------\n",
      "\n",
      "Total no of ratings : 64706\n",
      "Total No of Users   : 5541\n",
      "Total No of products  : 3568\n"
     ]
    }
   ],
   "source": [
    "print(\"Total data \")\n",
    "print(\"-\"*50)\n",
    "print(\"\\nTotal no of ratings :\",table.shape[0])\n",
    "print(\"Total No of Users   :\", len(np.unique(table.reviewerID)))\n",
    "print(\"Total No of products  :\", len(np.unique(table.asin)))"
   ]
  },
  {
   "cell_type": "code",
   "execution_count": 12,
   "id": "e661466b",
   "metadata": {},
   "outputs": [],
   "source": [
    "table.drop(['reviewerName'], axis=1,inplace=True)\n",
    "table.drop(['helpful'], axis=1,inplace=True)\n",
    "table.drop(['reviewText'], axis=1,inplace=True)\n",
    "table.drop(['summary'], axis=1,inplace=True)\n",
    "table.drop(['unixReviewTime'], axis=1,inplace=True)\n",
    "table.drop(['reviewTime'], axis=1,inplace=True)\n",
    "table.drop(['polarity'], axis=1,inplace=True)\n",
    "table.drop(['overall'], axis=1,inplace=True)\n",
    "table.drop(['subjectivity'], axis=1,inplace=True)"
   ]
  },
  {
   "cell_type": "code",
   "execution_count": 13,
   "id": "c5cef345",
   "metadata": {},
   "outputs": [
    {
     "data": {
      "text/plain": [
       "reviewerID\n",
       "A9Q28YTLYREO7     578\n",
       "A3HU0B9XUEVHIM    375\n",
       "A3KJ6JAZPH382D    301\n",
       "A3C6ZCBUNXUT7V    261\n",
       "A8IFUOL8S9BZC     256\n",
       "Name: unbias_overall, dtype: int64"
      ]
     },
     "execution_count": 13,
     "metadata": {},
     "output_type": "execute_result"
    }
   ],
   "source": [
    "#Analysis of rating given by the user \n",
    "\n",
    "no_of_rated_products_per_user = table.groupby(by='reviewerID')['unbias_overall'].count().sort_values(ascending=False)\n",
    "\n",
    "no_of_rated_products_per_user.head()"
   ]
  },
  {
   "cell_type": "code",
   "execution_count": 14,
   "id": "68766473",
   "metadata": {},
   "outputs": [
    {
     "data": {
      "text/plain": [
       "count    5541.000000\n",
       "mean       11.677676\n",
       "std        18.222800\n",
       "min         5.000000\n",
       "25%         5.000000\n",
       "50%         7.000000\n",
       "75%        11.000000\n",
       "max       578.000000\n",
       "Name: unbias_overall, dtype: float64"
      ]
     },
     "execution_count": 14,
     "metadata": {},
     "output_type": "execute_result"
    }
   ],
   "source": [
    "no_of_rated_products_per_user.describe()"
   ]
  },
  {
   "cell_type": "code",
   "execution_count": 15,
   "id": "1b4f71a8",
   "metadata": {},
   "outputs": [],
   "source": [
    "quantiles = no_of_rated_products_per_user.quantile(np.arange(0,1.01,0.01), interpolation='higher')"
   ]
  },
  {
   "cell_type": "code",
   "execution_count": 16,
   "id": "49046aeb",
   "metadata": {},
   "outputs": [
    {
     "data": {
      "text/plain": [
       "<Figure size 720x720 with 0 Axes>"
      ]
     },
     "execution_count": 16,
     "metadata": {},
     "output_type": "execute_result"
    },
    {
     "data": {
      "text/plain": [
       "Text(0.5, 1.0, 'Quantiles and their Values')"
      ]
     },
     "execution_count": 16,
     "metadata": {},
     "output_type": "execute_result"
    },
    {
     "data": {
      "text/plain": [
       "<AxesSubplot:title={'center':'Quantiles and their Values'}>"
      ]
     },
     "execution_count": 16,
     "metadata": {},
     "output_type": "execute_result"
    },
    {
     "data": {
      "text/plain": [
       "<matplotlib.collections.PathCollection at 0x2488ff19e20>"
      ]
     },
     "execution_count": 16,
     "metadata": {},
     "output_type": "execute_result"
    },
    {
     "data": {
      "text/plain": [
       "<matplotlib.collections.PathCollection at 0x248f7b56f70>"
      ]
     },
     "execution_count": 16,
     "metadata": {},
     "output_type": "execute_result"
    },
    {
     "data": {
      "text/plain": [
       "Text(0, 0.5, 'No of ratings by user')"
      ]
     },
     "execution_count": 16,
     "metadata": {},
     "output_type": "execute_result"
    },
    {
     "data": {
      "text/plain": [
       "Text(0.5, 0, 'Value at the quantile')"
      ]
     },
     "execution_count": 16,
     "metadata": {},
     "output_type": "execute_result"
    },
    {
     "data": {
      "text/plain": [
       "<matplotlib.legend.Legend at 0x2488ff19d90>"
      ]
     },
     "execution_count": 16,
     "metadata": {},
     "output_type": "execute_result"
    },
    {
     "data": {
      "image/png": "[encoded data removed]",
      "text/plain": [
       "<Figure size 720x720 with 1 Axes>"
      ]
     },
     "metadata": {
      "needs_background": "light"
     },
     "output_type": "display_data"
    }
   ],
   "source": [
    "plt.figure(figsize=(10,10))\n",
    "plt.title(\"Quantiles and their Values\")\n",
    "quantiles.plot()\n",
    "# quantiles with 0.05 difference\n",
    "plt.scatter(x=quantiles.index[::5], y=quantiles.values[::5], c='orange', label=\"quantiles with 0.05 intervals\")\n",
    "# quantiles with 0.25 difference\n",
    "plt.scatter(x=quantiles.index[::25], y=quantiles.values[::25], c='m', label = \"quantiles with 0.25 intervals\")\n",
    "plt.ylabel('No of ratings by user')\n",
    "plt.xlabel('Value at the quantile')\n",
    "plt.legend(loc='best')\n",
    "plt.show()"
   ]
  },
  {
   "cell_type": "code",
   "execution_count": 17,
   "id": "68ccf9e2",
   "metadata": {},
   "outputs": [
    {
     "name": "stdout",
     "output_type": "stream",
     "text": [
      "\n",
      " No of rated product more than 50 per user : 126\n",
      "\n"
     ]
    }
   ],
   "source": [
    "print('\\n No of rated product more than 50 per user : {}\\n'.format(sum(no_of_rated_products_per_user >= 50)) )"
   ]
  },
  {
   "cell_type": "code",
   "execution_count": 18,
   "id": "49d67ada",
   "metadata": {},
   "outputs": [],
   "source": [
    "##Popularity Based Recommendation\n",
    "\n",
    "#Getting the new dataframe which contains users who has given 50 or more ratings\n",
    "new_df=table.groupby(\"asin\").filter(lambda x:x['unbias_overall'].count() >=50)"
   ]
  },
  {
   "cell_type": "code",
   "execution_count": 19,
   "id": "e3eb60d5",
   "metadata": {},
   "outputs": [
    {
     "data": {
      "text/plain": [
       "[<matplotlib.lines.Line2D at 0x248924cdb20>]"
      ]
     },
     "execution_count": 19,
     "metadata": {},
     "output_type": "execute_result"
    },
    {
     "data": {
      "text/plain": [
       "Text(0.5, 1.0, '# RATINGS per Product')"
      ]
     },
     "execution_count": 19,
     "metadata": {},
     "output_type": "execute_result"
    },
    {
     "data": {
      "text/plain": [
       "Text(0.5, 0, 'Product')"
      ]
     },
     "execution_count": 19,
     "metadata": {},
     "output_type": "execute_result"
    },
    {
     "data": {
      "text/plain": [
       "Text(0, 0.5, 'No of ratings per product')"
      ]
     },
     "execution_count": 19,
     "metadata": {},
     "output_type": "execute_result"
    },
    {
     "data": {
      "text/plain": [
       "[Text(-50.0, 0, ''),\n",
       " Text(0.0, 0, ''),\n",
       " Text(50.0, 0, ''),\n",
       " Text(100.0, 0, ''),\n",
       " Text(150.0, 0, ''),\n",
       " Text(200.0, 0, ''),\n",
       " Text(250.0, 0, ''),\n",
       " Text(300.0, 0, '')]"
      ]
     },
     "execution_count": 19,
     "metadata": {},
     "output_type": "execute_result"
    },
    {
     "data": {
      "image/png": "[encoded data removed]",
      "text/plain": [
       "<Figure size 576x288 with 1 Axes>"
      ]
     },
     "metadata": {
      "needs_background": "light"
     },
     "output_type": "display_data"
    }
   ],
   "source": [
    "no_of_ratings_per_product = new_df.groupby(by='asin')['unbias_overall'].count().sort_values(ascending=False)\n",
    "\n",
    "fig = plt.figure(figsize=plt.figaspect(.5))\n",
    "ax = plt.gca()\n",
    "plt.plot(no_of_ratings_per_product.values)\n",
    "plt.title('# RATINGS per Product')\n",
    "plt.xlabel('Product')\n",
    "plt.ylabel('No of ratings per product')\n",
    "ax.set_xticklabels([])\n",
    "\n",
    "plt.show()"
   ]
  },
  {
   "cell_type": "code",
   "execution_count": 20,
   "id": "81bcb988",
   "metadata": {},
   "outputs": [
    {
     "data": {
      "text/plain": [
       "asin\n",
       "B00000016W    3.773347\n",
       "B00000064G    3.691364\n",
       "B000000OUJ    3.821087\n",
       "B000000TDH    3.713958\n",
       "B0000013GH    3.767039\n",
       "Name: unbias_overall, dtype: float64"
      ]
     },
     "execution_count": 20,
     "metadata": {},
     "output_type": "execute_result"
    }
   ],
   "source": [
    "#Average rating of the product \n",
    "\n",
    "new_df.groupby('asin')['unbias_overall'].mean().head()"
   ]
  },
  {
   "cell_type": "code",
   "execution_count": 21,
   "id": "a19515f6",
   "metadata": {},
   "outputs": [
    {
     "data": {
      "text/plain": [
       "asin\n",
       "B0001XANAS    3.918021\n",
       "B000001A6N    3.898387\n",
       "B000002AV5    3.892346\n",
       "B000002P5W    3.880836\n",
       "B000002GVS    3.877410\n",
       "Name: unbias_overall, dtype: float64"
      ]
     },
     "execution_count": 21,
     "metadata": {},
     "output_type": "execute_result"
    }
   ],
   "source": [
    "new_df.groupby('asin')['unbias_overall'].mean().sort_values(ascending=False).head()"
   ]
  },
  {
   "cell_type": "code",
   "execution_count": 22,
   "id": "3f6db809",
   "metadata": {},
   "outputs": [
    {
     "data": {
      "text/plain": [
       "asin\n",
       "B0007NFL18    272\n",
       "B000084T18    271\n",
       "B00006690F    204\n",
       "B00004T9UF    202\n",
       "B00005YW4H    190\n",
       "Name: unbias_overall, dtype: int64"
      ]
     },
     "execution_count": 22,
     "metadata": {},
     "output_type": "execute_result"
    }
   ],
   "source": [
    "#Total no of rating for product\n",
    "\n",
    "new_df.groupby('asin')['unbias_overall'].count().sort_values(ascending=False).head()"
   ]
  },
  {
   "cell_type": "code",
   "execution_count": 23,
   "id": "0db478d1",
   "metadata": {},
   "outputs": [],
   "source": [
    "ratings_mean_count = pd.DataFrame(new_df.groupby('asin')['unbias_overall'].mean())"
   ]
  },
  {
   "cell_type": "code",
   "execution_count": 24,
   "id": "67aa0ad5",
   "metadata": {},
   "outputs": [],
   "source": [
    "ratings_mean_count['rating_counts'] = pd.DataFrame(new_df.groupby('asin')['unbias_overall'].count())"
   ]
  },
  {
   "cell_type": "code",
   "execution_count": 25,
   "id": "8919c967",
   "metadata": {},
   "outputs": [
    {
     "data": {
      "text/html": [
       "<div>\n",
       "<style scoped>\n",
       "    .dataframe tbody tr th:only-of-type {\n",
       "        vertical-align: middle;\n",
       "    }\n",
       "\n",
       "    .dataframe tbody tr th {\n",
       "        vertical-align: top;\n",
       "    }\n",
       "\n",
       "    .dataframe thead th {\n",
       "        text-align: right;\n",
       "    }\n",
       "</style>\n",
       "<table border=\"1\" class=\"dataframe\">\n",
       "  <thead>\n",
       "    <tr style=\"text-align: right;\">\n",
       "      <th></th>\n",
       "      <th>unbias_overall</th>\n",
       "      <th>rating_counts</th>\n",
       "    </tr>\n",
       "    <tr>\n",
       "      <th>asin</th>\n",
       "      <th></th>\n",
       "      <th></th>\n",
       "    </tr>\n",
       "  </thead>\n",
       "  <tbody>\n",
       "    <tr>\n",
       "      <th>B00000016W</th>\n",
       "      <td>3.773347</td>\n",
       "      <td>135</td>\n",
       "    </tr>\n",
       "    <tr>\n",
       "      <th>B00000064G</th>\n",
       "      <td>3.691364</td>\n",
       "      <td>79</td>\n",
       "    </tr>\n",
       "    <tr>\n",
       "      <th>B000000OUJ</th>\n",
       "      <td>3.821087</td>\n",
       "      <td>79</td>\n",
       "    </tr>\n",
       "    <tr>\n",
       "      <th>B000000TDH</th>\n",
       "      <td>3.713958</td>\n",
       "      <td>54</td>\n",
       "    </tr>\n",
       "    <tr>\n",
       "      <th>B0000013GH</th>\n",
       "      <td>3.767039</td>\n",
       "      <td>51</td>\n",
       "    </tr>\n",
       "  </tbody>\n",
       "</table>\n",
       "</div>"
      ],
      "text/plain": [
       "            unbias_overall  rating_counts\n",
       "asin                                     \n",
       "B00000016W        3.773347            135\n",
       "B00000064G        3.691364             79\n",
       "B000000OUJ        3.821087             79\n",
       "B000000TDH        3.713958             54\n",
       "B0000013GH        3.767039             51"
      ]
     },
     "execution_count": 25,
     "metadata": {},
     "output_type": "execute_result"
    }
   ],
   "source": [
    "ratings_mean_count.head()"
   ]
  },
  {
   "cell_type": "code",
   "execution_count": 26,
   "id": "f68a74ac",
   "metadata": {},
   "outputs": [
    {
     "data": {
      "text/plain": [
       "272"
      ]
     },
     "execution_count": 26,
     "metadata": {},
     "output_type": "execute_result"
    }
   ],
   "source": [
    "ratings_mean_count['rating_counts'].max()"
   ]
  },
  {
   "cell_type": "code",
   "execution_count": 27,
   "id": "edfc5444",
   "metadata": {},
   "outputs": [
    {
     "data": {
      "text/plain": [
       "<Figure size 576x432 with 0 Axes>"
      ]
     },
     "execution_count": 27,
     "metadata": {},
     "output_type": "execute_result"
    },
    {
     "data": {
      "text/plain": [
       "<AxesSubplot:>"
      ]
     },
     "execution_count": 27,
     "metadata": {},
     "output_type": "execute_result"
    },
    {
     "data": {
      "image/png": "[encoded data removed]",
      "text/plain": [
       "<Figure size 576x432 with 1 Axes>"
      ]
     },
     "metadata": {
      "needs_background": "light"
     },
     "output_type": "display_data"
    }
   ],
   "source": [
    "plt.figure(figsize=(8,6))\n",
    "plt.rcParams['patch.force_edgecolor'] = True\n",
    "ratings_mean_count['rating_counts'].hist(bins=50)"
   ]
  },
  {
   "cell_type": "code",
   "execution_count": 28,
   "id": "5791a573",
   "metadata": {},
   "outputs": [
    {
     "data": {
      "text/plain": [
       "<Figure size 576x432 with 0 Axes>"
      ]
     },
     "execution_count": 28,
     "metadata": {},
     "output_type": "execute_result"
    },
    {
     "data": {
      "text/plain": [
       "<AxesSubplot:>"
      ]
     },
     "execution_count": 28,
     "metadata": {},
     "output_type": "execute_result"
    },
    {
     "data": {
      "image/png": "[encoded data removed]",
      "text/plain": [
       "<Figure size 576x432 with 1 Axes>"
      ]
     },
     "metadata": {
      "needs_background": "light"
     },
     "output_type": "display_data"
    }
   ],
   "source": [
    "plt.figure(figsize=(8,6))\n",
    "plt.rcParams['patch.force_edgecolor'] = True\n",
    "ratings_mean_count['unbias_overall'].hist(bins=50)"
   ]
  },
  {
   "cell_type": "code",
   "execution_count": 29,
   "id": "78d19de7",
   "metadata": {},
   "outputs": [
    {
     "data": {
      "text/plain": [
       "<Figure size 576x432 with 0 Axes>"
      ]
     },
     "execution_count": 29,
     "metadata": {},
     "output_type": "execute_result"
    },
    {
     "data": {
      "text/plain": [
       "<seaborn.axisgrid.JointGrid at 0x2489403c5b0>"
      ]
     },
     "execution_count": 29,
     "metadata": {},
     "output_type": "execute_result"
    },
    {
     "data": {
      "text/plain": [
       "<Figure size 576x432 with 0 Axes>"
      ]
     },
     "metadata": {},
     "output_type": "display_data"
    },
    {
     "data": {
      "image/png": "[encoded data removed]",
      "text/plain": [
       "<Figure size 432x432 with 3 Axes>"
      ]
     },
     "metadata": {
      "needs_background": "light"
     },
     "output_type": "display_data"
    }
   ],
   "source": [
    "plt.figure(figsize=(8,6))\n",
    "plt.rcParams['patch.force_edgecolor'] = True\n",
    "sns.jointplot(x='unbias_overall', y='rating_counts', data=ratings_mean_count, alpha=0.4)"
   ]
  },
  {
   "cell_type": "code",
   "execution_count": 30,
   "id": "bd538e28",
   "metadata": {},
   "outputs": [
    {
     "data": {
      "text/plain": [
       "<AxesSubplot:xlabel='asin'>"
      ]
     },
     "execution_count": 30,
     "metadata": {},
     "output_type": "execute_result"
    },
    {
     "data": {
      "image/png": "[encoded data removed]",
      "text/plain": [
       "<Figure size 432x288 with 1 Axes>"
      ]
     },
     "metadata": {
      "needs_background": "light"
     },
     "output_type": "display_data"
    }
   ],
   "source": [
    "popular_products = pd.DataFrame(new_df.groupby('asin')['unbias_overall'].count())\n",
    "most_popular = popular_products.sort_values('unbias_overall', ascending=False)\n",
    "most_popular.head(30).plot(kind = \"bar\")"
   ]
  },
  {
   "cell_type": "code",
   "execution_count": 31,
   "id": "65065e15",
   "metadata": {},
   "outputs": [],
   "source": [
    "from surprise import KNNWithMeans\n",
    "from surprise import Dataset\n",
    "from surprise import accuracy\n",
    "from surprise import Reader\n",
    "import os\n",
    "from surprise.model_selection import train_test_split"
   ]
  },
  {
   "cell_type": "code",
   "execution_count": 32,
   "id": "6914af46",
   "metadata": {
    "scrolled": true
   },
   "outputs": [
    {
     "name": "stdout",
     "output_type": "stream",
     "text": [
      "           reviewerID        asin  unbias_overall\n",
      "85     A1C0C9IJO2HS03  B00000016W        3.864535\n",
      "86     A22N9H8V0RYQR3  B00000016W        2.533333\n",
      "87     A1E110L9ZKX6FD  B00000016W        3.840548\n",
      "88     A3HU0B9XUEVHIM  B00000016W        3.830980\n",
      "89     A252HNVAZENVNE  B00000016W        3.379212\n",
      "...               ...         ...             ...\n",
      "61354  A2X4WHLXULSKDD  B005QJZ5FA        3.697825\n",
      "61355   AY6A8KPYCE6B0  B005QJZ5FA        3.622112\n",
      "61356  A2U3XA8QL4IPJO  B005QJZ5FA        3.791254\n",
      "61357   AFEN54UGJQOK9  B005QJZ5FA        3.756997\n",
      "61358  A13Y1WNMYX93EL  B005QJZ5FA        3.679287\n",
      "\n",
      "[20271 rows x 3 columns]\n"
     ]
    }
   ],
   "source": [
    "#Reading the dataset\n",
    "reader = Reader(rating_scale=(1, 5))\n",
    "cols = new_df.columns.tolist()\n",
    "df = new_df[cols] \n",
    "# df = df._convert(numeric=True)\n",
    "print(df)\n",
    "# print(df.dtypes)\n",
    "# df['asin']=df['asin'].astype(np.float64)\n",
    "# print(df.dtypes)\n",
    "\n",
    "data = Dataset.load_from_df(df,reader)"
   ]
  },
  {
   "cell_type": "code",
   "execution_count": 33,
   "id": "e74e6a46",
   "metadata": {},
   "outputs": [],
   "source": [
    "#Splitting the dataset\n",
    "trainset, testset = train_test_split(data, test_size=0.2,random_state=0)"
   ]
  },
  {
   "cell_type": "code",
   "execution_count": 34,
   "id": "6561de57",
   "metadata": {},
   "outputs": [
    {
     "name": "stdout",
     "output_type": "stream",
     "text": [
      "Estimating biases using als...\n",
      "Computing the pearson_baseline similarity matrix...\n",
      "Done computing similarity matrix.\n"
     ]
    },
    {
     "data": {
      "text/plain": [
       "<surprise.prediction_algorithms.knns.KNNWithMeans at 0x248f79ae130>"
      ]
     },
     "execution_count": 34,
     "metadata": {},
     "output_type": "execute_result"
    }
   ],
   "source": [
    "# Use user_based true/false to switch between user-based or item-based collaborative filtering\n",
    "algo = KNNWithMeans(k=5, sim_options={'name': 'pearson_baseline', 'user_based': False})\n",
    "algo.fit(trainset)"
   ]
  },
  {
   "cell_type": "code",
   "execution_count": 35,
   "id": "4acf999b",
   "metadata": {},
   "outputs": [],
   "source": [
    "# run the trained model against the testset\n",
    "test_pred = algo.test(testset)"
   ]
  },
  {
   "cell_type": "code",
   "execution_count": 36,
   "id": "d92222a9",
   "metadata": {},
   "outputs": [
    {
     "data": {
      "text/plain": [
       "[Prediction(uid='AJQMDNJRZP6MD', iid='B00005NHJS', r_ui=3.9850340136054423, est=3.5633268676711887, details={'actual_k': 1, 'was_impossible': False}),\n",
       " Prediction(uid='A2QMBY3CCR2B02', iid='B0006ZQ9BS', r_ui=3.8940192743764177, est=3.2877717404273796, details={'actual_k': 4, 'was_impossible': False}),\n",
       " Prediction(uid='A26XCS3QLDJJWN', iid='B000035X1M', r_ui=3.642821428571428, est=3.7733051610627513, details={'actual_k': 4, 'was_impossible': False}),\n",
       " Prediction(uid='A1Q6KVOLE0HO3R', iid='B000002KZR', r_ui=3.8631289443882126, est=3.8751289654836687, details={'actual_k': 4, 'was_impossible': False}),\n",
       " Prediction(uid='A1S7N1XX196ON7', iid='B0000TAZS8', r_ui=3.5825396825396822, est=2.8155228421808243, details={'actual_k': 2, 'was_impossible': False}),\n",
       " Prediction(uid='A1ALPL858XSDE', iid='B0001XANAS', r_ui=3.9571619670460336, est=3.5960050940359474, details={'was_impossible': True, 'reason': 'User and/or item is unknown.'}),\n",
       " Prediction(uid='AQZE4MMQMDKPB', iid='B0000039QA', r_ui=3.7262797619047623, est=3.9480363250386814, details={'actual_k': 4, 'was_impossible': False}),\n",
       " Prediction(uid='A23F0RW1RUBBDF', iid='B000002C2E', r_ui=3.8662785876255263, est=3.7239115420277855, details={'actual_k': 3, 'was_impossible': False}),\n",
       " Prediction(uid='A1WKYTCWH09P0Z', iid='B0002IQHBQ', r_ui=4.228803144182478, est=3.9925845245880627, details={'actual_k': 5, 'was_impossible': False}),\n",
       " Prediction(uid='A36J3W0A8OPFC1', iid='B0000039QA', r_ui=3.7453007843045043, est=3.8246409926064726, details={'actual_k': 1, 'was_impossible': False}),\n",
       " Prediction(uid='A11BC4PIHPZVJP', iid='B0000029DD', r_ui=3.450883738007645, est=3.718103832843455, details={'actual_k': 0, 'was_impossible': False}),\n",
       " Prediction(uid='A3TSPLFYU2UMW0', iid='B000002LGQ', r_ui=3.7140265630061546, est=3.917064025267151, details={'actual_k': 1, 'was_impossible': False}),\n",
       " Prediction(uid='A2Q8BZMIXLLCNG', iid='B000002J88', r_ui=3.321595602526725, est=2.9630311085573586, details={'actual_k': 2, 'was_impossible': False}),\n",
       " Prediction(uid='A2P814DGX3QD1A', iid='B00005ICAW', r_ui=3.7370651662887377, est=3.0961637349963635, details={'actual_k': 1, 'was_impossible': False}),\n",
       " Prediction(uid='A22HN0VTP9TCLJ', iid='B00004T9UF', r_ui=3.489747327502429, est=3.3433050110013633, details={'actual_k': 4, 'was_impossible': False}),\n",
       " Prediction(uid='A3N3SN2DDD4HCJ', iid='B000002AP1', r_ui=3.8147948078513045, est=3.570259877424198, details={'actual_k': 0, 'was_impossible': False}),\n",
       " Prediction(uid='A3E8EY24IZZ2EG', iid='B00001QGQI', r_ui=3.8321707589285716, est=3.7369578877209353, details={'actual_k': 1, 'was_impossible': False}),\n",
       " Prediction(uid='A1NP9X56O2MNLV', iid='B00000DGUG', r_ui=3.521009886307464, est=3.4386386489493352, details={'actual_k': 2, 'was_impossible': False}),\n",
       " Prediction(uid='A1IKOYZVFHO1XP', iid='B000002GWZ', r_ui=3.7638867243867247, est=3.4043991872227264, details={'actual_k': 5, 'was_impossible': False}),\n",
       " Prediction(uid='A1KFWSYZIOBI3Y', iid='B00004UARR', r_ui=3.661447957159054, est=2.912063734607085, details={'actual_k': 1, 'was_impossible': False}),\n",
       " Prediction(uid='A2H1WNB30JNAWU', iid='B00006690F', r_ui=3.648182401212704, est=3.6044429049757785, details={'actual_k': 3, 'was_impossible': False}),\n",
       " Prediction(uid='A2FW9R4QP52W5F', iid='B0000025RI', r_ui=3.957989697936788, est=4.289718706305936, details={'actual_k': 1, 'was_impossible': False}),\n",
       " Prediction(uid='A343WUP274JSP3', iid='B000AOENCM', r_ui=4.0625, est=3.695811801812313, details={'actual_k': 1, 'was_impossible': False}),\n",
       " Prediction(uid='A2LNEZD3YBO12O', iid='B0007NFL18', r_ui=3.538660772258431, est=3.0709490154248016, details={'actual_k': 5, 'was_impossible': False}),\n",
       " Prediction(uid='A3O8YT41TDXL0B', iid='B000MTPAGI', r_ui=2.895477251646839, est=3.4117006522329585, details={'actual_k': 5, 'was_impossible': False}),\n",
       " Prediction(uid='A30VQ7PHNAGRML', iid='B000023VR6', r_ui=3.911658832629261, est=3.525513907749581, details={'actual_k': 3, 'was_impossible': False}),\n",
       " Prediction(uid='AY84BQK3EMJ4S', iid='B000H0MKGK', r_ui=4.0772069071014645, est=3.897883045770384, details={'actual_k': 2, 'was_impossible': False}),\n",
       " Prediction(uid='AAHERVSTDYU17', iid='B004K4AUZW', r_ui=3.1653491866618344, est=3.495296817423467, details={'actual_k': 0, 'was_impossible': False}),\n",
       " Prediction(uid='A1EJ9BMB058DRV', iid='B0000AGWFX', r_ui=3.861880480952381, est=3.6059074198268783, details={'actual_k': 3, 'was_impossible': False}),\n",
       " Prediction(uid='AKFE1P1ZDBPXU', iid='B000002JAI', r_ui=3.491574361596802, est=3.4947095418921337, details={'actual_k': 2, 'was_impossible': False}),\n",
       " Prediction(uid='A1SPYMGDEWKK6I', iid='B0006ZQ9BS', r_ui=3.83825, est=3.9986838374795255, details={'actual_k': 5, 'was_impossible': False}),\n",
       " Prediction(uid='A1JI9C3F1UBLUH', iid='B003WTE886', r_ui=3.90939580980369, est=3.9795681401815575, details={'actual_k': 3, 'was_impossible': False}),\n",
       " Prediction(uid='A1AIQJYEPA44F0', iid='B003KUSUG8', r_ui=2.7276353064373895, est=3.7897506450431933, details={'actual_k': 1, 'was_impossible': False}),\n",
       " Prediction(uid='A2HFL26OQJ2T9X', iid='B000002GK1', r_ui=3.859440918172472, est=3.5083040031842767, details={'actual_k': 1, 'was_impossible': False}),\n",
       " Prediction(uid='A3JG72P0KY27HW', iid='B000BTDMDC', r_ui=3.782489351767493, est=3.4315906088449424, details={'actual_k': 0, 'was_impossible': False}),\n",
       " Prediction(uid='A3RC3AK8UN89I9', iid='B00008OWZE', r_ui=3.572222901557317, est=3.725507157384175, details={'actual_k': 5, 'was_impossible': False}),\n",
       " Prediction(uid='A1D2C0WDCSHUWZ', iid='B004K4AUZW', r_ui=2.7515164612608842, est=3.3358063687687185, details={'actual_k': 5, 'was_impossible': False}),\n",
       " Prediction(uid='A19D230U2BGA7B', iid='B0000DD7LC', r_ui=4.285714285714286, est=4.508325473378935, details={'actual_k': 1, 'was_impossible': False}),\n",
       " Prediction(uid='A33693RRRFK55Q', iid='B0002A2WAO', r_ui=2.78301355400548, est=2.8276173159972164, details={'actual_k': 1, 'was_impossible': False}),\n",
       " Prediction(uid='ASK9UDXP1UAUY', iid='B00008H2LB', r_ui=3.4800339776308005, est=3.66265015334178, details={'actual_k': 1, 'was_impossible': False}),\n",
       " Prediction(uid='A16EHWSPVT7F0C', iid='B000FII324', r_ui=4.428571428571429, est=3.9943447260255764, details={'actual_k': 1, 'was_impossible': False}),\n",
       " Prediction(uid='ATS4FKFOX9INH', iid='B0000TAZS8', r_ui=4.065030254841016, est=3.487355468279915, details={'actual_k': 2, 'was_impossible': False}),\n",
       " Prediction(uid='A3T9IX8EDFDX4G', iid='B000001FAO', r_ui=3.93704418860574, est=3.9142343152746215, details={'actual_k': 3, 'was_impossible': False}),\n",
       " Prediction(uid='A18S82FC7G65QZ', iid='B00014TQ7S', r_ui=2.897685860058309, est=3.9127276737833427, details={'actual_k': 1, 'was_impossible': False}),\n",
       " Prediction(uid='A27PS2HLB49DYT', iid='B00097A5H2', r_ui=3.5180591141339916, est=2.522523439948328, details={'actual_k': 1, 'was_impossible': False}),\n",
       " Prediction(uid='A3C6ZCBUNXUT7V', iid='B003KUSUG8', r_ui=3.4952535043011914, est=3.7942200253209055, details={'actual_k': 5, 'was_impossible': False}),\n",
       " Prediction(uid='A25P6DY6ARTCGZ', iid='B0000BWVLM', r_ui=3.453984725273313, est=3.837219034544121, details={'actual_k': 2, 'was_impossible': False}),\n",
       " Prediction(uid='A3HCY89ISEIF0J', iid='B0002A2WAO', r_ui=3.9087301587301586, est=3.6819692584084787, details={'actual_k': 2, 'was_impossible': False}),\n",
       " Prediction(uid='A1IANEBSMVGHS9', iid='B00000IAU3', r_ui=3.5999634191221026, est=3.5047256702971126, details={'actual_k': 5, 'was_impossible': False}),\n",
       " Prediction(uid='A2MAMTF1GXLM5W', iid='B000089CJI', r_ui=4.152870843924937, est=3.7814641636110964, details={'actual_k': 1, 'was_impossible': False}),\n",
       " Prediction(uid='AWSYTZ2I2MW0V', iid='B004NSULHM', r_ui=4.072154663518299, est=3.9896154974042917, details={'actual_k': 2, 'was_impossible': False}),\n",
       " Prediction(uid='A103KNDW8GN92L', iid='B000002GQE', r_ui=3.7416530115153717, est=3.649417914586495, details={'actual_k': 3, 'was_impossible': False}),\n",
       " Prediction(uid='A3RMWQY8DW5ISB', iid='B00008VOQM', r_ui=3.9718604139895874, est=3.797256045889293, details={'actual_k': 3, 'was_impossible': False}),\n",
       " Prediction(uid='A68GUAHPBDUN', iid='B000084T18', r_ui=3.2621377298371286, est=3.367325302980084, details={'actual_k': 2, 'was_impossible': False}),\n",
       " Prediction(uid='AXFI7TAWD6H6X', iid='B000002VN7', r_ui=3.900972055147906, est=3.5257099530406903, details={'actual_k': 5, 'was_impossible': False}),\n",
       " Prediction(uid='A3O8YT41TDXL0B', iid='B003V5PPZG', r_ui=3.2751000982362193, est=3.2412042592929873, details={'actual_k': 3, 'was_impossible': False}),\n",
       " Prediction(uid='A2XZE1TB784HKX', iid='B000084T18', r_ui=3.6331097346563896, est=3.7525365372681985, details={'actual_k': 3, 'was_impossible': False}),\n",
       " Prediction(uid='AEDYFC8UGZZGR', iid='B0000028RR', r_ui=3.9050498506280817, est=4.149896341873221, details={'actual_k': 2, 'was_impossible': False}),\n",
       " Prediction(uid='A2QMBY3CCR2B02', iid='B00064200S', r_ui=4.310798110979929, est=3.3973368665878008, details={'actual_k': 3, 'was_impossible': False}),\n",
       " Prediction(uid='A9Q28YTLYREO7', iid='B0000025RI', r_ui=3.406916410825876, est=3.4485911987971343, details={'actual_k': 5, 'was_impossible': False}),\n",
       " Prediction(uid='AQXBSHEPHNR6H', iid='B00005QDVS', r_ui=3.920786168824775, est=4.0380406408483935, details={'actual_k': 2, 'was_impossible': False}),\n",
       " Prediction(uid='A2QHZPNBXICYGZ', iid='B00000163G', r_ui=3.732262205113602, est=2.9234225789020334, details={'actual_k': 2, 'was_impossible': False}),\n",
       " Prediction(uid='A1YQHOKBEFHFA5', iid='B000069HKH', r_ui=3.33575432331255, est=3.5160245536184185, details={'actual_k': 2, 'was_impossible': False}),\n",
       " Prediction(uid='A265JO8DL4J4SS', iid='B000BNTM32', r_ui=3.5448134961629276, est=3.026619600102168, details={'actual_k': 1, 'was_impossible': False}),\n",
       " Prediction(uid='A39476Z41H9VK3', iid='B00005NZDW', r_ui=4.131428571428572, est=4.257905137974774, details={'actual_k': 1, 'was_impossible': False}),\n",
       " Prediction(uid='A3GD9SH111DI9A', iid='B0000029AP', r_ui=3.821144355249025, est=3.8498826101962607, details={'actual_k': 2, 'was_impossible': False}),\n",
       " Prediction(uid='A6MGFSH8CX1HE', iid='B000069HKH', r_ui=3.8334174417516285, est=3.6317348825349494, details={'actual_k': 0, 'was_impossible': False}),\n",
       " Prediction(uid='A18IZ5QX2PRB3C', iid='B00000J7JO', r_ui=3.4985978776485886, est=3.5310203987543494, details={'actual_k': 5, 'was_impossible': False}),\n",
       " Prediction(uid='A3N3SN2DDD4HCJ', iid='B00008J4P5', r_ui=3.7205749174102545, est=3.0377142146499794, details={'actual_k': 1, 'was_impossible': False}),\n",
       " Prediction(uid='A33H4BO4S3TA4I', iid='B0009SCVTG', r_ui=2.4844613095238097, est=3.359229833534476, details={'actual_k': 3, 'was_impossible': False}),\n",
       " Prediction(uid='A2R6RA8FRBS608', iid='B0000025RI', r_ui=4.02760926938635, est=3.9763981642284087, details={'actual_k': 5, 'was_impossible': False}),\n",
       " Prediction(uid='A1EOEYW5SMC6CV', iid='B0000029AP', r_ui=3.0729563237111424, est=3.5960050940359474, details={'was_impossible': True, 'reason': 'User and/or item is unknown.'}),\n",
       " Prediction(uid='A201QRZNUCD6US', iid='B000059MEK', r_ui=3.915150793650793, est=3.7106349749440817, details={'actual_k': 0, 'was_impossible': False}),\n",
       " Prediction(uid='APZSWNPMVSZ84', iid='B00004YKUI', r_ui=3.830840773809524, est=3.6922679456635152, details={'actual_k': 5, 'was_impossible': False}),\n",
       " Prediction(uid='A1AJR4BFQ5AW68', iid='B00000016W', r_ui=4.060619188503804, est=3.742968963009129, details={'actual_k': 2, 'was_impossible': False}),\n",
       " Prediction(uid='A3CGDFZTGL3ENL', iid='B00005QG9J', r_ui=3.981150793650794, est=3.652127336099434, details={'actual_k': 0, 'was_impossible': False}),\n",
       " Prediction(uid='A1G5LJ8T1IGYC5', iid='B00000FCBH', r_ui=3.7551159853829716, est=3.962104561878623, details={'actual_k': 3, 'was_impossible': False}),\n",
       " Prediction(uid='A3W0POMI33YQXQ', iid='B000084T18', r_ui=3.7610899949559484, est=2.982177160124147, details={'actual_k': 5, 'was_impossible': False}),\n",
       " Prediction(uid='A3T8G3FN3H3948', iid='B00008H2LB', r_ui=3.8218842081246414, est=3.3809562220160405, details={'actual_k': 3, 'was_impossible': False}),\n",
       " Prediction(uid='A10LDRKHO99AY6', iid='B00009VRDI', r_ui=3.3740554899645807, est=3.6384784015836518, details={'actual_k': 1, 'was_impossible': False}),\n",
       " Prediction(uid='A1L1NYH387VKGM', iid='B000001EG2', r_ui=3.873565029383737, est=3.8109511954900834, details={'actual_k': 2, 'was_impossible': False}),\n",
       " Prediction(uid='A2SPI5WNZLOJ2U', iid='B00000J7JO', r_ui=3.7909377843364753, est=3.7701656166822546, details={'actual_k': 3, 'was_impossible': False}),\n",
       " Prediction(uid='A2I9AQ5FXY26ZX', iid='B000001Y15', r_ui=3.8631299603174605, est=3.5960050940359474, details={'was_impossible': True, 'reason': 'User and/or item is unknown.'}),\n",
       " Prediction(uid='ASVNSWIXBV72Q', iid='B000BM6AVA', r_ui=3.523666875935966, est=3.735433288048961, details={'actual_k': 2, 'was_impossible': False}),\n",
       " Prediction(uid='A2W0CD4OPKF4ID', iid='B0000029AN', r_ui=3.8707651683705686, est=3.7385067983365596, details={'actual_k': 4, 'was_impossible': False}),\n",
       " Prediction(uid='A2UPLFKG289O33', iid='B0000CD5FR', r_ui=4.0, est=3.786938566972785, details={'actual_k': 0, 'was_impossible': False}),\n",
       " Prediction(uid='A3HU0B9XUEVHIM', iid='B000002PD7', r_ui=3.805369222531021, est=3.9163226738802766, details={'actual_k': 5, 'was_impossible': False}),\n",
       " Prediction(uid='A2J8WWG4W0OFYQ', iid='B000001FZ6', r_ui=3.446863493307459, est=4.094564393074842, details={'actual_k': 1, 'was_impossible': False}),\n",
       " Prediction(uid='AOG4CZNBHFDRF', iid='B00005NZDW', r_ui=3.9014636459460683, est=3.2886770048789016, details={'actual_k': 1, 'was_impossible': False}),\n",
       " Prediction(uid='AN092R6OZE3U0', iid='B00009V7T2', r_ui=4.010517047055508, est=3.9682155501288414, details={'actual_k': 4, 'was_impossible': False}),\n",
       " Prediction(uid='A2AKFJOWF71WGV', iid='B0000TAZS8', r_ui=2.4154543332404756, est=2.793958829155723, details={'actual_k': 5, 'was_impossible': False}),\n",
       " Prediction(uid='AQZE4MMQMDKPB', iid='B00064X2QY', r_ui=2.521995928578886, est=3.3215132771307294, details={'actual_k': 5, 'was_impossible': False}),\n",
       " Prediction(uid='A33HHL8UYCUJJY', iid='B00006ZCFJ', r_ui=2.428571428571429, est=2.90393715263038, details={'actual_k': 2, 'was_impossible': False}),\n",
       " Prediction(uid='A44L1371VP728', iid='B000002KH3', r_ui=3.646031746031746, est=3.9626865791675208, details={'actual_k': 2, 'was_impossible': False}),\n",
       " Prediction(uid='A1W6AMIGHPX3UQ', iid='B000002IRM', r_ui=3.63974870541487, est=3.5892848588129422, details={'actual_k': 0, 'was_impossible': False}),\n",
       " Prediction(uid='A1QEWOSV05RYEO', iid='B000BOH8XW', r_ui=3.600475707073008, est=3.500549587871761, details={'actual_k': 5, 'was_impossible': False}),\n",
       " Prediction(uid='A30PCQSV85MSEW', iid='B0000039QA', r_ui=3.9444515395930373, est=3.706931982168267, details={'actual_k': 0, 'was_impossible': False}),\n",
       " Prediction(uid='A2ULSA0IRUE09E', iid='B00004YKUI', r_ui=3.6385597226669453, est=3.7052200058310527, details={'actual_k': 5, 'was_impossible': False}),\n",
       " Prediction(uid='A3KEZLJ59C1JVH', iid='B0012OVF2U', r_ui=3.8244901633351156, est=3.617497388107558, details={'actual_k': 2, 'was_impossible': False}),\n",
       " Prediction(uid='AWSYTZ2I2MW0V', iid='B000002IOW', r_ui=3.545679012345679, est=3.8856990505762283, details={'actual_k': 5, 'was_impossible': False}),\n",
       " Prediction(uid='A3CY5UH5JR4MJT', iid='B00006ZCFI', r_ui=2.717857142857143, est=2.62776682472224, details={'actual_k': 5, 'was_impossible': False}),\n",
       " Prediction(uid='A3SKPJ1KSDWSB3', iid='B00003NHAR', r_ui=3.5714285714285716, est=3.2411372709470254, details={'actual_k': 5, 'was_impossible': False}),\n",
       " Prediction(uid='AD6G5M3KL7GTB', iid='B000001DZO', r_ui=3.884672821509556, est=3.961302307700231, details={'actual_k': 5, 'was_impossible': False}),\n",
       " Prediction(uid='AD4CDZK7D31XP', iid='B000069HKH', r_ui=3.80250055489568, est=2.978720290629623, details={'actual_k': 1, 'was_impossible': False}),\n",
       " Prediction(uid='AADJXNY9HSKJF', iid='B0000CC6QG', r_ui=3.488946793421225, est=3.7392692087891146, details={'actual_k': 5, 'was_impossible': False}),\n",
       " Prediction(uid='A1J5KCZC8CMW9I', iid='B0000029DD', r_ui=3.8758335097001764, est=3.7672301322934776, details={'actual_k': 5, 'was_impossible': False}),\n",
       " Prediction(uid='A34DTBYOTFP4RX', iid='B0000026WD', r_ui=2.9663389965986395, est=3.734330802892389, details={'actual_k': 1, 'was_impossible': False}),\n",
       " Prediction(uid='A3R2V9HJJ63GBT', iid='B0002PD3HU', r_ui=3.588977521242497, est=3.5960050940359474, details={'was_impossible': True, 'reason': 'User and/or item is unknown.'}),\n",
       " Prediction(uid='A200C7YQJ45LRR', iid='B0007NFL18', r_ui=2.762232457384906, est=2.772380631906228, details={'actual_k': 5, 'was_impossible': False}),\n",
       " Prediction(uid='A1ODJS01LQA9JP', iid='B0002A2WAO', r_ui=3.443342151675485, est=4.008261371013181, details={'actual_k': 3, 'was_impossible': False}),\n",
       " Prediction(uid='AMP7TQRWAIE84', iid='B0002U6GFQ', r_ui=3.6945439257419603, est=3.213046886211407, details={'actual_k': 5, 'was_impossible': False}),\n",
       " Prediction(uid='A1R6DCPZV6NA13', iid='B000001A6N', r_ui=3.868184463351361, est=3.785173011301734, details={'actual_k': 5, 'was_impossible': False}),\n",
       " Prediction(uid='A2YT3QVPJL7R4G', iid='B000089RVR', r_ui=2.9496532137431792, est=3.656844892551585, details={'actual_k': 0, 'was_impossible': False}),\n",
       " Prediction(uid='A169WKRX93445F', iid='B00064200S', r_ui=3.3094752186588923, est=3.5134732740470294, details={'actual_k': 0, 'was_impossible': False}),\n",
       " Prediction(uid='A3OUA3K55Y2BV', iid='B000H0MKGK', r_ui=3.8629385073307048, est=3.547793697592697, details={'actual_k': 2, 'was_impossible': False}),\n",
       " Prediction(uid='A9E6BXLCOBL40', iid='B000EMGAOY', r_ui=3.8377551020408163, est=3.4840473801910226, details={'actual_k': 1, 'was_impossible': False}),\n",
       " Prediction(uid='A38N0M7J3LQV9V', iid='B004D1GZ2E', r_ui=3.8483880586005386, est=3.5960050940359474, details={'was_impossible': True, 'reason': 'User and/or item is unknown.'}),\n",
       " Prediction(uid='A8KW38D8PQ2AV', iid='B0000013GT', r_ui=3.392857142857143, est=3.8010302601698083, details={'actual_k': 2, 'was_impossible': False}),\n",
       " Prediction(uid='A3R75H3IPPC2UX', iid='B0000025RI', r_ui=3.976352232762489, est=3.949185377493139, details={'actual_k': 1, 'was_impossible': False}),\n",
       " Prediction(uid='A3OVTXEKA3M23N', iid='B0002X314C', r_ui=3.8936941964285716, est=3.91493768213703, details={'actual_k': 2, 'was_impossible': False}),\n",
       " Prediction(uid='AX356VIHP8XLN', iid='B00064200S', r_ui=3.85770711356265, est=3.766097134856708, details={'actual_k': 2, 'was_impossible': False}),\n",
       " Prediction(uid='AGRUNN58UZPY1', iid='B0000026WD', r_ui=3.214386815357926, est=3.1770323712271864, details={'actual_k': 1, 'was_impossible': False}),\n",
       " Prediction(uid='A3DQDILRL74K37', iid='B000002BE9', r_ui=3.9375, est=3.9514605685147965, details={'actual_k': 1, 'was_impossible': False}),\n",
       " Prediction(uid='A1BQOPKHRU5M8F', iid='B000003B6J', r_ui=3.485071428571428, est=3.8159907104909685, details={'actual_k': 4, 'was_impossible': False}),\n",
       " Prediction(uid='AYXOKMQ8IJX7M', iid='B0002X314C', r_ui=3.572515151515151, est=3.6076105780287255, details={'actual_k': 2, 'was_impossible': False}),\n",
       " Prediction(uid='A1D2C0WDCSHUWZ', iid='B000FPYNQW', r_ui=3.5897047386341367, est=3.4948714925866735, details={'actual_k': 5, 'was_impossible': False}),\n",
       " Prediction(uid='A1EYSN1T55SV7U', iid='B000067CPX', r_ui=3.816938962181841, est=3.846460643984407, details={'actual_k': 4, 'was_impossible': False}),\n",
       " Prediction(uid='A2TI8XP8GY1RO1', iid='B0006ZQ9BS', r_ui=2.7313315696649028, est=2.9738408365018065, details={'actual_k': 5, 'was_impossible': False}),\n",
       " Prediction(uid='A1SUP9J7BNRHGW', iid='B0000029DD', r_ui=3.6952380952380954, est=3.5960050940359474, details={'was_impossible': True, 'reason': 'User and/or item is unknown.'}),\n",
       " Prediction(uid='A3BTZBO1380KB1', iid='B00001QGQI', r_ui=4.250857142857143, est=3.332833898124274, details={'actual_k': 1, 'was_impossible': False}),\n",
       " Prediction(uid='A12M96JJHEOYMT', iid='B000001FZ6', r_ui=3.2440677573895464, est=3.9212885311371686, details={'actual_k': 1, 'was_impossible': False}),\n",
       " Prediction(uid='AZPWAXJG9OJXV', iid='B000002GXL', r_ui=3.869965426897321, est=3.871492415411223, details={'actual_k': 1, 'was_impossible': False}),\n",
       " Prediction(uid='A29HQXDK7BSX8H', iid='B0006ZQ9BS', r_ui=2.5441546125890833, est=3.0252766993691074, details={'actual_k': 5, 'was_impossible': False}),\n",
       " Prediction(uid='A59H9BL8L9Y4Z', iid='B003KUSUG8', r_ui=4.091836734693878, est=4.040925164413249, details={'actual_k': 1, 'was_impossible': False}),\n",
       " Prediction(uid='A1PEEKEYD1IG5F', iid='B0000DD7LC', r_ui=4.121428571428572, est=3.5960050940359474, details={'was_impossible': True, 'reason': 'User and/or item is unknown.'}),\n",
       " Prediction(uid='A1PULJNO1T3YVX', iid='B00007FGLS', r_ui=3.240079365079365, est=3.656849098558289, details={'actual_k': 3, 'was_impossible': False}),\n",
       " Prediction(uid='A28HEGEYVO3PEZ', iid='B000002GQE', r_ui=3.8734377277464396, est=3.7809019596098907, details={'actual_k': 0, 'was_impossible': False}),\n",
       " Prediction(uid='A2BH3KB36ISD4F', iid='B00006ZCFH', r_ui=3.722289452971271, est=3.6074100974506433, details={'actual_k': 1, 'was_impossible': False}),\n",
       " Prediction(uid='AO2AQRPPSTABB', iid='B000001F66', r_ui=3.7506847691933913, est=3.8543748086656993, details={'actual_k': 2, 'was_impossible': False}),\n",
       " Prediction(uid='A1OLTAOD2KVG4M', iid='B005QJZ5FA', r_ui=3.4425082087294863, est=3.5960050940359474, details={'was_impossible': True, 'reason': 'User and/or item is unknown.'}),\n",
       " Prediction(uid='A1R3J4XK8AN83V', iid='B0000039QA', r_ui=3.9405714285714284, est=3.713247289273181, details={'actual_k': 3, 'was_impossible': False}),\n",
       " Prediction(uid='A33TRNCQK4IUO7', iid='B000N2G3RY', r_ui=3.5480573122783534, est=3.6172286505255733, details={'actual_k': 4, 'was_impossible': False}),\n",
       " Prediction(uid='A3BOUPGDLG7QPP', iid='B0000C0FKA', r_ui=3.7122098412698414, est=3.92948404473083, details={'actual_k': 2, 'was_impossible': False}),\n",
       " Prediction(uid='A19CQRD6DIHMQL', iid='B000002WR5', r_ui=4.214285714285714, est=3.6300437776319576, details={'actual_k': 3, 'was_impossible': False}),\n",
       " Prediction(uid='AGTC2459GU7SY', iid='B000001EGE', r_ui=3.8527582740720736, est=3.638921965963914, details={'actual_k': 1, 'was_impossible': False}),\n",
       " Prediction(uid='ASOZSOUCZFT14', iid='B0000C421G', r_ui=3.2346395805088273, est=3.634216819039321, details={'actual_k': 5, 'was_impossible': False}),\n",
       " Prediction(uid='A225BDR5Z17KOQ', iid='B000084T18', r_ui=4.120665975953546, est=3.6494524048575414, details={'actual_k': 3, 'was_impossible': False}),\n",
       " Prediction(uid='A3NNZW2PK7V2BR', iid='B00005ICAW', r_ui=4.057539682539683, est=3.408959053585985, details={'actual_k': 0, 'was_impossible': False}),\n",
       " Prediction(uid='A1MPEG5S1DNI52', iid='B00018D5CQ', r_ui=3.6313311688311694, est=3.1557011728279365, details={'actual_k': 4, 'was_impossible': False}),\n",
       " Prediction(uid='AK88POC4RCEWE', iid='B004K4AUZW', r_ui=4.02854713313897, est=3.5960050940359474, details={'was_impossible': True, 'reason': 'User and/or item is unknown.'}),\n",
       " Prediction(uid='A15OGDJS69EUCP', iid='B000000OUJ', r_ui=4.550111607142857, est=3.3449412490119146, details={'actual_k': 1, 'was_impossible': False}),\n",
       " Prediction(uid='A8BIZG3SOG5HV', iid='B00005M987', r_ui=2.611985615045298, est=3.539915830406012, details={'actual_k': 0, 'was_impossible': False}),\n",
       " Prediction(uid='AAM4PQ0VMEQLL', iid='B00065XJ52', r_ui=2.637662337662338, est=2.5871459941181736, details={'actual_k': 2, 'was_impossible': False}),\n",
       " Prediction(uid='A31NSKGF3K3E52', iid='B00004T9UF', r_ui=3.535219628017412, est=4.091280110834958, details={'actual_k': 1, 'was_impossible': False}),\n",
       " Prediction(uid='ACU22OOTCPJDF', iid='B000002GQE', r_ui=3.9353422619047618, est=3.7316468029417442, details={'actual_k': 1, 'was_impossible': False}),\n",
       " Prediction(uid='AIW5KNFD2114D', iid='B00096S3PY', r_ui=3.863195821185617, est=4.019248443712665, details={'actual_k': 4, 'was_impossible': False}),\n",
       " Prediction(uid='A1GIIPXONCEEHP', iid='B000001F66', r_ui=3.390566992558338, est=3.6161828501834017, details={'actual_k': 3, 'was_impossible': False}),\n",
       " Prediction(uid='A3VHV0NV7NKQPC', iid='B000OYC3J8', r_ui=3.5087267913162905, est=3.6462582687602687, details={'actual_k': 4, 'was_impossible': False}),\n",
       " Prediction(uid='A1EMDSTJDUE6B0', iid='B0000AGWEC', r_ui=4.026421156697973, est=3.1940584775713563, details={'actual_k': 2, 'was_impossible': False}),\n",
       " Prediction(uid='A38UBVJEV1LLS7', iid='B000089RVR', r_ui=3.694885361552028, est=3.783919080948828, details={'actual_k': 5, 'was_impossible': False}),\n",
       " Prediction(uid='A19YHEBK099R7U', iid='B00001QGQI', r_ui=2.810416666666667, est=3.1666487324276162, details={'actual_k': 5, 'was_impossible': False}),\n",
       " Prediction(uid='A1247THN87SOGP', iid='B00192M9FC', r_ui=3.6078709272078338, est=3.5960050940359474, details={'was_impossible': True, 'reason': 'User and/or item is unknown.'}),\n",
       " Prediction(uid='A3RV0VQKIM2HSW', iid='B00005NHJS', r_ui=3.3814683362943745, est=3.405398326947618, details={'actual_k': 5, 'was_impossible': False}),\n",
       " Prediction(uid='A1HFVQZIDK7UUD', iid='B000003AEK', r_ui=3.6748699453955136, est=3.771403961402884, details={'actual_k': 5, 'was_impossible': False}),\n",
       " Prediction(uid='A2QMBY3CCR2B02', iid='B0002A2WAO', r_ui=2.7681395772594755, est=3.0322377104019793, details={'actual_k': 5, 'was_impossible': False}),\n",
       " Prediction(uid='A2X1KFF723P5EW', iid='B00004X0Q0', r_ui=3.6089761904761906, est=3.641089965976136, details={'actual_k': 3, 'was_impossible': False}),\n",
       " Prediction(uid='A1GN8UJIZLCA59', iid='B000001EGC', r_ui=3.930103693566834, est=3.8064411121790727, details={'actual_k': 5, 'was_impossible': False}),\n",
       " Prediction(uid='A29TNAVMPYFRDF', iid='B0000013GH', r_ui=3.0400570922660743, est=3.517132631008516, details={'actual_k': 5, 'was_impossible': False}),\n",
       " Prediction(uid='A34ZAYTNP67S83', iid='B000002NJS', r_ui=3.5289805241567325, est=3.367129938492106, details={'actual_k': 3, 'was_impossible': False}),\n",
       " Prediction(uid='AWQO371QER642', iid='B000002LQR', r_ui=3.6718405490496195, est=4.130184489094953, details={'actual_k': 1, 'was_impossible': False}),\n",
       " Prediction(uid='AOUKQVZ8O8YTQ', iid='B000050HS9', r_ui=3.7080357142857143, est=3.723047966958154, details={'actual_k': 5, 'was_impossible': False}),\n",
       " Prediction(uid='AUH5O462EVSM1', iid='B00005O6IR', r_ui=3.7312284040600368, est=3.454490735166902, details={'actual_k': 2, 'was_impossible': False}),\n",
       " Prediction(uid='A2TDK8D4HEMUYW', iid='B00006L7XQ', r_ui=3.879017857142857, est=3.793314910465486, details={'actual_k': 0, 'was_impossible': False}),\n",
       " Prediction(uid='A36RS7KTNOBROF', iid='B000002NJS', r_ui=4.012499999999999, est=3.799814358291821, details={'actual_k': 3, 'was_impossible': False}),\n",
       " Prediction(uid='A22HN0VTP9TCLJ', iid='B00003NHAR', r_ui=3.5388007054673722, est=3.1365947248517454, details={'actual_k': 3, 'was_impossible': False}),\n",
       " Prediction(uid='A1EUYZPLFU211D', iid='B0000025BA', r_ui=4.074285714285715, est=3.5960050940359474, details={'was_impossible': True, 'reason': 'User and/or item is unknown.'}),\n",
       " Prediction(uid='A1RD2PFXDLXA2S', iid='B0007NFL18', r_ui=3.940846070525518, est=3.350215712990943, details={'actual_k': 5, 'was_impossible': False}),\n",
       " Prediction(uid='A25I6X7JUC2JXB', iid='B000N2G3RY', r_ui=3.9943170683911426, est=3.587388021038155, details={'actual_k': 0, 'was_impossible': False}),\n",
       " Prediction(uid='A25GQD0VCUU16V', iid='B00065BYAY', r_ui=3.550535682762715, est=3.572949732667224, details={'actual_k': 2, 'was_impossible': False}),\n",
       " Prediction(uid='A1VWRH8ALP6VF2', iid='B00005ICAW', r_ui=2.924107552113434, est=3.2835817551190862, details={'actual_k': 1, 'was_impossible': False}),\n",
       " Prediction(uid='A26TWY9AD935HC', iid='B0000AGWFX', r_ui=3.3881612939028147, est=3.643923379913354, details={'actual_k': 2, 'was_impossible': False}),\n",
       " Prediction(uid='A3BNGG8LDBJZBC', iid='B0000025RI', r_ui=4.193298059964727, est=3.8891153374006997, details={'actual_k': 1, 'was_impossible': False}),\n",
       " Prediction(uid='A1S5FZ2DIVVQOT', iid='B00006L7XQ', r_ui=4.219592373438527, est=3.793314910465486, details={'actual_k': 0, 'was_impossible': False}),\n",
       " Prediction(uid='A97B72F4UI8FA', iid='B0000029DD', r_ui=3.697539682539682, est=3.6904786653099415, details={'actual_k': 5, 'was_impossible': False}),\n",
       " Prediction(uid='A3L54KTGHUC1MJ', iid='B0002IQHBQ', r_ui=3.413702623906705, est=3.0321948577713758, details={'actual_k': 2, 'was_impossible': False}),\n",
       " Prediction(uid='A1H9SWNKX6N260', iid='B00004XOWM', r_ui=4.0760109364849715, est=2.1670271965878567, details={'actual_k': 1, 'was_impossible': False}),\n",
       " Prediction(uid='A2WETFLJM0D6R0', iid='B000002C2E', r_ui=3.7053139038221383, est=3.5363130940043312, details={'actual_k': 3, 'was_impossible': False}),\n",
       " Prediction(uid='A3GHQ2D2Q1DGQC', iid='B00000016W', r_ui=3.870166463346163, est=3.882620042102227, details={'actual_k': 1, 'was_impossible': False}),\n",
       " Prediction(uid='A13EHGWL2EFJOD', iid='B0002PD3HU', r_ui=3.323844068362663, est=3.71619680580106, details={'actual_k': 1, 'was_impossible': False}),\n",
       " Prediction(uid='A12WON27MLDXNI', iid='B00006ZCFI', r_ui=3.807361179766024, est=3.6272332473757216, details={'actual_k': 1, 'was_impossible': False}),\n",
       " Prediction(uid='A3TTC70GZ9SH3S', iid='B000002MUW', r_ui=2.75574473197386, est=3.9309286644874475, details={'actual_k': 2, 'was_impossible': False}),\n",
       " Prediction(uid='A3KKPVZ2EQQLAB', iid='B0000AGWFX', r_ui=3.0686758803138114, est=3.8894233741838624, details={'actual_k': 3, 'was_impossible': False}),\n",
       " Prediction(uid='A3GSJO0R2RSU3Z', iid='B0009VJWQS', r_ui=2.9926587301587304, est=3.2084511307706274, details={'actual_k': 1, 'was_impossible': False}),\n",
       " Prediction(uid='A12CC4FTM92QQY', iid='B00005AKBN', r_ui=3.825142857142857, est=3.60205328423465, details={'actual_k': 0, 'was_impossible': False}),\n",
       " Prediction(uid='A3ICDLUQ3V2QY2', iid='B00000064G', r_ui=3.7575889791958743, est=3.5960050940359474, details={'was_impossible': True, 'reason': 'User and/or item is unknown.'}),\n",
       " Prediction(uid='A3ASUTW2OG0P6K', iid='B000003AEK', r_ui=4.206905115727132, est=4.079748644317481, details={'actual_k': 2, 'was_impossible': False}),\n",
       " Prediction(uid='A2FVL5781WZDOE', iid='B00000253N', r_ui=4.099829463465827, est=3.7277094470801515, details={'actual_k': 0, 'was_impossible': False}),\n",
       " Prediction(uid='A38NQGQW63IQJJ', iid='B000002J2S', r_ui=3.9140911911460057, est=3.5960050940359474, details={'was_impossible': True, 'reason': 'User and/or item is unknown.'}),\n",
       " Prediction(uid='A200C7YQJ45LRR', iid='B00005QG9J', r_ui=3.597520824637065, est=3.331434538915057, details={'actual_k': 5, 'was_impossible': False}),\n",
       " Prediction(uid='A37Y9UJBF3C32C', iid='B000002IT2', r_ui=3.702636960941157, est=3.4667520109019985, details={'actual_k': 3, 'was_impossible': False}),\n",
       " Prediction(uid='A2C7BOQVFH1HLE', iid='B000002L7G', r_ui=3.903583730684557, est=3.8476617737356436, details={'actual_k': 5, 'was_impossible': False}),\n",
       " Prediction(uid='A37OYVXR88JWQH', iid='B00000269M', r_ui=4.013787882545241, est=3.6553667065737536, details={'actual_k': 0, 'was_impossible': False}),\n",
       " Prediction(uid='A1WQNQAK4XJZL4', iid='B000006045', r_ui=3.519389520514088, est=3.5960050940359474, details={'was_impossible': True, 'reason': 'User and/or item is unknown.'}),\n",
       " Prediction(uid='A3SMV35531YME', iid='B000002GWZ', r_ui=3.6331428571428575, est=3.5960050940359474, details={'was_impossible': True, 'reason': 'User and/or item is unknown.'}),\n",
       " Prediction(uid='A1ILBKPRXHOO8P', iid='B000069HKH', r_ui=3.6963791344107255, est=3.5960050940359474, details={'was_impossible': True, 'reason': 'User and/or item is unknown.'}),\n",
       " Prediction(uid='A4OSXRZR2BMX8', iid='B000AU1NZQ', r_ui=3.5167027580773262, est=3.454569239536068, details={'actual_k': 3, 'was_impossible': False}),\n",
       " Prediction(uid='AKS4FTO63XVSC', iid='B0002A2WAO', r_ui=4.371428571428571, est=4.346596862562923, details={'actual_k': 5, 'was_impossible': False}),\n",
       " Prediction(uid='A2NLP8TW1TCKN3', iid='B000023VR6', r_ui=4.182597487239528, est=4.009435751715568, details={'actual_k': 5, 'was_impossible': False}),\n",
       " Prediction(uid='A111K82VQPY91M', iid='B0001XANAS', r_ui=3.8260582010582014, est=4.083453846050368, details={'actual_k': 1, 'was_impossible': False}),\n",
       " Prediction(uid='A2T90CCCPWJN6R', iid='B000067CPX', r_ui=3.86196437595039, est=3.5401704515254004, details={'actual_k': 2, 'was_impossible': False}),\n",
       " Prediction(uid='A2UETHZQD3QWKY', iid='B000BOH8XW', r_ui=4.030943979647211, est=4.164626723612976, details={'actual_k': 1, 'was_impossible': False}),\n",
       " Prediction(uid='A3VXBO4QQX3ZG8', iid='B003V5PPZG', r_ui=3.997891865079365, est=3.449311934067962, details={'actual_k': 2, 'was_impossible': False}),\n",
       " Prediction(uid='AZ39SOZT3NZQU', iid='B0000028RR', r_ui=3.694854388036206, est=3.6686289430600443, details={'actual_k': 0, 'was_impossible': False}),\n",
       " Prediction(uid='A1SJ1GPWF60GU0', iid='B000197KVW', r_ui=3.3460086104353484, est=3.3760728568539413, details={'actual_k': 4, 'was_impossible': False}),\n",
       " Prediction(uid='A1P4J7OWPC305Z', iid='B0000039Q3', r_ui=3.1142857142857143, est=3.870524210919809, details={'actual_k': 2, 'was_impossible': False}),\n",
       " Prediction(uid='A1VWOF8RRU5QAA', iid='B00003NHAR', r_ui=3.641120469351762, est=3.676505412549733, details={'actual_k': 5, 'was_impossible': False}),\n",
       " Prediction(uid='ASSCA9IS0GWF5', iid='B00000253N', r_ui=3.778742098199824, est=3.4608794566292156, details={'actual_k': 5, 'was_impossible': False}),\n",
       " Prediction(uid='A329U9CDUPKXAC', iid='B0000AGWEC', r_ui=3.8046044864226682, est=3.1170572467235873, details={'actual_k': 2, 'was_impossible': False}),\n",
       " Prediction(uid='A2UXKWVHJ0JSHN', iid='B000AA303Y', r_ui=3.976150793650794, est=3.731976940543136, details={'actual_k': 4, 'was_impossible': False}),\n",
       " Prediction(uid='AMP7TQRWAIE84', iid='B000AOENCM', r_ui=3.684959285108945, est=3.5515497153762774, details={'actual_k': 5, 'was_impossible': False}),\n",
       " Prediction(uid='A1OBVBZ7BG6AS7', iid='B00064200S', r_ui=3.883047759932375, est=3.5134732740470294, details={'actual_k': 0, 'was_impossible': False}),\n",
       " Prediction(uid='A5KJVGJ43ZDC9', iid='B000002AP1', r_ui=3.470546737213404, est=3.4058430065114313, details={'actual_k': 2, 'was_impossible': False}),\n",
       " Prediction(uid='A1AMVA4R3G58TV', iid='B0000C6E4D', r_ui=3.672395994577813, est=3.994562174548252, details={'actual_k': 5, 'was_impossible': False}),\n",
       " Prediction(uid='A13BP4NJEBZGEY', iid='B000000TDH', r_ui=3.84824184303351, est=3.846287206580576, details={'actual_k': 1, 'was_impossible': False}),\n",
       " Prediction(uid='AVTZOXU568VNT', iid='B000002OVJ', r_ui=3.8894373392329515, est=3.6971350289281446, details={'actual_k': 1, 'was_impossible': False}),\n",
       " Prediction(uid='A36ONZ3LB9V7FO', iid='B00000064G', r_ui=3.610187794162153, est=3.748900035161446, details={'actual_k': 1, 'was_impossible': False}),\n",
       " Prediction(uid='A35XFZN4MWNKK4', iid='B000002NJS', r_ui=3.884489863923256, est=3.9810944157650416, details={'actual_k': 4, 'was_impossible': False}),\n",
       " Prediction(uid='AC51D84J636F', iid='B000003C3V', r_ui=3.602853701004211, est=3.5960050940359474, details={'was_impossible': True, 'reason': 'User and/or item is unknown.'}),\n",
       " Prediction(uid='A31IHSADIIBY1T', iid='B00006M183', r_ui=3.951344354292643, est=3.7460935823147974, details={'actual_k': 2, 'was_impossible': False}),\n",
       " Prediction(uid='A30RS83H5PAPP9', iid='B00006690F', r_ui=3.7631662747403487, est=4.319580909727192, details={'actual_k': 4, 'was_impossible': False}),\n",
       " Prediction(uid='A3VSX2TJM78WMT', iid='B00005S7UE', r_ui=3.5714285714285716, est=3.7319335835316276, details={'actual_k': 0, 'was_impossible': False}),\n",
       " Prediction(uid='AWRGM17GTMND8', iid='B00006690F', r_ui=3.502716377337589, est=4.085600511325824, details={'actual_k': 3, 'was_impossible': False}),\n",
       " Prediction(uid='A1SNKXK0IGFS9E', iid='B004K4AUZW', r_ui=3.827038586081754, est=3.495296817423467, details={'actual_k': 0, 'was_impossible': False}),\n",
       " Prediction(uid='A1Q1FK7FKS40WU', iid='B0002PD3HU', r_ui=3.901382716049383, est=3.363394354283292, details={'actual_k': 2, 'was_impossible': False}),\n",
       " Prediction(uid='A19YHEBK099R7U', iid='B000OYC3J8', r_ui=4.099386504390429, est=3.269821982939632, details={'actual_k': 4, 'was_impossible': False}),\n",
       " Prediction(uid='AVN00ASBFTMN6', iid='B000002P5W', r_ui=3.8710460853006836, est=3.89080415929671, details={'actual_k': 0, 'was_impossible': False}),\n",
       " Prediction(uid='A32ABOAE37PVGI', iid='B000002KHB', r_ui=3.6243983869494074, est=3.7452716504418033, details={'actual_k': 0, 'was_impossible': False}),\n",
       " Prediction(uid='AA83QXB39NF8B', iid='B004D1GZ2E', r_ui=4.067714285714286, est=3.7370535677809236, details={'actual_k': 0, 'was_impossible': False}),\n",
       " Prediction(uid='A2ULSA0IRUE09E', iid='B000H0MKGK', r_ui=2.470417330823469, est=3.687268062931173, details={'actual_k': 5, 'was_impossible': False}),\n",
       " Prediction(uid='A1YQ6QB2127AJ4', iid='B00005YW4H', r_ui=4.05849564957821, est=3.9475349402817006, details={'actual_k': 5, 'was_impossible': False}),\n",
       " Prediction(uid='A1BVCH82W0M2W2', iid='B00000D9TQ', r_ui=3.537493821336336, est=3.674936720080506, details={'actual_k': 0, 'was_impossible': False}),\n",
       " Prediction(uid='A2RXC61UJQQSWZ', iid='B0000AGWFA', r_ui=3.543295847750865, est=3.6252395996185443, details={'actual_k': 1, 'was_impossible': False}),\n",
       " Prediction(uid='A3ANEC5F6DK16S', iid='B0000C6E4D', r_ui=3.4489439217164377, est=3.5960050940359474, details={'was_impossible': True, 'reason': 'User and/or item is unknown.'}),\n",
       " Prediction(uid='A3KJ6JAZPH382D', iid='B000002GWZ', r_ui=3.0503217503217503, est=3.250887701811458, details={'actual_k': 5, 'was_impossible': False}),\n",
       " Prediction(uid='AGQEUU21DLZBH', iid='B0007TX894', r_ui=3.870153812201295, est=3.977055362277905, details={'actual_k': 1, 'was_impossible': False}),\n",
       " Prediction(uid='A3HU0B9XUEVHIM', iid='B00000ADG2', r_ui=3.7742076917825123, est=3.8459953829227285, details={'actual_k': 5, 'was_impossible': False}),\n",
       " Prediction(uid='A2XH04EO8WUYWM', iid='B00003IE26', r_ui=3.7301587301587302, est=3.8238962128137937, details={'actual_k': 4, 'was_impossible': False}),\n",
       " Prediction(uid='A3HTPZWRCB3OI1', iid='B00006690F', r_ui=2.7142857142857144, est=3.2280345786696567, details={'actual_k': 5, 'was_impossible': False}),\n",
       " Prediction(uid='A23IOPI0D1OG7V', iid='B000002NJS', r_ui=3.871613947521866, est=3.5840663100352432, details={'actual_k': 5, 'was_impossible': False}),\n",
       " Prediction(uid='A1VFBYDCGS4OFK', iid='B000002L7G', r_ui=3.3125858776949935, est=3.5960050940359474, details={'was_impossible': True, 'reason': 'User and/or item is unknown.'}),\n",
       " Prediction(uid='A3A9HRF6U850GL', iid='B0000C421G', r_ui=3.593586005830904, est=3.586357726099182, details={'actual_k': 4, 'was_impossible': False}),\n",
       " Prediction(uid='A1FHZZ28OHTGR9', iid='B00006L7XQ', r_ui=3.9371033988975364, est=3.9840622168469695, details={'actual_k': 1, 'was_impossible': False}),\n",
       " Prediction(uid='ATSULHQXHRGOV', iid='B00004UARR', r_ui=3.872543452881995, est=3.7998875714294544, details={'actual_k': 0, 'was_impossible': False}),\n",
       " Prediction(uid='A20MFNB26O1T24', iid='B000021YQV', r_ui=3.8694377118468917, est=3.943006426717855, details={'actual_k': 2, 'was_impossible': False}),\n",
       " Prediction(uid='AAVT5R0F3J9XG', iid='B0006ZQ9BS', r_ui=3.4881303173299982, est=3.2947747076658813, details={'actual_k': 2, 'was_impossible': False}),\n",
       " Prediction(uid='A1Z4C6XDXIZPZV', iid='B00002MZ4W', r_ui=4.0558695781519605, est=3.9143016605784013, details={'actual_k': 4, 'was_impossible': False}),\n",
       " Prediction(uid='A34JA73FX0Q7N5', iid='B00027JYOE', r_ui=3.8299319727891157, est=3.6128756795090653, details={'actual_k': 5, 'was_impossible': False}),\n",
       " Prediction(uid='A1UH3S1GVFSMFH', iid='B00004Z41Q', r_ui=3.6695734935205118, est=3.746677351402982, details={'actual_k': 5, 'was_impossible': False}),\n",
       " Prediction(uid='A33TRNCQK4IUO7', iid='B000197KVW', r_ui=3.6017159112973296, est=3.483349030364709, details={'actual_k': 4, 'was_impossible': False}),\n",
       " Prediction(uid='AGAMDS21PJZPK', iid='B000E0OEQC', r_ui=3.833485793512256, est=3.9238335116731036, details={'actual_k': 5, 'was_impossible': False}),\n",
       " Prediction(uid='A3MISB22HHN0D2', iid='B000031XCY', r_ui=3.910949141561386, est=2.580907449150051, details={'actual_k': 4, 'was_impossible': False}),\n",
       " Prediction(uid='A25NMMI7AH30W2', iid='B00018D44U', r_ui=3.9582825337927376, est=3.7458166472767824, details={'actual_k': 2, 'was_impossible': False}),\n",
       " Prediction(uid='A12OSNCDUGRZMQ', iid='B00004X0Q0', r_ui=3.778315001694869, est=2.628107120914065, details={'actual_k': 1, 'was_impossible': False}),\n",
       " Prediction(uid='A24N1BAS3CU27H', iid='B0002U6GFQ', r_ui=3.7635377557883385, est=3.7328222611335127, details={'actual_k': 5, 'was_impossible': False}),\n",
       " Prediction(uid='APOGXH3A74CM3', iid='B000001EGC', r_ui=3.5995535714285714, est=3.648432868458558, details={'actual_k': 2, 'was_impossible': False}),\n",
       " Prediction(uid='A3HTX1NOTTWERP', iid='B00000IAU3', r_ui=3.965849425611561, est=3.9816429632567085, details={'actual_k': 5, 'was_impossible': False}),\n",
       " Prediction(uid='A2NG313A8LTHS9', iid='B000E0OEQC', r_ui=2.584727484794989, est=2.896516960502857, details={'actual_k': 1, 'was_impossible': False}),\n",
       " Prediction(uid='A2FHTYO7IVH8C6', iid='B0000025F7', r_ui=3.759803571428571, est=3.5960050940359474, details={'was_impossible': True, 'reason': 'User and/or item is unknown.'}),\n",
       " Prediction(uid='A1RJJ56MBJMX87', iid='B000002KHB', r_ui=3.7894065658531515, est=3.6684292704810755, details={'actual_k': 1, 'was_impossible': False}),\n",
       " Prediction(uid='A2HRVVDJMY5M4Z', iid='B00009VRDI', r_ui=3.8460152596064003, est=3.450914592666507, details={'actual_k': 1, 'was_impossible': False}),\n",
       " Prediction(uid='A1OBVBZ7BG6AS7', iid='B0002A2WAO', r_ui=3.654290553442069, est=3.661469839125814, details={'actual_k': 1, 'was_impossible': False}),\n",
       " Prediction(uid='A3PGGPL7FM9F81', iid='B000002GWZ', r_ui=3.0565668461922137, est=3.522202489753506, details={'actual_k': 5, 'was_impossible': False}),\n",
       " Prediction(uid='A2UR38SZPVA07I', iid='B0000029AP', r_ui=3.7068589146056867, est=3.720940400469134, details={'actual_k': 5, 'was_impossible': False}),\n",
       " Prediction(uid='AADJXNY9HSKJF', iid='B000000TDH', r_ui=3.717060811287478, est=3.728673649411661, details={'actual_k': 5, 'was_impossible': False}),\n",
       " Prediction(uid='AE9GUE3HHOX3U', iid='B000FII324', r_ui=3.8864350502105602, est=3.7398880965815327, details={'actual_k': 5, 'was_impossible': False}),\n",
       " Prediction(uid='A32JKNQ6BABMQ2', iid='B000002OPL', r_ui=3.8368555686737507, est=3.5833494065807767, details={'actual_k': 1, 'was_impossible': False}),\n",
       " Prediction(uid='A3RPXKTIUWREKD', iid='B0009VJWQS', r_ui=2.34751104662146, est=3.8282848049969256, details={'actual_k': 4, 'was_impossible': False}),\n",
       " Prediction(uid='A2LTTAVX8XIGCQ', iid='B000001EW3', r_ui=2.6722936507936508, est=3.642179454944836, details={'actual_k': 0, 'was_impossible': False}),\n",
       " Prediction(uid='A1SLDAO1VC9UTU', iid='B00000163G', r_ui=2.621428571428572, est=2.4732439522747964, details={'actual_k': 1, 'was_impossible': False}),\n",
       " Prediction(uid='A34Y1FT0MTD7C9', iid='B00000016W', r_ui=3.300312156939495, est=3.943285221476698, details={'actual_k': 5, 'was_impossible': False}),\n",
       " Prediction(uid='A2WGCHELE4HFCA', iid='B0000646TK', r_ui=3.594126984126984, est=3.7168777055112208, details={'actual_k': 5, 'was_impossible': False}),\n",
       " Prediction(uid='A1PN2U0AWXGVML', iid='B000002MUW', r_ui=3.191326530612245, est=3.7703934993708477, details={'actual_k': 3, 'was_impossible': False}),\n",
       " Prediction(uid='A12224Y2TZG4BY', iid='B00005YW4H', r_ui=3.7732668963689373, est=2.652754117098648, details={'actual_k': 1, 'was_impossible': False}),\n",
       " Prediction(uid='A1OC3D2LGBFDJ4', iid='B0000DD7LC', r_ui=3.9074399373257713, est=3.7104967244627516, details={'actual_k': 5, 'was_impossible': False}),\n",
       " Prediction(uid='AK1IRCJ6VRS8P', iid='B0000DD7LC', r_ui=3.8928315609998654, est=3.3313590533798716, details={'actual_k': 4, 'was_impossible': False}),\n",
       " Prediction(uid='A1YQ6QB2127AJ4', iid='B0000646TK', r_ui=3.706411060851176, est=3.824294834156089, details={'actual_k': 5, 'was_impossible': False}),\n",
       " Prediction(uid='AR65QBP053S9L', iid='B0007TX894', r_ui=3.801563340802673, est=3.852676098086834, details={'actual_k': 1, 'was_impossible': False}),\n",
       " Prediction(uid='A152HV6669BVV6', iid='B00000J7JO', r_ui=3.5887288760622096, est=3.707089402978844, details={'actual_k': 0, 'was_impossible': False}),\n",
       " Prediction(uid='A2PY7334HX7RJV', iid='B0012OVF2U', r_ui=3.767440476190476, est=3.5551638405996893, details={'actual_k': 0, 'was_impossible': False}),\n",
       " Prediction(uid='A2X0B2YJ50W7HU', iid='B0000AGWFX', r_ui=3.6123698057068228, est=3.745753637560924, details={'actual_k': 5, 'was_impossible': False}),\n",
       " Prediction(uid='A2MMIZ653FBNPT', iid='B00005AAFJ', r_ui=2.76411132847586, est=3.4609512080698255, details={'actual_k': 1, 'was_impossible': False}),\n",
       " Prediction(uid='A12ZF9TZLGYG8X', iid='B00005O54Q', r_ui=3.819714285714286, est=4.062678343591233, details={'actual_k': 1, 'was_impossible': False}),\n",
       " Prediction(uid='A2WV1BVPR5YKFZ', iid='B000002KHB', r_ui=3.922619047619048, est=3.7452716504418033, details={'actual_k': 0, 'was_impossible': False}),\n",
       " Prediction(uid='AJI80WO9V8V6S', iid='B0000025RI', r_ui=4.396825396825397, est=4.164102319885719, details={'actual_k': 2, 'was_impossible': False}),\n",
       " Prediction(uid='A1QXDGCVJACNTD', iid='B00005K9KP', r_ui=3.6811739377326043, est=3.433281711082088, details={'actual_k': 3, 'was_impossible': False}),\n",
       " Prediction(uid='AMP7TQRWAIE84', iid='B000E0OEQC', r_ui=3.7803678666810643, est=3.5436719002353665, details={'actual_k': 5, 'was_impossible': False}),\n",
       " Prediction(uid='A7JRDNX3WOMTR', iid='B000069HKH', r_ui=3.7957675197973937, est=3.5425420602229862, details={'actual_k': 5, 'was_impossible': False}),\n",
       " Prediction(uid='A1Z6ZC5YJ52AF9', iid='B00008J4P5', r_ui=2.7527190757959987, est=3.0731818504828987, details={'actual_k': 1, 'was_impossible': False}),\n",
       " Prediction(uid='AGEJE3WH26UBR', iid='B000001FZ6', r_ui=2.4250440917107583, est=3.5960050940359474, details={'was_impossible': True, 'reason': 'User and/or item is unknown.'}),\n",
       " Prediction(uid='A14TAVG028YD6M', iid='B000002NJS', r_ui=3.99162230718618, est=3.9136120285812974, details={'actual_k': 2, 'was_impossible': False}),\n",
       " Prediction(uid='A1Q7329LOIJG6M', iid='B000002KNO', r_ui=3.304342122523941, est=3.3031456190367554, details={'actual_k': 2, 'was_impossible': False}),\n",
       " Prediction(uid='AMGGZCWY3VNZC', iid='B00006IU73', r_ui=3.5433023659671017, est=3.5960050940359474, details={'was_impossible': True, 'reason': 'User and/or item is unknown.'}),\n",
       " Prediction(uid='AJWIIPPWXH4U3', iid='B000002KH3', r_ui=4.004493827160494, est=3.845826026377838, details={'actual_k': 0, 'was_impossible': False}),\n",
       " Prediction(uid='A59H9BL8L9Y4Z', iid='B000002UCL', r_ui=4.428571428571429, est=3.8047549128534714, details={'actual_k': 2, 'was_impossible': False}),\n",
       " Prediction(uid='A5WDJI6VT51TK', iid='B000002JAI', r_ui=3.0842579365079366, est=2.954910917341283, details={'actual_k': 2, 'was_impossible': False}),\n",
       " Prediction(uid='A3DWUM6SN3N3NR', iid='B00004Z41Q', r_ui=3.7534877232142856, est=3.578920741435359, details={'actual_k': 3, 'was_impossible': False}),\n",
       " Prediction(uid='A15Z2947ZA5TJF', iid='B003V5PPZG', r_ui=2.1875, est=2.2536398162721887, details={'actual_k': 1, 'was_impossible': False}),\n",
       " Prediction(uid='A1V06100S71YU8', iid='B000084T18', r_ui=3.9670171300054116, est=3.4773356225171237, details={'actual_k': 2, 'was_impossible': False}),\n",
       " Prediction(uid='A13FBTZ8SO8T3D', iid='B00006IU73', r_ui=3.9060585783154034, est=3.8407834917725614, details={'actual_k': 1, 'was_impossible': False}),\n",
       " Prediction(uid='A2XLYYVLHE3LKW', iid='B0009SCVTG', r_ui=3.369612244897959, est=3.565275262216884, details={'actual_k': 1, 'was_impossible': False}),\n",
       " Prediction(uid='A3R8PXSFGY9MC2', iid='B00000DGUG', r_ui=3.1185370106683905, est=3.6493210984490445, details={'actual_k': 5, 'was_impossible': False}),\n",
       " Prediction(uid='A39RJX5CACOOIY', iid='B00000J7JO', r_ui=3.139087817516092, est=3.9284834691329844, details={'actual_k': 3, 'was_impossible': False}),\n",
       " Prediction(uid='A26R1W3MKYULOX', iid='B000002UCL', r_ui=3.908110395903212, est=3.9219564302876853, details={'actual_k': 1, 'was_impossible': False}),\n",
       " Prediction(uid='A12W8NRSYR593I', iid='B000001A5X', r_ui=4.057714285714286, est=3.8101399657115382, details={'actual_k': 0, 'was_impossible': False}),\n",
       " Prediction(uid='A26E0QSGICNIK8', iid='B0000029DD', r_ui=3.8277446550048593, est=3.2824460347943276, details={'actual_k': 2, 'was_impossible': False}),\n",
       " Prediction(uid='A467QR5AKOIW3', iid='B00008H2LB', r_ui=3.5062147788109326, est=3.2219573777429797, details={'actual_k': 3, 'was_impossible': False}),\n",
       " Prediction(uid='AB2AQMK9PCWWX', iid='B00000DFRS', r_ui=3.8040252110289217, est=3.4724618127428295, details={'actual_k': 5, 'was_impossible': False}),\n",
       " Prediction(uid='A1ZFWU0DQCPKIJ', iid='B0000029AN', r_ui=3.4126984126984126, est=3.351957525998268, details={'actual_k': 1, 'was_impossible': False}),\n",
       " Prediction(uid='A3DWUM6SN3N3NR', iid='B0000AGWFX', r_ui=4.274928571428571, est=3.739989425759766, details={'actual_k': 5, 'was_impossible': False}),\n",
       " Prediction(uid='A2DOC3GGT230O6', iid='B000001F66', r_ui=3.7519428571428572, est=3.766202626041003, details={'actual_k': 0, 'was_impossible': False}),\n",
       " Prediction(uid='A3NLQ41U1Z5IQ2', iid='B00016XMOE', r_ui=3.7327502429543244, est=3.3638280832180993, details={'actual_k': 3, 'was_impossible': False}),\n",
       " Prediction(uid='A3CRB8AHFDKWP4', iid='B0000TAZS8', r_ui=3.6786071410351715, est=3.362675296060932, details={'actual_k': 4, 'was_impossible': False}),\n",
       " Prediction(uid='A8M4WE1MT4R4O', iid='B00004R7SN', r_ui=3.261904761904762, est=3.1682174740911173, details={'actual_k': 3, 'was_impossible': False}),\n",
       " Prediction(uid='A30JGXL2O6C64S', iid='B00006690F', r_ui=3.3473513665821355, est=3.1066040319238946, details={'actual_k': 2, 'was_impossible': False}),\n",
       " Prediction(uid='A39KOJG83K8F1U', iid='B000002KNO', r_ui=3.7837589893100096, est=3.4014792264382407, details={'actual_k': 0, 'was_impossible': False}),\n",
       " Prediction(uid='A1YQ6QB2127AJ4', iid='B00005QDVS', r_ui=3.928523032069971, est=4.002958444874309, details={'actual_k': 5, 'was_impossible': False}),\n",
       " Prediction(uid='A2ID4IRSPV8ONE', iid='B00008OWZE', r_ui=2.347133338932281, est=2.8875057728326423, details={'actual_k': 2, 'was_impossible': False}),\n",
       " Prediction(uid='A4PPZNQF1X2IY', iid='B00000253N', r_ui=4.100446428571429, est=3.7875208444162705, details={'actual_k': 1, 'was_impossible': False}),\n",
       " Prediction(uid='A3K6ZF5EEO9QCD', iid='B00006ZCFI', r_ui=2.441583382324123, est=3.501417631709401, details={'actual_k': 2, 'was_impossible': False}),\n",
       " Prediction(uid='ABS3C0BMVW7RK', iid='B000197KVW', r_ui=4.041102430555555, est=2.379835915369928, details={'actual_k': 2, 'was_impossible': False}),\n",
       " Prediction(uid='A14NPAF8OQOSSL', iid='B00065XJ52', r_ui=2.8241418089421915, est=2.875701847720946, details={'actual_k': 1, 'was_impossible': False}),\n",
       " Prediction(uid='A3G08SM0NRGQ8I', iid='B0000029AN', r_ui=3.327336860670194, est=3.841932697430793, details={'actual_k': 2, 'was_impossible': False}),\n",
       " Prediction(uid='A97B72F4UI8FA', iid='B00008VOQM', r_ui=3.5846673037476333, est=3.469320524492767, details={'actual_k': 5, 'was_impossible': False}),\n",
       " Prediction(uid='A1BJJVV2B5VLUQ', iid='B000002KNO', r_ui=3.1074254944827455, est=3.3834076428659916, details={'actual_k': 5, 'was_impossible': False}),\n",
       " Prediction(uid='A3UI85DYGMDA15', iid='B000002C2E', r_ui=3.7518369971606034, est=3.6546039823945646, details={'actual_k': 2, 'was_impossible': False}),\n",
       " Prediction(uid='A59H9BL8L9Y4Z', iid='B0002X314C', r_ui=3.9964285714285714, est=4.010339916895186, details={'actual_k': 1, 'was_impossible': False}),\n",
       " Prediction(uid='AA83QXB39NF8B', iid='B000001EG2', r_ui=3.8380952380952382, est=3.76639588740002, details={'actual_k': 0, 'was_impossible': False}),\n",
       " Prediction(uid='A1GN8UJIZLCA59', iid='B00000016W', r_ui=4.10503034394031, est=3.8881385583797736, details={'actual_k': 5, 'was_impossible': False}),\n",
       " Prediction(uid='A1BJJVV2B5VLUQ', iid='B00000272N', r_ui=3.3534538218065006, est=3.823556536511721, details={'actual_k': 5, 'was_impossible': False}),\n",
       " Prediction(uid='A7JRDNX3WOMTR', iid='B000002OPL', r_ui=3.965652350015637, est=3.605163632090314, details={'actual_k': 5, 'was_impossible': False}),\n",
       " Prediction(uid='A2CHV3M1UR42KJ', iid='B00007KK7V', r_ui=3.5057433871632133, est=3.5525976237556582, details={'actual_k': 1, 'was_impossible': False}),\n",
       " Prediction(uid='A1OI92E32SOMBJ', iid='B003KUSUG8', r_ui=4.198214285714286, est=4.08282234585358, details={'actual_k': 2, 'was_impossible': False}),\n",
       " Prediction(uid='A2RQQPP34JDWPR', iid='B0009G3BWE', r_ui=2.9573412698412698, est=2.6900375931461227, details={'actual_k': 2, 'was_impossible': False}),\n",
       " Prediction(uid='A1N7CICSBMIQXK', iid='B0009SCVTG', r_ui=3.434430852794981, est=3.6120984580895756, details={'actual_k': 3, 'was_impossible': False}),\n",
       " Prediction(uid='A22VNXHU6IZ5MT', iid='B000002OPL', r_ui=4.102872884691067, est=4.0361131251549835, details={'actual_k': 5, 'was_impossible': False}),\n",
       " Prediction(uid='A6P1YY7PJVO3K', iid='B000002OPL', r_ui=3.8451145163947933, est=3.721639362294147, details={'actual_k': 1, 'was_impossible': False}),\n",
       " Prediction(uid='A2PV6GK1HV54Y9', iid='B00002MZ4W', r_ui=3.0973599364972277, est=3.599975141816344, details={'actual_k': 5, 'was_impossible': False}),\n",
       " Prediction(uid='A2CEIVPX763WBQ', iid='B000UMQDHC', r_ui=3.829096675090432, est=3.815760910447871, details={'actual_k': 2, 'was_impossible': False}),\n",
       " Prediction(uid='A21HJFSY4LT8KP', iid='B00018D44U', r_ui=3.5262983944818376, est=4.187147236205188, details={'actual_k': 3, 'was_impossible': False}),\n",
       " Prediction(uid='A2E5SIA2VXQ9TU', iid='B00000DGUG', r_ui=4.172301587301587, est=3.894958311668459, details={'actual_k': 2, 'was_impossible': False}),\n",
       " Prediction(uid='AQZE4MMQMDKPB', iid='B0009SCVTG', r_ui=3.4429061336468743, est=2.881893249913702, details={'actual_k': 5, 'was_impossible': False}),\n",
       " Prediction(uid='A1RDO6YKNX3RB8', iid='B000N2G3RY', r_ui=3.9734277018745656, est=3.587388021038155, details={'actual_k': 0, 'was_impossible': False}),\n",
       " Prediction(uid='A37JDICAXMZ2AZ', iid='B0002U6GFQ', r_ui=3.705752997775261, est=3.5776848421696266, details={'actual_k': 1, 'was_impossible': False}),\n",
       " Prediction(uid='A2JV4Z6US6BA4O', iid='B00008J4P5', r_ui=3.7280694533659178, est=3.5960050940359474, details={'was_impossible': True, 'reason': 'User and/or item is unknown.'}),\n",
       " Prediction(uid='A2KF6R00AI5QYU', iid='B00005O54Q', r_ui=3.617702907274403, est=3.884343303702751, details={'actual_k': 3, 'was_impossible': False}),\n",
       " Prediction(uid='A3HCY89ISEIF0J', iid='B0002IQHBQ', r_ui=3.476311383928571, est=3.7163561094076027, details={'actual_k': 2, 'was_impossible': False}),\n",
       " Prediction(uid='A8U8JSMH2IA2T', iid='B0000DFZZA', r_ui=3.7901278842980166, est=4.118959225846424, details={'actual_k': 3, 'was_impossible': False}),\n",
       " Prediction(uid='AGM907X0URUZZ', iid='B000001FZ6', r_ui=3.8638183164422233, est=3.764455387094421, details={'actual_k': 2, 'was_impossible': False}),\n",
       " Prediction(uid='A2LSWBBCLW87LW', iid='B004NSULHM', r_ui=2.9371293500393354, est=3.145723159075966, details={'actual_k': 1, 'was_impossible': False}),\n",
       " Prediction(uid='ALQ90GSQXWB68', iid='B00008OWZE', r_ui=3.519602358276644, est=3.3805355113120052, details={'actual_k': 0, 'was_impossible': False}),\n",
       " Prediction(uid='A20DZX38KRBIT8', iid='B0000CD5FR', r_ui=2.428571428571429, est=2.47491401744826, details={'actual_k': 2, 'was_impossible': False}),\n",
       " Prediction(uid='A2QS7KCOAR5W3', iid='B0000029AP', r_ui=3.9589285714285714, est=4.100573966322711, details={'actual_k': 1, 'was_impossible': False}),\n",
       " Prediction(uid='A265PUDS1OGQYB', iid='B000023VR6', r_ui=3.9315509934132384, est=4.0623918829032135, details={'actual_k': 2, 'was_impossible': False}),\n",
       " Prediction(uid='ADXP05MY5KQC7', iid='B00097A5H2', r_ui=3.6072380952380954, est=3.6946127018871353, details={'actual_k': 1, 'was_impossible': False}),\n",
       " Prediction(uid='A36GOF4OEH4I1Y', iid='B000084T18', r_ui=3.8337439661088033, est=4.000824969880522, details={'actual_k': 3, 'was_impossible': False}),\n",
       " Prediction(uid='A3DREKLCS81MNT', iid='B000001A5X', r_ui=4.158730158730158, est=3.8101399657115382, details={'actual_k': 0, 'was_impossible': False}),\n",
       " Prediction(uid='A14GK0E64J0WAS', iid='B0002PD3HU', r_ui=3.7491752474307942, est=3.647597656507913, details={'actual_k': 5, 'was_impossible': False}),\n",
       " Prediction(uid='A2KOUUPW3MB2W3', iid='B003V5PPZG', r_ui=2.9460288868293025, est=3.5960050940359474, details={'was_impossible': True, 'reason': 'User and/or item is unknown.'}),\n",
       " Prediction(uid='A10CBLMJD1OQL7', iid='B000002JAI', r_ui=3.1927083333333335, est=3.883291834272743, details={'actual_k': 2, 'was_impossible': False}),\n",
       " Prediction(uid='ARFRYHIVP6VPP', iid='B00006690F', r_ui=2.606272045855379, est=3.698428127253882, details={'actual_k': 1, 'was_impossible': False}),\n",
       " Prediction(uid='A25LSMOXW6PEX0', iid='B00008J4P5', r_ui=2.2688678926908454, est=3.7843018117193, details={'actual_k': 1, 'was_impossible': False}),\n",
       " Prediction(uid='A23F0RW1RUBBDF', iid='B000EMGAOY', r_ui=3.713388293949937, est=3.8336438910582635, details={'actual_k': 3, 'was_impossible': False}),\n",
       " Prediction(uid='A2K150EBPF8LT7', iid='B000003B6J', r_ui=3.947991909615667, est=3.8371845944891354, details={'actual_k': 5, 'was_impossible': False}),\n",
       " Prediction(uid='A97B72F4UI8FA', iid='B000002VT6', r_ui=3.634252344877345, est=3.4997421727661884, details={'actual_k': 4, 'was_impossible': False}),\n",
       " Prediction(uid='A3C6ZCBUNXUT7V', iid='B000001Y15', r_ui=3.6389667902928076, est=3.851021063697021, details={'actual_k': 5, 'was_impossible': False}),\n",
       " Prediction(uid='A233VBFKZZIEDD', iid='B00027JYOE', r_ui=3.004614738332308, est=2.937897289799187, details={'actual_k': 1, 'was_impossible': False}),\n",
       " Prediction(uid='A32JZ9XNHMNWOO', iid='B00001IVJS', r_ui=3.7649936868686873, est=3.4273697055143972, details={'actual_k': 1, 'was_impossible': False}),\n",
       " Prediction(uid='A3FSK82Z5ZI4PK', iid='B003WTE886', r_ui=4.094678571428572, est=4.1046087142331436, details={'actual_k': 2, 'was_impossible': False}),\n",
       " Prediction(uid='A12OSNCDUGRZMQ', iid='B00005ICAW', r_ui=2.486367986555614, est=3.408959053585985, details={'actual_k': 0, 'was_impossible': False}),\n",
       " Prediction(uid='AFTN9ZLB22PSZ', iid='B000084T18', r_ui=3.4771601010828994, est=3.5194981462854296, details={'actual_k': 4, 'was_impossible': False}),\n",
       " Prediction(uid='A17GMVWZ29KJIO', iid='B00000FCBH', r_ui=4.210027250550366, est=4.1657830324765515, details={'actual_k': 2, 'was_impossible': False}),\n",
       " Prediction(uid='A3K51Z8GYTWAEE', iid='B00004R7SN', r_ui=3.6426279191457893, est=3.5960050940359474, details={'was_impossible': True, 'reason': 'User and/or item is unknown.'}),\n",
       " Prediction(uid='A2HWD9PTM7RBXN', iid='B00004S36A', r_ui=4.040314450883233, est=3.6833695932068955, details={'actual_k': 5, 'was_impossible': False}),\n",
       " Prediction(uid='A2MGMBB5F9NED', iid='B0000TAZS8', r_ui=2.233114710381194, est=2.1558748436282498, details={'actual_k': 5, 'was_impossible': False}),\n",
       " Prediction(uid='A2J92C3H4XRER9', iid='B000002LQR', r_ui=3.180555555555556, est=3.5960050940359474, details={'was_impossible': True, 'reason': 'User and/or item is unknown.'}),\n",
       " Prediction(uid='ANTOY11LF35W5', iid='B00006JO3X', r_ui=4.146603954081633, est=3.961186481276155, details={'actual_k': 1, 'was_impossible': False}),\n",
       " Prediction(uid='ARPRJZSXOZO2V', iid='B00002MZ4W', r_ui=3.9806098875009135, est=3.7982094215583833, details={'actual_k': 2, 'was_impossible': False}),\n",
       " Prediction(uid='A23KAWGZ4RE1RI', iid='B00002MZ4W', r_ui=3.8692434438028127, est=3.769931087329708, details={'actual_k': 5, 'was_impossible': False}),\n",
       " Prediction(uid='AQI2CW6UKF1ES', iid='B00005O6IR', r_ui=3.435031127296857, est=3.2163082310570728, details={'actual_k': 5, 'was_impossible': False}),\n",
       " Prediction(uid='A1E3N1GKATTQ0', iid='B000001Y15', r_ui=3.8035714285714284, est=4.177402314124125, details={'actual_k': 1, 'was_impossible': False}),\n",
       " Prediction(uid='AGOIS4LC6AY9I', iid='B000EU1KRS', r_ui=3.575236127508855, est=3.612319828129821, details={'actual_k': 5, 'was_impossible': False}),\n",
       " Prediction(uid='A3HZ1R0V1XYN47', iid='B000031XCY', r_ui=3.7231156994794268, est=3.5960050940359474, details={'was_impossible': True, 'reason': 'User and/or item is unknown.'}),\n",
       " Prediction(uid='AYOO12C9Y2T95', iid='B00000D9TQ', r_ui=3.263091441714786, est=3.5638272045866155, details={'actual_k': 5, 'was_impossible': False}),\n",
       " Prediction(uid='AO5KYW6F08NB0', iid='B000002MFN', r_ui=3.8810009718172984, est=3.8341354895544963, details={'actual_k': 2, 'was_impossible': False}),\n",
       " Prediction(uid='AEMZRE6QYVQBS', iid='B000002J2S', r_ui=3.480189732142857, est=3.7214055805069295, details={'actual_k': 2, 'was_impossible': False}),\n",
       " Prediction(uid='A3RSO2MXIZA9EB', iid='B004NSULHM', r_ui=2.765253644314869, est=3.369729588964163, details={'actual_k': 2, 'was_impossible': False}),\n",
       " Prediction(uid='ADSARUF1MIGA0', iid='B000035X1M', r_ui=4.036347238619966, est=3.5960050940359474, details={'was_impossible': True, 'reason': 'User and/or item is unknown.'}),\n",
       " Prediction(uid='A3TZV5SXQ8F6ST', iid='B000002PD8', r_ui=3.5333457341269843, est=3.785837469312768, details={'actual_k': 2, 'was_impossible': False}),\n",
       " Prediction(uid='A38ZTXT2TNQ02C', iid='B000003AEK', r_ui=3.9029841703369237, est=3.7021221678664133, details={'actual_k': 2, 'was_impossible': False}),\n",
       " Prediction(uid='A14GK0E64J0WAS', iid='B000002UCL', r_ui=3.9416389455331564, est=3.7586600933355574, details={'actual_k': 5, 'was_impossible': False}),\n",
       " Prediction(uid='A17QYYGT3C1EPT', iid='B00005NHJS', r_ui=3.493877551020408, est=3.5960050940359474, details={'was_impossible': True, 'reason': 'User and/or item is unknown.'}),\n",
       " Prediction(uid='A13FKUDRI0R54U', iid='B000FII324', r_ui=3.500163419381054, est=3.78816411293442, details={'actual_k': 4, 'was_impossible': False}),\n",
       " Prediction(uid='A29ZCVZWIWZBCH', iid='B000001A5X', r_ui=4.018025262325521, est=3.974869069875674, details={'actual_k': 5, 'was_impossible': False}),\n",
       " Prediction(uid='A2PVGYO5Q57CIE', iid='B000050HS9', r_ui=3.2532298291557553, est=3.8518668716224687, details={'actual_k': 5, 'was_impossible': False}),\n",
       " Prediction(uid='A26CFXF9STXT8P', iid='B00005K9KP', r_ui=3.4541614740478375, est=3.4003857597496854, details={'actual_k': 1, 'was_impossible': False}),\n",
       " Prediction(uid='AIQ9OJCQA3TOC', iid='B000001Y15', r_ui=3.699863462859256, est=3.9010448493846055, details={'actual_k': 4, 'was_impossible': False}),\n",
       " Prediction(uid='A240NZFGUFSUUZ', iid='B000084T18', r_ui=2.4130938064718213, est=2.6393996618637736, details={'actual_k': 2, 'was_impossible': False}),\n",
       " Prediction(uid='A4PTUEVFE13K6', iid='B000002LGQ', r_ui=3.7468555701144193, est=3.81472548250049, details={'actual_k': 0, 'was_impossible': False}),\n",
       " Prediction(uid='A23GFTVIETX7DS', iid='B0000025BA', r_ui=3.865131850396881, est=4.031230457529354, details={'actual_k': 1, 'was_impossible': False}),\n",
       " Prediction(uid='A13Q6DZC1WZ9K6', iid='B0002X314C', r_ui=3.529204673705005, est=3.925364488556409, details={'actual_k': 1, 'was_impossible': False}),\n",
       " Prediction(uid='A2U61SOPY6RLPV', iid='B0007NFL18', r_ui=2.651567055393586, est=3.4882191613675015, details={'actual_k': 3, 'was_impossible': False}),\n",
       " Prediction(uid='A1WWDFQ8HSKT0', iid='B000002MUW', r_ui=4.015680325392453, est=3.79931394156423, details={'actual_k': 1, 'was_impossible': False}),\n",
       " Prediction(uid='A37AG6MLKV3V0Q', iid='B000084T18', r_ui=2.8186237092876367, est=2.8354740632351056, details={'actual_k': 5, 'was_impossible': False}),\n",
       " Prediction(uid='A3W4D8XOGLWUN5', iid='B000H7JDVI', r_ui=3.7656656138512825, est=2.970427392810127, details={'actual_k': 3, 'was_impossible': False}),\n",
       " Prediction(uid='A3REFBIIQDAH8N', iid='B00006690F', r_ui=2.446754954447262, est=3.446509903989395, details={'actual_k': 0, 'was_impossible': False}),\n",
       " Prediction(uid='A3R75H3IPPC2UX', iid='B0000013GH', r_ui=4.133504409171076, est=3.736629134911363, details={'actual_k': 0, 'was_impossible': False}),\n",
       " Prediction(uid='A23F0RW1RUBBDF', iid='B000002LBM', r_ui=3.8114629629629633, est=3.8586028851689482, details={'actual_k': 3, 'was_impossible': False}),\n",
       " Prediction(uid='A17LSEN4UY4XZQ', iid='B00009LI14', r_ui=3.3956387246635304, est=3.5562332340159997, details={'actual_k': 0, 'was_impossible': False}),\n",
       " Prediction(uid='A3SFEMQR7HHP1T', iid='B00006ZCFI', r_ui=2.811838624338624, est=3.464263268223974, details={'actual_k': 2, 'was_impossible': False}),\n",
       " Prediction(uid='A1X93ES4DITTWK', iid='B000FII324', r_ui=2.3737845664615054, est=3.3760172578786616, details={'actual_k': 5, 'was_impossible': False}),\n",
       " Prediction(uid='A8SCX6VUTE05H', iid='B00027JYOE', r_ui=3.4384402607309825, est=2.919031610692931, details={'actual_k': 5, 'was_impossible': False}),\n",
       " Prediction(uid='A4BK54P0D1GOS', iid='B00065JTAQ', r_ui=3.285590070580249, est=3.4086245715844723, details={'actual_k': 0, 'was_impossible': False}),\n",
       " Prediction(uid='A181XX482ANOFM', iid='B0000CD5FR', r_ui=3.9734896815476, est=3.5960050940359474, details={'was_impossible': True, 'reason': 'User and/or item is unknown.'}),\n",
       " Prediction(uid='A2S7XWDFR9GSPZ', iid='B000NVIXFK', r_ui=3.9536025132275134, est=3.648210317792916, details={'actual_k': 0, 'was_impossible': False}),\n",
       " Prediction(uid='A1IO3LVYV5ZMK8', iid='B00005YW4H', r_ui=3.5376922888496964, est=3.576191129009106, details={'actual_k': 3, 'was_impossible': False}),\n",
       " Prediction(uid='A30Z8BPNZV7OZ1', iid='B000BNTM32', r_ui=3.7142874876426446, est=3.3118756777117024, details={'actual_k': 1, 'was_impossible': False}),\n",
       " Prediction(uid='AB2ZW5W2HT0EY', iid='B000AGTQKY', r_ui=3.543373668117258, est=3.9508411640657974, details={'actual_k': 2, 'was_impossible': False}),\n",
       " Prediction(uid='A17ZLPBIOB6GB8', iid='B000NVIXFK', r_ui=2.813580895284673, est=3.648210317792916, details={'actual_k': 0, 'was_impossible': False}),\n",
       " Prediction(uid='A307SG5H71W726', iid='B004NSULHM', r_ui=3.6865740740740742, est=3.4382552670552964, details={'actual_k': 0, 'was_impossible': False}),\n",
       " Prediction(uid='A34JA73FX0Q7N5', iid='B0002IQHBQ', r_ui=3.4808230730308654, est=3.582660030885829, details={'actual_k': 3, 'was_impossible': False}),\n",
       " Prediction(uid='A2D4ILAR89US41', iid='B000003C3V', r_ui=3.6308565015231684, est=3.7138396357721684, details={'actual_k': 5, 'was_impossible': False}),\n",
       " Prediction(uid='A33R34S1ZYG9XE', iid='B000001EW3', r_ui=3.8966948295353125, est=3.9266814264492576, details={'actual_k': 2, 'was_impossible': False}),\n",
       " Prediction(uid='A1VABWDOUQLULZ', iid='B0000CC6QG', r_ui=3.6381172839506175, est=3.177770054696548, details={'actual_k': 4, 'was_impossible': False}),\n",
       " Prediction(uid='A3075RVSKC27HU', iid='B000002AP1', r_ui=3.071682838760658, est=3.6252602129961766, details={'actual_k': 5, 'was_impossible': False}),\n",
       " Prediction(uid='AZ4VKFF136FKR', iid='B000002GK1', r_ui=4.25, est=2.9207813592940437, details={'actual_k': 1, 'was_impossible': False}),\n",
       " Prediction(uid='A32DTCFBBB9WIV', iid='B000069HKH', r_ui=3.6266450939586172, est=2.6839284980385036, details={'actual_k': 1, 'was_impossible': False}),\n",
       " Prediction(uid='A2IUOJVG32WJOR', iid='B000FPYNQW', r_ui=3.4288961038961037, est=3.4779653223598115, details={'actual_k': 0, 'was_impossible': False}),\n",
       " Prediction(uid='A3OM5A0I7K13G9', iid='B000002KH3', r_ui=4.246031746031746, est=2.9279061970777605, details={'actual_k': 5, 'was_impossible': False}),\n",
       " Prediction(uid='A2BO41VARYGTAC', iid='B00000269M', r_ui=3.4155490767735666, est=3.661579046178359, details={'actual_k': 5, 'was_impossible': False}),\n",
       " Prediction(uid='A5DIAZ5GT3MC', iid='B0006ZQ9BS', r_ui=3.201867388761666, est=3.2559097101743113, details={'actual_k': 5, 'was_impossible': False}),\n",
       " Prediction(uid='A2ASIT0JYIGHTA', iid='B000001A6N', r_ui=3.7566137566137567, est=3.573042738998236, details={'actual_k': 3, 'was_impossible': False}),\n",
       " Prediction(uid='A2LFLKFE3B0PSA', iid='B000BLI4UG', r_ui=4.246384479717813, est=3.6143509172214108, details={'actual_k': 5, 'was_impossible': False}),\n",
       " Prediction(uid='AL7LEBKKW8XCC', iid='B000002GK1', r_ui=3.9499999999999997, est=3.946506187502525, details={'actual_k': 5, 'was_impossible': False}),\n",
       " Prediction(uid='A23IOPI0D1OG7V', iid='B000001A5X', r_ui=3.7794671266111988, est=3.88344370950598, details={'actual_k': 5, 'was_impossible': False}),\n",
       " Prediction(uid='A36489F4G8T4E7', iid='B00003NHAR', r_ui=2.443841007477371, est=2.374506743791691, details={'actual_k': 5, 'was_impossible': False}),\n",
       " Prediction(uid='AFTN9ZLB22PSZ', iid='B000002WR5', r_ui=3.7524677528505213, est=3.871325031985063, details={'actual_k': 5, 'was_impossible': False}),\n",
       " Prediction(uid='A3W4D8XOGLWUN5', iid='B0012OVF2U', r_ui=3.670355284535227, est=3.805723152265215, details={'actual_k': 1, 'was_impossible': False}),\n",
       " Prediction(uid='A37HCSGGRH8UO6', iid='B0000BWVLM', r_ui=2.4544162111097334, est=3.863530772415423, details={'actual_k': 5, 'was_impossible': False}),\n",
       " Prediction(uid='A3RQ0VN4KUKH8G', iid='B000NVIXFK', r_ui=4.021428571428571, est=3.648210317792916, details={'actual_k': 0, 'was_impossible': False}),\n",
       " Prediction(uid='A3W4D8XOGLWUN5', iid='B000002AV5', r_ui=3.9488490964252736, est=3.6072513792367173, details={'actual_k': 4, 'was_impossible': False}),\n",
       " Prediction(uid='A3O1N2A3CZS772', iid='B0001Z53AQ', r_ui=3.4215369092243315, est=3.2482819518098673, details={'actual_k': 3, 'was_impossible': False}),\n",
       " Prediction(uid='AD0FOYVI4UZVP', iid='B000001EW3', r_ui=4.050065737230598, est=3.877892766197213, details={'actual_k': 1, 'was_impossible': False}),\n",
       " Prediction(uid='AF349JR6MDNWA', iid='B00005K9KP', r_ui=3.3578820678815364, est=3.5960050940359474, details={'was_impossible': True, 'reason': 'User and/or item is unknown.'}),\n",
       " Prediction(uid='A14HCEU8BBAJ7I', iid='B000002OPL', r_ui=3.96240833995936, est=3.754244263766436, details={'actual_k': 3, 'was_impossible': False}),\n",
       " Prediction(uid='AW7CV7F94ULDU', iid='B0000025F7', r_ui=3.6414814814814815, est=3.7318134992091148, details={'actual_k': 3, 'was_impossible': False}),\n",
       " Prediction(uid='ADFXJSLJGN6EN', iid='B000002OPL', r_ui=3.6199890670553936, est=3.5526065026877314, details={'actual_k': 1, 'was_impossible': False}),\n",
       " Prediction(uid='A2HW6URUDFZ0Z9', iid='B00005YW4H', r_ui=3.873501781665047, est=3.07391555910784, details={'actual_k': 2, 'was_impossible': False}),\n",
       " Prediction(uid='A2KYS0JR501ECX', iid='B00005K9KP', r_ui=3.3389161342982083, est=3.6770151324228673, details={'actual_k': 1, 'was_impossible': False}),\n",
       " Prediction(uid='A3HQ07XPJJZQGN', iid='B0000039QA', r_ui=3.273586432506887, est=3.6166053330161376, details={'actual_k': 5, 'was_impossible': False}),\n",
       " Prediction(uid='A25CQTB313XDWO', iid='B000002LFZ', r_ui=3.7510407638991423, est=3.672858216735234, details={'actual_k': 5, 'was_impossible': False}),\n",
       " Prediction(uid='A288SXRFQA42XE', iid='B000001EW3', r_ui=3.8358978580904344, est=3.8879007862236654, details={'actual_k': 2, 'was_impossible': False}),\n",
       " Prediction(uid='A280KHZO2L7GKA', iid='B004K4AUZW', r_ui=2.7386904761904765, est=3.511217217051804, details={'actual_k': 2, 'was_impossible': False}),\n",
       " Prediction(uid='A2P6BG1S90W5F5', iid='B00006690F', r_ui=3.80580534810073, est=3.5323332104453686, details={'actual_k': 4, 'was_impossible': False}),\n",
       " Prediction(uid='A1GN8UJIZLCA59', iid='B000028U0Y', r_ui=3.8308412698412697, est=3.7817876905414436, details={'actual_k': 5, 'was_impossible': False}),\n",
       " Prediction(uid='A1JRHL29A1ABOT', iid='B002DSM8UC', r_ui=3.926060832045057, est=3.561398328772991, details={'actual_k': 5, 'was_impossible': False}),\n",
       " Prediction(uid='A31RP6XY9IESQ5', iid='B00014TQ7S', r_ui=4.007346618244053, est=3.9487872743221777, details={'actual_k': 3, 'was_impossible': False}),\n",
       " Prediction(uid='A28OGM5C71B1XD', iid='B000001EGA', r_ui=3.4605887276785716, est=3.766483350774769, details={'actual_k': 0, 'was_impossible': False}),\n",
       " Prediction(uid='A99FG0FGT85V9', iid='B0000CC6QG', r_ui=3.955859298451891, est=3.543928332936295, details={'actual_k': 4, 'was_impossible': False}),\n",
       " Prediction(uid='A28FNKCGFS03VL', iid='B0000013GH', r_ui=3.432374028182702, est=4.003396506154511, details={'actual_k': 2, 'was_impossible': False}),\n",
       " Prediction(uid='A31H7O4QPP9CHO', iid='B000BLI4UG', r_ui=4.2452326411614205, est=3.2279896425198764, details={'actual_k': 2, 'was_impossible': False}),\n",
       " Prediction(uid='A38T0YN4VC4ZIE', iid='B000002IOW', r_ui=3.4526315552676095, est=3.8460818270773394, details={'actual_k': 3, 'was_impossible': False}),\n",
       " Prediction(uid='A3T5ES5LR4DIVM', iid='B000OQF6N6', r_ui=3.848405138887144, est=3.5125320536719684, details={'actual_k': 1, 'was_impossible': False}),\n",
       " Prediction(uid='A1UH3S1GVFSMFH', iid='B00005S7UE', r_ui=3.2239443094698195, est=3.8173996842024627, details={'actual_k': 5, 'was_impossible': False}),\n",
       " Prediction(uid='A1Y1IKTDRQPCYF', iid='B000006O62', r_ui=3.8778607871720117, est=3.6635395575946017, details={'actual_k': 2, 'was_impossible': False}),\n",
       " Prediction(uid='A2RW5GR3B9KC9S', iid='B004NSULHM', r_ui=3.293894997527235, est=3.57274488887424, details={'actual_k': 1, 'was_impossible': False}),\n",
       " Prediction(uid='A37Y9UJBF3C32C', iid='B0000026WD', r_ui=4.0847191358024695, est=3.7744839912553, details={'actual_k': 2, 'was_impossible': False}),\n",
       " Prediction(uid='AQZE4MMQMDKPB', iid='B000AA303Y', r_ui=3.5061521996364684, est=3.6205225710154267, details={'actual_k': 5, 'was_impossible': False}),\n",
       " Prediction(uid='A1JIW8GOSSGUQR', iid='B00005AAFJ', r_ui=3.438467757936508, est=3.2201683426855587, details={'actual_k': 5, 'was_impossible': False}),\n",
       " Prediction(uid='A1VABWDOUQLULZ', iid='B00005NKYQ', r_ui=3.2871199294532625, est=3.4370570534694567, details={'actual_k': 4, 'was_impossible': False}),\n",
       " Prediction(uid='A2YARCE69AJTVB', iid='B000067CPX', r_ui=3.8703020023900527, est=3.6321645369606403, details={'actual_k': 3, 'was_impossible': False}),\n",
       " Prediction(uid='A6OUWU2TYT8UR', iid='B000002GK1', r_ui=3.4596493359248464, est=3.7589504975881307, details={'actual_k': 0, 'was_impossible': False}),\n",
       " Prediction(uid='A1MPEG5S1DNI52', iid='B000067CPX', r_ui=3.8625141825157727, est=3.552693169553123, details={'actual_k': 2, 'was_impossible': False}),\n",
       " Prediction(uid='ACUJU5D2GOWDB', iid='B0006ZQ9BS', r_ui=2.7013402883943907, est=3.6352354517614303, details={'actual_k': 1, 'was_impossible': False}),\n",
       " Prediction(uid='AC32305TO79HL', iid='B00000J7JO', r_ui=3.3239087301587302, est=3.00280539890814, details={'actual_k': 3, 'was_impossible': False}),\n",
       " Prediction(uid='A170T1ULRVT6FL', iid='B00000064G', r_ui=3.8019712451937595, est=3.5960050940359474, details={'was_impossible': True, 'reason': 'User and/or item is unknown.'}),\n",
       " Prediction(uid='A31LQKTOW47O62', iid='B0001Z53AQ', r_ui=3.9208571428571433, est=3.7387112981544037, details={'actual_k': 1, 'was_impossible': False}),\n",
       " Prediction(uid='A1HY4CVW8K1QFQ', iid='B0000026WD', r_ui=3.7496550280051006, est=3.879463826556946, details={'actual_k': 5, 'was_impossible': False}),\n",
       " Prediction(uid='A1XX5797TIZT5Q', iid='B00004Z41Q', r_ui=3.7826345966958215, est=3.44282881790482, details={'actual_k': 5, 'was_impossible': False}),\n",
       " Prediction(uid='A1HUX7WN8E65R3', iid='B000002LRX', r_ui=4.021428571428571, est=2.9684756626620796, details={'actual_k': 1, 'was_impossible': False}),\n",
       " Prediction(uid='A2BO41VARYGTAC', iid='B000002C2E', r_ui=3.62003489054117, est=3.835504071569083, details={'actual_k': 5, 'was_impossible': False}),\n",
       " Prediction(uid='A2AKFJOWF71WGV', iid='B000003AEK', r_ui=3.7466576048635707, est=3.9277796617714977, details={'actual_k': 5, 'was_impossible': False}),\n",
       " Prediction(uid='A281NPSIMI1C2R', iid='B00005YW4H', r_ui=3.7423393051524623, est=3.817943703511145, details={'actual_k': 2, 'was_impossible': False}),\n",
       " Prediction(uid='A1241U6QCSX5YJ', iid='B00004UARR', r_ui=3.750428516313933, est=3.663099623285842, details={'actual_k': 2, 'was_impossible': False}),\n",
       " Prediction(uid='A2CUVMQR3ECVB4', iid='B00008J4P5', r_ui=3.53719875782259, est=3.737658165861899, details={'actual_k': 1, 'was_impossible': False}),\n",
       " Prediction(uid='A3HEM1WWXXLOUL', iid='B000001A5X', r_ui=3.808605879002136, est=3.5960050940359474, details={'was_impossible': True, 'reason': 'User and/or item is unknown.'}),\n",
       " Prediction(uid='A3B8MI055LTPSD', iid='B000QUCPUC', r_ui=4.027777777777778, est=3.525403362815422, details={'actual_k': 2, 'was_impossible': False}),\n",
       " Prediction(uid='A1IKOYZVFHO1XP', iid='B00005NZDW', r_ui=3.7400445872870116, est=3.6057726978466738, details={'actual_k': 5, 'was_impossible': False}),\n",
       " Prediction(uid='A2T33U7BJ2517Z', iid='B0000062S6', r_ui=3.6698660714285714, est=3.8998413279311, details={'actual_k': 1, 'was_impossible': False}),\n",
       " Prediction(uid='A25SKLRDDMIRAH', iid='B00065BYAY', r_ui=3.7285714285714286, est=3.542458946218708, details={'actual_k': 1, 'was_impossible': False}),\n",
       " Prediction(uid='AM4ETI24CFO6D', iid='B00005O54Q', r_ui=3.953769841269841, est=3.9630522126859504, details={'actual_k': 3, 'was_impossible': False}),\n",
       " Prediction(uid='A1AYEI2SNFPYES', iid='B000EU1KRS', r_ui=3.789603354569341, est=3.764400070427381, details={'actual_k': 5, 'was_impossible': False}),\n",
       " Prediction(uid='A1AMVA4R3G58TV', iid='B00005NKYQ', r_ui=3.353968253968254, est=3.9218060140123017, details={'actual_k': 5, 'was_impossible': False}),\n",
       " Prediction(uid='A3AL8GQ69QE7WN', iid='B000AOENCM', r_ui=3.245565638615936, est=3.3564826440611606, details={'actual_k': 5, 'was_impossible': False}),\n",
       " Prediction(uid='AX3LZO32C0JFA', iid='B00003IE26', r_ui=2.9904761904761905, est=3.127685723150545, details={'actual_k': 2, 'was_impossible': False}),\n",
       " Prediction(uid='A3FWPWK8FIDZKO', iid='B00000064G', r_ui=3.8122066969848794, est=3.5960050940359474, details={'was_impossible': True, 'reason': 'User and/or item is unknown.'}),\n",
       " Prediction(uid='A1GN8UJIZLCA59', iid='B000001A6N', r_ui=3.8958407199408702, est=3.890919009984153, details={'actual_k': 5, 'was_impossible': False}),\n",
       " Prediction(uid='A2582KMXLK2P06', iid='B000002L7G', r_ui=3.861298598530143, est=3.880586997002755, details={'actual_k': 5, 'was_impossible': False}),\n",
       " Prediction(uid='A1DAFWS98LQD2R', iid='B0000024JN', r_ui=3.5902222222222226, est=3.764182705147974, details={'actual_k': 3, 'was_impossible': False}),\n",
       " Prediction(uid='A2D4ILAR89US41', iid='B000023VR6', r_ui=3.403307769700733, est=3.3680937578716206, details={'actual_k': 5, 'was_impossible': False}),\n",
       " Prediction(uid='A1T4U9YC4BPK1G', iid='B004D1GZ2E', r_ui=3.8148148148148144, est=3.9089198472028253, details={'actual_k': 1, 'was_impossible': False}),\n",
       " Prediction(uid='AZY3MDFJJFI91', iid='B000023VR6', r_ui=3.600595238095238, est=4.557044158615244, details={'actual_k': 2, 'was_impossible': False}),\n",
       " Prediction(uid='A35GNQK1DC7WXU', iid='B000002L7G', r_ui=3.9923886301562805, est=3.750515188884175, details={'actual_k': 5, 'was_impossible': False}),\n",
       " Prediction(uid='A34EC8OVUG6743', iid='B00005O6IR', r_ui=3.549384093915344, est=4.0925562855723765, details={'actual_k': 1, 'was_impossible': False}),\n",
       " Prediction(uid='A2A6OXZPN0Y98Y', iid='B00004XOWM', r_ui=2.8436701439504373, est=3.197485184415068, details={'actual_k': 1, 'was_impossible': False}),\n",
       " Prediction(uid='A3EJYJC25OJVKK', iid='B0000634ID', r_ui=2.5410432516201746, est=2.928430344109956, details={'actual_k': 3, 'was_impossible': False}),\n",
       " Prediction(uid='A3C6ZCBUNXUT7V', iid='B000AGTQKY', r_ui=3.732402980239715, est=3.999184150261088, details={'actual_k': 5, 'was_impossible': False}),\n",
       " Prediction(uid='A3KGYTO6CF8MGF', iid='B000002BE9', r_ui=3.8309679339674725, est=3.500310137852219, details={'actual_k': 5, 'was_impossible': False}),\n",
       " Prediction(uid='A3G10NPD661EQD', iid='B000000OUJ', r_ui=3.895628095238095, est=3.8623484443429748, details={'actual_k': 5, 'was_impossible': False}),\n",
       " Prediction(uid='AK1OBVI54SY73', iid='B0000C6E4D', r_ui=3.211934345628371, est=3.894408405920733, details={'actual_k': 2, 'was_impossible': False}),\n",
       " Prediction(uid='A3SV72ZAHH2IDH', iid='B000006O62', r_ui=3.497076476493006, est=3.784009689958937, details={'actual_k': 5, 'was_impossible': False}),\n",
       " Prediction(uid='A1H32IQLHDZWUI', iid='B00003NHAR', r_ui=3.7845338498930183, est=2.5247531585090655, details={'actual_k': 1, 'was_impossible': False}),\n",
       " Prediction(uid='A3U86BP7Y64RSQ', iid='B0000025F7', r_ui=4.0, est=3.5960050940359474, details={'was_impossible': True, 'reason': 'User and/or item is unknown.'}),\n",
       " Prediction(uid='A3VZVYWCTGIEV0', iid='B000NVIXFK', r_ui=3.567540232440579, est=3.6369747692844046, details={'actual_k': 4, 'was_impossible': False}),\n",
       " Prediction(uid='A2VMEYIEZE9UXD', iid='B0000C6E4D', r_ui=3.435117844637692, est=3.6031637269544583, details={'actual_k': 0, 'was_impossible': False}),\n",
       " Prediction(uid='A16XRPF40679KG', iid='B0000029AS', r_ui=3.8111857598870587, est=3.885791831863995, details={'actual_k': 4, 'was_impossible': False}),\n",
       " Prediction(uid='A1W3MBU3V858G9', iid='B000AL730O', r_ui=3.8742006209278936, est=3.5960050940359474, details={'was_impossible': True, 'reason': 'User and/or item is unknown.'}),\n",
       " Prediction(uid='A2P49WD75WHAG5', iid='B00008J4P5', r_ui=3.4374786165526063, est=3.6756647442050396, details={'actual_k': 5, 'was_impossible': False}),\n",
       " Prediction(uid='AYSLSU7966FWE', iid='B0029LHW4U', r_ui=3.5501078377341946, est=3.7897749874730238, details={'actual_k': 2, 'was_impossible': False}),\n",
       " Prediction(uid='ANGNKTK2J7JFF', iid='B004D1GZ2E', r_ui=3.8649199231020193, est=3.7370535677809236, details={'actual_k': 0, 'was_impossible': False}),\n",
       " Prediction(uid='A1J73BBTNZIMD7', iid='B000AU1NZQ', r_ui=3.8540712694351655, est=3.971198680824569, details={'actual_k': 1, 'was_impossible': False}),\n",
       " Prediction(uid='A2ULSA0IRUE09E', iid='B0000DD7LC', r_ui=3.7915233030163913, est=3.663406501399251, details={'actual_k': 5, 'was_impossible': False}),\n",
       " Prediction(uid='A1FML9FCUPV6TI', iid='B00008OWZE', r_ui=3.6499579047888995, est=3.4186644092873144, details={'actual_k': 5, 'was_impossible': False}),\n",
       " Prediction(uid='A13M2OZU0IWFY8', iid='B0000646TK', r_ui=3.2103100980652, est=3.7878315528498883, details={'actual_k': 4, 'was_impossible': False}),\n",
       " Prediction(uid='A5ZPFOTZAB1ID', iid='B0007NFL18', r_ui=3.2614900208814106, est=2.884394742214155, details={'actual_k': 5, 'was_impossible': False}),\n",
       " Prediction(uid='A2V6RMJXMKFKEV', iid='B0000039QA', r_ui=3.7503195510297784, est=3.6542460054547723, details={'actual_k': 1, 'was_impossible': False}),\n",
       " Prediction(uid='A2ETZ7GF5B1712', iid='B000075A20', r_ui=3.3868571428571426, est=3.3718491083531, details={'actual_k': 5, 'was_impossible': False}),\n",
       " Prediction(uid='A61V9CDWK2RQN', iid='B00064X2QY', r_ui=3.6749738596481136, est=3.417674217829079, details={'actual_k': 3, 'was_impossible': False}),\n",
       " Prediction(uid='AIIR8E34EDKCQ', iid='B000089RVR', r_ui=3.937725415610031, est=3.5960050940359474, details={'was_impossible': True, 'reason': 'User and/or item is unknown.'}),\n",
       " Prediction(uid='AGZ28CC1MLUAD', iid='B0000024JN', r_ui=3.46468253968254, est=3.459753205243531, details={'actual_k': 1, 'was_impossible': False}),\n",
       " Prediction(uid='A2YTTO9F4G6T6X', iid='B00005YW4H', r_ui=2.2493448858833474, est=3.6590774366380074, details={'actual_k': 3, 'was_impossible': False}),\n",
       " Prediction(uid='A11H85UYL2R4KX', iid='B0000AKOMI', r_ui=4.060052956900353, est=3.5222173679476336, details={'actual_k': 5, 'was_impossible': False}),\n",
       " Prediction(uid='A29V1MP4PX5ABN', iid='B000002LRX', r_ui=3.860766406235697, est=3.7575386395317603, details={'actual_k': 4, 'was_impossible': False}),\n",
       " Prediction(uid='A3KMTOFTUUNFHG', iid='B000AOENCM', r_ui=3.57850112478854, est=3.984698190543084, details={'actual_k': 1, 'was_impossible': False}),\n",
       " Prediction(uid='A34Q2RG2PS2OL', iid='B000001FZ6', r_ui=3.8812116685344407, est=3.5960050940359474, details={'was_impossible': True, 'reason': 'User and/or item is unknown.'}),\n",
       " Prediction(uid='A3BFJFJRXMWXAX', iid='B00000064G', r_ui=3.9827497985934204, est=3.3583371250153746, details={'actual_k': 3, 'was_impossible': False}),\n",
       " Prediction(uid='A33JB9SHMTH9E5', iid='B00007FGLS', r_ui=3.7701266752128375, est=3.735429879990125, details={'actual_k': 2, 'was_impossible': False}),\n",
       " Prediction(uid='A1LDGKFKXM32LC', iid='B000002P5W', r_ui=3.8349612208904724, est=3.758661964232161, details={'actual_k': 1, 'was_impossible': False}),\n",
       " Prediction(uid='A1SFRUEEWK1AZU', iid='B00000016W', r_ui=3.98295226054649, est=3.74692372960383, details={'actual_k': 1, 'was_impossible': False}),\n",
       " Prediction(uid='A34HYQ9BQZPE78', iid='B00000J7JO', r_ui=3.9540676954393477, est=4.007715151153766, details={'actual_k': 4, 'was_impossible': False}),\n",
       " Prediction(uid='A2PCNX59G2GLIM', iid='B000001A5X', r_ui=3.8398778550293704, est=3.8101399657115382, details={'actual_k': 0, 'was_impossible': False}),\n",
       " Prediction(uid='A3PMEJAYKF3VUC', iid='B00016XMOE', r_ui=3.5553600110679193, est=3.5822598663145535, details={'actual_k': 1, 'was_impossible': False}),\n",
       " Prediction(uid='AIKDYQA4NKI7A', iid='B005QJZ5FA', r_ui=3.574142857142857, est=3.6069271092083923, details={'actual_k': 0, 'was_impossible': False}),\n",
       " Prediction(uid='ATDXQ6MMAK205', iid='B000001FZ6', r_ui=3.8661002106603957, est=3.805624962344304, details={'actual_k': 0, 'was_impossible': False}),\n",
       " Prediction(uid='A3FWPWK8FIDZKO', iid='B00005K9KP', r_ui=3.5583901039798747, est=3.5960050940359474, details={'was_impossible': True, 'reason': 'User and/or item is unknown.'}),\n",
       " Prediction(uid='A12A6ZP3S3W2P6', iid='B0007NFL18', r_ui=3.922324701003087, est=3.4239759438435664, details={'actual_k': 5, 'was_impossible': False}),\n",
       " Prediction(uid='AYZXJ9FOTOSY4', iid='B00004T9UF', r_ui=3.768808845981334, est=3.782080341944457, details={'actual_k': 5, 'was_impossible': False}),\n",
       " Prediction(uid='A29HQXDK7BSX8H', iid='B0006IGGLS', r_ui=2.633212661282837, est=2.876861864035839, details={'actual_k': 5, 'was_impossible': False}),\n",
       " Prediction(uid='A33D1LPCYUANWE', iid='B00008VOQM', r_ui=3.9374327888589034, est=3.3361057839912514, details={'actual_k': 3, 'was_impossible': False}),\n",
       " Prediction(uid='A1SCJWCMQ3W3KK', iid='B0000C6E4D', r_ui=3.5793654238315695, est=4.024185180719501, details={'actual_k': 1, 'was_impossible': False}),\n",
       " Prediction(uid='A2Q8BZMIXLLCNG', iid='B00001IVJS', r_ui=2.8465959410527786, est=3.0669132533061467, details={'actual_k': 3, 'was_impossible': False}),\n",
       " Prediction(uid='A1GRPBJ38IVX54', iid='B00016XMOE', r_ui=2.914872023809524, est=3.612864909542632, details={'actual_k': 5, 'was_impossible': False}),\n",
       " Prediction(uid='AKGF27HN0OF19', iid='B000002IRM', r_ui=3.4948427250364427, est=3.296644716351839, details={'actual_k': 5, 'was_impossible': False}),\n",
       " Prediction(uid='ABMGCDNA0C9ZQ', iid='B00007FGLS', r_ui=3.3874158634773144, est=3.3624144121893367, details={'actual_k': 2, 'was_impossible': False}),\n",
       " Prediction(uid='A334CIVYO3MMXZ', iid='B000002GQE', r_ui=3.7201814058956915, est=3.580888029630779, details={'actual_k': 3, 'was_impossible': False}),\n",
       " Prediction(uid='A37GLKVQJQP1WZ', iid='B00008H2LB', r_ui=2.547842261904762, est=2.5280976089004277, details={'actual_k': 1, 'was_impossible': False}),\n",
       " Prediction(uid='A3SG2M19I4F9WQ', iid='B00006RAKP', r_ui=3.267587693513619, est=3.6517503836769762, details={'actual_k': 2, 'was_impossible': False}),\n",
       " Prediction(uid='A2F8A91OCBP4BM', iid='B000002OPL', r_ui=3.8227356581025265, est=3.812046559334931, details={'actual_k': 2, 'was_impossible': False}),\n",
       " Prediction(uid='A2J57EQ9KPGXR9', iid='B0000AGWEC', r_ui=2.386011904761905, est=3.2629805112036867, details={'actual_k': 0, 'was_impossible': False}),\n",
       " Prediction(uid='A1EJ9BMB058DRV', iid='B000OQF6N6', r_ui=3.290915803594241, est=3.391405610072003, details={'actual_k': 1, 'was_impossible': False}),\n",
       " Prediction(uid='A3U3PA6J2XOVFK', iid='B0000029DD', r_ui=3.4599009576282307, est=3.7947277742035825, details={'actual_k': 2, 'was_impossible': False}),\n",
       " Prediction(uid='A265PUDS1OGQYB', iid='B0000024JN', r_ui=4.148083643854837, est=3.4419081639139955, details={'actual_k': 1, 'was_impossible': False}),\n",
       " Prediction(uid='A1ODZ7SDUPEGNK', iid='B000002OPL', r_ui=4.0433914214293, est=3.6155819147441206, details={'actual_k': 5, 'was_impossible': False}),\n",
       " Prediction(uid='A31FNEBGVMJ1OD', iid='B000002NJS', r_ui=3.9455358217820935, est=3.6487973216656555, details={'actual_k': 5, 'was_impossible': False}),\n",
       " Prediction(uid='A5331QMLNRKZH', iid='B0000029AS', r_ui=2.6180000000000003, est=2.897073260741821, details={'actual_k': 2, 'was_impossible': False}),\n",
       " Prediction(uid='A31K5W6NWK68OA', iid='B0029LHW4U', r_ui=3.757440476190476, est=3.586443897392237, details={'actual_k': 0, 'was_impossible': False}),\n",
       " Prediction(uid='A1JRHL29A1ABOT', iid='B000FII324', r_ui=3.9217109044801353, est=3.827313710264386, details={'actual_k': 5, 'was_impossible': False}),\n",
       " Prediction(uid='A3AL8GQ69QE7WN', iid='B000KCHZK6', r_ui=3.1367967162355135, est=3.262474099871219, details={'actual_k': 5, 'was_impossible': False}),\n",
       " Prediction(uid='A38OAQMIS8ENZR', iid='B00000JC6C', r_ui=3.9248253968253968, est=3.7436443261648553, details={'actual_k': 0, 'was_impossible': False}),\n",
       " Prediction(uid='ATLO3YXU2BC16', iid='B000001A5X', r_ui=3.711240686750891, est=3.5960050940359474, details={'was_impossible': True, 'reason': 'User and/or item is unknown.'}),\n",
       " Prediction(uid='A1NS9WO1VACAUN', iid='B000002MFN', r_ui=3.427511160714286, est=3.8059611665657873, details={'actual_k': 1, 'was_impossible': False}),\n",
       " Prediction(uid='A3T8G3FN3H3948', iid='B00006690F', r_ui=3.7800901718015965, est=3.511079639729957, details={'actual_k': 3, 'was_impossible': False}),\n",
       " Prediction(uid='A4COPHXKAFGVS', iid='B00004Z41Q', r_ui=3.717261904761905, est=3.6213230826977014, details={'actual_k': 1, 'was_impossible': False}),\n",
       " Prediction(uid='A3MLPZI029CJ8N', iid='B000021YQV', r_ui=3.5714285714285716, est=3.5960050940359474, details={'was_impossible': True, 'reason': 'User and/or item is unknown.'}),\n",
       " Prediction(uid='A9Q28YTLYREO7', iid='B000BTDMDC', r_ui=3.1306050462513046, est=2.945470484579676, details={'actual_k': 5, 'was_impossible': False}),\n",
       " Prediction(uid='A3VXBO4QQX3ZG8', iid='B0012OVF2U', r_ui=3.766091983746982, est=3.7345305400373787, details={'actual_k': 3, 'was_impossible': False}),\n",
       " Prediction(uid='A2ISWCERAHX20O', iid='B0000028RR', r_ui=3.9635714285714285, est=3.438353228380138, details={'actual_k': 1, 'was_impossible': False}),\n",
       " Prediction(uid='A2QS7KCOAR5W3', iid='B0000029AN', r_ui=3.477232142857143, est=4.155210063749551, details={'actual_k': 1, 'was_impossible': False}),\n",
       " Prediction(uid='A329PQ0WJOIZL5', iid='B0001XANAS', r_ui=3.8293694425642686, est=3.9232642603059467, details={'actual_k': 0, 'was_impossible': False}),\n",
       " Prediction(uid='A28FNKCGFS03VL', iid='B002DSM8UC', r_ui=3.488086037030745, est=3.2374510978441666, details={'actual_k': 1, 'was_impossible': False}),\n",
       " Prediction(uid='A11D1KHM7DVOQK', iid='B0002A2WAO', r_ui=3.267955426988261, est=3.008160325571955, details={'actual_k': 4, 'was_impossible': False}),\n",
       " Prediction(uid='AWNKEM8DAG8PY', iid='B00005K9KP', r_ui=3.5811561904761904, est=3.5339666214424605, details={'actual_k': 1, 'was_impossible': False}),\n",
       " Prediction(uid='A2WIFKAM4QIOR4', iid='B000002H72', r_ui=3.4462927689594354, est=3.9126611835033778, details={'actual_k': 2, 'was_impossible': False}),\n",
       " Prediction(uid='A1IEIWUCTWZ59M', iid='B00005QG9J', r_ui=2.852672497570457, est=4.205650675960314, details={'actual_k': 1, 'was_impossible': False}),\n",
       " Prediction(uid='A25DYNK7Z6I8YQ', iid='B000002JAI', r_ui=3.9921004464285716, est=3.483920556080062, details={'actual_k': 0, 'was_impossible': False}),\n",
       " Prediction(uid='AAF8RFWLK6AZD', iid='B00005R8EL', r_ui=1.9617504409171076, est=2.18684416527678, details={'actual_k': 2, 'was_impossible': False}),\n",
       " Prediction(uid='A9Q28YTLYREO7', iid='B00005R8EL', r_ui=2.56167055393586, est=2.6130246756096343, details={'actual_k': 5, 'was_impossible': False}),\n",
       " Prediction(uid='A24QC50BP3Q4YS', iid='B000069HKH', r_ui=3.3763932380712425, est=3.631907075473206, details={'actual_k': 1, 'was_impossible': False}),\n",
       " Prediction(uid='A9Q28YTLYREO7', iid='B000002P5W', r_ui=3.971371882086168, est=3.9050830481454883, details={'actual_k': 5, 'was_impossible': False}),\n",
       " Prediction(uid='ASK9WKJAD7XO', iid='B00006690F', r_ui=2.4435756138392857, est=4.123084520068999, details={'actual_k': 2, 'was_impossible': False}),\n",
       " Prediction(uid='A2RZUFRYRHTRS8', iid='B0000C0FKA', r_ui=3.904932902141264, est=3.5960050940359474, details={'was_impossible': True, 'reason': 'User and/or item is unknown.'}),\n",
       " Prediction(uid='A2E0RW04ZJVR0A', iid='B000002PD8', r_ui=4.664285714285715, est=3.810978708907885, details={'actual_k': 2, 'was_impossible': False}),\n",
       " Prediction(uid='A2D8FQ2FJOVQPI', iid='B00005O54Q', r_ui=3.504064117700481, est=3.6318328645102564, details={'actual_k': 1, 'was_impossible': False}),\n",
       " Prediction(uid='A36CHPMHHD1IO5', iid='B0000CD5FR', r_ui=3.506510353397311, est=3.876171784918361, details={'actual_k': 2, 'was_impossible': False}),\n",
       " Prediction(uid='ADAGO3ZTBIS7H', iid='B00004UARR', r_ui=3.991253644314869, est=4.055659826064375, details={'actual_k': 1, 'was_impossible': False}),\n",
       " Prediction(uid='AUDSM2CTLLW1Q', iid='B000001EW3', r_ui=2.5768548581048583, est=3.695248626346373, details={'actual_k': 1, 'was_impossible': False}),\n",
       " Prediction(uid='ABQ954EU93JRX', iid='B0002X314C', r_ui=3.8257419751014727, est=3.5960050940359474, details={'was_impossible': True, 'reason': 'User and/or item is unknown.'}),\n",
       " Prediction(uid='A2P814DGX3QD1A', iid='B000021YQV', r_ui=3.8416768722691663, est=2.8936035731719207, details={'actual_k': 2, 'was_impossible': False}),\n",
       " Prediction(uid='A2CA36LT9SXGNI', iid='B00000163G', r_ui=4.043172353808422, est=4.049826218840452, details={'actual_k': 5, 'was_impossible': False}),\n",
       " Prediction(uid='A5DIAZ5GT3MC', iid='B0000C421G', r_ui=3.1419269736414925, est=3.375327733605699, details={'actual_k': 5, 'was_impossible': False}),\n",
       " Prediction(uid='A1C4GK96OO5RB9', iid='B0002PD3HU', r_ui=3.862343419767662, est=3.429963709896075, details={'actual_k': 0, 'was_impossible': False}),\n",
       " Prediction(uid='A2CT2SA6KFE8GC', iid='B000002KBB', r_ui=3.75199107538197, est=3.5960050940359474, details={'was_impossible': True, 'reason': 'User and/or item is unknown.'}),\n",
       " Prediction(uid='A3CSQB7Q90KMAD', iid='B0000DD7LC', r_ui=3.59930837961141, est=3.7886919332361506, details={'actual_k': 5, 'was_impossible': False}),\n",
       " Prediction(uid='A1EZHHHUFALJUQ', iid='B000002KHB', r_ui=3.7406930559338583, est=4.159670213008278, details={'actual_k': 1, 'was_impossible': False}),\n",
       " Prediction(uid='A2SFZIE5JOX8F7', iid='B00005O54Q', r_ui=2.897596832965748, est=3.1975229976714714, details={'actual_k': 4, 'was_impossible': False}),\n",
       " Prediction(uid='AT1J4MGWHVZEG', iid='B00018D5CQ', r_ui=3.5997300636744884, est=3.395397485736306, details={'actual_k': 0, 'was_impossible': False}),\n",
       " Prediction(uid='A1BM7TP9L9WDXR', iid='B000N2G3RY', r_ui=3.489654912300056, est=3.587388021038155, details={'actual_k': 0, 'was_impossible': False}),\n",
       " Prediction(uid='A1CQ2HLYNVE7TB', iid='B00005K9KP', r_ui=2.157142857142857, est=2.8009505226640803, details={'actual_k': 2, 'was_impossible': False}),\n",
       " Prediction(uid='A39WL61420S1T6', iid='B000EU1KRS', r_ui=3.740523294328265, est=3.7619624553510587, details={'actual_k': 2, 'was_impossible': False}),\n",
       " Prediction(uid='A1FML9FCUPV6TI', iid='B000BNTM32', r_ui=3.9207804393711485, est=3.9081905745798426, details={'actual_k': 5, 'was_impossible': False}),\n",
       " Prediction(uid='A3HOMQCJ2SFZ2', iid='B000075A20', r_ui=3.591965922808856, est=3.1893335057830816, details={'actual_k': 3, 'was_impossible': False}),\n",
       " Prediction(uid='A3RNW03XLUD5UI', iid='B00005QDVS', r_ui=4.140011320611027, est=3.6270874896087486, details={'actual_k': 2, 'was_impossible': False}),\n",
       " Prediction(uid='A2KUYFHOO69XUT', iid='B000084T18', r_ui=4.056, est=3.5960050940359474, details={'was_impossible': True, 'reason': 'User and/or item is unknown.'}),\n",
       " Prediction(uid='AL8IDHJPCE00K', iid='B000H0MKGK', r_ui=3.7309400325642272, est=4.152830699821494, details={'actual_k': 2, 'was_impossible': False}),\n",
       " Prediction(uid='A2EONRA9TLDADW', iid='B00005O54Q', r_ui=3.691244834710744, est=3.5988011337960275, details={'actual_k': 3, 'was_impossible': False}),\n",
       " Prediction(uid='A34Y1FT0MTD7C9', iid='B000001EGE', r_ui=3.6240145207271675, est=3.7375722041187114, details={'actual_k': 5, 'was_impossible': False}),\n",
       " Prediction(uid='ATLZNVLYKP9AZ', iid='B004K4AUZW', r_ui=3.2273880239079102, est=3.5608192548819106, details={'actual_k': 1, 'was_impossible': False}),\n",
       " Prediction(uid='A35GNQK1DC7WXU', iid='B00004XOWM', r_ui=2.8527328042328044, est=3.2045972773877245, details={'actual_k': 2, 'was_impossible': False}),\n",
       " Prediction(uid='A3KKPVZ2EQQLAB', iid='B00014TQ7S', r_ui=3.3778347277311775, est=3.922827880654892, details={'actual_k': 2, 'was_impossible': False}),\n",
       " Prediction(uid='A1BGCOJQPGZTIW', iid='B000001EGE', r_ui=3.539690492211741, est=3.381329565343261, details={'actual_k': 3, 'was_impossible': False}),\n",
       " Prediction(uid='A39NS429FYXAD1', iid='B00005YW4H', r_ui=4.0986666666666665, est=3.7789244623846225, details={'actual_k': 2, 'was_impossible': False}),\n",
       " Prediction(uid='A15AAI0BLM17CZ', iid='B0007NFL18', r_ui=2.862050534499514, est=3.2896431230900074, details={'actual_k': 2, 'was_impossible': False}),\n",
       " Prediction(uid='A61V9CDWK2RQN', iid='B0000C421G', r_ui=3.6926665609179525, est=3.437972446984784, details={'actual_k': 3, 'was_impossible': False}),\n",
       " Prediction(uid='A31HTN51QNSQ3F', iid='B000001A5X', r_ui=3.779313235362047, est=3.8978723928490515, details={'actual_k': 5, 'was_impossible': False}),\n",
       " Prediction(uid='A1BQOPKHRU5M8F', iid='B0000039Q3', r_ui=3.980758017492711, est=3.9226823629393723, details={'actual_k': 3, 'was_impossible': False}),\n",
       " Prediction(uid='A1U2T71CDVKFRH', iid='B00005YW4H', r_ui=4.06031746031746, est=3.6850201866895924, details={'actual_k': 1, 'was_impossible': False}),\n",
       " Prediction(uid='A92F571Y9MTW6', iid='B0012OVF2U', r_ui=3.4142678645802347, est=3.6166705900502807, details={'actual_k': 1, 'was_impossible': False}),\n",
       " Prediction(uid='AJJYB8VYH43PB', iid='B0000AQS1A', r_ui=3.27734375, est=3.116356141674722, details={'actual_k': 1, 'was_impossible': False}),\n",
       " Prediction(uid='A1FPFWDC1ASYNJ', iid='B000002LFZ', r_ui=3.79817782121219, est=3.7965188457726717, details={'actual_k': 0, 'was_impossible': False}),\n",
       " Prediction(uid='A1ZDDLHFSUGILJ', iid='B000001FAO', r_ui=2.655731922398589, est=3.1400526073990536, details={'actual_k': 1, 'was_impossible': False}),\n",
       " Prediction(uid='A8IFUOL8S9BZC', iid='B0007TX894', r_ui=3.2290515873015875, est=3.2753926469658716, details={'actual_k': 5, 'was_impossible': False}),\n",
       " Prediction(uid='A19FAQLQEKN54F', iid='B000MTPAGI', r_ui=3.6976626822157432, est=3.3800917859128714, details={'actual_k': 4, 'was_impossible': False}),\n",
       " Prediction(uid='AIWPVV1HQKIX5', iid='B000H0MKGK', r_ui=3.9594131816337073, est=4.055229289201233, details={'actual_k': 2, 'was_impossible': False}),\n",
       " Prediction(uid='A9Q28YTLYREO7', iid='B0000DD7LC', r_ui=3.0506758432539685, est=2.985822434230976, details={'actual_k': 5, 'was_impossible': False}),\n",
       " Prediction(uid='A35IG09XMSZRNM', iid='B0009SCVTG', r_ui=2.5117392187559107, est=3.082797544662317, details={'actual_k': 5, 'was_impossible': False}),\n",
       " Prediction(uid='A3GS5WAQVO4CFB', iid='B000001FAO', r_ui=3.658207110969388, est=3.798387025449442, details={'actual_k': 4, 'was_impossible': False}),\n",
       " Prediction(uid='APTE2PQ5P8FK4', iid='B0000013GT', r_ui=3.652605238095238, est=3.800540978428359, details={'actual_k': 0, 'was_impossible': False}),\n",
       " Prediction(uid='A14XWAHMBDAC7N', iid='B000023VR6', r_ui=3.8962742857142856, est=3.8012286206850914, details={'actual_k': 3, 'was_impossible': False}),\n",
       " Prediction(uid='A200C7YQJ45LRR', iid='B000E0OEQC', r_ui=3.1187165691604304, est=3.792192103513325, details={'actual_k': 5, 'was_impossible': False}),\n",
       " Prediction(uid='ABS3C0BMVW7RK', iid='B00005YW4H', r_ui=2.454382526564345, est=3.0651191122314607, details={'actual_k': 5, 'was_impossible': False}),\n",
       " Prediction(uid='A38U2M9OAEJAXJ', iid='B00006JO3X', r_ui=3.5589859693877552, est=3.3951922862501185, details={'actual_k': 5, 'was_impossible': False}),\n",
       " Prediction(uid='AY84BQK3EMJ4S', iid='B0000025BA', r_ui=3.9143446813249105, est=3.8570722531984702, details={'actual_k': 1, 'was_impossible': False}),\n",
       " Prediction(uid='A1AXGJVCJNI9BX', iid='B000MTPAGI', r_ui=3.934033699185214, est=3.409832209975921, details={'actual_k': 0, 'was_impossible': False}),\n",
       " Prediction(uid='A3CTDY0RAU6Q7R', iid='B0009SCVTG', r_ui=3.7380952380952377, est=3.619326001624216, details={'actual_k': 3, 'was_impossible': False}),\n",
       " Prediction(uid='A2J57EQ9KPGXR9', iid='B00000IAU3', r_ui=3.2357142857142858, est=2.845041582956591, details={'actual_k': 1, 'was_impossible': False}),\n",
       " Prediction(uid='A1S7XY5QNDOZXB', iid='B00005QG9J', r_ui=3.6364863591269843, est=3.447066549689336, details={'actual_k': 1, 'was_impossible': False}),\n",
       " Prediction(uid='AWME8X11GSDM', iid='B00004T9UF', r_ui=3.797073159620991, est=4.002918379287023, details={'actual_k': 5, 'was_impossible': False}),\n",
       " Prediction(uid='A27950GV5XJ1T5', iid='B00003002C', r_ui=3.6449514991181657, est=3.873501936653, details={'actual_k': 5, 'was_impossible': False}),\n",
       " Prediction(uid='AJAF1T6Q7XM94', iid='B00000253N', r_ui=3.8265567765567767, est=3.649770068855288, details={'actual_k': 1, 'was_impossible': False}),\n",
       " Prediction(uid='A1SX8V30IP3NFP', iid='B000023VR6', r_ui=4.132903405967252, est=4.194491829071719, details={'actual_k': 4, 'was_impossible': False}),\n",
       " Prediction(uid='A25KDGSE2EVYXY', iid='B000003TAW', r_ui=3.5398300404392953, est=3.696728393796734, details={'actual_k': 1, 'was_impossible': False}),\n",
       " Prediction(uid='A1A4EH7P1UI0RZ', iid='B00005AAFJ', r_ui=3.473621985134648, est=3.1363533611782994, details={'actual_k': 5, 'was_impossible': False}),\n",
       " Prediction(uid='A46QAWODGERF3', iid='B000001FAO', r_ui=4.018465373961219, est=3.4909729973657395, details={'actual_k': 1, 'was_impossible': False}),\n",
       " Prediction(uid='A16N6KIMCAP5LM', iid='B00065XJ52', r_ui=2.7142857142857144, est=3.5272892135656604, details={'actual_k': 5, 'was_impossible': False}),\n",
       " Prediction(uid='AAHSKX20RK4Y2', iid='B000FVQYYK', r_ui=3.5249089610127906, est=2.8102346812988026, details={'actual_k': 1, 'was_impossible': False}),\n",
       " Prediction(uid='ABEJ92E69HCIN', iid='B00000163G', r_ui=4.1221540178571425, est=2.673129868604732, details={'actual_k': 1, 'was_impossible': False}),\n",
       " Prediction(uid='A2SII0KRYFSOT0', iid='B00009V7T2', r_ui=4.011504571831652, est=3.6336356830403527, details={'actual_k': 0, 'was_impossible': False}),\n",
       " Prediction(uid='A3QAV7LALVG1F7', iid='B00000272N', r_ui=3.904490889212828, est=4.109697770415755, details={'actual_k': 1, 'was_impossible': False}),\n",
       " Prediction(uid='AZKXH0J59TK11', iid='B00097A5H2', r_ui=3.4603864544135052, est=3.5402665578236263, details={'actual_k': 2, 'was_impossible': False}),\n",
       " Prediction(uid='AK9BXHEXOOM6Z', iid='B003V5PPZG', r_ui=4.03712979003749, est=3.5960050940359474, details={'was_impossible': True, 'reason': 'User and/or item is unknown.'}),\n",
       " Prediction(uid='A3O90G1D7I5EGG', iid='B000001FAO', r_ui=3.574946041138349, est=3.8177838979403353, details={'actual_k': 2, 'was_impossible': False}),\n",
       " Prediction(uid='A34Y1FT0MTD7C9', iid='B00000J7JO', r_ui=3.9667361137741084, est=4.02627584328854, details={'actual_k': 5, 'was_impossible': False}),\n",
       " Prediction(uid='A1XY7JL7CM85UU', iid='B00000016W', r_ui=3.939965490569406, est=3.778970328222086, details={'actual_k': 0, 'was_impossible': False}),\n",
       " Prediction(uid='A368DRBN6ZJUA3', iid='B0000AGWFA', r_ui=3.3668210800319542, est=3.3740440529934954, details={'actual_k': 4, 'was_impossible': False}),\n",
       " Prediction(uid='AG0GA77A5VDZ1', iid='B000001F60', r_ui=3.401038604742308, est=3.5960050940359474, details={'was_impossible': True, 'reason': 'User and/or item is unknown.'}),\n",
       " Prediction(uid='A173EIKGFCYD2A', iid='B000BLI4UG', r_ui=3.169642857142857, est=3.4614397802185777, details={'actual_k': 4, 'was_impossible': False}),\n",
       " Prediction(uid='A1KBQK0AHXY9PE', iid='B000AU1NZQ', r_ui=3.2116646515376983, est=3.5960050940359474, details={'was_impossible': True, 'reason': 'User and/or item is unknown.'}),\n",
       " Prediction(uid='A1YPM4GCO8I1W1', iid='B00006690F', r_ui=3.944359126984127, est=3.7912254759110535, details={'actual_k': 2, 'was_impossible': False}),\n",
       " Prediction(uid='A15TNUM2PBS6F0', iid='B00004Z41Q', r_ui=2.6395739944640404, est=3.4069836370683624, details={'actual_k': 1, 'was_impossible': False}),\n",
       " Prediction(uid='A2S9PZCNEJEF3Y', iid='B00018D44U', r_ui=3.843431027873334, est=3.5072247876089477, details={'actual_k': 0, 'was_impossible': False}),\n",
       " Prediction(uid='A2NQUGGYM0DBM1', iid='B000001DZO', r_ui=3.813253968253968, est=3.6945307098704494, details={'actual_k': 3, 'was_impossible': False}),\n",
       " Prediction(uid='A2TAPL67U2A5HM', iid='B00005NZDW', r_ui=3.5584285714285713, est=3.9348451609254766, details={'actual_k': 5, 'was_impossible': False}),\n",
       " Prediction(uid='A28OGM5C71B1XD', iid='B000001EGC', r_ui=3.2410468319559227, est=4.017089710236746, details={'actual_k': 1, 'was_impossible': False}),\n",
       " Prediction(uid='A3DO6JL97Y6DRY', iid='B00002MZ4W', r_ui=3.675253968253968, est=3.6643380846224862, details={'actual_k': 0, 'was_impossible': False}),\n",
       " Prediction(uid='AY12DBB0U420B', iid='B000002L7G', r_ui=4.04392551051642, est=3.86144917603845, details={'actual_k': 1, 'was_impossible': False}),\n",
       " Prediction(uid='A3H9YKO0XTLOJA', iid='B00005O54Q', r_ui=3.551949118982298, est=3.7618379061645624, details={'actual_k': 1, 'was_impossible': False}),\n",
       " Prediction(uid='A7JRDNX3WOMTR', iid='B000002JAI', r_ui=3.9198899519284134, est=3.6699288669602974, details={'actual_k': 3, 'was_impossible': False}),\n",
       " Prediction(uid='A2T63WOOW6XV6U', iid='B000002IOW', r_ui=3.9859241622574957, est=3.7565907607284124, details={'actual_k': 5, 'was_impossible': False}),\n",
       " Prediction(uid='A1GY0FJOL6I37K', iid='B0001Z53AQ', r_ui=3.4839285714285713, est=3.584013575154322, details={'actual_k': 3, 'was_impossible': False}),\n",
       " Prediction(uid='A3L367ULSWBF0T', iid='B00008J4P5', r_ui=3.654810495626822, est=3.889152403686097, details={'actual_k': 1, 'was_impossible': False}),\n",
       " Prediction(uid='A3LZBOBV9H1HDV', iid='B0029LHW4U', r_ui=4.015539682539682, est=3.8763089674798263, details={'actual_k': 2, 'was_impossible': False}),\n",
       " Prediction(uid='A1SCJWCMQ3W3KK', iid='B00005YW4H', r_ui=3.5207077581811315, est=3.9149266810125973, details={'actual_k': 2, 'was_impossible': False}),\n",
       " Prediction(uid='A1YR4OM2QLQ1LY', iid='B0000AGWFX', r_ui=3.2908541666666666, est=3.009471078333901, details={'actual_k': 2, 'was_impossible': False}),\n",
       " Prediction(uid='ARQFTZQ8Q6HU1', iid='B000075A20', r_ui=3.3996004751106788, est=3.864535440014911, details={'actual_k': 1, 'was_impossible': False}),\n",
       " Prediction(uid='A13B2GPGMPM9YW', iid='B00004YKUI', r_ui=4.052096366843033, est=3.69229450498943, details={'actual_k': 0, 'was_impossible': False}),\n",
       " Prediction(uid='A4622J2IA15MN', iid='B00006JO3X', r_ui=4.084970238095238, est=3.6607629939626642, details={'actual_k': 0, 'was_impossible': False}),\n",
       " Prediction(uid='AASC4QCTCFSU', iid='B000001FZ6', r_ui=3.2996527777777778, est=3.5960050940359474, details={'was_impossible': True, 'reason': 'User and/or item is unknown.'}),\n",
       " Prediction(uid='A1B1MM0QO766OL', iid='B00064X2QY', r_ui=3.693121693121693, est=3.4090501594628564, details={'actual_k': 2, 'was_impossible': False}),\n",
       " Prediction(uid='A3G1ATNDU80KAE', iid='B000002J88', r_ui=3.815889212827988, est=3.824819111588866, details={'actual_k': 4, 'was_impossible': False}),\n",
       " Prediction(uid='A2CA36LT9SXGNI', iid='B0002IQHBQ', r_ui=3.6656539183729078, est=4.07013755945051, details={'actual_k': 5, 'was_impossible': False}),\n",
       " Prediction(uid='A2ENSVE94K8BW4', iid='B000003B6J', r_ui=3.9150874635568513, est=3.520611630751053, details={'actual_k': 3, 'was_impossible': False}),\n",
       " Prediction(uid='A1X1S1TUPEYVL', iid='B000KCHZK6', r_ui=3.139656571183633, est=2.9958017424802916, details={'actual_k': 1, 'was_impossible': False}),\n",
       " Prediction(uid='A1C00UIP3SL7L3', iid='B00000163G', r_ui=4.026017490599522, est=3.829142825191444, details={'actual_k': 0, 'was_impossible': False}),\n",
       " Prediction(uid='A3JMA8TT506H5I', iid='B005QJZ5FA', r_ui=3.8140699527744983, est=3.6069271092083923, details={'actual_k': 0, 'was_impossible': False}),\n",
       " Prediction(uid='A3DYC9OZPN0JO7', iid='B000003AEK', r_ui=3.920264540894411, est=3.9940854402095427, details={'actual_k': 1, 'was_impossible': False}),\n",
       " Prediction(uid='A13A4JYA8PEVGH', iid='B0000BWVLM', r_ui=3.362748015873016, est=3.9356029755972917, details={'actual_k': 4, 'was_impossible': False}),\n",
       " Prediction(uid='A1UBI33V4MVNKN', iid='B00096S3PY', r_ui=3.44588537892308, est=3.656626974901232, details={'actual_k': 1, 'was_impossible': False}),\n",
       " Prediction(uid='A16HWG8TOURTGN', iid='B00097A5H2', r_ui=3.888888888888889, est=3.200039832146467, details={'actual_k': 2, 'was_impossible': False}),\n",
       " Prediction(uid='ANO3SFVMNVNRV', iid='B00064X2QY', r_ui=3.774762254736141, est=2.816636493423031, details={'actual_k': 1, 'was_impossible': False}),\n",
       " Prediction(uid='A2ID4IRSPV8ONE', iid='B000084T18', r_ui=2.5938919348136555, est=2.4346772343413603, details={'actual_k': 1, 'was_impossible': False}),\n",
       " Prediction(uid='A3R8PXSFGY9MC2', iid='B000067CPX', r_ui=3.9819223985890653, est=3.8670423500167646, details={'actual_k': 5, 'was_impossible': False}),\n",
       " Prediction(uid='A2AOZQ3WTNVVOK', iid='B0000CD5FR', r_ui=4.0323871814780565, est=3.8885529858369616, details={'actual_k': 5, 'was_impossible': False}),\n",
       " Prediction(uid='A3NHJ4F4W1HLFX', iid='B00000269M', r_ui=3.6793387276785716, est=2.779318926076908, details={'actual_k': 1, 'was_impossible': False}),\n",
       " Prediction(uid='A103W7ZPKGOCC9', iid='B00000ADG2', r_ui=3.5714285714285716, est=4.2527044473848665, details={'actual_k': 4, 'was_impossible': False}),\n",
       " Prediction(uid='A2L3WEVFOCA7OY', iid='B00000FCBH', r_ui=3.973200883204418, est=3.8866930695839703, details={'actual_k': 5, 'was_impossible': False}),\n",
       " Prediction(uid='A3KG9S1Y2NH6X3', iid='B000084T18', r_ui=3.476176015153527, est=3.7073183213769854, details={'actual_k': 1, 'was_impossible': False}),\n",
       " Prediction(uid='A3C6CZC2JP67VK', iid='B00003IE26', r_ui=3.907084743539289, est=3.5502324499628295, details={'actual_k': 5, 'was_impossible': False}),\n",
       " Prediction(uid='AZ4VKFF136FKR', iid='B00003002C', r_ui=3.6730174592189817, est=3.0167654726766924, details={'actual_k': 1, 'was_impossible': False}),\n",
       " Prediction(uid='A25NMMI7AH30W2', iid='B0000634ID', r_ui=3.8257040961498663, est=3.810961544759747, details={'actual_k': 3, 'was_impossible': False}),\n",
       " Prediction(uid='A1VWRH8ALP6VF2', iid='B00000JC6C', r_ui=2.8966648839959652, est=3.6182670276979567, details={'actual_k': 1, 'was_impossible': False}),\n",
       " Prediction(uid='A1T7FLJIWFU243', iid='B000001EGA', r_ui=3.963265306122449, est=3.941141007327179, details={'actual_k': 2, 'was_impossible': False}),\n",
       " Prediction(uid='A1TU5537LJ9MNA', iid='B0000AGWFX', r_ui=4.07792817807395, est=3.5590458617990635, details={'actual_k': 0, 'was_impossible': False}),\n",
       " Prediction(uid='A2IE6O20UDTA8W', iid='B00000163G', r_ui=3.2443700396825395, est=3.8462188728342355, details={'actual_k': 3, 'was_impossible': False}),\n",
       " Prediction(uid='A3DRRO1I5MO0MZ', iid='B00006690F', r_ui=2.6699144975685396, est=2.6701106734638, details={'actual_k': 2, 'was_impossible': False}),\n",
       " Prediction(uid='A2DH36M3SS3ZNX', iid='B000002IRM', r_ui=3.2539756858603144, est=3.6429542467768994, details={'actual_k': 5, 'was_impossible': False}),\n",
       " Prediction(uid='AXPYGNIC5ZIXS', iid='B000035X1M', r_ui=3.5733067920830885, est=3.3143857931231078, details={'actual_k': 4, 'was_impossible': False}),\n",
       " Prediction(uid='A12R54MKO17TW0', iid='B00000ADG2', r_ui=3.772045855379189, est=3.8603797299138183, details={'actual_k': 3, 'was_impossible': False}),\n",
       " Prediction(uid='AVSIE8TU2GG2D', iid='B0000013GH', r_ui=3.714386470734127, est=3.736629134911363, details={'actual_k': 0, 'was_impossible': False}),\n",
       " Prediction(uid='A2LFLKFE3B0PSA', iid='B00006ZCFJ', r_ui=2.2611607142857144, est=3.005951297084724, details={'actual_k': 3, 'was_impossible': False}),\n",
       " Prediction(uid='A5CNA6W82FJTP', iid='B00003IE26', r_ui=3.942857142857143, est=3.5960050940359474, details={'was_impossible': True, 'reason': 'User and/or item is unknown.'}),\n",
       " Prediction(uid='A2U74MULH75E3K', iid='B0000C421G', r_ui=3.3528344671201813, est=3.4535868928595717, details={'actual_k': 0, 'was_impossible': False}),\n",
       " Prediction(uid='A1AMVA4R3G58TV', iid='B000002BE9', r_ui=3.8296875, est=3.9902355958945517, details={'actual_k': 5, 'was_impossible': False}),\n",
       " Prediction(uid='AJK5WHV1GW941', iid='B00192M9FC', r_ui=3.2626993944293736, est=3.2064207378362077, details={'actual_k': 5, 'was_impossible': False}),\n",
       " Prediction(uid='A29ZCVZWIWZBCH', iid='B000H7JDVI', r_ui=3.9130556052442733, est=3.74812131074423, details={'actual_k': 3, 'was_impossible': False}),\n",
       " Prediction(uid='A1BJJVV2B5VLUQ', iid='B0000029AN', r_ui=3.4004018187375196, est=3.678179888434393, details={'actual_k': 5, 'was_impossible': False}),\n",
       " Prediction(uid='A280XKGM4KT0KN', iid='B000002UCL', r_ui=4.015060658265668, est=4.0064381824992825, details={'actual_k': 2, 'was_impossible': False}),\n",
       " Prediction(uid='A17QYYGT3C1EPT', iid='B00004T9UF', r_ui=3.0879473091011556, est=3.5960050940359474, details={'was_impossible': True, 'reason': 'User and/or item is unknown.'}),\n",
       " Prediction(uid='A2J1ZM6TLE80ZE', iid='B0009SCVTG', r_ui=2.5065436811629414, est=2.07438803496602, details={'actual_k': 1, 'was_impossible': False}),\n",
       " Prediction(uid='A1OJQAJ16T36VJ', iid='B0007NFL18', r_ui=2.5240727985485667, est=2.690190379599861, details={'actual_k': 5, 'was_impossible': False}),\n",
       " Prediction(uid='A1SPKFZ3BBCS6J', iid='B000084T18', r_ui=3.975926183902118, est=3.8550084373387086, details={'actual_k': 1, 'was_impossible': False}),\n",
       " Prediction(uid='A33CKO3B7NZFGP', iid='B000002KNO', r_ui=2.6678448505704364, est=3.8895650718040726, details={'actual_k': 2, 'was_impossible': False}),\n",
       " Prediction(uid='A14F106N1M9AAQ', iid='B00004XOWM', r_ui=2.7893695068488285, est=2.6119041133012098, details={'actual_k': 1, 'was_impossible': False}),\n",
       " Prediction(uid='A24P8BEJ26FU01', iid='B0000646TK', r_ui=3.5718334603636634, est=3.29878284632938, details={'actual_k': 4, 'was_impossible': False}),\n",
       " Prediction(uid='A2UX5ABICURKL5', iid='B000002KZR', r_ui=3.5, est=3.7750354455818993, details={'actual_k': 2, 'was_impossible': False}),\n",
       " Prediction(uid='A22HN0VTP9TCLJ', iid='B000E0OEQC', r_ui=3.753416406587449, est=3.70624761257101, details={'actual_k': 1, 'was_impossible': False}),\n",
       " Prediction(uid='A2HJT5T0TCMH66', iid='B000002IT2', r_ui=3.7442004823093256, est=3.060748644670923, details={'actual_k': 2, 'was_impossible': False}),\n",
       " Prediction(uid='ASQYKF06G1DRX', iid='B00000163G', r_ui=3.633772321428571, est=3.829142825191444, details={'actual_k': 0, 'was_impossible': False}),\n",
       " Prediction(uid='A11ZPFSJAY25AZ', iid='B00097A5H2', r_ui=3.633013994552456, est=3.382973979429671, details={'actual_k': 2, 'was_impossible': False}),\n",
       " Prediction(uid='A276M3NSIY9B82', iid='B000002UCL', r_ui=3.883390922081318, est=3.8352772815143417, details={'actual_k': 4, 'was_impossible': False}),\n",
       " Prediction(uid='A31U2QT7SAL7K', iid='B004D1GZ2E', r_ui=3.643947347864859, est=3.8771297164637977, details={'actual_k': 5, 'was_impossible': False}),\n",
       " Prediction(uid='AE42JLYPXUI45', iid='B000197KVW', r_ui=3.960337136011751, est=3.7367184082341085, details={'actual_k': 1, 'was_impossible': False}),\n",
       " Prediction(uid='ADCFUY7WTZA6A', iid='B000E97HB2', r_ui=3.8325892857142856, est=3.9052342485841045, details={'actual_k': 5, 'was_impossible': False}),\n",
       " Prediction(uid='A1NF2Y5WSC4KM8', iid='B00000253N', r_ui=4.051558350437318, est=3.7277094470801515, details={'actual_k': 0, 'was_impossible': False}),\n",
       " Prediction(uid='A2NM7XHKWUZ1RH', iid='B000003B7W', r_ui=3.668904761904762, est=3.728281205590121, details={'actual_k': 1, 'was_impossible': False}),\n",
       " Prediction(uid='A3M3NKD8W44H5J', iid='B00005K9KP', r_ui=3.167296198314717, est=3.87035155586295, details={'actual_k': 2, 'was_impossible': False}),\n",
       " Prediction(uid='A35JEQUI9O2G82', iid='B0009SCVTG', r_ui=2.760342091327326, est=2.7672438367665135, details={'actual_k': 4, 'was_impossible': False}),\n",
       " Prediction(uid='A3TSPLFYU2UMW0', iid='B000001FAO', r_ui=4.001768567509308, est=3.847184792186431, details={'actual_k': 1, 'was_impossible': False}),\n",
       " Prediction(uid='A30Z0RCM2PV86I', iid='B0002X314C', r_ui=3.4169502633504902, est=3.2625871058548337, details={'actual_k': 2, 'was_impossible': False}),\n",
       " Prediction(uid='A2R1HAXRNU0QX7', iid='B000002IWQ', r_ui=3.399623634381736, est=3.7366759084058834, details={'actual_k': 2, 'was_impossible': False}),\n",
       " Prediction(uid='A39XGSL1OGDVDE', iid='B00006690F', r_ui=3.952632928369231, est=3.6198316101398635, details={'actual_k': 5, 'was_impossible': False}),\n",
       " Prediction(uid='AXSHUZ5PVL8QW', iid='B000002GQE', r_ui=2.5147169863315693, est=3.5960050940359474, details={'was_impossible': True, 'reason': 'User and/or item is unknown.'}),\n",
       " Prediction(uid='A1LM8CT7J2JX1J', iid='B000002J88', r_ui=3.852475499260355, est=3.4454262232343233, details={'actual_k': 4, 'was_impossible': False}),\n",
       " Prediction(uid='A3JLOIXFM75QNV', iid='B004K4AUZW', r_ui=3.6356119369704176, est=3.526389052848072, details={'actual_k': 1, 'was_impossible': False}),\n",
       " Prediction(uid='AMU5Q7KBXFTHF', iid='B000059MEK', r_ui=3.930465605122818, est=3.5960050940359474, details={'was_impossible': True, 'reason': 'User and/or item is unknown.'}),\n",
       " Prediction(uid='A1VL282XIRMEEQ', iid='B003WTE886', r_ui=3.687182809631789, est=3.6741075118803335, details={'actual_k': 0, 'was_impossible': False}),\n",
       " Prediction(uid='A8KW38D8PQ2AV', iid='B000003B6J', r_ui=3.523214285714286, est=3.7852023959694523, details={'actual_k': 3, 'was_impossible': False}),\n",
       " Prediction(uid='A2U1NZ6AM5RULE', iid='B00004X0Q0', r_ui=3.912520026532314, est=3.5811898325137883, details={'actual_k': 1, 'was_impossible': False}),\n",
       " Prediction(uid='A28QMIV3V0NJYL', iid='B000067CPX', r_ui=3.9682539682539684, est=3.607972487295487, details={'actual_k': 0, 'was_impossible': False}),\n",
       " Prediction(uid='A1IDNJ1Y42GMLS', iid='B00000IAU3', r_ui=3.546733011090898, est=4.090568334827184, details={'actual_k': 1, 'was_impossible': False}),\n",
       " Prediction(uid='A1H01RWBDCBAI7', iid='B000067CPX', r_ui=3.961709482689861, est=3.924894785438312, details={'actual_k': 2, 'was_impossible': False}),\n",
       " Prediction(uid='A2Y1SCM930PZI7', iid='B00005R8EL', r_ui=2.5108275389061565, est=3.541426816245642, details={'actual_k': 0, 'was_impossible': False}),\n",
       " Prediction(uid='A3TTVG02EPNELJ', iid='B0001Z53AQ', r_ui=3.2908392857142856, est=2.9147017362079475, details={'actual_k': 4, 'was_impossible': False}),\n",
       " Prediction(uid='A37T9RGKM9RF37', iid='B0000646TK', r_ui=3.40207622402802, est=3.3349022345699106, details={'actual_k': 4, 'was_impossible': False}),\n",
       " Prediction(uid='A3LPQAPU2ILDD0', iid='B000002GQE', r_ui=3.8122514570566515, est=3.7809019596098907, details={'actual_k': 0, 'was_impossible': False}),\n",
       " Prediction(uid='A1QGB9XTR7KCZU', iid='B000001F66', r_ui=3.7209413194763825, est=3.5960050940359474, details={'was_impossible': True, 'reason': 'User and/or item is unknown.'}),\n",
       " Prediction(uid='A2AOZQ3WTNVVOK', iid='B000AL730O', r_ui=3.839766156476886, est=3.8034541149377774, details={'actual_k': 3, 'was_impossible': False}),\n",
       " Prediction(uid='A2M5NJCO91XRP1', iid='B000001F66', r_ui=4.044084821428571, est=3.739187287746305, details={'actual_k': 1, 'was_impossible': False}),\n",
       " Prediction(uid='A3HU0B9XUEVHIM', iid='B000002PD8', r_ui=3.860122290903541, est=3.884464939674078, details={'actual_k': 5, 'was_impossible': False}),\n",
       " Prediction(uid='ACQT14ZN20YQY', iid='B00000D9TQ', r_ui=4.4, est=3.5960050940359474, details={'was_impossible': True, 'reason': 'User and/or item is unknown.'}),\n",
       " Prediction(uid='A186TO26DHOCH6', iid='B000023VR6', r_ui=2.569072420634921, est=3.0069789472725894, details={'actual_k': 5, 'was_impossible': False}),\n",
       " Prediction(uid='A3DI391K4GAI7Q', iid='B00002MZ4W', r_ui=3.738838494847344, est=3.6236502657463414, details={'actual_k': 1, 'was_impossible': False}),\n",
       " Prediction(uid='A3GKOMCQTTWPUI', iid='B000031XCY', r_ui=3.418823857558404, est=3.193630475361921, details={'actual_k': 5, 'was_impossible': False}),\n",
       " Prediction(uid='A2Z83T6WL8EHHA', iid='B000BGR18W', r_ui=3.969656523323615, est=4.117726253309268, details={'actual_k': 2, 'was_impossible': False}),\n",
       " Prediction(uid='A3FBGZ4E6KGIW2', iid='B00008J4P5', r_ui=2.0858718968106724, est=3.441750420173176, details={'actual_k': 5, 'was_impossible': False}),\n",
       " Prediction(uid='A1EYSN1T55SV7U', iid='B000002LQR', r_ui=3.877998002282896, est=4.083256888346921, details={'actual_k': 3, 'was_impossible': False}),\n",
       " Prediction(uid='A1M8AYAL3L8ACP', iid='B000002VT6', r_ui=2.6525573192239857, est=3.1400413938533456, details={'actual_k': 4, 'was_impossible': False}),\n",
       " Prediction(uid='A103KNDW8GN92L', iid='B000001EGC', r_ui=3.829411392691775, est=3.663561112098999, details={'actual_k': 5, 'was_impossible': False}),\n",
       " Prediction(uid='A2GJDOQL63SDM7', iid='B00018D5CQ', r_ui=3.096119488536155, est=3.525984388758029, details={'actual_k': 4, 'was_impossible': False}),\n",
       " Prediction(uid='A1BBT9XLKQDV81', iid='B000BGR18W', r_ui=3.622733918128655, est=3.725458529072759, details={'actual_k': 2, 'was_impossible': False}),\n",
       " Prediction(uid='A1AISPOIIHTHXX', iid='B00008VOQM', r_ui=3.5586947099982225, est=3.351877403952622, details={'actual_k': 0, 'was_impossible': False}),\n",
       " Prediction(uid='A3G10NPD661EQD', iid='B000002KH3', r_ui=3.7813979732388825, est=3.950753076291674, details={'actual_k': 5, 'was_impossible': False}),\n",
       " Prediction(uid='A38P3F25AA6VDX', iid='B0000025RI', r_ui=3.6571428571428575, est=3.5960050940359474, details={'was_impossible': True, 'reason': 'User and/or item is unknown.'}),\n",
       " Prediction(uid='A1GY0FJOL6I37K', iid='B0000BWVLM', r_ui=3.64631759149941, est=4.1252194897246115, details={'actual_k': 4, 'was_impossible': False}),\n",
       " Prediction(uid='A1HY4CVW8K1QFQ', iid='B00004T9UF', r_ui=3.545243386243386, est=3.536141969323838, details={'actual_k': 5, 'was_impossible': False}),\n",
       " Prediction(uid='A2UXKWVHJ0JSHN', iid='B000BLI4UG', r_ui=4.278647364295512, est=3.7559265108366833, details={'actual_k': 5, 'was_impossible': False}),\n",
       " Prediction(uid='AAB5UJPDLDL8Y', iid='B000002UCL', r_ui=3.9414585032654417, est=3.5960050940359474, details={'was_impossible': True, 'reason': 'User and/or item is unknown.'}),\n",
       " Prediction(uid='A33TRNCQK4IUO7', iid='B0000AKOMI', r_ui=3.592372649990806, est=3.5625549705987525, details={'actual_k': 5, 'was_impossible': False}),\n",
       " Prediction(uid='A13EHGWL2EFJOD', iid='B000003AEK', r_ui=3.7968044324134747, est=4.063869905028542, details={'actual_k': 2, 'was_impossible': False}),\n",
       " Prediction(uid='A3NY5JFGYCD6JB', iid='B000UMQDHC', r_ui=3.891339192278943, est=2.7183660641063487, details={'actual_k': 1, 'was_impossible': False}),\n",
       " Prediction(uid='A1H5E7O5BW2J13', iid='B004K4AUZW', r_ui=2.471727413100926, est=3.8572702688966602, details={'actual_k': 1, 'was_impossible': False}),\n",
       " Prediction(uid='A1ZFWU0DQCPKIJ', iid='B000002LGQ', r_ui=3.7696942974720753, est=3.81472548250049, details={'actual_k': 0, 'was_impossible': False}),\n",
       " Prediction(uid='A1NP9X56O2MNLV', iid='B00016XMOE', r_ui=3.912291195632772, est=3.6445887200252396, details={'actual_k': 3, 'was_impossible': False}),\n",
       " Prediction(uid='A3HJSPGJGVC1QK', iid='B0000646TK', r_ui=3.212170573372206, est=3.822117079389585, details={'actual_k': 2, 'was_impossible': False}),\n",
       " Prediction(uid='A1IANEBSMVGHS9', iid='B000006045', r_ui=3.681107151855451, est=3.7806069108921645, details={'actual_k': 5, 'was_impossible': False}),\n",
       " Prediction(uid='AE5H0OUVCPOGR', iid='B00003002C', r_ui=3.5799858846891817, est=3.83537079968139, details={'actual_k': 2, 'was_impossible': False}),\n",
       " Prediction(uid='A2QQ5O2TFZPTIH', iid='B0000AQS1A', r_ui=3.7906607255378524, est=3.5511480971592615, details={'actual_k': 5, 'was_impossible': False}),\n",
       " Prediction(uid='A3DL686B8JEM8A', iid='B0000029AP', r_ui=3.725208292071184, est=3.7356423666361622, details={'actual_k': 0, 'was_impossible': False}),\n",
       " Prediction(uid='A1XJ2XSG4W96K8', iid='B00008J4P5', r_ui=3.242857142857143, est=2.8206952640761087, details={'actual_k': 5, 'was_impossible': False}),\n",
       " Prediction(uid='A33ADGP37RNHO0', iid='B00005YW4H', r_ui=3.259729570840682, est=3.141423298457466, details={'actual_k': 3, 'was_impossible': False}),\n",
       " Prediction(uid='A2LR32KJUKWW4N', iid='B000OYC3J8', r_ui=2.757733175914994, est=2.722151369142479, details={'actual_k': 3, 'was_impossible': False}),\n",
       " Prediction(uid='A3CYQJWZ2FBTAP', iid='B00004YKUI', r_ui=3.781713155382563, est=3.82057924214443, details={'actual_k': 1, 'was_impossible': False}),\n",
       " Prediction(uid='A2ZVERVFM25MJT', iid='B000002NJS', r_ui=3.905699179574648, est=3.9704304725885793, details={'actual_k': 1, 'was_impossible': False}),\n",
       " Prediction(uid='A11H85UYL2R4KX', iid='B00005R8EL', r_ui=3.747962178770113, est=3.4092492406168207, details={'actual_k': 5, 'was_impossible': False}),\n",
       " Prediction(uid='AV0OBG2SS1I1R', iid='B000006045', r_ui=3.7129841269841273, est=3.754473625256254, details={'actual_k': 0, 'was_impossible': False}),\n",
       " Prediction(uid='A3S4EAEXYDG7SB', iid='B000002AP1', r_ui=3.8498112261808606, est=3.570259877424198, details={'actual_k': 0, 'was_impossible': False}),\n",
       " Prediction(uid='AGZ28CC1MLUAD', iid='B0006ZQ9BS', r_ui=3.306928571428571, est=3.179020116804573, details={'actual_k': 5, 'was_impossible': False}),\n",
       " Prediction(uid='A3RQ0VN4KUKH8G', iid='B000002OPL', r_ui=4.10164344746163, est=4.103522917940461, details={'actual_k': 1, 'was_impossible': False}),\n",
       " Prediction(uid='A1KNYQPZ1JQD62', iid='B0000026WD', r_ui=3.7643116629576596, est=3.6930912345167357, details={'actual_k': 2, 'was_impossible': False}),\n",
       " Prediction(uid='AQQLWCMRNDFGI', iid='B00000253N', r_ui=3.800857142857143, est=3.8715761008834404, details={'actual_k': 1, 'was_impossible': False}),\n",
       " Prediction(uid='AWSYTZ2I2MW0V', iid='B000EMGAOY', r_ui=4.17688179167771, est=3.5377189173101344, details={'actual_k': 5, 'was_impossible': False}),\n",
       " Prediction(uid='A1U11PS71ML0YJ', iid='B00096S3PY', r_ui=3.605952380952381, est=3.8676819045784945, details={'actual_k': 5, 'was_impossible': False}),\n",
       " Prediction(uid='A9Q28YTLYREO7', iid='B0001Z53AQ', r_ui=2.563169642857143, est=2.6348073774444405, details={'actual_k': 5, 'was_impossible': False}),\n",
       " Prediction(uid='AK1OBVI54SY73', iid='B000002BE9', r_ui=3.5323008935920046, est=3.239639084175455, details={'actual_k': 2, 'was_impossible': False}),\n",
       " Prediction(uid='A3IQNSSFHW4UI9', iid='B00005ICAW', r_ui=3.351946924603175, est=3.5960050940359474, details={'was_impossible': True, 'reason': 'User and/or item is unknown.'}),\n",
       " Prediction(uid='A36WY9KM0NZSH7', iid='B00005YW4H', r_ui=3.0855962219598583, est=3.5486868034887324, details={'actual_k': 0, 'was_impossible': False}),\n",
       " Prediction(uid='AOQMI9EFSEH5O', iid='B000002VN7', r_ui=2.6231432902761576, est=3.839955747272483, details={'actual_k': 0, 'was_impossible': False}),\n",
       " Prediction(uid='A1T8N18XKDLJO4', iid='B000EMGAOY', r_ui=3.6454121518212426, est=3.9612367990590345, details={'actual_k': 1, 'was_impossible': False}),\n",
       " Prediction(uid='A31I25HVVN8Z2B', iid='B000AL730O', r_ui=3.8777996031746036, est=3.5960050940359474, details={'was_impossible': True, 'reason': 'User and/or item is unknown.'}),\n",
       " Prediction(uid='A3AL8GQ69QE7WN', iid='B00005TPKC', r_ui=3.326659146508168, est=3.5667796088493904, details={'actual_k': 5, 'was_impossible': False}),\n",
       " Prediction(uid='A36ONZ3LB9V7FO', iid='B00006L7XQ', r_ui=3.5858454676636495, est=3.793314910465486, details={'actual_k': 0, 'was_impossible': False}),\n",
       " Prediction(uid='ARM0LDPXZSPNL', iid='B000BNTM32', r_ui=3.1007505224633767, est=3.8574730136510937, details={'actual_k': 5, 'was_impossible': False}),\n",
       " Prediction(uid='A27TC5T7DUWTP', iid='B000002IXU', r_ui=3.5703972174603176, est=4.030698515734749, details={'actual_k': 3, 'was_impossible': False}),\n",
       " Prediction(uid='A1IGV7R562WB69', iid='B0000AGWFX', r_ui=3.235719104643038, est=3.4427023394565985, details={'actual_k': 1, 'was_impossible': False}),\n",
       " Prediction(uid='A3GP5YP52BD4EX', iid='B00000J7JO', r_ui=3.8818948412698413, est=3.707089402978844, details={'actual_k': 0, 'was_impossible': False}),\n",
       " Prediction(uid='A250BI36M1IR26', iid='B00097A5H2', r_ui=3.8190476190476192, est=3.2406856486900186, details={'actual_k': 5, 'was_impossible': False}),\n",
       " Prediction(uid='A25NMMI7AH30W2', iid='B0000013GH', r_ui=3.7482486772486774, est=3.898250695302031, details={'actual_k': 3, 'was_impossible': False}),\n",
       " Prediction(uid='A3VSX2TJM78WMT', iid='B000EMGAOY', r_ui=3.5714285714285716, est=3.644154845977204, details={'actual_k': 0, 'was_impossible': False}),\n",
       " Prediction(uid='A66GZ501LMBQV', iid='B000002L7G', r_ui=3.799343169853902, est=3.769522010820263, details={'actual_k': 0, 'was_impossible': False}),\n",
       " Prediction(uid='A2UXQM067E6VAX', iid='B00065JTAQ', r_ui=3.35431421245747, est=3.7906380918569975, details={'actual_k': 5, 'was_impossible': False}),\n",
       " Prediction(uid='A1K5XO3NSAYTK1', iid='B0000AQS1A', r_ui=3.0770380168528315, est=2.8991187787308403, details={'actual_k': 3, 'was_impossible': False}),\n",
       " Prediction(uid='A1F2EYORWOZ3G1', iid='B0000CD5FR', r_ui=4.012941312766488, est=3.5960050940359474, details={'was_impossible': True, 'reason': 'User and/or item is unknown.'}),\n",
       " Prediction(uid='A2POZM26QJ8FJ1', iid='B000003B7W', r_ui=3.6417532580797887, est=3.837463333236987, details={'actual_k': 5, 'was_impossible': False}),\n",
       " Prediction(uid='A2RFR3QSF0VOVG', iid='B00003002C', r_ui=3.865417401528513, est=3.9186309116719515, details={'actual_k': 2, 'was_impossible': False}),\n",
       " Prediction(uid='A3IABMFIXCW4KB', iid='B0000C0FKA', r_ui=2.5544589649585325, est=3.5960050940359474, details={'was_impossible': True, 'reason': 'User and/or item is unknown.'}),\n",
       " Prediction(uid='A1X93ES4DITTWK', iid='B0007NFL18', r_ui=2.2562779017857144, est=2.4398172994233467, details={'actual_k': 5, 'was_impossible': False}),\n",
       " Prediction(uid='A289XSD9FQ7XSB', iid='B000AY9OGW', r_ui=3.557245387883607, est=3.8249868162002305, details={'actual_k': 1, 'was_impossible': False}),\n",
       " Prediction(uid='A2PTL3QI1NIYGS', iid='B000069HKH', r_ui=3.1832243535870295, est=3.6250181213561965, details={'actual_k': 1, 'was_impossible': False}),\n",
       " Prediction(uid='A3T23SHY3PASZ3', iid='B00006JO3X', r_ui=3.9481159594888724, est=3.6302628406109925, details={'actual_k': 2, 'was_impossible': False}),\n",
       " Prediction(uid='A22VNXHU6IZ5MT', iid='B000001FZ6', r_ui=4.049632662818546, est=4.180041901903048, details={'actual_k': 4, 'was_impossible': False}),\n",
       " Prediction(uid='A2KPVBROV25H5B', iid='B0007NFL18', r_ui=3.8191964285714284, est=3.594297203307936, details={'actual_k': 3, 'was_impossible': False}),\n",
       " Prediction(uid='A1N7IGT6JAM0E', iid='B00006RAKP', r_ui=2.991457218490363, est=3.5960050940359474, details={'was_impossible': True, 'reason': 'User and/or item is unknown.'}),\n",
       " Prediction(uid='A2FTSEVRW1KIXX', iid='B0000029AP', r_ui=3.5941690962099124, est=3.7356423666361622, details={'actual_k': 0, 'was_impossible': False}),\n",
       " Prediction(uid='A3QAV7LALVG1F7', iid='B0000029AN', r_ui=3.9798955296404275, est=3.975154644736496, details={'actual_k': 1, 'was_impossible': False}),\n",
       " Prediction(uid='A2RIY8RC2ZH3NX', iid='B0009VJWQS', r_ui=3.3302938394689234, est=3.4499047882762865, details={'actual_k': 1, 'was_impossible': False}),\n",
       " Prediction(uid='A1DMDLU9AE7L20', iid='B000001FAO', r_ui=3.9575999027061806, est=3.74484624941977, details={'actual_k': 0, 'was_impossible': False}),\n",
       " Prediction(uid='A5Y2KX0J3KZ2I', iid='B00006M183', r_ui=3.5874285714285716, est=3.523917408427131, details={'actual_k': 0, 'was_impossible': False}),\n",
       " Prediction(uid='A1GN8UJIZLCA59', iid='B000AOENCM', r_ui=3.7286002086556103, est=3.5026166112398127, details={'actual_k': 5, 'was_impossible': False}),\n",
       " Prediction(uid='A3S98L5B1SR9P1', iid='B00000064G', r_ui=3.48, est=3.8679984437790162, details={'actual_k': 5, 'was_impossible': False}),\n",
       " Prediction(uid='A7JRDNX3WOMTR', iid='B0000024JN', r_ui=3.089987600970071, est=3.5288886846232876, details={'actual_k': 4, 'was_impossible': False}),\n",
       " Prediction(uid='A1S2IY37JU93XS', iid='B00006ZCFH', r_ui=3.208555281466039, est=3.598348728930268, details={'actual_k': 5, 'was_impossible': False}),\n",
       " Prediction(uid='A9Q28YTLYREO7', iid='B0000646TK', r_ui=3.1188368086799683, est=2.9169498446952846, details={'actual_k': 5, 'was_impossible': False}),\n",
       " Prediction(uid='A3KENOAUKTWZJL', iid='B0000634ID', r_ui=4.183884297520661, est=2.828687495063422, details={'actual_k': 1, 'was_impossible': False}),\n",
       " Prediction(uid='A26NLSTT75FMJM', iid='B000001EGA', r_ui=3.0250850340136055, est=3.6361558189635206, details={'actual_k': 5, 'was_impossible': False}),\n",
       " Prediction(uid='A1P2XB9U35BJQX', iid='B000021YQV', r_ui=3.8789087400406124, est=3.6530145705520587, details={'actual_k': 0, 'was_impossible': False}),\n",
       " Prediction(uid='AEH71A815NRJ3', iid='B00018D44U', r_ui=3.9921828571428573, est=3.5072247876089477, details={'actual_k': 0, 'was_impossible': False}),\n",
       " Prediction(uid='A2C5VLIJMDPWHI', iid='B000QUCPUC', r_ui=2.9056350960770163, est=2.858578407276793, details={'actual_k': 5, 'was_impossible': False}),\n",
       " Prediction(uid='A11H85UYL2R4KX', iid='B00000163G', r_ui=3.6323010117073196, est=3.9427768913397028, details={'actual_k': 4, 'was_impossible': False}),\n",
       " Prediction(uid='A3FVFJ8D95E9KY', iid='B000002IOW', r_ui=2.7073455721574344, est=3.4189375585619626, details={'actual_k': 5, 'was_impossible': False}),\n",
       " Prediction(uid='A2EENLV6OQ3DYM', iid='B000002G7G', r_ui=3.3548597332451497, est=3.9906869181105256, details={'actual_k': 4, 'was_impossible': False}),\n",
       " Prediction(uid='A3TPW6TEDC5MO5', iid='B0002X314C', r_ui=3.8029513997808584, est=2.8376278283354277, details={'actual_k': 1, 'was_impossible': False}),\n",
       " Prediction(uid='A1QJHZUUMKZYZG', iid='B00004Z41Q', r_ui=3.9690160349854224, est=3.486523463156922, details={'actual_k': 5, 'was_impossible': False}),\n",
       " Prediction(uid='A2Q9LCP54NYFUJ', iid='B000001A6X', r_ui=3.6749686978786005, est=3.7214295420497, details={'actual_k': 2, 'was_impossible': False}),\n",
       " Prediction(uid='A37HCSGGRH8UO6', iid='B00064X2QY', r_ui=2.611315466210871, est=3.3857634223886897, details={'actual_k': 5, 'was_impossible': False}),\n",
       " Prediction(uid='A3464G00K8ZYD1', iid='B000002PD7', r_ui=4.130714285714285, est=3.930085593761233, details={'actual_k': 5, 'was_impossible': False}),\n",
       " Prediction(uid='A3GGKVDQM7E4VJ', iid='B004K4AUZW', r_ui=3.660956742188133, est=3.5960050940359474, details={'was_impossible': True, 'reason': 'User and/or item is unknown.'}),\n",
       " Prediction(uid='A3AL8GQ69QE7WN', iid='B0002PD3HU', r_ui=3.2831591463490812, est=3.407371701528565, details={'actual_k': 3, 'was_impossible': False}),\n",
       " Prediction(uid='A32UBKPBS1JEMP', iid='B0002X314C', r_ui=2.4180678032529883, est=3.7511791274393675, details={'actual_k': 1, 'was_impossible': False}),\n",
       " Prediction(uid='A1AYEI2SNFPYES', iid='B000197KVW', r_ui=3.5474518950437317, est=3.3869363822895093, details={'actual_k': 5, 'was_impossible': False}),\n",
       " Prediction(uid='A2B4IFORHECQ8Y', iid='B000084T18', r_ui=2.537502927122738, est=3.3474334840177664, details={'actual_k': 0, 'was_impossible': False}),\n",
       " Prediction(uid='A2NLP8TW1TCKN3', iid='B0007NFL18', r_ui=3.7308720365147243, est=3.2939852422322398, details={'actual_k': 5, 'was_impossible': False}),\n",
       " Prediction(uid='A1VH6QWC6JZRAC', iid='B000002P5W', r_ui=4.055646649330752, est=3.982715782918962, details={'actual_k': 3, 'was_impossible': False}),\n",
       " Prediction(uid='A3HTX1NOTTWERP', iid='B000002GXL', r_ui=3.894762294068122, est=3.9285864901468193, details={'actual_k': 3, 'was_impossible': False}),\n",
       " Prediction(uid='A20DZX38KRBIT8', iid='B00005TPKC', r_ui=3.228571428571428, est=3.8867611321978655, details={'actual_k': 2, 'was_impossible': False}),\n",
       " Prediction(uid='A2774M0U939V58', iid='B00006RAKP', r_ui=2.857573341836735, est=4.376831367438826, details={'actual_k': 1, 'was_impossible': False}),\n",
       " Prediction(uid='A3OLZXHFGUAMWW', iid='B00005ONMT', r_ui=3.649714285714286, est=3.3974242703761566, details={'actual_k': 5, 'was_impossible': False}),\n",
       " Prediction(uid='AZYZA8FDL48GD', iid='B00096S3PY', r_ui=3.7023258949990625, est=3.7608289896648293, details={'actual_k': 2, 'was_impossible': False}),\n",
       " Prediction(uid='A2LZJ5J9H862SN', iid='B00000D9TQ', r_ui=3.685714285714286, est=3.83417492457168, details={'actual_k': 1, 'was_impossible': False}),\n",
       " Prediction(uid='AM2PV53UX1JEQ', iid='B000002LGQ', r_ui=3.8920447517850114, est=4.000951532000996, details={'actual_k': 3, 'was_impossible': False}),\n",
       " Prediction(uid='AAM4PQ0VMEQLL', iid='B00000AFF9', r_ui=2.2661362163913186, est=3.3854740233520992, details={'actual_k': 3, 'was_impossible': False}),\n",
       " Prediction(uid='A2WV1BVPR5YKFZ', iid='B000001A5X', r_ui=3.428199788549643, est=3.8101399657115382, details={'actual_k': 0, 'was_impossible': False}),\n",
       " Prediction(uid='A1LEMO6BI9LTPF', iid='B00006ZCFI', r_ui=3.2942708333333335, est=3.5960050940359474, details={'was_impossible': True, 'reason': 'User and/or item is unknown.'}),\n",
       " Prediction(uid='ADJXL0W0RJ7VV', iid='B000002IT2', r_ui=3.8200791806140444, est=3.7461010280203335, details={'actual_k': 2, 'was_impossible': False}),\n",
       " Prediction(uid='A27FR2C67JPDRS', iid='B000001DZO', r_ui=4.139014587842713, est=4.048273711192379, details={'actual_k': 3, 'was_impossible': False}),\n",
       " Prediction(uid='A1V2NDE49E2TLQ', iid='B0000062S6', r_ui=2.587383571888485, est=3.5960050940359474, details={'was_impossible': True, 'reason': 'User and/or item is unknown.'}),\n",
       " Prediction(uid='AZ6A2VCRPFRSE', iid='B00003NHAR', r_ui=4.428571428571429, est=2.491323704565804, details={'actual_k': 1, 'was_impossible': False}),\n",
       " Prediction(uid='A20EQCMAGDU0J0', iid='B000050HS9', r_ui=3.474184864220733, est=3.259457335631986, details={'actual_k': 3, 'was_impossible': False}),\n",
       " Prediction(uid='AKS4FTO63XVSC', iid='B00006690F', r_ui=4.087301587301587, est=4.405868438928635, details={'actual_k': 5, 'was_impossible': False}),\n",
       " Prediction(uid='A2YB3GKMN76KJK', iid='B000035X1M', r_ui=3.2857142857142856, est=4.231290566652133, details={'actual_k': 2, 'was_impossible': False}),\n",
       " Prediction(uid='A2D7LL1KMNT040', iid='B0009G3BWE', r_ui=3.7830863297700033, est=3.2314284518575023, details={'actual_k': 0, 'was_impossible': False}),\n",
       " Prediction(uid='A1NLD7JAQBLEML', iid='B000FVQYYK', r_ui=3.8675876935136193, est=3.578440184943409, details={'actual_k': 0, 'was_impossible': False}),\n",
       " Prediction(uid='A1LHPS1PADD9FM', iid='B000EU1KRS', r_ui=3.3964464285714286, est=3.9148061111631196, details={'actual_k': 2, 'was_impossible': False}),\n",
       " Prediction(uid='AFASPSS3MUJUT', iid='B0002X314C', r_ui=3.834285714285714, est=3.364001493352117, details={'actual_k': 1, 'was_impossible': False}),\n",
       " Prediction(uid='A1XX5797TIZT5Q', iid='B000002LRX', r_ui=3.5217627401837928, est=3.676315309282073, details={'actual_k': 5, 'was_impossible': False}),\n",
       " Prediction(uid='A8E7BX37NMF87', iid='B000002IT2', r_ui=3.899753275570583, est=3.1061841023467296, details={'actual_k': 2, 'was_impossible': False}),\n",
       " Prediction(uid='A3MISB22HHN0D2', iid='B00004T9UF', r_ui=3.830687830687831, est=3.427092807495106, details={'actual_k': 4, 'was_impossible': False}),\n",
       " Prediction(uid='ACMAVHGOYSSR4', iid='B00005O54Q', r_ui=3.905748533126188, est=3.668566134631819, details={'actual_k': 0, 'was_impossible': False}),\n",
       " Prediction(uid='A1Q1FK7FKS40WU', iid='B0000024JN', r_ui=3.6909974640743877, est=3.281196767411755, details={'actual_k': 1, 'was_impossible': False}),\n",
       " Prediction(uid='AGAMDS21PJZPK', iid='B00004UARR', r_ui=4.021028801130842, est=3.9825453501837447, details={'actual_k': 5, 'was_impossible': False}),\n",
       " Prediction(uid='A3FF936V6MPPDI', iid='B00000HZG9', r_ui=3.8555381758510014, est=4.041776061382078, details={'actual_k': 2, 'was_impossible': False}),\n",
       " Prediction(uid='A13OD50LTDL2CQ', iid='B00000016W', r_ui=3.868818849556283, est=3.75301195571824, details={'actual_k': 1, 'was_impossible': False}),\n",
       " Prediction(uid='AJMO5NI0FNMDQ', iid='B000003B6J', r_ui=3.7286216290087464, est=3.790151242620942, details={'actual_k': 5, 'was_impossible': False}),\n",
       " Prediction(uid='A3T4JO848Y08UC', iid='B000N2G3RY', r_ui=3.8619285714285714, est=3.7626070637937774, details={'actual_k': 1, 'was_impossible': False}),\n",
       " Prediction(uid='AE42JLYPXUI45', iid='B000002MFN', r_ui=3.7831272485217227, est=3.8321197617684155, details={'actual_k': 2, 'was_impossible': False}),\n",
       " Prediction(uid='A37PBGUFQ387XE', iid='B00006JO3X', r_ui=3.5774164107009376, est=3.8871700843407146, details={'actual_k': 2, 'was_impossible': False}),\n",
       " Prediction(uid='A2JAKHFYI88ZX0', iid='B00005TPKC', r_ui=3.6762083647933923, est=3.821454879523149, details={'actual_k': 5, 'was_impossible': False}),\n",
       " Prediction(uid='A28J4AFUNW545I', iid='B005QJZ5FA', r_ui=4.175000000000001, est=3.5960050940359474, details={'was_impossible': True, 'reason': 'User and/or item is unknown.'}),\n",
       " Prediction(uid='A2EENLV6OQ3DYM', iid='B00005K9KP', r_ui=3.317876995495022, est=3.575708103527807, details={'actual_k': 3, 'was_impossible': False}),\n",
       " Prediction(uid='A3LZBOBV9H1HDV', iid='B000IY04RC', r_ui=4.482142857142858, est=3.4760295253422426, details={'actual_k': 0, 'was_impossible': False}),\n",
       " Prediction(uid='A2QLSXEFSG2VM3', iid='B00002MZ4W', r_ui=3.818540950301699, est=3.6643380846224862, details={'actual_k': 0, 'was_impossible': False}),\n",
       " Prediction(uid='ARPRJZSXOZO2V', iid='B00000DGUG', r_ui=3.7545821791320404, est=3.4798756025685806, details={'actual_k': 0, 'was_impossible': False}),\n",
       " Prediction(uid='A461VTLW9G9YB', iid='B0000AKOMI', r_ui=4.158142857142857, est=3.4940000992838245, details={'actual_k': 5, 'was_impossible': False}),\n",
       " Prediction(uid='AH96V4I4XE9H1', iid='B00000IAU3', r_ui=3.9095238095238094, est=4.226244470523243, details={'actual_k': 1, 'was_impossible': False}),\n",
       " Prediction(uid='A9Q28YTLYREO7', iid='B0006ZQ9BS', r_ui=2.337059735136658, est=2.967347989656872, details={'actual_k': 5, 'was_impossible': False}),\n",
       " Prediction(uid='A1CS70DT7ZPCJJ', iid='B0000025WQ', r_ui=3.496571869488536, est=3.293165886580805, details={'actual_k': 1, 'was_impossible': False}),\n",
       " Prediction(uid='A1SPYMGDEWKK6I', iid='B0002IQHBQ', r_ui=3.997178571428571, est=4.271751854941706, details={'actual_k': 5, 'was_impossible': False}),\n",
       " Prediction(uid='A1JIW8GOSSGUQR', iid='B00008H2LB', r_ui=3.452638871665564, est=2.9754180673359563, details={'actual_k': 5, 'was_impossible': False}),\n",
       " Prediction(uid='A35JR4D6FLXYRQ', iid='B00065BYAY', r_ui=3.747723443223443, est=3.478375336621702, details={'actual_k': 5, 'was_impossible': False}),\n",
       " Prediction(uid='A1O4HXAZ7YZ67H', iid='B000084T18', r_ui=3.590444457666448, est=3.2649776766869505, details={'actual_k': 1, 'was_impossible': False}),\n",
       " Prediction(uid='A35XFZN4MWNKK4', iid='B00005NHJS', r_ui=3.835240089527072, est=3.6092612707180263, details={'actual_k': 4, 'was_impossible': False}),\n",
       " Prediction(uid='A2L9XGCHUP7NPS', iid='B00004UARR', r_ui=3.761714285714286, est=3.7998875714294544, details={'actual_k': 0, 'was_impossible': False}),\n",
       " Prediction(uid='A1NV8HZTGKIPXQ', iid='B0000CD5FR', r_ui=3.98976367601069, est=3.94383709521688, details={'actual_k': 5, 'was_impossible': False}),\n",
       " Prediction(uid='A1I2UJI3NCR93N', iid='B0000025BA', r_ui=3.7190476190476187, est=3.762696198172101, details={'actual_k': 5, 'was_impossible': False}),\n",
       " Prediction(uid='A3RC3AK8UN89I9', iid='B00005NHJS', r_ui=3.8478969492908885, est=3.8415446008472403, details={'actual_k': 5, 'was_impossible': False}),\n",
       " Prediction(uid='A1E3N1GKATTQ0', iid='B0000013GT', r_ui=3.902287485242031, est=4.1873665887049745, details={'actual_k': 1, 'was_impossible': False}),\n",
       " Prediction(uid='A2WDZH6FQL7HO8', iid='B00005M987', r_ui=3.940823858114674, est=2.907597364668125, details={'actual_k': 1, 'was_impossible': False}),\n",
       " Prediction(uid='A8TM0MI3D9T29', iid='B003KUSUG8', r_ui=3.7194739854894934, est=4.124081867865852, details={'actual_k': 1, 'was_impossible': False}),\n",
       " Prediction(uid='A170QM825KM60W', iid='B0002S94RK', r_ui=3.539737148360745, est=3.997489607278511, details={'actual_k': 3, 'was_impossible': False}),\n",
       " Prediction(uid='A1NUNET0L0BFR4', iid='B00065BYAY', r_ui=3.6230296944174496, est=3.739251066368979, details={'actual_k': 5, 'was_impossible': False}),\n",
       " Prediction(uid='A38QJ7JUUTVLKX', iid='B00005AAFJ', r_ui=2.484104761904762, est=3.5960050940359474, details={'was_impossible': True, 'reason': 'User and/or item is unknown.'}),\n",
       " Prediction(uid='A3RV0VQKIM2HSW', iid='B0002X314C', r_ui=3.6466581797928113, est=3.464275799330463, details={'actual_k': 5, 'was_impossible': False}),\n",
       " Prediction(uid='A39XGSL1OGDVDE', iid='B000BLI4UG', r_ui=3.722928795214902, est=3.665643806097369, details={'actual_k': 4, 'was_impossible': False}),\n",
       " Prediction(uid='A3CY6819GDT75H', iid='B000002KH3', r_ui=3.9781083562901745, est=3.243894490058053, details={'actual_k': 3, 'was_impossible': False}),\n",
       " Prediction(uid='A3C6ZCBUNXUT7V', iid='B00005O6IR', r_ui=3.5325613949672623, est=3.8573012517180065, details={'actual_k': 5, 'was_impossible': False}),\n",
       " Prediction(uid='AWSYTZ2I2MW0V', iid='B00000J7JO', r_ui=4.0241489006316815, est=3.839102806825899, details={'actual_k': 5, 'was_impossible': False}),\n",
       " Prediction(uid='A918P6KPDBN0Q', iid='B000N2G3RY', r_ui=3.6664879767909753, est=3.92051324604115, details={'actual_k': 2, 'was_impossible': False}),\n",
       " Prediction(uid='ARQQ97F68VTO6', iid='B003WTE886', r_ui=4.485714285714286, est=4.022768229813695, details={'actual_k': 1, 'was_impossible': False}),\n",
       " Prediction(uid='A2IIEAHI6BCWYA', iid='B00001QGQI', r_ui=3.253512920645788, est=3.481388622607526, details={'actual_k': 0, 'was_impossible': False}),\n",
       " Prediction(uid='A1HIOSHOIZ03XP', iid='B004D1GZ2E', r_ui=3.303966945782609, est=3.7370535677809236, details={'actual_k': 0, 'was_impossible': False}),\n",
       " Prediction(uid='A1BPFV0N4C12AI', iid='B0007TX894', r_ui=3.9417328112827184, est=3.727599810940095, details={'actual_k': 0, 'was_impossible': False}),\n",
       " Prediction(uid='AHOP98V8UUXZB', iid='B0000025F7', r_ui=4.322222222222223, est=3.8508040172898244, details={'actual_k': 3, 'was_impossible': False}),\n",
       " Prediction(uid='A1L1NYH387VKGM', iid='B000001EGA', r_ui=3.812694214876033, est=3.99300113890681, details={'actual_k': 3, 'was_impossible': False}),\n",
       " Prediction(uid='A234IZP4U2Y0OQ', iid='B000EMGAOY', r_ui=3.883878101556617, est=3.5960050940359474, details={'was_impossible': True, 'reason': 'User and/or item is unknown.'}),\n",
       " Prediction(uid='A117RJ6J5CO53D', iid='B00000163G', r_ui=3.831024578250033, est=3.829142825191444, details={'actual_k': 0, 'was_impossible': False}),\n",
       " Prediction(uid='A3K4JD25FZG9UU', iid='B0002IQHBQ', r_ui=4.348053665910809, est=3.5960050940359474, details={'was_impossible': True, 'reason': 'User and/or item is unknown.'}),\n",
       " Prediction(uid='A3O4564U0PDCMP', iid='B00004X0Q0', r_ui=3.8328949836101174, est=3.640430691899359, details={'actual_k': 0, 'was_impossible': False}),\n",
       " Prediction(uid='A2O8K7L29RLY54', iid='B004K4AUZW', r_ui=3.703249851527912, est=3.937085683486856, details={'actual_k': 1, 'was_impossible': False}),\n",
       " Prediction(uid='A1TC5EBGPW13UJ', iid='B00005O6IR', r_ui=3.8316022837706507, est=3.90045156625604, details={'actual_k': 3, 'was_impossible': False}),\n",
       " Prediction(uid='ATS4FKFOX9INH', iid='B0002A2WAO', r_ui=3.9482780489335636, est=3.5449416041130437, details={'actual_k': 4, 'was_impossible': False}),\n",
       " Prediction(uid='A12WON27MLDXNI', iid='B0000029DD', r_ui=2.428571428571429, est=4.052634412029438, details={'actual_k': 1, 'was_impossible': False}),\n",
       " Prediction(uid='ANBSW3BALFRR2', iid='B00009V7T2', r_ui=2.762168443540065, est=3.8427402246027804, details={'actual_k': 2, 'was_impossible': False}),\n",
       " Prediction(uid='A1Q0UFY6YKH3V', iid='B000UMQDHC', r_ui=3.9420805354683197, est=3.6343701247940214, details={'actual_k': 0, 'was_impossible': False}),\n",
       " Prediction(uid='A97B72F4UI8FA', iid='B0000CC6QG', r_ui=4.095743469649193, est=3.399969690041794, details={'actual_k': 3, 'was_impossible': False}),\n",
       " Prediction(uid='A26NLSTT75FMJM', iid='B0000028RR', r_ui=3.7536433087282397, est=3.6348870007071508, details={'actual_k': 5, 'was_impossible': False}),\n",
       " Prediction(uid='A10CBLMJD1OQL7', iid='B000002IWQ', r_ui=3.4213854166666664, est=3.919442745500326, details={'actual_k': 2, 'was_impossible': False}),\n",
       " Prediction(uid='A2UXKWVHJ0JSHN', iid='B00000HZG9', r_ui=4.074868615609356, est=4.072721515403189, details={'actual_k': 5, 'was_impossible': False}),\n",
       " Prediction(uid='A2F3XZ0Q7VS10P', iid='B000H0MKGK', r_ui=3.756509641617064, est=3.379124909322322, details={'actual_k': 1, 'was_impossible': False}),\n",
       " Prediction(uid='AG0XVH9H4QL95', iid='B004K4AUZW', r_ui=2.375174719747843, est=2.4240240641935484, details={'actual_k': 1, 'was_impossible': False}),\n",
       " Prediction(uid='A2GC1JN5F0ZVH8', iid='B0000AGWFX', r_ui=3.56060405643739, est=3.573366043892948, details={'actual_k': 5, 'was_impossible': False}),\n",
       " Prediction(uid='ACVFTS9X2MKJ8', iid='B000002KBB', r_ui=3.5794838196457843, est=3.6547491171847932, details={'actual_k': 2, 'was_impossible': False}),\n",
       " Prediction(uid='A3RQWGYU848KYV', iid='B00001QGQI', r_ui=3.7771163641586623, est=3.390333697729693, details={'actual_k': 1, 'was_impossible': False}),\n",
       " Prediction(uid='A5WDJI6VT51TK', iid='B000002IOW', r_ui=3.646194003527337, est=2.972239689404325, details={'actual_k': 2, 'was_impossible': False}),\n",
       " Prediction(uid='AD0FOYVI4UZVP', iid='B00009LI14', r_ui=3.923904851342493, est=3.8475407021894115, details={'actual_k': 1, 'was_impossible': False}),\n",
       " Prediction(uid='A8LVAO2H29WII', iid='B0009VJWQS', r_ui=4.540857142857142, est=3.5960050940359474, details={'was_impossible': True, 'reason': 'User and/or item is unknown.'}),\n",
       " Prediction(uid='A33M07VZBYRMPY', iid='B000002KH3', r_ui=3.900669642857143, est=4.411006538328907, details={'actual_k': 2, 'was_impossible': False}),\n",
       " Prediction(uid='A33B5M5CE7ZX7C', iid='B000000OUJ', r_ui=3.7460925925925923, est=3.7767939665620673, details={'actual_k': 5, 'was_impossible': False}),\n",
       " Prediction(uid='AJMU8VVFKMZI4', iid='B000H0MKGK', r_ui=3.5304988662131516, est=3.882998208420776, details={'actual_k': 2, 'was_impossible': False}),\n",
       " Prediction(uid='A1LHAXBM5GBJS2', iid='B000EMGAOY', r_ui=3.310657615888213, est=3.4376090362517524, details={'actual_k': 5, 'was_impossible': False}),\n",
       " Prediction(uid='A5QRODDMNQINQ', iid='B00065JTAQ', r_ui=3.121963214736652, est=3.8008163990230686, details={'actual_k': 5, 'was_impossible': False}),\n",
       " Prediction(uid='A25NN196JT60LS', iid='B000001F60', r_ui=2.5782028571428572, est=3.870494158725449, details={'actual_k': 3, 'was_impossible': False}),\n",
       " Prediction(uid='A3KG9S1Y2NH6X3', iid='B0000AGWFX', r_ui=3.0321837421837423, est=3.3826082995578646, details={'actual_k': 1, 'was_impossible': False}),\n",
       " Prediction(uid='A3BTFDNUFPZWIL', iid='B00006690F', r_ui=2.494599348655786, est=2.3205537793285655, details={'actual_k': 2, 'was_impossible': False}),\n",
       " Prediction(uid='A2H1WNB30JNAWU', iid='B004D1GZ2E', r_ui=3.646205357142857, est=3.936011045588028, details={'actual_k': 1, 'was_impossible': False}),\n",
       " Prediction(uid='A9DG42O0DBLFJ', iid='B00018D44U', r_ui=3.8264372367994817, est=3.874392238706006, details={'actual_k': 2, 'was_impossible': False}),\n",
       " Prediction(uid='A22HN0VTP9TCLJ', iid='B000002MFN', r_ui=2.939185004810005, est=3.5760968254887424, details={'actual_k': 2, 'was_impossible': False}),\n",
       " Prediction(uid='A3KMN9ZQ7RZXFR', iid='B00096S3PY', r_ui=4.200892857142858, est=3.5960050940359474, details={'was_impossible': True, 'reason': 'User and/or item is unknown.'}),\n",
       " Prediction(uid='A26DOHWKRZPN8H', iid='B00008H2LB', r_ui=3.548727283680453, est=3.5960050940359474, details={'was_impossible': True, 'reason': 'User and/or item is unknown.'}),\n",
       " Prediction(uid='A2OF0Z2L9STEQF', iid='B000002IOW', r_ui=3.964857963589, est=3.2634485367553827, details={'actual_k': 4, 'was_impossible': False}),\n",
       " Prediction(uid='A1HFVQZIDK7UUD', iid='B00000163G', r_ui=3.5348735839888725, est=3.3431413081461248, details={'actual_k': 5, 'was_impossible': False}),\n",
       " Prediction(uid='A3KG9S1Y2NH6X3', iid='B00007FGLS', r_ui=3.7412075508093587, est=3.56446280358076, details={'actual_k': 0, 'was_impossible': False}),\n",
       " Prediction(uid='A21YRP0KJOLXNK', iid='B00006690F', r_ui=3.7743809712250553, est=3.7009122355832935, details={'actual_k': 1, 'was_impossible': False}),\n",
       " Prediction(uid='A3HOMQCJ2SFZ2', iid='B0000039Q3', r_ui=3.3640095658228373, est=4.064782417481649, details={'actual_k': 5, 'was_impossible': False}),\n",
       " Prediction(uid='ATQAR58FF4EX5', iid='B00065JTAQ', r_ui=3.8370535714285716, est=3.4086245715844723, details={'actual_k': 0, 'was_impossible': False}),\n",
       " Prediction(uid='A1MY1Y1Q1A1CLX', iid='B000002WR5', r_ui=3.9166666666666665, est=3.0146831383482495, details={'actual_k': 1, 'was_impossible': False}),\n",
       " Prediction(uid='A2QCXAU1DR1QV', iid='B00006BTC7', r_ui=4.204974285714286, est=4.151857587745409, details={'actual_k': 1, 'was_impossible': False}),\n",
       " Prediction(uid='A22DKBJRTMY7UK', iid='B000BTDMDC', r_ui=3.799342133906603, est=2.684451741023754, details={'actual_k': 1, 'was_impossible': False}),\n",
       " Prediction(uid='A1YXCRFDXSXQOE', iid='B0000AKOMI', r_ui=3.850858438613541, est=3.308954342311352, details={'actual_k': 1, 'was_impossible': False}),\n",
       " Prediction(uid='ADIDQRLLR4KBQ', iid='B00005QG9J', r_ui=2.294273907910272, est=3.7404878939600654, details={'actual_k': 4, 'was_impossible': False}),\n",
       " Prediction(uid='A3AYA634I1IHI1', iid='B000001Y15', r_ui=2.9129501180637547, est=3.314839838335645, details={'actual_k': 1, 'was_impossible': False}),\n",
       " Prediction(uid='AVDIV5F95V6A2', iid='B0000TAZS8', r_ui=2.984904532179775, est=3.431481938143149, details={'actual_k': 5, 'was_impossible': False}),\n",
       " Prediction(uid='AKM95PATVGMAZ', iid='B00004T9UF', r_ui=3.5535592808551995, est=3.5891928845091674, details={'actual_k': 0, 'was_impossible': False}),\n",
       " Prediction(uid='A257KXBOBFRLCN', iid='B0000AGWFX', r_ui=3.558789742863138, est=3.9119123073790347, details={'actual_k': 3, 'was_impossible': False}),\n",
       " ...]"
      ]
     },
     "execution_count": 36,
     "metadata": {},
     "output_type": "execute_result"
    }
   ],
   "source": [
    "test_pred"
   ]
  },
  {
   "cell_type": "code",
   "execution_count": 37,
   "id": "3f729fe5",
   "metadata": {},
   "outputs": [
    {
     "name": "stdout",
     "output_type": "stream",
     "text": [
      "Item-based Model : Test Set\n",
      "RMSE: 0.4258\n"
     ]
    },
    {
     "data": {
      "text/plain": [
       "0.42583589310605097"
      ]
     },
     "execution_count": 37,
     "metadata": {},
     "output_type": "execute_result"
    }
   ],
   "source": [
    "# get RMSE\n",
    "print(\"Item-based Model : Test Set\")\n",
    "accuracy.rmse(test_pred, verbose=True)"
   ]
  },
  {
   "cell_type": "code",
   "execution_count": 38,
   "id": "e0ad804b",
   "metadata": {},
   "outputs": [
    {
     "data": {
      "text/html": [
       "<div>\n",
       "<style scoped>\n",
       "    .dataframe tbody tr th:only-of-type {\n",
       "        vertical-align: middle;\n",
       "    }\n",
       "\n",
       "    .dataframe tbody tr th {\n",
       "        vertical-align: top;\n",
       "    }\n",
       "\n",
       "    .dataframe thead th {\n",
       "        text-align: right;\n",
       "    }\n",
       "</style>\n",
       "<table border=\"1\" class=\"dataframe\">\n",
       "  <thead>\n",
       "    <tr style=\"text-align: right;\">\n",
       "      <th>asin</th>\n",
       "      <th>B00000016W</th>\n",
       "      <th>B00000064G</th>\n",
       "      <th>B000000OUJ</th>\n",
       "      <th>B000000TDH</th>\n",
       "      <th>B0000013GH</th>\n",
       "      <th>B0000013GT</th>\n",
       "      <th>B00000163G</th>\n",
       "      <th>B000001A5X</th>\n",
       "      <th>B000001A6N</th>\n",
       "      <th>B000001A6X</th>\n",
       "      <th>...</th>\n",
       "      <th>B0029LHW4U</th>\n",
       "      <th>B002DSM8UC</th>\n",
       "      <th>B002GZQYMA</th>\n",
       "      <th>B003KUSUG8</th>\n",
       "      <th>B003V5PPZG</th>\n",
       "      <th>B003WTE886</th>\n",
       "      <th>B004D1GZ2E</th>\n",
       "      <th>B004K4AUZW</th>\n",
       "      <th>B004NSULHM</th>\n",
       "      <th>B005QJZ5FA</th>\n",
       "    </tr>\n",
       "    <tr>\n",
       "      <th>reviewerID</th>\n",
       "      <th></th>\n",
       "      <th></th>\n",
       "      <th></th>\n",
       "      <th></th>\n",
       "      <th></th>\n",
       "      <th></th>\n",
       "      <th></th>\n",
       "      <th></th>\n",
       "      <th></th>\n",
       "      <th></th>\n",
       "      <th></th>\n",
       "      <th></th>\n",
       "      <th></th>\n",
       "      <th></th>\n",
       "      <th></th>\n",
       "      <th></th>\n",
       "      <th></th>\n",
       "      <th></th>\n",
       "      <th></th>\n",
       "      <th></th>\n",
       "      <th></th>\n",
       "    </tr>\n",
       "  </thead>\n",
       "  <tbody>\n",
       "    <tr>\n",
       "      <th>A1020L7BWW9RAX</th>\n",
       "      <td>0.0</td>\n",
       "      <td>0.0</td>\n",
       "      <td>0.0</td>\n",
       "      <td>0.0</td>\n",
       "      <td>0.0</td>\n",
       "      <td>0.000000</td>\n",
       "      <td>0.0</td>\n",
       "      <td>0.000000</td>\n",
       "      <td>0.0</td>\n",
       "      <td>0.000000</td>\n",
       "      <td>...</td>\n",
       "      <td>0.0</td>\n",
       "      <td>0.0</td>\n",
       "      <td>0.0</td>\n",
       "      <td>0.0</td>\n",
       "      <td>0.0</td>\n",
       "      <td>0.0</td>\n",
       "      <td>0.0</td>\n",
       "      <td>0.0</td>\n",
       "      <td>0.0</td>\n",
       "      <td>0.0</td>\n",
       "    </tr>\n",
       "    <tr>\n",
       "      <th>A10323WWTFPSGP</th>\n",
       "      <td>0.0</td>\n",
       "      <td>0.0</td>\n",
       "      <td>0.0</td>\n",
       "      <td>0.0</td>\n",
       "      <td>0.0</td>\n",
       "      <td>0.000000</td>\n",
       "      <td>0.0</td>\n",
       "      <td>0.000000</td>\n",
       "      <td>0.0</td>\n",
       "      <td>0.000000</td>\n",
       "      <td>...</td>\n",
       "      <td>0.0</td>\n",
       "      <td>0.0</td>\n",
       "      <td>0.0</td>\n",
       "      <td>0.0</td>\n",
       "      <td>0.0</td>\n",
       "      <td>0.0</td>\n",
       "      <td>0.0</td>\n",
       "      <td>0.0</td>\n",
       "      <td>0.0</td>\n",
       "      <td>0.0</td>\n",
       "    </tr>\n",
       "    <tr>\n",
       "      <th>A103KNDW8GN92L</th>\n",
       "      <td>0.0</td>\n",
       "      <td>0.0</td>\n",
       "      <td>0.0</td>\n",
       "      <td>0.0</td>\n",
       "      <td>0.0</td>\n",
       "      <td>0.000000</td>\n",
       "      <td>0.0</td>\n",
       "      <td>0.000000</td>\n",
       "      <td>0.0</td>\n",
       "      <td>0.000000</td>\n",
       "      <td>...</td>\n",
       "      <td>0.0</td>\n",
       "      <td>0.0</td>\n",
       "      <td>0.0</td>\n",
       "      <td>0.0</td>\n",
       "      <td>0.0</td>\n",
       "      <td>0.0</td>\n",
       "      <td>0.0</td>\n",
       "      <td>0.0</td>\n",
       "      <td>0.0</td>\n",
       "      <td>0.0</td>\n",
       "    </tr>\n",
       "    <tr>\n",
       "      <th>A103W7ZPKGOCC9</th>\n",
       "      <td>0.0</td>\n",
       "      <td>0.0</td>\n",
       "      <td>0.0</td>\n",
       "      <td>0.0</td>\n",
       "      <td>0.0</td>\n",
       "      <td>0.000000</td>\n",
       "      <td>0.0</td>\n",
       "      <td>3.800903</td>\n",
       "      <td>0.0</td>\n",
       "      <td>3.937612</td>\n",
       "      <td>...</td>\n",
       "      <td>0.0</td>\n",
       "      <td>0.0</td>\n",
       "      <td>0.0</td>\n",
       "      <td>0.0</td>\n",
       "      <td>0.0</td>\n",
       "      <td>0.0</td>\n",
       "      <td>0.0</td>\n",
       "      <td>0.0</td>\n",
       "      <td>0.0</td>\n",
       "      <td>0.0</td>\n",
       "    </tr>\n",
       "    <tr>\n",
       "      <th>A105S56ODHGJEK</th>\n",
       "      <td>0.0</td>\n",
       "      <td>0.0</td>\n",
       "      <td>0.0</td>\n",
       "      <td>0.0</td>\n",
       "      <td>0.0</td>\n",
       "      <td>3.628674</td>\n",
       "      <td>0.0</td>\n",
       "      <td>0.000000</td>\n",
       "      <td>0.0</td>\n",
       "      <td>0.000000</td>\n",
       "      <td>...</td>\n",
       "      <td>0.0</td>\n",
       "      <td>0.0</td>\n",
       "      <td>0.0</td>\n",
       "      <td>0.0</td>\n",
       "      <td>0.0</td>\n",
       "      <td>0.0</td>\n",
       "      <td>0.0</td>\n",
       "      <td>0.0</td>\n",
       "      <td>0.0</td>\n",
       "      <td>0.0</td>\n",
       "    </tr>\n",
       "  </tbody>\n",
       "</table>\n",
       "<p>5 rows × 254 columns</p>\n",
       "</div>"
      ],
      "text/plain": [
       "asin            B00000016W  B00000064G  B000000OUJ  B000000TDH  B0000013GH  \\\n",
       "reviewerID                                                                   \n",
       "A1020L7BWW9RAX         0.0         0.0         0.0         0.0         0.0   \n",
       "A10323WWTFPSGP         0.0         0.0         0.0         0.0         0.0   \n",
       "A103KNDW8GN92L         0.0         0.0         0.0         0.0         0.0   \n",
       "A103W7ZPKGOCC9         0.0         0.0         0.0         0.0         0.0   \n",
       "A105S56ODHGJEK         0.0         0.0         0.0         0.0         0.0   \n",
       "\n",
       "asin            B0000013GT  B00000163G  B000001A5X  B000001A6N  B000001A6X  \\\n",
       "reviewerID                                                                   \n",
       "A1020L7BWW9RAX    0.000000         0.0    0.000000         0.0    0.000000   \n",
       "A10323WWTFPSGP    0.000000         0.0    0.000000         0.0    0.000000   \n",
       "A103KNDW8GN92L    0.000000         0.0    0.000000         0.0    0.000000   \n",
       "A103W7ZPKGOCC9    0.000000         0.0    3.800903         0.0    3.937612   \n",
       "A105S56ODHGJEK    3.628674         0.0    0.000000         0.0    0.000000   \n",
       "\n",
       "asin            ...  B0029LHW4U  B002DSM8UC  B002GZQYMA  B003KUSUG8  \\\n",
       "reviewerID      ...                                                   \n",
       "A1020L7BWW9RAX  ...         0.0         0.0         0.0         0.0   \n",
       "A10323WWTFPSGP  ...         0.0         0.0         0.0         0.0   \n",
       "A103KNDW8GN92L  ...         0.0         0.0         0.0         0.0   \n",
       "A103W7ZPKGOCC9  ...         0.0         0.0         0.0         0.0   \n",
       "A105S56ODHGJEK  ...         0.0         0.0         0.0         0.0   \n",
       "\n",
       "asin            B003V5PPZG  B003WTE886  B004D1GZ2E  B004K4AUZW  B004NSULHM  \\\n",
       "reviewerID                                                                   \n",
       "A1020L7BWW9RAX         0.0         0.0         0.0         0.0         0.0   \n",
       "A10323WWTFPSGP         0.0         0.0         0.0         0.0         0.0   \n",
       "A103KNDW8GN92L         0.0         0.0         0.0         0.0         0.0   \n",
       "A103W7ZPKGOCC9         0.0         0.0         0.0         0.0         0.0   \n",
       "A105S56ODHGJEK         0.0         0.0         0.0         0.0         0.0   \n",
       "\n",
       "asin            B005QJZ5FA  \n",
       "reviewerID                  \n",
       "A1020L7BWW9RAX         0.0  \n",
       "A10323WWTFPSGP         0.0  \n",
       "A103KNDW8GN92L         0.0  \n",
       "A103W7ZPKGOCC9         0.0  \n",
       "A105S56ODHGJEK         0.0  \n",
       "\n",
       "[5 rows x 254 columns]"
      ]
     },
     "execution_count": 38,
     "metadata": {},
     "output_type": "execute_result"
    }
   ],
   "source": [
    "#Model-based collaborative filtering system\n",
    "\n",
    "ratings_matrix = new_df.pivot_table(values='unbias_overall', index='reviewerID', columns='asin', fill_value=0)\n",
    "ratings_matrix.head()"
   ]
  },
  {
   "cell_type": "code",
   "execution_count": 39,
   "id": "dcb9c4c9",
   "metadata": {},
   "outputs": [
    {
     "data": {
      "text/plain": [
       "(4509, 254)"
      ]
     },
     "execution_count": 39,
     "metadata": {},
     "output_type": "execute_result"
    }
   ],
   "source": [
    "ratings_matrix.shape"
   ]
  },
  {
   "cell_type": "code",
   "execution_count": 40,
   "id": "892a3674",
   "metadata": {},
   "outputs": [
    {
     "data": {
      "text/html": [
       "<div>\n",
       "<style scoped>\n",
       "    .dataframe tbody tr th:only-of-type {\n",
       "        vertical-align: middle;\n",
       "    }\n",
       "\n",
       "    .dataframe tbody tr th {\n",
       "        vertical-align: top;\n",
       "    }\n",
       "\n",
       "    .dataframe thead th {\n",
       "        text-align: right;\n",
       "    }\n",
       "</style>\n",
       "<table border=\"1\" class=\"dataframe\">\n",
       "  <thead>\n",
       "    <tr style=\"text-align: right;\">\n",
       "      <th>reviewerID</th>\n",
       "      <th>A1020L7BWW9RAX</th>\n",
       "      <th>A10323WWTFPSGP</th>\n",
       "      <th>A103KNDW8GN92L</th>\n",
       "      <th>A103W7ZPKGOCC9</th>\n",
       "      <th>A105S56ODHGJEK</th>\n",
       "      <th>A1065Q31DNPRAN</th>\n",
       "      <th>A106BECWWKQIC9</th>\n",
       "      <th>A107R79K63CE30</th>\n",
       "      <th>A10872FHIJAKKD</th>\n",
       "      <th>A109WIE49N0GV</th>\n",
       "      <th>...</th>\n",
       "      <th>AZPWAXJG9OJXV</th>\n",
       "      <th>AZSN1TO0JI87B</th>\n",
       "      <th>AZT9OGZODW8VW</th>\n",
       "      <th>AZTVHB938DIG5</th>\n",
       "      <th>AZTZ61W23JET0</th>\n",
       "      <th>AZVA13Q19KURR</th>\n",
       "      <th>AZVH70JMJ2IHX</th>\n",
       "      <th>AZWCAUCNLGL4H</th>\n",
       "      <th>AZY3MDFJJFI91</th>\n",
       "      <th>AZYZA8FDL48GD</th>\n",
       "    </tr>\n",
       "    <tr>\n",
       "      <th>asin</th>\n",
       "      <th></th>\n",
       "      <th></th>\n",
       "      <th></th>\n",
       "      <th></th>\n",
       "      <th></th>\n",
       "      <th></th>\n",
       "      <th></th>\n",
       "      <th></th>\n",
       "      <th></th>\n",
       "      <th></th>\n",
       "      <th></th>\n",
       "      <th></th>\n",
       "      <th></th>\n",
       "      <th></th>\n",
       "      <th></th>\n",
       "      <th></th>\n",
       "      <th></th>\n",
       "      <th></th>\n",
       "      <th></th>\n",
       "      <th></th>\n",
       "      <th></th>\n",
       "    </tr>\n",
       "  </thead>\n",
       "  <tbody>\n",
       "    <tr>\n",
       "      <th>B00000016W</th>\n",
       "      <td>0.0</td>\n",
       "      <td>0.0</td>\n",
       "      <td>0.0</td>\n",
       "      <td>0.0</td>\n",
       "      <td>0.0</td>\n",
       "      <td>0.0</td>\n",
       "      <td>0.0</td>\n",
       "      <td>0.0</td>\n",
       "      <td>0.0</td>\n",
       "      <td>0.0</td>\n",
       "      <td>...</td>\n",
       "      <td>0.0</td>\n",
       "      <td>0.0</td>\n",
       "      <td>0.0</td>\n",
       "      <td>0.0</td>\n",
       "      <td>0.0</td>\n",
       "      <td>0.0</td>\n",
       "      <td>0.0</td>\n",
       "      <td>0.0</td>\n",
       "      <td>0.0</td>\n",
       "      <td>0.0</td>\n",
       "    </tr>\n",
       "    <tr>\n",
       "      <th>B00000064G</th>\n",
       "      <td>0.0</td>\n",
       "      <td>0.0</td>\n",
       "      <td>0.0</td>\n",
       "      <td>0.0</td>\n",
       "      <td>0.0</td>\n",
       "      <td>0.0</td>\n",
       "      <td>0.0</td>\n",
       "      <td>0.0</td>\n",
       "      <td>0.0</td>\n",
       "      <td>0.0</td>\n",
       "      <td>...</td>\n",
       "      <td>0.0</td>\n",
       "      <td>0.0</td>\n",
       "      <td>0.0</td>\n",
       "      <td>0.0</td>\n",
       "      <td>0.0</td>\n",
       "      <td>0.0</td>\n",
       "      <td>0.0</td>\n",
       "      <td>0.0</td>\n",
       "      <td>0.0</td>\n",
       "      <td>0.0</td>\n",
       "    </tr>\n",
       "    <tr>\n",
       "      <th>B000000OUJ</th>\n",
       "      <td>0.0</td>\n",
       "      <td>0.0</td>\n",
       "      <td>0.0</td>\n",
       "      <td>0.0</td>\n",
       "      <td>0.0</td>\n",
       "      <td>0.0</td>\n",
       "      <td>0.0</td>\n",
       "      <td>0.0</td>\n",
       "      <td>0.0</td>\n",
       "      <td>0.0</td>\n",
       "      <td>...</td>\n",
       "      <td>0.0</td>\n",
       "      <td>0.0</td>\n",
       "      <td>0.0</td>\n",
       "      <td>0.0</td>\n",
       "      <td>0.0</td>\n",
       "      <td>0.0</td>\n",
       "      <td>0.0</td>\n",
       "      <td>0.0</td>\n",
       "      <td>0.0</td>\n",
       "      <td>0.0</td>\n",
       "    </tr>\n",
       "    <tr>\n",
       "      <th>B000000TDH</th>\n",
       "      <td>0.0</td>\n",
       "      <td>0.0</td>\n",
       "      <td>0.0</td>\n",
       "      <td>0.0</td>\n",
       "      <td>0.0</td>\n",
       "      <td>0.0</td>\n",
       "      <td>0.0</td>\n",
       "      <td>0.0</td>\n",
       "      <td>0.0</td>\n",
       "      <td>0.0</td>\n",
       "      <td>...</td>\n",
       "      <td>0.0</td>\n",
       "      <td>0.0</td>\n",
       "      <td>0.0</td>\n",
       "      <td>0.0</td>\n",
       "      <td>0.0</td>\n",
       "      <td>0.0</td>\n",
       "      <td>0.0</td>\n",
       "      <td>0.0</td>\n",
       "      <td>0.0</td>\n",
       "      <td>0.0</td>\n",
       "    </tr>\n",
       "    <tr>\n",
       "      <th>B0000013GH</th>\n",
       "      <td>0.0</td>\n",
       "      <td>0.0</td>\n",
       "      <td>0.0</td>\n",
       "      <td>0.0</td>\n",
       "      <td>0.0</td>\n",
       "      <td>0.0</td>\n",
       "      <td>0.0</td>\n",
       "      <td>0.0</td>\n",
       "      <td>0.0</td>\n",
       "      <td>0.0</td>\n",
       "      <td>...</td>\n",
       "      <td>0.0</td>\n",
       "      <td>0.0</td>\n",
       "      <td>0.0</td>\n",
       "      <td>0.0</td>\n",
       "      <td>0.0</td>\n",
       "      <td>0.0</td>\n",
       "      <td>0.0</td>\n",
       "      <td>0.0</td>\n",
       "      <td>0.0</td>\n",
       "      <td>0.0</td>\n",
       "    </tr>\n",
       "  </tbody>\n",
       "</table>\n",
       "<p>5 rows × 4509 columns</p>\n",
       "</div>"
      ],
      "text/plain": [
       "reviewerID  A1020L7BWW9RAX  A10323WWTFPSGP  A103KNDW8GN92L  A103W7ZPKGOCC9  \\\n",
       "asin                                                                         \n",
       "B00000016W             0.0             0.0             0.0             0.0   \n",
       "B00000064G             0.0             0.0             0.0             0.0   \n",
       "B000000OUJ             0.0             0.0             0.0             0.0   \n",
       "B000000TDH             0.0             0.0             0.0             0.0   \n",
       "B0000013GH             0.0             0.0             0.0             0.0   \n",
       "\n",
       "reviewerID  A105S56ODHGJEK  A1065Q31DNPRAN  A106BECWWKQIC9  A107R79K63CE30  \\\n",
       "asin                                                                         \n",
       "B00000016W             0.0             0.0             0.0             0.0   \n",
       "B00000064G             0.0             0.0             0.0             0.0   \n",
       "B000000OUJ             0.0             0.0             0.0             0.0   \n",
       "B000000TDH             0.0             0.0             0.0             0.0   \n",
       "B0000013GH             0.0             0.0             0.0             0.0   \n",
       "\n",
       "reviewerID  A10872FHIJAKKD  A109WIE49N0GV  ...  AZPWAXJG9OJXV  AZSN1TO0JI87B  \\\n",
       "asin                                       ...                                 \n",
       "B00000016W             0.0            0.0  ...            0.0            0.0   \n",
       "B00000064G             0.0            0.0  ...            0.0            0.0   \n",
       "B000000OUJ             0.0            0.0  ...            0.0            0.0   \n",
       "B000000TDH             0.0            0.0  ...            0.0            0.0   \n",
       "B0000013GH             0.0            0.0  ...            0.0            0.0   \n",
       "\n",
       "reviewerID  AZT9OGZODW8VW  AZTVHB938DIG5  AZTZ61W23JET0  AZVA13Q19KURR  \\\n",
       "asin                                                                     \n",
       "B00000016W            0.0            0.0            0.0            0.0   \n",
       "B00000064G            0.0            0.0            0.0            0.0   \n",
       "B000000OUJ            0.0            0.0            0.0            0.0   \n",
       "B000000TDH            0.0            0.0            0.0            0.0   \n",
       "B0000013GH            0.0            0.0            0.0            0.0   \n",
       "\n",
       "reviewerID  AZVH70JMJ2IHX  AZWCAUCNLGL4H  AZY3MDFJJFI91  AZYZA8FDL48GD  \n",
       "asin                                                                    \n",
       "B00000016W            0.0            0.0            0.0            0.0  \n",
       "B00000064G            0.0            0.0            0.0            0.0  \n",
       "B000000OUJ            0.0            0.0            0.0            0.0  \n",
       "B000000TDH            0.0            0.0            0.0            0.0  \n",
       "B0000013GH            0.0            0.0            0.0            0.0  \n",
       "\n",
       "[5 rows x 4509 columns]"
      ]
     },
     "execution_count": 40,
     "metadata": {},
     "output_type": "execute_result"
    }
   ],
   "source": [
    "X = ratings_matrix.T\n",
    "X.head()"
   ]
  },
  {
   "cell_type": "code",
   "execution_count": 41,
   "id": "afa6dcf4",
   "metadata": {},
   "outputs": [],
   "source": [
    "X1 = X"
   ]
  },
  {
   "cell_type": "code",
   "execution_count": 42,
   "id": "f5fd3d01",
   "metadata": {},
   "outputs": [
    {
     "data": {
      "text/plain": [
       "(254, 10)"
      ]
     },
     "execution_count": 42,
     "metadata": {},
     "output_type": "execute_result"
    }
   ],
   "source": [
    "#Decomposing the Matrix\n",
    "from sklearn.decomposition import TruncatedSVD\n",
    "SVD = TruncatedSVD(n_components=10)\n",
    "decomposed_matrix = SVD.fit_transform(X)\n",
    "decomposed_matrix.shape"
   ]
  },
  {
   "cell_type": "code",
   "execution_count": 43,
   "id": "362c33e1",
   "metadata": {},
   "outputs": [
    {
     "data": {
      "text/plain": [
       "(254, 254)"
      ]
     },
     "execution_count": 43,
     "metadata": {},
     "output_type": "execute_result"
    }
   ],
   "source": [
    "#Correlation Matrix\n",
    "\n",
    "correlation_matrix = np.corrcoef(decomposed_matrix)\n",
    "correlation_matrix.shape"
   ]
  },
  {
   "cell_type": "code",
   "execution_count": 44,
   "id": "f38c1e65",
   "metadata": {},
   "outputs": [
    {
     "data": {
      "text/plain": [
       "'B005QJZ5FA'"
      ]
     },
     "execution_count": 44,
     "metadata": {},
     "output_type": "execute_result"
    }
   ],
   "source": [
    "X.index[253]"
   ]
  },
  {
   "cell_type": "code",
   "execution_count": 45,
   "id": "ebec9299",
   "metadata": {},
   "outputs": [
    {
     "data": {
      "text/plain": [
       "253"
      ]
     },
     "execution_count": 45,
     "metadata": {},
     "output_type": "execute_result"
    }
   ],
   "source": [
    "i = \"B005QJZ5FA\"\n",
    "\n",
    "product_names = list(X.index)\n",
    "product_ID = product_names.index(i)\n",
    "product_ID"
   ]
  },
  {
   "cell_type": "code",
   "execution_count": 46,
   "id": "0e547e7c",
   "metadata": {},
   "outputs": [
    {
     "data": {
      "text/plain": [
       "(254,)"
      ]
     },
     "execution_count": 46,
     "metadata": {},
     "output_type": "execute_result"
    }
   ],
   "source": [
    "correlation_product_ID = correlation_matrix[product_ID]\n",
    "correlation_product_ID.shape"
   ]
  },
  {
   "cell_type": "code",
   "execution_count": 47,
   "id": "d649a900",
   "metadata": {},
   "outputs": [
    {
     "data": {
      "text/plain": [
       "['B000000TDH',\n",
       " 'B000001DZO',\n",
       " 'B0000025WQ',\n",
       " 'B000002J2S',\n",
       " 'B000002VN7',\n",
       " 'B000002VT6',\n",
       " 'B00000DGUG',\n",
       " 'B00000IAU3',\n",
       " 'B00001QGQI',\n",
       " 'B00004Z41Q',\n",
       " 'B00005K9KP',\n",
       " 'B00005M987',\n",
       " 'B00005QDVS',\n",
       " 'B00005TPKC',\n",
       " 'B00005YW4H',\n",
       " 'B0000646TK',\n",
       " 'B00006L7XQ',\n",
       " 'B000089CJI',\n",
       " 'B000089RVR',\n",
       " 'B00008J4P5',\n",
       " 'B00008OWZE',\n",
       " 'B00009LI14',\n",
       " 'B0000AGWEC',\n",
       " 'B0000C0FKA']"
      ]
     },
     "execution_count": 47,
     "metadata": {},
     "output_type": "execute_result"
    }
   ],
   "source": [
    "Recommend = list(X.index[correlation_product_ID > 0.65])\n",
    "\n",
    "# Removes the item already bought by the customer\n",
    "Recommend.remove(i) \n",
    "\n",
    "Recommend[0:24]"
   ]
  },
  {
   "cell_type": "code",
   "execution_count": null,
   "id": "cd19f0b3",
   "metadata": {},
   "outputs": [],
   "source": []
  }
 ],
 "metadata": {
  "kernelspec": {
   "display_name": "Python 3 (ipykernel)",
   "language": "python",
   "name": "python3"
  },
  "language_info": {
   "codemirror_mode": {
    "name": "ipython",
    "version": 3
   },
   "file_extension": ".py",
   "mimetype": "text/x-python",
   "name": "python",
   "nbconvert_exporter": "python",
   "pygments_lexer": "ipython3",
   "version": "3.9.12"
  },
  "vscode": {
   "interpreter": {
    "hash": "f31b5846fe4d0e510ff280a80fa1fd1567c5c662c3b99a86eb737e0309da4a2e"
   }
  }
 },
 "nbformat": 4,
 "nbformat_minor": 5
}
