{
 "cells": [
  {
   "cell_type": "code",
   "execution_count": 1,
   "metadata": {},
   "outputs": [],
   "source": [
    "import nltk\n",
    "import pandas as pd\n",
    "import sys\n",
    "import os\n",
    "\n",
    "from data_loader import DataLoader"
   ]
  },
  {
   "cell_type": "code",
   "execution_count": 2,
   "metadata": {},
   "outputs": [
    {
     "name": "stderr",
     "output_type": "stream",
     "text": [
      "C:\\Users\\lijia\\Desktop\\MSAI\\Sem A\\AI6122\\Assignment1\\Hearts-of-Iron\\data_loader.py:13: FutureWarning: Starting with pandas version 2.0 all arguments of read_json except for the argument 'path_or_buf' will be keyword-only.\n",
      "  self.table = pd.read_json(data_path, 'records', lines = True);\n"
     ]
    },
    {
     "data": {
      "text/html": [
       "<div>\n",
       "<style scoped>\n",
       "    .dataframe tbody tr th:only-of-type {\n",
       "        vertical-align: middle;\n",
       "    }\n",
       "\n",
       "    .dataframe tbody tr th {\n",
       "        vertical-align: top;\n",
       "    }\n",
       "\n",
       "    .dataframe thead th {\n",
       "        text-align: right;\n",
       "    }\n",
       "</style>\n",
       "<table border=\"1\" class=\"dataframe\">\n",
       "  <thead>\n",
       "    <tr style=\"text-align: right;\">\n",
       "      <th></th>\n",
       "      <th>overall</th>\n",
       "      <th>vote</th>\n",
       "      <th>verified</th>\n",
       "      <th>reviewTime</th>\n",
       "      <th>reviewerID</th>\n",
       "      <th>asin</th>\n",
       "      <th>style</th>\n",
       "      <th>reviewerName</th>\n",
       "      <th>reviewText</th>\n",
       "      <th>summary</th>\n",
       "      <th>unixReviewTime</th>\n",
       "      <th>image</th>\n",
       "    </tr>\n",
       "  </thead>\n",
       "  <tbody>\n",
       "    <tr>\n",
       "      <th>0</th>\n",
       "      <td>4</td>\n",
       "      <td>NaN</td>\n",
       "      <td>True</td>\n",
       "      <td>03 18, 2016</td>\n",
       "      <td>A1S2L9211DXHL3</td>\n",
       "      <td>B017PDBZ1M</td>\n",
       "      <td>{'Format:': ' MP3 Music'}</td>\n",
       "      <td>Eric H.</td>\n",
       "      <td>Delightful!</td>\n",
       "      <td>Four Stars</td>\n",
       "      <td>1458259200</td>\n",
       "      <td>NaN</td>\n",
       "    </tr>\n",
       "    <tr>\n",
       "      <th>1</th>\n",
       "      <td>5</td>\n",
       "      <td>NaN</td>\n",
       "      <td>True</td>\n",
       "      <td>10 30, 2014</td>\n",
       "      <td>AW6WK8Q7UHAE6</td>\n",
       "      <td>B00KF2KMME</td>\n",
       "      <td>{'Format:': ' MP3 Music'}</td>\n",
       "      <td>Melinda Beckham</td>\n",
       "      <td>Great</td>\n",
       "      <td>Five Stars</td>\n",
       "      <td>1414627200</td>\n",
       "      <td>NaN</td>\n",
       "    </tr>\n",
       "    <tr>\n",
       "      <th>2</th>\n",
       "      <td>5</td>\n",
       "      <td>NaN</td>\n",
       "      <td>True</td>\n",
       "      <td>07 28, 2015</td>\n",
       "      <td>A5FYUZ5861YSJ</td>\n",
       "      <td>B001D7JRJO</td>\n",
       "      <td>{'Format:': ' MP3 Music'}</td>\n",
       "      <td>Charlene Morissaint</td>\n",
       "      <td>Love it</td>\n",
       "      <td>Five Stars</td>\n",
       "      <td>1438041600</td>\n",
       "      <td>NaN</td>\n",
       "    </tr>\n",
       "    <tr>\n",
       "      <th>3</th>\n",
       "      <td>5</td>\n",
       "      <td>NaN</td>\n",
       "      <td>True</td>\n",
       "      <td>05 19, 2014</td>\n",
       "      <td>A2378Y827M4QLC</td>\n",
       "      <td>B0011ZP544</td>\n",
       "      <td>{'Format:': ' MP3 Music'}</td>\n",
       "      <td>JAS</td>\n",
       "      <td>What more can I say about this song that you d...</td>\n",
       "      <td>So Strong and Powerful!</td>\n",
       "      <td>1400457600</td>\n",
       "      <td>NaN</td>\n",
       "    </tr>\n",
       "    <tr>\n",
       "      <th>4</th>\n",
       "      <td>5</td>\n",
       "      <td>NaN</td>\n",
       "      <td>True</td>\n",
       "      <td>12 15, 2017</td>\n",
       "      <td>A33FCZANJ9BWS7</td>\n",
       "      <td>B001KRW5UK</td>\n",
       "      <td>{'Format:': ' MP3 Music'}</td>\n",
       "      <td>bible lover</td>\n",
       "      <td>REMEMBER THE GOOD THINGS YOUR MOTHERS USED TO ...</td>\n",
       "      <td>NICE THROWBACK THAT NEEDS TO BE THROWN BACK IN</td>\n",
       "      <td>1513296000</td>\n",
       "      <td>NaN</td>\n",
       "    </tr>\n",
       "  </tbody>\n",
       "</table>\n",
       "</div>"
      ],
      "text/plain": [
       "   overall  vote  verified   reviewTime      reviewerID        asin  \\\n",
       "0        4   NaN      True  03 18, 2016  A1S2L9211DXHL3  B017PDBZ1M   \n",
       "1        5   NaN      True  10 30, 2014   AW6WK8Q7UHAE6  B00KF2KMME   \n",
       "2        5   NaN      True  07 28, 2015   A5FYUZ5861YSJ  B001D7JRJO   \n",
       "3        5   NaN      True  05 19, 2014  A2378Y827M4QLC  B0011ZP544   \n",
       "4        5   NaN      True  12 15, 2017  A33FCZANJ9BWS7  B001KRW5UK   \n",
       "\n",
       "                       style         reviewerName  \\\n",
       "0  {'Format:': ' MP3 Music'}              Eric H.   \n",
       "1  {'Format:': ' MP3 Music'}      Melinda Beckham   \n",
       "2  {'Format:': ' MP3 Music'}  Charlene Morissaint   \n",
       "3  {'Format:': ' MP3 Music'}                  JAS   \n",
       "4  {'Format:': ' MP3 Music'}          bible lover   \n",
       "\n",
       "                                          reviewText  \\\n",
       "0                                        Delightful!   \n",
       "1                                              Great   \n",
       "2                                            Love it   \n",
       "3  What more can I say about this song that you d...   \n",
       "4  REMEMBER THE GOOD THINGS YOUR MOTHERS USED TO ...   \n",
       "\n",
       "                                          summary  unixReviewTime image  \n",
       "0                                      Four Stars      1458259200   NaN  \n",
       "1                                      Five Stars      1414627200   NaN  \n",
       "2                                      Five Stars      1438041600   NaN  \n",
       "3                         So Strong and Powerful!      1400457600   NaN  \n",
       "4  NICE THROWBACK THAT NEEDS TO BE THROWN BACK IN      1513296000   NaN  "
      ]
     },
     "execution_count": 2,
     "metadata": {},
     "output_type": "execute_result"
    }
   ],
   "source": [
    "loader = DataLoader(DataLoader.data_path1)\n",
    "table = loader.load_table()\n",
    "table.head()"
   ]
  },
  {
   "cell_type": "code",
   "execution_count": 7,
   "metadata": {},
   "outputs": [
    {
     "name": "stderr",
     "output_type": "stream",
     "text": [
      "[nltk_data] Downloading package stopwords to\n",
      "[nltk_data]     C:\\Users\\lijia\\AppData\\Roaming\\nltk_data...\n",
      "[nltk_data]   Package stopwords is already up-to-date!\n"
     ]
    },
    {
     "name": "stdout",
     "output_type": "stream",
     "text": [
      "nltk:  180\n",
      "spacy:  326\n",
      "merge:  383\n"
     ]
    }
   ],
   "source": [
    "#Data Preprocess\n",
    "#Get stopwords\n",
    "from nltk.corpus import stopwords\n",
    "nltk.download('stopwords')\n",
    "import spacy\n",
    "from spacy.lang.en.stop_words import STOP_WORDS\n",
    "\n",
    "nltk_stopwords = stopwords.words('english')\n",
    "nltk_stopwords.append('\\n')\n",
    "spacy_stopwords = list(STOP_WORDS)\n",
    "merged_sw = nltk_stopwords + list(set(spacy_stopwords) - set(nltk_stopwords))\n",
    "\n",
    "print(\"nltk: \", len(nltk_stopwords))\n",
    "print(\"spacy: \", len(spacy_stopwords))\n",
    "print(\"merge: \", len(merged_sw))"
   ]
  },
  {
   "cell_type": "code",
   "execution_count": 19,
   "metadata": {},
   "outputs": [
    {
     "name": "stdout",
     "output_type": "stream",
     "text": [
      "{'B017PDBZ1M': ['Delightful!'], 'B00KF2KMME': ['Great'], 'B001D7JRJO': ['Love it'], 'B0011ZP544': [\"What more can I say about this song that you don't arleady know, feel, and relealize when you listen to the words.\", 'This song sings to my soul! Just beautiful!'], 'B001KRW5UK': ['REMEMBER THE GOOD THINGS YOUR MOTHERS USED TO SAY THAT ALWAYS MADE YOUR DAY! SELF EXPLANATORY. NICE  THROWBACK THAT NEEDS TO BE THROWN BACK IN!  WILL BE IN THE LIBRARY FOR MANY MANY YEARS TO COME!'], 'B000QOMANK': ['Another Master of entertainment we shall never ever forget. Inspiring and delightful. Makes you smile every time you hear him and ashamed of how you concern yourself with your own meager problems when you remember how he overcame so much at that time.'], 'B00123NB5K': ['This song sounds great on my Kindle and Roku! I am so glad that I purchased it! It was definitely a great find!'], 'B0011Z4YB4': ['Love the song, love the movie Purple Rain, love Prince!'], 'B00NYII6F6': ['Nice song'], 'B001BW1TRE': [\"An 80's fan must have.\"], 'B001BZLFDE': ['Good music'], 'B000TDB4R6': ['Granddaughter loves this song (she is 4) and I put it on her mini ipod she goes around singing it all the time.'], 'B0043ZDFEQ': ['cool'], 'B0011Z76XW': ['Great instrumental, also flash back from the past'], 'B00GM5Y67A': ['Beautiful song. Can listen to it over and over.'], 'B00122PH3U': [\"...I go flying so high...\\nNot a big fan of drugs and skepticism--I've already lived those days, but the song still brings back memories and it's a good solid piece. 'Taxi' is one of those creative successes and has a certain feeling that is not often repeated among singer/songwriters (with the exception of Cat's in the Cradle).\"], 'B0012444RI': ['A great song that takes me back!'], 'B00ASETLUS': ['Good song.'], 'B0040I5MPQ': ['great song'], 'B000V66NIG': ['Awesome!'], 'B000Z1GR9C': ['Has a nice beat and is easy to dance to. I give it a rating based upon my tastes. Your mileage may differ!'], 'B00EYAMFVE': ['Perfect sound, excellent quality'], 'B001J25O1I': ['Wonderful music, love the oldies.  .'], 'B00DS2H3FC': [\"I don't care for the one second wavering that predominates this music.  Price was right for using up some digital credits and I'm glad I tried it, but probably will not play it again.  I like the Winter Solitutde much better.\"], 'B0012QOZQQ': [\"It's music. Of course I rate it 5-stars. I would not spend money on a song unless I loved it.\"], 'B005UWEKZE': ['love it'], 'B00137V96S': [\"I don't know what it is about this song; I mean it's a great song, sure but it just DOES something to me. Every time I hear it is like the first time, I just get lost. Those lyrics and that voice, yeahhh - that voice. So milky and raw, it melts me. And those lyrics, how can you forget a song about your first love, lost love, dead love, never loved and will we ever love again?\\nI won't be held responsible\\nShe was touching her face\\nI can't be held responsible\\nShe fell in love in the first place...\\nFor the life of me, I cannot remember\\nWhat made us think that we were wise and we'd never compromise?\\nFor the life of me, I cannot believe we'd ever die for these sins\\nWe were merely Freshmen\\nWe were only Freshmen\"], 'B00EE0O6HU': ['Have listened to this music many times and am glad this download was available for me. Thanks to Amazon!!!! I will order more from Amazon.'], 'B000TPDYTK': [\"I'm in the process of getting MP3s for all of the music I grew up with.  I've worn out the albums, cassettes and CD's.  Now it's time to just get everything in MP3 format.  One down 15,000 to go!!!\"], 'B00J4JOD92': [\"At times we can't see our way but God's always there no matter what. He'll never leave you nor forsake you. He's the God that will lead and guide you into all truths. He can be your Everything!\"], 'B00EOO596S': ['rocks mildly wild!'], 'B00KX09DMI': ['I love to listen to old styles of music, folk , chant you name it there is something that just draws me in and my mind wanders down into history.'], 'B00137Y3AM': ['Great music by Eurythmics. . had to have them on my MP3 player on my Kindle Fire HD. Got several songs by them.\\nWould I lie to You?\\nHere comes the Rain\\nMissionary man'], 'B00ERMICY8': [\"I really like this song, I've like Miley's music. This was a very good song. Looking forward to her other music.\"], 'B00137XEI4': [\"I purchased this song along with REO speeedwagon's TWO album. All of it is in the Chuck Berry style of rock,with more of a 70s hard rock sound with it. We could use more like this these days.\"], 'B0013K0RZ4': [\"Brad Paisley's voice is a dramatic counter to Alison's soft voice as they tell the story of alcoholism and death. There's no time you don't feel the ache. I had to buy my favorite songs from the CD I already owned.\"], 'B0057TUC9S': [\"I can't bring myself to give this one five stars. That doesn't mean that you shouldn't buy it if you like it. That simply means that it is kind of far out of my typical genre for me to give it the full five. Honestly, it is a terrific song, I just don't jam out to it like I do Amos Lee of similar style.\"], 'B0012FAUV6': ['Another Ambrosia song that you can still feel.  This is little more moving than a lot of their stuff but the lyrics are timeless.'], 'B00137QZNK': ['I like it and would buy for this seller again'], 'B000WZWW7M': ['Loved!'], 'B00136PRPS': ['ok'], 'B000WOUTKA': ['Great!'], 'B00123FP86': ['Great song.'], 'B00122ML0W': [':-)'], 'B00137VC1A': ['my favorite song remembert first time i heard it fell in love with it praise and worship is what it is!!!'], 'B000WLMNEI': ['I ordered the MP3 download for my music library, sounds great.'], 'B000V69784': ['TTT\\'s sophomore album was the stuff of which legends were made: innovative, funky, soulful, and reflective. Like other reviewers have stated, their later work was better, but this earlier release stands as one of the strongest \"second helpings\" in R & B history.'], 'B00ELD1RPY': ['Inspiring', 'Awesome!'], 'B00R4PKGYE': ['Love this song!'], 'B01GFY9ERY': [\"Amazing as always.  Can't go wrong with Aaron!\"], 'B00HFWYCAK': [\"Really like this song.  It's a great cool down song after exercising.\"], 'B00137ILRS': ['I was satisfied'], 'B00EH49FRE': ['The best girl anthem. Whenever I feel a little blue or need some gym motivation I listen to this song.'], 'B00137O7OE': ['What a voice and what a great song for a great price.  Highly recommend it to others.  love the download option'], 'B0012FC7R6': ['One of the best.'], 'B0018CMBMY': [\"What can you say about Toby Keith?  The man is a TRUE patriot who hasn't forgotten the men & women who have fought so he could have a celebrity lifestyle.  I love this song because it pays tribute to our Armed Forces (who are often forgotten about)  I used this song to make a tribute video to the men & women as well as the K9s that help them with their work, PTSD, or just unwinding from the war.\"], 'B000TE71FE': ['a'], 'B00136JF8I': [\"Best Whitney song ever!!!! A ABSOLUTELY GREAT BUY!! If you love Whitney and if you don't this song is still awesome and worth the money.\"], 'B001223DPY': ['Fun song. Not greatest fidelity, however.'], 'B014FO6H5S': ['Any man that writes a song about his wife like this one is 5 stars to me.'], 'B000W23KD0': ['Nice classic Irish music. Easy listening, most enjoyable.'], 'B000S51XMQ': [\"This song makes me cry they way it's handled here because it is so touching.  Great song render so well by Christ Tomlin, check out other songs by Chris Tomlin.\"], 'B001249TQO': ['It wrecks grate and locks grate'], 'B002NZVKWC': ['love'], 'B001A7IZ90': ['Good old time soul music'], '9714721180': [\"I already had one of the finest versions of Ride the Lightning on CD as a basis for comparison. I hadn't been able to find many reviews on the new $18.99 vinyl.\\n\\nI purchased this at B&N with a coupon in-store today, but will share with my Amazon brethren as I get 95% of my new vinyl here and love to add to the reviews that I myself greatly depend on.\\n\\nI have decent mid-fi equipment, not really a reference system but certainly good enough to expose the quality of an inferior recording. 1978 Japanese Technics SL-220 with AT95e > TC750 > Yamaha RX-V377 > HD598 and the CD on the same RX and phones via Yamaha CDP-S300\\n\\nI prefer the vinyl by a good margin, though the only fault I can find is the vocals are a little low in this mix. Record was dead flat (as in free of warps) drilled dead center, poly lined paper sleeve, lyrics sheet, download card. Before playing The record was cleaned with A.I. #6 via KABUSA EV-1. Very quiet background and dead silent between tracks, generous lead-in area and dead wax, I think the overall time is just a hair over 47:00.\\n\\nIt may be the most quiet metal record I own as far as background, and darn sure is the best for $18.99 or less. The record volume overall is a tad low but nothing that's not easily overcome by the volume control. I was impressed to the point that I will now seek out the new releases of Kill em All and Puppets, despite Puppets having some issues according to reviews.\\n\\nSo yeah, mix sounds nice and balanced, good bass, vocals recessed a tad, but not a big deal IMO. Very happy with the price/quality. Would recommend. Kill EM All is my favorite Thrash era Metallica and this album bridges the gab between that album and puppets.\"], 'B000WLWNB6': [\"I love this song! Excellent quality recording. And now it's a part of my music library.\"], 'B0013G0PG4': ['love this song and he voice.  look forward to more from her'], 'B00137VGXY': ['this song reminds me of my Dad he always took and stand and stuck with it. so I naturally will share that with my Son. no gray area in this song stand for it on solid ground.'], 'B00FNGG47E': [\"Love it! Very beguiling but still recognizable. When the first few bars started I thought to myself that I knew the song but once it really gets going I'm too into the new version to even care about the old!\\n\\nIn a word... awesome!\"], 'B00JYKZILI': ['I love this song. It had a good feel to it & puts me in a good place.'], 'B00AHXDGBA': ['From the opening bars of this tune, I was thinking a lot of&nbsp;<a data-hook=\"product-link-linked\" class=\"a-link-normal\" href=\"/C2C-s/dp/B00B2H097E/ref=cm_cr_arp_d_rvw_txt?ie=UTF8\">C2C\\'s</a>&nbsp;\"<a data-hook=\"product-link-linked\" class=\"a-link-normal\" href=\"/Genius/dp/B00B7H300C/ref=cm_cr_arp_d_rvw_txt?ie=UTF8\">Genius</a>.\"  I\\'m hearing it in the rhythm guitar and most definitely in the chorus.  C2C\\'s is a very catchy song that I\\'m surprised didn\\'t catch on a little more, likely owing to the band\\'s relative obscurity.  So, for a relative soundalike, this one is taking off.  Good on Bruno for that.  \"Genius\" has got this song beat on low-end thrum, though; this pop gem could use a little bit more oomph on the bass end.\\n\\nThis is my old-guy bias, but I\\'m also hearing distinct tones of&nbsp;<a data-hook=\"product-link-linked\" class=\"a-link-normal\" href=\"/Earth-Wind-and-Fire/dp/B00136NUG6/ref=cm_cr_arp_d_rvw_txt?ie=UTF8\">Earth, Wind and Fire</a>, all the way back to 1978 or so.  I\\'m getting that in the bass pops, the chord drops and the simple clapping backing the chorus.  This is not to say that this song sounds old or stale, but its roots are most definitely showing; it works for this song, and is a respectful nod to those who\\'ve come before.\\n\\nThis is a simple, easy, smooth and highly accessible song.  It\\'s got an easy beat, not some relentless 120bpm club pounding, but a smooth rhythm perfect for dancing or singing along, and/or both.\\n\\nMy one and only complaint is that this song doesn\\'t even make three minutes.  Sure, it\\'s a pop song and commercial radio play is still a medium for dissemination and moneymaking, but this jam should go at least five minutes, with an extended keyboard solo.  Why end such a good thing so quickly?  Let\\'s hope for some remixes sometime soon that will remedy this.'], 'B0083EXE76': ['ONE OF MY TOP 7 FAVORITES !!! HALLELUJAH HE LIVES IN ME !!!'], 'B000VZY9Z6': ['I had the clean version of this album, but it was missing one very important word to describe true angst.  Every divorced man should have this song.'], 'B00136LG5I': ['This product arrived on time, with no damage to the package or product. I am a satisfied customer. MS'], 'B003VXHTG6': ['\"Just The Way You Are\" is a very likable song.  I think that it is very encouraging and uplifting.  I didn\\'t know anything about the Artist but when I heard the song in commercials on the television I thought that it was a \"catchy\" tune.  I\\'m enjoying listening to it and I recommend it.'], 'B004AW90E6': ['Great song!!'], 'B00TJ67YUK': ['good music'], 'B007HID34S': ['good'], 'B000TDWJD4': ['One of country musics new hit makers Eric Church released a great song, cheaper than iTunes you can not go wrong with this purchase. Plus use of the Amazon Cloud and Cloud Player make this an even better buy.'], 'B000WH0UKQ': ['This brings back good memories.  Love both of their voices.  The song invokes good memories for me.  Glad I bought it.'], 'B0011W7E78': ['great'], 'B00SCIDC8Y': [\"It's a good song, either you like it or you don't.\"], 'B000YN07XI': ['This is a great song, lyrically beautiful and matched well with the music.  It is a shame when people use it for other maneuvers to make money.'], 'B00FP1NNJY': [\"Love the beat of this song, and although I normally don't listen to this style of music, this one caught my ear, and I liked it so much I bought it.\"], 'B007HVB88I': ['Amazing Song! Love It!'], 'B0011W1U9G': ['The song \"Held\" speaks of a mother whose baby dies. In this instance, God does not prevent the tragedy, but He is with this grieving mother and holds her while she goes through this trial.'], 'B00137QS0U': ['What can I say .. She is Joan Jett!'], 'B003P26LI0': ['This is not my favorite bands but this is one of my favorite songs.  Brings back great memories.  Stands the test of time--still a great song.'], 'B000TDURL0': ['good'], 'B00136NN04': ['Good cut'], 'B013AIG5PW': ['These are my classics. My go to jams'], 'B007PXZCP8': ['I love John Legend and this is probably one of my favorite songs he sings. This song as a beautiful  and sexy beat with words that follow.'], 'B00BHNLYXQ': ['I was never a huge fan of Newsteds bass playing, but then again who can compare to Cliff. I do know he always had a better growl than Hetfield ever did, which was pretty cool. This band is basically some old classic sounding heavy Motorhead sounding rock/metal style music. NOT THRASH, so don\\'t go into it thinking that\\'s what you\\'ll get. It\\'s Jason\\'s own brand of music. He\\'s not a great lyric writer, some are actually cheesy, but i give him credit because he hasn\\'t had years and years of experience like most lyric writers. Not sure how much he \"wrote\" for Flotsam, but they are much better than anything Flotsams lead singer can come up with. So it\\'s a good start, only four songs really isn\\'t enough to tell if he has a \"future\" with it or not. Personally i would love to see him start a real \"thrash\" band. Just play bass, and have another singer. But that\\'s just my opinion. Good stuff. Nothing groundbreaking. Reminds you a lot of the lighter side of Hell Yeah. Much better than anything Metallica will do, for sure. ;o)'], 'B009Y8EB5E': ['Love'], 'B00137MFWK': [\"Listen carefully to the lyrics. They were about the deepest anyone got in the '70's. they may sound nihilistic at first but listen carefully. It's worth having more Kansas, but if you are a child of the'70's you need t least this number. (I bought the mp3 as a stop-gap. Unsure whether I'll transcribe my vinyl to mp3, then cd or buy the cd compilation and get better sound quality than I can produce and Amazon's Cloud Auto-Rip.)\"], 'B00OXE38D0': ['Great album'], 'B00137O7EE': ['After hearing this song for the first time on K-LOVE, I instantly fell in love with it.  This is just a really well-written song and it was performed so beautifully.  What else can I say?'], 'B007FNN9BW': ['GREAT SONG THAT I WANTED TO ADD TO MY COLLECTION.'], 'B000VT08VG': ['love'], 'B00I3GLYJO': ['like the song.'], 'B015L1ZBY2': [\"I don't buy music that I don't love.\"], 'B003BG4KYM': ['Classic'], 'B00177FK3M': ['Great band'], 'B00GX9E4ZO': ['Great Song'], 'B000VRSXJC': ['i love this song what it takes\\nSteven Tyler sings it so well\\ni would deffinitly recommend this song\\nthank you amazon...'], 'B00119Z4W8': [\"I love the simplicity of this song. It just sings to me. I don't understand why I have to type eight more words to try to submit this review but I am.\"], 'B00137MPQQ': ['Good song'], 'B00136NNH2': [\"It's Great\"], 'B00JH408M0': ['Easy download'], 'B00137VDBY': ['I like this song'], 'B002DD43UA': ['Adding to my playlist'], 'B00AAAKH80': ['Good product & fast delivery.'], 'B0043CJC3C': ['Really like the sound of this band.  Am looking forward to future CDs from them. They are really awesome, yeah baby yeah!'], 'B0012EHIOE': [\"Who doesn't like this song? It's great!\"], 'B0013DDLNG': ['Gotta love human nature by Michael. To me it shows his fragility and honesty at the same time. This song rocks!'], 'B00130N6B6': [\"How does it get any better than this? Hello Walls is one of the classic, twangy, corny CW songs from the 50's. Tells a great story of heartache in just a few verses.\"], 'B00NFDHUU2': ['Just did in my email!'], 'B001NSP4TK': ['One of the greatest songs ever!'], 'B00FY3JV8A': ['This is a great album by a great artist. I think that Amazon should let you rate albums without writing a review.'], 'B0011ZOZXG': ['I LOVE THIS OLD SCHOOL RAP.'], 'B001NYEHT2': [\"I loved this song back in the 80's and a week ago it just popped back in my mind and had to find out who sung it. I kept thinking it came out in the early 80's; but it was actually 86. The song is great because it's about this guy who finds out his wife is having an affair. The lyrics are great, the urban beat ROX, and at the end it is humorous because he does find out and gets even. If you think U heard this song check it out on Amazon, it won't be a disappointment.\\n\\nTHX,\\nKris L. CocKayne\"], 'B00O6DQBSM': ['AC/DC! What else needs to be said'], 'B00122TBOQ': ['Love this artist and all his music.  Yes, I will order other songs as needed.'], 'B000V63C4Y': [\"Classic album.  If you love it then you'll definitely want to pick it up if you have SACD capability - excellent sound.  I don't love everything on the album, it's OK if you're in the mood but I do adore The Girl From Ipanema.  If you love the song then actually this is could be worth checking out if you can get it cheap.  Its never sounded better - awesome.  Album & 45 version!  Have fun!\"], 'B0018CMBRE': [\"Reminds me of my Older Brother and all the guys I hang out with when I am with him. Just a good ole' country song. Makes me smile every time I hear it playing and I set it to be my brothers ring tone so I know it him every time he calls. Brightens up my day even more.\"], 'B001C3L33M': ['good'], 'B000V61HWI': ['I LOVE this song!'], 'B000WLTMGU': ['i have always have loved his music and always will, an oldie but goodie. I like being able to pick the ones that I like best'], 'B00MRQYZOM': [\"It's just a beautiful song.\"], 'B000WY7WLY': ['Great song'], 'B0011Z8Q9K': ['Good performer'], 'B000VMYM5Q': ['Her best song.'], 'B000VZV9KY': [\"Okay, okay, okay, everyone knows in real life this circumstance spells instant break up!  But, you'd like to think it would work out like this.  Great song from a great era in music!  Good xfer and nice to also have it in the cloud.\"], 'B005VPSH5E': ['works great. Downloaded with no issues. good price. Have had this song for several months. Had no issues at all so far.'], 'B00137QWBK': [\"This is one of my favorite songs it's so romantic\"], 'B00122R1RU': ['Would give it 100 stars if I could!'], 'B00PUGYHPS': ['Enjoyable, mostly lesser known and performed music.'], 'B00J61555Y': ['Favorite songs. Going to see them December 12, 2014'], 'B0045KYGG0': ['classic !! Love this song'], 'B005G6Q3UE': ['get your rave on!'], 'B00137GJK4': ['I got this song to use for a memorial DVD for my grandfather. It worked perfectly for that. It was sad but in a way that was appropriate for a funeral.'], 'B001EE8SS2': ['I love this song! I love Percy Gray!'], 'B001ESDIWE': [\"It's not a phenomenal song, but it's happy, and it has Babyface singing!! Hadn't heard HIM in awhile!!\"], 'B00O0PV4QA': ['This rendition of this classic is performed by  Jonathon with  such a deep degree of emotion it is hard not to burst into tears -yes they will be of joy at listening to what will become the pinnacle of performances of this song. A masterpiece .'], 'B00NJMNLRK': ['Good song'], 'B00B6CDOFO': ['Like it'], 'B00LP8WLDU': ['This is from that car commercial with the robots dancing!! Great choreography by the machines!! Was it Cadillac'], 'B000WSV1AS': [\"This a classic!  I haven't heard it in years and was so happy to find it available to download on my MP3!\"], 'B00A6UC7FA': ['Lovely'], 'B00137VPNK': ['I just thought it might be fun to pick up some of the songs and voices I listened to and loved when I was a kid.  Marty is particularly good at the old ballads but who can forget things like \"White Sports Coat\" and others that weren\\'t specifically ballads. Love it. Thanks'], 'B00JLJ185C': ['Great song love it so much my wife bought the entire album...'], 'B000W0V2XW': ['Fantastic song.'], 'B00137R3O0': ['I remember listening to this on my first transistor radio... Still love it!'], 'B0043CODXG': ['I am normally not a fan of \"new metal,\" (I even hate that label), but My Darkest Days self-titled album really rocks it. Not just 1 version of \"Porn Star Dancing,\" but 2!!!! Both different but awesome nevertheless. Plus \"Move Your Body\" and \"Goodbye\" make this an album worth having!'], 'B000TRVDNC': ['song is alright'], 'B000W1M56O': ['This is a great song! I like the Killers, but this is one of  my favorites by them and fun to sing.'], 'B0011Z7M2C': ['Despite the name, this song always makes me feel better whenever I hear it.  Instead of waiting, I decided to buy it so I could hear it whenever I wanted.'], 'B00BGD07KS': ['Goods inspirational tune'], 'B00480DMJ4': ['Great song! Being from Georgia, it feels like I am back there just riding out and chillin with no worries and care in the world!'], 'B004B2VUM0': ['Absolutely great song. You can tell Rascal Flatts put a lot of heart into this one and it turned out great!'], 'B00LT0CS2S': ['Not for me I like that Amazon offers a wide variety of free music it gives me a chance to listen  to artists and genres that I would otherwise pass by.'], 'B0067D6NE6': ['great'], 'B000QON62O': ['Fun \"Summer of Love\" track. Highly recommended.'], 'B000ZJ8NTQ': ['A very moving song. I really enjoy songs that have meaning and heart in them. This is one such song. It is an excellent song.'], 'B000WLLA8S': ['He has got one of the very best voices in music in my opinion. His songs are fun, romantic and rocking.'], 'B00OVKKUW8': ['I love Blown Away. The meaning of the song, the vocals, the music video. All of it is excellent. Definitely worth the buy.'], 'B00UMI98C6': ['Good song'], 'B004HRHKE6': ['Downloaded with ease.  Great 60s songs from GL&P.  Listen to it closely.  Not just a three chorder.  The song has some thought put in the lyrics and music.  Your daddy is proud of you.'], 'B001FEABI6': [\"This was a hit in the seventies that was on every eight track in the urban community and I'm sure youri life with your various relationships at some time you wanted your significant other or spouse\"], 'B00FX8F6VM': ['This song has several dimensions not only in the lyrics but also in the music...Katy Perry is so talented and featuring Juicy J enhanced Katy Perry as well as this song!'], 'B000WGYZZS': ['I absolutely love this song. Pattie Labelle is an exceptional singer and the sound quality is very good. Buy it, buy it, buy it ! ! !'], 'B004EI3ON4': ['For this soundtrack, don\\'t think 80s, One More Time, or a new soundtrack masterpiece to cap off an already amazing year. No, think Inception-Lite, then add in some electronic beats. By Inception-Lite, I mean the music between soundtracks is kind of interchangeable, but there\\'s clearly a more quality winner here. In fact, much of the soundtrack barrows from the Hans Zimmer school of thinking, not just the certain horn structure that was so infamously from Inception (The Game has Changed), but the strings, how the strings are arranged, the moods given off, etc. Granted, I know the soundtrack was composed before Inception ever came out, but the whole thing sounds very Zimmer-Esque.\\n\\nWhy is this? Well, the soundtrack may be \"by\" Daft Punk, but Joseph Trapanese did much of the orchestrations, with only the guidance of Daft Punk. Daft themselves did the electronic work. As a result, the work sounds very much like a modern soundtrack. But since Zimmer holds the example of the modern soundtrack currently in my mind, it sounds very derivitive of that for me. Not that this is a bad thing per say, but the entire score does hold an ever-present feeling of familiarity. It\\'s mixed up by the electronic elements of course, which sound something straight out of a future nightclub, complete with weird DJ stuff, drumbeats and other tricks of the Daft Punk trade. Still, it doesn\\'t sound amazing enough to stand on its own.\\n\\nAnother thing I must bring about is the theme. You know, the one introduced in the first track as a grandiose piece, comes back for a couple tracks at the beginning, then starting back with \"Arrival,\" dominates the rest of the proceedings. It\\'s a rather simple horn piece, and it\\'s used to great effect, but if feels like it also uses it as a crutch much too often. Introduction moment. Bring in the theme. Action moment. Bring in the theme. Emotional moment. Bring in the theme. Triumphant moment. Bring in the theme. End credits. Bring in the theme, remixed by Daft Punk. You see my point? It\\'s a great and memorable theme, but it\\'s a bit too simple to be as used as often as it is.\\n\\nOverall, Tron Legacy the soundtrack is not bad. It\\'s a solid effort, but suffers from the stark feeling of familiarity wherever you go. Did it really take them two years to compose this? Still it\\'s a must-have for soundtrack fans, and if it draws in non-soundtrack fans, then I\\'m fine with that too.\\n\\nOne thing I\\'ll say though, if the soundtrack\\'s job was to make you want to see the movie, then they certainly accomplished that.\\n\\n3.5/5 Stars'], 'B018JOVZCU': ['This group has to find a lead singer. It\\'s like they all shy away from the mic when it\\'s there turn...some one needs to step up or something. I heard no Beyonce or Kelly in this group...just a bunch of Michelles. The only standouts are \"Carry On\" an \"Hey\"{e mix}.That girl group B.O.Y {Be Only You} sounds waaayyy! better then this girl group King.'], 'B0154UNQXI': ['Too smooth,hate to see him go,get it.'], 'B000W015MA': ['Another good song off of this recording. Granted the entire album (to me) is not all gems but there are a few good nuggets in there and this is one of them.'], 'B01EIUQ7AO': [\"NIce selection of music.  Very well played.  Price couldn't be better.\"], 'B006M6W0AY': ['good'], 'B004M8PTDE': ['THIS SONG IS AWESOME!!!!'], 'B006CLTH96': ['awesome song'], 'B00136NP0M': ['Good song'], 'B001ESSLIU': ['In 1996, following a fight with the group, the thrash metal band Sepultura lost their vocalist and rhythm guitarist. Max Cavalera, the member who left the band, formed another band, Soulfly in 1998.\\n\\nOver the course of their six albums with Cavalera, Sepultura evolved pretty far. With each passing album, they became more and more creative and experimental, but (in my opinion) they also became less and less heavy. Therefore, everybody (or every metalhead, at least) eagerly awaited Soulfly\\'s self-entitled debut. Would it pick up where Sepultura left off, or would it be a rehash of a past Sepultura album, or would Max start over, from the beginning, and make Soulfly have a completely new sound?\\n\\nWell, aside from being heavier, angrier, and more energetic, \"Soulfly\" pretty much picks up where 1996\\'s \"Roots\" left off. This album doesn\\'t expand on or evolve Sepultura\\'s sound, but it still has plenty of new and refreshing ingredients and sounds.\\n\\n\"Eye for an Eye\" is one of Soulfly\\'s better known songs. It\\'s the opening track on this record and the first of three relentlessly heavy tracks. The first ten seconds are a buzzing sound, but then the floodgates open with very heavy guitar riffs which groove and pounding drums.\\n\\n\"No Hope=No Fear\" begins with an ascending yell, before it becomes a demolishing beat with surging riffs.\\n\\n\"Bleed\" begins with a drum beat and some light, almost wah-wah guitar noise, then Max makes another screaming entrance and the song explodes. Then Fred Durst makes his cameo, yells \"Bring it on!,\" and begins rapping. This song is OK, but the rap part of this song doesn\\'t really\\n\\nfit.\\n\\nThe first minute of \"Tribe\" is an acoustic guitar with some guy singing in a foreign language (maybe African). The drums, and eventually the power chords and vocals begin, and the song jumps in volume. The guitars turn out heavy churning riffs and the drums sound like tin cans.\\n\\n\"Bumba\" begins with the sound of a rainstorm, before turning to chug and churn riffs and vocals which are in Spanish.\\n\\n\"First Commandment\" has more crunchy riffs, but, about halfway through, it becomes a light interlude with tribal drums and (Deftones frontman\\'s) Chino Moreno\\'s dreary vocals. Max Cavalera made a guest appearance on the Deftones 1997 album, \"Around the Fur,\" so Chino repays Max for it by making a cameo on this album.\\n\\n\"Bumbklaatt\" is another very angry track. The beat/song becomes full volume following a guttural yell by Max at the beginning, and the rest of the song is a very catchy rhythm with good drum work.\\n\\n\"Soulfly\" is an instrumental with tribal drums and some light guitar strums. It\\'s a nice, peaceful track, but it\\'s also kind of forgettable and not as creative as later Soulfly instrumentals.\\n\\n\"Umbabarauma\" is maybe the catchiest song on the album. It opens with a yell of \"Un, dos, tres, cua!,\" then some half volume guitars and a catchy drum pattern kick in, but this song is really a highlight because of the great chant/shout along of \"Umbabarauma!\"\\n\\n\"Quilombo\" has angry vocals, but the instruments buzz along at only half volume.\\n\\n\"Fire\" has more fast, plowing riffs, but they break briefly and the song becomes a drum beat with dwindling, twinkling guitar strings. But an ascending yell and some more heavy riffs bring the song back to full volume. Most of this song (except for the very beginning and end) is an instrumental.\\n\\n\"The Song Remains Insane\" begins with the sound of a TV, with two people who talk, in Spanish, about \"Sepultura\" and \"Max Cavalera.\" The song itself, though, is a super loud, pounding beat with more heavy yells.\\n\\nThe second half of \"No\" is an instrumental. The first half has a throat straining yell and more churning riffs, but the second half has a weird guitar noise and jazzy drumming.\\n\\n\"Prejudice\" gains momentum well and has good vocal hooks.\\n\\n\"Karmageddon\" has almost spacey guitar notes and a repetitive drum pattern. Then, following a half a minute of silence, there are more tribal drums alongside some female vocals.\\n\\nThis album is essential for all Sepultura fans and Max freaks, and if you\\'re looking for an heavy, hard hitting, energetic listen, check this album out. Expect a great listen, but don\\'t expect this album to be a classic, like Sepultura\\'s \"Beneath the Remains\" or \"Arise.\" And don\\'t listen to it if you\\'re the type of person who gets headaches easily.'], 'B0077FOFMA': ['I was concerned buying a collection of music from different from different players. I was not disappointed with this music. It is quite beautiful!'], 'B00123JUGE': ['Good song!'], 'B00122UPAU': ['Excellent!'], 'B0012EJH16': ['Great Purchase'], 'B00BNXAA12': ['Great!!'], 'B00136RVP2': [\"Honestly I feel that this cd could have been better.  I cannot give it less than 4 stars because it has all of her Big Hits, even the top 10 Goonies song which many have been craving here in the U.S. but it does lack a lot of other songs.  Hole In My Heart,  You Don't Know, Ballad Of Cleo And Joe, Disco Inferno, and Shine are all left out while Unhook The Stars, and Sisters Of Avalon are included.  Not sure why they do not really make a collection with true hits and remixes of those latter hits.  Well I guess you ahd to buy the singles when they came out to get it.  Other than that it is almost the same as Twelve Deadly Cyns... And Then Some.  So unless you want to collect them all you can live without it if you have all her albums.\"], 'B000SXKQ76': ['I enjoyed this song very much.'], 'B00136LJ4Q': [\"it was easy to find, it was easy to download and one of my more favorite songs from the 70's-80's\"], 'B006OLXQI2': ['It is a good song. Good production value. Played well by a polished professional band. \"and show the world to me\" indeed'], 'B000W20Q5U': ['Love it!'], 'B000SX858S': ['Good song.'], 'B001NSDXNE': ['GOOD'], 'B001GDYPDI': ['Oldies but goodies love this music and would buy the four tops if you enjoy slow jams to reminiscence to the old times.'], 'B000TDWO5C': ['I love Christian music. This song is really nice.'], 'B00X6AFW18': ['Smooth beat and simple lyrics that come together to make a good dance song. It is the sixth song from Zedd I own. \"Clarity\" was good, but for me \"Beautiful Now\" and \" I want you to know\" are definitely the best.'], 'B001O3WOVK': ['This is now the third Monster Magnet album that I have acquired, and like the other 2, this is great!!!!!!']}\n"
     ]
    }
   ],
   "source": [
    "reviewText = {table['asin'][0]:[]}\n",
    "for i in range(200):\n",
    "    if table['asin'][i] in reviewText:\n",
    "        reviewText[table['asin'][i]].append(table['reviewText'][i])\n",
    "    else:\n",
    "        reviewText[table['asin'][i]] = []\n",
    "        reviewText[table['asin'][i]].append(table['reviewText'][i])\n",
    "print(reviewText)"
   ]
  },
  {
   "cell_type": "code",
   "execution_count": null,
   "metadata": {},
   "outputs": [],
   "source": []
  }
 ],
 "metadata": {
  "kernelspec": {
   "display_name": "Python 3 (ipykernel)",
   "language": "python",
   "name": "python3"
  },
  "language_info": {
   "codemirror_mode": {
    "name": "ipython",
    "version": 3
   },
   "file_extension": ".py",
   "mimetype": "text/x-python",
   "name": "python",
   "nbconvert_exporter": "python",
   "pygments_lexer": "ipython3",
   "version": "3.9.12"
  },
  "vscode": {
   "interpreter": {
    "hash": "1219d95d5844f6af4e0cf2878260c40dbf8742300f233955478158a2d2740a5e"
   }
  }
 },
 "nbformat": 4,
 "nbformat_minor": 2
}
