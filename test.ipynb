{
 "cells": [
  {
   "cell_type": "code",
   "execution_count": 1,
   "metadata": {},
   "outputs": [],
   "source": [
    "import nltk\n",
    "import pandas as pd\n",
    "import sys\n",
    "import os\n",
    "\n",
    "from data_loader import DataLoader\n",
    "\n"
   ]
  },
  {
   "cell_type": "code",
   "execution_count": 2,
   "metadata": {},
   "outputs": [
    {
     "name": "stderr",
     "output_type": "stream",
     "text": [
      "d:\\study\\NTU_LEARN\\AI6122 TEXT MANAGEMENT & PROCESSING\\project\\data_loader.py:13: FutureWarning: Starting with pandas version 2.0 all arguments of read_json except for the argument 'path_or_buf' will be keyword-only.\n",
      "  self.table = pd.read_json(data_path, 'records', lines = True);\n"
     ]
    },
    {
     "data": {
      "text/html": [
       "<div>\n",
       "<style scoped>\n",
       "    .dataframe tbody tr th:only-of-type {\n",
       "        vertical-align: middle;\n",
       "    }\n",
       "\n",
       "    .dataframe tbody tr th {\n",
       "        vertical-align: top;\n",
       "    }\n",
       "\n",
       "    .dataframe thead th {\n",
       "        text-align: right;\n",
       "    }\n",
       "</style>\n",
       "<table border=\"1\" class=\"dataframe\">\n",
       "  <thead>\n",
       "    <tr style=\"text-align: right;\">\n",
       "      <th></th>\n",
       "      <th>reviewerID</th>\n",
       "      <th>asin</th>\n",
       "      <th>reviewerName</th>\n",
       "      <th>helpful</th>\n",
       "      <th>reviewText</th>\n",
       "      <th>overall</th>\n",
       "      <th>summary</th>\n",
       "      <th>unixReviewTime</th>\n",
       "      <th>reviewTime</th>\n",
       "    </tr>\n",
       "  </thead>\n",
       "  <tbody>\n",
       "    <tr>\n",
       "      <th>0</th>\n",
       "      <td>A2H9FBZB17UQE0</td>\n",
       "      <td>B000002LE6</td>\n",
       "      <td>Walter Sanders</td>\n",
       "      <td>[0, 0]</td>\n",
       "      <td>Alphabet Street is a 5 star song and the rest ...</td>\n",
       "      <td>3</td>\n",
       "      <td>Alphabet Street and a bunch of other stuff</td>\n",
       "      <td>1401148800</td>\n",
       "      <td>05 27, 2014</td>\n",
       "    </tr>\n",
       "    <tr>\n",
       "      <th>1</th>\n",
       "      <td>A3EXWV8FNSSFL6</td>\n",
       "      <td>B0017OLUUC</td>\n",
       "      <td>Daniel G. Lebryk</td>\n",
       "      <td>[0, 0]</td>\n",
       "      <td>Four of us (two adults and two teenagers) have...</td>\n",
       "      <td>3</td>\n",
       "      <td>Beautiful Derivative Voice</td>\n",
       "      <td>1218067200</td>\n",
       "      <td>08 7, 2008</td>\n",
       "    </tr>\n",
       "    <tr>\n",
       "      <th>2</th>\n",
       "      <td>A343WUP274JSP3</td>\n",
       "      <td>B00005S7UE</td>\n",
       "      <td>Da Man \"Da Man\"</td>\n",
       "      <td>[1, 2]</td>\n",
       "      <td>if there is only one Mariah Carey cd in your c...</td>\n",
       "      <td>5</td>\n",
       "      <td>27 smashes from a true superstar</td>\n",
       "      <td>1130112000</td>\n",
       "      <td>10 24, 2005</td>\n",
       "    </tr>\n",
       "    <tr>\n",
       "      <th>3</th>\n",
       "      <td>A1Y1IKTDRQPCYF</td>\n",
       "      <td>B00000G3X7</td>\n",
       "      <td>\"ykh\"</td>\n",
       "      <td>[0, 0]</td>\n",
       "      <td>Dmx is awesome,his second album is great!I lov...</td>\n",
       "      <td>4</td>\n",
       "      <td>ANOTHER  AWESOME DMX  ALBUM!</td>\n",
       "      <td>962841600</td>\n",
       "      <td>07 6, 2000</td>\n",
       "    </tr>\n",
       "    <tr>\n",
       "      <th>4</th>\n",
       "      <td>A32HMOZVKF25A</td>\n",
       "      <td>B00IOVH8AW</td>\n",
       "      <td>Terra Ann \"Cowgirl\"</td>\n",
       "      <td>[0, 0]</td>\n",
       "      <td>Who could keep still or frown while listening ...</td>\n",
       "      <td>5</td>\n",
       "      <td>Get Ready to Snap Your Fingers</td>\n",
       "      <td>1396569600</td>\n",
       "      <td>04 4, 2014</td>\n",
       "    </tr>\n",
       "  </tbody>\n",
       "</table>\n",
       "</div>"
      ],
      "text/plain": [
       "       reviewerID        asin         reviewerName helpful  \\\n",
       "0  A2H9FBZB17UQE0  B000002LE6       Walter Sanders  [0, 0]   \n",
       "1  A3EXWV8FNSSFL6  B0017OLUUC     Daniel G. Lebryk  [0, 0]   \n",
       "2  A343WUP274JSP3  B00005S7UE      Da Man \"Da Man\"  [1, 2]   \n",
       "3  A1Y1IKTDRQPCYF  B00000G3X7                \"ykh\"  [0, 0]   \n",
       "4   A32HMOZVKF25A  B00IOVH8AW  Terra Ann \"Cowgirl\"  [0, 0]   \n",
       "\n",
       "                                          reviewText  overall  \\\n",
       "0  Alphabet Street is a 5 star song and the rest ...        3   \n",
       "1  Four of us (two adults and two teenagers) have...        3   \n",
       "2  if there is only one Mariah Carey cd in your c...        5   \n",
       "3  Dmx is awesome,his second album is great!I lov...        4   \n",
       "4  Who could keep still or frown while listening ...        5   \n",
       "\n",
       "                                      summary  unixReviewTime   reviewTime  \n",
       "0  Alphabet Street and a bunch of other stuff      1401148800  05 27, 2014  \n",
       "1                  Beautiful Derivative Voice      1218067200   08 7, 2008  \n",
       "2            27 smashes from a true superstar      1130112000  10 24, 2005  \n",
       "3                ANOTHER  AWESOME DMX  ALBUM!       962841600   07 6, 2000  \n",
       "4              Get Ready to Snap Your Fingers      1396569600   04 4, 2014  "
      ]
     },
     "execution_count": 2,
     "metadata": {},
     "output_type": "execute_result"
    }
   ],
   "source": [
    "loader = DataLoader(DataLoader.data_path2)\n",
    "table = loader.load_table()\n",
    "table.head()"
   ]
  },
  {
   "cell_type": "code",
   "execution_count": 3,
   "metadata": {},
   "outputs": [
    {
     "data": {
      "text/plain": [
       "[\"Dmx is awesome,his second album is great!I love it man!I've been listing to this album for a month,all of his music is still tight man.He release it 7 month before his first album,a great  great album.arrf arrf!\"]"
      ]
     },
     "execution_count": 3,
     "metadata": {},
     "output_type": "execute_result"
    }
   ],
   "source": [
    "#sentence segmentation\n",
    "chunk = table['reviewText'][3]\n",
    "\n",
    "sentences = nltk.sent_tokenize(chunk)\n",
    "sentences[:3]"
   ]
  },
  {
   "cell_type": "code",
   "execution_count": 4,
   "metadata": {},
   "outputs": [
    {
     "data": {
      "text/plain": [
       "['Dmx', 'is', 'awesome', ',', 'his', 'second', 'album', 'is', 'great', '!']"
      ]
     },
     "execution_count": 4,
     "metadata": {},
     "output_type": "execute_result"
    }
   ],
   "source": [
    "#tokenize\n",
    "sentence = sentences[0]\n",
    "\n",
    "tokens = nltk.word_tokenize(sentence)\n",
    "tokens[:10]"
   ]
  },
  {
   "cell_type": "code",
   "execution_count": 5,
   "metadata": {},
   "outputs": [
    {
     "data": {
      "text/plain": [
       "[('Dmx', 'NNP'), ('is', 'VBZ'), ('awesome', 'JJ'), (',', ','), ('his', 'PRP$')]"
      ]
     },
     "execution_count": 5,
     "metadata": {},
     "output_type": "execute_result"
    }
   ],
   "source": [
    "#pos tagging\n",
    "tagged = nltk.pos_tag(tokens)\n",
    "tagged[:5]"
   ]
  }
 ],
 "metadata": {
  "kernelspec": {
   "display_name": "Python 3.10.4 ('torch')",
   "language": "python",
   "name": "python3"
  },
  "language_info": {
   "codemirror_mode": {
    "name": "ipython",
    "version": 3
   },
   "file_extension": ".py",
   "mimetype": "text/x-python",
   "name": "python",
   "nbconvert_exporter": "python",
   "pygments_lexer": "ipython3",
   "version": "3.10.4"
  },
  "orig_nbformat": 4,
  "vscode": {
   "interpreter": {
    "hash": "690c9ea092c8a6fc9517542155c4d05fadb9e10c4733225e6f103cd30826cc12"
   }
  }
 },
 "nbformat": 4,
 "nbformat_minor": 2
}
