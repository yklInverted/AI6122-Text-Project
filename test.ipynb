{
 "cells": [
  {
   "cell_type": "code",
   "execution_count": 2,
   "metadata": {},
   "outputs": [],
   "source": [
    "import nltk\n",
    "import pandas as pd\n",
    "import sys\n",
    "import os\n",
    "\n"
   ]
  },
  {
   "cell_type": "code",
   "execution_count": 17,
   "metadata": {},
   "outputs": [
    {
     "name": "stderr",
     "output_type": "stream",
     "text": [
      "C:\\Users\\lky\\AppData\\Local\\Temp\\ipykernel_34768\\1815532722.py:5: FutureWarning: Starting with pandas version 2.0 all arguments of read_json except for the argument 'path_or_buf' will be keyword-only.\n",
      "  table = pd.read_json(data_path1, 'records', lines = True)\n"
     ]
    },
    {
     "data": {
      "text/plain": [
       "True"
      ]
     },
     "execution_count": 17,
     "metadata": {},
     "output_type": "execute_result"
    }
   ],
   "source": [
    "data_path1 = \"./data/Video_Games_5.json\"\n",
    "data_path2 = \"./data/Kindle_Store_5.json\"\n",
    "data_path3 = \"./data/Digital_Music_5.json\"\n",
    "\n",
    "table = pd.read_json(data_path1, 'records', lines = True)\n",
    "table is not None\n"
   ]
  },
  {
   "cell_type": "code",
   "execution_count": 24,
   "metadata": {},
   "outputs": [
    {
     "ename": "ModuleNotFoundError",
     "evalue": "No module named 'data_loader.DataLoader'; 'data_loader' is not a package",
     "output_type": "error",
     "traceback": [
      "\u001b[1;31m---------------------------------------------------------------------------\u001b[0m",
      "\u001b[1;31mModuleNotFoundError\u001b[0m                       Traceback (most recent call last)",
      "\u001b[1;32md:\\study\\NTU_LEARN\\AI6122 TEXT MANAGEMENT & PROCESSING\\project\\test.ipynb Cell 3\u001b[0m in \u001b[0;36m<cell line: 1>\u001b[1;34m()\u001b[0m\n\u001b[1;32m----> <a href='vscode-notebook-cell:/d%3A/study/NTU_LEARN/AI6122%20TEXT%20MANAGEMENT%20%26%20PROCESSING/project/test.ipynb#W5sZmlsZQ%3D%3D?line=0'>1</a>\u001b[0m \u001b[39mimport\u001b[39;00m  \u001b[39mdata_loader\u001b[39;00m\u001b[39m.\u001b[39;00m\u001b[39mDataLoader\u001b[39;00m\n\u001b[0;32m      <a href='vscode-notebook-cell:/d%3A/study/NTU_LEARN/AI6122%20TEXT%20MANAGEMENT%20%26%20PROCESSING/project/test.ipynb#W5sZmlsZQ%3D%3D?line=2'>3</a>\u001b[0m a \u001b[39m=\u001b[39m DataLoader()\n\u001b[0;32m      <a href='vscode-notebook-cell:/d%3A/study/NTU_LEARN/AI6122%20TEXT%20MANAGEMENT%20%26%20PROCESSING/project/test.ipynb#W5sZmlsZQ%3D%3D?line=3'>4</a>\u001b[0m a\u001b[39m.\u001b[39mload_table()\n",
      "\u001b[1;31mModuleNotFoundError\u001b[0m: No module named 'data_loader.DataLoader'; 'data_loader' is not a package"
     ]
    }
   ],
   "source": [
    "import  data_loader.DataLoader\n",
    "\n",
    "a = DataLoader()\n",
    "a.load_table()"
   ]
  },
  {
   "cell_type": "code",
   "execution_count": 4,
   "metadata": {},
   "outputs": [
    {
     "data": {
      "text/plain": [
       "['I got this version instead of the PS3 version, which turned out to be a mistake.',\n",
       " 'Console versions of games look 95 percent as good as their PC versions, but you do not have to deal with driver issues and the numerous things that can go wrong with windows.',\n",
       " 'First off the installation takes about 30 minutes, which is ridiculous.']"
      ]
     },
     "execution_count": 4,
     "metadata": {},
     "output_type": "execute_result"
    }
   ],
   "source": [
    "#sentence segmentation\n",
    "chunk = table['reviewText'][3]\n",
    "\n",
    "sentences = nltk.sent_tokenize(chunk)\n",
    "sentences[:3]"
   ]
  },
  {
   "cell_type": "code",
   "execution_count": 5,
   "metadata": {},
   "outputs": [
    {
     "data": {
      "text/plain": [
       "['I', 'got', 'this', 'version', 'instead', 'of', 'the', 'PS3', 'version', ',']"
      ]
     },
     "execution_count": 5,
     "metadata": {},
     "output_type": "execute_result"
    }
   ],
   "source": [
    "#tokenize\n",
    "sentence = sentences[0]\n",
    "\n",
    "tokens = nltk.word_tokenize(sentence)\n",
    "tokens[:10]"
   ]
  },
  {
   "cell_type": "code",
   "execution_count": 6,
   "metadata": {},
   "outputs": [
    {
     "data": {
      "text/plain": [
       "[('I', 'PRP'),\n",
       " ('got', 'VBD'),\n",
       " ('this', 'DT'),\n",
       " ('version', 'NN'),\n",
       " ('instead', 'RB')]"
      ]
     },
     "execution_count": 6,
     "metadata": {},
     "output_type": "execute_result"
    }
   ],
   "source": [
    "#pos tagging\n",
    "tagged = nltk.pos_tag(tokens)\n",
    "tagged[:5]"
   ]
  }
 ],
 "metadata": {
  "kernelspec": {
   "display_name": "Python 3.10.4 ('torch')",
   "language": "python",
   "name": "python3"
  },
  "language_info": {
   "codemirror_mode": {
    "name": "ipython",
    "version": 3
   },
   "file_extension": ".py",
   "mimetype": "text/x-python",
   "name": "python",
   "nbconvert_exporter": "python",
   "pygments_lexer": "ipython3",
   "version": "3.10.4"
  },
  "orig_nbformat": 4,
  "vscode": {
   "interpreter": {
    "hash": "690c9ea092c8a6fc9517542155c4d05fadb9e10c4733225e6f103cd30826cc12"
   }
  }
 },
 "nbformat": 4,
 "nbformat_minor": 2
}
