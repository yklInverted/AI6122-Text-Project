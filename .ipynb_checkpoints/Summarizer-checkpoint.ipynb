{
 "cells": [
  {
   "cell_type": "code",
   "execution_count": 1,
   "metadata": {},
   "outputs": [],
   "source": [
    "import nltk\n",
    "import pandas as pd\n",
    "import sys\n",
    "import os\n",
    "\n",
    "from data_loader import DataLoader"
   ]
  },
  {
   "cell_type": "code",
   "execution_count": 2,
   "metadata": {},
   "outputs": [
    {
     "name": "stderr",
     "output_type": "stream",
     "text": [
      "C:\\Users\\lijia\\Desktop\\MSAI\\Sem A\\AI6122\\Assignment1\\Hearts-of-Iron\\data_loader.py:13: FutureWarning: Starting with pandas version 2.0 all arguments of read_json except for the argument 'path_or_buf' will be keyword-only.\n",
      "  self.table = pd.read_json(data_path, 'records', lines = True);\n"
     ]
    },
    {
     "data": {
      "text/html": [
       "<div>\n",
       "<style scoped>\n",
       "    .dataframe tbody tr th:only-of-type {\n",
       "        vertical-align: middle;\n",
       "    }\n",
       "\n",
       "    .dataframe tbody tr th {\n",
       "        vertical-align: top;\n",
       "    }\n",
       "\n",
       "    .dataframe thead th {\n",
       "        text-align: right;\n",
       "    }\n",
       "</style>\n",
       "<table border=\"1\" class=\"dataframe\">\n",
       "  <thead>\n",
       "    <tr style=\"text-align: right;\">\n",
       "      <th></th>\n",
       "      <th>overall</th>\n",
       "      <th>vote</th>\n",
       "      <th>verified</th>\n",
       "      <th>reviewTime</th>\n",
       "      <th>reviewerID</th>\n",
       "      <th>asin</th>\n",
       "      <th>style</th>\n",
       "      <th>reviewerName</th>\n",
       "      <th>reviewText</th>\n",
       "      <th>summary</th>\n",
       "      <th>unixReviewTime</th>\n",
       "      <th>image</th>\n",
       "    </tr>\n",
       "  </thead>\n",
       "  <tbody>\n",
       "    <tr>\n",
       "      <th>0</th>\n",
       "      <td>4</td>\n",
       "      <td>NaN</td>\n",
       "      <td>True</td>\n",
       "      <td>03 18, 2016</td>\n",
       "      <td>A1S2L9211DXHL3</td>\n",
       "      <td>B017PDBZ1M</td>\n",
       "      <td>{'Format:': ' MP3 Music'}</td>\n",
       "      <td>Eric H.</td>\n",
       "      <td>Delightful!</td>\n",
       "      <td>Four Stars</td>\n",
       "      <td>1458259200</td>\n",
       "      <td>NaN</td>\n",
       "    </tr>\n",
       "    <tr>\n",
       "      <th>1</th>\n",
       "      <td>5</td>\n",
       "      <td>NaN</td>\n",
       "      <td>True</td>\n",
       "      <td>10 30, 2014</td>\n",
       "      <td>AW6WK8Q7UHAE6</td>\n",
       "      <td>B00KF2KMME</td>\n",
       "      <td>{'Format:': ' MP3 Music'}</td>\n",
       "      <td>Melinda Beckham</td>\n",
       "      <td>Great</td>\n",
       "      <td>Five Stars</td>\n",
       "      <td>1414627200</td>\n",
       "      <td>NaN</td>\n",
       "    </tr>\n",
       "    <tr>\n",
       "      <th>2</th>\n",
       "      <td>5</td>\n",
       "      <td>NaN</td>\n",
       "      <td>True</td>\n",
       "      <td>07 28, 2015</td>\n",
       "      <td>A5FYUZ5861YSJ</td>\n",
       "      <td>B001D7JRJO</td>\n",
       "      <td>{'Format:': ' MP3 Music'}</td>\n",
       "      <td>Charlene Morissaint</td>\n",
       "      <td>Love it</td>\n",
       "      <td>Five Stars</td>\n",
       "      <td>1438041600</td>\n",
       "      <td>NaN</td>\n",
       "    </tr>\n",
       "    <tr>\n",
       "      <th>3</th>\n",
       "      <td>5</td>\n",
       "      <td>NaN</td>\n",
       "      <td>True</td>\n",
       "      <td>05 19, 2014</td>\n",
       "      <td>A2378Y827M4QLC</td>\n",
       "      <td>B0011ZP544</td>\n",
       "      <td>{'Format:': ' MP3 Music'}</td>\n",
       "      <td>JAS</td>\n",
       "      <td>What more can I say about this song that you d...</td>\n",
       "      <td>So Strong and Powerful!</td>\n",
       "      <td>1400457600</td>\n",
       "      <td>NaN</td>\n",
       "    </tr>\n",
       "    <tr>\n",
       "      <th>4</th>\n",
       "      <td>5</td>\n",
       "      <td>NaN</td>\n",
       "      <td>True</td>\n",
       "      <td>12 15, 2017</td>\n",
       "      <td>A33FCZANJ9BWS7</td>\n",
       "      <td>B001KRW5UK</td>\n",
       "      <td>{'Format:': ' MP3 Music'}</td>\n",
       "      <td>bible lover</td>\n",
       "      <td>REMEMBER THE GOOD THINGS YOUR MOTHERS USED TO ...</td>\n",
       "      <td>NICE THROWBACK THAT NEEDS TO BE THROWN BACK IN</td>\n",
       "      <td>1513296000</td>\n",
       "      <td>NaN</td>\n",
       "    </tr>\n",
       "  </tbody>\n",
       "</table>\n",
       "</div>"
      ],
      "text/plain": [
       "   overall  vote  verified   reviewTime      reviewerID        asin  \\\n",
       "0        4   NaN      True  03 18, 2016  A1S2L9211DXHL3  B017PDBZ1M   \n",
       "1        5   NaN      True  10 30, 2014   AW6WK8Q7UHAE6  B00KF2KMME   \n",
       "2        5   NaN      True  07 28, 2015   A5FYUZ5861YSJ  B001D7JRJO   \n",
       "3        5   NaN      True  05 19, 2014  A2378Y827M4QLC  B0011ZP544   \n",
       "4        5   NaN      True  12 15, 2017  A33FCZANJ9BWS7  B001KRW5UK   \n",
       "\n",
       "                       style         reviewerName  \\\n",
       "0  {'Format:': ' MP3 Music'}              Eric H.   \n",
       "1  {'Format:': ' MP3 Music'}      Melinda Beckham   \n",
       "2  {'Format:': ' MP3 Music'}  Charlene Morissaint   \n",
       "3  {'Format:': ' MP3 Music'}                  JAS   \n",
       "4  {'Format:': ' MP3 Music'}          bible lover   \n",
       "\n",
       "                                          reviewText  \\\n",
       "0                                        Delightful!   \n",
       "1                                              Great   \n",
       "2                                            Love it   \n",
       "3  What more can I say about this song that you d...   \n",
       "4  REMEMBER THE GOOD THINGS YOUR MOTHERS USED TO ...   \n",
       "\n",
       "                                          summary  unixReviewTime image  \n",
       "0                                      Four Stars      1458259200   NaN  \n",
       "1                                      Five Stars      1414627200   NaN  \n",
       "2                                      Five Stars      1438041600   NaN  \n",
       "3                         So Strong and Powerful!      1400457600   NaN  \n",
       "4  NICE THROWBACK THAT NEEDS TO BE THROWN BACK IN      1513296000   NaN  "
      ]
     },
     "execution_count": 2,
     "metadata": {},
     "output_type": "execute_result"
    }
   ],
   "source": [
    "loader = DataLoader(DataLoader.data_path1)\n",
    "table = loader.load_table()\n",
    "table.head()"
   ]
  },
  {
   "cell_type": "code",
   "execution_count": 5,
   "metadata": {},
   "outputs": [
    {
     "data": {
      "text/plain": [
       "['REMEMBER THE GOOD THINGS YOUR MOTHERS USED TO SAY THAT ALWAYS MADE YOUR DAY!',\n",
       " 'SELF EXPLANATORY.',\n",
       " 'NICE  THROWBACK THAT NEEDS TO BE THROWN BACK IN!',\n",
       " 'WILL BE IN THE LIBRARY FOR MANY MANY YEARS TO COME!']"
      ]
     },
     "execution_count": 5,
     "metadata": {},
     "output_type": "execute_result"
    }
   ],
   "source": [
    "#Data Preprocess\n"
   ]
  },
  {
   "cell_type": "code",
   "execution_count": null,
   "metadata": {},
   "outputs": [],
   "source": []
  }
 ],
 "metadata": {
  "kernelspec": {
   "display_name": "Python 3 (ipykernel)",
   "language": "python",
   "name": "python3"
  },
  "language_info": {
   "codemirror_mode": {
    "name": "ipython",
    "version": 3
   },
   "file_extension": ".py",
   "mimetype": "text/x-python",
   "name": "python",
   "nbconvert_exporter": "python",
   "pygments_lexer": "ipython3",
   "version": "3.9.12"
  },
  "vscode": {
   "interpreter": {
    "hash": "1219d95d5844f6af4e0cf2878260c40dbf8742300f233955478158a2d2740a5e"
   }
  }
 },
 "nbformat": 4,
 "nbformat_minor": 2
}
